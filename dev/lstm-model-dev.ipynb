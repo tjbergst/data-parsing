{
 "cells": [
  {
   "cell_type": "markdown",
   "metadata": {},
   "source": [
    "# zerina project"
   ]
  },
  {
   "cell_type": "markdown",
   "metadata": {},
   "source": [
    "## setup"
   ]
  },
  {
   "cell_type": "code",
   "execution_count": 1,
   "metadata": {},
   "outputs": [
    {
     "name": "stderr",
     "output_type": "stream",
     "text": [
      "Using TensorFlow backend.\n"
     ]
    }
   ],
   "source": [
    "import pandas as pd\n",
    "import numpy as np\n",
    "import scipy\n",
    "from tqdm import tqdm_notebook\n",
    "\n",
    "from sklearn.pipeline import make_pipeline\n",
    "from sklearn.model_selection import train_test_split\n",
    "\n",
    "from sklearn.preprocessing import StandardScaler\n",
    "from sklearn.preprocessing import MinMaxScaler\n",
    "\n",
    "from keras.models import Sequential\n",
    "from keras.layers import Dense\n",
    "from keras.layers import LSTM"
   ]
  },
  {
   "cell_type": "code",
   "execution_count": null,
   "metadata": {},
   "outputs": [],
   "source": []
  },
  {
   "cell_type": "markdown",
   "metadata": {},
   "source": [
    "## data processing"
   ]
  },
  {
   "cell_type": "markdown",
   "metadata": {},
   "source": [
    "### read csv and preprocess"
   ]
  },
  {
   "cell_type": "code",
   "execution_count": 47,
   "metadata": {},
   "outputs": [
    {
     "data": {
      "text/html": [
       "<div>\n",
       "<style scoped>\n",
       "    .dataframe tbody tr th:only-of-type {\n",
       "        vertical-align: middle;\n",
       "    }\n",
       "\n",
       "    .dataframe tbody tr th {\n",
       "        vertical-align: top;\n",
       "    }\n",
       "\n",
       "    .dataframe thead th {\n",
       "        text-align: right;\n",
       "    }\n",
       "</style>\n",
       "<table border=\"1\" class=\"dataframe\">\n",
       "  <thead>\n",
       "    <tr style=\"text-align: right;\">\n",
       "      <th></th>\n",
       "      <th>time</th>\n",
       "      <th>length</th>\n",
       "      <th>rate</th>\n",
       "      <th>on_time</th>\n",
       "      <th>end_time</th>\n",
       "      <th>off_time</th>\n",
       "    </tr>\n",
       "  </thead>\n",
       "  <tbody>\n",
       "    <tr>\n",
       "      <th>0</th>\n",
       "      <td>0.0</td>\n",
       "      <td>1352</td>\n",
       "      <td>6000000.0</td>\n",
       "      <td>225.0</td>\n",
       "      <td>225.0</td>\n",
       "      <td>0.0</td>\n",
       "    </tr>\n",
       "    <tr>\n",
       "      <th>1</th>\n",
       "      <td>36341.0</td>\n",
       "      <td>312</td>\n",
       "      <td>24000000.0</td>\n",
       "      <td>13.0</td>\n",
       "      <td>36354.0</td>\n",
       "      <td>36116.0</td>\n",
       "    </tr>\n",
       "    <tr>\n",
       "      <th>2</th>\n",
       "      <td>39469.0</td>\n",
       "      <td>312</td>\n",
       "      <td>24000000.0</td>\n",
       "      <td>13.0</td>\n",
       "      <td>39482.0</td>\n",
       "      <td>3115.0</td>\n",
       "    </tr>\n",
       "    <tr>\n",
       "      <th>3</th>\n",
       "      <td>49356.0</td>\n",
       "      <td>2288</td>\n",
       "      <td>1000000.0</td>\n",
       "      <td>2288.0</td>\n",
       "      <td>51644.0</td>\n",
       "      <td>9874.0</td>\n",
       "    </tr>\n",
       "    <tr>\n",
       "      <th>4</th>\n",
       "      <td>50556.0</td>\n",
       "      <td>1008</td>\n",
       "      <td>1000000.0</td>\n",
       "      <td>1008.0</td>\n",
       "      <td>51564.0</td>\n",
       "      <td>0.0</td>\n",
       "    </tr>\n",
       "    <tr>\n",
       "      <th>5</th>\n",
       "      <td>64737.0</td>\n",
       "      <td>6584</td>\n",
       "      <td>6000000.0</td>\n",
       "      <td>1097.0</td>\n",
       "      <td>65834.0</td>\n",
       "      <td>13173.0</td>\n",
       "    </tr>\n",
       "    <tr>\n",
       "      <th>6</th>\n",
       "      <td>82497.0</td>\n",
       "      <td>312</td>\n",
       "      <td>24000000.0</td>\n",
       "      <td>13.0</td>\n",
       "      <td>82510.0</td>\n",
       "      <td>16663.0</td>\n",
       "    </tr>\n",
       "    <tr>\n",
       "      <th>7</th>\n",
       "      <td>85683.0</td>\n",
       "      <td>312</td>\n",
       "      <td>24000000.0</td>\n",
       "      <td>13.0</td>\n",
       "      <td>85696.0</td>\n",
       "      <td>3173.0</td>\n",
       "    </tr>\n",
       "    <tr>\n",
       "      <th>8</th>\n",
       "      <td>101354.0</td>\n",
       "      <td>312</td>\n",
       "      <td>6000000.0</td>\n",
       "      <td>52.0</td>\n",
       "      <td>101406.0</td>\n",
       "      <td>15658.0</td>\n",
       "    </tr>\n",
       "    <tr>\n",
       "      <th>9</th>\n",
       "      <td>103643.0</td>\n",
       "      <td>456</td>\n",
       "      <td>12000000.0</td>\n",
       "      <td>38.0</td>\n",
       "      <td>103681.0</td>\n",
       "      <td>2237.0</td>\n",
       "    </tr>\n",
       "  </tbody>\n",
       "</table>\n",
       "</div>"
      ],
      "text/plain": [
       "       time  length        rate  on_time  end_time  off_time\n",
       "0       0.0    1352   6000000.0    225.0     225.0       0.0\n",
       "1   36341.0     312  24000000.0     13.0   36354.0   36116.0\n",
       "2   39469.0     312  24000000.0     13.0   39482.0    3115.0\n",
       "3   49356.0    2288   1000000.0   2288.0   51644.0    9874.0\n",
       "4   50556.0    1008   1000000.0   1008.0   51564.0       0.0\n",
       "5   64737.0    6584   6000000.0   1097.0   65834.0   13173.0\n",
       "6   82497.0     312  24000000.0     13.0   82510.0   16663.0\n",
       "7   85683.0     312  24000000.0     13.0   85696.0    3173.0\n",
       "8  101354.0     312   6000000.0     52.0  101406.0   15658.0\n",
       "9  103643.0     456  12000000.0     38.0  103681.0    2237.0"
      ]
     },
     "execution_count": 47,
     "metadata": {},
     "output_type": "execute_result"
    }
   ],
   "source": [
    "tar_file = r'data/wifitrafficstats2.csv'\n",
    "#tar_file = r'data/wifitrafficstats3.csv'\n",
    "#tar_file = r'data/wifitrafficstats4.csv'\n",
    "#tar_file = r'data/wifitrafficstats5.csv'\n",
    "#tar_file = r'data/wifitrafficstats6.csv'\n",
    "\n",
    "df = (\n",
    "    pd\n",
    "    .read_csv(tar_file)\n",
    "    .rename({ \n",
    "        'Time':'time', \n",
    "        'Length':'length', \n",
    "        'TX Rate':'rate'\n",
    "    }, axis=1)\n",
    "    .eval('time = time * 1e6')\n",
    "    .eval('rate = rate * 1e6')\n",
    "    .eval('length = length * 8')\n",
    "    .eval('on_time = 1e6 * length / rate')\n",
    "    .eval('end_time = time + on_time')\n",
    "    .assign(\n",
    "        shift_time = lambda x: x.end_time.shift(1),\n",
    "        off_time = lambda x: [\n",
    "            (time - shift_time) \n",
    "                if (time - shift_time) > 0 else 0 \n",
    "            for time, shift_time in (zip(x.time, x.shift_time))\n",
    "    ])\n",
    "    .drop(['No.','Delta Time','shift_time'], axis=1)\n",
    "    .round(0)\n",
    ")\n",
    "\n",
    "\n",
    "\n",
    "df.head(10)"
   ]
  },
  {
   "cell_type": "markdown",
   "metadata": {},
   "source": [
    "### generate data list of `1`'s and `0`'s"
   ]
  },
  {
   "cell_type": "code",
   "execution_count": 65,
   "metadata": {},
   "outputs": [
    {
     "data": {
      "application/vnd.jupyter.widget-view+json": {
       "model_id": "3199ef8fb42a414ea45bebc1b1062c61",
       "version_major": 2,
       "version_minor": 0
      },
      "text/plain": [
       "HBox(children=(IntProgress(value=0, max=5310), HTML(value='')))"
      ]
     },
     "metadata": {},
     "output_type": "display_data"
    },
    {
     "name": "stdout",
     "output_type": "stream",
     "text": [
      "\n"
     ]
    }
   ],
   "source": [
    "# simpler way\n",
    "data_list = []\n",
    "\n",
    "for row in tqdm_notebook(df[['on_time','off_time']].iloc[1:].itertuples(), total=df.shape[0]-1):\n",
    "    data_list.extend([1 for i in range(int(row.on_time))])\n",
    "    data_list.extend([0 for i in range(int(row.off_time))])"
   ]
  },
  {
   "cell_type": "code",
   "execution_count": 63,
   "metadata": {},
   "outputs": [
    {
     "data": {
      "application/vnd.jupyter.widget-view+json": {
       "model_id": "f2d398deae9c43f2b080c83d952bc4f7",
       "version_major": 2,
       "version_minor": 0
      },
      "text/plain": [
       "HBox(children=(IntProgress(value=0, max=5310), HTML(value='')))"
      ]
     },
     "metadata": {},
     "output_type": "display_data"
    },
    {
     "name": "stdout",
     "output_type": "stream",
     "text": [
      "\n"
     ]
    }
   ],
   "source": [
    "# this method is unncessary complicated, but it runs twice as fast..\n",
    "data_list = [\n",
    "    item for sublist in\n",
    "    [\n",
    "        [1 for i in range(int(row.on_time))] + [0 for i in range(int(row.off_time))]\n",
    "        for row in tqdm_notebook(\n",
    "            df[['on_time','off_time']].iloc[1:].itertuples(), \n",
    "            total=df.shape[0]-1\n",
    "        )\n",
    "    ]\n",
    "    for item in sublist\n",
    "]"
   ]
  },
  {
   "cell_type": "markdown",
   "metadata": {},
   "source": [
    "### downsample 10x\n",
    "\n",
    "note: investigate `scipy.signal.decimate` and `scipy.signal.resample`"
   ]
  },
  {
   "cell_type": "code",
   "execution_count": 124,
   "metadata": {},
   "outputs": [],
   "source": [
    "# reshape into rows of 10, take mean of each row to create new array\n",
    "down_sample_factor = 10\n",
    "\n",
    "data_list_down10 = (\n",
    "    data_list\n",
    "    .reshape(-1, down_sample_factor)\n",
    "    .mean(axis=1, dtype='int')\n",
    ")\n",
    "\n",
    "assert len(data_list) / len(data_list_down10) == down_sample_factor"
   ]
  },
  {
   "cell_type": "code",
   "execution_count": null,
   "metadata": {},
   "outputs": [],
   "source": []
  },
  {
   "cell_type": "code",
   "execution_count": null,
   "metadata": {},
   "outputs": [],
   "source": []
  },
  {
   "cell_type": "markdown",
   "metadata": {},
   "source": [
    "### create state length feature"
   ]
  },
  {
   "cell_type": "code",
   "execution_count": 125,
   "metadata": {},
   "outputs": [
    {
     "data": {
      "application/vnd.jupyter.widget-view+json": {
       "model_id": "b0926a2177264282b9a801d7af0a2682",
       "version_major": 2,
       "version_minor": 0
      },
      "text/plain": [
       "HBox(children=(IntProgress(value=0, max=4043197), HTML(value='')))"
      ]
     },
     "metadata": {},
     "output_type": "display_data"
    },
    {
     "name": "stdout",
     "output_type": "stream",
     "text": [
      "\n"
     ]
    }
   ],
   "source": [
    "prev = 1\n",
    "same_state_count = 0\n",
    "running_total = []\n",
    "\n",
    "for val in tqdm_notebook(data_list_down10):    \n",
    "    \n",
    "    # if same\n",
    "    if (val - prev) == 0:\n",
    "        same_state_count += 1\n",
    "        running_total.append(same_state_count)\n",
    "        \n",
    "        prev = val\n",
    "    \n",
    "    # if going 1 -> 0 or 0 -> 1\n",
    "    else:\n",
    "        same_state_count = 0\n",
    "        running_total.append(same_state_count)\n",
    "        \n",
    "        prev = val"
   ]
  },
  {
   "cell_type": "markdown",
   "metadata": {},
   "source": [
    "### fast get all state lengths"
   ]
  },
  {
   "cell_type": "code",
   "execution_count": 129,
   "metadata": {},
   "outputs": [
    {
     "data": {
      "text/plain": [
       "array([  1,   1, 228, 210,   1,   5,   3,   3,   1,   1,   1,  21, 109,\n",
       "        62, 230,   2,   1,  30,  31, 109], dtype=int64)"
      ]
     },
     "metadata": {},
     "output_type": "display_data"
    },
    {
     "name": "stdout",
     "output_type": "stream",
     "text": [
      "Wall time: 66.2 ms\n"
     ]
    }
   ],
   "source": [
    "%%time\n",
    "data_list = np.array(data_list_down10)\n",
    "\n",
    "state_lengths = np.diff(\n",
    "    np.where(\n",
    "        np.concatenate(\n",
    "            ([data_list[0]],\n",
    "             data_list[:-1] != data_list[1:],\n",
    "             [0]\n",
    "            )\n",
    "        )\n",
    "    )[0]\n",
    ")[::2]\n",
    "\n",
    "display(state_lengths[:20])"
   ]
  },
  {
   "cell_type": "code",
   "execution_count": null,
   "metadata": {},
   "outputs": [],
   "source": []
  },
  {
   "cell_type": "markdown",
   "metadata": {},
   "source": [
    "### final processing"
   ]
  },
  {
   "cell_type": "code",
   "execution_count": 130,
   "metadata": {},
   "outputs": [
    {
     "data": {
      "text/html": [
       "<div>\n",
       "<style scoped>\n",
       "    .dataframe tbody tr th:only-of-type {\n",
       "        vertical-align: middle;\n",
       "    }\n",
       "\n",
       "    .dataframe tbody tr th {\n",
       "        vertical-align: top;\n",
       "    }\n",
       "\n",
       "    .dataframe thead th {\n",
       "        text-align: right;\n",
       "    }\n",
       "</style>\n",
       "<table border=\"1\" class=\"dataframe\">\n",
       "  <thead>\n",
       "    <tr style=\"text-align: right;\">\n",
       "      <th></th>\n",
       "      <th>data</th>\n",
       "      <th>running</th>\n",
       "    </tr>\n",
       "  </thead>\n",
       "  <tbody>\n",
       "    <tr>\n",
       "      <th>0</th>\n",
       "      <td>1</td>\n",
       "      <td>1</td>\n",
       "    </tr>\n",
       "    <tr>\n",
       "      <th>1</th>\n",
       "      <td>0</td>\n",
       "      <td>0</td>\n",
       "    </tr>\n",
       "    <tr>\n",
       "      <th>2</th>\n",
       "      <td>0</td>\n",
       "      <td>1</td>\n",
       "    </tr>\n",
       "    <tr>\n",
       "      <th>3</th>\n",
       "      <td>0</td>\n",
       "      <td>2</td>\n",
       "    </tr>\n",
       "    <tr>\n",
       "      <th>4</th>\n",
       "      <td>0</td>\n",
       "      <td>3</td>\n",
       "    </tr>\n",
       "  </tbody>\n",
       "</table>\n",
       "</div>"
      ],
      "text/plain": [
       "   data  running\n",
       "0     1        1\n",
       "1     0        0\n",
       "2     0        1\n",
       "3     0        2\n",
       "4     0        3"
      ]
     },
     "execution_count": 130,
     "metadata": {},
     "output_type": "execute_result"
    }
   ],
   "source": [
    "wdf = pd.DataFrame({\n",
    "    #'data':data_list,\n",
    "    'data':data_list_down10,\n",
    "    'running':running_total\n",
    "})\n",
    "\n",
    "wdf.head()"
   ]
  },
  {
   "cell_type": "code",
   "execution_count": 131,
   "metadata": {},
   "outputs": [],
   "source": [
    "X = wdf.values[:-1]\n",
    "y = wdf.data.values[1:]"
   ]
  },
  {
   "cell_type": "markdown",
   "metadata": {},
   "source": [
    "### dev"
   ]
  },
  {
   "cell_type": "code",
   "execution_count": null,
   "metadata": {},
   "outputs": [],
   "source": []
  },
  {
   "cell_type": "code",
   "execution_count": null,
   "metadata": {},
   "outputs": [],
   "source": []
  },
  {
   "cell_type": "markdown",
   "metadata": {},
   "source": [
    "## model"
   ]
  },
  {
   "cell_type": "markdown",
   "metadata": {},
   "source": [
    "### fit lstm"
   ]
  },
  {
   "cell_type": "code",
   "execution_count": 132,
   "metadata": {},
   "outputs": [],
   "source": [
    "def fit_lstm(trainx, trainy, batch_size=1, nb_epoch=3000, neurons=4):\n",
    "    X, y = trainx, trainy\n",
    "    X = X.reshape(X.shape[0], 1, X.shape[1])\n",
    "    model = Sequential()\n",
    "    model.add(LSTM(neurons, batch_input_shape=(batch_size, X.shape[1], X.shape[2]), stateful=True))\n",
    "    model.add(Dense(1))\n",
    "    model.compile(loss='mean_squared_error', optimizer='adam')\n",
    "    for i in range(nb_epoch):\n",
    "        model.fit(X, y, epochs=1, batch_size=batch_size, verbose=0, shuffle=False)\n",
    "        model.reset_states()\n",
    "    return model"
   ]
  },
  {
   "cell_type": "code",
   "execution_count": null,
   "metadata": {},
   "outputs": [
    {
     "name": "stdout",
     "output_type": "stream",
     "text": [
      "WARNING:tensorflow:From C:\\Users\\je023d\\AppData\\Local\\Continuum\\anaconda3\\envs\\py36-prime\\lib\\site-packages\\tensorflow\\python\\framework\\op_def_library.py:263: colocate_with (from tensorflow.python.framework.ops) is deprecated and will be removed in a future version.\n",
      "Instructions for updating:\n",
      "Colocations handled automatically by placer.\n",
      "WARNING:tensorflow:From C:\\Users\\je023d\\AppData\\Local\\Continuum\\anaconda3\\envs\\py36-prime\\lib\\site-packages\\tensorflow\\python\\ops\\math_ops.py:3066: to_int32 (from tensorflow.python.ops.math_ops) is deprecated and will be removed in a future version.\n",
      "Instructions for updating:\n",
      "Use tf.cast instead.\n"
     ]
    }
   ],
   "source": [
    "%time fit_lstm(X, y)"
   ]
  },
  {
   "cell_type": "code",
   "execution_count": null,
   "metadata": {},
   "outputs": [],
   "source": []
  },
  {
   "cell_type": "markdown",
   "metadata": {},
   "source": [
    "### forecast one step"
   ]
  },
  {
   "cell_type": "code",
   "execution_count": null,
   "metadata": {},
   "outputs": [],
   "source": [
    "def forecast_lstm(model, batch_size=1, X):\n",
    "    X = X.reshape(1, 1, len(X))\n",
    "    yhat = model.predict(X, batch_size=batch_size)\n",
    "    return yhat[0,0]"
   ]
  },
  {
   "cell_type": "code",
   "execution_count": null,
   "metadata": {},
   "outputs": [],
   "source": []
  },
  {
   "cell_type": "code",
   "execution_count": null,
   "metadata": {},
   "outputs": [],
   "source": []
  },
  {
   "cell_type": "code",
   "execution_count": null,
   "metadata": {},
   "outputs": [],
   "source": []
  },
  {
   "cell_type": "code",
   "execution_count": null,
   "metadata": {},
   "outputs": [],
   "source": []
  },
  {
   "cell_type": "code",
   "execution_count": null,
   "metadata": {},
   "outputs": [],
   "source": []
  },
  {
   "cell_type": "markdown",
   "metadata": {},
   "source": [
    "## dev"
   ]
  },
  {
   "cell_type": "code",
   "execution_count": 58,
   "metadata": {},
   "outputs": [
    {
     "data": {
      "text/plain": [
       "DataTransformerRegistry.enable('json')"
      ]
     },
     "execution_count": 58,
     "metadata": {},
     "output_type": "execute_result"
    }
   ],
   "source": [
    "import altair as alt\n",
    "from _altair_functions import alt_hist\n",
    "alt.data_transformers.enable('json')"
   ]
  },
  {
   "cell_type": "code",
   "execution_count": 66,
   "metadata": {},
   "outputs": [
    {
     "data": {
      "application/vnd.vegalite.v2+json": {
       "$schema": "https://vega.github.io/schema/vega-lite/v2.6.0.json",
       "config": {
        "background": "#abb2bf",
        "view": {
         "height": 300,
         "width": 400
        }
       },
       "data": {
        "format": {
         "type": "json"
        },
        "url": "altair-data-db47a2527e82b260f04d5742ae56c4df.json"
       },
       "encoding": {
        "x": {
         "bin": {
          "maxbins": 50
         },
         "field": "on_time",
         "type": "quantitative"
        },
        "y": {
         "aggregate": "count",
         "field": "on_time",
         "type": "quantitative"
        }
       },
       "height": 250,
       "mark": "bar",
       "title": "on_time",
       "width": 400
      },
      "image/png": "[encoded data removed]",
      "text/plain": [
       "<VegaLite 2 object>\n",
       "\n",
       "If you see this message, it means the renderer has not been properly enabled\n",
       "for the frontend that you are using. For more information, see\n",
       "https://altair-viz.github.io/user_guide/troubleshooting.html\n"
      ]
     },
     "metadata": {},
     "output_type": "display_data"
    },
    {
     "data": {
      "application/vnd.vegalite.v2+json": {
       "$schema": "https://vega.github.io/schema/vega-lite/v2.6.0.json",
       "config": {
        "background": "#abb2bf",
        "view": {
         "height": 300,
         "width": 400
        }
       },
       "data": {
        "format": {
         "type": "json"
        },
        "url": "altair-data-db47a2527e82b260f04d5742ae56c4df.json"
       },
       "encoding": {
        "x": {
         "bin": {
          "maxbins": 50
         },
         "field": "off_time",
         "type": "quantitative"
        },
        "y": {
         "aggregate": "count",
         "field": "off_time",
         "type": "quantitative"
        }
       },
       "height": 250,
       "mark": "bar",
       "title": "off_time",
       "width": 400
      },
      "image/png": "[encoded data removed]",
      "text/plain": [
       "<VegaLite 2 object>\n",
       "\n",
       "If you see this message, it means the renderer has not been properly enabled\n",
       "for the frontend that you are using. For more information, see\n",
       "https://altair-viz.github.io/user_guide/troubleshooting.html\n"
      ]
     },
     "metadata": {},
     "output_type": "display_data"
    }
   ],
   "source": [
    "alt_hist(df, ['on_time','off_time'], maxbins=50)"
   ]
  },
  {
   "cell_type": "code",
   "execution_count": null,
   "metadata": {},
   "outputs": [],
   "source": []
  },
  {
   "cell_type": "code",
   "execution_count": null,
   "metadata": {},
   "outputs": [],
   "source": []
  },
  {
   "cell_type": "code",
   "execution_count": null,
   "metadata": {},
   "outputs": [],
   "source": []
  }
 ],
 "metadata": {
  "kernelspec": {
   "display_name": "Python 3",
   "language": "python",
   "name": "python3"
  },
  "language_info": {
   "codemirror_mode": {
    "name": "ipython",
    "version": 3
   },
   "file_extension": ".py",
   "mimetype": "text/x-python",
   "name": "python",
   "nbconvert_exporter": "python",
   "pygments_lexer": "ipython3",
   "version": "3.6.5"
  }
 },
 "nbformat": 4,
 "nbformat_minor": 2
}
