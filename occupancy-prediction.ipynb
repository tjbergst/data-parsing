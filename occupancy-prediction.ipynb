{
 "cells": [
  {
   "cell_type": "markdown",
   "metadata": {},
   "source": [
    "# occupancy prediction\n",
    "\n",
    "![img](data/IMG_6435.jpg)"
   ]
  },
  {
   "cell_type": "markdown",
   "metadata": {},
   "source": [
    "plan:\n",
    "- split `real_data_array` into `timeunit` chunks\n",
    "- compute transition matrix for each chunk\n",
    "- simulate `timeunit` length of data using each transition matrix\n",
    "- compare simulated data to each respective real data chunk\n",
    "- make sure to normalize the *`timestep`* with `scipy.signal.decimate`\n",
    "<br>\n",
    "<br>"
   ]
  },
  {
   "cell_type": "code",
   "execution_count": 5,
   "metadata": {},
   "outputs": [],
   "source": [
    "import pandas as pd\n",
    "import numpy as np\n",
    "import scipy as sp\n",
    "from tqdm import tqdm_notebook, tnrange, trange, tqdm\n",
    "from itertools import cycle\n",
    "from collections import Counter\n",
    "from pathlib import Path\n",
    "import time\n",
    "\n",
    "import altair as alt\n",
    "from altair.expr import datum\n",
    "\n",
    "from _modules.wifi_traffic_analyzer import WifiTrafficAnalyzer"
   ]
  },
  {
   "cell_type": "markdown",
   "metadata": {},
   "source": [
    "## params"
   ]
  },
  {
   "cell_type": "code",
   "execution_count": 35,
   "metadata": {},
   "outputs": [],
   "source": [
    "real_data_tstep = 1/20e6\n",
    "\n",
    "timeunit = 10_000"
   ]
  },
  {
   "cell_type": "markdown",
   "metadata": {},
   "source": [
    "## configs"
   ]
  },
  {
   "cell_type": "code",
   "execution_count": 7,
   "metadata": {},
   "outputs": [],
   "source": [
    "real_data_path_dict = {\n",
    "    'real_2': Path(r'data/wifitrafficstats2.csv'),\n",
    "    'real_3': Path(r'data/wifitrafficstats3.csv'),\n",
    "    'real_4': Path(r'data/wifitrafficstats4.csv'),\n",
    "    'real_5': Path(r'data/wifitrafficstats5.csv'),\n",
    "    'real_6': Path(r'data/wifitrafficstats6.csv')\n",
    "}\n",
    "\n",
    "transition_matrices_path_dict = {\n",
    "    'tmat_1': Path(r'data/wifi_t_matrices.csv'),\n",
    "    #'tmat_2': Path(r'data/wifi_t_matrices2.csv')\n",
    "}"
   ]
  },
  {
   "cell_type": "markdown",
   "metadata": {},
   "source": [
    "## occupancy predictor"
   ]
  },
  {
   "cell_type": "markdown",
   "metadata": {},
   "source": [
    "### convert to real data array"
   ]
  },
  {
   "cell_type": "code",
   "execution_count": 38,
   "metadata": {},
   "outputs": [
    {
     "name": "stdout",
     "output_type": "stream",
     "text": [
      "initializing..\n",
      "initialization complete, mode: real\n",
      "real data options: \n",
      "\tkey: real_2, path: data/wifitrafficstats2.csv\n",
      "\tkey: real_3, path: data/wifitrafficstats3.csv\n",
      "\tkey: real_4, path: data/wifitrafficstats4.csv\n",
      "\tkey: real_5, path: data/wifitrafficstats5.csv\n",
      "\tkey: real_6, path: data/wifitrafficstats6.csv\n"
     ]
    }
   ],
   "source": [
    "WTA_real = WifiTrafficAnalyzer(mode='real', path_dict=real_data_path_dict)"
   ]
  },
  {
   "cell_type": "code",
   "execution_count": 39,
   "metadata": {},
   "outputs": [],
   "source": [
    "def convert_and_reshape(WTA_real_instance, file_key, timeunit):\n",
    "    WTA_real_instance.process_real_data(file_key)\n",
    "    data_array = WTA_real_instance.real_data_array\n",
    "\n",
    "    print(f'generated real data array, size: {data_array.shape}')\n",
    "    \n",
    "    data_matrix = (\n",
    "        data_array[\n",
    "            :int(timeunit*np.round(len(data_array) / timeunit))\n",
    "        ].reshape((-1, timeunit))\n",
    "    )\n",
    "    print(f'reshaped into {data_matrix.shape[0]} : {timeunit}µs chunks')\n",
    "    \n",
    "    return data_matrix"
   ]
  },
  {
   "cell_type": "code",
   "execution_count": 41,
   "metadata": {},
   "outputs": [
    {
     "data": {
      "application/vnd.jupyter.widget-view+json": {
       "model_id": "5b13ff7cc8474516a65283766330c703",
       "version_major": 2,
       "version_minor": 0
      },
      "text/plain": [
       "HBox(children=(IntProgress(value=0, max=5310), HTML(value='')))"
      ]
     },
     "metadata": {},
     "output_type": "display_data"
    },
    {
     "name": "stdout",
     "output_type": "stream",
     "text": [
      "\n",
      "generated real data array, size: (40431970,)\n",
      "reshaped into 4043 : 10000µs chunks\n"
     ]
    }
   ],
   "source": [
    "data_matrix = convert_and_reshape(WTA_real, 'real_2', timeunit)"
   ]
  },
  {
   "cell_type": "code",
   "execution_count": null,
   "metadata": {},
   "outputs": [],
   "source": []
  },
  {
   "cell_type": "code",
   "execution_count": null,
   "metadata": {},
   "outputs": [],
   "source": []
  },
  {
   "cell_type": "code",
   "execution_count": 10,
   "metadata": {},
   "outputs": [
    {
     "data": {
      "application/vnd.jupyter.widget-view+json": {
       "model_id": "9b43f57589204797a80a9e2e921a80e4",
       "version_major": 2,
       "version_minor": 0
      },
      "text/plain": [
       "HBox(children=(IntProgress(value=0, max=5310), HTML(value='')))"
      ]
     },
     "metadata": {},
     "output_type": "display_data"
    },
    {
     "name": "stdout",
     "output_type": "stream",
     "text": [
      "\n",
      "generated real data array, size: (40431970,)\n"
     ]
    }
   ],
   "source": [
    "WTA_real.process_real_data('real_2')\n",
    "data_array = WTA_real.real_data_array\n",
    "\n",
    "print(f'generated real data array, size: {data_array.shape}')"
   ]
  },
  {
   "cell_type": "code",
   "execution_count": null,
   "metadata": {},
   "outputs": [],
   "source": []
  },
  {
   "cell_type": "markdown",
   "metadata": {},
   "source": [
    "### reshaping array into `timeunit` chunks"
   ]
  },
  {
   "cell_type": "code",
   "execution_count": 36,
   "metadata": {},
   "outputs": [
    {
     "name": "stdout",
     "output_type": "stream",
     "text": [
      "reshaped into 4043 : 10000µs chunks\n"
     ]
    }
   ],
   "source": [
    "data_matrix = data_array[:int(timeunit*np.round(len(data_array) / timeunit))].reshape((-1, timeunit))\n",
    "print(f'reshaped into {data_matrix.shape[0]} : {timeunit}µs chunks')"
   ]
  },
  {
   "cell_type": "code",
   "execution_count": null,
   "metadata": {},
   "outputs": [],
   "source": []
  },
  {
   "cell_type": "markdown",
   "metadata": {},
   "source": [
    "### `compute_transition_matrix`"
   ]
  },
  {
   "cell_type": "code",
   "execution_count": 15,
   "metadata": {},
   "outputs": [],
   "source": [
    "def compute_transition_matrix(row, timeunit):\n",
    "    onon, onoff, offon, offoff = 0, 0, 0, 0\n",
    "    \n",
    "    for i in range(timeunit-1):    \n",
    "        # if ON -> ON\n",
    "        if row[i] == row[i+1] == 1:\n",
    "            onon += 1\n",
    "            \n",
    "        # if ON -> OFF\n",
    "        elif row[i] == 1 and row[i+1] == 0:\n",
    "            onoff += 1\n",
    "            \n",
    "        # if OFF -> ON\n",
    "        elif row[i] == 0 and row[i+1] == 1:\n",
    "            offon += 1\n",
    "            \n",
    "        #if OFF -> OFF\n",
    "        elif row[i] == row[i+1] == 0:\n",
    "            offoff += 1\n",
    "            \n",
    "    try:\n",
    "        p_onon = onon / (onon + onoff)\n",
    "    except ZeroDivisionError:\n",
    "        p_onon = 0\n",
    "    \n",
    "    try:\n",
    "        p_offoff = offoff / (offoff + offon)\n",
    "    except ZeroDivisionError:\n",
    "        p_offoff = 0\n",
    "        \n",
    "    try:\n",
    "        p_onoff = onoff / (onon + onoff)\n",
    "    except ZeroDivisionError:\n",
    "        p_onoff = 0\n",
    "        \n",
    "    try:\n",
    "        p_offon = offon / (offoff + offon)\n",
    "    except ZeroDivisionError:\n",
    "        p_offon = 0\n",
    "        \n",
    "    \n",
    "    return (p_onon, p_onoff, p_offon, p_offoff)"
   ]
  },
  {
   "cell_type": "code",
   "execution_count": null,
   "metadata": {},
   "outputs": [],
   "source": []
  },
  {
   "cell_type": "code",
   "execution_count": 16,
   "metadata": {},
   "outputs": [],
   "source": [
    "row = data_matrix[5,:]"
   ]
  },
  {
   "cell_type": "code",
   "execution_count": 17,
   "metadata": {},
   "outputs": [
    {
     "data": {
      "text/plain": [
       "array([0, 0, 0, ..., 0, 0, 0])"
      ]
     },
     "execution_count": 17,
     "metadata": {},
     "output_type": "execute_result"
    }
   ],
   "source": [
    "row"
   ]
  },
  {
   "cell_type": "code",
   "execution_count": 22,
   "metadata": {},
   "outputs": [
    {
     "data": {
      "text/plain": [
       "(0.9995249406175772,\n",
       " 0.00047505938242280285,\n",
       " 0.0001266784899923993,\n",
       " 0.9998733215100076)"
      ]
     },
     "execution_count": 22,
     "metadata": {},
     "output_type": "execute_result"
    }
   ],
   "source": [
    "compute_transition_matrix(row, timeunit)"
   ]
  },
  {
   "cell_type": "code",
   "execution_count": null,
   "metadata": {},
   "outputs": [],
   "source": []
  },
  {
   "cell_type": "code",
   "execution_count": null,
   "metadata": {},
   "outputs": [],
   "source": []
  },
  {
   "cell_type": "markdown",
   "metadata": {},
   "source": [
    "### compute all transition matrices"
   ]
  },
  {
   "cell_type": "code",
   "execution_count": 32,
   "metadata": {},
   "outputs": [],
   "source": [
    "def compute_tmats_load_df(data_matrix, timeunit):\n",
    "    # compute all transition matrices\n",
    "    tmat_array = [\n",
    "        compute_transition_matrix(\n",
    "            data_matrix[idx,:],\n",
    "            timeunit\n",
    "        )\n",
    "        for idx in tnrange(data_matrix.shape[0])\n",
    "    ]\n",
    "    \n",
    "    # load dataframe\n",
    "    tmat_df = (\n",
    "        pd\n",
    "        .DataFrame(\n",
    "            tmat_array, \n",
    "            columns=['onon', 'onoff', 'offon', 'offoff']\n",
    "        ).assign(\n",
    "            timeunit = timeunit\n",
    "        )\n",
    "    )\n",
    "    \n",
    "    return tmat_df    "
   ]
  },
  {
   "cell_type": "code",
   "execution_count": 37,
   "metadata": {},
   "outputs": [
    {
     "data": {
      "application/vnd.jupyter.widget-view+json": {
       "model_id": "665e7f6763aa4631863690da0a07ee2c",
       "version_major": 2,
       "version_minor": 0
      },
      "text/plain": [
       "HBox(children=(IntProgress(value=0, max=4043), HTML(value='')))"
      ]
     },
     "metadata": {},
     "output_type": "display_data"
    },
    {
     "name": "stdout",
     "output_type": "stream",
     "text": [
      "\n"
     ]
    }
   ],
   "source": [
    "tmat_df = compute_tmats_load_df(data_matrix, timeunit)"
   ]
  },
  {
   "cell_type": "code",
   "execution_count": null,
   "metadata": {},
   "outputs": [],
   "source": []
  },
  {
   "cell_type": "code",
   "execution_count": null,
   "metadata": {},
   "outputs": [],
   "source": []
  },
  {
   "cell_type": "code",
   "execution_count": 26,
   "metadata": {},
   "outputs": [
    {
     "data": {
      "application/vnd.jupyter.widget-view+json": {
       "model_id": "bfb62a447dea4165b614b566549afed8",
       "version_major": 2,
       "version_minor": 0
      },
      "text/plain": [
       "HBox(children=(IntProgress(value=0, max=4043), HTML(value='')))"
      ]
     },
     "metadata": {},
     "output_type": "display_data"
    },
    {
     "name": "stdout",
     "output_type": "stream",
     "text": [
      "\n"
     ]
    }
   ],
   "source": [
    "tmat_array = [\n",
    "    compute_transition_matrix(\n",
    "        data_matrix[idx,:],\n",
    "        timeunit\n",
    "    )\n",
    "    for idx in tnrange(data_matrix.shape[0])\n",
    "]"
   ]
  },
  {
   "cell_type": "code",
   "execution_count": 28,
   "metadata": {},
   "outputs": [
    {
     "data": {
      "text/plain": [
       "4043"
      ]
     },
     "execution_count": 28,
     "metadata": {},
     "output_type": "execute_result"
    }
   ],
   "source": [
    "len(tmat_array)"
   ]
  },
  {
   "cell_type": "code",
   "execution_count": null,
   "metadata": {},
   "outputs": [],
   "source": [
    "tmat_array"
   ]
  },
  {
   "cell_type": "code",
   "execution_count": null,
   "metadata": {},
   "outputs": [],
   "source": []
  },
  {
   "cell_type": "code",
   "execution_count": null,
   "metadata": {},
   "outputs": [],
   "source": []
  },
  {
   "cell_type": "code",
   "execution_count": 31,
   "metadata": {},
   "outputs": [
    {
     "data": {
      "text/html": [
       "<div>\n",
       "<style scoped>\n",
       "    .dataframe tbody tr th:only-of-type {\n",
       "        vertical-align: middle;\n",
       "    }\n",
       "\n",
       "    .dataframe tbody tr th {\n",
       "        vertical-align: top;\n",
       "    }\n",
       "\n",
       "    .dataframe thead th {\n",
       "        text-align: right;\n",
       "    }\n",
       "</style>\n",
       "<table border=\"1\" class=\"dataframe\">\n",
       "  <thead>\n",
       "    <tr style=\"text-align: right;\">\n",
       "      <th></th>\n",
       "      <th>onon</th>\n",
       "      <th>onoff</th>\n",
       "      <th>offon</th>\n",
       "      <th>offoff</th>\n",
       "      <th>timeunit</th>\n",
       "    </tr>\n",
       "  </thead>\n",
       "  <tbody>\n",
       "    <tr>\n",
       "      <th>0</th>\n",
       "      <td>0.923077</td>\n",
       "      <td>0.076923</td>\n",
       "      <td>0.000000</td>\n",
       "      <td>1.000000</td>\n",
       "      <td>10000</td>\n",
       "    </tr>\n",
       "    <tr>\n",
       "      <th>1</th>\n",
       "      <td>0.000000</td>\n",
       "      <td>0.000000</td>\n",
       "      <td>0.000000</td>\n",
       "      <td>1.000000</td>\n",
       "      <td>10000</td>\n",
       "    </tr>\n",
       "    <tr>\n",
       "      <th>2</th>\n",
       "      <td>0.000000</td>\n",
       "      <td>0.000000</td>\n",
       "      <td>0.000000</td>\n",
       "      <td>1.000000</td>\n",
       "      <td>10000</td>\n",
       "    </tr>\n",
       "    <tr>\n",
       "      <th>3</th>\n",
       "      <td>0.998675</td>\n",
       "      <td>0.001325</td>\n",
       "      <td>0.000216</td>\n",
       "      <td>0.999784</td>\n",
       "      <td>10000</td>\n",
       "    </tr>\n",
       "    <tr>\n",
       "      <th>4</th>\n",
       "      <td>0.999353</td>\n",
       "      <td>0.000647</td>\n",
       "      <td>0.000000</td>\n",
       "      <td>1.000000</td>\n",
       "      <td>10000</td>\n",
       "    </tr>\n",
       "  </tbody>\n",
       "</table>\n",
       "</div>"
      ],
      "text/plain": [
       "       onon     onoff     offon    offoff  timeunit\n",
       "0  0.923077  0.076923  0.000000  1.000000     10000\n",
       "1  0.000000  0.000000  0.000000  1.000000     10000\n",
       "2  0.000000  0.000000  0.000000  1.000000     10000\n",
       "3  0.998675  0.001325  0.000216  0.999784     10000\n",
       "4  0.999353  0.000647  0.000000  1.000000     10000"
      ]
     },
     "execution_count": 31,
     "metadata": {},
     "output_type": "execute_result"
    }
   ],
   "source": [
    "tmat_df = pd.DataFrame(tmat_array, columns=['onon', 'onoff', 'offon', 'offoff']).assign(timeunit = timeunit)\n",
    "\n",
    "tmat_df.head()"
   ]
  },
  {
   "cell_type": "code",
   "execution_count": 157,
   "metadata": {},
   "outputs": [
    {
     "data": {
      "text/plain": [
       "(1886, 4)"
      ]
     },
     "execution_count": 157,
     "metadata": {},
     "output_type": "execute_result"
    }
   ],
   "source": [
    "tmat_df.loc[\n",
    "    lambda x: [\n",
    "        True \n",
    "            if onon == 0 and onoff == 0 \n",
    "            else False \n",
    "        for onon, onoff in zip(x.onon, x.onoff)\n",
    "    ]\n",
    "].shape"
   ]
  },
  {
   "cell_type": "code",
   "execution_count": 154,
   "metadata": {},
   "outputs": [
    {
     "data": {
      "text/plain": [
       "(4043, 4)"
      ]
     },
     "execution_count": 154,
     "metadata": {},
     "output_type": "execute_result"
    }
   ],
   "source": [
    "tmat_df.shape"
   ]
  },
  {
   "cell_type": "code",
   "execution_count": 155,
   "metadata": {},
   "outputs": [
    {
     "data": {
      "text/plain": [
       "0.46648528320554045"
      ]
     },
     "execution_count": 155,
     "metadata": {},
     "output_type": "execute_result"
    }
   ],
   "source": [
    "1886 /4043"
   ]
  },
  {
   "cell_type": "code",
   "execution_count": null,
   "metadata": {},
   "outputs": [],
   "source": []
  },
  {
   "cell_type": "code",
   "execution_count": null,
   "metadata": {},
   "outputs": [],
   "source": []
  },
  {
   "cell_type": "code",
   "execution_count": null,
   "metadata": {},
   "outputs": [],
   "source": []
  },
  {
   "cell_type": "code",
   "execution_count": null,
   "metadata": {},
   "outputs": [],
   "source": []
  },
  {
   "cell_type": "code",
   "execution_count": null,
   "metadata": {},
   "outputs": [],
   "source": []
  },
  {
   "cell_type": "code",
   "execution_count": null,
   "metadata": {},
   "outputs": [],
   "source": []
  },
  {
   "cell_type": "code",
   "execution_count": null,
   "metadata": {},
   "outputs": [],
   "source": []
  },
  {
   "cell_type": "code",
   "execution_count": null,
   "metadata": {},
   "outputs": [],
   "source": []
  },
  {
   "cell_type": "code",
   "execution_count": null,
   "metadata": {},
   "outputs": [],
   "source": []
  }
 ],
 "metadata": {
  "kernelspec": {
   "display_name": "Python 3",
   "language": "python",
   "name": "python3"
  },
  "language_info": {
   "codemirror_mode": {
    "name": "ipython",
    "version": 3
   },
   "file_extension": ".py",
   "mimetype": "text/x-python",
   "name": "python",
   "nbconvert_exporter": "python",
   "pygments_lexer": "ipython3",
   "version": "3.6.5"
  }
 },
 "nbformat": 4,
 "nbformat_minor": 2
}
