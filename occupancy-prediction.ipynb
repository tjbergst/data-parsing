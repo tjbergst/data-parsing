{
 "cells": [
  {
   "cell_type": "markdown",
   "metadata": {},
   "source": [
    "# occupancy prediction\n",
    "\n",
    "![img](data/IMG_6435.jpg)"
   ]
  },
  {
   "cell_type": "markdown",
   "metadata": {},
   "source": [
    "plan:\n",
    "- split `real_data_array` into `timeunit` chunks\n",
    "- compute transition matrix for each chunk\n",
    "- simulate `timeunit` length of data using each transition matrix\n",
    "- compare simulated data to each respective real data chunk\n",
    "- make sure to normalize the *`timestep`* with `scipy.signal.decimate`\n",
    "<br>\n",
    "<br>"
   ]
  },
  {
   "cell_type": "code",
   "execution_count": 1,
   "metadata": {},
   "outputs": [],
   "source": [
    "import pandas as pd\n",
    "import numpy as np\n",
    "import scipy as sp\n",
    "from tqdm import tqdm_notebook, tnrange, trange, tqdm\n",
    "from itertools import cycle\n",
    "from collections import Counter\n",
    "from pathlib import Path\n",
    "import time\n",
    "\n",
    "import altair as alt\n",
    "from altair.expr import datum"
   ]
  },
  {
   "cell_type": "markdown",
   "metadata": {},
   "source": [
    "## params"
   ]
  },
  {
   "cell_type": "code",
   "execution_count": 9,
   "metadata": {},
   "outputs": [],
   "source": [
    "real_data_tstep = 1/20e6"
   ]
  },
  {
   "cell_type": "markdown",
   "metadata": {},
   "source": [
    "## configs"
   ]
  },
  {
   "cell_type": "code",
   "execution_count": 2,
   "metadata": {},
   "outputs": [],
   "source": [
    "real_data_path_dict = {\n",
    "    'real_2': Path(r'data/wifitrafficstats2.csv'),\n",
    "    'real_3': Path(r'data/wifitrafficstats3.csv'),\n",
    "    'real_4': Path(r'data/wifitrafficstats4.csv'),\n",
    "    'real_5': Path(r'data/wifitrafficstats5.csv'),\n",
    "    'real_6': Path(r'data/wifitrafficstats6.csv')\n",
    "}\n",
    "\n",
    "transition_matrices_path_dict = {\n",
    "    'tmat_1': Path(r'data/wifi_t_matrices.csv'),\n",
    "    #'tmat_2': Path(r'data/wifi_t_matrices2.csv')\n",
    "}"
   ]
  },
  {
   "cell_type": "markdown",
   "metadata": {},
   "source": [
    "## occupancy predictor"
   ]
  },
  {
   "cell_type": "code",
   "execution_count": 5,
   "metadata": {},
   "outputs": [
    {
     "name": "stdout",
     "output_type": "stream",
     "text": [
      "initializing..\n",
      "initialization complete, mode: real\n",
      "real data options: \n",
      "\tkey: real_2, path: data/wifitrafficstats2.csv\n",
      "\tkey: real_3, path: data/wifitrafficstats3.csv\n",
      "\tkey: real_4, path: data/wifitrafficstats4.csv\n",
      "\tkey: real_5, path: data/wifitrafficstats5.csv\n",
      "\tkey: real_6, path: data/wifitrafficstats6.csv\n"
     ]
    }
   ],
   "source": [
    "WTA_real = WifiTrafficAnalyzer(mode='real', path_dict=real_data_path_dict)"
   ]
  },
  {
   "cell_type": "code",
   "execution_count": 6,
   "metadata": {},
   "outputs": [
    {
     "data": {
      "application/vnd.jupyter.widget-view+json": {
       "model_id": "76fa5e13a7404782ad18b630fd4a849f",
       "version_major": 2,
       "version_minor": 0
      },
      "text/plain": [
       "HBox(children=(IntProgress(value=0, max=5310), HTML(value='')))"
      ]
     },
     "metadata": {},
     "output_type": "display_data"
    },
    {
     "name": "stdout",
     "output_type": "stream",
     "text": [
      "\n"
     ]
    }
   ],
   "source": [
    "WTA_real.process_real_data('real_2')"
   ]
  },
  {
   "cell_type": "code",
   "execution_count": 7,
   "metadata": {},
   "outputs": [
    {
     "data": {
      "text/plain": [
       "40431970"
      ]
     },
     "execution_count": 7,
     "metadata": {},
     "output_type": "execute_result"
    }
   ],
   "source": [
    "len(WTA_real.real_data_array)"
   ]
  },
  {
   "cell_type": "code",
   "execution_count": 8,
   "metadata": {},
   "outputs": [
    {
     "data": {
      "text/plain": [
       "array([1, 1, 1, 1, 1, 1, 1, 1, 1, 1])"
      ]
     },
     "execution_count": 8,
     "metadata": {},
     "output_type": "execute_result"
    }
   ],
   "source": [
    "WTA_real.real_data_array[:10]"
   ]
  },
  {
   "cell_type": "code",
   "execution_count": 26,
   "metadata": {},
   "outputs": [],
   "source": [
    "data_array = WTA_real.real_data_array"
   ]
  },
  {
   "cell_type": "markdown",
   "metadata": {},
   "source": [
    "### reshaping array into `10ms` chunks"
   ]
  },
  {
   "cell_type": "code",
   "execution_count": 35,
   "metadata": {},
   "outputs": [],
   "source": [
    "timeunit = 10_000"
   ]
  },
  {
   "cell_type": "code",
   "execution_count": 37,
   "metadata": {},
   "outputs": [
    {
     "data": {
      "text/plain": [
       "4043.0"
      ]
     },
     "execution_count": 37,
     "metadata": {},
     "output_type": "execute_result"
    }
   ],
   "source": [
    "np.round(len(data_array) / timeunit)"
   ]
  },
  {
   "cell_type": "code",
   "execution_count": 52,
   "metadata": {},
   "outputs": [],
   "source": [
    "data_matrix = data_array[:int(timeunit*np.round(len(data_array) / timeunit))].reshape((-1, timeunit))"
   ]
  },
  {
   "cell_type": "markdown",
   "metadata": {},
   "source": [
    "### compute transition matrix"
   ]
  },
  {
   "cell_type": "code",
   "execution_count": 97,
   "metadata": {},
   "outputs": [],
   "source": [
    "row = data_matrix[5,:]"
   ]
  },
  {
   "cell_type": "code",
   "execution_count": 98,
   "metadata": {},
   "outputs": [
    {
     "data": {
      "text/plain": [
       "array([0, 0, 0, ..., 0, 0, 0])"
      ]
     },
     "execution_count": 98,
     "metadata": {},
     "output_type": "execute_result"
    }
   ],
   "source": [
    "row"
   ]
  },
  {
   "cell_type": "code",
   "execution_count": 138,
   "metadata": {},
   "outputs": [],
   "source": [
    "def compute_transition_matrix(row, timeunit):\n",
    "    onon, onoff, offon, offoff = 0, 0, 0, 0\n",
    "    \n",
    "    for i in range(timeunit-1):    \n",
    "        # if ON -> ON\n",
    "        if row[i] == row[i+1] == 1:\n",
    "            onon += 1\n",
    "            \n",
    "        # if ON -> OFF\n",
    "        elif row[i] == 1 and row[i+1] == 0:\n",
    "            onoff += 1\n",
    "            \n",
    "        # if OFF -> ON\n",
    "        elif row[i] == 0 and row[i+1] == 1:\n",
    "            offon += 1\n",
    "            \n",
    "        #if OFF -> OFF\n",
    "        elif row[i] == row[i+1] == 0:\n",
    "            offoff += 1\n",
    "            \n",
    "    try:\n",
    "        p_onon = onon / (onon + onoff)\n",
    "    except ZeroDivisionError:\n",
    "        p_onon = 0\n",
    "    \n",
    "    try:\n",
    "        p_offoff = offoff / (offoff + offon)\n",
    "    except ZeroDivisionError:\n",
    "        p_offoff = 0\n",
    "        \n",
    "    try:\n",
    "        p_onoff = onoff / (onon + onoff)\n",
    "    except ZeroDivisionError:\n",
    "        p_onoff = 0\n",
    "        \n",
    "    try:\n",
    "        p_offon = offon / (offoff + offon)\n",
    "    except ZeroDivisionError:\n",
    "        p_offon = 0\n",
    "        \n",
    "    \n",
    "    return [p_onon, p_onoff, p_offon, p_offoff]    "
   ]
  },
  {
   "cell_type": "code",
   "execution_count": null,
   "metadata": {},
   "outputs": [],
   "source": []
  },
  {
   "cell_type": "code",
   "execution_count": null,
   "metadata": {},
   "outputs": [],
   "source": []
  },
  {
   "cell_type": "code",
   "execution_count": null,
   "metadata": {},
   "outputs": [],
   "source": []
  },
  {
   "cell_type": "markdown",
   "metadata": {},
   "source": [
    "### compute all trnasition matrices"
   ]
  },
  {
   "cell_type": "code",
   "execution_count": 139,
   "metadata": {},
   "outputs": [
    {
     "data": {
      "application/vnd.jupyter.widget-view+json": {
       "model_id": "fcde93de2ec74415a79057fbb86f49e4",
       "version_major": 2,
       "version_minor": 0
      },
      "text/plain": [
       "HBox(children=(IntProgress(value=0, max=4043), HTML(value='')))"
      ]
     },
     "metadata": {},
     "output_type": "display_data"
    }
   ],
   "source": [
    "tmat_array = np.array([\n",
    "    compute_transition_matrix(\n",
    "        data_matrix[idx,:],\n",
    "        timeunit\n",
    "    )\n",
    "    for idx in tnrange(data_matrix.shape[0])\n",
    "])"
   ]
  },
  {
   "cell_type": "code",
   "execution_count": 141,
   "metadata": {},
   "outputs": [
    {
     "data": {
      "text/plain": [
       "(4043, 4)"
      ]
     },
     "execution_count": 141,
     "metadata": {},
     "output_type": "execute_result"
    }
   ],
   "source": [
    "tmat_array.shape"
   ]
  },
  {
   "cell_type": "code",
   "execution_count": 140,
   "metadata": {},
   "outputs": [
    {
     "data": {
      "text/plain": [
       "array([[0.92307692, 0.07692308, 0.        , 1.        ],\n",
       "       [0.        , 0.        , 0.        , 1.        ],\n",
       "       [0.        , 0.        , 0.        , 1.        ],\n",
       "       ...,\n",
       "       [0.99481865, 0.00518135, 0.00067866, 0.99932134],\n",
       "       [0.        , 0.        , 0.        , 1.        ],\n",
       "       [0.        , 0.        , 0.        , 1.        ]])"
      ]
     },
     "execution_count": 140,
     "metadata": {},
     "output_type": "execute_result"
    }
   ],
   "source": [
    "tmat_array"
   ]
  },
  {
   "cell_type": "code",
   "execution_count": 147,
   "metadata": {},
   "outputs": [
    {
     "data": {
      "text/html": [
       "<div>\n",
       "<style scoped>\n",
       "    .dataframe tbody tr th:only-of-type {\n",
       "        vertical-align: middle;\n",
       "    }\n",
       "\n",
       "    .dataframe tbody tr th {\n",
       "        vertical-align: top;\n",
       "    }\n",
       "\n",
       "    .dataframe thead th {\n",
       "        text-align: right;\n",
       "    }\n",
       "</style>\n",
       "<table border=\"1\" class=\"dataframe\">\n",
       "  <thead>\n",
       "    <tr style=\"text-align: right;\">\n",
       "      <th></th>\n",
       "      <th>onon</th>\n",
       "      <th>onoff</th>\n",
       "      <th>offon</th>\n",
       "      <th>offoff</th>\n",
       "    </tr>\n",
       "  </thead>\n",
       "  <tbody>\n",
       "    <tr>\n",
       "      <th>0</th>\n",
       "      <td>0.923077</td>\n",
       "      <td>0.076923</td>\n",
       "      <td>0.000000</td>\n",
       "      <td>1.000000</td>\n",
       "    </tr>\n",
       "    <tr>\n",
       "      <th>1</th>\n",
       "      <td>0.000000</td>\n",
       "      <td>0.000000</td>\n",
       "      <td>0.000000</td>\n",
       "      <td>1.000000</td>\n",
       "    </tr>\n",
       "    <tr>\n",
       "      <th>2</th>\n",
       "      <td>0.000000</td>\n",
       "      <td>0.000000</td>\n",
       "      <td>0.000000</td>\n",
       "      <td>1.000000</td>\n",
       "    </tr>\n",
       "    <tr>\n",
       "      <th>3</th>\n",
       "      <td>0.998675</td>\n",
       "      <td>0.001325</td>\n",
       "      <td>0.000216</td>\n",
       "      <td>0.999784</td>\n",
       "    </tr>\n",
       "    <tr>\n",
       "      <th>4</th>\n",
       "      <td>0.999353</td>\n",
       "      <td>0.000647</td>\n",
       "      <td>0.000000</td>\n",
       "      <td>1.000000</td>\n",
       "    </tr>\n",
       "  </tbody>\n",
       "</table>\n",
       "</div>"
      ],
      "text/plain": [
       "       onon     onoff     offon    offoff\n",
       "0  0.923077  0.076923  0.000000  1.000000\n",
       "1  0.000000  0.000000  0.000000  1.000000\n",
       "2  0.000000  0.000000  0.000000  1.000000\n",
       "3  0.998675  0.001325  0.000216  0.999784\n",
       "4  0.999353  0.000647  0.000000  1.000000"
      ]
     },
     "execution_count": 147,
     "metadata": {},
     "output_type": "execute_result"
    }
   ],
   "source": [
    "tmat_df = pd.DataFrame(tmat_array, columns=['onon', 'onoff', 'offon', 'offoff'])\n",
    "\n",
    "tmat_df.head()"
   ]
  },
  {
   "cell_type": "code",
   "execution_count": 157,
   "metadata": {},
   "outputs": [
    {
     "data": {
      "text/plain": [
       "(1886, 4)"
      ]
     },
     "execution_count": 157,
     "metadata": {},
     "output_type": "execute_result"
    }
   ],
   "source": [
    "tmat_df.loc[\n",
    "    lambda x: [\n",
    "        True \n",
    "            if onon == 0 and onoff == 0 \n",
    "            else False \n",
    "        for onon, onoff in zip(x.onon, x.onoff)\n",
    "    ]\n",
    "].shape"
   ]
  },
  {
   "cell_type": "code",
   "execution_count": 154,
   "metadata": {},
   "outputs": [
    {
     "data": {
      "text/plain": [
       "(4043, 4)"
      ]
     },
     "execution_count": 154,
     "metadata": {},
     "output_type": "execute_result"
    }
   ],
   "source": [
    "tmat_df.shape"
   ]
  },
  {
   "cell_type": "code",
   "execution_count": 155,
   "metadata": {},
   "outputs": [
    {
     "data": {
      "text/plain": [
       "0.46648528320554045"
      ]
     },
     "execution_count": 155,
     "metadata": {},
     "output_type": "execute_result"
    }
   ],
   "source": [
    "1886 /4043"
   ]
  },
  {
   "cell_type": "code",
   "execution_count": null,
   "metadata": {},
   "outputs": [],
   "source": []
  },
  {
   "cell_type": "code",
   "execution_count": null,
   "metadata": {},
   "outputs": [],
   "source": []
  },
  {
   "cell_type": "code",
   "execution_count": null,
   "metadata": {},
   "outputs": [],
   "source": []
  },
  {
   "cell_type": "code",
   "execution_count": null,
   "metadata": {},
   "outputs": [],
   "source": []
  },
  {
   "cell_type": "code",
   "execution_count": null,
   "metadata": {},
   "outputs": [],
   "source": []
  },
  {
   "cell_type": "markdown",
   "metadata": {},
   "source": [
    "## class `WifiTrafficAnalyzer`"
   ]
  },
  {
   "cell_type": "code",
   "execution_count": 4,
   "metadata": {},
   "outputs": [],
   "source": [
    "class WifiTrafficAnalyzer:\n",
    "    def __init__(self, mode, path_dict): \n",
    "        print('initializing..')\n",
    "        \n",
    "        # set mode\n",
    "        mode_options = ['sim','real']\n",
    "        self.mode = mode.strip().lower()\n",
    "        assert self.mode in mode_options, \\\n",
    "            f'error: invalid mode {self.mode}, options are {mode_options}'\n",
    "        \n",
    "        # load path dict\n",
    "        self.path_dict = path_dict\n",
    "        for path in self.path_dict.values():\n",
    "            try:\n",
    "                assert path.exists()\n",
    "            except AssertionError:\n",
    "                print(f'no file found at path: {path}')\n",
    "            except AttributeError:\n",
    "                print('invalid path format, must be pathlib.Path object')\n",
    "        \n",
    "        print(f'initialization complete, mode: {self.mode}')\n",
    "        print(f'{self.mode} data options: ')\n",
    "        for key, path in self.path_dict.items():\n",
    "                print(f'\\tkey: {key}, path: {path}')\n",
    "                \n",
    "        self.sim_data_output_path = lambda tstep: Path(f'data/sim_data_{tstep}_microsec.csv')\n",
    "        \n",
    "        \n",
    "    \n",
    "    #------------------------------ real data ------------------------------\n",
    "    def process_real_data(self, tar_key):\n",
    "        '''\n",
    "        takes csv of recorded wifi traffic (identified by key) and stores \n",
    "        a dataframe ready to be turned into data list ([1,1,1,0,0,1,1,0,0,0])\n",
    "        '''\n",
    "        # validate target file selection\n",
    "        try:\n",
    "            assert tar_key in self.path_dict.keys()\n",
    "        except AssertionError:\n",
    "            print(f'invalid key {tar_key}, options are {list(self.path_dict.keys())}')\n",
    "            \n",
    "        real_df = (\n",
    "            pd\n",
    "            .read_csv(self.path_dict[tar_key])\n",
    "            .rename({ \n",
    "                'Time':'time', \n",
    "                'Length':'length', \n",
    "                'TX Rate':'rate'\n",
    "            }, axis=1)\n",
    "            .eval('time = time * 1e6')\n",
    "            .eval('rate = rate * 1e6')\n",
    "            .eval('length = length * 8')\n",
    "            .eval('on_time = 1e6 * length / rate')\n",
    "            .eval('end_time = time + on_time')\n",
    "            .assign(\n",
    "                shift_time = lambda x: x.end_time.shift(1),\n",
    "                off_time = lambda x: [\n",
    "                    (time - shift_time) \n",
    "                        if (time - shift_time) > 0 else 0 \n",
    "                    for time, shift_time in (zip(x.time, x.shift_time))\n",
    "            ])\n",
    "            .drop(['No.','Delta Time','shift_time'], axis=1)\n",
    "            .round(0)\n",
    "        )\n",
    "        \n",
    "        self.generate_real_data_list(real_df)\n",
    "    \n",
    "    \n",
    "    def generate_real_data_list(self, df):\n",
    "        '''\n",
    "        takes dataframe with 'on_time' and 'off_time' time stamp columns \n",
    "        and stores a numpy array of 1's (on_time) and 0's (off_time)\n",
    "        '''\n",
    "        \n",
    "        real_data_list = []\n",
    "    \n",
    "        for row in tqdm_notebook(df[['on_time','off_time']].iloc[1:].itertuples(), total=df.shape[0]-1):\n",
    "            real_data_list.extend([1 for i in range(int(row.on_time))])\n",
    "            real_data_list.extend([0 for i in range(int(row.off_time))])\n",
    "        \n",
    "        self.real_data_array = np.array(real_data_list, copy=True)\n",
    "        \n",
    "        self.format_real_data()\n",
    "        \n",
    "    def format_real_data(self):\n",
    "        data_0, data_1 = self.get_split_state_lengths(self.real_data_array)\n",
    "        \n",
    "        df_0 = (\n",
    "            pd\n",
    "            .DataFrame(\n",
    "                Counter(data_0).most_common(), \n",
    "                columns=['duration','frequency']\n",
    "            )\n",
    "            .sort_values('duration')\n",
    "            .reset_index(drop=True)\n",
    "            .assign(bit = 0)\n",
    "        )\n",
    "        \n",
    "        df_1 = (\n",
    "            pd\n",
    "            .DataFrame(\n",
    "                Counter(data_1).most_common(), \n",
    "                columns=['duration','frequency']\n",
    "            )\n",
    "            .sort_values('duration')\n",
    "            .reset_index(drop=True)\n",
    "            .assign(bit = 1)\n",
    "        )\n",
    "        \n",
    "        self.full_real_df = pd.concat([df_0, df_1])\n",
    "        \n",
    "    \n",
    "    #------------------------------ sim data ------------------------------\n",
    "    def process_transition_matrices(self, tar_key):\n",
    "        # validate target file selection\n",
    "        try:\n",
    "            assert tar_key in self.path_dict.keys()\n",
    "        except AssertionError:\n",
    "            print(f'invalid key {tar_key}, options are {list(self.path_dict.keys())}')\n",
    "        \n",
    "        \n",
    "        self.tmat_df = (\n",
    "            pd\n",
    "            .read_csv(\n",
    "                self.path_dict[tar_key], \n",
    "                names=['OnOn','OnOff','OffOn','OffOff','timestep']\n",
    "            )\n",
    "            #.eval('OffOff = 1 - OffOff')\n",
    "            #.eval('OffOn = 1 - OffOn')\n",
    "            [['OnOn', 'OnOff', 'OffOff', 'OffOn', 'timestep']]\n",
    "        )\n",
    "        \n",
    "    \n",
    "    \n",
    "    def generate_sim_data(self, n_samples, m_trials, transition_matrix):\n",
    "        '''\n",
    "        takes a transition matrix and generates a simulated signal\n",
    "        with <n_samples> bits and <m_trials> trials, stores an n x m \n",
    "        matrix\n",
    "        '''\n",
    "            \n",
    "        cycle_dict = {\n",
    "            (1,1,1): 0,\n",
    "            (1,1,0): 1,\n",
    "            (1,0,1): 2,\n",
    "            (1,0,0): 1,\n",
    "            (0,1,1): 1,\n",
    "            (0,1,0): 2,\n",
    "            (0,0,1): 1,\n",
    "            (0,0,0): 0,\n",
    "        }\n",
    "        \n",
    "        global p\n",
    "        p = 0.5\n",
    "        sim_matrix = np.zeros((int(m_trials), int(n_samples)))        \n",
    "        state_cycler = cycle(transition_matrix)\n",
    "        \n",
    "        def cycle_states():\n",
    "            return next(state_cycler)\n",
    "        \n",
    "        def generate_bit(n):\n",
    "            global p\n",
    "            \n",
    "            if n == 0:\n",
    "                return np.random.binomial(1, p)\n",
    "                \n",
    "            else:\n",
    "                for i in range(n):\n",
    "                    p = cycle_states()\n",
    "    \n",
    "                return np.random.binomial(1, p)\n",
    "            \n",
    "        for i in tnrange(m_trials, leave=False):\n",
    "            sim_data = [1,1,1]\n",
    "            p = 0.5\n",
    "            \n",
    "            for _ in range(n_samples + 1):        \n",
    "                new_bit = generate_bit(cycle_dict[tuple(sim_data[-3:])])        \n",
    "                sim_data.append(new_bit)\n",
    "                \n",
    "            sim_matrix[i,:] = np.array(sim_data[4:])\n",
    "        \n",
    "        return sim_matrix\n",
    "    \n",
    "        \n",
    "    def simulate_all_transition_matrices(self, n_samples=int(1e5), m_trials=10, output_data=False):        \n",
    "        start_time = time.time()\n",
    "\n",
    "        self.stats_dict = self.master_dictionary = {\n",
    "            row.timestep: {}\n",
    "            for row in self.tmat_df.itertuples()\n",
    "        }\n",
    "        \n",
    "        for row in tqdm_notebook(self.tmat_df.itertuples(), total=self.tmat_df.shape[0]):\n",
    "            transition_matrix = [row.OnOn, row.OnOff, row.OffOff, row.OffOn]\n",
    "            sim_matrix = self.generate_sim_data(n_samples, m_trials, transition_matrix)    \n",
    "            \n",
    "            self.master_dictionary[row.timestep] = self.compute_sim_stats(sim_matrix)\n",
    "            \n",
    "            # output data\n",
    "            if output_data:\n",
    "                np.savetxt(\n",
    "                    self.sim_data_output_path(row.timestep),\n",
    "                    sim_matrix,\n",
    "                    delimiter=','\n",
    "                )\n",
    "\n",
    "            \n",
    "        print(f'total elapsed time: {(time.time() - start_time)/60:0.2f} minutes')\n",
    "        \n",
    "        self.post_process_sim_stats()\n",
    "    \n",
    "    \n",
    "    \n",
    "    def compute_sim_stats(self, sim_matrix):\n",
    "        sample_size = sim_matrix.shape[1]\n",
    "        stats = sim_matrix.sum(axis=1)\n",
    "                        \n",
    "        state_lengths_0 = [\n",
    "            item for sublist in\n",
    "            [\n",
    "                list(self.get_split_state_lengths(sim_matrix[i,:])[0])\n",
    "                for i in range(sim_matrix.shape[0])\n",
    "            ]\n",
    "            for item in sublist\n",
    "        ]\n",
    "        \n",
    "        state_lengths_1 = [\n",
    "            item for sublist in\n",
    "            [\n",
    "                list(self.get_split_state_lengths(sim_matrix[i,:])[1])\n",
    "                for i in range(sim_matrix.shape[0])\n",
    "            ]\n",
    "            for item in sublist\n",
    "        ]\n",
    "        \n",
    "        return {\n",
    "            'mean': np.mean(stats) / sample_size,\n",
    "            'std': np.std(stats) / sample_size,\n",
    "            'state_lengths_0': Counter(state_lengths_0).most_common(),\n",
    "            'state_lengths_1': Counter(state_lengths_1).most_common()\n",
    "        }\n",
    "    \n",
    "    def post_process_sim_stats(self):\n",
    "        '''\n",
    "        takes previously computed self.master_dictionary and splits it into two dataframes\n",
    "            full_df: duration, frequency, bit, timestep for all simulations\n",
    "            stats_df: mean and std of m_trials\n",
    "        '''\n",
    "        \n",
    "        self.df_dict_0 = {\n",
    "            tstep: (\n",
    "                pd.DataFrame(\n",
    "                    stats['state_lengths_0'], \n",
    "                    columns=['duration','frequency']\n",
    "                )\n",
    "                .sort_values('duration')\n",
    "                .reset_index(drop=True)\n",
    "                .assign(\n",
    "                    timestep = tstep,\n",
    "                    bit = 0\n",
    "                )\n",
    "            )\n",
    "            for tstep, stats in self.master_dictionary.items()\n",
    "        }\n",
    "        \n",
    "        self.df_dict_1 = {\n",
    "            tstep: (\n",
    "                pd.DataFrame(\n",
    "                    stats['state_lengths_1'], \n",
    "                    columns=['duration','frequency']\n",
    "                )\n",
    "                .sort_values('duration')\n",
    "                .reset_index(drop=True)\n",
    "                .assign(\n",
    "                    timestep = tstep,\n",
    "                    bit = 1\n",
    "                )\n",
    "            )\n",
    "            for tstep, stats in self.master_dictionary.items()\n",
    "        }\n",
    "        \n",
    "        self.full_sim_df = pd.concat(\n",
    "            [df for df in self.df_dict_0.values()] + [df for df in self.df_dict_1.values()]\n",
    "        )\n",
    "        \n",
    "        stats_list = [\n",
    "            {\n",
    "                'timestep': timestep,\n",
    "                'mean': stats['mean'],\n",
    "                'std': stats['std']\n",
    "            }\n",
    "            for timestep, stats in self.master_dictionary.items()\n",
    "        ]\n",
    "        \n",
    "        self.stats_df = pd.DataFrame(stats_list)[['timestep','mean','std']]\n",
    "    \n",
    "    \n",
    "    \n",
    "    #------------------------------ common functions ------------------------------\n",
    "    def get_split_state_lengths(self, data):\n",
    "        '''\n",
    "        takes data list ([1,1,0,1,0,0,...]) and returns separate\n",
    "        numpy arrays of duration of consecutive bits ([13,245,2588,19,1056,...])\n",
    "        for 1's and for 0's\n",
    "        '''\n",
    "        \n",
    "        data = np.array(data)    \n",
    "        \n",
    "        state_lengths = np.diff(\n",
    "            np.where(\n",
    "                np.concatenate(\n",
    "                    ([data[0]],\n",
    "                     data[:-1] != data[1:],\n",
    "                     [0]\n",
    "                    )\n",
    "                )\n",
    "            )[0]\n",
    "        )[::2]\n",
    "        \n",
    "        # split\n",
    "        if data[0] == 0:\n",
    "            data_0 = state_lengths[0::2]\n",
    "            data_1 = state_lengths[1::2]\n",
    "        else:\n",
    "            data_0 = state_lengths[1::2]\n",
    "            data_1 = state_lengths[0::2]\n",
    "            \n",
    "        return data_0, data_1\n",
    "    \n",
    "    \n",
    "   \n",
    "    \n",
    "    #------------------------------ visualization ------------------------------\n",
    "    def state_length_vs_timestep_real(self, chart_type='bar', background_color='#abb2bf', lower_bound=25, upper_bound=2500):\n",
    "        '''\n",
    "        creates interactive charts showing distributions of on and off times for simulated data\n",
    "        \n",
    "        chart types:\n",
    "            bar: bar chart (histogram)\n",
    "            area: area chart (filled line chart)\n",
    "            \n",
    "        background_color:\n",
    "            hex code for chart background color, ex:\n",
    "                #abb2bf - grey\n",
    "                #ffffff - white\n",
    "        '''\n",
    "        \n",
    "        full_real_df = (\n",
    "            self\n",
    "            .full_real_df\n",
    "            .groupby(['bit','duration'])\n",
    "            .frequency\n",
    "            .sum()\n",
    "            .reset_index()\n",
    "        )\n",
    "       \n",
    "        \n",
    "        detail_bar_chart = alt.Chart(\n",
    "            full_real_df,\n",
    "            height=375,\n",
    "            width=800\n",
    "        ).mark_bar(\n",
    "            opacity=0.5\n",
    "        ).transform_filter(\n",
    "            datum.duration > lower_bound\n",
    "        ).transform_filter(\n",
    "            datum.duration < upper_bound\n",
    "        ).encode(\n",
    "            alt.X('duration:Q'),\n",
    "            alt.Y(\n",
    "                'frequency:Q', \n",
    "                #scale=alt.Scale(type='log')\n",
    "            ),\n",
    "            tooltip=[\n",
    "                alt.Tooltip('duration:Q'),\n",
    "                alt.Tooltip('frequency:Q'),\n",
    "                alt.Tooltip('bit:N'),\n",
    "            ]\n",
    "        )\n",
    "        \n",
    "        detail_area_chart = alt.Chart(\n",
    "            full_real_df,\n",
    "            height=375,\n",
    "            width=800\n",
    "        ).mark_area(\n",
    "            opacity=0.5\n",
    "        ).transform_filter(\n",
    "            datum.duration > lower_bound\n",
    "        ).transform_filter(\n",
    "            datum.duration < upper_bound\n",
    "        ).encode(\n",
    "            alt.X('duration:Q'),\n",
    "            alt.Y(\n",
    "                'frequency:Q', \n",
    "                #scale=alt.Scale(type='log')\n",
    "            ),\n",
    "            tooltip=[\n",
    "                alt.Tooltip('duration:Q'),\n",
    "                alt.Tooltip('frequency:Q'),\n",
    "                alt.Tooltip('bit:N'),\n",
    "            ]\n",
    "        )\n",
    "        \n",
    "        if chart_type == 'bar':\n",
    "            detail_chart = detail_bar_chart\n",
    "        elif chart_type == 'area':\n",
    "            detail_chart = detail_area_chart\n",
    "        else:\n",
    "            print(f'unsupported chart type {chart_type}')\n",
    "        \n",
    "        \n",
    "        stacked_bit_details = alt.vconcat(\n",
    "            detail_chart.transform_filter(datum.bit == 0).properties(title='off time distributions'),\n",
    "            detail_chart.transform_filter(datum.bit == 1).properties(title='on time distributions'),\n",
    "            background=background_color\n",
    "        )\n",
    "        \n",
    "        display(stacked_bit_details)       \n",
    "        \n",
    "    \n",
    "    \n",
    "    \n",
    "    def state_length_vs_timestep_sim(self, chart_type='bar', background_color='#abb2bf', lower_bound=25, upper_bound=200):\n",
    "        '''\n",
    "        creates interactive charts showing distributions of on and off times for simulated data\n",
    "        \n",
    "        chart types:\n",
    "            bar: bar chart (histogram)\n",
    "            area: area chart (filled line chart)\n",
    "            \n",
    "        background_color:\n",
    "            hex code for chart background color, ex:\n",
    "                #abb2bf - grey\n",
    "                #ffffff - white\n",
    "        '''\n",
    "        \n",
    "        full_sim_df = self.full_sim_df\n",
    "        chart_type = chart_type.strip().lower()\n",
    "\n",
    "        sel_timestep = alt.selection_multi(encodings=['y'])\n",
    "        \n",
    "        bar_chart = alt.Chart(\n",
    "            full_sim_df,\n",
    "            height=800,\n",
    "            width=250\n",
    "        ).mark_bar(\n",
    "        ).encode(\n",
    "            alt.X(\n",
    "                'max(duration):Q',\n",
    "                title='max packet duration',\n",
    "                scale=alt.Scale(type='log')\n",
    "            ),\n",
    "            alt.Y(\n",
    "                'timestep:N',\n",
    "            ),\n",
    "            color=alt.condition(\n",
    "                sel_timestep,\n",
    "                'timestep:N',\n",
    "                alt.value('#96989b'),\n",
    "                legend=None\n",
    "            ),\n",
    "            tooltip = [\n",
    "                alt.Tooltip('timestep:N'),\n",
    "                alt.Tooltip('duration:Q', aggregate='max')\n",
    "            ]\n",
    "        ).add_selection(\n",
    "            sel_timestep\n",
    "        )  \n",
    "        \n",
    "        \n",
    "        #---------- histograms ----------\n",
    "        detail_bar_chart = alt.Chart(\n",
    "            full_sim_df,\n",
    "            height=375,\n",
    "            width=800\n",
    "        ).mark_bar(\n",
    "            opacity=0.5\n",
    "        ).transform_filter(\n",
    "            sel_timestep\n",
    "        ).transform_filter(\n",
    "            datum.duration > lower_bound\n",
    "        ).transform_filter(\n",
    "            datum.duration < upper_bound\n",
    "        ).encode(\n",
    "            alt.X('duration:Q'),\n",
    "            alt.Y(\n",
    "                'frequency:Q', \n",
    "                #scale=alt.Scale(type='log')\n",
    "            ),\n",
    "            color=alt.Color('timestep:N', legend=None),\n",
    "            tooltip=[\n",
    "                alt.Tooltip('duration:Q'),\n",
    "                alt.Tooltip('frequency:Q'),\n",
    "                alt.Tooltip('timestep:N'),\n",
    "                alt.Tooltip('bit:N'),\n",
    "            ]\n",
    "        )\n",
    "        \n",
    "        detail_area_chart = alt.Chart(\n",
    "            full_sim_df,\n",
    "            height=375,\n",
    "            width=800\n",
    "        ).mark_area(\n",
    "            opacity=0.5\n",
    "        ).transform_filter(\n",
    "            sel_timestep\n",
    "        ).transform_filter(\n",
    "            datum.duration > lower_bound\n",
    "        ).transform_filter(\n",
    "            datum.duration < upper_bound\n",
    "        ).encode(\n",
    "            alt.X('duration:Q'),\n",
    "            alt.Y(\n",
    "                'frequency:Q', \n",
    "                #scale=alt.Scale(type='log')\n",
    "            ),\n",
    "            color=alt.Color('timestep:N', legend=None),\n",
    "            tooltip=[\n",
    "                alt.Tooltip('duration:Q'),\n",
    "                alt.Tooltip('frequency:Q'),\n",
    "                alt.Tooltip('timestep:N'),\n",
    "                alt.Tooltip('bit:N'),\n",
    "            ]\n",
    "        )\n",
    "        \n",
    "        if chart_type == 'bar':\n",
    "            detail_chart = detail_bar_chart\n",
    "        elif chart_type == 'area':\n",
    "            detail_chart = detail_area_chart\n",
    "        else:\n",
    "            print(f'unsupported chart type {chart_type}')\n",
    "        \n",
    "        stacked_bit_details = alt.vconcat(\n",
    "            detail_chart.transform_filter(datum.bit == 0).properties(title='off time distributions'),\n",
    "            detail_chart.transform_filter(datum.bit == 1).properties(title='on time distributions'),\n",
    "        )\n",
    "        \n",
    "        full = alt.hconcat(\n",
    "            bar_chart,\n",
    "            stacked_bit_details,    \n",
    "            background=background_color\n",
    "        )\n",
    "        \n",
    "        display(full)\n",
    "    \n",
    "        \n",
    "    \n",
    "    \n",
    "    \n",
    "    \n",
    "        \n",
    "        \n",
    "        "
   ]
  },
  {
   "cell_type": "code",
   "execution_count": null,
   "metadata": {},
   "outputs": [],
   "source": []
  },
  {
   "cell_type": "code",
   "execution_count": null,
   "metadata": {},
   "outputs": [],
   "source": []
  },
  {
   "cell_type": "code",
   "execution_count": null,
   "metadata": {},
   "outputs": [],
   "source": []
  },
  {
   "cell_type": "code",
   "execution_count": null,
   "metadata": {},
   "outputs": [],
   "source": []
  }
 ],
 "metadata": {
  "kernelspec": {
   "display_name": "Python 3",
   "language": "python",
   "name": "python3"
  },
  "language_info": {
   "codemirror_mode": {
    "name": "ipython",
    "version": 3
   },
   "file_extension": ".py",
   "mimetype": "text/x-python",
   "name": "python",
   "nbconvert_exporter": "python",
   "pygments_lexer": "ipython3",
   "version": "3.6.5"
  }
 },
 "nbformat": 4,
 "nbformat_minor": 2
}
