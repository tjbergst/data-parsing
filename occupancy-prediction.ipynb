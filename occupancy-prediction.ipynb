{
 "cells": [
  {
   "cell_type": "markdown",
   "metadata": {},
   "source": [
    "# occupancy prediction\n",
    "\n",
    "![img](dev/IMG_6435.jpg)"
   ]
  },
  {
   "cell_type": "markdown",
   "metadata": {},
   "source": [
    "plan:\n",
    "- split `real_data_array` into `timeunit` chunks\n",
    "- compute transition matrix for each chunk\n",
    "- simulate `timeunit` length of data using each transition matrix\n",
    "- compare simulated data to each respective real data chunk\n",
    "- make sure to normalize the *`timestep`* with `scipy.signal.decimate`\n",
    "<br>\n",
    "<br>"
   ]
  },
  {
   "cell_type": "code",
   "execution_count": 1,
   "metadata": {},
   "outputs": [],
   "source": [
    "# set autoreload\n",
    "%load_ext autoreload\n",
    "%autoreload 2"
   ]
  },
  {
   "cell_type": "code",
   "execution_count": 2,
   "metadata": {},
   "outputs": [],
   "source": [
    "import pandas as pd\n",
    "import numpy as np\n",
    "import scipy as sp\n",
    "from tqdm import tqdm_notebook, tnrange, trange, tqdm\n",
    "from itertools import cycle\n",
    "from collections import Counter\n",
    "from pathlib import Path\n",
    "import time\n",
    "\n",
    "import altair as alt\n",
    "from altair.expr import datum\n",
    "\n",
    "from _modules.wifi_traffic_analyzer import WifiTrafficAnalyzer"
   ]
  },
  {
   "cell_type": "markdown",
   "metadata": {},
   "source": [
    "## params"
   ]
  },
  {
   "cell_type": "code",
   "execution_count": 3,
   "metadata": {},
   "outputs": [],
   "source": [
    "timeunit = 10_000"
   ]
  },
  {
   "cell_type": "markdown",
   "metadata": {},
   "source": [
    "## configs"
   ]
  },
  {
   "cell_type": "code",
   "execution_count": 4,
   "metadata": {},
   "outputs": [],
   "source": [
    "real_data_path_dict = {\n",
    "    'real_2': Path(r'data/wifitrafficstats2.csv'),\n",
    "    'real_3': Path(r'data/wifitrafficstats3.csv'),\n",
    "    'real_4': Path(r'data/wifitrafficstats4.csv'),\n",
    "    'real_5': Path(r'data/wifitrafficstats5.csv'),\n",
    "    'real_6': Path(r'data/wifitrafficstats6.csv')\n",
    "}\n",
    "\n",
    "transition_matrices_path_dict = {\n",
    "    'tmat_1': Path(r'data/wifi_t_matrices.csv'),\n",
    "    #'tmat_2': Path(r'data/wifi_t_matrices2.csv')\n",
    "}"
   ]
  },
  {
   "cell_type": "markdown",
   "metadata": {},
   "source": [
    "## occupancy predictor"
   ]
  },
  {
   "cell_type": "markdown",
   "metadata": {},
   "source": [
    "### classing it up"
   ]
  },
  {
   "cell_type": "code",
   "execution_count": 5,
   "metadata": {},
   "outputs": [],
   "source": [
    "class OccupancyPredictor:\n",
    "    def __init__(self, real_data_path_dict, timeunits, autoselect_file=True):\n",
    "        print('initializing OP..')\n",
    "        \n",
    "        # attributes\n",
    "        self.real_data_path_dict = real_data_path_dict\n",
    "        \n",
    "        # set timeunits\n",
    "        if not isinstance(timeunits, list):\n",
    "            self.timeunits = [timeunits]\n",
    "            print(f'single timeunit received {self.timeunits}')\n",
    "        else:\n",
    "            self.timeunits = timeunits\n",
    "            print(f'{len(self.timeunits)} timeunits received')            \n",
    "        \n",
    "        # startup tasks\n",
    "        self.WTA_real = WifiTrafficAnalyzer(mode='real', path_dict=self.real_data_path_dict)\n",
    "        self.select_file_key(autoselect=autoselect_file)\n",
    "        \n",
    "        \n",
    "    \n",
    "    def select_file_key(self, autoselect):        \n",
    "        if autoselect:\n",
    "            self.file_key = list(self.WTA_real.path_dict.keys())[0]\n",
    "            self.WTA_real.process_real_data(self.file_key)\n",
    "            print(f'\\tautoselected and processed \\'{self.file_key}\\'')\n",
    "            \n",
    "        else:\n",
    "            file_key = input('please select a target file..')\n",
    "            \n",
    "            try:\n",
    "                assert file_key.strip().lower() in self.WTA_real.path_dict.keys()\n",
    "                \n",
    "                self.file_key = file_key.strip().lower()\n",
    "                self.WTA_real.process_real_data(self.file_key)\n",
    "                \n",
    "                print(f'\\tset and processed target file: {self.file_key}')\n",
    "                \n",
    "            except AssertionError:\n",
    "                print(f'invalid target file: {file_key}, options are {self.WTA_real.path_dict.keys()}')\n",
    "                raise\n",
    "        \n",
    "        \n",
    "    def convert_and_reshape(self, timeunit):\n",
    "        self.data_array = self.WTA_real.real_data_array\n",
    "        print(f'generated real data array, size: {self.data_array.shape}')\n",
    "        \n",
    "        data_matrix = (\n",
    "            self.data_array[\n",
    "                :int(timeunit*np.round(len(self.data_array) / timeunit))\n",
    "            ].reshape((-1, timeunit))\n",
    "        )\n",
    "        print(f'reshaped into {data_matrix.shape[0]} : {timeunit}µs chunks')\n",
    "        \n",
    "        return data_matrix\n",
    "    \n",
    "        \n",
    "    def compute_transition_matrix(self, row, timeunit):\n",
    "        onon, onoff, offon, offoff = 0, 0, 0, 0\n",
    "        \n",
    "        for i in range(timeunit-1):    \n",
    "            # if ON -> ON\n",
    "            if row[i] == row[i+1] == 1:\n",
    "                onon += 1\n",
    "                \n",
    "            # if ON -> OFF\n",
    "            elif row[i] == 1 and row[i+1] == 0:\n",
    "                onoff += 1\n",
    "                \n",
    "            # if OFF -> ON\n",
    "            elif row[i] == 0 and row[i+1] == 1:\n",
    "                offon += 1\n",
    "                \n",
    "            #if OFF -> OFF\n",
    "            elif row[i] == row[i+1] == 0:\n",
    "                offoff += 1\n",
    "                \n",
    "        try:\n",
    "            p_onon = onon / (onon + onoff)\n",
    "        except ZeroDivisionError:\n",
    "            p_onon = 0\n",
    "        \n",
    "        try:\n",
    "            p_offoff = offoff / (offoff + offon)\n",
    "        except ZeroDivisionError:\n",
    "            p_offoff = 0\n",
    "            \n",
    "        try:\n",
    "            p_onoff = onoff / (onon + onoff)\n",
    "        except ZeroDivisionError:\n",
    "            p_onoff = 0\n",
    "            \n",
    "        try:\n",
    "            p_offon = offon / (offoff + offon)\n",
    "        except ZeroDivisionError:\n",
    "            p_offon = 0\n",
    "            \n",
    "        \n",
    "        return (p_onon, p_onoff, p_offon, p_offoff) \n",
    "    \n",
    "    \n",
    "    def compute_tmats_and_load_df(self, data_matrix, timeunit):\n",
    "        # compute all transition matrices\n",
    "        tmat_array = [\n",
    "            self.compute_transition_matrix(\n",
    "                data_matrix[idx,:],\n",
    "                timeunit\n",
    "            )\n",
    "            for idx in tnrange(data_matrix.shape[0])\n",
    "        ]\n",
    "        \n",
    "        # load dataframe\n",
    "        tmat_df = (\n",
    "            pd\n",
    "            .DataFrame(\n",
    "                tmat_array, \n",
    "                columns=['OnOn', 'OnOff', 'OffOn', 'OffOff']\n",
    "            ).assign(\n",
    "                timeunit = timeunit,\n",
    "                source = self.file_key\n",
    "            )\n",
    "            [['OnOn','OnOff','OffOff','OffOn','timeunit','source']]\n",
    "        )\n",
    "        print(f'created transition matrix dataframe, {tmat_df.shape[0]} rows')\n",
    "        \n",
    "        return tmat_df\n",
    "    \n",
    "    \n",
    "    def process_timeunit(self, timeunit):\n",
    "        print(f'processing data for timeunit: {timeunit}µs')\n",
    "        \n",
    "        data_matrix = self.convert_and_reshape(timeunit)        \n",
    "        tmat_df = self.compute_tmats_and_load_df(data_matrix, timeunit)\n",
    "        \n",
    "        return data_matrix, tmat_df\n",
    "        \n",
    "        "
   ]
  },
  {
   "cell_type": "code",
   "execution_count": 6,
   "metadata": {},
   "outputs": [
    {
     "name": "stdout",
     "output_type": "stream",
     "text": [
      "initializing OP..\n",
      "single timeunit received [10000]\n",
      "initializing WTA..\n",
      "initialization complete, mode: real\n",
      "real data options: \n",
      "\tkey: real_2, path: data/wifitrafficstats2.csv\n",
      "\tkey: real_3, path: data/wifitrafficstats3.csv\n",
      "\tkey: real_4, path: data/wifitrafficstats4.csv\n",
      "\tkey: real_5, path: data/wifitrafficstats5.csv\n",
      "\tkey: real_6, path: data/wifitrafficstats6.csv\n"
     ]
    },
    {
     "data": {
      "application/vnd.jupyter.widget-view+json": {
       "model_id": "a0374c1a517b4a80857a3137e5c6a579",
       "version_major": 2,
       "version_minor": 0
      },
      "text/plain": [
       "HBox(children=(IntProgress(value=0, max=5310), HTML(value='')))"
      ]
     },
     "metadata": {},
     "output_type": "display_data"
    },
    {
     "name": "stdout",
     "output_type": "stream",
     "text": [
      "\n",
      "\tautoselected and processed 'real_2'\n"
     ]
    }
   ],
   "source": [
    "OP = OccupancyPredictor(real_data_path_dict, timeunit, autoselect_file=True)"
   ]
  },
  {
   "cell_type": "code",
   "execution_count": 7,
   "metadata": {},
   "outputs": [
    {
     "name": "stdout",
     "output_type": "stream",
     "text": [
      "processing data for timeunit: 10000µs\n",
      "generated real data array, size: (40431970,)\n",
      "reshaped into 4043 : 10000µs chunks\n"
     ]
    },
    {
     "data": {
      "application/vnd.jupyter.widget-view+json": {
       "model_id": "fa49e68678d14f359f8a906331b7e593",
       "version_major": 2,
       "version_minor": 0
      },
      "text/plain": [
       "HBox(children=(IntProgress(value=0, max=4043), HTML(value='')))"
      ]
     },
     "metadata": {},
     "output_type": "display_data"
    },
    {
     "name": "stdout",
     "output_type": "stream",
     "text": [
      "\n",
      "created transition matrix dataframe, 4043 rows\n",
      "data matrix: (4043, 10000)\n"
     ]
    },
    {
     "data": {
      "text/html": [
       "<div>\n",
       "<style scoped>\n",
       "    .dataframe tbody tr th:only-of-type {\n",
       "        vertical-align: middle;\n",
       "    }\n",
       "\n",
       "    .dataframe tbody tr th {\n",
       "        vertical-align: top;\n",
       "    }\n",
       "\n",
       "    .dataframe thead th {\n",
       "        text-align: right;\n",
       "    }\n",
       "</style>\n",
       "<table border=\"1\" class=\"dataframe\">\n",
       "  <thead>\n",
       "    <tr style=\"text-align: right;\">\n",
       "      <th></th>\n",
       "      <th>OnOn</th>\n",
       "      <th>OnOff</th>\n",
       "      <th>OffOff</th>\n",
       "      <th>OffOn</th>\n",
       "      <th>timeunit</th>\n",
       "      <th>source</th>\n",
       "    </tr>\n",
       "  </thead>\n",
       "  <tbody>\n",
       "    <tr>\n",
       "      <th>0</th>\n",
       "      <td>0.923077</td>\n",
       "      <td>0.076923</td>\n",
       "      <td>1.000000</td>\n",
       "      <td>0.000000</td>\n",
       "      <td>10000</td>\n",
       "      <td>real_2</td>\n",
       "    </tr>\n",
       "    <tr>\n",
       "      <th>1</th>\n",
       "      <td>0.000000</td>\n",
       "      <td>0.000000</td>\n",
       "      <td>1.000000</td>\n",
       "      <td>0.000000</td>\n",
       "      <td>10000</td>\n",
       "      <td>real_2</td>\n",
       "    </tr>\n",
       "    <tr>\n",
       "      <th>2</th>\n",
       "      <td>0.000000</td>\n",
       "      <td>0.000000</td>\n",
       "      <td>1.000000</td>\n",
       "      <td>0.000000</td>\n",
       "      <td>10000</td>\n",
       "      <td>real_2</td>\n",
       "    </tr>\n",
       "    <tr>\n",
       "      <th>3</th>\n",
       "      <td>0.998675</td>\n",
       "      <td>0.001325</td>\n",
       "      <td>0.999784</td>\n",
       "      <td>0.000216</td>\n",
       "      <td>10000</td>\n",
       "      <td>real_2</td>\n",
       "    </tr>\n",
       "    <tr>\n",
       "      <th>4</th>\n",
       "      <td>0.999353</td>\n",
       "      <td>0.000647</td>\n",
       "      <td>1.000000</td>\n",
       "      <td>0.000000</td>\n",
       "      <td>10000</td>\n",
       "      <td>real_2</td>\n",
       "    </tr>\n",
       "  </tbody>\n",
       "</table>\n",
       "</div>"
      ],
      "text/plain": [
       "       OnOn     OnOff    OffOff     OffOn  timeunit  source\n",
       "0  0.923077  0.076923  1.000000  0.000000     10000  real_2\n",
       "1  0.000000  0.000000  1.000000  0.000000     10000  real_2\n",
       "2  0.000000  0.000000  1.000000  0.000000     10000  real_2\n",
       "3  0.998675  0.001325  0.999784  0.000216     10000  real_2\n",
       "4  0.999353  0.000647  1.000000  0.000000     10000  real_2"
      ]
     },
     "metadata": {},
     "output_type": "display_data"
    }
   ],
   "source": [
    "data_matrix, tmat_df = OP.process_timeunit(OP.timeunits[0])\n",
    "\n",
    "print(f'data matrix: {data_matrix.shape}')\n",
    "display(tmat_df.head())"
   ]
  },
  {
   "cell_type": "code",
   "execution_count": null,
   "metadata": {},
   "outputs": [],
   "source": []
  },
  {
   "cell_type": "code",
   "execution_count": 13,
   "metadata": {},
   "outputs": [
    {
     "data": {
      "application/vnd.jupyter.widget-view+json": {
       "model_id": "de7a4391f0bf438fae9f950ebe278b98",
       "version_major": 2,
       "version_minor": 0
      },
      "text/plain": [
       "HBox(children=(IntProgress(value=0, max=4043), HTML(value='')))"
      ]
     },
     "metadata": {},
     "output_type": "display_data"
    },
    {
     "name": "stdout",
     "output_type": "stream",
     "text": [
      "\n",
      "total elapsed time: 1.71 minutes\n",
      "sim data matrix: (4043, 10000)\n"
     ]
    }
   ],
   "source": [
    "sim_data_matrix = OP.WTA_real.simulate_all_OP_transition_matrices(\n",
    "    tmat_dataframe=tmat_df,\n",
    "    n_samples=OP.timeunits[0], \n",
    "    m_trials=1\n",
    ")[1:,:]\n",
    "\n",
    "print(f'sim data matrix: {sim_data_matrix.shape}')"
   ]
  },
  {
   "cell_type": "code",
   "execution_count": null,
   "metadata": {},
   "outputs": [],
   "source": []
  },
  {
   "cell_type": "code",
   "execution_count": 18,
   "metadata": {},
   "outputs": [
    {
     "name": "stdout",
     "output_type": "stream",
     "text": [
      "real data shape: (4043, 10000)\n"
     ]
    },
    {
     "data": {
      "text/plain": [
       "array([  13,    0,    0,  756, 1545, 2105,   13,    0,   65,    0])"
      ]
     },
     "execution_count": 18,
     "metadata": {},
     "output_type": "execute_result"
    }
   ],
   "source": [
    "print(f'real data shape: {data_matrix.shape}')\n",
    "data_matrix.sum(axis=1)[:10]"
   ]
  },
  {
   "cell_type": "code",
   "execution_count": 19,
   "metadata": {},
   "outputs": [
    {
     "name": "stdout",
     "output_type": "stream",
     "text": [
      "sim data shape: (4043, 10000)\n"
     ]
    },
    {
     "data": {
      "text/plain": [
       "array([4998.,    0.,    0., 5913., 4205., 6667., 5094.,    0., 4461.,\n",
       "          0.])"
      ]
     },
     "execution_count": 19,
     "metadata": {},
     "output_type": "execute_result"
    }
   ],
   "source": [
    "print(f'sim data shape: {sim_data_matrix.shape}')\n",
    "sim_data_matrix.sum(axis=1)[:10]"
   ]
  },
  {
   "cell_type": "code",
   "execution_count": null,
   "metadata": {},
   "outputs": [],
   "source": []
  },
  {
   "cell_type": "code",
   "execution_count": 23,
   "metadata": {},
   "outputs": [
    {
     "data": {
      "text/html": [
       "<div>\n",
       "<style scoped>\n",
       "    .dataframe tbody tr th:only-of-type {\n",
       "        vertical-align: middle;\n",
       "    }\n",
       "\n",
       "    .dataframe tbody tr th {\n",
       "        vertical-align: top;\n",
       "    }\n",
       "\n",
       "    .dataframe thead th {\n",
       "        text-align: right;\n",
       "    }\n",
       "</style>\n",
       "<table border=\"1\" class=\"dataframe\">\n",
       "  <thead>\n",
       "    <tr style=\"text-align: right;\">\n",
       "      <th></th>\n",
       "      <th>real_data</th>\n",
       "      <th>sim_data</th>\n",
       "      <th>diff</th>\n",
       "    </tr>\n",
       "  </thead>\n",
       "  <tbody>\n",
       "    <tr>\n",
       "      <th>0</th>\n",
       "      <td>13</td>\n",
       "      <td>4998</td>\n",
       "      <td>4985</td>\n",
       "    </tr>\n",
       "    <tr>\n",
       "      <th>1</th>\n",
       "      <td>0</td>\n",
       "      <td>0</td>\n",
       "      <td>0</td>\n",
       "    </tr>\n",
       "    <tr>\n",
       "      <th>2</th>\n",
       "      <td>0</td>\n",
       "      <td>0</td>\n",
       "      <td>0</td>\n",
       "    </tr>\n",
       "    <tr>\n",
       "      <th>3</th>\n",
       "      <td>756</td>\n",
       "      <td>5913</td>\n",
       "      <td>5157</td>\n",
       "    </tr>\n",
       "    <tr>\n",
       "      <th>4</th>\n",
       "      <td>1545</td>\n",
       "      <td>4205</td>\n",
       "      <td>2660</td>\n",
       "    </tr>\n",
       "  </tbody>\n",
       "</table>\n",
       "</div>"
      ],
      "text/plain": [
       "   real_data  sim_data  diff\n",
       "0         13      4998  4985\n",
       "1          0         0     0\n",
       "2          0         0     0\n",
       "3        756      5913  5157\n",
       "4       1545      4205  2660"
      ]
     },
     "execution_count": 23,
     "metadata": {},
     "output_type": "execute_result"
    }
   ],
   "source": [
    "comp_df = (\n",
    "    pd\n",
    "    .DataFrame({\n",
    "        'real_data': data_matrix.sum(axis=1),\n",
    "        'sim_data': sim_data_matrix.sum(axis=1)\n",
    "    })\n",
    "    .assign(\n",
    "        real_data = lambda x: x.real_data.astype('int'),\n",
    "        sim_data = lambda x: x.sim_data.astype('int')\n",
    "    )\n",
    "    .eval('diff = sim_data - real_data')\n",
    ")\n",
    "\n",
    "comp_df.head()"
   ]
  },
  {
   "cell_type": "code",
   "execution_count": null,
   "metadata": {},
   "outputs": [],
   "source": []
  },
  {
   "cell_type": "code",
   "execution_count": 37,
   "metadata": {},
   "outputs": [
    {
     "data": {
      "application/vnd.vegalite.v2+json": {
       "$schema": "https://vega.github.io/schema/vega-lite/v2.6.0.json",
       "background": "#abb2bf",
       "config": {
        "view": {
         "height": 300,
         "width": 400
        }
       },
       "datasets": {
        "data-6636c78722387fa1da0a522dbf60eceb": [
         {
          "diff": 4985,
          "index": 0,
          "real_data": 13,
          "sim_data": 4998
         },
         {
          "diff": 0,
          "index": 1,
          "real_data": 0,
          "sim_data": 0
         },
         {
          "diff": 0,
          "index": 2,
          "real_data": 0,
          "sim_data": 0
         },
         {
          "diff": 5157,
          "index": 3,
          "real_data": 756,
          "sim_data": 5913
         },
         {
          "diff": 2660,
          "index": 4,
          "real_data": 1545,
          "sim_data": 4205
         },
         {
          "diff": 4562,
          "index": 5,
          "real_data": 2105,
          "sim_data": 6667
         },
         {
          "diff": 5081,
          "index": 6,
          "real_data": 13,
          "sim_data": 5094
         },
         {
          "diff": 0,
          "index": 7,
          "real_data": 0,
          "sim_data": 0
         },
         {
          "diff": 4396,
          "index": 8,
          "real_data": 65,
          "sim_data": 4461
         },
         {
          "diff": 0,
          "index": 9,
          "real_data": 0,
          "sim_data": 0
         },
         {
          "diff": 4956,
          "index": 10,
          "real_data": 123,
          "sim_data": 5079
         },
         {
          "diff": 2230,
          "index": 11,
          "real_data": 1341,
          "sim_data": 3571
         },
         {
          "diff": 2,
          "index": 12,
          "real_data": 0,
          "sim_data": 2
         },
         {
          "diff": 1497,
          "index": 13,
          "real_data": 2929,
          "sim_data": 4426
         },
         {
          "diff": 0,
          "index": 14,
          "real_data": 0,
          "sim_data": 0
         },
         {
          "diff": 3967,
          "index": 15,
          "real_data": 351,
          "sim_data": 4318
         },
         {
          "diff": 0,
          "index": 16,
          "real_data": 0,
          "sim_data": 0
         },
         {
          "diff": 2,
          "index": 17,
          "real_data": 0,
          "sim_data": 2
         },
         {
          "diff": 2773,
          "index": 18,
          "real_data": 1409,
          "sim_data": 4182
         },
         {
          "diff": 4494,
          "index": 19,
          "real_data": 225,
          "sim_data": 4719
         },
         {
          "diff": 0,
          "index": 20,
          "real_data": 0,
          "sim_data": 0
         },
         {
          "diff": 0,
          "index": 21,
          "real_data": 0,
          "sim_data": 0
         },
         {
          "diff": 3618,
          "index": 22,
          "real_data": 593,
          "sim_data": 4211
         },
         {
          "diff": 5127,
          "index": 23,
          "real_data": 53,
          "sim_data": 5180
         },
         {
          "diff": 2745,
          "index": 24,
          "real_data": 2352,
          "sim_data": 5097
         },
         {
          "diff": 4699,
          "index": 25,
          "real_data": 1114,
          "sim_data": 5813
         },
         {
          "diff": 5133,
          "index": 26,
          "real_data": 13,
          "sim_data": 5146
         },
         {
          "diff": 4886,
          "index": 27,
          "real_data": 65,
          "sim_data": 4951
         },
         {
          "diff": 4888,
          "index": 28,
          "real_data": 76,
          "sim_data": 4964
         },
         {
          "diff": 0,
          "index": 29,
          "real_data": 0,
          "sim_data": 0
         },
         {
          "diff": 4797,
          "index": 30,
          "real_data": 312,
          "sim_data": 5109
         },
         {
          "diff": 0,
          "index": 31,
          "real_data": 0,
          "sim_data": 0
         },
         {
          "diff": 4433,
          "index": 32,
          "real_data": 1409,
          "sim_data": 5842
         },
         {
          "diff": 4139,
          "index": 33,
          "real_data": 778,
          "sim_data": 4917
         },
         {
          "diff": 4619,
          "index": 34,
          "real_data": 2047,
          "sim_data": 6666
         },
         {
          "diff": 0,
          "index": 35,
          "real_data": 0,
          "sim_data": 0
         },
         {
          "diff": 2470,
          "index": 36,
          "real_data": 3425,
          "sim_data": 5895
         },
         {
          "diff": 0,
          "index": 37,
          "real_data": 0,
          "sim_data": 0
         },
         {
          "diff": 0,
          "index": 38,
          "real_data": 0,
          "sim_data": 0
         },
         {
          "diff": 5032,
          "index": 39,
          "real_data": 35,
          "sim_data": 5067
         },
         {
          "diff": 4768,
          "index": 40,
          "real_data": 127,
          "sim_data": 4895
         },
         {
          "diff": 0,
          "index": 41,
          "real_data": 0,
          "sim_data": 0
         },
         {
          "diff": 4762,
          "index": 42,
          "real_data": 65,
          "sim_data": 4827
         },
         {
          "diff": 7,
          "index": 43,
          "real_data": 0,
          "sim_data": 7
         },
         {
          "diff": 3,
          "index": 44,
          "real_data": 0,
          "sim_data": 3
         },
         {
          "diff": 2460,
          "index": 45,
          "real_data": 1335,
          "sim_data": 3795
         },
         {
          "diff": 3150,
          "index": 46,
          "real_data": 2301,
          "sim_data": 5451
         },
         {
          "diff": 0,
          "index": 47,
          "real_data": 0,
          "sim_data": 0
         },
         {
          "diff": 0,
          "index": 48,
          "real_data": 0,
          "sim_data": 0
         },
         {
          "diff": 4868,
          "index": 49,
          "real_data": 13,
          "sim_data": 4881
         }
        ]
       },
       "layer": [
        {
         "data": {
          "name": "data-6636c78722387fa1da0a522dbf60eceb"
         },
         "encoding": {
          "color": {
           "value": "#4286f4"
          },
          "x": {
           "field": "index",
           "type": "quantitative"
          },
          "y": {
           "field": "real_data",
           "type": "quantitative"
          }
         },
         "height": 300,
         "mark": {
          "opacity": 0.5,
          "type": "line"
         },
         "selection": {
          "selector007": {
           "bind": "scales",
           "encodings": [
            "x",
            "y"
           ],
           "mark": {
            "fill": "#333",
            "fillOpacity": 0.125,
            "stroke": "white"
           },
           "on": "[mousedown, window:mouseup] > window:mousemove!",
           "resolve": "global",
           "translate": "[mousedown, window:mouseup] > window:mousemove!",
           "type": "interval",
           "zoom": "wheel!"
          }
         },
         "width": 800
        },
        {
         "data": {
          "name": "data-6636c78722387fa1da0a522dbf60eceb"
         },
         "encoding": {
          "color": {
           "value": "#41f470"
          },
          "x": {
           "field": "index",
           "type": "quantitative"
          },
          "y": {
           "field": "sim_data",
           "type": "quantitative"
          }
         },
         "height": 300,
         "mark": {
          "opacity": 0.5,
          "type": "line"
         },
         "width": 800
        },
        {
         "data": {
          "name": "data-6636c78722387fa1da0a522dbf60eceb"
         },
         "encoding": {
          "color": {
           "value": "#f44141"
          },
          "x": {
           "field": "index",
           "type": "quantitative"
          },
          "y": {
           "field": "diff",
           "type": "quantitative"
          }
         },
         "height": 300,
         "mark": {
          "opacity": 0.5,
          "type": "line"
         },
         "width": 800
        }
       ]
      },
      "image/png": "[encoded data removed]",
      "text/plain": [
       "<VegaLite 2 object>\n",
       "\n",
       "If you see this message, it means the renderer has not been properly enabled\n",
       "for the frontend that you are using. For more information, see\n",
       "https://altair-viz.github.io/user_guide/troubleshooting.html\n"
      ]
     },
     "execution_count": 37,
     "metadata": {},
     "output_type": "execute_result"
    }
   ],
   "source": [
    "base = alt.Chart(\n",
    "    comp_df.reset_index().iloc[:50],\n",
    "    height=300,\n",
    "    width=800\n",
    ").mark_line(\n",
    "    opacity=0.5\n",
    ").encode(\n",
    "    alt.X('index:Q'),\n",
    "    #alt.Y('real_data:Q')\n",
    ")\n",
    "\n",
    "alt.layer(\n",
    "    base.encode(\n",
    "        alt.Y('real_data:Q'),\n",
    "        color=alt.value('#4286f4') # blue\n",
    "    ),\n",
    "    base.encode(\n",
    "        alt.Y('sim_data:Q'),\n",
    "        color=alt.value('#41f470') # green\n",
    "    ),\n",
    "    base.encode(\n",
    "        alt.Y('diff:Q'),\n",
    "        color=alt.value('#f44141') # red\n",
    "    ),\n",
    "    background='#abb2bf'\n",
    ").interactive()"
   ]
  },
  {
   "cell_type": "code",
   "execution_count": null,
   "metadata": {},
   "outputs": [],
   "source": []
  },
  {
   "cell_type": "code",
   "execution_count": 39,
   "metadata": {},
   "outputs": [
    {
     "data": {
      "text/html": [
       "<div>\n",
       "<style scoped>\n",
       "    .dataframe tbody tr th:only-of-type {\n",
       "        vertical-align: middle;\n",
       "    }\n",
       "\n",
       "    .dataframe tbody tr th {\n",
       "        vertical-align: top;\n",
       "    }\n",
       "\n",
       "    .dataframe thead th {\n",
       "        text-align: right;\n",
       "    }\n",
       "</style>\n",
       "<table border=\"1\" class=\"dataframe\">\n",
       "  <thead>\n",
       "    <tr style=\"text-align: right;\">\n",
       "      <th></th>\n",
       "      <th>real_data</th>\n",
       "      <th>sim_data</th>\n",
       "      <th>diff</th>\n",
       "    </tr>\n",
       "  </thead>\n",
       "  <tbody>\n",
       "    <tr>\n",
       "      <th>real_data</th>\n",
       "      <td>1.000000</td>\n",
       "      <td>0.552440</td>\n",
       "      <td>0.215014</td>\n",
       "    </tr>\n",
       "    <tr>\n",
       "      <th>sim_data</th>\n",
       "      <td>0.552440</td>\n",
       "      <td>1.000000</td>\n",
       "      <td>0.932839</td>\n",
       "    </tr>\n",
       "    <tr>\n",
       "      <th>diff</th>\n",
       "      <td>0.215014</td>\n",
       "      <td>0.932839</td>\n",
       "      <td>1.000000</td>\n",
       "    </tr>\n",
       "  </tbody>\n",
       "</table>\n",
       "</div>"
      ],
      "text/plain": [
       "           real_data  sim_data      diff\n",
       "real_data   1.000000  0.552440  0.215014\n",
       "sim_data    0.552440  1.000000  0.932839\n",
       "diff        0.215014  0.932839  1.000000"
      ]
     },
     "execution_count": 39,
     "metadata": {},
     "output_type": "execute_result"
    }
   ],
   "source": [
    "comp_df.corr()"
   ]
  },
  {
   "cell_type": "code",
   "execution_count": null,
   "metadata": {},
   "outputs": [],
   "source": []
  },
  {
   "cell_type": "code",
   "execution_count": 38,
   "metadata": {},
   "outputs": [
    {
     "data": {
      "text/html": [
       "<div>\n",
       "<style scoped>\n",
       "    .dataframe tbody tr th:only-of-type {\n",
       "        vertical-align: middle;\n",
       "    }\n",
       "\n",
       "    .dataframe tbody tr th {\n",
       "        vertical-align: top;\n",
       "    }\n",
       "\n",
       "    .dataframe thead th {\n",
       "        text-align: right;\n",
       "    }\n",
       "</style>\n",
       "<table border=\"1\" class=\"dataframe\">\n",
       "  <thead>\n",
       "    <tr style=\"text-align: right;\">\n",
       "      <th></th>\n",
       "      <th>real_data</th>\n",
       "      <th>sim_data</th>\n",
       "      <th>diff</th>\n",
       "    </tr>\n",
       "  </thead>\n",
       "  <tbody>\n",
       "    <tr>\n",
       "      <th>0</th>\n",
       "      <td>13</td>\n",
       "      <td>4998</td>\n",
       "      <td>4985</td>\n",
       "    </tr>\n",
       "    <tr>\n",
       "      <th>1</th>\n",
       "      <td>0</td>\n",
       "      <td>0</td>\n",
       "      <td>0</td>\n",
       "    </tr>\n",
       "    <tr>\n",
       "      <th>2</th>\n",
       "      <td>0</td>\n",
       "      <td>0</td>\n",
       "      <td>0</td>\n",
       "    </tr>\n",
       "    <tr>\n",
       "      <th>3</th>\n",
       "      <td>756</td>\n",
       "      <td>5913</td>\n",
       "      <td>5157</td>\n",
       "    </tr>\n",
       "    <tr>\n",
       "      <th>4</th>\n",
       "      <td>1545</td>\n",
       "      <td>4205</td>\n",
       "      <td>2660</td>\n",
       "    </tr>\n",
       "    <tr>\n",
       "      <th>5</th>\n",
       "      <td>2105</td>\n",
       "      <td>6667</td>\n",
       "      <td>4562</td>\n",
       "    </tr>\n",
       "    <tr>\n",
       "      <th>6</th>\n",
       "      <td>13</td>\n",
       "      <td>5094</td>\n",
       "      <td>5081</td>\n",
       "    </tr>\n",
       "    <tr>\n",
       "      <th>7</th>\n",
       "      <td>0</td>\n",
       "      <td>0</td>\n",
       "      <td>0</td>\n",
       "    </tr>\n",
       "    <tr>\n",
       "      <th>8</th>\n",
       "      <td>65</td>\n",
       "      <td>4461</td>\n",
       "      <td>4396</td>\n",
       "    </tr>\n",
       "    <tr>\n",
       "      <th>9</th>\n",
       "      <td>0</td>\n",
       "      <td>0</td>\n",
       "      <td>0</td>\n",
       "    </tr>\n",
       "    <tr>\n",
       "      <th>10</th>\n",
       "      <td>123</td>\n",
       "      <td>5079</td>\n",
       "      <td>4956</td>\n",
       "    </tr>\n",
       "    <tr>\n",
       "      <th>11</th>\n",
       "      <td>1341</td>\n",
       "      <td>3571</td>\n",
       "      <td>2230</td>\n",
       "    </tr>\n",
       "    <tr>\n",
       "      <th>12</th>\n",
       "      <td>0</td>\n",
       "      <td>2</td>\n",
       "      <td>2</td>\n",
       "    </tr>\n",
       "    <tr>\n",
       "      <th>13</th>\n",
       "      <td>2929</td>\n",
       "      <td>4426</td>\n",
       "      <td>1497</td>\n",
       "    </tr>\n",
       "    <tr>\n",
       "      <th>14</th>\n",
       "      <td>0</td>\n",
       "      <td>0</td>\n",
       "      <td>0</td>\n",
       "    </tr>\n",
       "    <tr>\n",
       "      <th>15</th>\n",
       "      <td>351</td>\n",
       "      <td>4318</td>\n",
       "      <td>3967</td>\n",
       "    </tr>\n",
       "    <tr>\n",
       "      <th>16</th>\n",
       "      <td>0</td>\n",
       "      <td>0</td>\n",
       "      <td>0</td>\n",
       "    </tr>\n",
       "    <tr>\n",
       "      <th>17</th>\n",
       "      <td>0</td>\n",
       "      <td>2</td>\n",
       "      <td>2</td>\n",
       "    </tr>\n",
       "    <tr>\n",
       "      <th>18</th>\n",
       "      <td>1409</td>\n",
       "      <td>4182</td>\n",
       "      <td>2773</td>\n",
       "    </tr>\n",
       "    <tr>\n",
       "      <th>19</th>\n",
       "      <td>225</td>\n",
       "      <td>4719</td>\n",
       "      <td>4494</td>\n",
       "    </tr>\n",
       "    <tr>\n",
       "      <th>20</th>\n",
       "      <td>0</td>\n",
       "      <td>0</td>\n",
       "      <td>0</td>\n",
       "    </tr>\n",
       "    <tr>\n",
       "      <th>21</th>\n",
       "      <td>0</td>\n",
       "      <td>0</td>\n",
       "      <td>0</td>\n",
       "    </tr>\n",
       "    <tr>\n",
       "      <th>22</th>\n",
       "      <td>593</td>\n",
       "      <td>4211</td>\n",
       "      <td>3618</td>\n",
       "    </tr>\n",
       "    <tr>\n",
       "      <th>23</th>\n",
       "      <td>53</td>\n",
       "      <td>5180</td>\n",
       "      <td>5127</td>\n",
       "    </tr>\n",
       "    <tr>\n",
       "      <th>24</th>\n",
       "      <td>2352</td>\n",
       "      <td>5097</td>\n",
       "      <td>2745</td>\n",
       "    </tr>\n",
       "    <tr>\n",
       "      <th>25</th>\n",
       "      <td>1114</td>\n",
       "      <td>5813</td>\n",
       "      <td>4699</td>\n",
       "    </tr>\n",
       "    <tr>\n",
       "      <th>26</th>\n",
       "      <td>13</td>\n",
       "      <td>5146</td>\n",
       "      <td>5133</td>\n",
       "    </tr>\n",
       "    <tr>\n",
       "      <th>27</th>\n",
       "      <td>65</td>\n",
       "      <td>4951</td>\n",
       "      <td>4886</td>\n",
       "    </tr>\n",
       "    <tr>\n",
       "      <th>28</th>\n",
       "      <td>76</td>\n",
       "      <td>4964</td>\n",
       "      <td>4888</td>\n",
       "    </tr>\n",
       "    <tr>\n",
       "      <th>29</th>\n",
       "      <td>0</td>\n",
       "      <td>0</td>\n",
       "      <td>0</td>\n",
       "    </tr>\n",
       "    <tr>\n",
       "      <th>30</th>\n",
       "      <td>312</td>\n",
       "      <td>5109</td>\n",
       "      <td>4797</td>\n",
       "    </tr>\n",
       "    <tr>\n",
       "      <th>31</th>\n",
       "      <td>0</td>\n",
       "      <td>0</td>\n",
       "      <td>0</td>\n",
       "    </tr>\n",
       "    <tr>\n",
       "      <th>32</th>\n",
       "      <td>1409</td>\n",
       "      <td>5842</td>\n",
       "      <td>4433</td>\n",
       "    </tr>\n",
       "    <tr>\n",
       "      <th>33</th>\n",
       "      <td>778</td>\n",
       "      <td>4917</td>\n",
       "      <td>4139</td>\n",
       "    </tr>\n",
       "    <tr>\n",
       "      <th>34</th>\n",
       "      <td>2047</td>\n",
       "      <td>6666</td>\n",
       "      <td>4619</td>\n",
       "    </tr>\n",
       "    <tr>\n",
       "      <th>35</th>\n",
       "      <td>0</td>\n",
       "      <td>0</td>\n",
       "      <td>0</td>\n",
       "    </tr>\n",
       "    <tr>\n",
       "      <th>36</th>\n",
       "      <td>3425</td>\n",
       "      <td>5895</td>\n",
       "      <td>2470</td>\n",
       "    </tr>\n",
       "    <tr>\n",
       "      <th>37</th>\n",
       "      <td>0</td>\n",
       "      <td>0</td>\n",
       "      <td>0</td>\n",
       "    </tr>\n",
       "    <tr>\n",
       "      <th>38</th>\n",
       "      <td>0</td>\n",
       "      <td>0</td>\n",
       "      <td>0</td>\n",
       "    </tr>\n",
       "    <tr>\n",
       "      <th>39</th>\n",
       "      <td>35</td>\n",
       "      <td>5067</td>\n",
       "      <td>5032</td>\n",
       "    </tr>\n",
       "    <tr>\n",
       "      <th>40</th>\n",
       "      <td>127</td>\n",
       "      <td>4895</td>\n",
       "      <td>4768</td>\n",
       "    </tr>\n",
       "    <tr>\n",
       "      <th>41</th>\n",
       "      <td>0</td>\n",
       "      <td>0</td>\n",
       "      <td>0</td>\n",
       "    </tr>\n",
       "    <tr>\n",
       "      <th>42</th>\n",
       "      <td>65</td>\n",
       "      <td>4827</td>\n",
       "      <td>4762</td>\n",
       "    </tr>\n",
       "    <tr>\n",
       "      <th>43</th>\n",
       "      <td>0</td>\n",
       "      <td>7</td>\n",
       "      <td>7</td>\n",
       "    </tr>\n",
       "    <tr>\n",
       "      <th>44</th>\n",
       "      <td>0</td>\n",
       "      <td>3</td>\n",
       "      <td>3</td>\n",
       "    </tr>\n",
       "    <tr>\n",
       "      <th>45</th>\n",
       "      <td>1335</td>\n",
       "      <td>3795</td>\n",
       "      <td>2460</td>\n",
       "    </tr>\n",
       "    <tr>\n",
       "      <th>46</th>\n",
       "      <td>2301</td>\n",
       "      <td>5451</td>\n",
       "      <td>3150</td>\n",
       "    </tr>\n",
       "    <tr>\n",
       "      <th>47</th>\n",
       "      <td>0</td>\n",
       "      <td>0</td>\n",
       "      <td>0</td>\n",
       "    </tr>\n",
       "    <tr>\n",
       "      <th>48</th>\n",
       "      <td>0</td>\n",
       "      <td>0</td>\n",
       "      <td>0</td>\n",
       "    </tr>\n",
       "    <tr>\n",
       "      <th>49</th>\n",
       "      <td>13</td>\n",
       "      <td>4881</td>\n",
       "      <td>4868</td>\n",
       "    </tr>\n",
       "  </tbody>\n",
       "</table>\n",
       "</div>"
      ],
      "text/plain": [
       "    real_data  sim_data  diff\n",
       "0          13      4998  4985\n",
       "1           0         0     0\n",
       "2           0         0     0\n",
       "3         756      5913  5157\n",
       "4        1545      4205  2660\n",
       "5        2105      6667  4562\n",
       "6          13      5094  5081\n",
       "7           0         0     0\n",
       "8          65      4461  4396\n",
       "9           0         0     0\n",
       "10        123      5079  4956\n",
       "11       1341      3571  2230\n",
       "12          0         2     2\n",
       "13       2929      4426  1497\n",
       "14          0         0     0\n",
       "15        351      4318  3967\n",
       "16          0         0     0\n",
       "17          0         2     2\n",
       "18       1409      4182  2773\n",
       "19        225      4719  4494\n",
       "20          0         0     0\n",
       "21          0         0     0\n",
       "22        593      4211  3618\n",
       "23         53      5180  5127\n",
       "24       2352      5097  2745\n",
       "25       1114      5813  4699\n",
       "26         13      5146  5133\n",
       "27         65      4951  4886\n",
       "28         76      4964  4888\n",
       "29          0         0     0\n",
       "30        312      5109  4797\n",
       "31          0         0     0\n",
       "32       1409      5842  4433\n",
       "33        778      4917  4139\n",
       "34       2047      6666  4619\n",
       "35          0         0     0\n",
       "36       3425      5895  2470\n",
       "37          0         0     0\n",
       "38          0         0     0\n",
       "39         35      5067  5032\n",
       "40        127      4895  4768\n",
       "41          0         0     0\n",
       "42         65      4827  4762\n",
       "43          0         7     7\n",
       "44          0         3     3\n",
       "45       1335      3795  2460\n",
       "46       2301      5451  3150\n",
       "47          0         0     0\n",
       "48          0         0     0\n",
       "49         13      4881  4868"
      ]
     },
     "execution_count": 38,
     "metadata": {},
     "output_type": "execute_result"
    }
   ],
   "source": [
    "comp_df.head(50)"
   ]
  },
  {
   "cell_type": "code",
   "execution_count": null,
   "metadata": {},
   "outputs": [],
   "source": []
  },
  {
   "cell_type": "code",
   "execution_count": null,
   "metadata": {},
   "outputs": [],
   "source": []
  },
  {
   "cell_type": "markdown",
   "metadata": {},
   "source": [
    "### scipy testing"
   ]
  },
  {
   "cell_type": "code",
   "execution_count": null,
   "metadata": {},
   "outputs": [],
   "source": []
  },
  {
   "cell_type": "code",
   "execution_count": null,
   "metadata": {},
   "outputs": [],
   "source": []
  },
  {
   "cell_type": "code",
   "execution_count": null,
   "metadata": {},
   "outputs": [],
   "source": []
  },
  {
   "cell_type": "code",
   "execution_count": null,
   "metadata": {},
   "outputs": [],
   "source": []
  },
  {
   "cell_type": "code",
   "execution_count": null,
   "metadata": {},
   "outputs": [],
   "source": []
  },
  {
   "cell_type": "code",
   "execution_count": null,
   "metadata": {},
   "outputs": [],
   "source": []
  },
  {
   "cell_type": "markdown",
   "metadata": {},
   "source": [
    "## misfits"
   ]
  },
  {
   "cell_type": "raw",
   "metadata": {},
   "source": [
    "tmat_df.loc[\n",
    "    lambda x: [\n",
    "        True \n",
    "            if onon == 0 and onoff == 0 \n",
    "            else False \n",
    "        for onon, onoff in zip(x.onon, x.onoff)\n",
    "    ]\n",
    "].shape"
   ]
  },
  {
   "cell_type": "raw",
   "metadata": {},
   "source": [
    "tmat_df.shape"
   ]
  },
  {
   "cell_type": "code",
   "execution_count": null,
   "metadata": {},
   "outputs": [],
   "source": []
  }
 ],
 "metadata": {
  "kernelspec": {
   "display_name": "Python 3",
   "language": "python",
   "name": "python3"
  },
  "language_info": {
   "codemirror_mode": {
    "name": "ipython",
    "version": 3
   },
   "file_extension": ".py",
   "mimetype": "text/x-python",
   "name": "python",
   "nbconvert_exporter": "python",
   "pygments_lexer": "ipython3",
   "version": "3.6.5"
  }
 },
 "nbformat": 4,
 "nbformat_minor": 2
}
