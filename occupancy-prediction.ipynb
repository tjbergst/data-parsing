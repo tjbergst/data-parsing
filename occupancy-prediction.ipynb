{
 "cells": [
  {
   "cell_type": "markdown",
   "metadata": {},
   "source": [
    "# occupancy prediction\n",
    "\n",
    "![img](dev/IMG_6435.jpg)"
   ]
  },
  {
   "cell_type": "markdown",
   "metadata": {},
   "source": [
    "plan:\n",
    "- split `real_data_array` into `timeunit` chunks\n",
    "- compute transition matrix for each chunk\n",
    "- simulate `timeunit` length of data using each transition matrix\n",
    "- compare simulated data to each respective real data chunk\n",
    "- make sure to normalize the *`timestep`* with `scipy.signal.decimate`\n",
    "<br>\n",
    "<br>"
   ]
  },
  {
   "cell_type": "raw",
   "metadata": {},
   "source": [
    "# set autoreload\n",
    "%load_ext autoreload\n",
    "%autoreload 2"
   ]
  },
  {
   "cell_type": "code",
   "execution_count": 1,
   "metadata": {},
   "outputs": [],
   "source": [
    "import pandas as pd\n",
    "import numpy as np\n",
    "import scipy as sp\n",
    "from scipy import signal\n",
    "from tqdm import tqdm_notebook, tnrange, trange, tqdm\n",
    "from itertools import cycle\n",
    "from collections import Counter\n",
    "from pathlib import Path\n",
    "import time\n",
    "from contextlib import suppress\n",
    "\n",
    "import altair as alt\n",
    "from altair.expr import datum\n",
    "alt.data_transformers.enable('json')\n",
    "\n",
    "from _modules.wifi_traffic_analyzer import WifiTrafficAnalyzer"
   ]
  },
  {
   "cell_type": "markdown",
   "metadata": {},
   "source": [
    "## params"
   ]
  },
  {
   "cell_type": "code",
   "execution_count": 2,
   "metadata": {},
   "outputs": [],
   "source": [
    "timestep = 250\n",
    "timeunit = 10_000"
   ]
  },
  {
   "cell_type": "markdown",
   "metadata": {},
   "source": [
    "## configs"
   ]
  },
  {
   "cell_type": "code",
   "execution_count": 3,
   "metadata": {},
   "outputs": [],
   "source": [
    "real_data_path_dict = {\n",
    "    'real_2': Path(r'data/wifitrafficstats2.csv'),\n",
    "    'real_3': Path(r'data/wifitrafficstats3.csv'),\n",
    "    'real_4': Path(r'data/wifitrafficstats4.csv'),\n",
    "    'real_5': Path(r'data/wifitrafficstats5.csv'),\n",
    "    'real_6': Path(r'data/wifitrafficstats6.csv')\n",
    "}\n",
    "\n",
    "transition_matrices_path_dict = {\n",
    "    'tmat_1': Path(r'data/wifi_t_matrices.csv'),\n",
    "    #'tmat_2': Path(r'data/wifi_t_matrices2.csv')\n",
    "}"
   ]
  },
  {
   "cell_type": "markdown",
   "metadata": {},
   "source": [
    "## occupancy predictor"
   ]
  },
  {
   "cell_type": "markdown",
   "metadata": {},
   "source": [
    "### classing it up"
   ]
  },
  {
   "cell_type": "code",
   "execution_count": 4,
   "metadata": {},
   "outputs": [],
   "source": [
    "class OccupancyPredictor:\n",
    "    def __init__(self, real_data_path_dict, timeunits, timesteps, autoselect_file=True):\n",
    "        print('initializing OP..')\n",
    "        \n",
    "        # attributes\n",
    "        self.real_data_path_dict = real_data_path_dict\n",
    "        \n",
    "        # set timeunits\n",
    "        if not isinstance(timeunits, list):\n",
    "            self.timeunits = [timeunits]\n",
    "            print(f'\\tsingle timeunit received {self.timeunits}')\n",
    "        else:\n",
    "            self.timeunits = timeunits\n",
    "            print(f'\\t{len(self.timeunits)} timeunits received')\n",
    "            \n",
    "        # set timesteps\n",
    "        if not isinstance(timesteps, list):\n",
    "            self.timesteps = [timesteps]\n",
    "            print(f'\\tsingle timestep received {self.timesteps}')\n",
    "        else:\n",
    "            if len(self.timeunits) > 1:\n",
    "                print('ERROR: timeunit already list, timestep must be single value')\n",
    "                raise ValueError\n",
    "            self.timesteps = timesteps\n",
    "            print(f'\\t{len(self.timesteps)} timesteps received')\n",
    "        \n",
    "        # startup tasks\n",
    "        self.WTA_real = WifiTrafficAnalyzer(mode='real', path_dict=self.real_data_path_dict)\n",
    "        self.select_file_key(autoselect=autoselect_file)\n",
    "        \n",
    "        \n",
    "    \n",
    "    def select_file_key(self, autoselect):        \n",
    "        if autoselect:\n",
    "            self.file_key = list(self.WTA_real.path_dict.keys())[1]\n",
    "            self.WTA_real.process_real_data(self.file_key)\n",
    "            print(f'\\tautoselected and processed \\'{self.file_key}\\'')\n",
    "            \n",
    "        else:\n",
    "            file_key = input('please select a target file..')\n",
    "            \n",
    "            try:\n",
    "                assert file_key.strip().lower() in self.WTA_real.path_dict.keys()\n",
    "                \n",
    "                self.file_key = file_key.strip().lower()\n",
    "                self.WTA_real.process_real_data(self.file_key)\n",
    "                \n",
    "                print(f'\\tset and processed target file: {self.file_key}')\n",
    "                \n",
    "            except AssertionError:\n",
    "                print(f'invalid target file: {file_key}, options are {self.WTA_real.path_dict.keys()}')\n",
    "                raise\n",
    "        \n",
    "        \n",
    "    def convert_and_reshape(self, timeunit, downsample_factor):\n",
    "        self.data_array = self.decimate_signal(\n",
    "            self.WTA_real.real_data_array,\n",
    "            downsample_factor\n",
    "        )\n",
    "        print(f'generated real data array, size: {self.data_array.shape}')\n",
    "        \n",
    "        data_matrix = (\n",
    "            self.data_array[\n",
    "                :int(timeunit*np.floor(len(self.data_array) / timeunit))\n",
    "            ].reshape((-1, timeunit))\n",
    "        )\n",
    "        print(f'reshaped into {data_matrix.shape[0]} : {timeunit}µs chunks')\n",
    "        \n",
    "        return data_matrix\n",
    "    \n",
    "    \n",
    "    def decimate_signal(self, data_array, factor):\n",
    "        with suppress(FutureWarning):\n",
    "            return signal.decimate(\n",
    "                tuple(data_array),\n",
    "                factor,\n",
    "                ftype='fir'\n",
    "            )\n",
    "    \n",
    "        \n",
    "    def compute_transition_matrix(self, row, timeunit):\n",
    "        onon, onoff, offon, offoff = 0, 0, 0, 0\n",
    "        \n",
    "        for i in range(timeunit-1):    \n",
    "            # if ON -> ON\n",
    "            if row[i] == row[i+1] == 1:\n",
    "                onon += 1\n",
    "                \n",
    "            # if ON -> OFF\n",
    "            elif row[i] == 1 and row[i+1] == 0:\n",
    "                onoff += 1\n",
    "                \n",
    "            # if OFF -> ON\n",
    "            elif row[i] == 0 and row[i+1] == 1:\n",
    "                offon += 1\n",
    "                \n",
    "            #if OFF -> OFF\n",
    "            elif row[i] == row[i+1] == 0:\n",
    "                offoff += 1\n",
    "                \n",
    "        try:\n",
    "            p_onon = onon / (onon + onoff)\n",
    "        except ZeroDivisionError:\n",
    "            p_onon = 0\n",
    "        \n",
    "        try:\n",
    "            p_offoff = offoff / (offoff + offon)\n",
    "        except ZeroDivisionError:\n",
    "            p_offoff = 0\n",
    "            \n",
    "        try:\n",
    "            p_onoff = onoff / (onon + onoff)\n",
    "        except ZeroDivisionError:\n",
    "            p_onoff = 0\n",
    "            \n",
    "        try:\n",
    "            p_offon = offon / (offoff + offon)\n",
    "        except ZeroDivisionError:\n",
    "            p_offon = 0\n",
    "            \n",
    "        \n",
    "        return (p_onon, p_onoff, p_offon, p_offoff) \n",
    "    \n",
    "    \n",
    "    def compute_tmats_and_load_df(self, data_matrix, timeunit):\n",
    "        # compute all transition matrices\n",
    "        tmat_array = [\n",
    "            self.compute_transition_matrix(\n",
    "                data_matrix[idx,:],\n",
    "                timeunit\n",
    "            )\n",
    "            for idx in range(data_matrix.shape[0])\n",
    "        ]\n",
    "        \n",
    "        # load dataframe\n",
    "        tmat_df = (\n",
    "            pd\n",
    "            .DataFrame(\n",
    "                tmat_array, \n",
    "                columns=['OnOn', 'OnOff', 'OffOn', 'OffOff']\n",
    "            ).assign(\n",
    "                timeunit = timeunit,\n",
    "                source = self.file_key\n",
    "            )\n",
    "            [['OnOn','OnOff','OffOff','OffOn','timeunit','source']]\n",
    "        )\n",
    "        print(f'created transition matrix dataframe, {tmat_df.shape[0]} rows')\n",
    "        \n",
    "        return tmat_df\n",
    "    \n",
    "    \n",
    "    def process_timeunit(self, timeunit, timestep):\n",
    "        print(f'processing data for timeunit: {timeunit}µs')\n",
    "        \n",
    "        data_matrix = self.convert_and_reshape(timeunit, timestep)        \n",
    "        tmat_df = self.compute_tmats_and_load_df(data_matrix, timeunit)\n",
    "        \n",
    "        return data_matrix, tmat_df\n",
    "    \n",
    "        \n",
    "    def iterate_timeunits(self):\n",
    "        df_dict = {}\n",
    "        timestep = self.timesteps[0]\n",
    "        print(f'iterating timeunits, using fixed timestep: {timestep}')\n",
    "        \n",
    "        for timeunit in tqdm_notebook(self.timeunits): \n",
    "            print('\\n' + '='*50)\n",
    "            print(f'processing timeunit {timeunit}')\n",
    "            data_matrix, tmat_df = self.process_timeunit(int(timeunit/timestep), timestep) \n",
    "            print(f'data matrix: {data_matrix.shape}')\n",
    "        \n",
    "            sim_data_matrix = self.WTA_real.simulate_all_OP_transition_matrices(\n",
    "                tmat_dataframe=tmat_df,\n",
    "                n_samples=int(timeunit/timestep), \n",
    "                m_trials=1\n",
    "            )[1:,:]\n",
    "            \n",
    "            print(f'sim data matrix: {sim_data_matrix.shape}')\n",
    "            \n",
    "            comp_df = (\n",
    "                pd\n",
    "                .DataFrame({\n",
    "                    'real_data': data_matrix.sum(axis=1),\n",
    "                    'sim_data': sim_data_matrix.sum(axis=1)\n",
    "                })\n",
    "                .assign(\n",
    "                    real_data = lambda x: x.real_data.astype('int'),\n",
    "                    sim_data = lambda x: x.sim_data.astype('int'),\n",
    "                    timestep = timestep,\n",
    "                    timeunit = timeunit\n",
    "                )\n",
    "                .eval('Diff = sim_data - real_data')\n",
    "            )\n",
    "            \n",
    "            df_dict[timeunit] = comp_df            \n",
    "        \n",
    "        self.full_comp_df = pd.concat([df for df in df_dict.values()])\n",
    "        self.iter_var = 'timeunit'\n",
    "    \n",
    "    \n",
    "    def iterate_timesteps(self):\n",
    "        df_dict = {}\n",
    "        timeunit = self.timeunits[0]\n",
    "        print(f'iterating timesteps, using fixed timeunit: {timeunit}')\n",
    "        \n",
    "        for timestep in tqdm_notebook(self.timesteps): \n",
    "            print('\\n' + '='*50)\n",
    "            print(f'processing timestep {timestep}')\n",
    "            data_matrix, tmat_df = self.process_timeunit(int(timeunit/timestep), timestep) \n",
    "            print(f'data matrix: {data_matrix.shape}')\n",
    "        \n",
    "            sim_data_matrix = self.WTA_real.simulate_all_OP_transition_matrices(\n",
    "                tmat_dataframe=tmat_df,\n",
    "                n_samples=int(timeunit/timestep), \n",
    "                m_trials=1\n",
    "            )[1:,:]\n",
    "            \n",
    "            print(f'sim data matrix: {sim_data_matrix.shape}')\n",
    "            \n",
    "            comp_df = (\n",
    "                pd\n",
    "                .DataFrame({\n",
    "                    'real_data': data_matrix.sum(axis=1),\n",
    "                    'sim_data': sim_data_matrix.sum(axis=1)\n",
    "                })\n",
    "                .assign(\n",
    "                    real_data = lambda x: x.real_data.astype('int'),\n",
    "                    sim_data = lambda x: x.sim_data.astype('int'),\n",
    "                    timestep = timestep,\n",
    "                    timeunit = timeunit,\n",
    "                    Diff = lambda x: np.abs(x.sim_data - x.real_data)\n",
    "                )\n",
    "            )\n",
    "            \n",
    "            df_dict[timestep] = comp_df            \n",
    "        \n",
    "        self.full_comp_df = pd.concat([df for df in df_dict.values()])\n",
    "        self.iter_var = 'timestep'\n",
    "        \n",
    "        \n",
    "    def post_process_dataframe(self):\n",
    "        self.comp_stats_df = (\n",
    "            self\n",
    "            .full_comp_df\n",
    "            .eval('real_data = real_data * timestep / timeunit')\n",
    "            .eval('sim_data = sim_data * timestep / timeunit')\n",
    "            .assign(pct_diff = lambda x: np.abs(x.sim_data - x.real_data))\n",
    "        )\n",
    "        \n",
    "        print(f'mean difference by {self.iter_var}:')\n",
    "        display(\n",
    "            self\n",
    "            .comp_stats_df\n",
    "            .groupby(self.iter_var)\n",
    "            .Diff\n",
    "            .mean()\n",
    "            .rename('mean_diff')\n",
    "            .to_frame()\n",
    "        )\n",
    "\n",
    "        \n",
    "\n",
    "    def plot_mean_differences(self, background='#abb2bf'):\n",
    "        # save data to disk\n",
    "        self.comp_stats_df.to_csv('data/comp_stats_for_chart.csv', index=False)\n",
    "        \n",
    "        # set data ref\n",
    "        alt_url = 'data/comp_stats_for_chart.csv'\n",
    "                \n",
    "        print('mean difference:')\n",
    "        display(\n",
    "            alt.Chart(\n",
    "                alt_url\n",
    "            ).mark_circle(\n",
    "            ).encode(\n",
    "                alt.X(f'{self.iter_var}:N'),\n",
    "                alt.Y('mean(Diff):Q')\n",
    "            ).properties(\n",
    "                title=f'mean difference by {self.iter_var}'\n",
    "            ).configure(\n",
    "                background=background\n",
    "            )\n",
    "        )\n",
    "        \n",
    "        print('mean percent difference:')\n",
    "        display(\n",
    "            alt.Chart(\n",
    "                alt_url\n",
    "            ).mark_circle(\n",
    "            ).encode(\n",
    "                alt.X(f'{self.iter_var}:N'),\n",
    "                alt.Y('mean(pct_diff):Q')\n",
    "            ).properties(\n",
    "                title=f'mean percent difference by {self.iter_var}'\n",
    "            ).configure(\n",
    "                background=background\n",
    "            )\n",
    "        )\n",
    "    \n",
    "    \n",
    "        "
   ]
  },
  {
   "cell_type": "markdown",
   "metadata": {},
   "source": [
    "## dev"
   ]
  },
  {
   "cell_type": "markdown",
   "metadata": {},
   "source": [
    "### iterating timeunits"
   ]
  },
  {
   "cell_type": "code",
   "execution_count": null,
   "metadata": {},
   "outputs": [],
   "source": [
    "OP = OccupancyPredictor(\n",
    "    real_data_path_dict, \n",
    "    timeunits=list(range(9000, 11000, 50)), \n",
    "    timesteps=1000, \n",
    "    autoselect_file=True\n",
    ")"
   ]
  },
  {
   "cell_type": "code",
   "execution_count": null,
   "metadata": {},
   "outputs": [],
   "source": [
    "OP.iterate_timeunits()"
   ]
  },
  {
   "cell_type": "code",
   "execution_count": null,
   "metadata": {},
   "outputs": [],
   "source": [
    "OP.post_process_dataframe()"
   ]
  },
  {
   "cell_type": "code",
   "execution_count": null,
   "metadata": {},
   "outputs": [],
   "source": [
    "OP.plot_mean_differences()"
   ]
  },
  {
   "cell_type": "code",
   "execution_count": null,
   "metadata": {},
   "outputs": [],
   "source": []
  },
  {
   "cell_type": "markdown",
   "metadata": {},
   "source": [
    "### iterating timesteps"
   ]
  },
  {
   "cell_type": "code",
   "execution_count": 5,
   "metadata": {},
   "outputs": [
    {
     "name": "stdout",
     "output_type": "stream",
     "text": [
      "initializing OP..\n",
      "\tsingle timeunit received [10000]\n",
      "\t9 timesteps received\n",
      "initializing WTA..\n",
      "initialization complete, mode: real\n",
      "real data options: \n",
      "\tkey: real_2, path: data\\wifitrafficstats2.csv\n",
      "\tkey: real_3, path: data\\wifitrafficstats3.csv\n",
      "\tkey: real_4, path: data\\wifitrafficstats4.csv\n",
      "\tkey: real_5, path: data\\wifitrafficstats5.csv\n",
      "\tkey: real_6, path: data\\wifitrafficstats6.csv\n",
      "\tautoselected and processed 'real_3'\n"
     ]
    }
   ],
   "source": [
    "OP = OccupancyPredictor(\n",
    "    real_data_path_dict, \n",
    "    timeunits=10_000, \n",
    "    timesteps=list(range(100, 1000, 100)), \n",
    "    autoselect_file=True\n",
    ")"
   ]
  },
  {
   "cell_type": "code",
   "execution_count": 6,
   "metadata": {},
   "outputs": [
    {
     "name": "stdout",
     "output_type": "stream",
     "text": [
      "iterating timesteps, using fixed timeunit: 10000\n"
     ]
    },
    {
     "data": {
      "application/vnd.jupyter.widget-view+json": {
       "model_id": "421924f8f226404ba7211f8cfa3f4342",
       "version_major": 2,
       "version_minor": 0
      },
      "text/plain": [
       "HBox(children=(IntProgress(value=0, max=9), HTML(value='')))"
      ]
     },
     "metadata": {},
     "output_type": "display_data"
    },
    {
     "name": "stdout",
     "output_type": "stream",
     "text": [
      "\n",
      "==================================================\n",
      "processing timestep 100\n",
      "processing data for timeunit: 100µs\n",
      "generated real data array, size: (718850,)\n",
      "reshaped into 7188 : 100µs chunks\n",
      "created transition matrix dataframe, 7188 rows\n",
      "data matrix: (7188, 100)\n",
      "total elapsed time: 0.03 minutes\n",
      "sim data matrix: (7188, 100)\n",
      "\n",
      "==================================================\n",
      "processing timestep 200\n",
      "processing data for timeunit: 50µs\n",
      "generated real data array, size: (359425,)\n",
      "reshaped into 7188 : 50µs chunks\n",
      "created transition matrix dataframe, 7188 rows\n",
      "data matrix: (7188, 50)\n",
      "total elapsed time: 0.02 minutes\n",
      "sim data matrix: (7188, 50)\n",
      "\n",
      "==================================================\n",
      "processing timestep 300\n",
      "processing data for timeunit: 33µs\n",
      "generated real data array, size: (239617,)\n",
      "reshaped into 7261 : 33µs chunks\n",
      "created transition matrix dataframe, 7261 rows\n",
      "data matrix: (7261, 33)\n",
      "total elapsed time: 0.01 minutes\n",
      "sim data matrix: (7261, 33)\n",
      "\n",
      "==================================================\n",
      "processing timestep 400\n",
      "processing data for timeunit: 25µs\n",
      "generated real data array, size: (179713,)\n",
      "reshaped into 7188 : 25µs chunks\n",
      "created transition matrix dataframe, 7188 rows\n",
      "data matrix: (7188, 25)\n",
      "total elapsed time: 0.01 minutes\n",
      "sim data matrix: (7188, 25)\n",
      "\n",
      "==================================================\n",
      "processing timestep 500\n",
      "processing data for timeunit: 20µs\n",
      "generated real data array, size: (143770,)\n",
      "reshaped into 7188 : 20µs chunks\n",
      "created transition matrix dataframe, 7188 rows\n",
      "data matrix: (7188, 20)\n",
      "total elapsed time: 0.01 minutes\n",
      "sim data matrix: (7188, 20)\n",
      "\n",
      "==================================================\n",
      "processing timestep 600\n",
      "processing data for timeunit: 16µs\n",
      "generated real data array, size: (119809,)\n",
      "reshaped into 7488 : 16µs chunks\n",
      "created transition matrix dataframe, 7488 rows\n",
      "data matrix: (7488, 16)\n",
      "total elapsed time: 0.01 minutes\n",
      "sim data matrix: (7488, 16)\n",
      "\n",
      "==================================================\n",
      "processing timestep 700\n",
      "processing data for timeunit: 14µs\n",
      "generated real data array, size: (102693,)\n",
      "reshaped into 7335 : 14µs chunks\n",
      "created transition matrix dataframe, 7335 rows\n",
      "data matrix: (7335, 14)\n",
      "total elapsed time: 0.01 minutes\n",
      "sim data matrix: (7335, 14)\n",
      "\n",
      "==================================================\n",
      "processing timestep 800\n",
      "processing data for timeunit: 12µs\n",
      "generated real data array, size: (89857,)\n",
      "reshaped into 7488 : 12µs chunks\n",
      "created transition matrix dataframe, 7488 rows\n",
      "data matrix: (7488, 12)\n",
      "total elapsed time: 0.01 minutes\n",
      "sim data matrix: (7488, 12)\n",
      "\n",
      "==================================================\n",
      "processing timestep 900\n",
      "processing data for timeunit: 11µs\n",
      "generated real data array, size: (79873,)\n",
      "reshaped into 7261 : 11µs chunks\n",
      "created transition matrix dataframe, 7261 rows\n",
      "data matrix: (7261, 11)\n",
      "total elapsed time: 0.01 minutes\n",
      "sim data matrix: (7261, 11)\n",
      "\n"
     ]
    }
   ],
   "source": [
    "OP.iterate_timesteps()"
   ]
  },
  {
   "cell_type": "code",
   "execution_count": 7,
   "metadata": {},
   "outputs": [
    {
     "name": "stdout",
     "output_type": "stream",
     "text": [
      "mean difference by timestep:\n"
     ]
    },
    {
     "data": {
      "text/html": [
       "<div>\n",
       "<style scoped>\n",
       "    .dataframe tbody tr th:only-of-type {\n",
       "        vertical-align: middle;\n",
       "    }\n",
       "\n",
       "    .dataframe tbody tr th {\n",
       "        vertical-align: top;\n",
       "    }\n",
       "\n",
       "    .dataframe thead th {\n",
       "        text-align: right;\n",
       "    }\n",
       "</style>\n",
       "<table border=\"1\" class=\"dataframe\">\n",
       "  <thead>\n",
       "    <tr style=\"text-align: right;\">\n",
       "      <th></th>\n",
       "      <th>mean_diff</th>\n",
       "    </tr>\n",
       "    <tr>\n",
       "      <th>timestep</th>\n",
       "      <th></th>\n",
       "    </tr>\n",
       "  </thead>\n",
       "  <tbody>\n",
       "    <tr>\n",
       "      <th>100</th>\n",
       "      <td>22.898998</td>\n",
       "    </tr>\n",
       "    <tr>\n",
       "      <th>200</th>\n",
       "      <td>11.147885</td>\n",
       "    </tr>\n",
       "    <tr>\n",
       "      <th>300</th>\n",
       "      <td>7.188679</td>\n",
       "    </tr>\n",
       "    <tr>\n",
       "      <th>400</th>\n",
       "      <td>5.326099</td>\n",
       "    </tr>\n",
       "    <tr>\n",
       "      <th>500</th>\n",
       "      <td>4.187813</td>\n",
       "    </tr>\n",
       "    <tr>\n",
       "      <th>600</th>\n",
       "      <td>3.298210</td>\n",
       "    </tr>\n",
       "    <tr>\n",
       "      <th>700</th>\n",
       "      <td>2.840082</td>\n",
       "    </tr>\n",
       "    <tr>\n",
       "      <th>800</th>\n",
       "      <td>2.428018</td>\n",
       "    </tr>\n",
       "    <tr>\n",
       "      <th>900</th>\n",
       "      <td>2.200937</td>\n",
       "    </tr>\n",
       "  </tbody>\n",
       "</table>\n",
       "</div>"
      ],
      "text/plain": [
       "          mean_diff\n",
       "timestep           \n",
       "100       22.898998\n",
       "200       11.147885\n",
       "300        7.188679\n",
       "400        5.326099\n",
       "500        4.187813\n",
       "600        3.298210\n",
       "700        2.840082\n",
       "800        2.428018\n",
       "900        2.200937"
      ]
     },
     "metadata": {},
     "output_type": "display_data"
    }
   ],
   "source": [
    "OP.post_process_dataframe()"
   ]
  },
  {
   "cell_type": "code",
   "execution_count": 8,
   "metadata": {},
   "outputs": [
    {
     "name": "stdout",
     "output_type": "stream",
     "text": [
      "mean difference:\n"
     ]
    },
    {
     "data": {
      "application/vnd.vegalite.v2+json": {
       "$schema": "https://vega.github.io/schema/vega-lite/v2.6.0.json",
       "config": {
        "background": "#abb2bf",
        "view": {
         "height": 300,
         "width": 400
        }
       },
       "data": {
        "format": {
         "type": "csv"
        },
        "url": "data/comp_stats_for_chart.csv"
       },
       "encoding": {
        "x": {
         "field": "timestep",
         "type": "nominal"
        },
        "y": {
         "aggregate": "mean",
         "field": "Diff",
         "type": "quantitative"
        }
       },
       "mark": "circle",
       "title": "mean difference by timestep"
      },
      "image/png": "[encoded data removed]",
      "text/plain": [
       "<VegaLite 2 object>\n",
       "\n",
       "If you see this message, it means the renderer has not been properly enabled\n",
       "for the frontend that you are using. For more information, see\n",
       "https://altair-viz.github.io/user_guide/troubleshooting.html\n"
      ]
     },
     "metadata": {},
     "output_type": "display_data"
    },
    {
     "name": "stdout",
     "output_type": "stream",
     "text": [
      "mean percent difference:\n"
     ]
    },
    {
     "data": {
      "application/vnd.vegalite.v2+json": {
       "$schema": "https://vega.github.io/schema/vega-lite/v2.6.0.json",
       "config": {
        "background": "#abb2bf",
        "view": {
         "height": 300,
         "width": 400
        }
       },
       "data": {
        "format": {
         "type": "csv"
        },
        "url": "data/comp_stats_for_chart.csv"
       },
       "encoding": {
        "x": {
         "field": "timestep",
         "type": "nominal"
        },
        "y": {
         "aggregate": "mean",
         "field": "pct_diff",
         "type": "quantitative"
        }
       },
       "mark": "circle",
       "title": "mean percent difference by timestep"
      },
      "image/png": "[encoded data removed]",
      "text/plain": [
       "<VegaLite 2 object>\n",
       "\n",
       "If you see this message, it means the renderer has not been properly enabled\n",
       "for the frontend that you are using. For more information, see\n",
       "https://altair-viz.github.io/user_guide/troubleshooting.html\n"
      ]
     },
     "metadata": {},
     "output_type": "display_data"
    }
   ],
   "source": [
    "OP.plot_mean_differences()"
   ]
  },
  {
   "cell_type": "code",
   "execution_count": null,
   "metadata": {},
   "outputs": [],
   "source": []
  },
  {
   "cell_type": "code",
   "execution_count": null,
   "metadata": {},
   "outputs": [],
   "source": []
  },
  {
   "cell_type": "markdown",
   "metadata": {},
   "source": [
    "## sim vs real comparison"
   ]
  },
  {
   "cell_type": "code",
   "execution_count": null,
   "metadata": {},
   "outputs": [],
   "source": [
    "#----------------------- bar chart -----------------------\n",
    "sel_iter_var = alt.selection_single(encodings=['y'])\n",
    "\n",
    "bar_chart = alt.Chart(\n",
    "    OP.full_comp_df,\n",
    "    #.sample(frac=0.1),\n",
    "    width=250,\n",
    "    height=800\n",
    ").mark_bar(\n",
    ").encode(\n",
    "    alt.X('mean(Diff):Q'),\n",
    "    alt.Y(f'{OP.iter_var}:N'),\n",
    "    color=alt.condition(\n",
    "        sel_iter_var,\n",
    "        f'{OP.iter_var}:N',\n",
    "        alt.value('#96989b'),\n",
    "        legend=None\n",
    "    )\n",
    ").add_selection(\n",
    "    sel_iter_var\n",
    ")\n",
    "#.configure(background='#abb2bf')\n",
    "\n",
    "\n",
    "#----------------------- signals -----------------------\n",
    "\n",
    "x_scaler = alt.selection_interval(encodings=['x'])\n",
    "\n",
    "base = alt.Chart(\n",
    "    OP.full_comp_df.reset_index().sample(frac=0.5),\n",
    "    height=200,\n",
    "    width=800\n",
    ").transform_filter(\n",
    "    sel_iter_var\n",
    ").mark_line(\n",
    "    opacity=0.5\n",
    ").encode(\n",
    "    alt.X('index:Q', scale={'domain': x_scaler.ref()}),\n",
    "    #alt.Y('real_data:Q')\n",
    ")\n",
    "\n",
    "layered = alt.vconcat(\n",
    "    base.encode(\n",
    "        alt.Y('real_data:Q'),\n",
    "        #color=alt.value('#4286f4') # blue\n",
    "        color=f'{OP.iter_var}:N'\n",
    "    ).transform_filter(x_scaler),\n",
    "    base.encode(\n",
    "        alt.Y('sim_data:Q'),\n",
    "        #color=alt.value('#41f470') # green\n",
    "        color=f'{OP.iter_var}:N'\n",
    "    ).transform_filter(x_scaler),\n",
    "    base.encode(\n",
    "        alt.Y('Diff:Q'),\n",
    "        #color=alt.value('#f44141') # red\n",
    "        color=f'{OP.iter_var}:N'\n",
    "    ).transform_filter(x_scaler),\n",
    ")\n",
    "\n",
    "wide = base.encode(alt.Y('Diff:Q')).add_selection(x_scaler).properties(height=100)\n",
    "\n",
    "signal_concat = alt.vconcat(\n",
    "    layered, \n",
    "    wide\n",
    ")\n",
    "\n",
    "alt.hconcat(\n",
    "    bar_chart,\n",
    "    signal_concat,\n",
    "    background='#abb2bf'\n",
    ")\n",
    "\n"
   ]
  },
  {
   "cell_type": "code",
   "execution_count": null,
   "metadata": {},
   "outputs": [],
   "source": []
  },
  {
   "cell_type": "code",
   "execution_count": null,
   "metadata": {},
   "outputs": [],
   "source": []
  },
  {
   "cell_type": "code",
   "execution_count": null,
   "metadata": {},
   "outputs": [],
   "source": []
  },
  {
   "cell_type": "code",
   "execution_count": null,
   "metadata": {},
   "outputs": [],
   "source": []
  },
  {
   "cell_type": "code",
   "execution_count": null,
   "metadata": {},
   "outputs": [],
   "source": []
  },
  {
   "cell_type": "code",
   "execution_count": null,
   "metadata": {},
   "outputs": [],
   "source": []
  },
  {
   "cell_type": "code",
   "execution_count": null,
   "metadata": {},
   "outputs": [],
   "source": []
  },
  {
   "cell_type": "code",
   "execution_count": null,
   "metadata": {},
   "outputs": [],
   "source": []
  },
  {
   "cell_type": "code",
   "execution_count": null,
   "metadata": {},
   "outputs": [],
   "source": []
  },
  {
   "cell_type": "code",
   "execution_count": null,
   "metadata": {},
   "outputs": [],
   "source": []
  },
  {
   "cell_type": "code",
   "execution_count": null,
   "metadata": {},
   "outputs": [],
   "source": []
  },
  {
   "cell_type": "code",
   "execution_count": null,
   "metadata": {},
   "outputs": [],
   "source": []
  },
  {
   "cell_type": "code",
   "execution_count": null,
   "metadata": {},
   "outputs": [],
   "source": []
  },
  {
   "cell_type": "markdown",
   "metadata": {},
   "source": [
    "## misfits"
   ]
  },
  {
   "cell_type": "raw",
   "metadata": {},
   "source": [
    "tmat_df.loc[\n",
    "    lambda x: [\n",
    "        True \n",
    "            if onon == 0 and onoff == 0 \n",
    "            else False \n",
    "        for onon, onoff in zip(x.onon, x.onoff)\n",
    "    ]\n",
    "].shape"
   ]
  },
  {
   "cell_type": "raw",
   "metadata": {},
   "source": [
    "tmat_df.shape"
   ]
  },
  {
   "cell_type": "code",
   "execution_count": null,
   "metadata": {},
   "outputs": [],
   "source": []
  }
 ],
 "metadata": {
  "kernelspec": {
   "display_name": "Python 3",
   "language": "python",
   "name": "python3"
  },
  "language_info": {
   "codemirror_mode": {
    "name": "ipython",
    "version": 3
   },
   "file_extension": ".py",
   "mimetype": "text/x-python",
   "name": "python",
   "nbconvert_exporter": "python",
   "pygments_lexer": "ipython3",
   "version": "3.6.7"
  }
 },
 "nbformat": 4,
 "nbformat_minor": 2
}
