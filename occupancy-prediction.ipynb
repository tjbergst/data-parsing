{
 "cells": [
  {
   "cell_type": "markdown",
   "metadata": {},
   "source": [
    "# occupancy prediction\n",
    "\n",
    "![img](dev/IMG_6435.jpg)"
   ]
  },
  {
   "cell_type": "markdown",
   "metadata": {},
   "source": [
    "plan:\n",
    "- split `real_data_array` into `timeunit` chunks\n",
    "- compute transition matrix for each chunk\n",
    "- simulate `timeunit` length of data using each transition matrix\n",
    "- compare simulated data to each respective real data chunk\n",
    "- make sure to normalize the *`timestep`* with `scipy.signal.decimate`\n",
    "<br>\n",
    "<br>"
   ]
  },
  {
   "cell_type": "code",
   "execution_count": 1,
   "metadata": {},
   "outputs": [],
   "source": [
    "# set autoreload\n",
    "%load_ext autoreload\n",
    "%autoreload 2"
   ]
  },
  {
   "cell_type": "code",
   "execution_count": 2,
   "metadata": {},
   "outputs": [],
   "source": [
    "import pandas as pd\n",
    "import numpy as np\n",
    "import scipy as sp\n",
    "from tqdm import tqdm_notebook, tnrange, trange, tqdm\n",
    "from itertools import cycle\n",
    "from collections import Counter\n",
    "from pathlib import Path\n",
    "import time\n",
    "\n",
    "import altair as alt\n",
    "from altair.expr import datum\n",
    "\n",
    "from _modules.wifi_traffic_analyzer import WifiTrafficAnalyzer"
   ]
  },
  {
   "cell_type": "markdown",
   "metadata": {},
   "source": [
    "## params"
   ]
  },
  {
   "cell_type": "code",
   "execution_count": 3,
   "metadata": {},
   "outputs": [],
   "source": [
    "#real_data_tstep = 1/20e6\n",
    "\n",
    "timeunit = 10_000"
   ]
  },
  {
   "cell_type": "markdown",
   "metadata": {},
   "source": [
    "## configs"
   ]
  },
  {
   "cell_type": "code",
   "execution_count": 4,
   "metadata": {},
   "outputs": [],
   "source": [
    "real_data_path_dict = {\n",
    "    'real_2': Path(r'data/wifitrafficstats2.csv'),\n",
    "    'real_3': Path(r'data/wifitrafficstats3.csv'),\n",
    "    'real_4': Path(r'data/wifitrafficstats4.csv'),\n",
    "    'real_5': Path(r'data/wifitrafficstats5.csv'),\n",
    "    'real_6': Path(r'data/wifitrafficstats6.csv')\n",
    "}\n",
    "\n",
    "transition_matrices_path_dict = {\n",
    "    'tmat_1': Path(r'data/wifi_t_matrices.csv'),\n",
    "    #'tmat_2': Path(r'data/wifi_t_matrices2.csv')\n",
    "}"
   ]
  },
  {
   "cell_type": "markdown",
   "metadata": {},
   "source": [
    "## occupancy predictor"
   ]
  },
  {
   "cell_type": "markdown",
   "metadata": {},
   "source": [
    "### classing it up"
   ]
  },
  {
   "cell_type": "code",
   "execution_count": 5,
   "metadata": {},
   "outputs": [],
   "source": [
    "class OccupancyPredictor:\n",
    "    def __init__(self, real_data_path_dict, timeunits, autoselect_file=True):\n",
    "        print('initializing OP..')\n",
    "        \n",
    "        # attributes\n",
    "        self.real_data_path_dict = real_data_path_dict\n",
    "        \n",
    "        # set timeunits\n",
    "        if not isinstance(timeunits, list):\n",
    "            self.timeunits = [timeunits]\n",
    "            print(f'single timeunit received {self.timeunits}')\n",
    "        else:\n",
    "            self.timeunits = timeunits\n",
    "            print(f'{len(self.timeunits)} timeunits received')            \n",
    "        \n",
    "        # startup tasks\n",
    "        self.WTA_real = WifiTrafficAnalyzer(mode='real', path_dict=self.real_data_path_dict)\n",
    "        self.select_file_key(autoselect=autoselect_file)\n",
    "        \n",
    "        \n",
    "    \n",
    "    def select_file_key(self, autoselect):        \n",
    "        if autoselect:\n",
    "            self.file_key = list(self.WTA_real.path_dict.keys())[0]\n",
    "            self.WTA_real.process_real_data(self.file_key)\n",
    "            print(f'\\tautoselected and processed \\'{self.file_key}\\'')\n",
    "            \n",
    "        else:\n",
    "            file_key = input('please select a target file..')\n",
    "            \n",
    "            try:\n",
    "                assert file_key.strip().lower() in self.WTA_real.path_dict.keys()\n",
    "                \n",
    "                self.file_key = file_key.strip().lower()\n",
    "                self.WTA_real.process_real_data(self.file_key)\n",
    "                \n",
    "                print(f'\\tset and processed target file: {self.file_key}')\n",
    "                \n",
    "            except AssertionError:\n",
    "                print(f'invalid target file: {file_key}, options are {self.WTA_real.path_dict.keys()}')\n",
    "                raise\n",
    "        \n",
    "        \n",
    "    def convert_and_reshape(self, timeunit):\n",
    "        self.data_array = self.WTA_real.real_data_array\n",
    "        print(f'generated real data array, size: {self.data_array.shape}')\n",
    "        \n",
    "        data_matrix = (\n",
    "            self.data_array[\n",
    "                :int(timeunit*np.round(len(self.data_array) / timeunit))\n",
    "            ].reshape((-1, timeunit))\n",
    "        )\n",
    "        print(f'reshaped into {data_matrix.shape[0]} : {timeunit}µs chunks')\n",
    "        \n",
    "        return data_matrix\n",
    "    \n",
    "        \n",
    "    def compute_transition_matrix(self, row, timeunit):\n",
    "        onon, onoff, offon, offoff = 0, 0, 0, 0\n",
    "        \n",
    "        for i in range(timeunit-1):    \n",
    "            # if ON -> ON\n",
    "            if row[i] == row[i+1] == 1:\n",
    "                onon += 1\n",
    "                \n",
    "            # if ON -> OFF\n",
    "            elif row[i] == 1 and row[i+1] == 0:\n",
    "                onoff += 1\n",
    "                \n",
    "            # if OFF -> ON\n",
    "            elif row[i] == 0 and row[i+1] == 1:\n",
    "                offon += 1\n",
    "                \n",
    "            #if OFF -> OFF\n",
    "            elif row[i] == row[i+1] == 0:\n",
    "                offoff += 1\n",
    "                \n",
    "        try:\n",
    "            p_onon = onon / (onon + onoff)\n",
    "        except ZeroDivisionError:\n",
    "            p_onon = 0\n",
    "        \n",
    "        try:\n",
    "            p_offoff = offoff / (offoff + offon)\n",
    "        except ZeroDivisionError:\n",
    "            p_offoff = 0\n",
    "            \n",
    "        try:\n",
    "            p_onoff = onoff / (onon + onoff)\n",
    "        except ZeroDivisionError:\n",
    "            p_onoff = 0\n",
    "            \n",
    "        try:\n",
    "            p_offon = offon / (offoff + offon)\n",
    "        except ZeroDivisionError:\n",
    "            p_offon = 0\n",
    "            \n",
    "        \n",
    "        return (p_onon, p_onoff, p_offon, p_offoff) \n",
    "    \n",
    "    \n",
    "    def compute_tmats_and_load_df(self, data_matrix, timeunit):\n",
    "        # compute all transition matrices\n",
    "        tmat_array = [\n",
    "            self.compute_transition_matrix(\n",
    "                data_matrix[idx,:],\n",
    "                timeunit\n",
    "            )\n",
    "            for idx in tnrange(data_matrix.shape[0])\n",
    "        ]\n",
    "        \n",
    "        # load dataframe\n",
    "        tmat_df = (\n",
    "            pd\n",
    "            .DataFrame(\n",
    "                tmat_array, \n",
    "                columns=['OnOn', 'OnOff', 'OffOn', 'OffOff']\n",
    "            ).assign(\n",
    "                timeunit = timeunit,\n",
    "                source = self.file_key\n",
    "            )\n",
    "            [['OnOn','OnOff','OffOff','OffOn','timeunit','source']]\n",
    "        )\n",
    "        print(f'created transition matrix dataframe, {tmat_df.shape[0]} rows')\n",
    "        \n",
    "        return tmat_df\n",
    "    \n",
    "    \n",
    "    def process_timeunit(self, timeunit):\n",
    "        print(f'processing data for timeunit: {timeunit}µs')\n",
    "        \n",
    "        data_matrix = self.convert_and_reshape(timeunit)        \n",
    "        tmat_df = self.compute_tmats_and_load_df(data_matrix, timeunit)\n",
    "        \n",
    "        return data_matrix, tmat_df\n",
    "        \n",
    "        "
   ]
  },
  {
   "cell_type": "code",
   "execution_count": 6,
   "metadata": {},
   "outputs": [
    {
     "name": "stdout",
     "output_type": "stream",
     "text": [
      "initializing OP..\n",
      "single timeunit received [10000]\n",
      "initializing WTA..\n",
      "initialization complete, mode: real\n",
      "real data options: \n",
      "\tkey: real_2, path: data/wifitrafficstats2.csv\n",
      "\tkey: real_3, path: data/wifitrafficstats3.csv\n",
      "\tkey: real_4, path: data/wifitrafficstats4.csv\n",
      "\tkey: real_5, path: data/wifitrafficstats5.csv\n",
      "\tkey: real_6, path: data/wifitrafficstats6.csv\n"
     ]
    },
    {
     "data": {
      "application/vnd.jupyter.widget-view+json": {
       "model_id": "f231eb645a294938bb0fe0da589dbed2",
       "version_major": 2,
       "version_minor": 0
      },
      "text/plain": [
       "HBox(children=(IntProgress(value=0, max=5310), HTML(value='')))"
      ]
     },
     "metadata": {},
     "output_type": "display_data"
    },
    {
     "name": "stdout",
     "output_type": "stream",
     "text": [
      "\n",
      "\tautoselected and processed 'real_2'\n"
     ]
    }
   ],
   "source": [
    "OP = OccupancyPredictor(real_data_path_dict, timeunit, autoselect_file=True)"
   ]
  },
  {
   "cell_type": "code",
   "execution_count": 7,
   "metadata": {},
   "outputs": [
    {
     "name": "stdout",
     "output_type": "stream",
     "text": [
      "processing data for timeunit: 10000µs\n",
      "generated real data array, size: (40431970,)\n",
      "reshaped into 4043 : 10000µs chunks\n"
     ]
    },
    {
     "data": {
      "application/vnd.jupyter.widget-view+json": {
       "model_id": "4fd0b352162942e8b65f813ad15769d5",
       "version_major": 2,
       "version_minor": 0
      },
      "text/plain": [
       "HBox(children=(IntProgress(value=0, max=4043), HTML(value='')))"
      ]
     },
     "metadata": {},
     "output_type": "display_data"
    },
    {
     "name": "stdout",
     "output_type": "stream",
     "text": [
      "\n",
      "created transition matrix dataframe, 4043 rows\n",
      "data matrix: (4043, 10000)\n"
     ]
    },
    {
     "data": {
      "text/html": [
       "<div>\n",
       "<style scoped>\n",
       "    .dataframe tbody tr th:only-of-type {\n",
       "        vertical-align: middle;\n",
       "    }\n",
       "\n",
       "    .dataframe tbody tr th {\n",
       "        vertical-align: top;\n",
       "    }\n",
       "\n",
       "    .dataframe thead th {\n",
       "        text-align: right;\n",
       "    }\n",
       "</style>\n",
       "<table border=\"1\" class=\"dataframe\">\n",
       "  <thead>\n",
       "    <tr style=\"text-align: right;\">\n",
       "      <th></th>\n",
       "      <th>OnOn</th>\n",
       "      <th>OnOff</th>\n",
       "      <th>OffOff</th>\n",
       "      <th>OffOn</th>\n",
       "      <th>timeunit</th>\n",
       "      <th>source</th>\n",
       "    </tr>\n",
       "  </thead>\n",
       "  <tbody>\n",
       "    <tr>\n",
       "      <th>0</th>\n",
       "      <td>0.923077</td>\n",
       "      <td>0.076923</td>\n",
       "      <td>1.000000</td>\n",
       "      <td>0.000000</td>\n",
       "      <td>10000</td>\n",
       "      <td>real_2</td>\n",
       "    </tr>\n",
       "    <tr>\n",
       "      <th>1</th>\n",
       "      <td>0.000000</td>\n",
       "      <td>0.000000</td>\n",
       "      <td>1.000000</td>\n",
       "      <td>0.000000</td>\n",
       "      <td>10000</td>\n",
       "      <td>real_2</td>\n",
       "    </tr>\n",
       "    <tr>\n",
       "      <th>2</th>\n",
       "      <td>0.000000</td>\n",
       "      <td>0.000000</td>\n",
       "      <td>1.000000</td>\n",
       "      <td>0.000000</td>\n",
       "      <td>10000</td>\n",
       "      <td>real_2</td>\n",
       "    </tr>\n",
       "    <tr>\n",
       "      <th>3</th>\n",
       "      <td>0.998675</td>\n",
       "      <td>0.001325</td>\n",
       "      <td>0.999784</td>\n",
       "      <td>0.000216</td>\n",
       "      <td>10000</td>\n",
       "      <td>real_2</td>\n",
       "    </tr>\n",
       "    <tr>\n",
       "      <th>4</th>\n",
       "      <td>0.999353</td>\n",
       "      <td>0.000647</td>\n",
       "      <td>1.000000</td>\n",
       "      <td>0.000000</td>\n",
       "      <td>10000</td>\n",
       "      <td>real_2</td>\n",
       "    </tr>\n",
       "  </tbody>\n",
       "</table>\n",
       "</div>"
      ],
      "text/plain": [
       "       OnOn     OnOff    OffOff     OffOn  timeunit  source\n",
       "0  0.923077  0.076923  1.000000  0.000000     10000  real_2\n",
       "1  0.000000  0.000000  1.000000  0.000000     10000  real_2\n",
       "2  0.000000  0.000000  1.000000  0.000000     10000  real_2\n",
       "3  0.998675  0.001325  0.999784  0.000216     10000  real_2\n",
       "4  0.999353  0.000647  1.000000  0.000000     10000  real_2"
      ]
     },
     "metadata": {},
     "output_type": "display_data"
    }
   ],
   "source": [
    "data_matrix, tmat_df = OP.process_timeunit(OP.timeunits[0])\n",
    "\n",
    "print(f'data matrix: {data_matrix.shape}')\n",
    "display(tmat_df.head())"
   ]
  },
  {
   "cell_type": "code",
   "execution_count": null,
   "metadata": {},
   "outputs": [],
   "source": []
  },
  {
   "cell_type": "code",
   "execution_count": 8,
   "metadata": {},
   "outputs": [
    {
     "data": {
      "application/vnd.jupyter.widget-view+json": {
       "model_id": "d74058f48b814a5a93c7494cf94abf5c",
       "version_major": 2,
       "version_minor": 0
      },
      "text/plain": [
       "HBox(children=(IntProgress(value=0, max=4043), HTML(value='')))"
      ]
     },
     "metadata": {},
     "output_type": "display_data"
    },
    {
     "name": "stdout",
     "output_type": "stream",
     "text": [
      "\n",
      "total elapsed time: 1.77 minutes\n",
      "sim data matrix: (4043, 10000)\n"
     ]
    }
   ],
   "source": [
    "sim_data_matrix = OP.WTA_real.simulate_all_OP_transition_matrices(\n",
    "    tmat_dataframe=tmat_df,\n",
    "    n_samples=OP.timeunits[0], \n",
    "    m_trials=1\n",
    ")\n",
    "\n",
    "print(f'sim data matrix: {sim_data_matrix.shape}')"
   ]
  },
  {
   "cell_type": "code",
   "execution_count": null,
   "metadata": {},
   "outputs": [],
   "source": []
  },
  {
   "cell_type": "code",
   "execution_count": null,
   "metadata": {},
   "outputs": [],
   "source": []
  },
  {
   "cell_type": "code",
   "execution_count": null,
   "metadata": {},
   "outputs": [],
   "source": []
  },
  {
   "cell_type": "code",
   "execution_count": null,
   "metadata": {},
   "outputs": [],
   "source": []
  },
  {
   "cell_type": "code",
   "execution_count": null,
   "metadata": {},
   "outputs": [],
   "source": []
  },
  {
   "cell_type": "code",
   "execution_count": null,
   "metadata": {},
   "outputs": [],
   "source": []
  },
  {
   "cell_type": "markdown",
   "metadata": {},
   "source": [
    "### functions"
   ]
  },
  {
   "cell_type": "code",
   "execution_count": null,
   "metadata": {},
   "outputs": [],
   "source": [
    "def convert_and_reshape(WTA_real_instance, file_key, timeunit):\n",
    "    WTA_real_instance.process_real_data(file_key)\n",
    "    data_array = WTA_real_instance.real_data_array\n",
    "\n",
    "    print(f'generated real data array, size: {data_array.shape}')\n",
    "    \n",
    "    data_matrix = (\n",
    "        data_array[\n",
    "            :int(timeunit*np.round(len(data_array) / timeunit))\n",
    "        ].reshape((-1, timeunit))\n",
    "    )\n",
    "    print(f'reshaped into {data_matrix.shape[0]} : {timeunit}µs chunks')\n",
    "    \n",
    "    return data_matrix, file_key\n",
    "\n",
    "\n",
    "\n",
    "def compute_transition_matrix(row, timeunit):\n",
    "    onon, onoff, offon, offoff = 0, 0, 0, 0\n",
    "    \n",
    "    for i in range(timeunit-1):    \n",
    "        # if ON -> ON\n",
    "        if row[i] == row[i+1] == 1:\n",
    "            onon += 1\n",
    "            \n",
    "        # if ON -> OFF\n",
    "        elif row[i] == 1 and row[i+1] == 0:\n",
    "            onoff += 1\n",
    "            \n",
    "        # if OFF -> ON\n",
    "        elif row[i] == 0 and row[i+1] == 1:\n",
    "            offon += 1\n",
    "            \n",
    "        #if OFF -> OFF\n",
    "        elif row[i] == row[i+1] == 0:\n",
    "            offoff += 1\n",
    "            \n",
    "    try:\n",
    "        p_onon = onon / (onon + onoff)\n",
    "    except ZeroDivisionError:\n",
    "        p_onon = 0\n",
    "    \n",
    "    try:\n",
    "        p_offoff = offoff / (offoff + offon)\n",
    "    except ZeroDivisionError:\n",
    "        p_offoff = 0\n",
    "        \n",
    "    try:\n",
    "        p_onoff = onoff / (onon + onoff)\n",
    "    except ZeroDivisionError:\n",
    "        p_onoff = 0\n",
    "        \n",
    "    try:\n",
    "        p_offon = offon / (offoff + offon)\n",
    "    except ZeroDivisionError:\n",
    "        p_offon = 0\n",
    "        \n",
    "    \n",
    "    return (p_onon, p_onoff, p_offon, p_offoff)\n",
    "\n",
    "\n",
    "\n",
    "def compute_tmats_and_load_df(data_matrix, timeunit, file_key):\n",
    "    # compute all transition matrices\n",
    "    tmat_array = [\n",
    "        compute_transition_matrix(\n",
    "            data_matrix[idx,:],\n",
    "            timeunit\n",
    "        )\n",
    "        for idx in tnrange(data_matrix.shape[0])\n",
    "    ]\n",
    "    \n",
    "    # load dataframe\n",
    "    tmat_df = (\n",
    "        pd\n",
    "        .DataFrame(\n",
    "            tmat_array, \n",
    "            columns=['onon', 'onoff', 'offon', 'offoff']\n",
    "        ).assign(\n",
    "            timeunit = timeunit,\n",
    "            source = file_key\n",
    "        )\n",
    "    )\n",
    "    \n",
    "    return tmat_df    "
   ]
  },
  {
   "cell_type": "code",
   "execution_count": null,
   "metadata": {},
   "outputs": [],
   "source": []
  },
  {
   "cell_type": "markdown",
   "metadata": {},
   "source": [
    "### execution"
   ]
  },
  {
   "cell_type": "code",
   "execution_count": null,
   "metadata": {},
   "outputs": [],
   "source": [
    "WTA_real = WifiTrafficAnalyzer(mode='real', path_dict=real_data_path_dict)"
   ]
  },
  {
   "cell_type": "code",
   "execution_count": null,
   "metadata": {},
   "outputs": [],
   "source": [
    "data_matrix, file_key = convert_and_reshape(WTA_real, 'real_2', timeunit)"
   ]
  },
  {
   "cell_type": "code",
   "execution_count": null,
   "metadata": {},
   "outputs": [],
   "source": [
    "tmat_df = compute_tmats_and_load_df(data_matrix, timeunit, file_key)"
   ]
  },
  {
   "cell_type": "code",
   "execution_count": null,
   "metadata": {},
   "outputs": [],
   "source": [
    "tmat_df.head()"
   ]
  },
  {
   "cell_type": "code",
   "execution_count": null,
   "metadata": {},
   "outputs": [],
   "source": []
  },
  {
   "cell_type": "markdown",
   "metadata": {},
   "source": [
    "## sim data dev"
   ]
  },
  {
   "cell_type": "code",
   "execution_count": null,
   "metadata": {},
   "outputs": [],
   "source": []
  },
  {
   "cell_type": "code",
   "execution_count": null,
   "metadata": {},
   "outputs": [],
   "source": []
  },
  {
   "cell_type": "code",
   "execution_count": null,
   "metadata": {},
   "outputs": [],
   "source": []
  },
  {
   "cell_type": "code",
   "execution_count": null,
   "metadata": {},
   "outputs": [],
   "source": []
  },
  {
   "cell_type": "code",
   "execution_count": null,
   "metadata": {},
   "outputs": [],
   "source": []
  },
  {
   "cell_type": "code",
   "execution_count": null,
   "metadata": {},
   "outputs": [],
   "source": []
  },
  {
   "cell_type": "code",
   "execution_count": null,
   "metadata": {},
   "outputs": [],
   "source": []
  },
  {
   "cell_type": "code",
   "execution_count": null,
   "metadata": {},
   "outputs": [],
   "source": []
  },
  {
   "cell_type": "code",
   "execution_count": null,
   "metadata": {},
   "outputs": [],
   "source": []
  },
  {
   "cell_type": "markdown",
   "metadata": {},
   "source": [
    "## misfits"
   ]
  },
  {
   "cell_type": "code",
   "execution_count": null,
   "metadata": {},
   "outputs": [],
   "source": []
  },
  {
   "cell_type": "code",
   "execution_count": null,
   "metadata": {},
   "outputs": [],
   "source": [
    "tmat_df.loc[\n",
    "    lambda x: [\n",
    "        True \n",
    "            if onon == 0 and onoff == 0 \n",
    "            else False \n",
    "        for onon, onoff in zip(x.onon, x.onoff)\n",
    "    ]\n",
    "].shape"
   ]
  },
  {
   "cell_type": "code",
   "execution_count": null,
   "metadata": {},
   "outputs": [],
   "source": [
    "tmat_df.shape"
   ]
  },
  {
   "cell_type": "code",
   "execution_count": null,
   "metadata": {},
   "outputs": [],
   "source": [
    "1886 /4043"
   ]
  },
  {
   "cell_type": "code",
   "execution_count": null,
   "metadata": {},
   "outputs": [],
   "source": []
  }
 ],
 "metadata": {
  "kernelspec": {
   "display_name": "Python 3",
   "language": "python",
   "name": "python3"
  },
  "language_info": {
   "codemirror_mode": {
    "name": "ipython",
    "version": 3
   },
   "file_extension": ".py",
   "mimetype": "text/x-python",
   "name": "python",
   "nbconvert_exporter": "python",
   "pygments_lexer": "ipython3",
   "version": "3.6.5"
  }
 },
 "nbformat": 4,
 "nbformat_minor": 2
}
