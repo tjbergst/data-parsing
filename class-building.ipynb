{
 "cells": [
  {
   "cell_type": "markdown",
   "metadata": {},
   "source": [
    "# class building - wifi traffic analyzer"
   ]
  },
  {
   "cell_type": "code",
   "execution_count": 150,
   "metadata": {},
   "outputs": [],
   "source": [
    "import pandas as pd\n",
    "import numpy as np\n",
    "from tqdm import tqdm_notebook, tnrange, trange, tqdm\n",
    "from itertools import cycle\n",
    "from collections import Counter\n",
    "from pathlib import Path\n",
    "import time\n",
    "\n",
    "import altair as alt\n",
    "from altair.expr import datum"
   ]
  },
  {
   "cell_type": "markdown",
   "metadata": {},
   "source": [
    "## configs"
   ]
  },
  {
   "cell_type": "code",
   "execution_count": 13,
   "metadata": {},
   "outputs": [],
   "source": [
    "real_data_path_dict = {\n",
    "    'real_2': Path(r'data/wifitrafficstats2.csv'),\n",
    "    'real_3': Path(r'data/wifitrafficstats3.csv'),\n",
    "    'real_4': Path(r'data/wifitrafficstats4.csv'),\n",
    "    'real_5': Path(r'data/wifitrafficstats5.csv'),\n",
    "    'real_6': Path(r'data/wifitrafficstats6.csv')\n",
    "}\n",
    "\n",
    "transition_matrics_path_dict = {\n",
    "    'tmat_1': Path(r'data/wifi_t_matrices.csv'),\n",
    "    'tmat_2': Path(r'data/wifi_t_matrices2.csv')\n",
    "}"
   ]
  },
  {
   "cell_type": "code",
   "execution_count": null,
   "metadata": {},
   "outputs": [],
   "source": []
  },
  {
   "cell_type": "markdown",
   "metadata": {},
   "source": [
    "## class `WifiTrafficAnalyzer`"
   ]
  },
  {
   "cell_type": "code",
   "execution_count": 170,
   "metadata": {},
   "outputs": [],
   "source": [
    "class WifiTrafficAnalyzer:\n",
    "    def __init__(self, mode, path_dict): \n",
    "        print('initializing..')\n",
    "        \n",
    "        # set mode\n",
    "        mode_options = ['sim','real']\n",
    "        self.mode = mode.strip().lower()\n",
    "        assert self.mode in mode_options, \\\n",
    "            f'error: invalid mode {self.mode}, options are {mode_options}'\n",
    "        \n",
    "        # load path dict\n",
    "        self.path_dict = path_dict\n",
    "        for path in self.path_dict.values():\n",
    "            try:\n",
    "                assert path.exists()\n",
    "            except AssertionError:\n",
    "                print(f'no file found at path: {path}')\n",
    "        \n",
    "        print(f'initialization complete, mode: {self.mode}')\n",
    "        print(f'{self.mode} data options: ')\n",
    "        for key, path in self.path_dict.items():\n",
    "                print(f'\\tkey: {key}, path: {path}')\n",
    "        \n",
    "        \n",
    "    \n",
    "    #------------------------------ real data ------------------------------\n",
    "    def process_real_data(self, tar_key):\n",
    "        '''\n",
    "        takes csv of recorded wifi traffic (identified by key) and stores \n",
    "        a dataframe ready to be turned into data list ([1,1,1,0,0,1,1,0,0,0])\n",
    "        '''\n",
    "        # validate target file selection\n",
    "        try:\n",
    "            assert tar_key in self.path_dict.keys()\n",
    "        except AssertionError:\n",
    "            print(f'invalid key {tar_key}, options are {list(self.path_dict.keys())}')\n",
    "            \n",
    "        real_df = (\n",
    "            pd\n",
    "            .read_csv(self.path_dict[tar_key])\n",
    "            .rename({ \n",
    "                'Time':'time', \n",
    "                'Length':'length', \n",
    "                'TX Rate':'rate'\n",
    "            }, axis=1)\n",
    "            .eval('time = time * 1e6')\n",
    "            .eval('rate = rate * 1e6')\n",
    "            .eval('length = length * 8')\n",
    "            .eval('on_time = 1e6 * length / rate')\n",
    "            .eval('end_time = time + on_time')\n",
    "            .assign(\n",
    "                shift_time = lambda x: x.end_time.shift(1),\n",
    "                off_time = lambda x: [\n",
    "                    (time - shift_time) \n",
    "                        if (time - shift_time) > 0 else 0 \n",
    "                    for time, shift_time in (zip(x.time, x.shift_time))\n",
    "            ])\n",
    "            .drop(['No.','Delta Time','shift_time'], axis=1)\n",
    "            .round(0)\n",
    "        )\n",
    "        \n",
    "        self.generate_real_data_list(real_df)\n",
    "    \n",
    "    \n",
    "    def generate_real_data_list(self, df):\n",
    "        '''\n",
    "        takes dataframe with 'on_time' and 'off_time' time stamp columns \n",
    "        and stores a numpy array of 1's (on_time) and 0's (off_time)\n",
    "        '''\n",
    "        \n",
    "        real_data_list = []\n",
    "    \n",
    "        for row in tqdm_notebook(df[['on_time','off_time']].iloc[1:].itertuples(), total=df.shape[0]-1):\n",
    "            real_data_list.extend([1 for i in range(int(row.on_time))])\n",
    "            real_data_list.extend([0 for i in range(int(row.off_time))])\n",
    "        \n",
    "        self.real_data_array = np.array(real_data_list, copy=True)\n",
    "        \n",
    "    \n",
    "    #------------------------------ sim data ------------------------------\n",
    "    def process_transition_matrices(self, tar_key):\n",
    "        # validate target file selection\n",
    "        try:\n",
    "            assert tar_key in self.path_dict.keys()\n",
    "        except AssertionError:\n",
    "            print(f'invalid key {tar_key}, options are {list(self.path_dict.keys())}')\n",
    "        \n",
    "        \n",
    "        self.tmat_df = (\n",
    "            pd\n",
    "            .read_csv(\n",
    "                self.path_dict[tar_key], \n",
    "                names=['OnOn','OnOff','OffOn','OffOff','timestep']\n",
    "            )\n",
    "            #.eval('OffOff = 1 - OffOff')\n",
    "            #.eval('OffOn = 1 - OffOn')\n",
    "            [['OnOn', 'OnOff', 'OffOff', 'OffOn', 'timestep']]\n",
    "        )\n",
    "        \n",
    "    \n",
    "    \n",
    "    def generate_sim_data(self, n_samples, m_trials, transition_matrix):\n",
    "        '''\n",
    "        takes a transition matrix and generates a simulated signal\n",
    "        with <n_samples> bits and <m_trials> trials, stores an n x m \n",
    "        matrix\n",
    "        '''\n",
    "            \n",
    "        cycle_dict = {\n",
    "            (1,1,1): 0,\n",
    "            (1,1,0): 1,\n",
    "            (1,0,1): 2,\n",
    "            (1,0,0): 1,\n",
    "            (0,1,1): 1,\n",
    "            (0,1,0): 2,\n",
    "            (0,0,1): 1,\n",
    "            (0,0,0): 0,\n",
    "        }\n",
    "        \n",
    "        global p\n",
    "        p = 0.5\n",
    "        sim_matrix = np.zeros((int(m_trials), int(n_samples)))        \n",
    "        state_cycler = cycle(transition_matrix)\n",
    "        \n",
    "        def cycle_states():\n",
    "            return next(state_cycler)\n",
    "        \n",
    "        def generate_bit(n):\n",
    "            global p\n",
    "            \n",
    "            if n == 0:\n",
    "                return np.random.binomial(1, p)\n",
    "                \n",
    "            else:\n",
    "                for i in range(n):\n",
    "                    p = cycle_states()\n",
    "    \n",
    "                return np.random.binomial(1, p)\n",
    "            \n",
    "        for i in tnrange(m_trials, leave=False):\n",
    "            sim_data = [1,1,1]\n",
    "            p = 0.5\n",
    "            \n",
    "            for _ in range(n_samples + 1):        \n",
    "                new_bit = generate_bit(cycle_dict[tuple(sim_data[-3:])])        \n",
    "                sim_data.append(new_bit)\n",
    "                \n",
    "            sim_matrix[i,:] = np.array(sim_data[4:])\n",
    "        \n",
    "        return sim_matrix\n",
    "    \n",
    "        \n",
    "    def simulate_all_transition_matrices(self, n_samples=int(1e5), m_trials=10):\n",
    "        start_time = time.time()\n",
    "\n",
    "        self.stats_dict = self.master_dictionary = {\n",
    "            row.timestep: {}\n",
    "            for row in self.tmat_df.itertuples()\n",
    "        }\n",
    "        \n",
    "        for row in tqdm_notebook(self.tmat_df.itertuples(), total=self.tmat_df.shape[0]):\n",
    "            transition_matrix = [row.OnOn, row.OnOff, row.OffOff, row.OffOn]\n",
    "            sim_matrix = self.generate_sim_data(n_samples, m_trials, transition_matrix)    \n",
    "            \n",
    "            self.master_dictionary[row.timestep] = self.compute_sim_stats(sim_matrix)            \n",
    "\n",
    "            \n",
    "        print(f'total elapsed time: {(time.time() - start_time)/60:0.2f} minutes')\n",
    "        \n",
    "        self.post_process_stats()\n",
    "    \n",
    "    \n",
    "    \n",
    "    def compute_sim_stats(self, sim_matrix):\n",
    "        sample_size = sim_matrix.shape[1]\n",
    "        stats = sim_matrix.sum(axis=1)\n",
    "                        \n",
    "        state_lengths_0 = [\n",
    "            item for sublist in\n",
    "            [\n",
    "                list(self.get_split_state_lengths(sim_matrix[i,:])[0])\n",
    "                for i in range(sim_matrix.shape[0])\n",
    "            ]\n",
    "            for item in sublist\n",
    "        ]\n",
    "        \n",
    "        state_lengths_1 = [\n",
    "            item for sublist in\n",
    "            [\n",
    "                list(self.get_split_state_lengths(sim_matrix[i,:])[1])\n",
    "                for i in range(sim_matrix.shape[0])\n",
    "            ]\n",
    "            for item in sublist\n",
    "        ]\n",
    "        \n",
    "        return {\n",
    "            'mean': np.mean(stats) / sample_size,\n",
    "            'std': np.std(stats) / sample_size,\n",
    "            'state_lengths_0': Counter(state_lengths_0).most_common(),\n",
    "            'state_lengths_1': Counter(state_lengths_1).most_common()\n",
    "        }\n",
    "    \n",
    "    def post_process_stats(self):\n",
    "        '''\n",
    "        takes previously computed self.master_dictionary and splits it into two dataframes\n",
    "            full_df: duration, frequency, bit, timestep for all simulations\n",
    "            stats_df: mean and std of m_trials\n",
    "        '''\n",
    "        \n",
    "        self.df_dict_0 = {\n",
    "            tstep: (\n",
    "                pd.DataFrame(\n",
    "                    stats['state_lengths_0'], \n",
    "                    columns=['duration','frequency']\n",
    "                )\n",
    "                .sort_values('duration')\n",
    "                .reset_index(drop=True)\n",
    "                .assign(\n",
    "                    timestep = tstep,\n",
    "                    bit = 0\n",
    "                )\n",
    "            )\n",
    "            for tstep, stats in self.master_dictionary.items()\n",
    "        }\n",
    "        \n",
    "        self.df_dict_1 = {\n",
    "            tstep: (\n",
    "                pd.DataFrame(\n",
    "                    stats['state_lengths_1'], \n",
    "                    columns=['duration','frequency']\n",
    "                )\n",
    "                .sort_values('duration')\n",
    "                .reset_index(drop=True)\n",
    "                .assign(\n",
    "                    timestep = tstep,\n",
    "                    bit = 1\n",
    "                )\n",
    "            )\n",
    "            for tstep, stats in self.master_dictionary.items()\n",
    "        }\n",
    "        \n",
    "        self.full_sim_df = pd.concat(\n",
    "            [df for df in WTA.df_dict_0.values()] + [df for df in WTA.df_dict_1.values()]\n",
    "        )\n",
    "        \n",
    "        stats_list = [\n",
    "            {\n",
    "                'timestep': timestep,\n",
    "                'mean': stats['mean'],\n",
    "                'std': stats['std']\n",
    "            }\n",
    "            for timestep, stats in self.master_dictionary.items()\n",
    "        ]\n",
    "        \n",
    "        self.stats_df = pd.DataFrame(stats_list)[['timestep','mean','std']]\n",
    "    \n",
    "    \n",
    "    \n",
    "    #------------------------------ common functions ------------------------------\n",
    "    def get_split_state_lengths(self, data):\n",
    "        '''\n",
    "        takes data list ([1,1,0,1,0,0,...]) and returns separate\n",
    "        numpy arrays of duration of consecutive bits ([13,245,2588,19,1056,...])\n",
    "        for 1's and for 0's\n",
    "        '''\n",
    "        \n",
    "        data = np.array(data)    \n",
    "        \n",
    "        state_lengths = np.diff(\n",
    "            np.where(\n",
    "                np.concatenate(\n",
    "                    ([data[0]],\n",
    "                     data[:-1] != data[1:],\n",
    "                     [0]\n",
    "                    )\n",
    "                )\n",
    "            )[0]\n",
    "        )[::2]\n",
    "        \n",
    "        # split\n",
    "        if data[0] == 0:\n",
    "            data_0 = state_lengths[0::2]\n",
    "            data_1 = state_lengths[1::2]\n",
    "        else:\n",
    "            data_0 = state_lengths[1::2]\n",
    "            data_1 = state_lengths[0::2]\n",
    "            \n",
    "        return data_0, data_1\n",
    "    \n",
    "    \n",
    "    #------------------------------ visualization ------------------------------\n",
    "    \n",
    "    def state_length_vs_timestep_sim(self, full_sim_df, chart_type='bar', background_color='#abb2bf'):\n",
    "        '''\n",
    "        creates interactive charts showing distributions of on and off times for simulated data\n",
    "        \n",
    "        chart types:\n",
    "            bar: bar chart (histogram)\n",
    "            area: area chart (filled line chart)\n",
    "            \n",
    "        background_color:\n",
    "            hex code for chart background color, ex:\n",
    "                #abb2bf - grey\n",
    "                #ffffff - white\n",
    "        '''\n",
    "        \n",
    "        chart_type = chart_type.strip().lower()\n",
    "\n",
    "        sel_timestep = alt.selection_multi(encodings=['y'])\n",
    "        \n",
    "        bar_chart = alt.Chart(\n",
    "            full_sim_df,\n",
    "            height=800,\n",
    "            width=250\n",
    "        ).mark_bar(\n",
    "        ).encode(\n",
    "            alt.X(\n",
    "                'max(duration):Q',\n",
    "                title='max packet duration',\n",
    "                scale=alt.Scale(type='log')\n",
    "            ),\n",
    "            alt.Y(\n",
    "                'timestep:N',\n",
    "            ),\n",
    "            color=alt.condition(\n",
    "                sel_timestep,\n",
    "                'timestep:N',\n",
    "                alt.value('#96989b'),\n",
    "                legend=None\n",
    "            ),\n",
    "            tooltip = [\n",
    "                alt.Tooltip('')\n",
    "            ]\n",
    "        ).add_selection(\n",
    "            sel_timestep\n",
    "        )        \n",
    "        \n",
    "        detail_bar_chart = alt.Chart(\n",
    "            full_sim_df,\n",
    "            height=375,\n",
    "            width=800\n",
    "        ).mark_bar(\n",
    "            opacity=0.5\n",
    "        ).transform_filter(\n",
    "            sel_timestep\n",
    "        ).transform_filter(\n",
    "            datum.duration > 25\n",
    "        ).transform_filter(\n",
    "            datum.duration < 200\n",
    "        ).encode(\n",
    "            alt.X('duration:Q'),\n",
    "            alt.Y(\n",
    "                'frequency:Q', \n",
    "                #scale=alt.Scale(type='log')\n",
    "            ),\n",
    "            color=alt.Color('timestep:N', legend=None),\n",
    "            tooltip=[\n",
    "                alt.Tooltip('duration:Q'),\n",
    "                alt.Tooltip('frequency:Q'),\n",
    "                alt.Tooltip('timestep:N'),\n",
    "                alt.Tooltip('bit:N'),\n",
    "            ]\n",
    "        )\n",
    "        \n",
    "        detail_area_chart = alt.Chart(\n",
    "            full_sim_df,\n",
    "            height=375,\n",
    "            width=800\n",
    "        ).mark_area(\n",
    "            opacity=0.5\n",
    "        ).transform_filter(\n",
    "            sel_timestep\n",
    "        ).transform_filter(\n",
    "            datum.duration > 25\n",
    "        ).transform_filter(\n",
    "            datum.duration < 200\n",
    "        ).encode(\n",
    "            alt.X('duration:Q'),\n",
    "            alt.Y(\n",
    "                'frequency:Q', \n",
    "                #scale=alt.Scale(type='log')\n",
    "            ),\n",
    "            color=alt.Color('timestep:N', legend=None),\n",
    "            tooltip=[\n",
    "                alt.Tooltip('duration:Q'),\n",
    "                alt.Tooltip('frequency:Q'),\n",
    "                alt.Tooltip('timestep:N'),\n",
    "                alt.Tooltip('bit:N'),\n",
    "            ]\n",
    "        )\n",
    "        \n",
    "        if chart_type == 'bar':\n",
    "            detail_chart = detail_bar_chart\n",
    "        elif chart_type == 'area':\n",
    "            detail_chart = detail_area_chart\n",
    "        else:\n",
    "            print(f'unsupported chart type {chart_type}')\n",
    "        \n",
    "        stacked_bit_details = alt.vconcat(\n",
    "            detail_chart.transform_filter(datum.bit == 0).properties(title='off time distributions'),\n",
    "            detail_chart.transform_filter(datum.bit == 1).properties(title='on time distributions'),\n",
    "        )\n",
    "        \n",
    "        full = alt.hconcat(\n",
    "            bar_chart,\n",
    "            stacked_bit_details,    \n",
    "            background=background_color\n",
    "        )\n",
    "        \n",
    "        display(full)\n",
    "    \n",
    "        \n",
    "    \n",
    "    \n",
    "    \n",
    "    \n",
    "        \n",
    "        \n",
    "        "
   ]
  },
  {
   "cell_type": "markdown",
   "metadata": {},
   "source": [
    "#### sim data mode"
   ]
  },
  {
   "cell_type": "code",
   "execution_count": 171,
   "metadata": {},
   "outputs": [
    {
     "name": "stdout",
     "output_type": "stream",
     "text": [
      "initializing..\n",
      "initialization complete, mode: sim\n",
      "sim data options: \n",
      "\tkey: tmat_1, path: data\\wifi_t_matrices.csv\n",
      "\tkey: tmat_2, path: data\\wifi_t_matrices2.csv\n"
     ]
    }
   ],
   "source": [
    "WTA = WifiTrafficAnalyzer(mode='sim', path_dict=transition_matrics_path_dict)"
   ]
  },
  {
   "cell_type": "code",
   "execution_count": 172,
   "metadata": {},
   "outputs": [
    {
     "data": {
      "application/vnd.jupyter.widget-view+json": {
       "model_id": "afe9f4fc3f8d412ebf630a7d90d7d815",
       "version_major": 2,
       "version_minor": 0
      },
      "text/plain": [
       "HBox(children=(IntProgress(value=0, max=15), HTML(value='')))"
      ]
     },
     "metadata": {},
     "output_type": "display_data"
    },
    {
     "data": {
      "application/vnd.jupyter.widget-view+json": {
       "model_id": "",
       "version_major": 2,
       "version_minor": 0
      },
      "text/plain": [
       "HBox(children=(IntProgress(value=0, max=10), HTML(value='')))"
      ]
     },
     "metadata": {},
     "output_type": "display_data"
    },
    {
     "data": {
      "application/vnd.jupyter.widget-view+json": {
       "model_id": "",
       "version_major": 2,
       "version_minor": 0
      },
      "text/plain": [
       "HBox(children=(IntProgress(value=0, max=10), HTML(value='')))"
      ]
     },
     "metadata": {},
     "output_type": "display_data"
    },
    {
     "data": {
      "application/vnd.jupyter.widget-view+json": {
       "model_id": "",
       "version_major": 2,
       "version_minor": 0
      },
      "text/plain": [
       "HBox(children=(IntProgress(value=0, max=10), HTML(value='')))"
      ]
     },
     "metadata": {},
     "output_type": "display_data"
    },
    {
     "data": {
      "application/vnd.jupyter.widget-view+json": {
       "model_id": "",
       "version_major": 2,
       "version_minor": 0
      },
      "text/plain": [
       "HBox(children=(IntProgress(value=0, max=10), HTML(value='')))"
      ]
     },
     "metadata": {},
     "output_type": "display_data"
    },
    {
     "data": {
      "application/vnd.jupyter.widget-view+json": {
       "model_id": "",
       "version_major": 2,
       "version_minor": 0
      },
      "text/plain": [
       "HBox(children=(IntProgress(value=0, max=10), HTML(value='')))"
      ]
     },
     "metadata": {},
     "output_type": "display_data"
    },
    {
     "data": {
      "application/vnd.jupyter.widget-view+json": {
       "model_id": "",
       "version_major": 2,
       "version_minor": 0
      },
      "text/plain": [
       "HBox(children=(IntProgress(value=0, max=10), HTML(value='')))"
      ]
     },
     "metadata": {},
     "output_type": "display_data"
    },
    {
     "data": {
      "application/vnd.jupyter.widget-view+json": {
       "model_id": "",
       "version_major": 2,
       "version_minor": 0
      },
      "text/plain": [
       "HBox(children=(IntProgress(value=0, max=10), HTML(value='')))"
      ]
     },
     "metadata": {},
     "output_type": "display_data"
    },
    {
     "data": {
      "application/vnd.jupyter.widget-view+json": {
       "model_id": "",
       "version_major": 2,
       "version_minor": 0
      },
      "text/plain": [
       "HBox(children=(IntProgress(value=0, max=10), HTML(value='')))"
      ]
     },
     "metadata": {},
     "output_type": "display_data"
    },
    {
     "data": {
      "application/vnd.jupyter.widget-view+json": {
       "model_id": "",
       "version_major": 2,
       "version_minor": 0
      },
      "text/plain": [
       "HBox(children=(IntProgress(value=0, max=10), HTML(value='')))"
      ]
     },
     "metadata": {},
     "output_type": "display_data"
    },
    {
     "data": {
      "application/vnd.jupyter.widget-view+json": {
       "model_id": "",
       "version_major": 2,
       "version_minor": 0
      },
      "text/plain": [
       "HBox(children=(IntProgress(value=0, max=10), HTML(value='')))"
      ]
     },
     "metadata": {},
     "output_type": "display_data"
    },
    {
     "data": {
      "application/vnd.jupyter.widget-view+json": {
       "model_id": "",
       "version_major": 2,
       "version_minor": 0
      },
      "text/plain": [
       "HBox(children=(IntProgress(value=0, max=10), HTML(value='')))"
      ]
     },
     "metadata": {},
     "output_type": "display_data"
    },
    {
     "data": {
      "application/vnd.jupyter.widget-view+json": {
       "model_id": "",
       "version_major": 2,
       "version_minor": 0
      },
      "text/plain": [
       "HBox(children=(IntProgress(value=0, max=10), HTML(value='')))"
      ]
     },
     "metadata": {},
     "output_type": "display_data"
    },
    {
     "data": {
      "application/vnd.jupyter.widget-view+json": {
       "model_id": "",
       "version_major": 2,
       "version_minor": 0
      },
      "text/plain": [
       "HBox(children=(IntProgress(value=0, max=10), HTML(value='')))"
      ]
     },
     "metadata": {},
     "output_type": "display_data"
    },
    {
     "data": {
      "application/vnd.jupyter.widget-view+json": {
       "model_id": "",
       "version_major": 2,
       "version_minor": 0
      },
      "text/plain": [
       "HBox(children=(IntProgress(value=0, max=10), HTML(value='')))"
      ]
     },
     "metadata": {},
     "output_type": "display_data"
    },
    {
     "data": {
      "application/vnd.jupyter.widget-view+json": {
       "model_id": "",
       "version_major": 2,
       "version_minor": 0
      },
      "text/plain": [
       "HBox(children=(IntProgress(value=0, max=10), HTML(value='')))"
      ]
     },
     "metadata": {},
     "output_type": "display_data"
    },
    {
     "name": "stdout",
     "output_type": "stream",
     "text": [
      "\n",
      "total elapsed time: 0.84 minutes\n"
     ]
    }
   ],
   "source": [
    "WTA.process_transition_matrices('tmat_2')\n",
    "WTA.simulate_all_transition_matrices()"
   ]
  },
  {
   "cell_type": "code",
   "execution_count": null,
   "metadata": {},
   "outputs": [],
   "source": [
    "WTA.state_length_vs_timestep_sim(WTA.full_sim_df, chart_type='bar')"
   ]
  },
  {
   "cell_type": "code",
   "execution_count": null,
   "metadata": {},
   "outputs": [],
   "source": [
    "WTA.state_length_vs_timestep_sim(WTA.full_sim_df, chart_type='area')"
   ]
  },
  {
   "cell_type": "code",
   "execution_count": null,
   "metadata": {},
   "outputs": [],
   "source": []
  },
  {
   "cell_type": "code",
   "execution_count": null,
   "metadata": {},
   "outputs": [],
   "source": []
  },
  {
   "cell_type": "markdown",
   "metadata": {},
   "source": [
    "#### real data mode"
   ]
  },
  {
   "cell_type": "code",
   "execution_count": 79,
   "metadata": {},
   "outputs": [
    {
     "name": "stdout",
     "output_type": "stream",
     "text": [
      "initializing..\n",
      "initialization complete, mode: real\n",
      "real data options: \n",
      "\tkey: real_2, path: data\\wifitrafficstats2.csv\n",
      "\tkey: real_3, path: data\\wifitrafficstats3.csv\n",
      "\tkey: real_4, path: data\\wifitrafficstats4.csv\n",
      "\tkey: real_5, path: data\\wifitrafficstats5.csv\n",
      "\tkey: real_6, path: data\\wifitrafficstats6.csv\n"
     ]
    }
   ],
   "source": [
    "WTA = WifiTrafficAnalyzer(mode='real', path_dict=real_data_path_dict)"
   ]
  },
  {
   "cell_type": "code",
   "execution_count": 70,
   "metadata": {},
   "outputs": [
    {
     "data": {
      "application/vnd.jupyter.widget-view+json": {
       "model_id": "da18b487abce4dcd89edbead37262302",
       "version_major": 2,
       "version_minor": 0
      },
      "text/plain": [
       "HBox(children=(IntProgress(value=0, max=5310), HTML(value='')))"
      ]
     },
     "metadata": {},
     "output_type": "display_data"
    },
    {
     "name": "stdout",
     "output_type": "stream",
     "text": [
      "\n"
     ]
    }
   ],
   "source": [
    "WTA.process_real_data('real_2')"
   ]
  },
  {
   "cell_type": "code",
   "execution_count": 71,
   "metadata": {},
   "outputs": [
    {
     "data": {
      "text/plain": [
       "(array([  13, 2105,   13, ...,   13,   19,   13], dtype=int64),\n",
       " array([  13, 2288,   13, ...,   11,    5, 1097], dtype=int64))"
      ]
     },
     "execution_count": 71,
     "metadata": {},
     "output_type": "execute_result"
    }
   ],
   "source": [
    "WTA.get_split_state_lengths(WTA.real_data_array)"
   ]
  },
  {
   "cell_type": "code",
   "execution_count": null,
   "metadata": {},
   "outputs": [],
   "source": []
  },
  {
   "cell_type": "markdown",
   "metadata": {},
   "source": [
    "## visualization dev"
   ]
  },
  {
   "cell_type": "code",
   "execution_count": 153,
   "metadata": {},
   "outputs": [],
   "source": [
    "full_sim_df = WTA.full_df"
   ]
  },
  {
   "cell_type": "code",
   "execution_count": 169,
   "metadata": {},
   "outputs": [
    {
     "data": {
      "application/vnd.vegalite.v2+json": {
       "$schema": "https://vega.github.io/schema/vega-lite/v2.6.0.json",
       "background": "#ffffff",
       "config": {
        "view": {
         "height": 300,
         "width": 400
        }
       },
       "datasets": {
        "data-821ffeebaf68e83b439d11e56ddf0c4e": [
         {
          "bit": 0,
          "duration": 1,
          "frequency": 110731,
          "timestep": 5
         },
         {
          "bit": 0,
          "duration": 2,
          "frequency": 12997,
          "timestep": 5
         },
         {
          "bit": 0,
          "duration": 3,
          "frequency": 100,
          "timestep": 5
         },
         {
          "bit": 0,
          "duration": 4,
          "frequency": 3,
          "timestep": 5
         },
         {
          "bit": 0,
          "duration": 5,
          "frequency": 2,
          "timestep": 5
         },
         {
          "bit": 0,
          "duration": 6,
          "frequency": 2,
          "timestep": 5
         },
         {
          "bit": 0,
          "duration": 8,
          "frequency": 1,
          "timestep": 5
         },
         {
          "bit": 0,
          "duration": 9,
          "frequency": 2,
          "timestep": 5
         },
         {
          "bit": 0,
          "duration": 13,
          "frequency": 1,
          "timestep": 5
         },
         {
          "bit": 0,
          "duration": 14,
          "frequency": 1,
          "timestep": 5
         },
         {
          "bit": 0,
          "duration": 15,
          "frequency": 1,
          "timestep": 5
         },
         {
          "bit": 0,
          "duration": 17,
          "frequency": 2,
          "timestep": 5
         },
         {
          "bit": 0,
          "duration": 18,
          "frequency": 1,
          "timestep": 5
         },
         {
          "bit": 0,
          "duration": 21,
          "frequency": 1,
          "timestep": 5
         },
         {
          "bit": 0,
          "duration": 23,
          "frequency": 1,
          "timestep": 5
         },
         {
          "bit": 0,
          "duration": 25,
          "frequency": 2,
          "timestep": 5
         },
         {
          "bit": 0,
          "duration": 26,
          "frequency": 1,
          "timestep": 5
         },
         {
          "bit": 0,
          "duration": 27,
          "frequency": 1,
          "timestep": 5
         },
         {
          "bit": 0,
          "duration": 29,
          "frequency": 1,
          "timestep": 5
         },
         {
          "bit": 0,
          "duration": 30,
          "frequency": 2,
          "timestep": 5
         },
         {
          "bit": 0,
          "duration": 33,
          "frequency": 1,
          "timestep": 5
         },
         {
          "bit": 0,
          "duration": 34,
          "frequency": 2,
          "timestep": 5
         },
         {
          "bit": 0,
          "duration": 36,
          "frequency": 3,
          "timestep": 5
         },
         {
          "bit": 0,
          "duration": 37,
          "frequency": 1,
          "timestep": 5
         },
         {
          "bit": 0,
          "duration": 38,
          "frequency": 2,
          "timestep": 5
         },
         {
          "bit": 0,
          "duration": 40,
          "frequency": 1,
          "timestep": 5
         },
         {
          "bit": 0,
          "duration": 43,
          "frequency": 1,
          "timestep": 5
         },
         {
          "bit": 0,
          "duration": 47,
          "frequency": 2,
          "timestep": 5
         },
         {
          "bit": 0,
          "duration": 48,
          "frequency": 1,
          "timestep": 5
         },
         {
          "bit": 0,
          "duration": 49,
          "frequency": 1,
          "timestep": 5
         },
         {
          "bit": 0,
          "duration": 50,
          "frequency": 1,
          "timestep": 5
         },
         {
          "bit": 0,
          "duration": 51,
          "frequency": 1,
          "timestep": 5
         },
         {
          "bit": 0,
          "duration": 53,
          "frequency": 2,
          "timestep": 5
         },
         {
          "bit": 0,
          "duration": 55,
          "frequency": 1,
          "timestep": 5
         },
         {
          "bit": 0,
          "duration": 56,
          "frequency": 2,
          "timestep": 5
         },
         {
          "bit": 0,
          "duration": 63,
          "frequency": 2,
          "timestep": 5
         },
         {
          "bit": 0,
          "duration": 66,
          "frequency": 1,
          "timestep": 5
         },
         {
          "bit": 0,
          "duration": 67,
          "frequency": 1,
          "timestep": 5
         },
         {
          "bit": 0,
          "duration": 69,
          "frequency": 1,
          "timestep": 5
         },
         {
          "bit": 0,
          "duration": 70,
          "frequency": 1,
          "timestep": 5
         },
         {
          "bit": 0,
          "duration": 71,
          "frequency": 2,
          "timestep": 5
         },
         {
          "bit": 0,
          "duration": 74,
          "frequency": 1,
          "timestep": 5
         },
         {
          "bit": 0,
          "duration": 78,
          "frequency": 2,
          "timestep": 5
         },
         {
          "bit": 0,
          "duration": 81,
          "frequency": 1,
          "timestep": 5
         },
         {
          "bit": 0,
          "duration": 83,
          "frequency": 2,
          "timestep": 5
         },
         {
          "bit": 0,
          "duration": 89,
          "frequency": 1,
          "timestep": 5
         },
         {
          "bit": 0,
          "duration": 95,
          "frequency": 1,
          "timestep": 5
         },
         {
          "bit": 0,
          "duration": 97,
          "frequency": 1,
          "timestep": 5
         },
         {
          "bit": 0,
          "duration": 100,
          "frequency": 1,
          "timestep": 5
         },
         {
          "bit": 0,
          "duration": 106,
          "frequency": 1,
          "timestep": 5
         },
         {
          "bit": 0,
          "duration": 107,
          "frequency": 1,
          "timestep": 5
         },
         {
          "bit": 0,
          "duration": 115,
          "frequency": 1,
          "timestep": 5
         },
         {
          "bit": 0,
          "duration": 117,
          "frequency": 2,
          "timestep": 5
         },
         {
          "bit": 0,
          "duration": 122,
          "frequency": 1,
          "timestep": 5
         },
         {
          "bit": 0,
          "duration": 123,
          "frequency": 1,
          "timestep": 5
         },
         {
          "bit": 0,
          "duration": 129,
          "frequency": 1,
          "timestep": 5
         },
         {
          "bit": 0,
          "duration": 135,
          "frequency": 1,
          "timestep": 5
         },
         {
          "bit": 0,
          "duration": 139,
          "frequency": 1,
          "timestep": 5
         },
         {
          "bit": 0,
          "duration": 141,
          "frequency": 1,
          "timestep": 5
         },
         {
          "bit": 0,
          "duration": 142,
          "frequency": 1,
          "timestep": 5
         },
         {
          "bit": 0,
          "duration": 144,
          "frequency": 1,
          "timestep": 5
         },
         {
          "bit": 0,
          "duration": 149,
          "frequency": 1,
          "timestep": 5
         },
         {
          "bit": 0,
          "duration": 154,
          "frequency": 1,
          "timestep": 5
         },
         {
          "bit": 0,
          "duration": 160,
          "frequency": 1,
          "timestep": 5
         },
         {
          "bit": 0,
          "duration": 167,
          "frequency": 1,
          "timestep": 5
         },
         {
          "bit": 0,
          "duration": 170,
          "frequency": 2,
          "timestep": 5
         },
         {
          "bit": 0,
          "duration": 175,
          "frequency": 1,
          "timestep": 5
         },
         {
          "bit": 0,
          "duration": 185,
          "frequency": 1,
          "timestep": 5
         },
         {
          "bit": 0,
          "duration": 188,
          "frequency": 1,
          "timestep": 5
         },
         {
          "bit": 0,
          "duration": 190,
          "frequency": 1,
          "timestep": 5
         },
         {
          "bit": 0,
          "duration": 198,
          "frequency": 1,
          "timestep": 5
         },
         {
          "bit": 0,
          "duration": 233,
          "frequency": 1,
          "timestep": 5
         },
         {
          "bit": 0,
          "duration": 237,
          "frequency": 1,
          "timestep": 5
         },
         {
          "bit": 0,
          "duration": 250,
          "frequency": 1,
          "timestep": 5
         },
         {
          "bit": 0,
          "duration": 259,
          "frequency": 1,
          "timestep": 5
         },
         {
          "bit": 0,
          "duration": 321,
          "frequency": 1,
          "timestep": 5
         },
         {
          "bit": 0,
          "duration": 406,
          "frequency": 1,
          "timestep": 5
         },
         {
          "bit": 0,
          "duration": 569,
          "frequency": 2,
          "timestep": 5
         },
         {
          "bit": 0,
          "duration": 650,
          "frequency": 1,
          "timestep": 5
         },
         {
          "bit": 0,
          "duration": 692,
          "frequency": 1,
          "timestep": 5
         },
         {
          "bit": 0,
          "duration": 834,
          "frequency": 1,
          "timestep": 5
         },
         {
          "bit": 0,
          "duration": 1070,
          "frequency": 1,
          "timestep": 5
         },
         {
          "bit": 0,
          "duration": 1389,
          "frequency": 1,
          "timestep": 5
         },
         {
          "bit": 0,
          "duration": 1461,
          "frequency": 1,
          "timestep": 5
         },
         {
          "bit": 0,
          "duration": 1511,
          "frequency": 1,
          "timestep": 5
         },
         {
          "bit": 0,
          "duration": 1743,
          "frequency": 1,
          "timestep": 5
         },
         {
          "bit": 0,
          "duration": 2165,
          "frequency": 1,
          "timestep": 5
         },
         {
          "bit": 0,
          "duration": 2522,
          "frequency": 1,
          "timestep": 5
         },
         {
          "bit": 0,
          "duration": 2906,
          "frequency": 1,
          "timestep": 5
         },
         {
          "bit": 0,
          "duration": 2920,
          "frequency": 1,
          "timestep": 5
         },
         {
          "bit": 0,
          "duration": 3255,
          "frequency": 1,
          "timestep": 5
         },
         {
          "bit": 0,
          "duration": 3479,
          "frequency": 1,
          "timestep": 5
         },
         {
          "bit": 0,
          "duration": 3981,
          "frequency": 1,
          "timestep": 5
         },
         {
          "bit": 0,
          "duration": 4863,
          "frequency": 1,
          "timestep": 5
         },
         {
          "bit": 0,
          "duration": 1,
          "frequency": 73235,
          "timestep": 105
         },
         {
          "bit": 0,
          "duration": 2,
          "frequency": 54216,
          "timestep": 105
         },
         {
          "bit": 0,
          "duration": 3,
          "frequency": 5745,
          "timestep": 105
         },
         {
          "bit": 0,
          "duration": 4,
          "frequency": 685,
          "timestep": 105
         },
         {
          "bit": 0,
          "duration": 5,
          "frequency": 123,
          "timestep": 105
         },
         {
          "bit": 0,
          "duration": 6,
          "frequency": 34,
          "timestep": 105
         },
         {
          "bit": 0,
          "duration": 7,
          "frequency": 31,
          "timestep": 105
         },
         {
          "bit": 0,
          "duration": 8,
          "frequency": 28,
          "timestep": 105
         },
         {
          "bit": 0,
          "duration": 9,
          "frequency": 27,
          "timestep": 105
         },
         {
          "bit": 0,
          "duration": 10,
          "frequency": 18,
          "timestep": 105
         },
         {
          "bit": 0,
          "duration": 11,
          "frequency": 18,
          "timestep": 105
         },
         {
          "bit": 0,
          "duration": 12,
          "frequency": 25,
          "timestep": 105
         },
         {
          "bit": 0,
          "duration": 13,
          "frequency": 9,
          "timestep": 105
         },
         {
          "bit": 0,
          "duration": 14,
          "frequency": 11,
          "timestep": 105
         },
         {
          "bit": 0,
          "duration": 15,
          "frequency": 17,
          "timestep": 105
         },
         {
          "bit": 0,
          "duration": 16,
          "frequency": 9,
          "timestep": 105
         },
         {
          "bit": 0,
          "duration": 17,
          "frequency": 8,
          "timestep": 105
         },
         {
          "bit": 0,
          "duration": 18,
          "frequency": 6,
          "timestep": 105
         },
         {
          "bit": 0,
          "duration": 19,
          "frequency": 9,
          "timestep": 105
         },
         {
          "bit": 0,
          "duration": 20,
          "frequency": 8,
          "timestep": 105
         },
         {
          "bit": 0,
          "duration": 21,
          "frequency": 7,
          "timestep": 105
         },
         {
          "bit": 0,
          "duration": 22,
          "frequency": 6,
          "timestep": 105
         },
         {
          "bit": 0,
          "duration": 23,
          "frequency": 6,
          "timestep": 105
         },
         {
          "bit": 0,
          "duration": 24,
          "frequency": 6,
          "timestep": 105
         },
         {
          "bit": 0,
          "duration": 25,
          "frequency": 2,
          "timestep": 105
         },
         {
          "bit": 0,
          "duration": 26,
          "frequency": 5,
          "timestep": 105
         },
         {
          "bit": 0,
          "duration": 27,
          "frequency": 6,
          "timestep": 105
         },
         {
          "bit": 0,
          "duration": 28,
          "frequency": 4,
          "timestep": 105
         },
         {
          "bit": 0,
          "duration": 29,
          "frequency": 4,
          "timestep": 105
         },
         {
          "bit": 0,
          "duration": 30,
          "frequency": 3,
          "timestep": 105
         },
         {
          "bit": 0,
          "duration": 31,
          "frequency": 2,
          "timestep": 105
         },
         {
          "bit": 0,
          "duration": 32,
          "frequency": 4,
          "timestep": 105
         },
         {
          "bit": 0,
          "duration": 33,
          "frequency": 5,
          "timestep": 105
         },
         {
          "bit": 0,
          "duration": 34,
          "frequency": 1,
          "timestep": 105
         },
         {
          "bit": 0,
          "duration": 35,
          "frequency": 3,
          "timestep": 105
         },
         {
          "bit": 0,
          "duration": 36,
          "frequency": 5,
          "timestep": 105
         },
         {
          "bit": 0,
          "duration": 37,
          "frequency": 1,
          "timestep": 105
         },
         {
          "bit": 0,
          "duration": 38,
          "frequency": 2,
          "timestep": 105
         },
         {
          "bit": 0,
          "duration": 39,
          "frequency": 2,
          "timestep": 105
         },
         {
          "bit": 0,
          "duration": 40,
          "frequency": 5,
          "timestep": 105
         },
         {
          "bit": 0,
          "duration": 42,
          "frequency": 3,
          "timestep": 105
         },
         {
          "bit": 0,
          "duration": 43,
          "frequency": 2,
          "timestep": 105
         },
         {
          "bit": 0,
          "duration": 44,
          "frequency": 2,
          "timestep": 105
         },
         {
          "bit": 0,
          "duration": 45,
          "frequency": 2,
          "timestep": 105
         },
         {
          "bit": 0,
          "duration": 47,
          "frequency": 1,
          "timestep": 105
         },
         {
          "bit": 0,
          "duration": 48,
          "frequency": 5,
          "timestep": 105
         },
         {
          "bit": 0,
          "duration": 50,
          "frequency": 1,
          "timestep": 105
         },
         {
          "bit": 0,
          "duration": 52,
          "frequency": 2,
          "timestep": 105
         },
         {
          "bit": 0,
          "duration": 53,
          "frequency": 3,
          "timestep": 105
         },
         {
          "bit": 0,
          "duration": 54,
          "frequency": 3,
          "timestep": 105
         },
         {
          "bit": 0,
          "duration": 56,
          "frequency": 2,
          "timestep": 105
         },
         {
          "bit": 0,
          "duration": 58,
          "frequency": 3,
          "timestep": 105
         },
         {
          "bit": 0,
          "duration": 59,
          "frequency": 1,
          "timestep": 105
         },
         {
          "bit": 0,
          "duration": 63,
          "frequency": 3,
          "timestep": 105
         },
         {
          "bit": 0,
          "duration": 64,
          "frequency": 1,
          "timestep": 105
         },
         {
          "bit": 0,
          "duration": 66,
          "frequency": 1,
          "timestep": 105
         },
         {
          "bit": 0,
          "duration": 67,
          "frequency": 1,
          "timestep": 105
         },
         {
          "bit": 0,
          "duration": 68,
          "frequency": 2,
          "timestep": 105
         },
         {
          "bit": 0,
          "duration": 69,
          "frequency": 1,
          "timestep": 105
         },
         {
          "bit": 0,
          "duration": 71,
          "frequency": 1,
          "timestep": 105
         },
         {
          "bit": 0,
          "duration": 72,
          "frequency": 5,
          "timestep": 105
         },
         {
          "bit": 0,
          "duration": 73,
          "frequency": 4,
          "timestep": 105
         },
         {
          "bit": 0,
          "duration": 74,
          "frequency": 3,
          "timestep": 105
         },
         {
          "bit": 0,
          "duration": 75,
          "frequency": 1,
          "timestep": 105
         },
         {
          "bit": 0,
          "duration": 78,
          "frequency": 2,
          "timestep": 105
         },
         {
          "bit": 0,
          "duration": 79,
          "frequency": 1,
          "timestep": 105
         },
         {
          "bit": 0,
          "duration": 80,
          "frequency": 1,
          "timestep": 105
         },
         {
          "bit": 0,
          "duration": 81,
          "frequency": 5,
          "timestep": 105
         },
         {
          "bit": 0,
          "duration": 83,
          "frequency": 1,
          "timestep": 105
         },
         {
          "bit": 0,
          "duration": 84,
          "frequency": 2,
          "timestep": 105
         },
         {
          "bit": 0,
          "duration": 85,
          "frequency": 1,
          "timestep": 105
         },
         {
          "bit": 0,
          "duration": 86,
          "frequency": 1,
          "timestep": 105
         },
         {
          "bit": 0,
          "duration": 93,
          "frequency": 1,
          "timestep": 105
         },
         {
          "bit": 0,
          "duration": 95,
          "frequency": 2,
          "timestep": 105
         },
         {
          "bit": 0,
          "duration": 97,
          "frequency": 1,
          "timestep": 105
         },
         {
          "bit": 0,
          "duration": 98,
          "frequency": 2,
          "timestep": 105
         },
         {
          "bit": 0,
          "duration": 100,
          "frequency": 2,
          "timestep": 105
         },
         {
          "bit": 0,
          "duration": 101,
          "frequency": 2,
          "timestep": 105
         },
         {
          "bit": 0,
          "duration": 102,
          "frequency": 2,
          "timestep": 105
         },
         {
          "bit": 0,
          "duration": 103,
          "frequency": 2,
          "timestep": 105
         },
         {
          "bit": 0,
          "duration": 109,
          "frequency": 1,
          "timestep": 105
         },
         {
          "bit": 0,
          "duration": 110,
          "frequency": 1,
          "timestep": 105
         },
         {
          "bit": 0,
          "duration": 111,
          "frequency": 1,
          "timestep": 105
         },
         {
          "bit": 0,
          "duration": 114,
          "frequency": 1,
          "timestep": 105
         },
         {
          "bit": 0,
          "duration": 115,
          "frequency": 1,
          "timestep": 105
         },
         {
          "bit": 0,
          "duration": 119,
          "frequency": 1,
          "timestep": 105
         },
         {
          "bit": 0,
          "duration": 121,
          "frequency": 1,
          "timestep": 105
         },
         {
          "bit": 0,
          "duration": 122,
          "frequency": 1,
          "timestep": 105
         },
         {
          "bit": 0,
          "duration": 123,
          "frequency": 1,
          "timestep": 105
         },
         {
          "bit": 0,
          "duration": 125,
          "frequency": 1,
          "timestep": 105
         },
         {
          "bit": 0,
          "duration": 126,
          "frequency": 1,
          "timestep": 105
         },
         {
          "bit": 0,
          "duration": 129,
          "frequency": 1,
          "timestep": 105
         },
         {
          "bit": 0,
          "duration": 130,
          "frequency": 2,
          "timestep": 105
         },
         {
          "bit": 0,
          "duration": 131,
          "frequency": 1,
          "timestep": 105
         },
         {
          "bit": 0,
          "duration": 132,
          "frequency": 1,
          "timestep": 105
         },
         {
          "bit": 0,
          "duration": 133,
          "frequency": 1,
          "timestep": 105
         },
         {
          "bit": 0,
          "duration": 134,
          "frequency": 1,
          "timestep": 105
         },
         {
          "bit": 0,
          "duration": 135,
          "frequency": 2,
          "timestep": 105
         },
         {
          "bit": 0,
          "duration": 136,
          "frequency": 2,
          "timestep": 105
         },
         {
          "bit": 0,
          "duration": 138,
          "frequency": 1,
          "timestep": 105
         },
         {
          "bit": 0,
          "duration": 139,
          "frequency": 1,
          "timestep": 105
         },
         {
          "bit": 0,
          "duration": 141,
          "frequency": 1,
          "timestep": 105
         },
         {
          "bit": 0,
          "duration": 142,
          "frequency": 1,
          "timestep": 105
         },
         {
          "bit": 0,
          "duration": 147,
          "frequency": 1,
          "timestep": 105
         },
         {
          "bit": 0,
          "duration": 149,
          "frequency": 1,
          "timestep": 105
         },
         {
          "bit": 0,
          "duration": 150,
          "frequency": 1,
          "timestep": 105
         },
         {
          "bit": 0,
          "duration": 151,
          "frequency": 1,
          "timestep": 105
         },
         {
          "bit": 0,
          "duration": 152,
          "frequency": 1,
          "timestep": 105
         },
         {
          "bit": 0,
          "duration": 161,
          "frequency": 1,
          "timestep": 105
         },
         {
          "bit": 0,
          "duration": 164,
          "frequency": 1,
          "timestep": 105
         },
         {
          "bit": 0,
          "duration": 165,
          "frequency": 1,
          "timestep": 105
         },
         {
          "bit": 0,
          "duration": 166,
          "frequency": 1,
          "timestep": 105
         },
         {
          "bit": 0,
          "duration": 167,
          "frequency": 1,
          "timestep": 105
         },
         {
          "bit": 0,
          "duration": 169,
          "frequency": 1,
          "timestep": 105
         },
         {
          "bit": 0,
          "duration": 172,
          "frequency": 1,
          "timestep": 105
         },
         {
          "bit": 0,
          "duration": 175,
          "frequency": 2,
          "timestep": 105
         },
         {
          "bit": 0,
          "duration": 176,
          "frequency": 1,
          "timestep": 105
         },
         {
          "bit": 0,
          "duration": 177,
          "frequency": 1,
          "timestep": 105
         },
         {
          "bit": 0,
          "duration": 178,
          "frequency": 1,
          "timestep": 105
         },
         {
          "bit": 0,
          "duration": 179,
          "frequency": 4,
          "timestep": 105
         },
         {
          "bit": 0,
          "duration": 181,
          "frequency": 1,
          "timestep": 105
         },
         {
          "bit": 0,
          "duration": 182,
          "frequency": 1,
          "timestep": 105
         },
         {
          "bit": 0,
          "duration": 190,
          "frequency": 1,
          "timestep": 105
         },
         {
          "bit": 0,
          "duration": 191,
          "frequency": 1,
          "timestep": 105
         },
         {
          "bit": 0,
          "duration": 193,
          "frequency": 1,
          "timestep": 105
         },
         {
          "bit": 0,
          "duration": 194,
          "frequency": 1,
          "timestep": 105
         },
         {
          "bit": 0,
          "duration": 196,
          "frequency": 1,
          "timestep": 105
         },
         {
          "bit": 0,
          "duration": 197,
          "frequency": 1,
          "timestep": 105
         },
         {
          "bit": 0,
          "duration": 198,
          "frequency": 1,
          "timestep": 105
         },
         {
          "bit": 0,
          "duration": 200,
          "frequency": 1,
          "timestep": 105
         },
         {
          "bit": 0,
          "duration": 202,
          "frequency": 1,
          "timestep": 105
         },
         {
          "bit": 0,
          "duration": 204,
          "frequency": 1,
          "timestep": 105
         },
         {
          "bit": 0,
          "duration": 205,
          "frequency": 1,
          "timestep": 105
         },
         {
          "bit": 0,
          "duration": 207,
          "frequency": 1,
          "timestep": 105
         },
         {
          "bit": 0,
          "duration": 210,
          "frequency": 1,
          "timestep": 105
         },
         {
          "bit": 0,
          "duration": 213,
          "frequency": 1,
          "timestep": 105
         },
         {
          "bit": 0,
          "duration": 215,
          "frequency": 1,
          "timestep": 105
         },
         {
          "bit": 0,
          "duration": 219,
          "frequency": 1,
          "timestep": 105
         },
         {
          "bit": 0,
          "duration": 226,
          "frequency": 1,
          "timestep": 105
         },
         {
          "bit": 0,
          "duration": 231,
          "frequency": 1,
          "timestep": 105
         },
         {
          "bit": 0,
          "duration": 234,
          "frequency": 1,
          "timestep": 105
         },
         {
          "bit": 0,
          "duration": 239,
          "frequency": 1,
          "timestep": 105
         },
         {
          "bit": 0,
          "duration": 244,
          "frequency": 1,
          "timestep": 105
         },
         {
          "bit": 0,
          "duration": 252,
          "frequency": 1,
          "timestep": 105
         },
         {
          "bit": 0,
          "duration": 258,
          "frequency": 1,
          "timestep": 105
         },
         {
          "bit": 0,
          "duration": 272,
          "frequency": 1,
          "timestep": 105
         },
         {
          "bit": 0,
          "duration": 274,
          "frequency": 1,
          "timestep": 105
         },
         {
          "bit": 0,
          "duration": 278,
          "frequency": 1,
          "timestep": 105
         },
         {
          "bit": 0,
          "duration": 279,
          "frequency": 2,
          "timestep": 105
         },
         {
          "bit": 0,
          "duration": 287,
          "frequency": 1,
          "timestep": 105
         },
         {
          "bit": 0,
          "duration": 299,
          "frequency": 1,
          "timestep": 105
         },
         {
          "bit": 0,
          "duration": 315,
          "frequency": 1,
          "timestep": 105
         },
         {
          "bit": 0,
          "duration": 328,
          "frequency": 1,
          "timestep": 105
         },
         {
          "bit": 0,
          "duration": 332,
          "frequency": 1,
          "timestep": 105
         },
         {
          "bit": 0,
          "duration": 340,
          "frequency": 1,
          "timestep": 105
         },
         {
          "bit": 0,
          "duration": 357,
          "frequency": 1,
          "timestep": 105
         },
         {
          "bit": 0,
          "duration": 366,
          "frequency": 1,
          "timestep": 105
         },
         {
          "bit": 0,
          "duration": 382,
          "frequency": 1,
          "timestep": 105
         },
         {
          "bit": 0,
          "duration": 384,
          "frequency": 1,
          "timestep": 105
         },
         {
          "bit": 0,
          "duration": 410,
          "frequency": 1,
          "timestep": 105
         },
         {
          "bit": 0,
          "duration": 435,
          "frequency": 1,
          "timestep": 105
         },
         {
          "bit": 0,
          "duration": 440,
          "frequency": 1,
          "timestep": 105
         },
         {
          "bit": 0,
          "duration": 464,
          "frequency": 1,
          "timestep": 105
         },
         {
          "bit": 0,
          "duration": 537,
          "frequency": 1,
          "timestep": 105
         },
         {
          "bit": 0,
          "duration": 650,
          "frequency": 1,
          "timestep": 105
         },
         {
          "bit": 0,
          "duration": 1,
          "frequency": 99250,
          "timestep": 205
         },
         {
          "bit": 0,
          "duration": 2,
          "frequency": 17283,
          "timestep": 205
         },
         {
          "bit": 0,
          "duration": 3,
          "frequency": 2053,
          "timestep": 205
         },
         {
          "bit": 0,
          "duration": 4,
          "frequency": 548,
          "timestep": 205
         },
         {
          "bit": 0,
          "duration": 5,
          "frequency": 252,
          "timestep": 205
         },
         {
          "bit": 0,
          "duration": 6,
          "frequency": 164,
          "timestep": 205
         },
         {
          "bit": 0,
          "duration": 7,
          "frequency": 126,
          "timestep": 205
         },
         {
          "bit": 0,
          "duration": 8,
          "frequency": 102,
          "timestep": 205
         },
         {
          "bit": 0,
          "duration": 9,
          "frequency": 123,
          "timestep": 205
         },
         {
          "bit": 0,
          "duration": 10,
          "frequency": 84,
          "timestep": 205
         },
         {
          "bit": 0,
          "duration": 11,
          "frequency": 70,
          "timestep": 205
         },
         {
          "bit": 0,
          "duration": 12,
          "frequency": 58,
          "timestep": 205
         },
         {
          "bit": 0,
          "duration": 13,
          "frequency": 46,
          "timestep": 205
         },
         {
          "bit": 0,
          "duration": 14,
          "frequency": 30,
          "timestep": 205
         },
         {
          "bit": 0,
          "duration": 15,
          "frequency": 35,
          "timestep": 205
         },
         {
          "bit": 0,
          "duration": 16,
          "frequency": 32,
          "timestep": 205
         },
         {
          "bit": 0,
          "duration": 17,
          "frequency": 30,
          "timestep": 205
         },
         {
          "bit": 0,
          "duration": 18,
          "frequency": 25,
          "timestep": 205
         },
         {
          "bit": 0,
          "duration": 19,
          "frequency": 16,
          "timestep": 205
         },
         {
          "bit": 0,
          "duration": 20,
          "frequency": 27,
          "timestep": 205
         },
         {
          "bit": 0,
          "duration": 21,
          "frequency": 15,
          "timestep": 205
         },
         {
          "bit": 0,
          "duration": 22,
          "frequency": 14,
          "timestep": 205
         },
         {
          "bit": 0,
          "duration": 23,
          "frequency": 15,
          "timestep": 205
         },
         {
          "bit": 0,
          "duration": 24,
          "frequency": 11,
          "timestep": 205
         },
         {
          "bit": 0,
          "duration": 25,
          "frequency": 12,
          "timestep": 205
         },
         {
          "bit": 0,
          "duration": 26,
          "frequency": 16,
          "timestep": 205
         },
         {
          "bit": 0,
          "duration": 27,
          "frequency": 14,
          "timestep": 205
         },
         {
          "bit": 0,
          "duration": 28,
          "frequency": 12,
          "timestep": 205
         },
         {
          "bit": 0,
          "duration": 29,
          "frequency": 12,
          "timestep": 205
         },
         {
          "bit": 0,
          "duration": 30,
          "frequency": 10,
          "timestep": 205
         },
         {
          "bit": 0,
          "duration": 31,
          "frequency": 17,
          "timestep": 205
         },
         {
          "bit": 0,
          "duration": 32,
          "frequency": 15,
          "timestep": 205
         },
         {
          "bit": 0,
          "duration": 33,
          "frequency": 12,
          "timestep": 205
         },
         {
          "bit": 0,
          "duration": 34,
          "frequency": 12,
          "timestep": 205
         },
         {
          "bit": 0,
          "duration": 35,
          "frequency": 7,
          "timestep": 205
         },
         {
          "bit": 0,
          "duration": 36,
          "frequency": 10,
          "timestep": 205
         },
         {
          "bit": 0,
          "duration": 37,
          "frequency": 12,
          "timestep": 205
         },
         {
          "bit": 0,
          "duration": 38,
          "frequency": 11,
          "timestep": 205
         },
         {
          "bit": 0,
          "duration": 39,
          "frequency": 9,
          "timestep": 205
         },
         {
          "bit": 0,
          "duration": 40,
          "frequency": 8,
          "timestep": 205
         },
         {
          "bit": 0,
          "duration": 41,
          "frequency": 12,
          "timestep": 205
         },
         {
          "bit": 0,
          "duration": 42,
          "frequency": 5,
          "timestep": 205
         },
         {
          "bit": 0,
          "duration": 43,
          "frequency": 10,
          "timestep": 205
         },
         {
          "bit": 0,
          "duration": 44,
          "frequency": 10,
          "timestep": 205
         },
         {
          "bit": 0,
          "duration": 45,
          "frequency": 4,
          "timestep": 205
         },
         {
          "bit": 0,
          "duration": 46,
          "frequency": 6,
          "timestep": 205
         },
         {
          "bit": 0,
          "duration": 47,
          "frequency": 7,
          "timestep": 205
         },
         {
          "bit": 0,
          "duration": 48,
          "frequency": 15,
          "timestep": 205
         },
         {
          "bit": 0,
          "duration": 49,
          "frequency": 7,
          "timestep": 205
         },
         {
          "bit": 0,
          "duration": 50,
          "frequency": 5,
          "timestep": 205
         },
         {
          "bit": 0,
          "duration": 51,
          "frequency": 9,
          "timestep": 205
         },
         {
          "bit": 0,
          "duration": 52,
          "frequency": 8,
          "timestep": 205
         },
         {
          "bit": 0,
          "duration": 53,
          "frequency": 9,
          "timestep": 205
         },
         {
          "bit": 0,
          "duration": 54,
          "frequency": 12,
          "timestep": 205
         },
         {
          "bit": 0,
          "duration": 55,
          "frequency": 5,
          "timestep": 205
         },
         {
          "bit": 0,
          "duration": 56,
          "frequency": 7,
          "timestep": 205
         },
         {
          "bit": 0,
          "duration": 57,
          "frequency": 3,
          "timestep": 205
         },
         {
          "bit": 0,
          "duration": 58,
          "frequency": 7,
          "timestep": 205
         },
         {
          "bit": 0,
          "duration": 59,
          "frequency": 6,
          "timestep": 205
         },
         {
          "bit": 0,
          "duration": 60,
          "frequency": 11,
          "timestep": 205
         },
         {
          "bit": 0,
          "duration": 61,
          "frequency": 10,
          "timestep": 205
         },
         {
          "bit": 0,
          "duration": 62,
          "frequency": 7,
          "timestep": 205
         },
         {
          "bit": 0,
          "duration": 63,
          "frequency": 3,
          "timestep": 205
         },
         {
          "bit": 0,
          "duration": 64,
          "frequency": 6,
          "timestep": 205
         },
         {
          "bit": 0,
          "duration": 65,
          "frequency": 3,
          "timestep": 205
         },
         {
          "bit": 0,
          "duration": 66,
          "frequency": 6,
          "timestep": 205
         },
         {
          "bit": 0,
          "duration": 67,
          "frequency": 9,
          "timestep": 205
         },
         {
          "bit": 0,
          "duration": 68,
          "frequency": 3,
          "timestep": 205
         },
         {
          "bit": 0,
          "duration": 69,
          "frequency": 1,
          "timestep": 205
         },
         {
          "bit": 0,
          "duration": 70,
          "frequency": 2,
          "timestep": 205
         },
         {
          "bit": 0,
          "duration": 71,
          "frequency": 6,
          "timestep": 205
         },
         {
          "bit": 0,
          "duration": 72,
          "frequency": 8,
          "timestep": 205
         },
         {
          "bit": 0,
          "duration": 73,
          "frequency": 5,
          "timestep": 205
         },
         {
          "bit": 0,
          "duration": 74,
          "frequency": 8,
          "timestep": 205
         },
         {
          "bit": 0,
          "duration": 75,
          "frequency": 4,
          "timestep": 205
         },
         {
          "bit": 0,
          "duration": 76,
          "frequency": 3,
          "timestep": 205
         },
         {
          "bit": 0,
          "duration": 77,
          "frequency": 8,
          "timestep": 205
         },
         {
          "bit": 0,
          "duration": 78,
          "frequency": 6,
          "timestep": 205
         },
         {
          "bit": 0,
          "duration": 79,
          "frequency": 7,
          "timestep": 205
         },
         {
          "bit": 0,
          "duration": 80,
          "frequency": 2,
          "timestep": 205
         },
         {
          "bit": 0,
          "duration": 81,
          "frequency": 4,
          "timestep": 205
         },
         {
          "bit": 0,
          "duration": 82,
          "frequency": 4,
          "timestep": 205
         },
         {
          "bit": 0,
          "duration": 83,
          "frequency": 5,
          "timestep": 205
         },
         {
          "bit": 0,
          "duration": 84,
          "frequency": 2,
          "timestep": 205
         },
         {
          "bit": 0,
          "duration": 85,
          "frequency": 3,
          "timestep": 205
         },
         {
          "bit": 0,
          "duration": 86,
          "frequency": 5,
          "timestep": 205
         },
         {
          "bit": 0,
          "duration": 87,
          "frequency": 2,
          "timestep": 205
         },
         {
          "bit": 0,
          "duration": 88,
          "frequency": 10,
          "timestep": 205
         },
         {
          "bit": 0,
          "duration": 89,
          "frequency": 7,
          "timestep": 205
         },
         {
          "bit": 0,
          "duration": 90,
          "frequency": 8,
          "timestep": 205
         },
         {
          "bit": 0,
          "duration": 91,
          "frequency": 1,
          "timestep": 205
         },
         {
          "bit": 0,
          "duration": 92,
          "frequency": 3,
          "timestep": 205
         },
         {
          "bit": 0,
          "duration": 93,
          "frequency": 6,
          "timestep": 205
         },
         {
          "bit": 0,
          "duration": 94,
          "frequency": 4,
          "timestep": 205
         },
         {
          "bit": 0,
          "duration": 95,
          "frequency": 7,
          "timestep": 205
         },
         {
          "bit": 0,
          "duration": 96,
          "frequency": 5,
          "timestep": 205
         },
         {
          "bit": 0,
          "duration": 97,
          "frequency": 3,
          "timestep": 205
         },
         {
          "bit": 0,
          "duration": 98,
          "frequency": 5,
          "timestep": 205
         },
         {
          "bit": 0,
          "duration": 99,
          "frequency": 5,
          "timestep": 205
         },
         {
          "bit": 0,
          "duration": 100,
          "frequency": 3,
          "timestep": 205
         },
         {
          "bit": 0,
          "duration": 101,
          "frequency": 3,
          "timestep": 205
         },
         {
          "bit": 0,
          "duration": 102,
          "frequency": 2,
          "timestep": 205
         },
         {
          "bit": 0,
          "duration": 103,
          "frequency": 1,
          "timestep": 205
         },
         {
          "bit": 0,
          "duration": 104,
          "frequency": 3,
          "timestep": 205
         },
         {
          "bit": 0,
          "duration": 105,
          "frequency": 5,
          "timestep": 205
         },
         {
          "bit": 0,
          "duration": 106,
          "frequency": 6,
          "timestep": 205
         },
         {
          "bit": 0,
          "duration": 107,
          "frequency": 5,
          "timestep": 205
         },
         {
          "bit": 0,
          "duration": 108,
          "frequency": 7,
          "timestep": 205
         },
         {
          "bit": 0,
          "duration": 109,
          "frequency": 3,
          "timestep": 205
         },
         {
          "bit": 0,
          "duration": 110,
          "frequency": 6,
          "timestep": 205
         },
         {
          "bit": 0,
          "duration": 111,
          "frequency": 2,
          "timestep": 205
         },
         {
          "bit": 0,
          "duration": 112,
          "frequency": 4,
          "timestep": 205
         },
         {
          "bit": 0,
          "duration": 113,
          "frequency": 1,
          "timestep": 205
         },
         {
          "bit": 0,
          "duration": 114,
          "frequency": 4,
          "timestep": 205
         },
         {
          "bit": 0,
          "duration": 115,
          "frequency": 2,
          "timestep": 205
         },
         {
          "bit": 0,
          "duration": 116,
          "frequency": 4,
          "timestep": 205
         },
         {
          "bit": 0,
          "duration": 117,
          "frequency": 2,
          "timestep": 205
         },
         {
          "bit": 0,
          "duration": 118,
          "frequency": 3,
          "timestep": 205
         },
         {
          "bit": 0,
          "duration": 119,
          "frequency": 3,
          "timestep": 205
         },
         {
          "bit": 0,
          "duration": 120,
          "frequency": 2,
          "timestep": 205
         },
         {
          "bit": 0,
          "duration": 121,
          "frequency": 2,
          "timestep": 205
         },
         {
          "bit": 0,
          "duration": 122,
          "frequency": 3,
          "timestep": 205
         },
         {
          "bit": 0,
          "duration": 123,
          "frequency": 3,
          "timestep": 205
         },
         {
          "bit": 0,
          "duration": 124,
          "frequency": 2,
          "timestep": 205
         },
         {
          "bit": 0,
          "duration": 126,
          "frequency": 1,
          "timestep": 205
         },
         {
          "bit": 0,
          "duration": 127,
          "frequency": 2,
          "timestep": 205
         },
         {
          "bit": 0,
          "duration": 128,
          "frequency": 2,
          "timestep": 205
         },
         {
          "bit": 0,
          "duration": 129,
          "frequency": 2,
          "timestep": 205
         },
         {
          "bit": 0,
          "duration": 130,
          "frequency": 1,
          "timestep": 205
         },
         {
          "bit": 0,
          "duration": 131,
          "frequency": 3,
          "timestep": 205
         },
         {
          "bit": 0,
          "duration": 132,
          "frequency": 5,
          "timestep": 205
         },
         {
          "bit": 0,
          "duration": 133,
          "frequency": 1,
          "timestep": 205
         },
         {
          "bit": 0,
          "duration": 134,
          "frequency": 1,
          "timestep": 205
         },
         {
          "bit": 0,
          "duration": 135,
          "frequency": 2,
          "timestep": 205
         },
         {
          "bit": 0,
          "duration": 136,
          "frequency": 3,
          "timestep": 205
         },
         {
          "bit": 0,
          "duration": 137,
          "frequency": 3,
          "timestep": 205
         },
         {
          "bit": 0,
          "duration": 139,
          "frequency": 3,
          "timestep": 205
         },
         {
          "bit": 0,
          "duration": 140,
          "frequency": 2,
          "timestep": 205
         },
         {
          "bit": 0,
          "duration": 141,
          "frequency": 1,
          "timestep": 205
         },
         {
          "bit": 0,
          "duration": 142,
          "frequency": 1,
          "timestep": 205
         },
         {
          "bit": 0,
          "duration": 146,
          "frequency": 2,
          "timestep": 205
         },
         {
          "bit": 0,
          "duration": 147,
          "frequency": 1,
          "timestep": 205
         },
         {
          "bit": 0,
          "duration": 149,
          "frequency": 1,
          "timestep": 205
         },
         {
          "bit": 0,
          "duration": 153,
          "frequency": 1,
          "timestep": 205
         },
         {
          "bit": 0,
          "duration": 155,
          "frequency": 1,
          "timestep": 205
         },
         {
          "bit": 0,
          "duration": 161,
          "frequency": 1,
          "timestep": 205
         },
         {
          "bit": 0,
          "duration": 162,
          "frequency": 2,
          "timestep": 205
         },
         {
          "bit": 0,
          "duration": 163,
          "frequency": 1,
          "timestep": 205
         },
         {
          "bit": 0,
          "duration": 164,
          "frequency": 1,
          "timestep": 205
         },
         {
          "bit": 0,
          "duration": 166,
          "frequency": 3,
          "timestep": 205
         },
         {
          "bit": 0,
          "duration": 167,
          "frequency": 1,
          "timestep": 205
         },
         {
          "bit": 0,
          "duration": 168,
          "frequency": 1,
          "timestep": 205
         },
         {
          "bit": 0,
          "duration": 171,
          "frequency": 2,
          "timestep": 205
         },
         {
          "bit": 0,
          "duration": 172,
          "frequency": 1,
          "timestep": 205
         },
         {
          "bit": 0,
          "duration": 173,
          "frequency": 3,
          "timestep": 205
         },
         {
          "bit": 0,
          "duration": 175,
          "frequency": 1,
          "timestep": 205
         },
         {
          "bit": 0,
          "duration": 176,
          "frequency": 2,
          "timestep": 205
         },
         {
          "bit": 0,
          "duration": 178,
          "frequency": 1,
          "timestep": 205
         },
         {
          "bit": 0,
          "duration": 179,
          "frequency": 3,
          "timestep": 205
         },
         {
          "bit": 0,
          "duration": 180,
          "frequency": 1,
          "timestep": 205
         },
         {
          "bit": 0,
          "duration": 181,
          "frequency": 3,
          "timestep": 205
         },
         {
          "bit": 0,
          "duration": 182,
          "frequency": 1,
          "timestep": 205
         },
         {
          "bit": 0,
          "duration": 183,
          "frequency": 1,
          "timestep": 205
         },
         {
          "bit": 0,
          "duration": 185,
          "frequency": 1,
          "timestep": 205
         },
         {
          "bit": 0,
          "duration": 187,
          "frequency": 1,
          "timestep": 205
         },
         {
          "bit": 0,
          "duration": 189,
          "frequency": 2,
          "timestep": 205
         },
         {
          "bit": 0,
          "duration": 190,
          "frequency": 1,
          "timestep": 205
         },
         {
          "bit": 0,
          "duration": 191,
          "frequency": 1,
          "timestep": 205
         },
         {
          "bit": 0,
          "duration": 194,
          "frequency": 1,
          "timestep": 205
         },
         {
          "bit": 0,
          "duration": 200,
          "frequency": 2,
          "timestep": 205
         },
         {
          "bit": 0,
          "duration": 204,
          "frequency": 2,
          "timestep": 205
         },
         {
          "bit": 0,
          "duration": 206,
          "frequency": 1,
          "timestep": 205
         },
         {
          "bit": 0,
          "duration": 208,
          "frequency": 1,
          "timestep": 205
         },
         {
          "bit": 0,
          "duration": 209,
          "frequency": 1,
          "timestep": 205
         },
         {
          "bit": 0,
          "duration": 212,
          "frequency": 1,
          "timestep": 205
         },
         {
          "bit": 0,
          "duration": 214,
          "frequency": 1,
          "timestep": 205
         },
         {
          "bit": 0,
          "duration": 216,
          "frequency": 1,
          "timestep": 205
         },
         {
          "bit": 0,
          "duration": 217,
          "frequency": 1,
          "timestep": 205
         },
         {
          "bit": 0,
          "duration": 225,
          "frequency": 1,
          "timestep": 205
         },
         {
          "bit": 0,
          "duration": 227,
          "frequency": 2,
          "timestep": 205
         },
         {
          "bit": 0,
          "duration": 228,
          "frequency": 1,
          "timestep": 205
         },
         {
          "bit": 0,
          "duration": 229,
          "frequency": 1,
          "timestep": 205
         },
         {
          "bit": 0,
          "duration": 230,
          "frequency": 1,
          "timestep": 205
         },
         {
          "bit": 0,
          "duration": 233,
          "frequency": 2,
          "timestep": 205
         },
         {
          "bit": 0,
          "duration": 240,
          "frequency": 3,
          "timestep": 205
         },
         {
          "bit": 0,
          "duration": 241,
          "frequency": 1,
          "timestep": 205
         },
         {
          "bit": 0,
          "duration": 244,
          "frequency": 1,
          "timestep": 205
         },
         {
          "bit": 0,
          "duration": 245,
          "frequency": 1,
          "timestep": 205
         },
         {
          "bit": 0,
          "duration": 253,
          "frequency": 1,
          "timestep": 205
         },
         {
          "bit": 0,
          "duration": 259,
          "frequency": 1,
          "timestep": 205
         },
         {
          "bit": 0,
          "duration": 263,
          "frequency": 1,
          "timestep": 205
         },
         {
          "bit": 0,
          "duration": 266,
          "frequency": 1,
          "timestep": 205
         },
         {
          "bit": 0,
          "duration": 269,
          "frequency": 1,
          "timestep": 205
         },
         {
          "bit": 0,
          "duration": 281,
          "frequency": 1,
          "timestep": 205
         },
         {
          "bit": 0,
          "duration": 294,
          "frequency": 1,
          "timestep": 205
         },
         {
          "bit": 0,
          "duration": 295,
          "frequency": 1,
          "timestep": 205
         },
         {
          "bit": 0,
          "duration": 299,
          "frequency": 1,
          "timestep": 205
         },
         {
          "bit": 0,
          "duration": 306,
          "frequency": 1,
          "timestep": 205
         },
         {
          "bit": 0,
          "duration": 309,
          "frequency": 1,
          "timestep": 205
         },
         {
          "bit": 0,
          "duration": 310,
          "frequency": 1,
          "timestep": 205
         },
         {
          "bit": 0,
          "duration": 312,
          "frequency": 1,
          "timestep": 205
         },
         {
          "bit": 0,
          "duration": 328,
          "frequency": 1,
          "timestep": 205
         },
         {
          "bit": 0,
          "duration": 346,
          "frequency": 1,
          "timestep": 205
         },
         {
          "bit": 0,
          "duration": 359,
          "frequency": 1,
          "timestep": 205
         },
         {
          "bit": 0,
          "duration": 413,
          "frequency": 1,
          "timestep": 205
         },
         {
          "bit": 0,
          "duration": 1,
          "frequency": 85860,
          "timestep": 305
         },
         {
          "bit": 0,
          "duration": 2,
          "frequency": 44499,
          "timestep": 305
         },
         {
          "bit": 0,
          "duration": 3,
          "frequency": 7581,
          "timestep": 305
         },
         {
          "bit": 0,
          "duration": 4,
          "frequency": 1961,
          "timestep": 305
         },
         {
          "bit": 0,
          "duration": 5,
          "frequency": 568,
          "timestep": 305
         },
         {
          "bit": 0,
          "duration": 6,
          "frequency": 200,
          "timestep": 305
         },
         {
          "bit": 0,
          "duration": 7,
          "frequency": 130,
          "timestep": 305
         },
         {
          "bit": 0,
          "duration": 8,
          "frequency": 75,
          "timestep": 305
         },
         {
          "bit": 0,
          "duration": 9,
          "frequency": 75,
          "timestep": 305
         },
         {
          "bit": 0,
          "duration": 10,
          "frequency": 42,
          "timestep": 305
         },
         {
          "bit": 0,
          "duration": 11,
          "frequency": 37,
          "timestep": 305
         },
         {
          "bit": 0,
          "duration": 12,
          "frequency": 25,
          "timestep": 305
         },
         {
          "bit": 0,
          "duration": 13,
          "frequency": 24,
          "timestep": 305
         },
         {
          "bit": 0,
          "duration": 14,
          "frequency": 17,
          "timestep": 305
         },
         {
          "bit": 0,
          "duration": 15,
          "frequency": 20,
          "timestep": 305
         },
         {
          "bit": 0,
          "duration": 16,
          "frequency": 15,
          "timestep": 305
         },
         {
          "bit": 0,
          "duration": 17,
          "frequency": 14,
          "timestep": 305
         },
         {
          "bit": 0,
          "duration": 18,
          "frequency": 9,
          "timestep": 305
         },
         {
          "bit": 0,
          "duration": 19,
          "frequency": 8,
          "timestep": 305
         },
         {
          "bit": 0,
          "duration": 20,
          "frequency": 17,
          "timestep": 305
         },
         {
          "bit": 0,
          "duration": 21,
          "frequency": 11,
          "timestep": 305
         },
         {
          "bit": 0,
          "duration": 22,
          "frequency": 14,
          "timestep": 305
         },
         {
          "bit": 0,
          "duration": 23,
          "frequency": 10,
          "timestep": 305
         },
         {
          "bit": 0,
          "duration": 24,
          "frequency": 8,
          "timestep": 305
         },
         {
          "bit": 0,
          "duration": 25,
          "frequency": 14,
          "timestep": 305
         },
         {
          "bit": 0,
          "duration": 26,
          "frequency": 5,
          "timestep": 305
         },
         {
          "bit": 0,
          "duration": 27,
          "frequency": 11,
          "timestep": 305
         },
         {
          "bit": 0,
          "duration": 28,
          "frequency": 13,
          "timestep": 305
         },
         {
          "bit": 0,
          "duration": 29,
          "frequency": 10,
          "timestep": 305
         },
         {
          "bit": 0,
          "duration": 30,
          "frequency": 7,
          "timestep": 305
         },
         {
          "bit": 0,
          "duration": 31,
          "frequency": 5,
          "timestep": 305
         },
         {
          "bit": 0,
          "duration": 32,
          "frequency": 6,
          "timestep": 305
         },
         {
          "bit": 0,
          "duration": 33,
          "frequency": 4,
          "timestep": 305
         },
         {
          "bit": 0,
          "duration": 34,
          "frequency": 7,
          "timestep": 305
         },
         {
          "bit": 0,
          "duration": 35,
          "frequency": 7,
          "timestep": 305
         },
         {
          "bit": 0,
          "duration": 36,
          "frequency": 10,
          "timestep": 305
         },
         {
          "bit": 0,
          "duration": 37,
          "frequency": 5,
          "timestep": 305
         },
         {
          "bit": 0,
          "duration": 38,
          "frequency": 6,
          "timestep": 305
         },
         {
          "bit": 0,
          "duration": 39,
          "frequency": 7,
          "timestep": 305
         },
         {
          "bit": 0,
          "duration": 40,
          "frequency": 9,
          "timestep": 305
         },
         {
          "bit": 0,
          "duration": 41,
          "frequency": 3,
          "timestep": 305
         },
         {
          "bit": 0,
          "duration": 42,
          "frequency": 4,
          "timestep": 305
         },
         {
          "bit": 0,
          "duration": 43,
          "frequency": 5,
          "timestep": 305
         },
         {
          "bit": 0,
          "duration": 44,
          "frequency": 5,
          "timestep": 305
         },
         {
          "bit": 0,
          "duration": 45,
          "frequency": 7,
          "timestep": 305
         },
         {
          "bit": 0,
          "duration": 46,
          "frequency": 3,
          "timestep": 305
         },
         {
          "bit": 0,
          "duration": 47,
          "frequency": 6,
          "timestep": 305
         },
         {
          "bit": 0,
          "duration": 48,
          "frequency": 5,
          "timestep": 305
         },
         {
          "bit": 0,
          "duration": 49,
          "frequency": 3,
          "timestep": 305
         },
         {
          "bit": 0,
          "duration": 50,
          "frequency": 3,
          "timestep": 305
         },
         {
          "bit": 0,
          "duration": 51,
          "frequency": 8,
          "timestep": 305
         },
         {
          "bit": 0,
          "duration": 52,
          "frequency": 5,
          "timestep": 305
         },
         {
          "bit": 0,
          "duration": 53,
          "frequency": 6,
          "timestep": 305
         },
         {
          "bit": 0,
          "duration": 54,
          "frequency": 3,
          "timestep": 305
         },
         {
          "bit": 0,
          "duration": 55,
          "frequency": 5,
          "timestep": 305
         },
         {
          "bit": 0,
          "duration": 56,
          "frequency": 3,
          "timestep": 305
         },
         {
          "bit": 0,
          "duration": 57,
          "frequency": 9,
          "timestep": 305
         },
         {
          "bit": 0,
          "duration": 58,
          "frequency": 3,
          "timestep": 305
         },
         {
          "bit": 0,
          "duration": 59,
          "frequency": 4,
          "timestep": 305
         },
         {
          "bit": 0,
          "duration": 60,
          "frequency": 4,
          "timestep": 305
         },
         {
          "bit": 0,
          "duration": 61,
          "frequency": 2,
          "timestep": 305
         },
         {
          "bit": 0,
          "duration": 62,
          "frequency": 5,
          "timestep": 305
         },
         {
          "bit": 0,
          "duration": 63,
          "frequency": 4,
          "timestep": 305
         },
         {
          "bit": 0,
          "duration": 64,
          "frequency": 5,
          "timestep": 305
         },
         {
          "bit": 0,
          "duration": 65,
          "frequency": 1,
          "timestep": 305
         },
         {
          "bit": 0,
          "duration": 66,
          "frequency": 3,
          "timestep": 305
         },
         {
          "bit": 0,
          "duration": 68,
          "frequency": 4,
          "timestep": 305
         },
         {
          "bit": 0,
          "duration": 69,
          "frequency": 4,
          "timestep": 305
         },
         {
          "bit": 0,
          "duration": 70,
          "frequency": 2,
          "timestep": 305
         },
         {
          "bit": 0,
          "duration": 71,
          "frequency": 2,
          "timestep": 305
         },
         {
          "bit": 0,
          "duration": 72,
          "frequency": 1,
          "timestep": 305
         },
         {
          "bit": 0,
          "duration": 73,
          "frequency": 2,
          "timestep": 305
         },
         {
          "bit": 0,
          "duration": 74,
          "frequency": 9,
          "timestep": 305
         },
         {
          "bit": 0,
          "duration": 75,
          "frequency": 4,
          "timestep": 305
         },
         {
          "bit": 0,
          "duration": 76,
          "frequency": 3,
          "timestep": 305
         },
         {
          "bit": 0,
          "duration": 77,
          "frequency": 1,
          "timestep": 305
         },
         {
          "bit": 0,
          "duration": 78,
          "frequency": 4,
          "timestep": 305
         },
         {
          "bit": 0,
          "duration": 79,
          "frequency": 2,
          "timestep": 305
         },
         {
          "bit": 0,
          "duration": 80,
          "frequency": 1,
          "timestep": 305
         },
         {
          "bit": 0,
          "duration": 81,
          "frequency": 1,
          "timestep": 305
         },
         {
          "bit": 0,
          "duration": 82,
          "frequency": 2,
          "timestep": 305
         },
         {
          "bit": 0,
          "duration": 83,
          "frequency": 2,
          "timestep": 305
         },
         {
          "bit": 0,
          "duration": 84,
          "frequency": 1,
          "timestep": 305
         },
         {
          "bit": 0,
          "duration": 85,
          "frequency": 1,
          "timestep": 305
         },
         {
          "bit": 0,
          "duration": 86,
          "frequency": 4,
          "timestep": 305
         },
         {
          "bit": 0,
          "duration": 87,
          "frequency": 2,
          "timestep": 305
         },
         {
          "bit": 0,
          "duration": 88,
          "frequency": 1,
          "timestep": 305
         },
         {
          "bit": 0,
          "duration": 89,
          "frequency": 3,
          "timestep": 305
         },
         {
          "bit": 0,
          "duration": 91,
          "frequency": 1,
          "timestep": 305
         },
         {
          "bit": 0,
          "duration": 92,
          "frequency": 1,
          "timestep": 305
         },
         {
          "bit": 0,
          "duration": 93,
          "frequency": 1,
          "timestep": 305
         },
         {
          "bit": 0,
          "duration": 95,
          "frequency": 1,
          "timestep": 305
         },
         {
          "bit": 0,
          "duration": 96,
          "frequency": 4,
          "timestep": 305
         },
         {
          "bit": 0,
          "duration": 97,
          "frequency": 1,
          "timestep": 305
         },
         {
          "bit": 0,
          "duration": 100,
          "frequency": 2,
          "timestep": 305
         },
         {
          "bit": 0,
          "duration": 102,
          "frequency": 1,
          "timestep": 305
         },
         {
          "bit": 0,
          "duration": 103,
          "frequency": 1,
          "timestep": 305
         },
         {
          "bit": 0,
          "duration": 104,
          "frequency": 1,
          "timestep": 305
         },
         {
          "bit": 0,
          "duration": 105,
          "frequency": 2,
          "timestep": 305
         },
         {
          "bit": 0,
          "duration": 106,
          "frequency": 2,
          "timestep": 305
         },
         {
          "bit": 0,
          "duration": 107,
          "frequency": 1,
          "timestep": 305
         },
         {
          "bit": 0,
          "duration": 109,
          "frequency": 4,
          "timestep": 305
         },
         {
          "bit": 0,
          "duration": 111,
          "frequency": 1,
          "timestep": 305
         },
         {
          "bit": 0,
          "duration": 112,
          "frequency": 1,
          "timestep": 305
         },
         {
          "bit": 0,
          "duration": 113,
          "frequency": 1,
          "timestep": 305
         },
         {
          "bit": 0,
          "duration": 114,
          "frequency": 1,
          "timestep": 305
         },
         {
          "bit": 0,
          "duration": 115,
          "frequency": 2,
          "timestep": 305
         },
         {
          "bit": 0,
          "duration": 116,
          "frequency": 1,
          "timestep": 305
         },
         {
          "bit": 0,
          "duration": 118,
          "frequency": 1,
          "timestep": 305
         },
         {
          "bit": 0,
          "duration": 119,
          "frequency": 3,
          "timestep": 305
         },
         {
          "bit": 0,
          "duration": 120,
          "frequency": 1,
          "timestep": 305
         },
         {
          "bit": 0,
          "duration": 121,
          "frequency": 1,
          "timestep": 305
         },
         {
          "bit": 0,
          "duration": 122,
          "frequency": 1,
          "timestep": 305
         },
         {
          "bit": 0,
          "duration": 123,
          "frequency": 1,
          "timestep": 305
         },
         {
          "bit": 0,
          "duration": 125,
          "frequency": 4,
          "timestep": 305
         },
         {
          "bit": 0,
          "duration": 128,
          "frequency": 3,
          "timestep": 305
         },
         {
          "bit": 0,
          "duration": 129,
          "frequency": 1,
          "timestep": 305
         },
         {
          "bit": 0,
          "duration": 131,
          "frequency": 2,
          "timestep": 305
         },
         {
          "bit": 0,
          "duration": 136,
          "frequency": 2,
          "timestep": 305
         },
         {
          "bit": 0,
          "duration": 137,
          "frequency": 1,
          "timestep": 305
         },
         {
          "bit": 0,
          "duration": 138,
          "frequency": 1,
          "timestep": 305
         },
         {
          "bit": 0,
          "duration": 140,
          "frequency": 1,
          "timestep": 305
         },
         {
          "bit": 0,
          "duration": 144,
          "frequency": 1,
          "timestep": 305
         },
         {
          "bit": 0,
          "duration": 150,
          "frequency": 1,
          "timestep": 305
         },
         {
          "bit": 0,
          "duration": 152,
          "frequency": 1,
          "timestep": 305
         },
         {
          "bit": 0,
          "duration": 153,
          "frequency": 1,
          "timestep": 305
         },
         {
          "bit": 0,
          "duration": 155,
          "frequency": 2,
          "timestep": 305
         },
         {
          "bit": 0,
          "duration": 159,
          "frequency": 1,
          "timestep": 305
         },
         {
          "bit": 0,
          "duration": 161,
          "frequency": 1,
          "timestep": 305
         },
         {
          "bit": 0,
          "duration": 167,
          "frequency": 1,
          "timestep": 305
         },
         {
          "bit": 0,
          "duration": 182,
          "frequency": 1,
          "timestep": 305
         },
         {
          "bit": 0,
          "duration": 190,
          "frequency": 1,
          "timestep": 305
         },
         {
          "bit": 0,
          "duration": 193,
          "frequency": 1,
          "timestep": 305
         },
         {
          "bit": 0,
          "duration": 197,
          "frequency": 1,
          "timestep": 305
         },
         {
          "bit": 0,
          "duration": 199,
          "frequency": 1,
          "timestep": 305
         },
         {
          "bit": 0,
          "duration": 222,
          "frequency": 1,
          "timestep": 305
         },
         {
          "bit": 0,
          "duration": 242,
          "frequency": 1,
          "timestep": 305
         },
         {
          "bit": 0,
          "duration": 282,
          "frequency": 1,
          "timestep": 305
         },
         {
          "bit": 0,
          "duration": 293,
          "frequency": 1,
          "timestep": 305
         },
         {
          "bit": 0,
          "duration": 361,
          "frequency": 1,
          "timestep": 305
         },
         {
          "bit": 0,
          "duration": 1,
          "frequency": 96571,
          "timestep": 405
         },
         {
          "bit": 0,
          "duration": 2,
          "frequency": 43033,
          "timestep": 405
         },
         {
          "bit": 0,
          "duration": 3,
          "frequency": 8008,
          "timestep": 405
         },
         {
          "bit": 0,
          "duration": 4,
          "frequency": 2154,
          "timestep": 405
         },
         {
          "bit": 0,
          "duration": 5,
          "frequency": 644,
          "timestep": 405
         },
         {
          "bit": 0,
          "duration": 6,
          "frequency": 183,
          "timestep": 405
         },
         {
          "bit": 0,
          "duration": 7,
          "frequency": 80,
          "timestep": 405
         },
         {
          "bit": 0,
          "duration": 8,
          "frequency": 43,
          "timestep": 405
         },
         {
          "bit": 0,
          "duration": 9,
          "frequency": 45,
          "timestep": 405
         },
         {
          "bit": 0,
          "duration": 10,
          "frequency": 27,
          "timestep": 405
         },
         {
          "bit": 0,
          "duration": 11,
          "frequency": 25,
          "timestep": 405
         },
         {
          "bit": 0,
          "duration": 12,
          "frequency": 23,
          "timestep": 405
         },
         {
          "bit": 0,
          "duration": 13,
          "frequency": 21,
          "timestep": 405
         },
         {
          "bit": 0,
          "duration": 14,
          "frequency": 24,
          "timestep": 405
         },
         {
          "bit": 0,
          "duration": 15,
          "frequency": 30,
          "timestep": 405
         },
         {
          "bit": 0,
          "duration": 16,
          "frequency": 24,
          "timestep": 405
         },
         {
          "bit": 0,
          "duration": 17,
          "frequency": 17,
          "timestep": 405
         },
         {
          "bit": 0,
          "duration": 18,
          "frequency": 17,
          "timestep": 405
         },
         {
          "bit": 0,
          "duration": 19,
          "frequency": 25,
          "timestep": 405
         },
         {
          "bit": 0,
          "duration": 20,
          "frequency": 21,
          "timestep": 405
         },
         {
          "bit": 0,
          "duration": 21,
          "frequency": 18,
          "timestep": 405
         },
         {
          "bit": 0,
          "duration": 22,
          "frequency": 18,
          "timestep": 405
         },
         {
          "bit": 0,
          "duration": 23,
          "frequency": 21,
          "timestep": 405
         },
         {
          "bit": 0,
          "duration": 24,
          "frequency": 17,
          "timestep": 405
         },
         {
          "bit": 0,
          "duration": 25,
          "frequency": 15,
          "timestep": 405
         },
         {
          "bit": 0,
          "duration": 26,
          "frequency": 14,
          "timestep": 405
         },
         {
          "bit": 0,
          "duration": 27,
          "frequency": 12,
          "timestep": 405
         },
         {
          "bit": 0,
          "duration": 28,
          "frequency": 17,
          "timestep": 405
         },
         {
          "bit": 0,
          "duration": 29,
          "frequency": 23,
          "timestep": 405
         },
         {
          "bit": 0,
          "duration": 30,
          "frequency": 11,
          "timestep": 405
         },
         {
          "bit": 0,
          "duration": 31,
          "frequency": 10,
          "timestep": 405
         },
         {
          "bit": 0,
          "duration": 32,
          "frequency": 18,
          "timestep": 405
         },
         {
          "bit": 0,
          "duration": 33,
          "frequency": 22,
          "timestep": 405
         },
         {
          "bit": 0,
          "duration": 34,
          "frequency": 6,
          "timestep": 405
         },
         {
          "bit": 0,
          "duration": 35,
          "frequency": 21,
          "timestep": 405
         },
         {
          "bit": 0,
          "duration": 36,
          "frequency": 11,
          "timestep": 405
         },
         {
          "bit": 0,
          "duration": 37,
          "frequency": 15,
          "timestep": 405
         },
         {
          "bit": 0,
          "duration": 38,
          "frequency": 12,
          "timestep": 405
         },
         {
          "bit": 0,
          "duration": 39,
          "frequency": 10,
          "timestep": 405
         },
         {
          "bit": 0,
          "duration": 40,
          "frequency": 9,
          "timestep": 405
         },
         {
          "bit": 0,
          "duration": 41,
          "frequency": 6,
          "timestep": 405
         },
         {
          "bit": 0,
          "duration": 42,
          "frequency": 5,
          "timestep": 405
         },
         {
          "bit": 0,
          "duration": 43,
          "frequency": 12,
          "timestep": 405
         },
         {
          "bit": 0,
          "duration": 44,
          "frequency": 7,
          "timestep": 405
         },
         {
          "bit": 0,
          "duration": 45,
          "frequency": 8,
          "timestep": 405
         },
         {
          "bit": 0,
          "duration": 46,
          "frequency": 12,
          "timestep": 405
         },
         {
          "bit": 0,
          "duration": 47,
          "frequency": 6,
          "timestep": 405
         },
         {
          "bit": 0,
          "duration": 48,
          "frequency": 6,
          "timestep": 405
         },
         {
          "bit": 0,
          "duration": 49,
          "frequency": 9,
          "timestep": 405
         },
         {
          "bit": 0,
          "duration": 50,
          "frequency": 9,
          "timestep": 405
         },
         {
          "bit": 0,
          "duration": 51,
          "frequency": 8,
          "timestep": 405
         },
         {
          "bit": 0,
          "duration": 52,
          "frequency": 10,
          "timestep": 405
         },
         {
          "bit": 0,
          "duration": 53,
          "frequency": 9,
          "timestep": 405
         },
         {
          "bit": 0,
          "duration": 54,
          "frequency": 7,
          "timestep": 405
         },
         {
          "bit": 0,
          "duration": 55,
          "frequency": 8,
          "timestep": 405
         },
         {
          "bit": 0,
          "duration": 56,
          "frequency": 7,
          "timestep": 405
         },
         {
          "bit": 0,
          "duration": 57,
          "frequency": 6,
          "timestep": 405
         },
         {
          "bit": 0,
          "duration": 58,
          "frequency": 2,
          "timestep": 405
         },
         {
          "bit": 0,
          "duration": 59,
          "frequency": 4,
          "timestep": 405
         },
         {
          "bit": 0,
          "duration": 60,
          "frequency": 5,
          "timestep": 405
         },
         {
          "bit": 0,
          "duration": 61,
          "frequency": 12,
          "timestep": 405
         },
         {
          "bit": 0,
          "duration": 62,
          "frequency": 5,
          "timestep": 405
         },
         {
          "bit": 0,
          "duration": 63,
          "frequency": 5,
          "timestep": 405
         },
         {
          "bit": 0,
          "duration": 64,
          "frequency": 1,
          "timestep": 405
         },
         {
          "bit": 0,
          "duration": 65,
          "frequency": 3,
          "timestep": 405
         },
         {
          "bit": 0,
          "duration": 66,
          "frequency": 3,
          "timestep": 405
         },
         {
          "bit": 0,
          "duration": 67,
          "frequency": 7,
          "timestep": 405
         },
         {
          "bit": 0,
          "duration": 68,
          "frequency": 2,
          "timestep": 405
         },
         {
          "bit": 0,
          "duration": 69,
          "frequency": 6,
          "timestep": 405
         },
         {
          "bit": 0,
          "duration": 70,
          "frequency": 5,
          "timestep": 405
         },
         {
          "bit": 0,
          "duration": 71,
          "frequency": 3,
          "timestep": 405
         },
         {
          "bit": 0,
          "duration": 72,
          "frequency": 5,
          "timestep": 405
         },
         {
          "bit": 0,
          "duration": 73,
          "frequency": 5,
          "timestep": 405
         },
         {
          "bit": 0,
          "duration": 75,
          "frequency": 2,
          "timestep": 405
         },
         {
          "bit": 0,
          "duration": 76,
          "frequency": 4,
          "timestep": 405
         },
         {
          "bit": 0,
          "duration": 77,
          "frequency": 2,
          "timestep": 405
         },
         {
          "bit": 0,
          "duration": 78,
          "frequency": 5,
          "timestep": 405
         },
         {
          "bit": 0,
          "duration": 79,
          "frequency": 5,
          "timestep": 405
         },
         {
          "bit": 0,
          "duration": 80,
          "frequency": 1,
          "timestep": 405
         },
         {
          "bit": 0,
          "duration": 81,
          "frequency": 6,
          "timestep": 405
         },
         {
          "bit": 0,
          "duration": 82,
          "frequency": 3,
          "timestep": 405
         },
         {
          "bit": 0,
          "duration": 83,
          "frequency": 2,
          "timestep": 405
         },
         {
          "bit": 0,
          "duration": 84,
          "frequency": 3,
          "timestep": 405
         },
         {
          "bit": 0,
          "duration": 85,
          "frequency": 1,
          "timestep": 405
         },
         {
          "bit": 0,
          "duration": 86,
          "frequency": 2,
          "timestep": 405
         },
         {
          "bit": 0,
          "duration": 87,
          "frequency": 5,
          "timestep": 405
         },
         {
          "bit": 0,
          "duration": 89,
          "frequency": 2,
          "timestep": 405
         },
         {
          "bit": 0,
          "duration": 90,
          "frequency": 2,
          "timestep": 405
         },
         {
          "bit": 0,
          "duration": 91,
          "frequency": 1,
          "timestep": 405
         },
         {
          "bit": 0,
          "duration": 92,
          "frequency": 2,
          "timestep": 405
         },
         {
          "bit": 0,
          "duration": 93,
          "frequency": 3,
          "timestep": 405
         },
         {
          "bit": 0,
          "duration": 94,
          "frequency": 2,
          "timestep": 405
         },
         {
          "bit": 0,
          "duration": 95,
          "frequency": 3,
          "timestep": 405
         },
         {
          "bit": 0,
          "duration": 96,
          "frequency": 2,
          "timestep": 405
         },
         {
          "bit": 0,
          "duration": 97,
          "frequency": 1,
          "timestep": 405
         },
         {
          "bit": 0,
          "duration": 98,
          "frequency": 2,
          "timestep": 405
         },
         {
          "bit": 0,
          "duration": 99,
          "frequency": 4,
          "timestep": 405
         },
         {
          "bit": 0,
          "duration": 100,
          "frequency": 1,
          "timestep": 405
         },
         {
          "bit": 0,
          "duration": 101,
          "frequency": 2,
          "timestep": 405
         },
         {
          "bit": 0,
          "duration": 102,
          "frequency": 1,
          "timestep": 405
         },
         {
          "bit": 0,
          "duration": 104,
          "frequency": 5,
          "timestep": 405
         },
         {
          "bit": 0,
          "duration": 105,
          "frequency": 1,
          "timestep": 405
         },
         {
          "bit": 0,
          "duration": 107,
          "frequency": 1,
          "timestep": 405
         },
         {
          "bit": 0,
          "duration": 108,
          "frequency": 2,
          "timestep": 405
         },
         {
          "bit": 0,
          "duration": 109,
          "frequency": 1,
          "timestep": 405
         },
         {
          "bit": 0,
          "duration": 110,
          "frequency": 3,
          "timestep": 405
         },
         {
          "bit": 0,
          "duration": 111,
          "frequency": 2,
          "timestep": 405
         },
         {
          "bit": 0,
          "duration": 112,
          "frequency": 1,
          "timestep": 405
         },
         {
          "bit": 0,
          "duration": 113,
          "frequency": 1,
          "timestep": 405
         },
         {
          "bit": 0,
          "duration": 115,
          "frequency": 1,
          "timestep": 405
         },
         {
          "bit": 0,
          "duration": 118,
          "frequency": 1,
          "timestep": 405
         },
         {
          "bit": 0,
          "duration": 120,
          "frequency": 2,
          "timestep": 405
         },
         {
          "bit": 0,
          "duration": 121,
          "frequency": 1,
          "timestep": 405
         },
         {
          "bit": 0,
          "duration": 122,
          "frequency": 1,
          "timestep": 405
         },
         {
          "bit": 0,
          "duration": 124,
          "frequency": 3,
          "timestep": 405
         },
         {
          "bit": 0,
          "duration": 131,
          "frequency": 1,
          "timestep": 405
         },
         {
          "bit": 0,
          "duration": 133,
          "frequency": 3,
          "timestep": 405
         },
         {
          "bit": 0,
          "duration": 134,
          "frequency": 1,
          "timestep": 405
         },
         {
          "bit": 0,
          "duration": 137,
          "frequency": 1,
          "timestep": 405
         },
         {
          "bit": 0,
          "duration": 141,
          "frequency": 1,
          "timestep": 405
         },
         {
          "bit": 0,
          "duration": 142,
          "frequency": 1,
          "timestep": 405
         },
         {
          "bit": 0,
          "duration": 143,
          "frequency": 1,
          "timestep": 405
         },
         {
          "bit": 0,
          "duration": 146,
          "frequency": 1,
          "timestep": 405
         },
         {
          "bit": 0,
          "duration": 148,
          "frequency": 2,
          "timestep": 405
         },
         {
          "bit": 0,
          "duration": 153,
          "frequency": 1,
          "timestep": 405
         },
         {
          "bit": 0,
          "duration": 176,
          "frequency": 1,
          "timestep": 405
         },
         {
          "bit": 0,
          "duration": 177,
          "frequency": 1,
          "timestep": 405
         },
         {
          "bit": 0,
          "duration": 181,
          "frequency": 1,
          "timestep": 405
         },
         {
          "bit": 0,
          "duration": 193,
          "frequency": 1,
          "timestep": 405
         },
         {
          "bit": 0,
          "duration": 197,
          "frequency": 1,
          "timestep": 405
         },
         {
          "bit": 0,
          "duration": 210,
          "frequency": 1,
          "timestep": 405
         },
         {
          "bit": 0,
          "duration": 214,
          "frequency": 2,
          "timestep": 405
         },
         {
          "bit": 0,
          "duration": 1,
          "frequency": 68300,
          "timestep": 505
         },
         {
          "bit": 0,
          "duration": 2,
          "frequency": 36991,
          "timestep": 505
         },
         {
          "bit": 0,
          "duration": 3,
          "frequency": 8867,
          "timestep": 505
         },
         {
          "bit": 0,
          "duration": 4,
          "frequency": 3198,
          "timestep": 505
         },
         {
          "bit": 0,
          "duration": 5,
          "frequency": 1256,
          "timestep": 505
         },
         {
          "bit": 0,
          "duration": 6,
          "frequency": 622,
          "timestep": 505
         },
         {
          "bit": 0,
          "duration": 7,
          "frequency": 292,
          "timestep": 505
         },
         {
          "bit": 0,
          "duration": 8,
          "frequency": 180,
          "timestep": 505
         },
         {
          "bit": 0,
          "duration": 9,
          "frequency": 109,
          "timestep": 505
         },
         {
          "bit": 0,
          "duration": 10,
          "frequency": 88,
          "timestep": 505
         },
         {
          "bit": 0,
          "duration": 11,
          "frequency": 65,
          "timestep": 505
         },
         {
          "bit": 0,
          "duration": 12,
          "frequency": 65,
          "timestep": 505
         },
         {
          "bit": 0,
          "duration": 13,
          "frequency": 30,
          "timestep": 505
         },
         {
          "bit": 0,
          "duration": 14,
          "frequency": 28,
          "timestep": 505
         },
         {
          "bit": 0,
          "duration": 15,
          "frequency": 33,
          "timestep": 505
         },
         {
          "bit": 0,
          "duration": 16,
          "frequency": 26,
          "timestep": 505
         },
         {
          "bit": 0,
          "duration": 17,
          "frequency": 23,
          "timestep": 505
         },
         {
          "bit": 0,
          "duration": 18,
          "frequency": 27,
          "timestep": 505
         },
         {
          "bit": 0,
          "duration": 19,
          "frequency": 21,
          "timestep": 505
         },
         {
          "bit": 0,
          "duration": 20,
          "frequency": 20,
          "timestep": 505
         },
         {
          "bit": 0,
          "duration": 21,
          "frequency": 17,
          "timestep": 505
         },
         {
          "bit": 0,
          "duration": 22,
          "frequency": 14,
          "timestep": 505
         },
         {
          "bit": 0,
          "duration": 23,
          "frequency": 14,
          "timestep": 505
         },
         {
          "bit": 0,
          "duration": 24,
          "frequency": 10,
          "timestep": 505
         },
         {
          "bit": 0,
          "duration": 25,
          "frequency": 22,
          "timestep": 505
         },
         {
          "bit": 0,
          "duration": 26,
          "frequency": 16,
          "timestep": 505
         },
         {
          "bit": 0,
          "duration": 27,
          "frequency": 21,
          "timestep": 505
         },
         {
          "bit": 0,
          "duration": 28,
          "frequency": 12,
          "timestep": 505
         },
         {
          "bit": 0,
          "duration": 29,
          "frequency": 17,
          "timestep": 505
         },
         {
          "bit": 0,
          "duration": 30,
          "frequency": 17,
          "timestep": 505
         },
         {
          "bit": 0,
          "duration": 31,
          "frequency": 7,
          "timestep": 505
         },
         {
          "bit": 0,
          "duration": 32,
          "frequency": 14,
          "timestep": 505
         },
         {
          "bit": 0,
          "duration": 33,
          "frequency": 7,
          "timestep": 505
         },
         {
          "bit": 0,
          "duration": 34,
          "frequency": 9,
          "timestep": 505
         },
         {
          "bit": 0,
          "duration": 35,
          "frequency": 10,
          "timestep": 505
         },
         {
          "bit": 0,
          "duration": 36,
          "frequency": 15,
          "timestep": 505
         },
         {
          "bit": 0,
          "duration": 37,
          "frequency": 8,
          "timestep": 505
         },
         {
          "bit": 0,
          "duration": 38,
          "frequency": 8,
          "timestep": 505
         },
         {
          "bit": 0,
          "duration": 39,
          "frequency": 6,
          "timestep": 505
         },
         {
          "bit": 0,
          "duration": 40,
          "frequency": 8,
          "timestep": 505
         },
         {
          "bit": 0,
          "duration": 41,
          "frequency": 7,
          "timestep": 505
         },
         {
          "bit": 0,
          "duration": 42,
          "frequency": 8,
          "timestep": 505
         },
         {
          "bit": 0,
          "duration": 43,
          "frequency": 9,
          "timestep": 505
         },
         {
          "bit": 0,
          "duration": 44,
          "frequency": 8,
          "timestep": 505
         },
         {
          "bit": 0,
          "duration": 45,
          "frequency": 7,
          "timestep": 505
         },
         {
          "bit": 0,
          "duration": 46,
          "frequency": 8,
          "timestep": 505
         },
         {
          "bit": 0,
          "duration": 47,
          "frequency": 4,
          "timestep": 505
         },
         {
          "bit": 0,
          "duration": 48,
          "frequency": 6,
          "timestep": 505
         },
         {
          "bit": 0,
          "duration": 49,
          "frequency": 5,
          "timestep": 505
         },
         {
          "bit": 0,
          "duration": 50,
          "frequency": 7,
          "timestep": 505
         },
         {
          "bit": 0,
          "duration": 51,
          "frequency": 10,
          "timestep": 505
         },
         {
          "bit": 0,
          "duration": 52,
          "frequency": 8,
          "timestep": 505
         },
         {
          "bit": 0,
          "duration": 53,
          "frequency": 2,
          "timestep": 505
         },
         {
          "bit": 0,
          "duration": 54,
          "frequency": 3,
          "timestep": 505
         },
         {
          "bit": 0,
          "duration": 55,
          "frequency": 6,
          "timestep": 505
         },
         {
          "bit": 0,
          "duration": 56,
          "frequency": 1,
          "timestep": 505
         },
         {
          "bit": 0,
          "duration": 57,
          "frequency": 3,
          "timestep": 505
         },
         {
          "bit": 0,
          "duration": 58,
          "frequency": 6,
          "timestep": 505
         },
         {
          "bit": 0,
          "duration": 59,
          "frequency": 3,
          "timestep": 505
         },
         {
          "bit": 0,
          "duration": 60,
          "frequency": 2,
          "timestep": 505
         },
         {
          "bit": 0,
          "duration": 61,
          "frequency": 4,
          "timestep": 505
         },
         {
          "bit": 0,
          "duration": 62,
          "frequency": 5,
          "timestep": 505
         },
         {
          "bit": 0,
          "duration": 63,
          "frequency": 6,
          "timestep": 505
         },
         {
          "bit": 0,
          "duration": 64,
          "frequency": 2,
          "timestep": 505
         },
         {
          "bit": 0,
          "duration": 65,
          "frequency": 4,
          "timestep": 505
         },
         {
          "bit": 0,
          "duration": 66,
          "frequency": 3,
          "timestep": 505
         },
         {
          "bit": 0,
          "duration": 67,
          "frequency": 3,
          "timestep": 505
         },
         {
          "bit": 0,
          "duration": 68,
          "frequency": 4,
          "timestep": 505
         },
         {
          "bit": 0,
          "duration": 69,
          "frequency": 2,
          "timestep": 505
         },
         {
          "bit": 0,
          "duration": 70,
          "frequency": 1,
          "timestep": 505
         },
         {
          "bit": 0,
          "duration": 71,
          "frequency": 4,
          "timestep": 505
         },
         {
          "bit": 0,
          "duration": 72,
          "frequency": 3,
          "timestep": 505
         },
         {
          "bit": 0,
          "duration": 73,
          "frequency": 3,
          "timestep": 505
         },
         {
          "bit": 0,
          "duration": 74,
          "frequency": 1,
          "timestep": 505
         },
         {
          "bit": 0,
          "duration": 75,
          "frequency": 2,
          "timestep": 505
         },
         {
          "bit": 0,
          "duration": 77,
          "frequency": 1,
          "timestep": 505
         },
         {
          "bit": 0,
          "duration": 78,
          "frequency": 5,
          "timestep": 505
         },
         {
          "bit": 0,
          "duration": 79,
          "frequency": 4,
          "timestep": 505
         },
         {
          "bit": 0,
          "duration": 80,
          "frequency": 2,
          "timestep": 505
         },
         {
          "bit": 0,
          "duration": 81,
          "frequency": 1,
          "timestep": 505
         },
         {
          "bit": 0,
          "duration": 82,
          "frequency": 4,
          "timestep": 505
         },
         {
          "bit": 0,
          "duration": 83,
          "frequency": 3,
          "timestep": 505
         },
         {
          "bit": 0,
          "duration": 84,
          "frequency": 1,
          "timestep": 505
         },
         {
          "bit": 0,
          "duration": 85,
          "frequency": 1,
          "timestep": 505
         },
         {
          "bit": 0,
          "duration": 86,
          "frequency": 1,
          "timestep": 505
         },
         {
          "bit": 0,
          "duration": 89,
          "frequency": 2,
          "timestep": 505
         },
         {
          "bit": 0,
          "duration": 90,
          "frequency": 1,
          "timestep": 505
         },
         {
          "bit": 0,
          "duration": 95,
          "frequency": 2,
          "timestep": 505
         },
         {
          "bit": 0,
          "duration": 96,
          "frequency": 2,
          "timestep": 505
         },
         {
          "bit": 0,
          "duration": 98,
          "frequency": 1,
          "timestep": 505
         },
         {
          "bit": 0,
          "duration": 100,
          "frequency": 1,
          "timestep": 505
         },
         {
          "bit": 0,
          "duration": 102,
          "frequency": 2,
          "timestep": 505
         },
         {
          "bit": 0,
          "duration": 106,
          "frequency": 1,
          "timestep": 505
         },
         {
          "bit": 0,
          "duration": 107,
          "frequency": 2,
          "timestep": 505
         },
         {
          "bit": 0,
          "duration": 109,
          "frequency": 2,
          "timestep": 505
         },
         {
          "bit": 0,
          "duration": 111,
          "frequency": 1,
          "timestep": 505
         },
         {
          "bit": 0,
          "duration": 112,
          "frequency": 1,
          "timestep": 505
         },
         {
          "bit": 0,
          "duration": 114,
          "frequency": 1,
          "timestep": 505
         },
         {
          "bit": 0,
          "duration": 117,
          "frequency": 1,
          "timestep": 505
         },
         {
          "bit": 0,
          "duration": 118,
          "frequency": 1,
          "timestep": 505
         },
         {
          "bit": 0,
          "duration": 120,
          "frequency": 1,
          "timestep": 505
         },
         {
          "bit": 0,
          "duration": 121,
          "frequency": 1,
          "timestep": 505
         },
         {
          "bit": 0,
          "duration": 122,
          "frequency": 1,
          "timestep": 505
         },
         {
          "bit": 0,
          "duration": 127,
          "frequency": 1,
          "timestep": 505
         },
         {
          "bit": 0,
          "duration": 128,
          "frequency": 1,
          "timestep": 505
         },
         {
          "bit": 0,
          "duration": 131,
          "frequency": 1,
          "timestep": 505
         },
         {
          "bit": 0,
          "duration": 139,
          "frequency": 1,
          "timestep": 505
         },
         {
          "bit": 0,
          "duration": 141,
          "frequency": 1,
          "timestep": 505
         },
         {
          "bit": 0,
          "duration": 143,
          "frequency": 1,
          "timestep": 505
         },
         {
          "bit": 0,
          "duration": 147,
          "frequency": 1,
          "timestep": 505
         },
         {
          "bit": 0,
          "duration": 153,
          "frequency": 1,
          "timestep": 505
         },
         {
          "bit": 0,
          "duration": 154,
          "frequency": 1,
          "timestep": 505
         },
         {
          "bit": 0,
          "duration": 156,
          "frequency": 1,
          "timestep": 505
         },
         {
          "bit": 0,
          "duration": 161,
          "frequency": 1,
          "timestep": 505
         },
         {
          "bit": 0,
          "duration": 166,
          "frequency": 1,
          "timestep": 505
         },
         {
          "bit": 0,
          "duration": 219,
          "frequency": 1,
          "timestep": 505
         },
         {
          "bit": 0,
          "duration": 223,
          "frequency": 1,
          "timestep": 505
         },
         {
          "bit": 0,
          "duration": 1,
          "frequency": 82654,
          "timestep": 605
         },
         {
          "bit": 0,
          "duration": 2,
          "frequency": 35026,
          "timestep": 605
         },
         {
          "bit": 0,
          "duration": 3,
          "frequency": 4730,
          "timestep": 605
         },
         {
          "bit": 0,
          "duration": 4,
          "frequency": 1779,
          "timestep": 605
         },
         {
          "bit": 0,
          "duration": 5,
          "frequency": 978,
          "timestep": 605
         },
         {
          "bit": 0,
          "duration": 6,
          "frequency": 557,
          "timestep": 605
         },
         {
          "bit": 0,
          "duration": 7,
          "frequency": 373,
          "timestep": 605
         },
         {
          "bit": 0,
          "duration": 8,
          "frequency": 240,
          "timestep": 605
         },
         {
          "bit": 0,
          "duration": 9,
          "frequency": 154,
          "timestep": 605
         },
         {
          "bit": 0,
          "duration": 10,
          "frequency": 114,
          "timestep": 605
         },
         {
          "bit": 0,
          "duration": 11,
          "frequency": 85,
          "timestep": 605
         },
         {
          "bit": 0,
          "duration": 12,
          "frequency": 74,
          "timestep": 605
         },
         {
          "bit": 0,
          "duration": 13,
          "frequency": 50,
          "timestep": 605
         },
         {
          "bit": 0,
          "duration": 14,
          "frequency": 37,
          "timestep": 605
         },
         {
          "bit": 0,
          "duration": 15,
          "frequency": 55,
          "timestep": 605
         },
         {
          "bit": 0,
          "duration": 16,
          "frequency": 31,
          "timestep": 605
         },
         {
          "bit": 0,
          "duration": 17,
          "frequency": 30,
          "timestep": 605
         },
         {
          "bit": 0,
          "duration": 18,
          "frequency": 25,
          "timestep": 605
         },
         {
          "bit": 0,
          "duration": 19,
          "frequency": 21,
          "timestep": 605
         },
         {
          "bit": 0,
          "duration": 20,
          "frequency": 17,
          "timestep": 605
         },
         {
          "bit": 0,
          "duration": 21,
          "frequency": 18,
          "timestep": 605
         },
         {
          "bit": 0,
          "duration": 22,
          "frequency": 20,
          "timestep": 605
         },
         {
          "bit": 0,
          "duration": 23,
          "frequency": 22,
          "timestep": 605
         },
         {
          "bit": 0,
          "duration": 24,
          "frequency": 23,
          "timestep": 605
         },
         {
          "bit": 0,
          "duration": 25,
          "frequency": 24,
          "timestep": 605
         },
         {
          "bit": 0,
          "duration": 26,
          "frequency": 16,
          "timestep": 605
         },
         {
          "bit": 0,
          "duration": 27,
          "frequency": 15,
          "timestep": 605
         },
         {
          "bit": 0,
          "duration": 28,
          "frequency": 10,
          "timestep": 605
         },
         {
          "bit": 0,
          "duration": 29,
          "frequency": 14,
          "timestep": 605
         },
         {
          "bit": 0,
          "duration": 30,
          "frequency": 13,
          "timestep": 605
         },
         {
          "bit": 0,
          "duration": 31,
          "frequency": 11,
          "timestep": 605
         },
         {
          "bit": 0,
          "duration": 32,
          "frequency": 15,
          "timestep": 605
         },
         {
          "bit": 0,
          "duration": 33,
          "frequency": 9,
          "timestep": 605
         },
         {
          "bit": 0,
          "duration": 34,
          "frequency": 11,
          "timestep": 605
         },
         {
          "bit": 0,
          "duration": 35,
          "frequency": 8,
          "timestep": 605
         },
         {
          "bit": 0,
          "duration": 36,
          "frequency": 12,
          "timestep": 605
         },
         {
          "bit": 0,
          "duration": 37,
          "frequency": 8,
          "timestep": 605
         },
         {
          "bit": 0,
          "duration": 38,
          "frequency": 8,
          "timestep": 605
         },
         {
          "bit": 0,
          "duration": 39,
          "frequency": 8,
          "timestep": 605
         },
         {
          "bit": 0,
          "duration": 40,
          "frequency": 4,
          "timestep": 605
         },
         {
          "bit": 0,
          "duration": 41,
          "frequency": 8,
          "timestep": 605
         },
         {
          "bit": 0,
          "duration": 42,
          "frequency": 12,
          "timestep": 605
         },
         {
          "bit": 0,
          "duration": 43,
          "frequency": 5,
          "timestep": 605
         },
         {
          "bit": 0,
          "duration": 44,
          "frequency": 6,
          "timestep": 605
         },
         {
          "bit": 0,
          "duration": 45,
          "frequency": 10,
          "timestep": 605
         },
         {
          "bit": 0,
          "duration": 46,
          "frequency": 4,
          "timestep": 605
         },
         {
          "bit": 0,
          "duration": 47,
          "frequency": 3,
          "timestep": 605
         },
         {
          "bit": 0,
          "duration": 48,
          "frequency": 12,
          "timestep": 605
         },
         {
          "bit": 0,
          "duration": 49,
          "frequency": 4,
          "timestep": 605
         },
         {
          "bit": 0,
          "duration": 50,
          "frequency": 10,
          "timestep": 605
         },
         {
          "bit": 0,
          "duration": 51,
          "frequency": 6,
          "timestep": 605
         },
         {
          "bit": 0,
          "duration": 52,
          "frequency": 10,
          "timestep": 605
         },
         {
          "bit": 0,
          "duration": 53,
          "frequency": 4,
          "timestep": 605
         },
         {
          "bit": 0,
          "duration": 54,
          "frequency": 3,
          "timestep": 605
         },
         {
          "bit": 0,
          "duration": 55,
          "frequency": 6,
          "timestep": 605
         },
         {
          "bit": 0,
          "duration": 56,
          "frequency": 8,
          "timestep": 605
         },
         {
          "bit": 0,
          "duration": 57,
          "frequency": 7,
          "timestep": 605
         },
         {
          "bit": 0,
          "duration": 58,
          "frequency": 1,
          "timestep": 605
         },
         {
          "bit": 0,
          "duration": 59,
          "frequency": 3,
          "timestep": 605
         },
         {
          "bit": 0,
          "duration": 60,
          "frequency": 2,
          "timestep": 605
         },
         {
          "bit": 0,
          "duration": 61,
          "frequency": 3,
          "timestep": 605
         },
         {
          "bit": 0,
          "duration": 62,
          "frequency": 1,
          "timestep": 605
         },
         {
          "bit": 0,
          "duration": 63,
          "frequency": 3,
          "timestep": 605
         },
         {
          "bit": 0,
          "duration": 64,
          "frequency": 4,
          "timestep": 605
         },
         {
          "bit": 0,
          "duration": 65,
          "frequency": 4,
          "timestep": 605
         },
         {
          "bit": 0,
          "duration": 66,
          "frequency": 3,
          "timestep": 605
         },
         {
          "bit": 0,
          "duration": 67,
          "frequency": 3,
          "timestep": 605
         },
         {
          "bit": 0,
          "duration": 68,
          "frequency": 1,
          "timestep": 605
         },
         {
          "bit": 0,
          "duration": 70,
          "frequency": 2,
          "timestep": 605
         },
         {
          "bit": 0,
          "duration": 71,
          "frequency": 1,
          "timestep": 605
         },
         {
          "bit": 0,
          "duration": 72,
          "frequency": 3,
          "timestep": 605
         },
         {
          "bit": 0,
          "duration": 73,
          "frequency": 1,
          "timestep": 605
         },
         {
          "bit": 0,
          "duration": 74,
          "frequency": 2,
          "timestep": 605
         },
         {
          "bit": 0,
          "duration": 75,
          "frequency": 1,
          "timestep": 605
         },
         {
          "bit": 0,
          "duration": 76,
          "frequency": 1,
          "timestep": 605
         },
         {
          "bit": 0,
          "duration": 77,
          "frequency": 1,
          "timestep": 605
         },
         {
          "bit": 0,
          "duration": 78,
          "frequency": 1,
          "timestep": 605
         },
         {
          "bit": 0,
          "duration": 79,
          "frequency": 3,
          "timestep": 605
         },
         {
          "bit": 0,
          "duration": 80,
          "frequency": 1,
          "timestep": 605
         },
         {
          "bit": 0,
          "duration": 84,
          "frequency": 2,
          "timestep": 605
         },
         {
          "bit": 0,
          "duration": 85,
          "frequency": 3,
          "timestep": 605
         },
         {
          "bit": 0,
          "duration": 86,
          "frequency": 1,
          "timestep": 605
         },
         {
          "bit": 0,
          "duration": 87,
          "frequency": 3,
          "timestep": 605
         },
         {
          "bit": 0,
          "duration": 89,
          "frequency": 3,
          "timestep": 605
         },
         {
          "bit": 0,
          "duration": 91,
          "frequency": 2,
          "timestep": 605
         },
         {
          "bit": 0,
          "duration": 92,
          "frequency": 2,
          "timestep": 605
         },
         {
          "bit": 0,
          "duration": 93,
          "frequency": 1,
          "timestep": 605
         },
         {
          "bit": 0,
          "duration": 98,
          "frequency": 2,
          "timestep": 605
         },
         {
          "bit": 0,
          "duration": 99,
          "frequency": 1,
          "timestep": 605
         },
         {
          "bit": 0,
          "duration": 103,
          "frequency": 2,
          "timestep": 605
         },
         {
          "bit": 0,
          "duration": 123,
          "frequency": 1,
          "timestep": 605
         },
         {
          "bit": 0,
          "duration": 126,
          "frequency": 1,
          "timestep": 605
         },
         {
          "bit": 0,
          "duration": 128,
          "frequency": 1,
          "timestep": 605
         },
         {
          "bit": 0,
          "duration": 131,
          "frequency": 1,
          "timestep": 605
         },
         {
          "bit": 0,
          "duration": 144,
          "frequency": 1,
          "timestep": 605
         },
         {
          "bit": 0,
          "duration": 170,
          "frequency": 1,
          "timestep": 605
         },
         {
          "bit": 0,
          "duration": 1,
          "frequency": 87028,
          "timestep": 705
         },
         {
          "bit": 0,
          "duration": 2,
          "frequency": 30266,
          "timestep": 705
         },
         {
          "bit": 0,
          "duration": 3,
          "frequency": 7030,
          "timestep": 705
         },
         {
          "bit": 0,
          "duration": 4,
          "frequency": 2622,
          "timestep": 705
         },
         {
          "bit": 0,
          "duration": 5,
          "frequency": 1160,
          "timestep": 705
         },
         {
          "bit": 0,
          "duration": 6,
          "frequency": 552,
          "timestep": 705
         },
         {
          "bit": 0,
          "duration": 7,
          "frequency": 288,
          "timestep": 705
         },
         {
          "bit": 0,
          "duration": 8,
          "frequency": 183,
          "timestep": 705
         },
         {
          "bit": 0,
          "duration": 9,
          "frequency": 143,
          "timestep": 705
         },
         {
          "bit": 0,
          "duration": 10,
          "frequency": 127,
          "timestep": 705
         },
         {
          "bit": 0,
          "duration": 11,
          "frequency": 103,
          "timestep": 705
         },
         {
          "bit": 0,
          "duration": 12,
          "frequency": 72,
          "timestep": 705
         },
         {
          "bit": 0,
          "duration": 13,
          "frequency": 85,
          "timestep": 705
         },
         {
          "bit": 0,
          "duration": 14,
          "frequency": 77,
          "timestep": 705
         },
         {
          "bit": 0,
          "duration": 15,
          "frequency": 65,
          "timestep": 705
         },
         {
          "bit": 0,
          "duration": 16,
          "frequency": 85,
          "timestep": 705
         },
         {
          "bit": 0,
          "duration": 17,
          "frequency": 52,
          "timestep": 705
         },
         {
          "bit": 0,
          "duration": 18,
          "frequency": 59,
          "timestep": 705
         },
         {
          "bit": 0,
          "duration": 19,
          "frequency": 57,
          "timestep": 705
         },
         {
          "bit": 0,
          "duration": 20,
          "frequency": 31,
          "timestep": 705
         },
         {
          "bit": 0,
          "duration": 21,
          "frequency": 47,
          "timestep": 705
         },
         {
          "bit": 0,
          "duration": 22,
          "frequency": 51,
          "timestep": 705
         },
         {
          "bit": 0,
          "duration": 23,
          "frequency": 43,
          "timestep": 705
         },
         {
          "bit": 0,
          "duration": 24,
          "frequency": 42,
          "timestep": 705
         },
         {
          "bit": 0,
          "duration": 25,
          "frequency": 34,
          "timestep": 705
         },
         {
          "bit": 0,
          "duration": 26,
          "frequency": 28,
          "timestep": 705
         },
         {
          "bit": 0,
          "duration": 27,
          "frequency": 31,
          "timestep": 705
         },
         {
          "bit": 0,
          "duration": 28,
          "frequency": 32,
          "timestep": 705
         },
         {
          "bit": 0,
          "duration": 29,
          "frequency": 40,
          "timestep": 705
         },
         {
          "bit": 0,
          "duration": 30,
          "frequency": 32,
          "timestep": 705
         },
         {
          "bit": 0,
          "duration": 31,
          "frequency": 26,
          "timestep": 705
         },
         {
          "bit": 0,
          "duration": 32,
          "frequency": 25,
          "timestep": 705
         },
         {
          "bit": 0,
          "duration": 33,
          "frequency": 25,
          "timestep": 705
         },
         {
          "bit": 0,
          "duration": 34,
          "frequency": 26,
          "timestep": 705
         },
         {
          "bit": 0,
          "duration": 35,
          "frequency": 23,
          "timestep": 705
         },
         {
          "bit": 0,
          "duration": 36,
          "frequency": 20,
          "timestep": 705
         },
         {
          "bit": 0,
          "duration": 37,
          "frequency": 18,
          "timestep": 705
         },
         {
          "bit": 0,
          "duration": 38,
          "frequency": 21,
          "timestep": 705
         },
         {
          "bit": 0,
          "duration": 39,
          "frequency": 24,
          "timestep": 705
         },
         {
          "bit": 0,
          "duration": 40,
          "frequency": 17,
          "timestep": 705
         },
         {
          "bit": 0,
          "duration": 41,
          "frequency": 18,
          "timestep": 705
         },
         {
          "bit": 0,
          "duration": 42,
          "frequency": 23,
          "timestep": 705
         },
         {
          "bit": 0,
          "duration": 43,
          "frequency": 12,
          "timestep": 705
         },
         {
          "bit": 0,
          "duration": 44,
          "frequency": 19,
          "timestep": 705
         },
         {
          "bit": 0,
          "duration": 45,
          "frequency": 12,
          "timestep": 705
         },
         {
          "bit": 0,
          "duration": 46,
          "frequency": 18,
          "timestep": 705
         },
         {
          "bit": 0,
          "duration": 47,
          "frequency": 14,
          "timestep": 705
         },
         {
          "bit": 0,
          "duration": 48,
          "frequency": 7,
          "timestep": 705
         },
         {
          "bit": 0,
          "duration": 49,
          "frequency": 7,
          "timestep": 705
         },
         {
          "bit": 0,
          "duration": 50,
          "frequency": 15,
          "timestep": 705
         },
         {
          "bit": 0,
          "duration": 51,
          "frequency": 6,
          "timestep": 705
         },
         {
          "bit": 0,
          "duration": 52,
          "frequency": 12,
          "timestep": 705
         },
         {
          "bit": 0,
          "duration": 53,
          "frequency": 11,
          "timestep": 705
         },
         {
          "bit": 0,
          "duration": 54,
          "frequency": 9,
          "timestep": 705
         },
         {
          "bit": 0,
          "duration": 55,
          "frequency": 17,
          "timestep": 705
         },
         {
          "bit": 0,
          "duration": 56,
          "frequency": 10,
          "timestep": 705
         },
         {
          "bit": 0,
          "duration": 57,
          "frequency": 11,
          "timestep": 705
         },
         {
          "bit": 0,
          "duration": 58,
          "frequency": 11,
          "timestep": 705
         },
         {
          "bit": 0,
          "duration": 59,
          "frequency": 6,
          "timestep": 705
         },
         {
          "bit": 0,
          "duration": 60,
          "frequency": 6,
          "timestep": 705
         },
         {
          "bit": 0,
          "duration": 61,
          "frequency": 5,
          "timestep": 705
         },
         {
          "bit": 0,
          "duration": 62,
          "frequency": 9,
          "timestep": 705
         },
         {
          "bit": 0,
          "duration": 63,
          "frequency": 4,
          "timestep": 705
         },
         {
          "bit": 0,
          "duration": 64,
          "frequency": 6,
          "timestep": 705
         },
         {
          "bit": 0,
          "duration": 65,
          "frequency": 4,
          "timestep": 705
         },
         {
          "bit": 0,
          "duration": 66,
          "frequency": 4,
          "timestep": 705
         },
         {
          "bit": 0,
          "duration": 67,
          "frequency": 3,
          "timestep": 705
         },
         {
          "bit": 0,
          "duration": 68,
          "frequency": 4,
          "timestep": 705
         },
         {
          "bit": 0,
          "duration": 69,
          "frequency": 2,
          "timestep": 705
         },
         {
          "bit": 0,
          "duration": 70,
          "frequency": 2,
          "timestep": 705
         },
         {
          "bit": 0,
          "duration": 71,
          "frequency": 5,
          "timestep": 705
         },
         {
          "bit": 0,
          "duration": 72,
          "frequency": 3,
          "timestep": 705
         },
         {
          "bit": 0,
          "duration": 73,
          "frequency": 3,
          "timestep": 705
         },
         {
          "bit": 0,
          "duration": 74,
          "frequency": 4,
          "timestep": 705
         },
         {
          "bit": 0,
          "duration": 75,
          "frequency": 6,
          "timestep": 705
         },
         {
          "bit": 0,
          "duration": 76,
          "frequency": 2,
          "timestep": 705
         },
         {
          "bit": 0,
          "duration": 77,
          "frequency": 1,
          "timestep": 705
         },
         {
          "bit": 0,
          "duration": 78,
          "frequency": 2,
          "timestep": 705
         },
         {
          "bit": 0,
          "duration": 79,
          "frequency": 2,
          "timestep": 705
         },
         {
          "bit": 0,
          "duration": 80,
          "frequency": 2,
          "timestep": 705
         },
         {
          "bit": 0,
          "duration": 81,
          "frequency": 1,
          "timestep": 705
         },
         {
          "bit": 0,
          "duration": 82,
          "frequency": 3,
          "timestep": 705
         },
         {
          "bit": 0,
          "duration": 83,
          "frequency": 1,
          "timestep": 705
         },
         {
          "bit": 0,
          "duration": 84,
          "frequency": 1,
          "timestep": 705
         },
         {
          "bit": 0,
          "duration": 85,
          "frequency": 3,
          "timestep": 705
         },
         {
          "bit": 0,
          "duration": 86,
          "frequency": 2,
          "timestep": 705
         },
         {
          "bit": 0,
          "duration": 87,
          "frequency": 1,
          "timestep": 705
         },
         {
          "bit": 0,
          "duration": 88,
          "frequency": 2,
          "timestep": 705
         },
         {
          "bit": 0,
          "duration": 89,
          "frequency": 1,
          "timestep": 705
         },
         {
          "bit": 0,
          "duration": 90,
          "frequency": 3,
          "timestep": 705
         },
         {
          "bit": 0,
          "duration": 91,
          "frequency": 1,
          "timestep": 705
         },
         {
          "bit": 0,
          "duration": 92,
          "frequency": 2,
          "timestep": 705
         },
         {
          "bit": 0,
          "duration": 93,
          "frequency": 1,
          "timestep": 705
         },
         {
          "bit": 0,
          "duration": 100,
          "frequency": 1,
          "timestep": 705
         },
         {
          "bit": 0,
          "duration": 103,
          "frequency": 2,
          "timestep": 705
         },
         {
          "bit": 0,
          "duration": 104,
          "frequency": 1,
          "timestep": 705
         },
         {
          "bit": 0,
          "duration": 105,
          "frequency": 1,
          "timestep": 705
         },
         {
          "bit": 0,
          "duration": 107,
          "frequency": 1,
          "timestep": 705
         },
         {
          "bit": 0,
          "duration": 114,
          "frequency": 1,
          "timestep": 705
         },
         {
          "bit": 0,
          "duration": 132,
          "frequency": 1,
          "timestep": 705
         },
         {
          "bit": 0,
          "duration": 178,
          "frequency": 1,
          "timestep": 705
         },
         {
          "bit": 0,
          "duration": 1,
          "frequency": 93195,
          "timestep": 805
         },
         {
          "bit": 0,
          "duration": 2,
          "frequency": 33210,
          "timestep": 805
         },
         {
          "bit": 0,
          "duration": 3,
          "frequency": 5787,
          "timestep": 805
         },
         {
          "bit": 0,
          "duration": 4,
          "frequency": 2157,
          "timestep": 805
         },
         {
          "bit": 0,
          "duration": 5,
          "frequency": 1021,
          "timestep": 805
         },
         {
          "bit": 0,
          "duration": 6,
          "frequency": 536,
          "timestep": 805
         },
         {
          "bit": 0,
          "duration": 7,
          "frequency": 324,
          "timestep": 805
         },
         {
          "bit": 0,
          "duration": 8,
          "frequency": 226,
          "timestep": 805
         },
         {
          "bit": 0,
          "duration": 9,
          "frequency": 170,
          "timestep": 805
         },
         {
          "bit": 0,
          "duration": 10,
          "frequency": 144,
          "timestep": 805
         },
         {
          "bit": 0,
          "duration": 11,
          "frequency": 90,
          "timestep": 805
         },
         {
          "bit": 0,
          "duration": 12,
          "frequency": 92,
          "timestep": 805
         },
         {
          "bit": 0,
          "duration": 13,
          "frequency": 89,
          "timestep": 805
         },
         {
          "bit": 0,
          "duration": 14,
          "frequency": 82,
          "timestep": 805
         },
         {
          "bit": 0,
          "duration": 15,
          "frequency": 90,
          "timestep": 805
         },
         {
          "bit": 0,
          "duration": 16,
          "frequency": 65,
          "timestep": 805
         },
         {
          "bit": 0,
          "duration": 17,
          "frequency": 67,
          "timestep": 805
         },
         {
          "bit": 0,
          "duration": 18,
          "frequency": 61,
          "timestep": 805
         },
         {
          "bit": 0,
          "duration": 19,
          "frequency": 55,
          "timestep": 805
         },
         {
          "bit": 0,
          "duration": 20,
          "frequency": 53,
          "timestep": 805
         },
         {
          "bit": 0,
          "duration": 21,
          "frequency": 49,
          "timestep": 805
         },
         {
          "bit": 0,
          "duration": 22,
          "frequency": 45,
          "timestep": 805
         },
         {
          "bit": 0,
          "duration": 23,
          "frequency": 37,
          "timestep": 805
         },
         {
          "bit": 0,
          "duration": 24,
          "frequency": 46,
          "timestep": 805
         },
         {
          "bit": 0,
          "duration": 25,
          "frequency": 45,
          "timestep": 805
         },
         {
          "bit": 0,
          "duration": 26,
          "frequency": 42,
          "timestep": 805
         },
         {
          "bit": 0,
          "duration": 27,
          "frequency": 36,
          "timestep": 805
         },
         {
          "bit": 0,
          "duration": 28,
          "frequency": 39,
          "timestep": 805
         },
         {
          "bit": 0,
          "duration": 29,
          "frequency": 18,
          "timestep": 805
         },
         {
          "bit": 0,
          "duration": 30,
          "frequency": 25,
          "timestep": 805
         },
         {
          "bit": 0,
          "duration": 31,
          "frequency": 32,
          "timestep": 805
         },
         {
          "bit": 0,
          "duration": 32,
          "frequency": 33,
          "timestep": 805
         },
         {
          "bit": 0,
          "duration": 33,
          "frequency": 25,
          "timestep": 805
         },
         {
          "bit": 0,
          "duration": 34,
          "frequency": 23,
          "timestep": 805
         },
         {
          "bit": 0,
          "duration": 35,
          "frequency": 18,
          "timestep": 805
         },
         {
          "bit": 0,
          "duration": 36,
          "frequency": 26,
          "timestep": 805
         },
         {
          "bit": 0,
          "duration": 37,
          "frequency": 21,
          "timestep": 805
         },
         {
          "bit": 0,
          "duration": 38,
          "frequency": 22,
          "timestep": 805
         },
         {
          "bit": 0,
          "duration": 39,
          "frequency": 13,
          "timestep": 805
         },
         {
          "bit": 0,
          "duration": 40,
          "frequency": 11,
          "timestep": 805
         },
         {
          "bit": 0,
          "duration": 41,
          "frequency": 12,
          "timestep": 805
         },
         {
          "bit": 0,
          "duration": 42,
          "frequency": 12,
          "timestep": 805
         },
         {
          "bit": 0,
          "duration": 43,
          "frequency": 14,
          "timestep": 805
         },
         {
          "bit": 0,
          "duration": 44,
          "frequency": 12,
          "timestep": 805
         },
         {
          "bit": 0,
          "duration": 45,
          "frequency": 19,
          "timestep": 805
         },
         {
          "bit": 0,
          "duration": 46,
          "frequency": 8,
          "timestep": 805
         },
         {
          "bit": 0,
          "duration": 47,
          "frequency": 12,
          "timestep": 805
         },
         {
          "bit": 0,
          "duration": 48,
          "frequency": 9,
          "timestep": 805
         },
         {
          "bit": 0,
          "duration": 49,
          "frequency": 9,
          "timestep": 805
         },
         {
          "bit": 0,
          "duration": 50,
          "frequency": 11,
          "timestep": 805
         },
         {
          "bit": 0,
          "duration": 51,
          "frequency": 8,
          "timestep": 805
         },
         {
          "bit": 0,
          "duration": 52,
          "frequency": 15,
          "timestep": 805
         },
         {
          "bit": 0,
          "duration": 53,
          "frequency": 6,
          "timestep": 805
         },
         {
          "bit": 0,
          "duration": 54,
          "frequency": 4,
          "timestep": 805
         },
         {
          "bit": 0,
          "duration": 55,
          "frequency": 5,
          "timestep": 805
         },
         {
          "bit": 0,
          "duration": 56,
          "frequency": 5,
          "timestep": 805
         },
         {
          "bit": 0,
          "duration": 57,
          "frequency": 6,
          "timestep": 805
         },
         {
          "bit": 0,
          "duration": 58,
          "frequency": 6,
          "timestep": 805
         },
         {
          "bit": 0,
          "duration": 59,
          "frequency": 10,
          "timestep": 805
         },
         {
          "bit": 0,
          "duration": 60,
          "frequency": 4,
          "timestep": 805
         },
         {
          "bit": 0,
          "duration": 61,
          "frequency": 4,
          "timestep": 805
         },
         {
          "bit": 0,
          "duration": 62,
          "frequency": 1,
          "timestep": 805
         },
         {
          "bit": 0,
          "duration": 63,
          "frequency": 3,
          "timestep": 805
         },
         {
          "bit": 0,
          "duration": 64,
          "frequency": 6,
          "timestep": 805
         },
         {
          "bit": 0,
          "duration": 65,
          "frequency": 6,
          "timestep": 805
         },
         {
          "bit": 0,
          "duration": 66,
          "frequency": 6,
          "timestep": 805
         },
         {
          "bit": 0,
          "duration": 68,
          "frequency": 9,
          "timestep": 805
         },
         {
          "bit": 0,
          "duration": 69,
          "frequency": 4,
          "timestep": 805
         },
         {
          "bit": 0,
          "duration": 70,
          "frequency": 4,
          "timestep": 805
         },
         {
          "bit": 0,
          "duration": 71,
          "frequency": 5,
          "timestep": 805
         },
         {
          "bit": 0,
          "duration": 72,
          "frequency": 3,
          "timestep": 805
         },
         {
          "bit": 0,
          "duration": 73,
          "frequency": 4,
          "timestep": 805
         },
         {
          "bit": 0,
          "duration": 74,
          "frequency": 2,
          "timestep": 805
         },
         {
          "bit": 0,
          "duration": 76,
          "frequency": 3,
          "timestep": 805
         },
         {
          "bit": 0,
          "duration": 77,
          "frequency": 2,
          "timestep": 805
         },
         {
          "bit": 0,
          "duration": 78,
          "frequency": 2,
          "timestep": 805
         },
         {
          "bit": 0,
          "duration": 79,
          "frequency": 1,
          "timestep": 805
         },
         {
          "bit": 0,
          "duration": 80,
          "frequency": 1,
          "timestep": 805
         },
         {
          "bit": 0,
          "duration": 81,
          "frequency": 4,
          "timestep": 805
         },
         {
          "bit": 0,
          "duration": 84,
          "frequency": 1,
          "timestep": 805
         },
         {
          "bit": 0,
          "duration": 87,
          "frequency": 2,
          "timestep": 805
         },
         {
          "bit": 0,
          "duration": 88,
          "frequency": 1,
          "timestep": 805
         },
         {
          "bit": 0,
          "duration": 89,
          "frequency": 1,
          "timestep": 805
         },
         {
          "bit": 0,
          "duration": 90,
          "frequency": 1,
          "timestep": 805
         },
         {
          "bit": 0,
          "duration": 92,
          "frequency": 3,
          "timestep": 805
         },
         {
          "bit": 0,
          "duration": 98,
          "frequency": 1,
          "timestep": 805
         },
         {
          "bit": 0,
          "duration": 99,
          "frequency": 1,
          "timestep": 805
         },
         {
          "bit": 0,
          "duration": 103,
          "frequency": 1,
          "timestep": 805
         },
         {
          "bit": 0,
          "duration": 109,
          "frequency": 1,
          "timestep": 805
         },
         {
          "bit": 0,
          "duration": 118,
          "frequency": 1,
          "timestep": 805
         },
         {
          "bit": 0,
          "duration": 122,
          "frequency": 1,
          "timestep": 805
         },
         {
          "bit": 0,
          "duration": 1,
          "frequency": 85578,
          "timestep": 905
         },
         {
          "bit": 0,
          "duration": 2,
          "frequency": 22225,
          "timestep": 905
         },
         {
          "bit": 0,
          "duration": 3,
          "frequency": 6879,
          "timestep": 905
         },
         {
          "bit": 0,
          "duration": 4,
          "frequency": 2975,
          "timestep": 905
         },
         {
          "bit": 0,
          "duration": 5,
          "frequency": 1433,
          "timestep": 905
         },
         {
          "bit": 0,
          "duration": 6,
          "frequency": 767,
          "timestep": 905
         },
         {
          "bit": 0,
          "duration": 7,
          "frequency": 445,
          "timestep": 905
         },
         {
          "bit": 0,
          "duration": 8,
          "frequency": 283,
          "timestep": 905
         },
         {
          "bit": 0,
          "duration": 9,
          "frequency": 202,
          "timestep": 905
         },
         {
          "bit": 0,
          "duration": 10,
          "frequency": 166,
          "timestep": 905
         },
         {
          "bit": 0,
          "duration": 11,
          "frequency": 143,
          "timestep": 905
         },
         {
          "bit": 0,
          "duration": 12,
          "frequency": 132,
          "timestep": 905
         },
         {
          "bit": 0,
          "duration": 13,
          "frequency": 133,
          "timestep": 905
         },
         {
          "bit": 0,
          "duration": 14,
          "frequency": 122,
          "timestep": 905
         },
         {
          "bit": 0,
          "duration": 15,
          "frequency": 118,
          "timestep": 905
         },
         {
          "bit": 0,
          "duration": 16,
          "frequency": 99,
          "timestep": 905
         },
         {
          "bit": 0,
          "duration": 17,
          "frequency": 104,
          "timestep": 905
         },
         {
          "bit": 0,
          "duration": 18,
          "frequency": 101,
          "timestep": 905
         },
         {
          "bit": 0,
          "duration": 19,
          "frequency": 78,
          "timestep": 905
         },
         {
          "bit": 0,
          "duration": 20,
          "frequency": 66,
          "timestep": 905
         },
         {
          "bit": 0,
          "duration": 21,
          "frequency": 83,
          "timestep": 905
         },
         {
          "bit": 0,
          "duration": 22,
          "frequency": 63,
          "timestep": 905
         },
         {
          "bit": 0,
          "duration": 23,
          "frequency": 71,
          "timestep": 905
         },
         {
          "bit": 0,
          "duration": 24,
          "frequency": 60,
          "timestep": 905
         },
         {
          "bit": 0,
          "duration": 25,
          "frequency": 68,
          "timestep": 905
         },
         {
          "bit": 0,
          "duration": 26,
          "frequency": 46,
          "timestep": 905
         },
         {
          "bit": 0,
          "duration": 27,
          "frequency": 43,
          "timestep": 905
         },
         {
          "bit": 0,
          "duration": 28,
          "frequency": 56,
          "timestep": 905
         },
         {
          "bit": 0,
          "duration": 29,
          "frequency": 41,
          "timestep": 905
         },
         {
          "bit": 0,
          "duration": 30,
          "frequency": 49,
          "timestep": 905
         },
         {
          "bit": 0,
          "duration": 31,
          "frequency": 48,
          "timestep": 905
         },
         {
          "bit": 0,
          "duration": 32,
          "frequency": 41,
          "timestep": 905
         },
         {
          "bit": 0,
          "duration": 33,
          "frequency": 42,
          "timestep": 905
         },
         {
          "bit": 0,
          "duration": 34,
          "frequency": 26,
          "timestep": 905
         },
         {
          "bit": 0,
          "duration": 35,
          "frequency": 35,
          "timestep": 905
         },
         {
          "bit": 0,
          "duration": 36,
          "frequency": 22,
          "timestep": 905
         },
         {
          "bit": 0,
          "duration": 37,
          "frequency": 40,
          "timestep": 905
         },
         {
          "bit": 0,
          "duration": 38,
          "frequency": 24,
          "timestep": 905
         },
         {
          "bit": 0,
          "duration": 39,
          "frequency": 17,
          "timestep": 905
         },
         {
          "bit": 0,
          "duration": 40,
          "frequency": 29,
          "timestep": 905
         },
         {
          "bit": 0,
          "duration": 41,
          "frequency": 23,
          "timestep": 905
         },
         {
          "bit": 0,
          "duration": 42,
          "frequency": 17,
          "timestep": 905
         },
         {
          "bit": 0,
          "duration": 43,
          "frequency": 14,
          "timestep": 905
         },
         {
          "bit": 0,
          "duration": 44,
          "frequency": 24,
          "timestep": 905
         },
         {
          "bit": 0,
          "duration": 45,
          "frequency": 13,
          "timestep": 905
         },
         {
          "bit": 0,
          "duration": 46,
          "frequency": 11,
          "timestep": 905
         },
         {
          "bit": 0,
          "duration": 47,
          "frequency": 11,
          "timestep": 905
         },
         {
          "bit": 0,
          "duration": 48,
          "frequency": 16,
          "timestep": 905
         },
         {
          "bit": 0,
          "duration": 49,
          "frequency": 15,
          "timestep": 905
         },
         {
          "bit": 0,
          "duration": 50,
          "frequency": 9,
          "timestep": 905
         },
         {
          "bit": 0,
          "duration": 51,
          "frequency": 11,
          "timestep": 905
         },
         {
          "bit": 0,
          "duration": 52,
          "frequency": 5,
          "timestep": 905
         },
         {
          "bit": 0,
          "duration": 53,
          "frequency": 7,
          "timestep": 905
         },
         {
          "bit": 0,
          "duration": 54,
          "frequency": 5,
          "timestep": 905
         },
         {
          "bit": 0,
          "duration": 55,
          "frequency": 5,
          "timestep": 905
         },
         {
          "bit": 0,
          "duration": 56,
          "frequency": 11,
          "timestep": 905
         },
         {
          "bit": 0,
          "duration": 57,
          "frequency": 7,
          "timestep": 905
         },
         {
          "bit": 0,
          "duration": 58,
          "frequency": 6,
          "timestep": 905
         },
         {
          "bit": 0,
          "duration": 59,
          "frequency": 10,
          "timestep": 905
         },
         {
          "bit": 0,
          "duration": 60,
          "frequency": 4,
          "timestep": 905
         },
         {
          "bit": 0,
          "duration": 61,
          "frequency": 6,
          "timestep": 905
         },
         {
          "bit": 0,
          "duration": 62,
          "frequency": 6,
          "timestep": 905
         },
         {
          "bit": 0,
          "duration": 63,
          "frequency": 5,
          "timestep": 905
         },
         {
          "bit": 0,
          "duration": 64,
          "frequency": 2,
          "timestep": 905
         },
         {
          "bit": 0,
          "duration": 65,
          "frequency": 5,
          "timestep": 905
         },
         {
          "bit": 0,
          "duration": 66,
          "frequency": 3,
          "timestep": 905
         },
         {
          "bit": 0,
          "duration": 67,
          "frequency": 3,
          "timestep": 905
         },
         {
          "bit": 0,
          "duration": 68,
          "frequency": 9,
          "timestep": 905
         },
         {
          "bit": 0,
          "duration": 69,
          "frequency": 2,
          "timestep": 905
         },
         {
          "bit": 0,
          "duration": 70,
          "frequency": 2,
          "timestep": 905
         },
         {
          "bit": 0,
          "duration": 71,
          "frequency": 6,
          "timestep": 905
         },
         {
          "bit": 0,
          "duration": 72,
          "frequency": 4,
          "timestep": 905
         },
         {
          "bit": 0,
          "duration": 73,
          "frequency": 1,
          "timestep": 905
         },
         {
          "bit": 0,
          "duration": 74,
          "frequency": 1,
          "timestep": 905
         },
         {
          "bit": 0,
          "duration": 75,
          "frequency": 3,
          "timestep": 905
         },
         {
          "bit": 0,
          "duration": 76,
          "frequency": 1,
          "timestep": 905
         },
         {
          "bit": 0,
          "duration": 77,
          "frequency": 1,
          "timestep": 905
         },
         {
          "bit": 0,
          "duration": 80,
          "frequency": 1,
          "timestep": 905
         },
         {
          "bit": 0,
          "duration": 81,
          "frequency": 2,
          "timestep": 905
         },
         {
          "bit": 0,
          "duration": 82,
          "frequency": 1,
          "timestep": 905
         },
         {
          "bit": 0,
          "duration": 83,
          "frequency": 3,
          "timestep": 905
         },
         {
          "bit": 0,
          "duration": 84,
          "frequency": 1,
          "timestep": 905
         },
         {
          "bit": 0,
          "duration": 85,
          "frequency": 1,
          "timestep": 905
         },
         {
          "bit": 0,
          "duration": 89,
          "frequency": 2,
          "timestep": 905
         },
         {
          "bit": 0,
          "duration": 92,
          "frequency": 2,
          "timestep": 905
         },
         {
          "bit": 0,
          "duration": 93,
          "frequency": 1,
          "timestep": 905
         },
         {
          "bit": 0,
          "duration": 102,
          "frequency": 2,
          "timestep": 905
         },
         {
          "bit": 0,
          "duration": 105,
          "frequency": 1,
          "timestep": 905
         },
         {
          "bit": 0,
          "duration": 106,
          "frequency": 1,
          "timestep": 905
         },
         {
          "bit": 0,
          "duration": 107,
          "frequency": 1,
          "timestep": 905
         },
         {
          "bit": 0,
          "duration": 114,
          "frequency": 1,
          "timestep": 905
         },
         {
          "bit": 0,
          "duration": 115,
          "frequency": 1,
          "timestep": 905
         },
         {
          "bit": 0,
          "duration": 123,
          "frequency": 1,
          "timestep": 905
         },
         {
          "bit": 0,
          "duration": 128,
          "frequency": 1,
          "timestep": 905
         },
         {
          "bit": 0,
          "duration": 140,
          "frequency": 1,
          "timestep": 905
         },
         {
          "bit": 0,
          "duration": 1,
          "frequency": 93563,
          "timestep": 1005
         },
         {
          "bit": 0,
          "duration": 2,
          "frequency": 51370,
          "timestep": 1005
         },
         {
          "bit": 0,
          "duration": 3,
          "frequency": 8169,
          "timestep": 1005
         },
         {
          "bit": 0,
          "duration": 4,
          "frequency": 2633,
          "timestep": 1005
         },
         {
          "bit": 0,
          "duration": 5,
          "frequency": 1089,
          "timestep": 1005
         },
         {
          "bit": 0,
          "duration": 6,
          "frequency": 532,
          "timestep": 1005
         },
         {
          "bit": 0,
          "duration": 7,
          "frequency": 277,
          "timestep": 1005
         },
         {
          "bit": 0,
          "duration": 8,
          "frequency": 154,
          "timestep": 1005
         },
         {
          "bit": 0,
          "duration": 9,
          "frequency": 120,
          "timestep": 1005
         },
         {
          "bit": 0,
          "duration": 10,
          "frequency": 84,
          "timestep": 1005
         },
         {
          "bit": 0,
          "duration": 11,
          "frequency": 57,
          "timestep": 1005
         },
         {
          "bit": 0,
          "duration": 12,
          "frequency": 52,
          "timestep": 1005
         },
         {
          "bit": 0,
          "duration": 13,
          "frequency": 56,
          "timestep": 1005
         },
         {
          "bit": 0,
          "duration": 14,
          "frequency": 50,
          "timestep": 1005
         },
         {
          "bit": 0,
          "duration": 15,
          "frequency": 57,
          "timestep": 1005
         },
         {
          "bit": 0,
          "duration": 16,
          "frequency": 45,
          "timestep": 1005
         },
         {
          "bit": 0,
          "duration": 17,
          "frequency": 31,
          "timestep": 1005
         },
         {
          "bit": 0,
          "duration": 18,
          "frequency": 42,
          "timestep": 1005
         },
         {
          "bit": 0,
          "duration": 19,
          "frequency": 28,
          "timestep": 1005
         },
         {
          "bit": 0,
          "duration": 20,
          "frequency": 39,
          "timestep": 1005
         },
         {
          "bit": 0,
          "duration": 21,
          "frequency": 38,
          "timestep": 1005
         },
         {
          "bit": 0,
          "duration": 22,
          "frequency": 29,
          "timestep": 1005
         },
         {
          "bit": 0,
          "duration": 23,
          "frequency": 25,
          "timestep": 1005
         },
         {
          "bit": 0,
          "duration": 24,
          "frequency": 19,
          "timestep": 1005
         },
         {
          "bit": 0,
          "duration": 25,
          "frequency": 30,
          "timestep": 1005
         },
         {
          "bit": 0,
          "duration": 26,
          "frequency": 14,
          "timestep": 1005
         },
         {
          "bit": 0,
          "duration": 27,
          "frequency": 23,
          "timestep": 1005
         },
         {
          "bit": 0,
          "duration": 28,
          "frequency": 20,
          "timestep": 1005
         },
         {
          "bit": 0,
          "duration": 29,
          "frequency": 15,
          "timestep": 1005
         },
         {
          "bit": 0,
          "duration": 30,
          "frequency": 20,
          "timestep": 1005
         },
         {
          "bit": 0,
          "duration": 31,
          "frequency": 18,
          "timestep": 1005
         },
         {
          "bit": 0,
          "duration": 32,
          "frequency": 16,
          "timestep": 1005
         },
         {
          "bit": 0,
          "duration": 33,
          "frequency": 12,
          "timestep": 1005
         },
         {
          "bit": 0,
          "duration": 34,
          "frequency": 12,
          "timestep": 1005
         },
         {
          "bit": 0,
          "duration": 35,
          "frequency": 10,
          "timestep": 1005
         },
         {
          "bit": 0,
          "duration": 36,
          "frequency": 15,
          "timestep": 1005
         },
         {
          "bit": 0,
          "duration": 37,
          "frequency": 5,
          "timestep": 1005
         },
         {
          "bit": 0,
          "duration": 38,
          "frequency": 9,
          "timestep": 1005
         },
         {
          "bit": 0,
          "duration": 39,
          "frequency": 10,
          "timestep": 1005
         },
         {
          "bit": 0,
          "duration": 40,
          "frequency": 9,
          "timestep": 1005
         },
         {
          "bit": 0,
          "duration": 41,
          "frequency": 6,
          "timestep": 1005
         },
         {
          "bit": 0,
          "duration": 42,
          "frequency": 7,
          "timestep": 1005
         },
         {
          "bit": 0,
          "duration": 43,
          "frequency": 8,
          "timestep": 1005
         },
         {
          "bit": 0,
          "duration": 44,
          "frequency": 8,
          "timestep": 1005
         },
         {
          "bit": 0,
          "duration": 45,
          "frequency": 6,
          "timestep": 1005
         },
         {
          "bit": 0,
          "duration": 46,
          "frequency": 7,
          "timestep": 1005
         },
         {
          "bit": 0,
          "duration": 47,
          "frequency": 6,
          "timestep": 1005
         },
         {
          "bit": 0,
          "duration": 48,
          "frequency": 2,
          "timestep": 1005
         },
         {
          "bit": 0,
          "duration": 49,
          "frequency": 1,
          "timestep": 1005
         },
         {
          "bit": 0,
          "duration": 51,
          "frequency": 4,
          "timestep": 1005
         },
         {
          "bit": 0,
          "duration": 52,
          "frequency": 3,
          "timestep": 1005
         },
         {
          "bit": 0,
          "duration": 53,
          "frequency": 6,
          "timestep": 1005
         },
         {
          "bit": 0,
          "duration": 54,
          "frequency": 7,
          "timestep": 1005
         },
         {
          "bit": 0,
          "duration": 55,
          "frequency": 3,
          "timestep": 1005
         },
         {
          "bit": 0,
          "duration": 56,
          "frequency": 5,
          "timestep": 1005
         },
         {
          "bit": 0,
          "duration": 57,
          "frequency": 1,
          "timestep": 1005
         },
         {
          "bit": 0,
          "duration": 58,
          "frequency": 1,
          "timestep": 1005
         },
         {
          "bit": 0,
          "duration": 59,
          "frequency": 2,
          "timestep": 1005
         },
         {
          "bit": 0,
          "duration": 60,
          "frequency": 1,
          "timestep": 1005
         },
         {
          "bit": 0,
          "duration": 62,
          "frequency": 2,
          "timestep": 1005
         },
         {
          "bit": 0,
          "duration": 63,
          "frequency": 1,
          "timestep": 1005
         },
         {
          "bit": 0,
          "duration": 64,
          "frequency": 3,
          "timestep": 1005
         },
         {
          "bit": 0,
          "duration": 68,
          "frequency": 4,
          "timestep": 1005
         },
         {
          "bit": 0,
          "duration": 70,
          "frequency": 2,
          "timestep": 1005
         },
         {
          "bit": 0,
          "duration": 72,
          "frequency": 3,
          "timestep": 1005
         },
         {
          "bit": 0,
          "duration": 74,
          "frequency": 1,
          "timestep": 1005
         },
         {
          "bit": 0,
          "duration": 75,
          "frequency": 1,
          "timestep": 1005
         },
         {
          "bit": 0,
          "duration": 85,
          "frequency": 1,
          "timestep": 1005
         },
         {
          "bit": 0,
          "duration": 87,
          "frequency": 1,
          "timestep": 1005
         },
         {
          "bit": 0,
          "duration": 104,
          "frequency": 1,
          "timestep": 1005
         },
         {
          "bit": 0,
          "duration": 143,
          "frequency": 1,
          "timestep": 1005
         },
         {
          "bit": 0,
          "duration": 1,
          "frequency": 73227,
          "timestep": 1105
         },
         {
          "bit": 0,
          "duration": 2,
          "frequency": 31260,
          "timestep": 1105
         },
         {
          "bit": 0,
          "duration": 3,
          "frequency": 8566,
          "timestep": 1105
         },
         {
          "bit": 0,
          "duration": 4,
          "frequency": 3598,
          "timestep": 1105
         },
         {
          "bit": 0,
          "duration": 5,
          "frequency": 1775,
          "timestep": 1105
         },
         {
          "bit": 0,
          "duration": 6,
          "frequency": 913,
          "timestep": 1105
         },
         {
          "bit": 0,
          "duration": 7,
          "frequency": 531,
          "timestep": 1105
         },
         {
          "bit": 0,
          "duration": 8,
          "frequency": 320,
          "timestep": 1105
         },
         {
          "bit": 0,
          "duration": 9,
          "frequency": 227,
          "timestep": 1105
         },
         {
          "bit": 0,
          "duration": 10,
          "frequency": 179,
          "timestep": 1105
         },
         {
          "bit": 0,
          "duration": 11,
          "frequency": 134,
          "timestep": 1105
         },
         {
          "bit": 0,
          "duration": 12,
          "frequency": 116,
          "timestep": 1105
         },
         {
          "bit": 0,
          "duration": 13,
          "frequency": 107,
          "timestep": 1105
         },
         {
          "bit": 0,
          "duration": 14,
          "frequency": 74,
          "timestep": 1105
         },
         {
          "bit": 0,
          "duration": 15,
          "frequency": 75,
          "timestep": 1105
         },
         {
          "bit": 0,
          "duration": 16,
          "frequency": 74,
          "timestep": 1105
         },
         {
          "bit": 0,
          "duration": 17,
          "frequency": 68,
          "timestep": 1105
         },
         {
          "bit": 0,
          "duration": 18,
          "frequency": 66,
          "timestep": 1105
         },
         {
          "bit": 0,
          "duration": 19,
          "frequency": 51,
          "timestep": 1105
         },
         {
          "bit": 0,
          "duration": 20,
          "frequency": 53,
          "timestep": 1105
         },
         {
          "bit": 0,
          "duration": 21,
          "frequency": 46,
          "timestep": 1105
         },
         {
          "bit": 0,
          "duration": 22,
          "frequency": 40,
          "timestep": 1105
         },
         {
          "bit": 0,
          "duration": 23,
          "frequency": 44,
          "timestep": 1105
         },
         {
          "bit": 0,
          "duration": 24,
          "frequency": 44,
          "timestep": 1105
         },
         {
          "bit": 0,
          "duration": 25,
          "frequency": 36,
          "timestep": 1105
         },
         {
          "bit": 0,
          "duration": 26,
          "frequency": 36,
          "timestep": 1105
         },
         {
          "bit": 0,
          "duration": 27,
          "frequency": 37,
          "timestep": 1105
         },
         {
          "bit": 0,
          "duration": 28,
          "frequency": 26,
          "timestep": 1105
         },
         {
          "bit": 0,
          "duration": 29,
          "frequency": 26,
          "timestep": 1105
         },
         {
          "bit": 0,
          "duration": 30,
          "frequency": 20,
          "timestep": 1105
         },
         {
          "bit": 0,
          "duration": 31,
          "frequency": 25,
          "timestep": 1105
         },
         {
          "bit": 0,
          "duration": 32,
          "frequency": 9,
          "timestep": 1105
         },
         {
          "bit": 0,
          "duration": 33,
          "frequency": 24,
          "timestep": 1105
         },
         {
          "bit": 0,
          "duration": 34,
          "frequency": 12,
          "timestep": 1105
         },
         {
          "bit": 0,
          "duration": 35,
          "frequency": 16,
          "timestep": 1105
         },
         {
          "bit": 0,
          "duration": 36,
          "frequency": 12,
          "timestep": 1105
         },
         {
          "bit": 0,
          "duration": 37,
          "frequency": 9,
          "timestep": 1105
         },
         {
          "bit": 0,
          "duration": 38,
          "frequency": 14,
          "timestep": 1105
         },
         {
          "bit": 0,
          "duration": 39,
          "frequency": 9,
          "timestep": 1105
         },
         {
          "bit": 0,
          "duration": 40,
          "frequency": 8,
          "timestep": 1105
         },
         {
          "bit": 0,
          "duration": 41,
          "frequency": 11,
          "timestep": 1105
         },
         {
          "bit": 0,
          "duration": 42,
          "frequency": 5,
          "timestep": 1105
         },
         {
          "bit": 0,
          "duration": 43,
          "frequency": 15,
          "timestep": 1105
         },
         {
          "bit": 0,
          "duration": 44,
          "frequency": 6,
          "timestep": 1105
         },
         {
          "bit": 0,
          "duration": 45,
          "frequency": 5,
          "timestep": 1105
         },
         {
          "bit": 0,
          "duration": 46,
          "frequency": 8,
          "timestep": 1105
         },
         {
          "bit": 0,
          "duration": 47,
          "frequency": 6,
          "timestep": 1105
         },
         {
          "bit": 0,
          "duration": 48,
          "frequency": 1,
          "timestep": 1105
         },
         {
          "bit": 0,
          "duration": 49,
          "frequency": 6,
          "timestep": 1105
         },
         {
          "bit": 0,
          "duration": 50,
          "frequency": 4,
          "timestep": 1105
         },
         {
          "bit": 0,
          "duration": 51,
          "frequency": 5,
          "timestep": 1105
         },
         {
          "bit": 0,
          "duration": 52,
          "frequency": 5,
          "timestep": 1105
         },
         {
          "bit": 0,
          "duration": 53,
          "frequency": 6,
          "timestep": 1105
         },
         {
          "bit": 0,
          "duration": 54,
          "frequency": 4,
          "timestep": 1105
         },
         {
          "bit": 0,
          "duration": 55,
          "frequency": 5,
          "timestep": 1105
         },
         {
          "bit": 0,
          "duration": 57,
          "frequency": 4,
          "timestep": 1105
         },
         {
          "bit": 0,
          "duration": 58,
          "frequency": 5,
          "timestep": 1105
         },
         {
          "bit": 0,
          "duration": 59,
          "frequency": 3,
          "timestep": 1105
         },
         {
          "bit": 0,
          "duration": 60,
          "frequency": 5,
          "timestep": 1105
         },
         {
          "bit": 0,
          "duration": 61,
          "frequency": 1,
          "timestep": 1105
         },
         {
          "bit": 0,
          "duration": 62,
          "frequency": 1,
          "timestep": 1105
         },
         {
          "bit": 0,
          "duration": 64,
          "frequency": 1,
          "timestep": 1105
         },
         {
          "bit": 0,
          "duration": 65,
          "frequency": 1,
          "timestep": 1105
         },
         {
          "bit": 0,
          "duration": 67,
          "frequency": 2,
          "timestep": 1105
         },
         {
          "bit": 0,
          "duration": 68,
          "frequency": 2,
          "timestep": 1105
         },
         {
          "bit": 0,
          "duration": 69,
          "frequency": 4,
          "timestep": 1105
         },
         {
          "bit": 0,
          "duration": 71,
          "frequency": 3,
          "timestep": 1105
         },
         {
          "bit": 0,
          "duration": 72,
          "frequency": 2,
          "timestep": 1105
         },
         {
          "bit": 0,
          "duration": 73,
          "frequency": 1,
          "timestep": 1105
         },
         {
          "bit": 0,
          "duration": 77,
          "frequency": 1,
          "timestep": 1105
         },
         {
          "bit": 0,
          "duration": 78,
          "frequency": 1,
          "timestep": 1105
         },
         {
          "bit": 0,
          "duration": 80,
          "frequency": 2,
          "timestep": 1105
         },
         {
          "bit": 0,
          "duration": 89,
          "frequency": 1,
          "timestep": 1105
         },
         {
          "bit": 0,
          "duration": 94,
          "frequency": 1,
          "timestep": 1105
         },
         {
          "bit": 0,
          "duration": 100,
          "frequency": 1,
          "timestep": 1105
         },
         {
          "bit": 0,
          "duration": 101,
          "frequency": 1,
          "timestep": 1105
         },
         {
          "bit": 0,
          "duration": 107,
          "frequency": 1,
          "timestep": 1105
         },
         {
          "bit": 0,
          "duration": 1,
          "frequency": 68249,
          "timestep": 1205
         },
         {
          "bit": 0,
          "duration": 2,
          "frequency": 26811,
          "timestep": 1205
         },
         {
          "bit": 0,
          "duration": 3,
          "frequency": 9663,
          "timestep": 1205
         },
         {
          "bit": 0,
          "duration": 4,
          "frequency": 4639,
          "timestep": 1205
         },
         {
          "bit": 0,
          "duration": 5,
          "frequency": 2149,
          "timestep": 1205
         },
         {
          "bit": 0,
          "duration": 6,
          "frequency": 1201,
          "timestep": 1205
         },
         {
          "bit": 0,
          "duration": 7,
          "frequency": 633,
          "timestep": 1205
         },
         {
          "bit": 0,
          "duration": 8,
          "frequency": 396,
          "timestep": 1205
         },
         {
          "bit": 0,
          "duration": 9,
          "frequency": 268,
          "timestep": 1205
         },
         {
          "bit": 0,
          "duration": 10,
          "frequency": 182,
          "timestep": 1205
         },
         {
          "bit": 0,
          "duration": 11,
          "frequency": 150,
          "timestep": 1205
         },
         {
          "bit": 0,
          "duration": 12,
          "frequency": 103,
          "timestep": 1205
         },
         {
          "bit": 0,
          "duration": 13,
          "frequency": 92,
          "timestep": 1205
         },
         {
          "bit": 0,
          "duration": 14,
          "frequency": 89,
          "timestep": 1205
         },
         {
          "bit": 0,
          "duration": 15,
          "frequency": 82,
          "timestep": 1205
         },
         {
          "bit": 0,
          "duration": 16,
          "frequency": 66,
          "timestep": 1205
         },
         {
          "bit": 0,
          "duration": 17,
          "frequency": 77,
          "timestep": 1205
         },
         {
          "bit": 0,
          "duration": 18,
          "frequency": 73,
          "timestep": 1205
         },
         {
          "bit": 0,
          "duration": 19,
          "frequency": 61,
          "timestep": 1205
         },
         {
          "bit": 0,
          "duration": 20,
          "frequency": 52,
          "timestep": 1205
         },
         {
          "bit": 0,
          "duration": 21,
          "frequency": 42,
          "timestep": 1205
         },
         {
          "bit": 0,
          "duration": 22,
          "frequency": 45,
          "timestep": 1205
         },
         {
          "bit": 0,
          "duration": 23,
          "frequency": 52,
          "timestep": 1205
         },
         {
          "bit": 0,
          "duration": 24,
          "frequency": 38,
          "timestep": 1205
         },
         {
          "bit": 0,
          "duration": 25,
          "frequency": 32,
          "timestep": 1205
         },
         {
          "bit": 0,
          "duration": 26,
          "frequency": 31,
          "timestep": 1205
         },
         {
          "bit": 0,
          "duration": 27,
          "frequency": 22,
          "timestep": 1205
         },
         {
          "bit": 0,
          "duration": 28,
          "frequency": 26,
          "timestep": 1205
         },
         {
          "bit": 0,
          "duration": 29,
          "frequency": 31,
          "timestep": 1205
         },
         {
          "bit": 0,
          "duration": 30,
          "frequency": 23,
          "timestep": 1205
         },
         {
          "bit": 0,
          "duration": 31,
          "frequency": 26,
          "timestep": 1205
         },
         {
          "bit": 0,
          "duration": 32,
          "frequency": 15,
          "timestep": 1205
         },
         {
          "bit": 0,
          "duration": 33,
          "frequency": 16,
          "timestep": 1205
         },
         {
          "bit": 0,
          "duration": 34,
          "frequency": 15,
          "timestep": 1205
         },
         {
          "bit": 0,
          "duration": 35,
          "frequency": 10,
          "timestep": 1205
         },
         {
          "bit": 0,
          "duration": 36,
          "frequency": 13,
          "timestep": 1205
         },
         {
          "bit": 0,
          "duration": 37,
          "frequency": 16,
          "timestep": 1205
         },
         {
          "bit": 0,
          "duration": 38,
          "frequency": 16,
          "timestep": 1205
         },
         {
          "bit": 0,
          "duration": 39,
          "frequency": 10,
          "timestep": 1205
         },
         {
          "bit": 0,
          "duration": 40,
          "frequency": 12,
          "timestep": 1205
         },
         {
          "bit": 0,
          "duration": 41,
          "frequency": 5,
          "timestep": 1205
         },
         {
          "bit": 0,
          "duration": 42,
          "frequency": 8,
          "timestep": 1205
         },
         {
          "bit": 0,
          "duration": 43,
          "frequency": 15,
          "timestep": 1205
         },
         {
          "bit": 0,
          "duration": 44,
          "frequency": 8,
          "timestep": 1205
         },
         {
          "bit": 0,
          "duration": 45,
          "frequency": 5,
          "timestep": 1205
         },
         {
          "bit": 0,
          "duration": 46,
          "frequency": 5,
          "timestep": 1205
         },
         {
          "bit": 0,
          "duration": 47,
          "frequency": 8,
          "timestep": 1205
         },
         {
          "bit": 0,
          "duration": 48,
          "frequency": 4,
          "timestep": 1205
         },
         {
          "bit": 0,
          "duration": 49,
          "frequency": 1,
          "timestep": 1205
         },
         {
          "bit": 0,
          "duration": 50,
          "frequency": 3,
          "timestep": 1205
         },
         {
          "bit": 0,
          "duration": 51,
          "frequency": 9,
          "timestep": 1205
         },
         {
          "bit": 0,
          "duration": 52,
          "frequency": 6,
          "timestep": 1205
         },
         {
          "bit": 0,
          "duration": 53,
          "frequency": 3,
          "timestep": 1205
         },
         {
          "bit": 0,
          "duration": 54,
          "frequency": 2,
          "timestep": 1205
         },
         {
          "bit": 0,
          "duration": 55,
          "frequency": 3,
          "timestep": 1205
         },
         {
          "bit": 0,
          "duration": 56,
          "frequency": 3,
          "timestep": 1205
         },
         {
          "bit": 0,
          "duration": 57,
          "frequency": 3,
          "timestep": 1205
         },
         {
          "bit": 0,
          "duration": 58,
          "frequency": 2,
          "timestep": 1205
         },
         {
          "bit": 0,
          "duration": 59,
          "frequency": 1,
          "timestep": 1205
         },
         {
          "bit": 0,
          "duration": 61,
          "frequency": 4,
          "timestep": 1205
         },
         {
          "bit": 0,
          "duration": 62,
          "frequency": 2,
          "timestep": 1205
         },
         {
          "bit": 0,
          "duration": 63,
          "frequency": 1,
          "timestep": 1205
         },
         {
          "bit": 0,
          "duration": 64,
          "frequency": 3,
          "timestep": 1205
         },
         {
          "bit": 0,
          "duration": 65,
          "frequency": 1,
          "timestep": 1205
         },
         {
          "bit": 0,
          "duration": 67,
          "frequency": 1,
          "timestep": 1205
         },
         {
          "bit": 0,
          "duration": 68,
          "frequency": 2,
          "timestep": 1205
         },
         {
          "bit": 0,
          "duration": 69,
          "frequency": 1,
          "timestep": 1205
         },
         {
          "bit": 0,
          "duration": 71,
          "frequency": 2,
          "timestep": 1205
         },
         {
          "bit": 0,
          "duration": 74,
          "frequency": 1,
          "timestep": 1205
         },
         {
          "bit": 0,
          "duration": 76,
          "frequency": 4,
          "timestep": 1205
         },
         {
          "bit": 0,
          "duration": 77,
          "frequency": 1,
          "timestep": 1205
         },
         {
          "bit": 0,
          "duration": 78,
          "frequency": 1,
          "timestep": 1205
         },
         {
          "bit": 0,
          "duration": 82,
          "frequency": 1,
          "timestep": 1205
         },
         {
          "bit": 0,
          "duration": 85,
          "frequency": 1,
          "timestep": 1205
         },
         {
          "bit": 0,
          "duration": 96,
          "frequency": 1,
          "timestep": 1205
         },
         {
          "bit": 0,
          "duration": 113,
          "frequency": 2,
          "timestep": 1205
         },
         {
          "bit": 0,
          "duration": 1,
          "frequency": 78263,
          "timestep": 1305
         },
         {
          "bit": 0,
          "duration": 2,
          "frequency": 27567,
          "timestep": 1305
         },
         {
          "bit": 0,
          "duration": 3,
          "frequency": 7355,
          "timestep": 1305
         },
         {
          "bit": 0,
          "duration": 4,
          "frequency": 3173,
          "timestep": 1305
         },
         {
          "bit": 0,
          "duration": 5,
          "frequency": 1635,
          "timestep": 1305
         },
         {
          "bit": 0,
          "duration": 6,
          "frequency": 955,
          "timestep": 1305
         },
         {
          "bit": 0,
          "duration": 7,
          "frequency": 636,
          "timestep": 1305
         },
         {
          "bit": 0,
          "duration": 8,
          "frequency": 412,
          "timestep": 1305
         },
         {
          "bit": 0,
          "duration": 9,
          "frequency": 255,
          "timestep": 1305
         },
         {
          "bit": 0,
          "duration": 10,
          "frequency": 231,
          "timestep": 1305
         },
         {
          "bit": 0,
          "duration": 11,
          "frequency": 197,
          "timestep": 1305
         },
         {
          "bit": 0,
          "duration": 12,
          "frequency": 162,
          "timestep": 1305
         },
         {
          "bit": 0,
          "duration": 13,
          "frequency": 135,
          "timestep": 1305
         },
         {
          "bit": 0,
          "duration": 14,
          "frequency": 120,
          "timestep": 1305
         },
         {
          "bit": 0,
          "duration": 15,
          "frequency": 124,
          "timestep": 1305
         },
         {
          "bit": 0,
          "duration": 16,
          "frequency": 101,
          "timestep": 1305
         },
         {
          "bit": 0,
          "duration": 17,
          "frequency": 111,
          "timestep": 1305
         },
         {
          "bit": 0,
          "duration": 18,
          "frequency": 83,
          "timestep": 1305
         },
         {
          "bit": 0,
          "duration": 19,
          "frequency": 70,
          "timestep": 1305
         },
         {
          "bit": 0,
          "duration": 20,
          "frequency": 77,
          "timestep": 1305
         },
         {
          "bit": 0,
          "duration": 21,
          "frequency": 66,
          "timestep": 1305
         },
         {
          "bit": 0,
          "duration": 22,
          "frequency": 62,
          "timestep": 1305
         },
         {
          "bit": 0,
          "duration": 23,
          "frequency": 60,
          "timestep": 1305
         },
         {
          "bit": 0,
          "duration": 24,
          "frequency": 43,
          "timestep": 1305
         },
         {
          "bit": 0,
          "duration": 25,
          "frequency": 52,
          "timestep": 1305
         },
         {
          "bit": 0,
          "duration": 26,
          "frequency": 38,
          "timestep": 1305
         },
         {
          "bit": 0,
          "duration": 27,
          "frequency": 32,
          "timestep": 1305
         },
         {
          "bit": 0,
          "duration": 28,
          "frequency": 42,
          "timestep": 1305
         },
         {
          "bit": 0,
          "duration": 29,
          "frequency": 27,
          "timestep": 1305
         },
         {
          "bit": 0,
          "duration": 30,
          "frequency": 43,
          "timestep": 1305
         },
         {
          "bit": 0,
          "duration": 31,
          "frequency": 34,
          "timestep": 1305
         },
         {
          "bit": 0,
          "duration": 32,
          "frequency": 20,
          "timestep": 1305
         },
         {
          "bit": 0,
          "duration": 33,
          "frequency": 20,
          "timestep": 1305
         },
         {
          "bit": 0,
          "duration": 34,
          "frequency": 18,
          "timestep": 1305
         },
         {
          "bit": 0,
          "duration": 35,
          "frequency": 21,
          "timestep": 1305
         },
         {
          "bit": 0,
          "duration": 36,
          "frequency": 16,
          "timestep": 1305
         },
         {
          "bit": 0,
          "duration": 37,
          "frequency": 15,
          "timestep": 1305
         },
         {
          "bit": 0,
          "duration": 38,
          "frequency": 4,
          "timestep": 1305
         },
         {
          "bit": 0,
          "duration": 39,
          "frequency": 17,
          "timestep": 1305
         },
         {
          "bit": 0,
          "duration": 40,
          "frequency": 13,
          "timestep": 1305
         },
         {
          "bit": 0,
          "duration": 41,
          "frequency": 8,
          "timestep": 1305
         },
         {
          "bit": 0,
          "duration": 42,
          "frequency": 6,
          "timestep": 1305
         },
         {
          "bit": 0,
          "duration": 43,
          "frequency": 9,
          "timestep": 1305
         },
         {
          "bit": 0,
          "duration": 44,
          "frequency": 4,
          "timestep": 1305
         },
         {
          "bit": 0,
          "duration": 45,
          "frequency": 7,
          "timestep": 1305
         },
         {
          "bit": 0,
          "duration": 46,
          "frequency": 8,
          "timestep": 1305
         },
         {
          "bit": 0,
          "duration": 47,
          "frequency": 11,
          "timestep": 1305
         },
         {
          "bit": 0,
          "duration": 48,
          "frequency": 11,
          "timestep": 1305
         },
         {
          "bit": 0,
          "duration": 49,
          "frequency": 7,
          "timestep": 1305
         },
         {
          "bit": 0,
          "duration": 50,
          "frequency": 4,
          "timestep": 1305
         },
         {
          "bit": 0,
          "duration": 51,
          "frequency": 8,
          "timestep": 1305
         },
         {
          "bit": 0,
          "duration": 52,
          "frequency": 5,
          "timestep": 1305
         },
         {
          "bit": 0,
          "duration": 53,
          "frequency": 2,
          "timestep": 1305
         },
         {
          "bit": 0,
          "duration": 54,
          "frequency": 3,
          "timestep": 1305
         },
         {
          "bit": 0,
          "duration": 55,
          "frequency": 5,
          "timestep": 1305
         },
         {
          "bit": 0,
          "duration": 56,
          "frequency": 6,
          "timestep": 1305
         },
         {
          "bit": 0,
          "duration": 57,
          "frequency": 1,
          "timestep": 1305
         },
         {
          "bit": 0,
          "duration": 59,
          "frequency": 4,
          "timestep": 1305
         },
         {
          "bit": 0,
          "duration": 60,
          "frequency": 2,
          "timestep": 1305
         },
         {
          "bit": 0,
          "duration": 61,
          "frequency": 3,
          "timestep": 1305
         },
         {
          "bit": 0,
          "duration": 62,
          "frequency": 1,
          "timestep": 1305
         },
         {
          "bit": 0,
          "duration": 64,
          "frequency": 2,
          "timestep": 1305
         },
         {
          "bit": 0,
          "duration": 67,
          "frequency": 1,
          "timestep": 1305
         },
         {
          "bit": 0,
          "duration": 68,
          "frequency": 1,
          "timestep": 1305
         },
         {
          "bit": 0,
          "duration": 69,
          "frequency": 3,
          "timestep": 1305
         },
         {
          "bit": 0,
          "duration": 70,
          "frequency": 1,
          "timestep": 1305
         },
         {
          "bit": 0,
          "duration": 71,
          "frequency": 1,
          "timestep": 1305
         },
         {
          "bit": 0,
          "duration": 72,
          "frequency": 1,
          "timestep": 1305
         },
         {
          "bit": 0,
          "duration": 79,
          "frequency": 1,
          "timestep": 1305
         },
         {
          "bit": 0,
          "duration": 81,
          "frequency": 1,
          "timestep": 1305
         },
         {
          "bit": 0,
          "duration": 1,
          "frequency": 76909,
          "timestep": 1405
         },
         {
          "bit": 0,
          "duration": 2,
          "frequency": 40296,
          "timestep": 1405
         },
         {
          "bit": 0,
          "duration": 3,
          "frequency": 10224,
          "timestep": 1405
         },
         {
          "bit": 0,
          "duration": 4,
          "frequency": 4040,
          "timestep": 1405
         },
         {
          "bit": 0,
          "duration": 5,
          "frequency": 1935,
          "timestep": 1405
         },
         {
          "bit": 0,
          "duration": 6,
          "frequency": 972,
          "timestep": 1405
         },
         {
          "bit": 0,
          "duration": 7,
          "frequency": 547,
          "timestep": 1405
         },
         {
          "bit": 0,
          "duration": 8,
          "frequency": 306,
          "timestep": 1405
         },
         {
          "bit": 0,
          "duration": 9,
          "frequency": 212,
          "timestep": 1405
         },
         {
          "bit": 0,
          "duration": 10,
          "frequency": 134,
          "timestep": 1405
         },
         {
          "bit": 0,
          "duration": 11,
          "frequency": 87,
          "timestep": 1405
         },
         {
          "bit": 0,
          "duration": 12,
          "frequency": 78,
          "timestep": 1405
         },
         {
          "bit": 0,
          "duration": 13,
          "frequency": 65,
          "timestep": 1405
         },
         {
          "bit": 0,
          "duration": 14,
          "frequency": 75,
          "timestep": 1405
         },
         {
          "bit": 0,
          "duration": 15,
          "frequency": 64,
          "timestep": 1405
         },
         {
          "bit": 0,
          "duration": 16,
          "frequency": 46,
          "timestep": 1405
         },
         {
          "bit": 0,
          "duration": 17,
          "frequency": 47,
          "timestep": 1405
         },
         {
          "bit": 0,
          "duration": 18,
          "frequency": 45,
          "timestep": 1405
         },
         {
          "bit": 0,
          "duration": 19,
          "frequency": 54,
          "timestep": 1405
         },
         {
          "bit": 0,
          "duration": 20,
          "frequency": 39,
          "timestep": 1405
         },
         {
          "bit": 0,
          "duration": 21,
          "frequency": 39,
          "timestep": 1405
         },
         {
          "bit": 0,
          "duration": 22,
          "frequency": 22,
          "timestep": 1405
         },
         {
          "bit": 0,
          "duration": 23,
          "frequency": 15,
          "timestep": 1405
         },
         {
          "bit": 0,
          "duration": 24,
          "frequency": 29,
          "timestep": 1405
         },
         {
          "bit": 0,
          "duration": 25,
          "frequency": 24,
          "timestep": 1405
         },
         {
          "bit": 0,
          "duration": 26,
          "frequency": 12,
          "timestep": 1405
         },
         {
          "bit": 0,
          "duration": 27,
          "frequency": 14,
          "timestep": 1405
         },
         {
          "bit": 0,
          "duration": 28,
          "frequency": 15,
          "timestep": 1405
         },
         {
          "bit": 0,
          "duration": 29,
          "frequency": 11,
          "timestep": 1405
         },
         {
          "bit": 0,
          "duration": 30,
          "frequency": 13,
          "timestep": 1405
         },
         {
          "bit": 0,
          "duration": 31,
          "frequency": 20,
          "timestep": 1405
         },
         {
          "bit": 0,
          "duration": 32,
          "frequency": 17,
          "timestep": 1405
         },
         {
          "bit": 0,
          "duration": 33,
          "frequency": 5,
          "timestep": 1405
         },
         {
          "bit": 0,
          "duration": 34,
          "frequency": 7,
          "timestep": 1405
         },
         {
          "bit": 0,
          "duration": 35,
          "frequency": 5,
          "timestep": 1405
         },
         {
          "bit": 0,
          "duration": 36,
          "frequency": 5,
          "timestep": 1405
         },
         {
          "bit": 0,
          "duration": 37,
          "frequency": 8,
          "timestep": 1405
         },
         {
          "bit": 0,
          "duration": 38,
          "frequency": 3,
          "timestep": 1405
         },
         {
          "bit": 0,
          "duration": 39,
          "frequency": 7,
          "timestep": 1405
         },
         {
          "bit": 0,
          "duration": 40,
          "frequency": 3,
          "timestep": 1405
         },
         {
          "bit": 0,
          "duration": 41,
          "frequency": 5,
          "timestep": 1405
         },
         {
          "bit": 0,
          "duration": 42,
          "frequency": 7,
          "timestep": 1405
         },
         {
          "bit": 0,
          "duration": 43,
          "frequency": 5,
          "timestep": 1405
         },
         {
          "bit": 0,
          "duration": 44,
          "frequency": 5,
          "timestep": 1405
         },
         {
          "bit": 0,
          "duration": 45,
          "frequency": 4,
          "timestep": 1405
         },
         {
          "bit": 0,
          "duration": 47,
          "frequency": 2,
          "timestep": 1405
         },
         {
          "bit": 0,
          "duration": 48,
          "frequency": 2,
          "timestep": 1405
         },
         {
          "bit": 0,
          "duration": 50,
          "frequency": 4,
          "timestep": 1405
         },
         {
          "bit": 0,
          "duration": 51,
          "frequency": 1,
          "timestep": 1405
         },
         {
          "bit": 0,
          "duration": 52,
          "frequency": 1,
          "timestep": 1405
         },
         {
          "bit": 0,
          "duration": 53,
          "frequency": 2,
          "timestep": 1405
         },
         {
          "bit": 0,
          "duration": 54,
          "frequency": 2,
          "timestep": 1405
         },
         {
          "bit": 0,
          "duration": 56,
          "frequency": 2,
          "timestep": 1405
         },
         {
          "bit": 0,
          "duration": 57,
          "frequency": 2,
          "timestep": 1405
         },
         {
          "bit": 0,
          "duration": 58,
          "frequency": 1,
          "timestep": 1405
         },
         {
          "bit": 0,
          "duration": 59,
          "frequency": 1,
          "timestep": 1405
         },
         {
          "bit": 0,
          "duration": 63,
          "frequency": 1,
          "timestep": 1405
         },
         {
          "bit": 0,
          "duration": 76,
          "frequency": 1,
          "timestep": 1405
         },
         {
          "bit": 0,
          "duration": 77,
          "frequency": 1,
          "timestep": 1405
         },
         {
          "bit": 0,
          "duration": 97,
          "frequency": 1,
          "timestep": 1405
         },
         {
          "bit": 1,
          "duration": 1,
          "frequency": 110691,
          "timestep": 5
         },
         {
          "bit": 1,
          "duration": 2,
          "frequency": 13013,
          "timestep": 5
         },
         {
          "bit": 1,
          "duration": 3,
          "frequency": 124,
          "timestep": 5
         },
         {
          "bit": 1,
          "duration": 4,
          "frequency": 3,
          "timestep": 5
         },
         {
          "bit": 1,
          "duration": 5,
          "frequency": 1,
          "timestep": 5
         },
         {
          "bit": 1,
          "duration": 13,
          "frequency": 3,
          "timestep": 5
         },
         {
          "bit": 1,
          "duration": 14,
          "frequency": 1,
          "timestep": 5
         },
         {
          "bit": 1,
          "duration": 15,
          "frequency": 1,
          "timestep": 5
         },
         {
          "bit": 1,
          "duration": 18,
          "frequency": 2,
          "timestep": 5
         },
         {
          "bit": 1,
          "duration": 19,
          "frequency": 1,
          "timestep": 5
         },
         {
          "bit": 1,
          "duration": 20,
          "frequency": 1,
          "timestep": 5
         },
         {
          "bit": 1,
          "duration": 21,
          "frequency": 3,
          "timestep": 5
         },
         {
          "bit": 1,
          "duration": 22,
          "frequency": 1,
          "timestep": 5
         },
         {
          "bit": 1,
          "duration": 23,
          "frequency": 1,
          "timestep": 5
         },
         {
          "bit": 1,
          "duration": 33,
          "frequency": 2,
          "timestep": 5
         },
         {
          "bit": 1,
          "duration": 36,
          "frequency": 2,
          "timestep": 5
         },
         {
          "bit": 1,
          "duration": 37,
          "frequency": 1,
          "timestep": 5
         },
         {
          "bit": 1,
          "duration": 40,
          "frequency": 1,
          "timestep": 5
         },
         {
          "bit": 1,
          "duration": 41,
          "frequency": 1,
          "timestep": 5
         },
         {
          "bit": 1,
          "duration": 43,
          "frequency": 3,
          "timestep": 5
         },
         {
          "bit": 1,
          "duration": 44,
          "frequency": 1,
          "timestep": 5
         },
         {
          "bit": 1,
          "duration": 48,
          "frequency": 1,
          "timestep": 5
         },
         {
          "bit": 1,
          "duration": 49,
          "frequency": 1,
          "timestep": 5
         },
         {
          "bit": 1,
          "duration": 50,
          "frequency": 3,
          "timestep": 5
         },
         {
          "bit": 1,
          "duration": 52,
          "frequency": 1,
          "timestep": 5
         },
         {
          "bit": 1,
          "duration": 53,
          "frequency": 1,
          "timestep": 5
         },
         {
          "bit": 1,
          "duration": 55,
          "frequency": 1,
          "timestep": 5
         },
         {
          "bit": 1,
          "duration": 56,
          "frequency": 1,
          "timestep": 5
         },
         {
          "bit": 1,
          "duration": 58,
          "frequency": 4,
          "timestep": 5
         },
         {
          "bit": 1,
          "duration": 60,
          "frequency": 1,
          "timestep": 5
         },
         {
          "bit": 1,
          "duration": 62,
          "frequency": 1,
          "timestep": 5
         },
         {
          "bit": 1,
          "duration": 63,
          "frequency": 2,
          "timestep": 5
         },
         {
          "bit": 1,
          "duration": 64,
          "frequency": 1,
          "timestep": 5
         },
         {
          "bit": 1,
          "duration": 66,
          "frequency": 1,
          "timestep": 5
         },
         {
          "bit": 1,
          "duration": 67,
          "frequency": 1,
          "timestep": 5
         },
         {
          "bit": 1,
          "duration": 69,
          "frequency": 2,
          "timestep": 5
         },
         {
          "bit": 1,
          "duration": 70,
          "frequency": 1,
          "timestep": 5
         },
         {
          "bit": 1,
          "duration": 72,
          "frequency": 1,
          "timestep": 5
         },
         {
          "bit": 1,
          "duration": 76,
          "frequency": 2,
          "timestep": 5
         },
         {
          "bit": 1,
          "duration": 78,
          "frequency": 1,
          "timestep": 5
         },
         {
          "bit": 1,
          "duration": 81,
          "frequency": 3,
          "timestep": 5
         },
         {
          "bit": 1,
          "duration": 83,
          "frequency": 1,
          "timestep": 5
         },
         {
          "bit": 1,
          "duration": 84,
          "frequency": 1,
          "timestep": 5
         },
         {
          "bit": 1,
          "duration": 88,
          "frequency": 1,
          "timestep": 5
         },
         {
          "bit": 1,
          "duration": 90,
          "frequency": 1,
          "timestep": 5
         },
         {
          "bit": 1,
          "duration": 96,
          "frequency": 2,
          "timestep": 5
         },
         {
          "bit": 1,
          "duration": 101,
          "frequency": 1,
          "timestep": 5
         },
         {
          "bit": 1,
          "duration": 110,
          "frequency": 1,
          "timestep": 5
         },
         {
          "bit": 1,
          "duration": 123,
          "frequency": 1,
          "timestep": 5
         },
         {
          "bit": 1,
          "duration": 130,
          "frequency": 1,
          "timestep": 5
         },
         {
          "bit": 1,
          "duration": 142,
          "frequency": 1,
          "timestep": 5
         },
         {
          "bit": 1,
          "duration": 145,
          "frequency": 1,
          "timestep": 5
         },
         {
          "bit": 1,
          "duration": 149,
          "frequency": 1,
          "timestep": 5
         },
         {
          "bit": 1,
          "duration": 155,
          "frequency": 1,
          "timestep": 5
         },
         {
          "bit": 1,
          "duration": 157,
          "frequency": 1,
          "timestep": 5
         },
         {
          "bit": 1,
          "duration": 159,
          "frequency": 1,
          "timestep": 5
         },
         {
          "bit": 1,
          "duration": 168,
          "frequency": 1,
          "timestep": 5
         },
         {
          "bit": 1,
          "duration": 184,
          "frequency": 2,
          "timestep": 5
         },
         {
          "bit": 1,
          "duration": 186,
          "frequency": 1,
          "timestep": 5
         },
         {
          "bit": 1,
          "duration": 215,
          "frequency": 1,
          "timestep": 5
         },
         {
          "bit": 1,
          "duration": 217,
          "frequency": 1,
          "timestep": 5
         },
         {
          "bit": 1,
          "duration": 225,
          "frequency": 1,
          "timestep": 5
         },
         {
          "bit": 1,
          "duration": 230,
          "frequency": 1,
          "timestep": 5
         },
         {
          "bit": 1,
          "duration": 236,
          "frequency": 1,
          "timestep": 5
         },
         {
          "bit": 1,
          "duration": 265,
          "frequency": 1,
          "timestep": 5
         },
         {
          "bit": 1,
          "duration": 270,
          "frequency": 1,
          "timestep": 5
         },
         {
          "bit": 1,
          "duration": 352,
          "frequency": 1,
          "timestep": 5
         },
         {
          "bit": 1,
          "duration": 373,
          "frequency": 1,
          "timestep": 5
         },
         {
          "bit": 1,
          "duration": 377,
          "frequency": 1,
          "timestep": 5
         },
         {
          "bit": 1,
          "duration": 393,
          "frequency": 1,
          "timestep": 5
         },
         {
          "bit": 1,
          "duration": 416,
          "frequency": 1,
          "timestep": 5
         },
         {
          "bit": 1,
          "duration": 496,
          "frequency": 1,
          "timestep": 5
         },
         {
          "bit": 1,
          "duration": 509,
          "frequency": 1,
          "timestep": 5
         },
         {
          "bit": 1,
          "duration": 591,
          "frequency": 1,
          "timestep": 5
         },
         {
          "bit": 1,
          "duration": 687,
          "frequency": 1,
          "timestep": 5
         },
         {
          "bit": 1,
          "duration": 745,
          "frequency": 1,
          "timestep": 5
         },
         {
          "bit": 1,
          "duration": 777,
          "frequency": 1,
          "timestep": 5
         },
         {
          "bit": 1,
          "duration": 795,
          "frequency": 1,
          "timestep": 5
         },
         {
          "bit": 1,
          "duration": 1206,
          "frequency": 1,
          "timestep": 5
         },
         {
          "bit": 1,
          "duration": 1486,
          "frequency": 1,
          "timestep": 5
         },
         {
          "bit": 1,
          "duration": 1731,
          "frequency": 1,
          "timestep": 5
         },
         {
          "bit": 1,
          "duration": 1866,
          "frequency": 1,
          "timestep": 5
         },
         {
          "bit": 1,
          "duration": 1949,
          "frequency": 1,
          "timestep": 5
         },
         {
          "bit": 1,
          "duration": 2134,
          "frequency": 1,
          "timestep": 5
         },
         {
          "bit": 1,
          "duration": 2627,
          "frequency": 1,
          "timestep": 5
         },
         {
          "bit": 1,
          "duration": 2901,
          "frequency": 1,
          "timestep": 5
         },
         {
          "bit": 1,
          "duration": 3860,
          "frequency": 1,
          "timestep": 5
         },
         {
          "bit": 1,
          "duration": 4392,
          "frequency": 1,
          "timestep": 5
         },
         {
          "bit": 1,
          "duration": 5172,
          "frequency": 1,
          "timestep": 5
         },
         {
          "bit": 1,
          "duration": 7299,
          "frequency": 1,
          "timestep": 5
         },
         {
          "bit": 1,
          "duration": 7596,
          "frequency": 1,
          "timestep": 5
         },
         {
          "bit": 1,
          "duration": 1,
          "frequency": 73135,
          "timestep": 105
         },
         {
          "bit": 1,
          "duration": 2,
          "frequency": 54244,
          "timestep": 105
         },
         {
          "bit": 1,
          "duration": 3,
          "frequency": 5790,
          "timestep": 105
         },
         {
          "bit": 1,
          "duration": 4,
          "frequency": 727,
          "timestep": 105
         },
         {
          "bit": 1,
          "duration": 5,
          "frequency": 116,
          "timestep": 105
         },
         {
          "bit": 1,
          "duration": 6,
          "frequency": 42,
          "timestep": 105
         },
         {
          "bit": 1,
          "duration": 7,
          "frequency": 33,
          "timestep": 105
         },
         {
          "bit": 1,
          "duration": 8,
          "frequency": 27,
          "timestep": 105
         },
         {
          "bit": 1,
          "duration": 9,
          "frequency": 17,
          "timestep": 105
         },
         {
          "bit": 1,
          "duration": 10,
          "frequency": 25,
          "timestep": 105
         },
         {
          "bit": 1,
          "duration": 11,
          "frequency": 20,
          "timestep": 105
         },
         {
          "bit": 1,
          "duration": 12,
          "frequency": 15,
          "timestep": 105
         },
         {
          "bit": 1,
          "duration": 13,
          "frequency": 12,
          "timestep": 105
         },
         {
          "bit": 1,
          "duration": 14,
          "frequency": 22,
          "timestep": 105
         },
         {
          "bit": 1,
          "duration": 15,
          "frequency": 14,
          "timestep": 105
         },
         {
          "bit": 1,
          "duration": 16,
          "frequency": 7,
          "timestep": 105
         },
         {
          "bit": 1,
          "duration": 17,
          "frequency": 9,
          "timestep": 105
         },
         {
          "bit": 1,
          "duration": 18,
          "frequency": 9,
          "timestep": 105
         },
         {
          "bit": 1,
          "duration": 19,
          "frequency": 8,
          "timestep": 105
         },
         {
          "bit": 1,
          "duration": 20,
          "frequency": 9,
          "timestep": 105
         },
         {
          "bit": 1,
          "duration": 21,
          "frequency": 5,
          "timestep": 105
         },
         {
          "bit": 1,
          "duration": 22,
          "frequency": 10,
          "timestep": 105
         },
         {
          "bit": 1,
          "duration": 23,
          "frequency": 5,
          "timestep": 105
         },
         {
          "bit": 1,
          "duration": 24,
          "frequency": 6,
          "timestep": 105
         },
         {
          "bit": 1,
          "duration": 25,
          "frequency": 1,
          "timestep": 105
         },
         {
          "bit": 1,
          "duration": 26,
          "frequency": 4,
          "timestep": 105
         },
         {
          "bit": 1,
          "duration": 27,
          "frequency": 2,
          "timestep": 105
         },
         {
          "bit": 1,
          "duration": 28,
          "frequency": 1,
          "timestep": 105
         },
         {
          "bit": 1,
          "duration": 29,
          "frequency": 5,
          "timestep": 105
         },
         {
          "bit": 1,
          "duration": 30,
          "frequency": 6,
          "timestep": 105
         },
         {
          "bit": 1,
          "duration": 31,
          "frequency": 3,
          "timestep": 105
         },
         {
          "bit": 1,
          "duration": 32,
          "frequency": 4,
          "timestep": 105
         },
         {
          "bit": 1,
          "duration": 33,
          "frequency": 3,
          "timestep": 105
         },
         {
          "bit": 1,
          "duration": 34,
          "frequency": 1,
          "timestep": 105
         },
         {
          "bit": 1,
          "duration": 35,
          "frequency": 2,
          "timestep": 105
         },
         {
          "bit": 1,
          "duration": 36,
          "frequency": 3,
          "timestep": 105
         },
         {
          "bit": 1,
          "duration": 37,
          "frequency": 2,
          "timestep": 105
         },
         {
          "bit": 1,
          "duration": 38,
          "frequency": 3,
          "timestep": 105
         },
         {
          "bit": 1,
          "duration": 39,
          "frequency": 3,
          "timestep": 105
         },
         {
          "bit": 1,
          "duration": 40,
          "frequency": 4,
          "timestep": 105
         },
         {
          "bit": 1,
          "duration": 41,
          "frequency": 1,
          "timestep": 105
         },
         {
          "bit": 1,
          "duration": 43,
          "frequency": 2,
          "timestep": 105
         },
         {
          "bit": 1,
          "duration": 44,
          "frequency": 3,
          "timestep": 105
         },
         {
          "bit": 1,
          "duration": 45,
          "frequency": 4,
          "timestep": 105
         },
         {
          "bit": 1,
          "duration": 47,
          "frequency": 2,
          "timestep": 105
         },
         {
          "bit": 1,
          "duration": 48,
          "frequency": 2,
          "timestep": 105
         },
         {
          "bit": 1,
          "duration": 50,
          "frequency": 3,
          "timestep": 105
         },
         {
          "bit": 1,
          "duration": 51,
          "frequency": 2,
          "timestep": 105
         },
         {
          "bit": 1,
          "duration": 52,
          "frequency": 3,
          "timestep": 105
         },
         {
          "bit": 1,
          "duration": 53,
          "frequency": 1,
          "timestep": 105
         },
         {
          "bit": 1,
          "duration": 54,
          "frequency": 3,
          "timestep": 105
         },
         {
          "bit": 1,
          "duration": 55,
          "frequency": 2,
          "timestep": 105
         },
         {
          "bit": 1,
          "duration": 56,
          "frequency": 1,
          "timestep": 105
         },
         {
          "bit": 1,
          "duration": 57,
          "frequency": 2,
          "timestep": 105
         },
         {
          "bit": 1,
          "duration": 58,
          "frequency": 2,
          "timestep": 105
         },
         {
          "bit": 1,
          "duration": 59,
          "frequency": 2,
          "timestep": 105
         },
         {
          "bit": 1,
          "duration": 62,
          "frequency": 2,
          "timestep": 105
         },
         {
          "bit": 1,
          "duration": 63,
          "frequency": 1,
          "timestep": 105
         },
         {
          "bit": 1,
          "duration": 64,
          "frequency": 1,
          "timestep": 105
         },
         {
          "bit": 1,
          "duration": 66,
          "frequency": 1,
          "timestep": 105
         },
         {
          "bit": 1,
          "duration": 67,
          "frequency": 1,
          "timestep": 105
         },
         {
          "bit": 1,
          "duration": 69,
          "frequency": 1,
          "timestep": 105
         },
         {
          "bit": 1,
          "duration": 70,
          "frequency": 1,
          "timestep": 105
         },
         {
          "bit": 1,
          "duration": 71,
          "frequency": 1,
          "timestep": 105
         },
         {
          "bit": 1,
          "duration": 72,
          "frequency": 2,
          "timestep": 105
         },
         {
          "bit": 1,
          "duration": 73,
          "frequency": 1,
          "timestep": 105
         },
         {
          "bit": 1,
          "duration": 74,
          "frequency": 1,
          "timestep": 105
         },
         {
          "bit": 1,
          "duration": 75,
          "frequency": 3,
          "timestep": 105
         },
         {
          "bit": 1,
          "duration": 77,
          "frequency": 2,
          "timestep": 105
         },
         {
          "bit": 1,
          "duration": 78,
          "frequency": 2,
          "timestep": 105
         },
         {
          "bit": 1,
          "duration": 79,
          "frequency": 1,
          "timestep": 105
         },
         {
          "bit": 1,
          "duration": 81,
          "frequency": 1,
          "timestep": 105
         },
         {
          "bit": 1,
          "duration": 84,
          "frequency": 1,
          "timestep": 105
         },
         {
          "bit": 1,
          "duration": 85,
          "frequency": 3,
          "timestep": 105
         },
         {
          "bit": 1,
          "duration": 87,
          "frequency": 1,
          "timestep": 105
         },
         {
          "bit": 1,
          "duration": 90,
          "frequency": 1,
          "timestep": 105
         },
         {
          "bit": 1,
          "duration": 91,
          "frequency": 2,
          "timestep": 105
         },
         {
          "bit": 1,
          "duration": 96,
          "frequency": 2,
          "timestep": 105
         },
         {
          "bit": 1,
          "duration": 100,
          "frequency": 3,
          "timestep": 105
         },
         {
          "bit": 1,
          "duration": 102,
          "frequency": 2,
          "timestep": 105
         },
         {
          "bit": 1,
          "duration": 104,
          "frequency": 1,
          "timestep": 105
         },
         {
          "bit": 1,
          "duration": 105,
          "frequency": 1,
          "timestep": 105
         },
         {
          "bit": 1,
          "duration": 106,
          "frequency": 2,
          "timestep": 105
         },
         {
          "bit": 1,
          "duration": 110,
          "frequency": 1,
          "timestep": 105
         },
         {
          "bit": 1,
          "duration": 111,
          "frequency": 2,
          "timestep": 105
         },
         {
          "bit": 1,
          "duration": 114,
          "frequency": 3,
          "timestep": 105
         },
         {
          "bit": 1,
          "duration": 118,
          "frequency": 1,
          "timestep": 105
         },
         {
          "bit": 1,
          "duration": 119,
          "frequency": 1,
          "timestep": 105
         },
         {
          "bit": 1,
          "duration": 121,
          "frequency": 1,
          "timestep": 105
         },
         {
          "bit": 1,
          "duration": 122,
          "frequency": 1,
          "timestep": 105
         },
         {
          "bit": 1,
          "duration": 124,
          "frequency": 1,
          "timestep": 105
         },
         {
          "bit": 1,
          "duration": 128,
          "frequency": 2,
          "timestep": 105
         },
         {
          "bit": 1,
          "duration": 129,
          "frequency": 1,
          "timestep": 105
         },
         {
          "bit": 1,
          "duration": 141,
          "frequency": 2,
          "timestep": 105
         },
         {
          "bit": 1,
          "duration": 148,
          "frequency": 1,
          "timestep": 105
         },
         {
          "bit": 1,
          "duration": 157,
          "frequency": 1,
          "timestep": 105
         },
         {
          "bit": 1,
          "duration": 158,
          "frequency": 1,
          "timestep": 105
         },
         {
          "bit": 1,
          "duration": 160,
          "frequency": 1,
          "timestep": 105
         },
         {
          "bit": 1,
          "duration": 161,
          "frequency": 1,
          "timestep": 105
         },
         {
          "bit": 1,
          "duration": 162,
          "frequency": 1,
          "timestep": 105
         },
         {
          "bit": 1,
          "duration": 163,
          "frequency": 2,
          "timestep": 105
         },
         {
          "bit": 1,
          "duration": 164,
          "frequency": 1,
          "timestep": 105
         },
         {
          "bit": 1,
          "duration": 166,
          "frequency": 1,
          "timestep": 105
         },
         {
          "bit": 1,
          "duration": 167,
          "frequency": 1,
          "timestep": 105
         },
         {
          "bit": 1,
          "duration": 170,
          "frequency": 1,
          "timestep": 105
         },
         {
          "bit": 1,
          "duration": 172,
          "frequency": 1,
          "timestep": 105
         },
         {
          "bit": 1,
          "duration": 174,
          "frequency": 1,
          "timestep": 105
         },
         {
          "bit": 1,
          "duration": 175,
          "frequency": 1,
          "timestep": 105
         },
         {
          "bit": 1,
          "duration": 179,
          "frequency": 1,
          "timestep": 105
         },
         {
          "bit": 1,
          "duration": 180,
          "frequency": 1,
          "timestep": 105
         },
         {
          "bit": 1,
          "duration": 183,
          "frequency": 1,
          "timestep": 105
         },
         {
          "bit": 1,
          "duration": 191,
          "frequency": 1,
          "timestep": 105
         },
         {
          "bit": 1,
          "duration": 196,
          "frequency": 1,
          "timestep": 105
         },
         {
          "bit": 1,
          "duration": 197,
          "frequency": 1,
          "timestep": 105
         },
         {
          "bit": 1,
          "duration": 198,
          "frequency": 1,
          "timestep": 105
         },
         {
          "bit": 1,
          "duration": 200,
          "frequency": 1,
          "timestep": 105
         },
         {
          "bit": 1,
          "duration": 205,
          "frequency": 1,
          "timestep": 105
         },
         {
          "bit": 1,
          "duration": 210,
          "frequency": 1,
          "timestep": 105
         },
         {
          "bit": 1,
          "duration": 216,
          "frequency": 1,
          "timestep": 105
         },
         {
          "bit": 1,
          "duration": 219,
          "frequency": 1,
          "timestep": 105
         },
         {
          "bit": 1,
          "duration": 220,
          "frequency": 1,
          "timestep": 105
         },
         {
          "bit": 1,
          "duration": 221,
          "frequency": 1,
          "timestep": 105
         },
         {
          "bit": 1,
          "duration": 222,
          "frequency": 2,
          "timestep": 105
         },
         {
          "bit": 1,
          "duration": 223,
          "frequency": 2,
          "timestep": 105
         },
         {
          "bit": 1,
          "duration": 228,
          "frequency": 1,
          "timestep": 105
         },
         {
          "bit": 1,
          "duration": 229,
          "frequency": 1,
          "timestep": 105
         },
         {
          "bit": 1,
          "duration": 231,
          "frequency": 1,
          "timestep": 105
         },
         {
          "bit": 1,
          "duration": 242,
          "frequency": 1,
          "timestep": 105
         },
         {
          "bit": 1,
          "duration": 244,
          "frequency": 1,
          "timestep": 105
         },
         {
          "bit": 1,
          "duration": 245,
          "frequency": 1,
          "timestep": 105
         },
         {
          "bit": 1,
          "duration": 249,
          "frequency": 1,
          "timestep": 105
         },
         {
          "bit": 1,
          "duration": 252,
          "frequency": 1,
          "timestep": 105
         },
         {
          "bit": 1,
          "duration": 258,
          "frequency": 1,
          "timestep": 105
         },
         {
          "bit": 1,
          "duration": 259,
          "frequency": 1,
          "timestep": 105
         },
         {
          "bit": 1,
          "duration": 261,
          "frequency": 2,
          "timestep": 105
         },
         {
          "bit": 1,
          "duration": 264,
          "frequency": 1,
          "timestep": 105
         },
         {
          "bit": 1,
          "duration": 269,
          "frequency": 1,
          "timestep": 105
         },
         {
          "bit": 1,
          "duration": 289,
          "frequency": 1,
          "timestep": 105
         },
         {
          "bit": 1,
          "duration": 290,
          "frequency": 1,
          "timestep": 105
         },
         {
          "bit": 1,
          "duration": 304,
          "frequency": 1,
          "timestep": 105
         },
         {
          "bit": 1,
          "duration": 307,
          "frequency": 1,
          "timestep": 105
         },
         {
          "bit": 1,
          "duration": 311,
          "frequency": 1,
          "timestep": 105
         },
         {
          "bit": 1,
          "duration": 314,
          "frequency": 1,
          "timestep": 105
         },
         {
          "bit": 1,
          "duration": 317,
          "frequency": 1,
          "timestep": 105
         },
         {
          "bit": 1,
          "duration": 335,
          "frequency": 1,
          "timestep": 105
         },
         {
          "bit": 1,
          "duration": 340,
          "frequency": 1,
          "timestep": 105
         },
         {
          "bit": 1,
          "duration": 342,
          "frequency": 1,
          "timestep": 105
         },
         {
          "bit": 1,
          "duration": 350,
          "frequency": 1,
          "timestep": 105
         },
         {
          "bit": 1,
          "duration": 351,
          "frequency": 1,
          "timestep": 105
         },
         {
          "bit": 1,
          "duration": 356,
          "frequency": 2,
          "timestep": 105
         },
         {
          "bit": 1,
          "duration": 373,
          "frequency": 1,
          "timestep": 105
         },
         {
          "bit": 1,
          "duration": 397,
          "frequency": 1,
          "timestep": 105
         },
         {
          "bit": 1,
          "duration": 398,
          "frequency": 1,
          "timestep": 105
         },
         {
          "bit": 1,
          "duration": 453,
          "frequency": 1,
          "timestep": 105
         },
         {
          "bit": 1,
          "duration": 519,
          "frequency": 1,
          "timestep": 105
         },
         {
          "bit": 1,
          "duration": 534,
          "frequency": 1,
          "timestep": 105
         },
         {
          "bit": 1,
          "duration": 565,
          "frequency": 1,
          "timestep": 105
         },
         {
          "bit": 1,
          "duration": 737,
          "frequency": 1,
          "timestep": 105
         },
         {
          "bit": 1,
          "duration": 1,
          "frequency": 99145,
          "timestep": 205
         },
         {
          "bit": 1,
          "duration": 2,
          "frequency": 17406,
          "timestep": 205
         },
         {
          "bit": 1,
          "duration": 3,
          "frequency": 2025,
          "timestep": 205
         },
         {
          "bit": 1,
          "duration": 4,
          "frequency": 573,
          "timestep": 205
         },
         {
          "bit": 1,
          "duration": 5,
          "frequency": 293,
          "timestep": 205
         },
         {
          "bit": 1,
          "duration": 6,
          "frequency": 147,
          "timestep": 205
         },
         {
          "bit": 1,
          "duration": 7,
          "frequency": 130,
          "timestep": 205
         },
         {
          "bit": 1,
          "duration": 8,
          "frequency": 110,
          "timestep": 205
         },
         {
          "bit": 1,
          "duration": 9,
          "frequency": 77,
          "timestep": 205
         },
         {
          "bit": 1,
          "duration": 10,
          "frequency": 84,
          "timestep": 205
         },
         {
          "bit": 1,
          "duration": 11,
          "frequency": 70,
          "timestep": 205
         },
         {
          "bit": 1,
          "duration": 12,
          "frequency": 46,
          "timestep": 205
         },
         {
          "bit": 1,
          "duration": 13,
          "frequency": 46,
          "timestep": 205
         },
         {
          "bit": 1,
          "duration": 14,
          "frequency": 34,
          "timestep": 205
         },
         {
          "bit": 1,
          "duration": 15,
          "frequency": 40,
          "timestep": 205
         },
         {
          "bit": 1,
          "duration": 16,
          "frequency": 22,
          "timestep": 205
         },
         {
          "bit": 1,
          "duration": 17,
          "frequency": 27,
          "timestep": 205
         },
         {
          "bit": 1,
          "duration": 18,
          "frequency": 20,
          "timestep": 205
         },
         {
          "bit": 1,
          "duration": 19,
          "frequency": 30,
          "timestep": 205
         },
         {
          "bit": 1,
          "duration": 20,
          "frequency": 22,
          "timestep": 205
         },
         {
          "bit": 1,
          "duration": 21,
          "frequency": 20,
          "timestep": 205
         },
         {
          "bit": 1,
          "duration": 22,
          "frequency": 17,
          "timestep": 205
         },
         {
          "bit": 1,
          "duration": 23,
          "frequency": 18,
          "timestep": 205
         },
         {
          "bit": 1,
          "duration": 24,
          "frequency": 13,
          "timestep": 205
         },
         {
          "bit": 1,
          "duration": 25,
          "frequency": 9,
          "timestep": 205
         },
         {
          "bit": 1,
          "duration": 26,
          "frequency": 12,
          "timestep": 205
         },
         {
          "bit": 1,
          "duration": 27,
          "frequency": 13,
          "timestep": 205
         },
         {
          "bit": 1,
          "duration": 28,
          "frequency": 19,
          "timestep": 205
         },
         {
          "bit": 1,
          "duration": 29,
          "frequency": 15,
          "timestep": 205
         },
         {
          "bit": 1,
          "duration": 30,
          "frequency": 10,
          "timestep": 205
         },
         {
          "bit": 1,
          "duration": 31,
          "frequency": 14,
          "timestep": 205
         },
         {
          "bit": 1,
          "duration": 32,
          "frequency": 12,
          "timestep": 205
         },
         {
          "bit": 1,
          "duration": 33,
          "frequency": 10,
          "timestep": 205
         },
         {
          "bit": 1,
          "duration": 34,
          "frequency": 11,
          "timestep": 205
         },
         {
          "bit": 1,
          "duration": 35,
          "frequency": 13,
          "timestep": 205
         },
         {
          "bit": 1,
          "duration": 36,
          "frequency": 15,
          "timestep": 205
         },
         {
          "bit": 1,
          "duration": 37,
          "frequency": 9,
          "timestep": 205
         },
         {
          "bit": 1,
          "duration": 38,
          "frequency": 9,
          "timestep": 205
         },
         {
          "bit": 1,
          "duration": 39,
          "frequency": 13,
          "timestep": 205
         },
         {
          "bit": 1,
          "duration": 40,
          "frequency": 9,
          "timestep": 205
         },
         {
          "bit": 1,
          "duration": 41,
          "frequency": 10,
          "timestep": 205
         },
         {
          "bit": 1,
          "duration": 42,
          "frequency": 12,
          "timestep": 205
         },
         {
          "bit": 1,
          "duration": 43,
          "frequency": 7,
          "timestep": 205
         },
         {
          "bit": 1,
          "duration": 44,
          "frequency": 11,
          "timestep": 205
         },
         {
          "bit": 1,
          "duration": 45,
          "frequency": 12,
          "timestep": 205
         },
         {
          "bit": 1,
          "duration": 46,
          "frequency": 14,
          "timestep": 205
         },
         {
          "bit": 1,
          "duration": 47,
          "frequency": 7,
          "timestep": 205
         },
         {
          "bit": 1,
          "duration": 48,
          "frequency": 6,
          "timestep": 205
         },
         {
          "bit": 1,
          "duration": 49,
          "frequency": 5,
          "timestep": 205
         },
         {
          "bit": 1,
          "duration": 50,
          "frequency": 14,
          "timestep": 205
         },
         {
          "bit": 1,
          "duration": 51,
          "frequency": 7,
          "timestep": 205
         },
         {
          "bit": 1,
          "duration": 52,
          "frequency": 8,
          "timestep": 205
         },
         {
          "bit": 1,
          "duration": 53,
          "frequency": 7,
          "timestep": 205
         },
         {
          "bit": 1,
          "duration": 54,
          "frequency": 7,
          "timestep": 205
         },
         {
          "bit": 1,
          "duration": 55,
          "frequency": 6,
          "timestep": 205
         },
         {
          "bit": 1,
          "duration": 56,
          "frequency": 7,
          "timestep": 205
         },
         {
          "bit": 1,
          "duration": 57,
          "frequency": 4,
          "timestep": 205
         },
         {
          "bit": 1,
          "duration": 58,
          "frequency": 7,
          "timestep": 205
         },
         {
          "bit": 1,
          "duration": 59,
          "frequency": 3,
          "timestep": 205
         },
         {
          "bit": 1,
          "duration": 60,
          "frequency": 7,
          "timestep": 205
         },
         {
          "bit": 1,
          "duration": 61,
          "frequency": 8,
          "timestep": 205
         },
         {
          "bit": 1,
          "duration": 62,
          "frequency": 4,
          "timestep": 205
         },
         {
          "bit": 1,
          "duration": 63,
          "frequency": 5,
          "timestep": 205
         },
         {
          "bit": 1,
          "duration": 64,
          "frequency": 9,
          "timestep": 205
         },
         {
          "bit": 1,
          "duration": 65,
          "frequency": 2,
          "timestep": 205
         },
         {
          "bit": 1,
          "duration": 66,
          "frequency": 6,
          "timestep": 205
         },
         {
          "bit": 1,
          "duration": 67,
          "frequency": 3,
          "timestep": 205
         },
         {
          "bit": 1,
          "duration": 68,
          "frequency": 6,
          "timestep": 205
         },
         {
          "bit": 1,
          "duration": 69,
          "frequency": 9,
          "timestep": 205
         },
         {
          "bit": 1,
          "duration": 70,
          "frequency": 2,
          "timestep": 205
         },
         {
          "bit": 1,
          "duration": 71,
          "frequency": 7,
          "timestep": 205
         },
         {
          "bit": 1,
          "duration": 72,
          "frequency": 9,
          "timestep": 205
         },
         {
          "bit": 1,
          "duration": 73,
          "frequency": 7,
          "timestep": 205
         },
         {
          "bit": 1,
          "duration": 74,
          "frequency": 4,
          "timestep": 205
         },
         {
          "bit": 1,
          "duration": 75,
          "frequency": 7,
          "timestep": 205
         },
         {
          "bit": 1,
          "duration": 76,
          "frequency": 8,
          "timestep": 205
         },
         {
          "bit": 1,
          "duration": 77,
          "frequency": 4,
          "timestep": 205
         },
         {
          "bit": 1,
          "duration": 78,
          "frequency": 6,
          "timestep": 205
         },
         {
          "bit": 1,
          "duration": 79,
          "frequency": 6,
          "timestep": 205
         },
         {
          "bit": 1,
          "duration": 80,
          "frequency": 4,
          "timestep": 205
         },
         {
          "bit": 1,
          "duration": 81,
          "frequency": 7,
          "timestep": 205
         },
         {
          "bit": 1,
          "duration": 82,
          "frequency": 5,
          "timestep": 205
         },
         {
          "bit": 1,
          "duration": 83,
          "frequency": 4,
          "timestep": 205
         },
         {
          "bit": 1,
          "duration": 84,
          "frequency": 1,
          "timestep": 205
         },
         {
          "bit": 1,
          "duration": 85,
          "frequency": 5,
          "timestep": 205
         },
         {
          "bit": 1,
          "duration": 86,
          "frequency": 4,
          "timestep": 205
         },
         {
          "bit": 1,
          "duration": 87,
          "frequency": 2,
          "timestep": 205
         },
         {
          "bit": 1,
          "duration": 88,
          "frequency": 4,
          "timestep": 205
         },
         {
          "bit": 1,
          "duration": 89,
          "frequency": 2,
          "timestep": 205
         },
         {
          "bit": 1,
          "duration": 90,
          "frequency": 4,
          "timestep": 205
         },
         {
          "bit": 1,
          "duration": 91,
          "frequency": 4,
          "timestep": 205
         },
         {
          "bit": 1,
          "duration": 92,
          "frequency": 4,
          "timestep": 205
         },
         {
          "bit": 1,
          "duration": 93,
          "frequency": 5,
          "timestep": 205
         },
         {
          "bit": 1,
          "duration": 94,
          "frequency": 6,
          "timestep": 205
         },
         {
          "bit": 1,
          "duration": 95,
          "frequency": 2,
          "timestep": 205
         },
         {
          "bit": 1,
          "duration": 96,
          "frequency": 4,
          "timestep": 205
         },
         {
          "bit": 1,
          "duration": 97,
          "frequency": 6,
          "timestep": 205
         },
         {
          "bit": 1,
          "duration": 98,
          "frequency": 5,
          "timestep": 205
         },
         {
          "bit": 1,
          "duration": 100,
          "frequency": 2,
          "timestep": 205
         },
         {
          "bit": 1,
          "duration": 101,
          "frequency": 8,
          "timestep": 205
         },
         {
          "bit": 1,
          "duration": 102,
          "frequency": 3,
          "timestep": 205
         },
         {
          "bit": 1,
          "duration": 103,
          "frequency": 1,
          "timestep": 205
         },
         {
          "bit": 1,
          "duration": 104,
          "frequency": 3,
          "timestep": 205
         },
         {
          "bit": 1,
          "duration": 106,
          "frequency": 1,
          "timestep": 205
         },
         {
          "bit": 1,
          "duration": 107,
          "frequency": 6,
          "timestep": 205
         },
         {
          "bit": 1,
          "duration": 108,
          "frequency": 3,
          "timestep": 205
         },
         {
          "bit": 1,
          "duration": 109,
          "frequency": 4,
          "timestep": 205
         },
         {
          "bit": 1,
          "duration": 110,
          "frequency": 2,
          "timestep": 205
         },
         {
          "bit": 1,
          "duration": 111,
          "frequency": 5,
          "timestep": 205
         },
         {
          "bit": 1,
          "duration": 112,
          "frequency": 1,
          "timestep": 205
         },
         {
          "bit": 1,
          "duration": 113,
          "frequency": 5,
          "timestep": 205
         },
         {
          "bit": 1,
          "duration": 114,
          "frequency": 1,
          "timestep": 205
         },
         {
          "bit": 1,
          "duration": 115,
          "frequency": 1,
          "timestep": 205
         },
         {
          "bit": 1,
          "duration": 117,
          "frequency": 2,
          "timestep": 205
         },
         {
          "bit": 1,
          "duration": 118,
          "frequency": 3,
          "timestep": 205
         },
         {
          "bit": 1,
          "duration": 119,
          "frequency": 2,
          "timestep": 205
         },
         {
          "bit": 1,
          "duration": 120,
          "frequency": 1,
          "timestep": 205
         },
         {
          "bit": 1,
          "duration": 121,
          "frequency": 1,
          "timestep": 205
         },
         {
          "bit": 1,
          "duration": 123,
          "frequency": 2,
          "timestep": 205
         },
         {
          "bit": 1,
          "duration": 125,
          "frequency": 3,
          "timestep": 205
         },
         {
          "bit": 1,
          "duration": 126,
          "frequency": 1,
          "timestep": 205
         },
         {
          "bit": 1,
          "duration": 128,
          "frequency": 1,
          "timestep": 205
         },
         {
          "bit": 1,
          "duration": 129,
          "frequency": 4,
          "timestep": 205
         },
         {
          "bit": 1,
          "duration": 130,
          "frequency": 3,
          "timestep": 205
         },
         {
          "bit": 1,
          "duration": 131,
          "frequency": 2,
          "timestep": 205
         },
         {
          "bit": 1,
          "duration": 133,
          "frequency": 4,
          "timestep": 205
         },
         {
          "bit": 1,
          "duration": 134,
          "frequency": 1,
          "timestep": 205
         },
         {
          "bit": 1,
          "duration": 136,
          "frequency": 3,
          "timestep": 205
         },
         {
          "bit": 1,
          "duration": 138,
          "frequency": 2,
          "timestep": 205
         },
         {
          "bit": 1,
          "duration": 139,
          "frequency": 2,
          "timestep": 205
         },
         {
          "bit": 1,
          "duration": 140,
          "frequency": 1,
          "timestep": 205
         },
         {
          "bit": 1,
          "duration": 141,
          "frequency": 1,
          "timestep": 205
         },
         {
          "bit": 1,
          "duration": 142,
          "frequency": 1,
          "timestep": 205
         },
         {
          "bit": 1,
          "duration": 143,
          "frequency": 1,
          "timestep": 205
         },
         {
          "bit": 1,
          "duration": 144,
          "frequency": 1,
          "timestep": 205
         },
         {
          "bit": 1,
          "duration": 145,
          "frequency": 2,
          "timestep": 205
         },
         {
          "bit": 1,
          "duration": 146,
          "frequency": 3,
          "timestep": 205
         },
         {
          "bit": 1,
          "duration": 147,
          "frequency": 1,
          "timestep": 205
         },
         {
          "bit": 1,
          "duration": 148,
          "frequency": 1,
          "timestep": 205
         },
         {
          "bit": 1,
          "duration": 149,
          "frequency": 3,
          "timestep": 205
         },
         {
          "bit": 1,
          "duration": 150,
          "frequency": 4,
          "timestep": 205
         },
         {
          "bit": 1,
          "duration": 151,
          "frequency": 3,
          "timestep": 205
         },
         {
          "bit": 1,
          "duration": 153,
          "frequency": 1,
          "timestep": 205
         },
         {
          "bit": 1,
          "duration": 155,
          "frequency": 1,
          "timestep": 205
         },
         {
          "bit": 1,
          "duration": 156,
          "frequency": 1,
          "timestep": 205
         },
         {
          "bit": 1,
          "duration": 158,
          "frequency": 1,
          "timestep": 205
         },
         {
          "bit": 1,
          "duration": 159,
          "frequency": 1,
          "timestep": 205
         },
         {
          "bit": 1,
          "duration": 160,
          "frequency": 1,
          "timestep": 205
         },
         {
          "bit": 1,
          "duration": 161,
          "frequency": 1,
          "timestep": 205
         },
         {
          "bit": 1,
          "duration": 162,
          "frequency": 2,
          "timestep": 205
         },
         {
          "bit": 1,
          "duration": 163,
          "frequency": 2,
          "timestep": 205
         },
         {
          "bit": 1,
          "duration": 164,
          "frequency": 1,
          "timestep": 205
         },
         {
          "bit": 1,
          "duration": 165,
          "frequency": 2,
          "timestep": 205
         },
         {
          "bit": 1,
          "duration": 166,
          "frequency": 1,
          "timestep": 205
         },
         {
          "bit": 1,
          "duration": 167,
          "frequency": 2,
          "timestep": 205
         },
         {
          "bit": 1,
          "duration": 168,
          "frequency": 2,
          "timestep": 205
         },
         {
          "bit": 1,
          "duration": 170,
          "frequency": 2,
          "timestep": 205
         },
         {
          "bit": 1,
          "duration": 171,
          "frequency": 2,
          "timestep": 205
         },
         {
          "bit": 1,
          "duration": 172,
          "frequency": 1,
          "timestep": 205
         },
         {
          "bit": 1,
          "duration": 173,
          "frequency": 1,
          "timestep": 205
         },
         {
          "bit": 1,
          "duration": 174,
          "frequency": 3,
          "timestep": 205
         },
         {
          "bit": 1,
          "duration": 175,
          "frequency": 3,
          "timestep": 205
         },
         {
          "bit": 1,
          "duration": 180,
          "frequency": 1,
          "timestep": 205
         },
         {
          "bit": 1,
          "duration": 181,
          "frequency": 2,
          "timestep": 205
         },
         {
          "bit": 1,
          "duration": 183,
          "frequency": 1,
          "timestep": 205
         },
         {
          "bit": 1,
          "duration": 184,
          "frequency": 1,
          "timestep": 205
         },
         {
          "bit": 1,
          "duration": 185,
          "frequency": 1,
          "timestep": 205
         },
         {
          "bit": 1,
          "duration": 186,
          "frequency": 2,
          "timestep": 205
         },
         {
          "bit": 1,
          "duration": 187,
          "frequency": 2,
          "timestep": 205
         },
         {
          "bit": 1,
          "duration": 191,
          "frequency": 1,
          "timestep": 205
         },
         {
          "bit": 1,
          "duration": 192,
          "frequency": 1,
          "timestep": 205
         },
         {
          "bit": 1,
          "duration": 193,
          "frequency": 3,
          "timestep": 205
         },
         {
          "bit": 1,
          "duration": 194,
          "frequency": 1,
          "timestep": 205
         },
         {
          "bit": 1,
          "duration": 198,
          "frequency": 1,
          "timestep": 205
         },
         {
          "bit": 1,
          "duration": 199,
          "frequency": 1,
          "timestep": 205
         },
         {
          "bit": 1,
          "duration": 200,
          "frequency": 1,
          "timestep": 205
         },
         {
          "bit": 1,
          "duration": 206,
          "frequency": 1,
          "timestep": 205
         },
         {
          "bit": 1,
          "duration": 208,
          "frequency": 2,
          "timestep": 205
         },
         {
          "bit": 1,
          "duration": 211,
          "frequency": 2,
          "timestep": 205
         },
         {
          "bit": 1,
          "duration": 213,
          "frequency": 1,
          "timestep": 205
         },
         {
          "bit": 1,
          "duration": 215,
          "frequency": 2,
          "timestep": 205
         },
         {
          "bit": 1,
          "duration": 219,
          "frequency": 2,
          "timestep": 205
         },
         {
          "bit": 1,
          "duration": 221,
          "frequency": 1,
          "timestep": 205
         },
         {
          "bit": 1,
          "duration": 230,
          "frequency": 1,
          "timestep": 205
         },
         {
          "bit": 1,
          "duration": 232,
          "frequency": 1,
          "timestep": 205
         },
         {
          "bit": 1,
          "duration": 233,
          "frequency": 1,
          "timestep": 205
         },
         {
          "bit": 1,
          "duration": 239,
          "frequency": 1,
          "timestep": 205
         },
         {
          "bit": 1,
          "duration": 242,
          "frequency": 1,
          "timestep": 205
         },
         {
          "bit": 1,
          "duration": 262,
          "frequency": 2,
          "timestep": 205
         },
         {
          "bit": 1,
          "duration": 263,
          "frequency": 1,
          "timestep": 205
         },
         {
          "bit": 1,
          "duration": 266,
          "frequency": 2,
          "timestep": 205
         },
         {
          "bit": 1,
          "duration": 269,
          "frequency": 2,
          "timestep": 205
         },
         {
          "bit": 1,
          "duration": 276,
          "frequency": 1,
          "timestep": 205
         },
         {
          "bit": 1,
          "duration": 287,
          "frequency": 2,
          "timestep": 205
         },
         {
          "bit": 1,
          "duration": 289,
          "frequency": 1,
          "timestep": 205
         },
         {
          "bit": 1,
          "duration": 304,
          "frequency": 1,
          "timestep": 205
         },
         {
          "bit": 1,
          "duration": 305,
          "frequency": 1,
          "timestep": 205
         },
         {
          "bit": 1,
          "duration": 308,
          "frequency": 1,
          "timestep": 205
         },
         {
          "bit": 1,
          "duration": 316,
          "frequency": 1,
          "timestep": 205
         },
         {
          "bit": 1,
          "duration": 324,
          "frequency": 1,
          "timestep": 205
         },
         {
          "bit": 1,
          "duration": 325,
          "frequency": 1,
          "timestep": 205
         },
         {
          "bit": 1,
          "duration": 338,
          "frequency": 1,
          "timestep": 205
         },
         {
          "bit": 1,
          "duration": 347,
          "frequency": 1,
          "timestep": 205
         },
         {
          "bit": 1,
          "duration": 390,
          "frequency": 1,
          "timestep": 205
         },
         {
          "bit": 1,
          "duration": 417,
          "frequency": 1,
          "timestep": 205
         },
         {
          "bit": 1,
          "duration": 441,
          "frequency": 1,
          "timestep": 205
         },
         {
          "bit": 1,
          "duration": 527,
          "frequency": 1,
          "timestep": 205
         },
         {
          "bit": 1,
          "duration": 539,
          "frequency": 1,
          "timestep": 205
         },
         {
          "bit": 1,
          "duration": 1,
          "frequency": 85492,
          "timestep": 305
         },
         {
          "bit": 1,
          "duration": 2,
          "frequency": 44845,
          "timestep": 305
         },
         {
          "bit": 1,
          "duration": 3,
          "frequency": 7622,
          "timestep": 305
         },
         {
          "bit": 1,
          "duration": 4,
          "frequency": 1932,
          "timestep": 305
         },
         {
          "bit": 1,
          "duration": 5,
          "frequency": 588,
          "timestep": 305
         },
         {
          "bit": 1,
          "duration": 6,
          "frequency": 219,
          "timestep": 305
         },
         {
          "bit": 1,
          "duration": 7,
          "frequency": 122,
          "timestep": 305
         },
         {
          "bit": 1,
          "duration": 8,
          "frequency": 82,
          "timestep": 305
         },
         {
          "bit": 1,
          "duration": 9,
          "frequency": 58,
          "timestep": 305
         },
         {
          "bit": 1,
          "duration": 10,
          "frequency": 42,
          "timestep": 305
         },
         {
          "bit": 1,
          "duration": 11,
          "frequency": 43,
          "timestep": 305
         },
         {
          "bit": 1,
          "duration": 12,
          "frequency": 23,
          "timestep": 305
         },
         {
          "bit": 1,
          "duration": 13,
          "frequency": 16,
          "timestep": 305
         },
         {
          "bit": 1,
          "duration": 14,
          "frequency": 27,
          "timestep": 305
         },
         {
          "bit": 1,
          "duration": 15,
          "frequency": 13,
          "timestep": 305
         },
         {
          "bit": 1,
          "duration": 16,
          "frequency": 20,
          "timestep": 305
         },
         {
          "bit": 1,
          "duration": 17,
          "frequency": 20,
          "timestep": 305
         },
         {
          "bit": 1,
          "duration": 18,
          "frequency": 15,
          "timestep": 305
         },
         {
          "bit": 1,
          "duration": 19,
          "frequency": 12,
          "timestep": 305
         },
         {
          "bit": 1,
          "duration": 20,
          "frequency": 6,
          "timestep": 305
         },
         {
          "bit": 1,
          "duration": 21,
          "frequency": 15,
          "timestep": 305
         },
         {
          "bit": 1,
          "duration": 22,
          "frequency": 14,
          "timestep": 305
         },
         {
          "bit": 1,
          "duration": 23,
          "frequency": 10,
          "timestep": 305
         },
         {
          "bit": 1,
          "duration": 24,
          "frequency": 13,
          "timestep": 305
         },
         {
          "bit": 1,
          "duration": 25,
          "frequency": 7,
          "timestep": 305
         },
         {
          "bit": 1,
          "duration": 26,
          "frequency": 10,
          "timestep": 305
         },
         {
          "bit": 1,
          "duration": 27,
          "frequency": 14,
          "timestep": 305
         },
         {
          "bit": 1,
          "duration": 28,
          "frequency": 7,
          "timestep": 305
         },
         {
          "bit": 1,
          "duration": 29,
          "frequency": 7,
          "timestep": 305
         },
         {
          "bit": 1,
          "duration": 30,
          "frequency": 13,
          "timestep": 305
         },
         {
          "bit": 1,
          "duration": 31,
          "frequency": 3,
          "timestep": 305
         },
         {
          "bit": 1,
          "duration": 32,
          "frequency": 4,
          "timestep": 305
         },
         {
          "bit": 1,
          "duration": 33,
          "frequency": 2,
          "timestep": 305
         },
         {
          "bit": 1,
          "duration": 34,
          "frequency": 5,
          "timestep": 305
         },
         {
          "bit": 1,
          "duration": 35,
          "frequency": 4,
          "timestep": 305
         },
         {
          "bit": 1,
          "duration": 36,
          "frequency": 8,
          "timestep": 305
         },
         {
          "bit": 1,
          "duration": 37,
          "frequency": 7,
          "timestep": 305
         },
         {
          "bit": 1,
          "duration": 38,
          "frequency": 8,
          "timestep": 305
         },
         {
          "bit": 1,
          "duration": 39,
          "frequency": 6,
          "timestep": 305
         },
         {
          "bit": 1,
          "duration": 40,
          "frequency": 2,
          "timestep": 305
         },
         {
          "bit": 1,
          "duration": 41,
          "frequency": 10,
          "timestep": 305
         },
         {
          "bit": 1,
          "duration": 42,
          "frequency": 7,
          "timestep": 305
         },
         {
          "bit": 1,
          "duration": 43,
          "frequency": 8,
          "timestep": 305
         },
         {
          "bit": 1,
          "duration": 44,
          "frequency": 5,
          "timestep": 305
         },
         {
          "bit": 1,
          "duration": 45,
          "frequency": 6,
          "timestep": 305
         },
         {
          "bit": 1,
          "duration": 46,
          "frequency": 5,
          "timestep": 305
         },
         {
          "bit": 1,
          "duration": 47,
          "frequency": 9,
          "timestep": 305
         },
         {
          "bit": 1,
          "duration": 48,
          "frequency": 7,
          "timestep": 305
         },
         {
          "bit": 1,
          "duration": 49,
          "frequency": 4,
          "timestep": 305
         },
         {
          "bit": 1,
          "duration": 50,
          "frequency": 7,
          "timestep": 305
         },
         {
          "bit": 1,
          "duration": 51,
          "frequency": 5,
          "timestep": 305
         },
         {
          "bit": 1,
          "duration": 52,
          "frequency": 3,
          "timestep": 305
         },
         {
          "bit": 1,
          "duration": 53,
          "frequency": 5,
          "timestep": 305
         },
         {
          "bit": 1,
          "duration": 54,
          "frequency": 2,
          "timestep": 305
         },
         {
          "bit": 1,
          "duration": 55,
          "frequency": 4,
          "timestep": 305
         },
         {
          "bit": 1,
          "duration": 56,
          "frequency": 5,
          "timestep": 305
         },
         {
          "bit": 1,
          "duration": 57,
          "frequency": 3,
          "timestep": 305
         },
         {
          "bit": 1,
          "duration": 58,
          "frequency": 5,
          "timestep": 305
         },
         {
          "bit": 1,
          "duration": 59,
          "frequency": 1,
          "timestep": 305
         },
         {
          "bit": 1,
          "duration": 60,
          "frequency": 4,
          "timestep": 305
         },
         {
          "bit": 1,
          "duration": 61,
          "frequency": 5,
          "timestep": 305
         },
         {
          "bit": 1,
          "duration": 62,
          "frequency": 3,
          "timestep": 305
         },
         {
          "bit": 1,
          "duration": 63,
          "frequency": 6,
          "timestep": 305
         },
         {
          "bit": 1,
          "duration": 64,
          "frequency": 4,
          "timestep": 305
         },
         {
          "bit": 1,
          "duration": 65,
          "frequency": 1,
          "timestep": 305
         },
         {
          "bit": 1,
          "duration": 66,
          "frequency": 2,
          "timestep": 305
         },
         {
          "bit": 1,
          "duration": 67,
          "frequency": 3,
          "timestep": 305
         },
         {
          "bit": 1,
          "duration": 68,
          "frequency": 5,
          "timestep": 305
         },
         {
          "bit": 1,
          "duration": 69,
          "frequency": 3,
          "timestep": 305
         },
         {
          "bit": 1,
          "duration": 71,
          "frequency": 3,
          "timestep": 305
         },
         {
          "bit": 1,
          "duration": 72,
          "frequency": 2,
          "timestep": 305
         },
         {
          "bit": 1,
          "duration": 73,
          "frequency": 3,
          "timestep": 305
         },
         {
          "bit": 1,
          "duration": 74,
          "frequency": 2,
          "timestep": 305
         },
         {
          "bit": 1,
          "duration": 75,
          "frequency": 1,
          "timestep": 305
         },
         {
          "bit": 1,
          "duration": 76,
          "frequency": 4,
          "timestep": 305
         },
         {
          "bit": 1,
          "duration": 77,
          "frequency": 3,
          "timestep": 305
         },
         {
          "bit": 1,
          "duration": 78,
          "frequency": 2,
          "timestep": 305
         },
         {
          "bit": 1,
          "duration": 79,
          "frequency": 3,
          "timestep": 305
         },
         {
          "bit": 1,
          "duration": 80,
          "frequency": 2,
          "timestep": 305
         },
         {
          "bit": 1,
          "duration": 81,
          "frequency": 2,
          "timestep": 305
         },
         {
          "bit": 1,
          "duration": 82,
          "frequency": 1,
          "timestep": 305
         },
         {
          "bit": 1,
          "duration": 83,
          "frequency": 3,
          "timestep": 305
         },
         {
          "bit": 1,
          "duration": 84,
          "frequency": 2,
          "timestep": 305
         },
         {
          "bit": 1,
          "duration": 85,
          "frequency": 3,
          "timestep": 305
         },
         {
          "bit": 1,
          "duration": 86,
          "frequency": 2,
          "timestep": 305
         },
         {
          "bit": 1,
          "duration": 87,
          "frequency": 3,
          "timestep": 305
         },
         {
          "bit": 1,
          "duration": 88,
          "frequency": 2,
          "timestep": 305
         },
         {
          "bit": 1,
          "duration": 89,
          "frequency": 2,
          "timestep": 305
         },
         {
          "bit": 1,
          "duration": 90,
          "frequency": 1,
          "timestep": 305
         },
         {
          "bit": 1,
          "duration": 91,
          "frequency": 1,
          "timestep": 305
         },
         {
          "bit": 1,
          "duration": 93,
          "frequency": 1,
          "timestep": 305
         },
         {
          "bit": 1,
          "duration": 95,
          "frequency": 2,
          "timestep": 305
         },
         {
          "bit": 1,
          "duration": 99,
          "frequency": 1,
          "timestep": 305
         },
         {
          "bit": 1,
          "duration": 100,
          "frequency": 2,
          "timestep": 305
         },
         {
          "bit": 1,
          "duration": 101,
          "frequency": 1,
          "timestep": 305
         },
         {
          "bit": 1,
          "duration": 104,
          "frequency": 2,
          "timestep": 305
         },
         {
          "bit": 1,
          "duration": 105,
          "frequency": 2,
          "timestep": 305
         },
         {
          "bit": 1,
          "duration": 107,
          "frequency": 1,
          "timestep": 305
         },
         {
          "bit": 1,
          "duration": 108,
          "frequency": 1,
          "timestep": 305
         },
         {
          "bit": 1,
          "duration": 109,
          "frequency": 3,
          "timestep": 305
         },
         {
          "bit": 1,
          "duration": 110,
          "frequency": 2,
          "timestep": 305
         },
         {
          "bit": 1,
          "duration": 112,
          "frequency": 1,
          "timestep": 305
         },
         {
          "bit": 1,
          "duration": 113,
          "frequency": 1,
          "timestep": 305
         },
         {
          "bit": 1,
          "duration": 114,
          "frequency": 2,
          "timestep": 305
         },
         {
          "bit": 1,
          "duration": 116,
          "frequency": 1,
          "timestep": 305
         },
         {
          "bit": 1,
          "duration": 118,
          "frequency": 1,
          "timestep": 305
         },
         {
          "bit": 1,
          "duration": 126,
          "frequency": 1,
          "timestep": 305
         },
         {
          "bit": 1,
          "duration": 127,
          "frequency": 1,
          "timestep": 305
         },
         {
          "bit": 1,
          "duration": 128,
          "frequency": 1,
          "timestep": 305
         },
         {
          "bit": 1,
          "duration": 130,
          "frequency": 2,
          "timestep": 305
         },
         {
          "bit": 1,
          "duration": 132,
          "frequency": 1,
          "timestep": 305
         },
         {
          "bit": 1,
          "duration": 135,
          "frequency": 1,
          "timestep": 305
         },
         {
          "bit": 1,
          "duration": 137,
          "frequency": 1,
          "timestep": 305
         },
         {
          "bit": 1,
          "duration": 142,
          "frequency": 1,
          "timestep": 305
         },
         {
          "bit": 1,
          "duration": 144,
          "frequency": 1,
          "timestep": 305
         },
         {
          "bit": 1,
          "duration": 146,
          "frequency": 1,
          "timestep": 305
         },
         {
          "bit": 1,
          "duration": 149,
          "frequency": 1,
          "timestep": 305
         },
         {
          "bit": 1,
          "duration": 150,
          "frequency": 1,
          "timestep": 305
         },
         {
          "bit": 1,
          "duration": 152,
          "frequency": 1,
          "timestep": 305
         },
         {
          "bit": 1,
          "duration": 153,
          "frequency": 1,
          "timestep": 305
         },
         {
          "bit": 1,
          "duration": 154,
          "frequency": 1,
          "timestep": 305
         },
         {
          "bit": 1,
          "duration": 156,
          "frequency": 1,
          "timestep": 305
         },
         {
          "bit": 1,
          "duration": 158,
          "frequency": 1,
          "timestep": 305
         },
         {
          "bit": 1,
          "duration": 164,
          "frequency": 1,
          "timestep": 305
         },
         {
          "bit": 1,
          "duration": 176,
          "frequency": 1,
          "timestep": 305
         },
         {
          "bit": 1,
          "duration": 182,
          "frequency": 1,
          "timestep": 305
         },
         {
          "bit": 1,
          "duration": 192,
          "frequency": 1,
          "timestep": 305
         },
         {
          "bit": 1,
          "duration": 210,
          "frequency": 1,
          "timestep": 305
         },
         {
          "bit": 1,
          "duration": 215,
          "frequency": 1,
          "timestep": 305
         },
         {
          "bit": 1,
          "duration": 217,
          "frequency": 1,
          "timestep": 305
         },
         {
          "bit": 1,
          "duration": 221,
          "frequency": 1,
          "timestep": 305
         },
         {
          "bit": 1,
          "duration": 250,
          "frequency": 1,
          "timestep": 305
         },
         {
          "bit": 1,
          "duration": 264,
          "frequency": 1,
          "timestep": 305
         },
         {
          "bit": 1,
          "duration": 1,
          "frequency": 96550,
          "timestep": 405
         },
         {
          "bit": 1,
          "duration": 2,
          "frequency": 43163,
          "timestep": 405
         },
         {
          "bit": 1,
          "duration": 3,
          "frequency": 7904,
          "timestep": 405
         },
         {
          "bit": 1,
          "duration": 4,
          "frequency": 2129,
          "timestep": 405
         },
         {
          "bit": 1,
          "duration": 5,
          "frequency": 629,
          "timestep": 405
         },
         {
          "bit": 1,
          "duration": 6,
          "frequency": 207,
          "timestep": 405
         },
         {
          "bit": 1,
          "duration": 7,
          "frequency": 96,
          "timestep": 405
         },
         {
          "bit": 1,
          "duration": 8,
          "frequency": 48,
          "timestep": 405
         },
         {
          "bit": 1,
          "duration": 9,
          "frequency": 32,
          "timestep": 405
         },
         {
          "bit": 1,
          "duration": 10,
          "frequency": 28,
          "timestep": 405
         },
         {
          "bit": 1,
          "duration": 11,
          "frequency": 20,
          "timestep": 405
         },
         {
          "bit": 1,
          "duration": 12,
          "frequency": 22,
          "timestep": 405
         },
         {
          "bit": 1,
          "duration": 13,
          "frequency": 29,
          "timestep": 405
         },
         {
          "bit": 1,
          "duration": 14,
          "frequency": 26,
          "timestep": 405
         },
         {
          "bit": 1,
          "duration": 15,
          "frequency": 25,
          "timestep": 405
         },
         {
          "bit": 1,
          "duration": 16,
          "frequency": 19,
          "timestep": 405
         },
         {
          "bit": 1,
          "duration": 17,
          "frequency": 21,
          "timestep": 405
         },
         {
          "bit": 1,
          "duration": 18,
          "frequency": 16,
          "timestep": 405
         },
         {
          "bit": 1,
          "duration": 19,
          "frequency": 24,
          "timestep": 405
         },
         {
          "bit": 1,
          "duration": 20,
          "frequency": 19,
          "timestep": 405
         },
         {
          "bit": 1,
          "duration": 21,
          "frequency": 16,
          "timestep": 405
         },
         {
          "bit": 1,
          "duration": 22,
          "frequency": 21,
          "timestep": 405
         },
         {
          "bit": 1,
          "duration": 23,
          "frequency": 12,
          "timestep": 405
         },
         {
          "bit": 1,
          "duration": 24,
          "frequency": 18,
          "timestep": 405
         },
         {
          "bit": 1,
          "duration": 25,
          "frequency": 22,
          "timestep": 405
         },
         {
          "bit": 1,
          "duration": 26,
          "frequency": 20,
          "timestep": 405
         },
         {
          "bit": 1,
          "duration": 27,
          "frequency": 20,
          "timestep": 405
         },
         {
          "bit": 1,
          "duration": 28,
          "frequency": 15,
          "timestep": 405
         },
         {
          "bit": 1,
          "duration": 29,
          "frequency": 12,
          "timestep": 405
         },
         {
          "bit": 1,
          "duration": 30,
          "frequency": 16,
          "timestep": 405
         },
         {
          "bit": 1,
          "duration": 31,
          "frequency": 12,
          "timestep": 405
         },
         {
          "bit": 1,
          "duration": 32,
          "frequency": 17,
          "timestep": 405
         },
         {
          "bit": 1,
          "duration": 33,
          "frequency": 10,
          "timestep": 405
         },
         {
          "bit": 1,
          "duration": 34,
          "frequency": 14,
          "timestep": 405
         },
         {
          "bit": 1,
          "duration": 35,
          "frequency": 9,
          "timestep": 405
         },
         {
          "bit": 1,
          "duration": 36,
          "frequency": 7,
          "timestep": 405
         },
         {
          "bit": 1,
          "duration": 37,
          "frequency": 10,
          "timestep": 405
         },
         {
          "bit": 1,
          "duration": 38,
          "frequency": 10,
          "timestep": 405
         },
         {
          "bit": 1,
          "duration": 39,
          "frequency": 9,
          "timestep": 405
         },
         {
          "bit": 1,
          "duration": 40,
          "frequency": 9,
          "timestep": 405
         },
         {
          "bit": 1,
          "duration": 41,
          "frequency": 9,
          "timestep": 405
         },
         {
          "bit": 1,
          "duration": 42,
          "frequency": 12,
          "timestep": 405
         },
         {
          "bit": 1,
          "duration": 43,
          "frequency": 13,
          "timestep": 405
         },
         {
          "bit": 1,
          "duration": 44,
          "frequency": 14,
          "timestep": 405
         },
         {
          "bit": 1,
          "duration": 45,
          "frequency": 11,
          "timestep": 405
         },
         {
          "bit": 1,
          "duration": 46,
          "frequency": 8,
          "timestep": 405
         },
         {
          "bit": 1,
          "duration": 47,
          "frequency": 6,
          "timestep": 405
         },
         {
          "bit": 1,
          "duration": 48,
          "frequency": 9,
          "timestep": 405
         },
         {
          "bit": 1,
          "duration": 49,
          "frequency": 3,
          "timestep": 405
         },
         {
          "bit": 1,
          "duration": 50,
          "frequency": 3,
          "timestep": 405
         },
         {
          "bit": 1,
          "duration": 51,
          "frequency": 12,
          "timestep": 405
         },
         {
          "bit": 1,
          "duration": 52,
          "frequency": 5,
          "timestep": 405
         },
         {
          "bit": 1,
          "duration": 53,
          "frequency": 10,
          "timestep": 405
         },
         {
          "bit": 1,
          "duration": 54,
          "frequency": 6,
          "timestep": 405
         },
         {
          "bit": 1,
          "duration": 55,
          "frequency": 8,
          "timestep": 405
         },
         {
          "bit": 1,
          "duration": 56,
          "frequency": 9,
          "timestep": 405
         },
         {
          "bit": 1,
          "duration": 57,
          "frequency": 6,
          "timestep": 405
         },
         {
          "bit": 1,
          "duration": 58,
          "frequency": 5,
          "timestep": 405
         },
         {
          "bit": 1,
          "duration": 59,
          "frequency": 5,
          "timestep": 405
         },
         {
          "bit": 1,
          "duration": 60,
          "frequency": 8,
          "timestep": 405
         },
         {
          "bit": 1,
          "duration": 61,
          "frequency": 8,
          "timestep": 405
         },
         {
          "bit": 1,
          "duration": 62,
          "frequency": 5,
          "timestep": 405
         },
         {
          "bit": 1,
          "duration": 63,
          "frequency": 6,
          "timestep": 405
         },
         {
          "bit": 1,
          "duration": 64,
          "frequency": 6,
          "timestep": 405
         },
         {
          "bit": 1,
          "duration": 65,
          "frequency": 10,
          "timestep": 405
         },
         {
          "bit": 1,
          "duration": 66,
          "frequency": 5,
          "timestep": 405
         },
         {
          "bit": 1,
          "duration": 67,
          "frequency": 1,
          "timestep": 405
         },
         {
          "bit": 1,
          "duration": 68,
          "frequency": 6,
          "timestep": 405
         },
         {
          "bit": 1,
          "duration": 69,
          "frequency": 10,
          "timestep": 405
         },
         {
          "bit": 1,
          "duration": 72,
          "frequency": 3,
          "timestep": 405
         },
         {
          "bit": 1,
          "duration": 73,
          "frequency": 2,
          "timestep": 405
         },
         {
          "bit": 1,
          "duration": 74,
          "frequency": 5,
          "timestep": 405
         },
         {
          "bit": 1,
          "duration": 75,
          "frequency": 7,
          "timestep": 405
         },
         {
          "bit": 1,
          "duration": 76,
          "frequency": 4,
          "timestep": 405
         },
         {
          "bit": 1,
          "duration": 77,
          "frequency": 1,
          "timestep": 405
         },
         {
          "bit": 1,
          "duration": 78,
          "frequency": 3,
          "timestep": 405
         },
         {
          "bit": 1,
          "duration": 79,
          "frequency": 4,
          "timestep": 405
         },
         {
          "bit": 1,
          "duration": 80,
          "frequency": 3,
          "timestep": 405
         },
         {
          "bit": 1,
          "duration": 81,
          "frequency": 1,
          "timestep": 405
         },
         {
          "bit": 1,
          "duration": 82,
          "frequency": 7,
          "timestep": 405
         },
         {
          "bit": 1,
          "duration": 83,
          "frequency": 4,
          "timestep": 405
         },
         {
          "bit": 1,
          "duration": 84,
          "frequency": 2,
          "timestep": 405
         },
         {
          "bit": 1,
          "duration": 85,
          "frequency": 1,
          "timestep": 405
         },
         {
          "bit": 1,
          "duration": 86,
          "frequency": 2,
          "timestep": 405
         },
         {
          "bit": 1,
          "duration": 87,
          "frequency": 3,
          "timestep": 405
         },
         {
          "bit": 1,
          "duration": 88,
          "frequency": 4,
          "timestep": 405
         },
         {
          "bit": 1,
          "duration": 89,
          "frequency": 4,
          "timestep": 405
         },
         {
          "bit": 1,
          "duration": 90,
          "frequency": 4,
          "timestep": 405
         },
         {
          "bit": 1,
          "duration": 91,
          "frequency": 2,
          "timestep": 405
         },
         {
          "bit": 1,
          "duration": 92,
          "frequency": 2,
          "timestep": 405
         },
         {
          "bit": 1,
          "duration": 93,
          "frequency": 2,
          "timestep": 405
         },
         {
          "bit": 1,
          "duration": 94,
          "frequency": 1,
          "timestep": 405
         },
         {
          "bit": 1,
          "duration": 95,
          "frequency": 2,
          "timestep": 405
         },
         {
          "bit": 1,
          "duration": 99,
          "frequency": 1,
          "timestep": 405
         },
         {
          "bit": 1,
          "duration": 100,
          "frequency": 2,
          "timestep": 405
         },
         {
          "bit": 1,
          "duration": 101,
          "frequency": 1,
          "timestep": 405
         },
         {
          "bit": 1,
          "duration": 102,
          "frequency": 1,
          "timestep": 405
         },
         {
          "bit": 1,
          "duration": 103,
          "frequency": 3,
          "timestep": 405
         },
         {
          "bit": 1,
          "duration": 105,
          "frequency": 1,
          "timestep": 405
         },
         {
          "bit": 1,
          "duration": 106,
          "frequency": 4,
          "timestep": 405
         },
         {
          "bit": 1,
          "duration": 107,
          "frequency": 2,
          "timestep": 405
         },
         {
          "bit": 1,
          "duration": 109,
          "frequency": 1,
          "timestep": 405
         },
         {
          "bit": 1,
          "duration": 110,
          "frequency": 1,
          "timestep": 405
         },
         {
          "bit": 1,
          "duration": 111,
          "frequency": 3,
          "timestep": 405
         },
         {
          "bit": 1,
          "duration": 112,
          "frequency": 3,
          "timestep": 405
         },
         {
          "bit": 1,
          "duration": 113,
          "frequency": 1,
          "timestep": 405
         },
         {
          "bit": 1,
          "duration": 114,
          "frequency": 1,
          "timestep": 405
         },
         {
          "bit": 1,
          "duration": 115,
          "frequency": 1,
          "timestep": 405
         },
         {
          "bit": 1,
          "duration": 117,
          "frequency": 2,
          "timestep": 405
         },
         {
          "bit": 1,
          "duration": 118,
          "frequency": 1,
          "timestep": 405
         },
         {
          "bit": 1,
          "duration": 121,
          "frequency": 1,
          "timestep": 405
         },
         {
          "bit": 1,
          "duration": 122,
          "frequency": 2,
          "timestep": 405
         },
         {
          "bit": 1,
          "duration": 123,
          "frequency": 2,
          "timestep": 405
         },
         {
          "bit": 1,
          "duration": 125,
          "frequency": 2,
          "timestep": 405
         },
         {
          "bit": 1,
          "duration": 126,
          "frequency": 1,
          "timestep": 405
         },
         {
          "bit": 1,
          "duration": 127,
          "frequency": 1,
          "timestep": 405
         },
         {
          "bit": 1,
          "duration": 129,
          "frequency": 1,
          "timestep": 405
         },
         {
          "bit": 1,
          "duration": 130,
          "frequency": 1,
          "timestep": 405
         },
         {
          "bit": 1,
          "duration": 131,
          "frequency": 2,
          "timestep": 405
         },
         {
          "bit": 1,
          "duration": 133,
          "frequency": 1,
          "timestep": 405
         },
         {
          "bit": 1,
          "duration": 137,
          "frequency": 1,
          "timestep": 405
         },
         {
          "bit": 1,
          "duration": 138,
          "frequency": 1,
          "timestep": 405
         },
         {
          "bit": 1,
          "duration": 139,
          "frequency": 2,
          "timestep": 405
         },
         {
          "bit": 1,
          "duration": 143,
          "frequency": 1,
          "timestep": 405
         },
         {
          "bit": 1,
          "duration": 144,
          "frequency": 1,
          "timestep": 405
         },
         {
          "bit": 1,
          "duration": 146,
          "frequency": 1,
          "timestep": 405
         },
         {
          "bit": 1,
          "duration": 151,
          "frequency": 1,
          "timestep": 405
         },
         {
          "bit": 1,
          "duration": 153,
          "frequency": 1,
          "timestep": 405
         },
         {
          "bit": 1,
          "duration": 155,
          "frequency": 1,
          "timestep": 405
         },
         {
          "bit": 1,
          "duration": 157,
          "frequency": 1,
          "timestep": 405
         },
         {
          "bit": 1,
          "duration": 163,
          "frequency": 1,
          "timestep": 405
         },
         {
          "bit": 1,
          "duration": 173,
          "frequency": 1,
          "timestep": 405
         },
         {
          "bit": 1,
          "duration": 176,
          "frequency": 1,
          "timestep": 405
         },
         {
          "bit": 1,
          "duration": 187,
          "frequency": 1,
          "timestep": 405
         },
         {
          "bit": 1,
          "duration": 210,
          "frequency": 1,
          "timestep": 405
         },
         {
          "bit": 1,
          "duration": 233,
          "frequency": 1,
          "timestep": 405
         },
         {
          "bit": 1,
          "duration": 282,
          "frequency": 1,
          "timestep": 405
         },
         {
          "bit": 1,
          "duration": 1,
          "frequency": 68393,
          "timestep": 505
         },
         {
          "bit": 1,
          "duration": 2,
          "frequency": 36851,
          "timestep": 505
         },
         {
          "bit": 1,
          "duration": 3,
          "frequency": 9101,
          "timestep": 505
         },
         {
          "bit": 1,
          "duration": 4,
          "frequency": 3005,
          "timestep": 505
         },
         {
          "bit": 1,
          "duration": 5,
          "frequency": 1294,
          "timestep": 505
         },
         {
          "bit": 1,
          "duration": 6,
          "frequency": 622,
          "timestep": 505
         },
         {
          "bit": 1,
          "duration": 7,
          "frequency": 285,
          "timestep": 505
         },
         {
          "bit": 1,
          "duration": 8,
          "frequency": 153,
          "timestep": 505
         },
         {
          "bit": 1,
          "duration": 9,
          "frequency": 141,
          "timestep": 505
         },
         {
          "bit": 1,
          "duration": 10,
          "frequency": 90,
          "timestep": 505
         },
         {
          "bit": 1,
          "duration": 11,
          "frequency": 64,
          "timestep": 505
         },
         {
          "bit": 1,
          "duration": 12,
          "frequency": 51,
          "timestep": 505
         },
         {
          "bit": 1,
          "duration": 13,
          "frequency": 40,
          "timestep": 505
         },
         {
          "bit": 1,
          "duration": 14,
          "frequency": 28,
          "timestep": 505
         },
         {
          "bit": 1,
          "duration": 15,
          "frequency": 24,
          "timestep": 505
         },
         {
          "bit": 1,
          "duration": 16,
          "frequency": 31,
          "timestep": 505
         },
         {
          "bit": 1,
          "duration": 17,
          "frequency": 25,
          "timestep": 505
         },
         {
          "bit": 1,
          "duration": 18,
          "frequency": 20,
          "timestep": 505
         },
         {
          "bit": 1,
          "duration": 19,
          "frequency": 23,
          "timestep": 505
         },
         {
          "bit": 1,
          "duration": 20,
          "frequency": 25,
          "timestep": 505
         },
         {
          "bit": 1,
          "duration": 21,
          "frequency": 24,
          "timestep": 505
         },
         {
          "bit": 1,
          "duration": 22,
          "frequency": 14,
          "timestep": 505
         },
         {
          "bit": 1,
          "duration": 23,
          "frequency": 17,
          "timestep": 505
         },
         {
          "bit": 1,
          "duration": 24,
          "frequency": 7,
          "timestep": 505
         },
         {
          "bit": 1,
          "duration": 25,
          "frequency": 19,
          "timestep": 505
         },
         {
          "bit": 1,
          "duration": 26,
          "frequency": 19,
          "timestep": 505
         },
         {
          "bit": 1,
          "duration": 27,
          "frequency": 11,
          "timestep": 505
         },
         {
          "bit": 1,
          "duration": 28,
          "frequency": 13,
          "timestep": 505
         },
         {
          "bit": 1,
          "duration": 29,
          "frequency": 8,
          "timestep": 505
         },
         {
          "bit": 1,
          "duration": 30,
          "frequency": 7,
          "timestep": 505
         },
         {
          "bit": 1,
          "duration": 31,
          "frequency": 10,
          "timestep": 505
         },
         {
          "bit": 1,
          "duration": 32,
          "frequency": 10,
          "timestep": 505
         },
         {
          "bit": 1,
          "duration": 33,
          "frequency": 8,
          "timestep": 505
         },
         {
          "bit": 1,
          "duration": 34,
          "frequency": 10,
          "timestep": 505
         },
         {
          "bit": 1,
          "duration": 35,
          "frequency": 16,
          "timestep": 505
         },
         {
          "bit": 1,
          "duration": 36,
          "frequency": 5,
          "timestep": 505
         },
         {
          "bit": 1,
          "duration": 37,
          "frequency": 9,
          "timestep": 505
         },
         {
          "bit": 1,
          "duration": 38,
          "frequency": 9,
          "timestep": 505
         },
         {
          "bit": 1,
          "duration": 39,
          "frequency": 9,
          "timestep": 505
         },
         {
          "bit": 1,
          "duration": 40,
          "frequency": 9,
          "timestep": 505
         },
         {
          "bit": 1,
          "duration": 41,
          "frequency": 8,
          "timestep": 505
         },
         {
          "bit": 1,
          "duration": 42,
          "frequency": 6,
          "timestep": 505
         },
         {
          "bit": 1,
          "duration": 43,
          "frequency": 4,
          "timestep": 505
         },
         {
          "bit": 1,
          "duration": 44,
          "frequency": 7,
          "timestep": 505
         },
         {
          "bit": 1,
          "duration": 45,
          "frequency": 9,
          "timestep": 505
         },
         {
          "bit": 1,
          "duration": 46,
          "frequency": 11,
          "timestep": 505
         },
         {
          "bit": 1,
          "duration": 47,
          "frequency": 5,
          "timestep": 505
         },
         {
          "bit": 1,
          "duration": 48,
          "frequency": 7,
          "timestep": 505
         },
         {
          "bit": 1,
          "duration": 49,
          "frequency": 6,
          "timestep": 505
         },
         {
          "bit": 1,
          "duration": 50,
          "frequency": 8,
          "timestep": 505
         },
         {
          "bit": 1,
          "duration": 51,
          "frequency": 4,
          "timestep": 505
         },
         {
          "bit": 1,
          "duration": 52,
          "frequency": 4,
          "timestep": 505
         },
         {
          "bit": 1,
          "duration": 53,
          "frequency": 4,
          "timestep": 505
         },
         {
          "bit": 1,
          "duration": 54,
          "frequency": 4,
          "timestep": 505
         },
         {
          "bit": 1,
          "duration": 55,
          "frequency": 4,
          "timestep": 505
         },
         {
          "bit": 1,
          "duration": 56,
          "frequency": 7,
          "timestep": 505
         },
         {
          "bit": 1,
          "duration": 57,
          "frequency": 6,
          "timestep": 505
         },
         {
          "bit": 1,
          "duration": 58,
          "frequency": 4,
          "timestep": 505
         },
         {
          "bit": 1,
          "duration": 59,
          "frequency": 2,
          "timestep": 505
         },
         {
          "bit": 1,
          "duration": 60,
          "frequency": 6,
          "timestep": 505
         },
         {
          "bit": 1,
          "duration": 61,
          "frequency": 3,
          "timestep": 505
         },
         {
          "bit": 1,
          "duration": 62,
          "frequency": 2,
          "timestep": 505
         },
         {
          "bit": 1,
          "duration": 63,
          "frequency": 2,
          "timestep": 505
         },
         {
          "bit": 1,
          "duration": 65,
          "frequency": 4,
          "timestep": 505
         },
         {
          "bit": 1,
          "duration": 66,
          "frequency": 5,
          "timestep": 505
         },
         {
          "bit": 1,
          "duration": 69,
          "frequency": 5,
          "timestep": 505
         },
         {
          "bit": 1,
          "duration": 70,
          "frequency": 4,
          "timestep": 505
         },
         {
          "bit": 1,
          "duration": 71,
          "frequency": 2,
          "timestep": 505
         },
         {
          "bit": 1,
          "duration": 72,
          "frequency": 3,
          "timestep": 505
         },
         {
          "bit": 1,
          "duration": 73,
          "frequency": 2,
          "timestep": 505
         },
         {
          "bit": 1,
          "duration": 74,
          "frequency": 5,
          "timestep": 505
         },
         {
          "bit": 1,
          "duration": 76,
          "frequency": 2,
          "timestep": 505
         },
         {
          "bit": 1,
          "duration": 77,
          "frequency": 1,
          "timestep": 505
         },
         {
          "bit": 1,
          "duration": 78,
          "frequency": 2,
          "timestep": 505
         },
         {
          "bit": 1,
          "duration": 79,
          "frequency": 2,
          "timestep": 505
         },
         {
          "bit": 1,
          "duration": 80,
          "frequency": 2,
          "timestep": 505
         },
         {
          "bit": 1,
          "duration": 81,
          "frequency": 1,
          "timestep": 505
         },
         {
          "bit": 1,
          "duration": 82,
          "frequency": 1,
          "timestep": 505
         },
         {
          "bit": 1,
          "duration": 84,
          "frequency": 2,
          "timestep": 505
         },
         {
          "bit": 1,
          "duration": 85,
          "frequency": 4,
          "timestep": 505
         },
         {
          "bit": 1,
          "duration": 86,
          "frequency": 2,
          "timestep": 505
         },
         {
          "bit": 1,
          "duration": 87,
          "frequency": 2,
          "timestep": 505
         },
         {
          "bit": 1,
          "duration": 88,
          "frequency": 1,
          "timestep": 505
         },
         {
          "bit": 1,
          "duration": 89,
          "frequency": 1,
          "timestep": 505
         },
         {
          "bit": 1,
          "duration": 91,
          "frequency": 1,
          "timestep": 505
         },
         {
          "bit": 1,
          "duration": 93,
          "frequency": 2,
          "timestep": 505
         },
         {
          "bit": 1,
          "duration": 94,
          "frequency": 1,
          "timestep": 505
         },
         {
          "bit": 1,
          "duration": 95,
          "frequency": 2,
          "timestep": 505
         },
         {
          "bit": 1,
          "duration": 96,
          "frequency": 2,
          "timestep": 505
         },
         {
          "bit": 1,
          "duration": 97,
          "frequency": 1,
          "timestep": 505
         },
         {
          "bit": 1,
          "duration": 100,
          "frequency": 1,
          "timestep": 505
         },
         {
          "bit": 1,
          "duration": 101,
          "frequency": 1,
          "timestep": 505
         },
         {
          "bit": 1,
          "duration": 102,
          "frequency": 1,
          "timestep": 505
         },
         {
          "bit": 1,
          "duration": 103,
          "frequency": 1,
          "timestep": 505
         },
         {
          "bit": 1,
          "duration": 104,
          "frequency": 1,
          "timestep": 505
         },
         {
          "bit": 1,
          "duration": 106,
          "frequency": 1,
          "timestep": 505
         },
         {
          "bit": 1,
          "duration": 107,
          "frequency": 1,
          "timestep": 505
         },
         {
          "bit": 1,
          "duration": 108,
          "frequency": 1,
          "timestep": 505
         },
         {
          "bit": 1,
          "duration": 110,
          "frequency": 1,
          "timestep": 505
         },
         {
          "bit": 1,
          "duration": 116,
          "frequency": 1,
          "timestep": 505
         },
         {
          "bit": 1,
          "duration": 117,
          "frequency": 1,
          "timestep": 505
         },
         {
          "bit": 1,
          "duration": 123,
          "frequency": 1,
          "timestep": 505
         },
         {
          "bit": 1,
          "duration": 124,
          "frequency": 1,
          "timestep": 505
         },
         {
          "bit": 1,
          "duration": 125,
          "frequency": 1,
          "timestep": 505
         },
         {
          "bit": 1,
          "duration": 127,
          "frequency": 1,
          "timestep": 505
         },
         {
          "bit": 1,
          "duration": 131,
          "frequency": 1,
          "timestep": 505
         },
         {
          "bit": 1,
          "duration": 132,
          "frequency": 1,
          "timestep": 505
         },
         {
          "bit": 1,
          "duration": 136,
          "frequency": 1,
          "timestep": 505
         },
         {
          "bit": 1,
          "duration": 139,
          "frequency": 2,
          "timestep": 505
         },
         {
          "bit": 1,
          "duration": 143,
          "frequency": 1,
          "timestep": 505
         },
         {
          "bit": 1,
          "duration": 146,
          "frequency": 1,
          "timestep": 505
         },
         {
          "bit": 1,
          "duration": 159,
          "frequency": 1,
          "timestep": 505
         },
         {
          "bit": 1,
          "duration": 172,
          "frequency": 1,
          "timestep": 505
         },
         {
          "bit": 1,
          "duration": 181,
          "frequency": 1,
          "timestep": 505
         },
         {
          "bit": 1,
          "duration": 187,
          "frequency": 1,
          "timestep": 505
         },
         {
          "bit": 1,
          "duration": 201,
          "frequency": 1,
          "timestep": 505
         },
         {
          "bit": 1,
          "duration": 212,
          "frequency": 1,
          "timestep": 505
         },
         {
          "bit": 1,
          "duration": 1,
          "frequency": 82823,
          "timestep": 605
         },
         {
          "bit": 1,
          "duration": 2,
          "frequency": 34778,
          "timestep": 605
         },
         {
          "bit": 1,
          "duration": 3,
          "frequency": 4683,
          "timestep": 605
         },
         {
          "bit": 1,
          "duration": 4,
          "frequency": 1851,
          "timestep": 605
         },
         {
          "bit": 1,
          "duration": 5,
          "frequency": 1011,
          "timestep": 605
         },
         {
          "bit": 1,
          "duration": 6,
          "frequency": 548,
          "timestep": 605
         },
         {
          "bit": 1,
          "duration": 7,
          "frequency": 372,
          "timestep": 605
         },
         {
          "bit": 1,
          "duration": 8,
          "frequency": 243,
          "timestep": 605
         },
         {
          "bit": 1,
          "duration": 9,
          "frequency": 156,
          "timestep": 605
         },
         {
          "bit": 1,
          "duration": 10,
          "frequency": 118,
          "timestep": 605
         },
         {
          "bit": 1,
          "duration": 11,
          "frequency": 93,
          "timestep": 605
         },
         {
          "bit": 1,
          "duration": 12,
          "frequency": 78,
          "timestep": 605
         },
         {
          "bit": 1,
          "duration": 13,
          "frequency": 65,
          "timestep": 605
         },
         {
          "bit": 1,
          "duration": 14,
          "frequency": 43,
          "timestep": 605
         },
         {
          "bit": 1,
          "duration": 15,
          "frequency": 35,
          "timestep": 605
         },
         {
          "bit": 1,
          "duration": 16,
          "frequency": 32,
          "timestep": 605
         },
         {
          "bit": 1,
          "duration": 17,
          "frequency": 37,
          "timestep": 605
         },
         {
          "bit": 1,
          "duration": 18,
          "frequency": 32,
          "timestep": 605
         },
         {
          "bit": 1,
          "duration": 19,
          "frequency": 19,
          "timestep": 605
         },
         {
          "bit": 1,
          "duration": 20,
          "frequency": 18,
          "timestep": 605
         },
         {
          "bit": 1,
          "duration": 21,
          "frequency": 15,
          "timestep": 605
         },
         {
          "bit": 1,
          "duration": 22,
          "frequency": 21,
          "timestep": 605
         },
         {
          "bit": 1,
          "duration": 23,
          "frequency": 8,
          "timestep": 605
         },
         {
          "bit": 1,
          "duration": 24,
          "frequency": 28,
          "timestep": 605
         },
         {
          "bit": 1,
          "duration": 25,
          "frequency": 14,
          "timestep": 605
         },
         {
          "bit": 1,
          "duration": 26,
          "frequency": 17,
          "timestep": 605
         },
         {
          "bit": 1,
          "duration": 27,
          "frequency": 17,
          "timestep": 605
         },
         {
          "bit": 1,
          "duration": 28,
          "frequency": 14,
          "timestep": 605
         },
         {
          "bit": 1,
          "duration": 29,
          "frequency": 14,
          "timestep": 605
         },
         {
          "bit": 1,
          "duration": 30,
          "frequency": 11,
          "timestep": 605
         },
         {
          "bit": 1,
          "duration": 31,
          "frequency": 19,
          "timestep": 605
         },
         {
          "bit": 1,
          "duration": 32,
          "frequency": 13,
          "timestep": 605
         },
         {
          "bit": 1,
          "duration": 33,
          "frequency": 11,
          "timestep": 605
         },
         {
          "bit": 1,
          "duration": 34,
          "frequency": 11,
          "timestep": 605
         },
         {
          "bit": 1,
          "duration": 35,
          "frequency": 11,
          "timestep": 605
         },
         {
          "bit": 1,
          "duration": 36,
          "frequency": 7,
          "timestep": 605
         },
         {
          "bit": 1,
          "duration": 37,
          "frequency": 11,
          "timestep": 605
         },
         {
          "bit": 1,
          "duration": 38,
          "frequency": 8,
          "timestep": 605
         },
         {
          "bit": 1,
          "duration": 39,
          "frequency": 15,
          "timestep": 605
         },
         {
          "bit": 1,
          "duration": 40,
          "frequency": 10,
          "timestep": 605
         },
         {
          "bit": 1,
          "duration": 41,
          "frequency": 5,
          "timestep": 605
         },
         {
          "bit": 1,
          "duration": 42,
          "frequency": 6,
          "timestep": 605
         },
         {
          "bit": 1,
          "duration": 43,
          "frequency": 5,
          "timestep": 605
         },
         {
          "bit": 1,
          "duration": 44,
          "frequency": 11,
          "timestep": 605
         },
         {
          "bit": 1,
          "duration": 45,
          "frequency": 3,
          "timestep": 605
         },
         {
          "bit": 1,
          "duration": 46,
          "frequency": 4,
          "timestep": 605
         },
         {
          "bit": 1,
          "duration": 47,
          "frequency": 4,
          "timestep": 605
         },
         {
          "bit": 1,
          "duration": 48,
          "frequency": 3,
          "timestep": 605
         },
         {
          "bit": 1,
          "duration": 49,
          "frequency": 5,
          "timestep": 605
         },
         {
          "bit": 1,
          "duration": 50,
          "frequency": 4,
          "timestep": 605
         },
         {
          "bit": 1,
          "duration": 51,
          "frequency": 7,
          "timestep": 605
         },
         {
          "bit": 1,
          "duration": 52,
          "frequency": 3,
          "timestep": 605
         },
         {
          "bit": 1,
          "duration": 53,
          "frequency": 3,
          "timestep": 605
         },
         {
          "bit": 1,
          "duration": 54,
          "frequency": 6,
          "timestep": 605
         },
         {
          "bit": 1,
          "duration": 55,
          "frequency": 4,
          "timestep": 605
         },
         {
          "bit": 1,
          "duration": 56,
          "frequency": 5,
          "timestep": 605
         },
         {
          "bit": 1,
          "duration": 57,
          "frequency": 3,
          "timestep": 605
         },
         {
          "bit": 1,
          "duration": 58,
          "frequency": 4,
          "timestep": 605
         },
         {
          "bit": 1,
          "duration": 59,
          "frequency": 4,
          "timestep": 605
         },
         {
          "bit": 1,
          "duration": 60,
          "frequency": 6,
          "timestep": 605
         },
         {
          "bit": 1,
          "duration": 61,
          "frequency": 3,
          "timestep": 605
         },
         {
          "bit": 1,
          "duration": 62,
          "frequency": 6,
          "timestep": 605
         },
         {
          "bit": 1,
          "duration": 63,
          "frequency": 4,
          "timestep": 605
         },
         {
          "bit": 1,
          "duration": 64,
          "frequency": 5,
          "timestep": 605
         },
         {
          "bit": 1,
          "duration": 65,
          "frequency": 1,
          "timestep": 605
         },
         {
          "bit": 1,
          "duration": 66,
          "frequency": 5,
          "timestep": 605
         },
         {
          "bit": 1,
          "duration": 67,
          "frequency": 3,
          "timestep": 605
         },
         {
          "bit": 1,
          "duration": 68,
          "frequency": 5,
          "timestep": 605
         },
         {
          "bit": 1,
          "duration": 69,
          "frequency": 4,
          "timestep": 605
         },
         {
          "bit": 1,
          "duration": 70,
          "frequency": 1,
          "timestep": 605
         },
         {
          "bit": 1,
          "duration": 71,
          "frequency": 2,
          "timestep": 605
         },
         {
          "bit": 1,
          "duration": 72,
          "frequency": 1,
          "timestep": 605
         },
         {
          "bit": 1,
          "duration": 73,
          "frequency": 1,
          "timestep": 605
         },
         {
          "bit": 1,
          "duration": 74,
          "frequency": 1,
          "timestep": 605
         },
         {
          "bit": 1,
          "duration": 75,
          "frequency": 1,
          "timestep": 605
         },
         {
          "bit": 1,
          "duration": 77,
          "frequency": 1,
          "timestep": 605
         },
         {
          "bit": 1,
          "duration": 78,
          "frequency": 1,
          "timestep": 605
         },
         {
          "bit": 1,
          "duration": 79,
          "frequency": 1,
          "timestep": 605
         },
         {
          "bit": 1,
          "duration": 80,
          "frequency": 3,
          "timestep": 605
         },
         {
          "bit": 1,
          "duration": 81,
          "frequency": 2,
          "timestep": 605
         },
         {
          "bit": 1,
          "duration": 82,
          "frequency": 1,
          "timestep": 605
         },
         {
          "bit": 1,
          "duration": 83,
          "frequency": 2,
          "timestep": 605
         },
         {
          "bit": 1,
          "duration": 84,
          "frequency": 1,
          "timestep": 605
         },
         {
          "bit": 1,
          "duration": 85,
          "frequency": 2,
          "timestep": 605
         },
         {
          "bit": 1,
          "duration": 86,
          "frequency": 1,
          "timestep": 605
         },
         {
          "bit": 1,
          "duration": 87,
          "frequency": 1,
          "timestep": 605
         },
         {
          "bit": 1,
          "duration": 88,
          "frequency": 1,
          "timestep": 605
         },
         {
          "bit": 1,
          "duration": 89,
          "frequency": 2,
          "timestep": 605
         },
         {
          "bit": 1,
          "duration": 90,
          "frequency": 1,
          "timestep": 605
         },
         {
          "bit": 1,
          "duration": 92,
          "frequency": 2,
          "timestep": 605
         },
         {
          "bit": 1,
          "duration": 93,
          "frequency": 3,
          "timestep": 605
         },
         {
          "bit": 1,
          "duration": 95,
          "frequency": 1,
          "timestep": 605
         },
         {
          "bit": 1,
          "duration": 97,
          "frequency": 1,
          "timestep": 605
         },
         {
          "bit": 1,
          "duration": 99,
          "frequency": 1,
          "timestep": 605
         },
         {
          "bit": 1,
          "duration": 100,
          "frequency": 1,
          "timestep": 605
         },
         {
          "bit": 1,
          "duration": 103,
          "frequency": 1,
          "timestep": 605
         },
         {
          "bit": 1,
          "duration": 104,
          "frequency": 1,
          "timestep": 605
         },
         {
          "bit": 1,
          "duration": 105,
          "frequency": 1,
          "timestep": 605
         },
         {
          "bit": 1,
          "duration": 107,
          "frequency": 1,
          "timestep": 605
         },
         {
          "bit": 1,
          "duration": 109,
          "frequency": 1,
          "timestep": 605
         },
         {
          "bit": 1,
          "duration": 111,
          "frequency": 1,
          "timestep": 605
         },
         {
          "bit": 1,
          "duration": 113,
          "frequency": 1,
          "timestep": 605
         },
         {
          "bit": 1,
          "duration": 117,
          "frequency": 1,
          "timestep": 605
         },
         {
          "bit": 1,
          "duration": 120,
          "frequency": 2,
          "timestep": 605
         },
         {
          "bit": 1,
          "duration": 126,
          "frequency": 1,
          "timestep": 605
         },
         {
          "bit": 1,
          "duration": 140,
          "frequency": 1,
          "timestep": 605
         },
         {
          "bit": 1,
          "duration": 143,
          "frequency": 1,
          "timestep": 605
         },
         {
          "bit": 1,
          "duration": 176,
          "frequency": 1,
          "timestep": 605
         },
         {
          "bit": 1,
          "duration": 1,
          "frequency": 87190,
          "timestep": 705
         },
         {
          "bit": 1,
          "duration": 2,
          "frequency": 30287,
          "timestep": 705
         },
         {
          "bit": 1,
          "duration": 3,
          "frequency": 6974,
          "timestep": 705
         },
         {
          "bit": 1,
          "duration": 4,
          "frequency": 2584,
          "timestep": 705
         },
         {
          "bit": 1,
          "duration": 5,
          "frequency": 1087,
          "timestep": 705
         },
         {
          "bit": 1,
          "duration": 6,
          "frequency": 591,
          "timestep": 705
         },
         {
          "bit": 1,
          "duration": 7,
          "frequency": 292,
          "timestep": 705
         },
         {
          "bit": 1,
          "duration": 8,
          "frequency": 188,
          "timestep": 705
         },
         {
          "bit": 1,
          "duration": 9,
          "frequency": 137,
          "timestep": 705
         },
         {
          "bit": 1,
          "duration": 10,
          "frequency": 138,
          "timestep": 705
         },
         {
          "bit": 1,
          "duration": 11,
          "frequency": 100,
          "timestep": 705
         },
         {
          "bit": 1,
          "duration": 12,
          "frequency": 91,
          "timestep": 705
         },
         {
          "bit": 1,
          "duration": 13,
          "frequency": 81,
          "timestep": 705
         },
         {
          "bit": 1,
          "duration": 14,
          "frequency": 57,
          "timestep": 705
         },
         {
          "bit": 1,
          "duration": 15,
          "frequency": 61,
          "timestep": 705
         },
         {
          "bit": 1,
          "duration": 16,
          "frequency": 52,
          "timestep": 705
         },
         {
          "bit": 1,
          "duration": 17,
          "frequency": 59,
          "timestep": 705
         },
         {
          "bit": 1,
          "duration": 18,
          "frequency": 56,
          "timestep": 705
         },
         {
          "bit": 1,
          "duration": 19,
          "frequency": 39,
          "timestep": 705
         },
         {
          "bit": 1,
          "duration": 20,
          "frequency": 46,
          "timestep": 705
         },
         {
          "bit": 1,
          "duration": 21,
          "frequency": 46,
          "timestep": 705
         },
         {
          "bit": 1,
          "duration": 22,
          "frequency": 42,
          "timestep": 705
         },
         {
          "bit": 1,
          "duration": 23,
          "frequency": 35,
          "timestep": 705
         },
         {
          "bit": 1,
          "duration": 24,
          "frequency": 31,
          "timestep": 705
         },
         {
          "bit": 1,
          "duration": 25,
          "frequency": 40,
          "timestep": 705
         },
         {
          "bit": 1,
          "duration": 26,
          "frequency": 35,
          "timestep": 705
         },
         {
          "bit": 1,
          "duration": 27,
          "frequency": 23,
          "timestep": 705
         },
         {
          "bit": 1,
          "duration": 28,
          "frequency": 39,
          "timestep": 705
         },
         {
          "bit": 1,
          "duration": 29,
          "frequency": 36,
          "timestep": 705
         },
         {
          "bit": 1,
          "duration": 30,
          "frequency": 33,
          "timestep": 705
         },
         {
          "bit": 1,
          "duration": 31,
          "frequency": 29,
          "timestep": 705
         },
         {
          "bit": 1,
          "duration": 32,
          "frequency": 27,
          "timestep": 705
         },
         {
          "bit": 1,
          "duration": 33,
          "frequency": 35,
          "timestep": 705
         },
         {
          "bit": 1,
          "duration": 34,
          "frequency": 22,
          "timestep": 705
         },
         {
          "bit": 1,
          "duration": 35,
          "frequency": 26,
          "timestep": 705
         },
         {
          "bit": 1,
          "duration": 36,
          "frequency": 22,
          "timestep": 705
         },
         {
          "bit": 1,
          "duration": 37,
          "frequency": 21,
          "timestep": 705
         },
         {
          "bit": 1,
          "duration": 38,
          "frequency": 11,
          "timestep": 705
         },
         {
          "bit": 1,
          "duration": 39,
          "frequency": 18,
          "timestep": 705
         },
         {
          "bit": 1,
          "duration": 40,
          "frequency": 8,
          "timestep": 705
         },
         {
          "bit": 1,
          "duration": 41,
          "frequency": 19,
          "timestep": 705
         },
         {
          "bit": 1,
          "duration": 42,
          "frequency": 17,
          "timestep": 705
         },
         {
          "bit": 1,
          "duration": 43,
          "frequency": 22,
          "timestep": 705
         },
         {
          "bit": 1,
          "duration": 44,
          "frequency": 12,
          "timestep": 705
         },
         {
          "bit": 1,
          "duration": 45,
          "frequency": 20,
          "timestep": 705
         },
         {
          "bit": 1,
          "duration": 46,
          "frequency": 20,
          "timestep": 705
         },
         {
          "bit": 1,
          "duration": 47,
          "frequency": 12,
          "timestep": 705
         },
         {
          "bit": 1,
          "duration": 48,
          "frequency": 12,
          "timestep": 705
         },
         {
          "bit": 1,
          "duration": 49,
          "frequency": 11,
          "timestep": 705
         },
         {
          "bit": 1,
          "duration": 50,
          "frequency": 10,
          "timestep": 705
         },
         {
          "bit": 1,
          "duration": 51,
          "frequency": 12,
          "timestep": 705
         },
         {
          "bit": 1,
          "duration": 52,
          "frequency": 8,
          "timestep": 705
         },
         {
          "bit": 1,
          "duration": 53,
          "frequency": 10,
          "timestep": 705
         },
         {
          "bit": 1,
          "duration": 54,
          "frequency": 10,
          "timestep": 705
         },
         {
          "bit": 1,
          "duration": 55,
          "frequency": 9,
          "timestep": 705
         },
         {
          "bit": 1,
          "duration": 56,
          "frequency": 6,
          "timestep": 705
         },
         {
          "bit": 1,
          "duration": 57,
          "frequency": 5,
          "timestep": 705
         },
         {
          "bit": 1,
          "duration": 58,
          "frequency": 12,
          "timestep": 705
         },
         {
          "bit": 1,
          "duration": 59,
          "frequency": 4,
          "timestep": 705
         },
         {
          "bit": 1,
          "duration": 60,
          "frequency": 4,
          "timestep": 705
         },
         {
          "bit": 1,
          "duration": 61,
          "frequency": 2,
          "timestep": 705
         },
         {
          "bit": 1,
          "duration": 62,
          "frequency": 5,
          "timestep": 705
         },
         {
          "bit": 1,
          "duration": 63,
          "frequency": 10,
          "timestep": 705
         },
         {
          "bit": 1,
          "duration": 64,
          "frequency": 1,
          "timestep": 705
         },
         {
          "bit": 1,
          "duration": 65,
          "frequency": 3,
          "timestep": 705
         },
         {
          "bit": 1,
          "duration": 66,
          "frequency": 3,
          "timestep": 705
         },
         {
          "bit": 1,
          "duration": 67,
          "frequency": 5,
          "timestep": 705
         },
         {
          "bit": 1,
          "duration": 68,
          "frequency": 5,
          "timestep": 705
         },
         {
          "bit": 1,
          "duration": 69,
          "frequency": 3,
          "timestep": 705
         },
         {
          "bit": 1,
          "duration": 70,
          "frequency": 2,
          "timestep": 705
         },
         {
          "bit": 1,
          "duration": 71,
          "frequency": 3,
          "timestep": 705
         },
         {
          "bit": 1,
          "duration": 72,
          "frequency": 1,
          "timestep": 705
         },
         {
          "bit": 1,
          "duration": 73,
          "frequency": 1,
          "timestep": 705
         },
         {
          "bit": 1,
          "duration": 74,
          "frequency": 6,
          "timestep": 705
         },
         {
          "bit": 1,
          "duration": 75,
          "frequency": 6,
          "timestep": 705
         },
         {
          "bit": 1,
          "duration": 76,
          "frequency": 4,
          "timestep": 705
         },
         {
          "bit": 1,
          "duration": 77,
          "frequency": 1,
          "timestep": 705
         },
         {
          "bit": 1,
          "duration": 78,
          "frequency": 1,
          "timestep": 705
         },
         {
          "bit": 1,
          "duration": 79,
          "frequency": 3,
          "timestep": 705
         },
         {
          "bit": 1,
          "duration": 81,
          "frequency": 3,
          "timestep": 705
         },
         {
          "bit": 1,
          "duration": 82,
          "frequency": 2,
          "timestep": 705
         },
         {
          "bit": 1,
          "duration": 83,
          "frequency": 1,
          "timestep": 705
         },
         {
          "bit": 1,
          "duration": 84,
          "frequency": 1,
          "timestep": 705
         },
         {
          "bit": 1,
          "duration": 85,
          "frequency": 1,
          "timestep": 705
         },
         {
          "bit": 1,
          "duration": 86,
          "frequency": 4,
          "timestep": 705
         },
         {
          "bit": 1,
          "duration": 87,
          "frequency": 1,
          "timestep": 705
         },
         {
          "bit": 1,
          "duration": 88,
          "frequency": 1,
          "timestep": 705
         },
         {
          "bit": 1,
          "duration": 89,
          "frequency": 1,
          "timestep": 705
         },
         {
          "bit": 1,
          "duration": 90,
          "frequency": 1,
          "timestep": 705
         },
         {
          "bit": 1,
          "duration": 91,
          "frequency": 3,
          "timestep": 705
         },
         {
          "bit": 1,
          "duration": 92,
          "frequency": 3,
          "timestep": 705
         },
         {
          "bit": 1,
          "duration": 93,
          "frequency": 1,
          "timestep": 705
         },
         {
          "bit": 1,
          "duration": 94,
          "frequency": 2,
          "timestep": 705
         },
         {
          "bit": 1,
          "duration": 96,
          "frequency": 1,
          "timestep": 705
         },
         {
          "bit": 1,
          "duration": 97,
          "frequency": 2,
          "timestep": 705
         },
         {
          "bit": 1,
          "duration": 102,
          "frequency": 1,
          "timestep": 705
         },
         {
          "bit": 1,
          "duration": 103,
          "frequency": 3,
          "timestep": 705
         },
         {
          "bit": 1,
          "duration": 106,
          "frequency": 1,
          "timestep": 705
         },
         {
          "bit": 1,
          "duration": 107,
          "frequency": 1,
          "timestep": 705
         },
         {
          "bit": 1,
          "duration": 109,
          "frequency": 1,
          "timestep": 705
         },
         {
          "bit": 1,
          "duration": 111,
          "frequency": 1,
          "timestep": 705
         },
         {
          "bit": 1,
          "duration": 112,
          "frequency": 1,
          "timestep": 705
         },
         {
          "bit": 1,
          "duration": 113,
          "frequency": 1,
          "timestep": 705
         },
         {
          "bit": 1,
          "duration": 117,
          "frequency": 1,
          "timestep": 705
         },
         {
          "bit": 1,
          "duration": 122,
          "frequency": 1,
          "timestep": 705
         },
         {
          "bit": 1,
          "duration": 126,
          "frequency": 2,
          "timestep": 705
         },
         {
          "bit": 1,
          "duration": 127,
          "frequency": 1,
          "timestep": 705
         },
         {
          "bit": 1,
          "duration": 135,
          "frequency": 1,
          "timestep": 705
         },
         {
          "bit": 1,
          "duration": 1,
          "frequency": 93549,
          "timestep": 805
         },
         {
          "bit": 1,
          "duration": 2,
          "frequency": 32818,
          "timestep": 805
         },
         {
          "bit": 1,
          "duration": 3,
          "frequency": 5836,
          "timestep": 805
         },
         {
          "bit": 1,
          "duration": 4,
          "frequency": 2178,
          "timestep": 805
         },
         {
          "bit": 1,
          "duration": 5,
          "frequency": 1034,
          "timestep": 805
         },
         {
          "bit": 1,
          "duration": 6,
          "frequency": 519,
          "timestep": 805
         },
         {
          "bit": 1,
          "duration": 7,
          "frequency": 318,
          "timestep": 805
         },
         {
          "bit": 1,
          "duration": 8,
          "frequency": 229,
          "timestep": 805
         },
         {
          "bit": 1,
          "duration": 9,
          "frequency": 155,
          "timestep": 805
         },
         {
          "bit": 1,
          "duration": 10,
          "frequency": 105,
          "timestep": 805
         },
         {
          "bit": 1,
          "duration": 11,
          "frequency": 102,
          "timestep": 805
         },
         {
          "bit": 1,
          "duration": 12,
          "frequency": 80,
          "timestep": 805
         },
         {
          "bit": 1,
          "duration": 13,
          "frequency": 99,
          "timestep": 805
         },
         {
          "bit": 1,
          "duration": 14,
          "frequency": 88,
          "timestep": 805
         },
         {
          "bit": 1,
          "duration": 15,
          "frequency": 75,
          "timestep": 805
         },
         {
          "bit": 1,
          "duration": 16,
          "frequency": 66,
          "timestep": 805
         },
         {
          "bit": 1,
          "duration": 17,
          "frequency": 73,
          "timestep": 805
         },
         {
          "bit": 1,
          "duration": 18,
          "frequency": 47,
          "timestep": 805
         },
         {
          "bit": 1,
          "duration": 19,
          "frequency": 67,
          "timestep": 805
         },
         {
          "bit": 1,
          "duration": 20,
          "frequency": 68,
          "timestep": 805
         },
         {
          "bit": 1,
          "duration": 21,
          "frequency": 45,
          "timestep": 805
         },
         {
          "bit": 1,
          "duration": 22,
          "frequency": 44,
          "timestep": 805
         },
         {
          "bit": 1,
          "duration": 23,
          "frequency": 51,
          "timestep": 805
         },
         {
          "bit": 1,
          "duration": 24,
          "frequency": 45,
          "timestep": 805
         },
         {
          "bit": 1,
          "duration": 25,
          "frequency": 33,
          "timestep": 805
         },
         {
          "bit": 1,
          "duration": 26,
          "frequency": 39,
          "timestep": 805
         },
         {
          "bit": 1,
          "duration": 27,
          "frequency": 30,
          "timestep": 805
         },
         {
          "bit": 1,
          "duration": 28,
          "frequency": 34,
          "timestep": 805
         },
         {
          "bit": 1,
          "duration": 29,
          "frequency": 34,
          "timestep": 805
         },
         {
          "bit": 1,
          "duration": 30,
          "frequency": 33,
          "timestep": 805
         },
         {
          "bit": 1,
          "duration": 31,
          "frequency": 21,
          "timestep": 805
         },
         {
          "bit": 1,
          "duration": 32,
          "frequency": 30,
          "timestep": 805
         },
         {
          "bit": 1,
          "duration": 33,
          "frequency": 31,
          "timestep": 805
         },
         {
          "bit": 1,
          "duration": 34,
          "frequency": 24,
          "timestep": 805
         },
         {
          "bit": 1,
          "duration": 35,
          "frequency": 25,
          "timestep": 805
         },
         {
          "bit": 1,
          "duration": 36,
          "frequency": 23,
          "timestep": 805
         },
         {
          "bit": 1,
          "duration": 37,
          "frequency": 18,
          "timestep": 805
         },
         {
          "bit": 1,
          "duration": 38,
          "frequency": 13,
          "timestep": 805
         },
         {
          "bit": 1,
          "duration": 39,
          "frequency": 15,
          "timestep": 805
         },
         {
          "bit": 1,
          "duration": 40,
          "frequency": 10,
          "timestep": 805
         },
         {
          "bit": 1,
          "duration": 41,
          "frequency": 17,
          "timestep": 805
         },
         {
          "bit": 1,
          "duration": 42,
          "frequency": 11,
          "timestep": 805
         },
         {
          "bit": 1,
          "duration": 43,
          "frequency": 15,
          "timestep": 805
         },
         {
          "bit": 1,
          "duration": 44,
          "frequency": 11,
          "timestep": 805
         },
         {
          "bit": 1,
          "duration": 45,
          "frequency": 12,
          "timestep": 805
         },
         {
          "bit": 1,
          "duration": 46,
          "frequency": 11,
          "timestep": 805
         },
         {
          "bit": 1,
          "duration": 47,
          "frequency": 6,
          "timestep": 805
         },
         {
          "bit": 1,
          "duration": 48,
          "frequency": 12,
          "timestep": 805
         },
         {
          "bit": 1,
          "duration": 49,
          "frequency": 10,
          "timestep": 805
         },
         {
          "bit": 1,
          "duration": 50,
          "frequency": 13,
          "timestep": 805
         },
         {
          "bit": 1,
          "duration": 51,
          "frequency": 12,
          "timestep": 805
         },
         {
          "bit": 1,
          "duration": 52,
          "frequency": 9,
          "timestep": 805
         },
         {
          "bit": 1,
          "duration": 53,
          "frequency": 8,
          "timestep": 805
         },
         {
          "bit": 1,
          "duration": 54,
          "frequency": 10,
          "timestep": 805
         },
         {
          "bit": 1,
          "duration": 55,
          "frequency": 1,
          "timestep": 805
         },
         {
          "bit": 1,
          "duration": 56,
          "frequency": 5,
          "timestep": 805
         },
         {
          "bit": 1,
          "duration": 57,
          "frequency": 1,
          "timestep": 805
         },
         {
          "bit": 1,
          "duration": 58,
          "frequency": 8,
          "timestep": 805
         },
         {
          "bit": 1,
          "duration": 59,
          "frequency": 2,
          "timestep": 805
         },
         {
          "bit": 1,
          "duration": 60,
          "frequency": 9,
          "timestep": 805
         },
         {
          "bit": 1,
          "duration": 61,
          "frequency": 9,
          "timestep": 805
         },
         {
          "bit": 1,
          "duration": 62,
          "frequency": 3,
          "timestep": 805
         },
         {
          "bit": 1,
          "duration": 63,
          "frequency": 1,
          "timestep": 805
         },
         {
          "bit": 1,
          "duration": 64,
          "frequency": 9,
          "timestep": 805
         },
         {
          "bit": 1,
          "duration": 65,
          "frequency": 9,
          "timestep": 805
         },
         {
          "bit": 1,
          "duration": 66,
          "frequency": 6,
          "timestep": 805
         },
         {
          "bit": 1,
          "duration": 67,
          "frequency": 3,
          "timestep": 805
         },
         {
          "bit": 1,
          "duration": 68,
          "frequency": 3,
          "timestep": 805
         },
         {
          "bit": 1,
          "duration": 69,
          "frequency": 3,
          "timestep": 805
         },
         {
          "bit": 1,
          "duration": 70,
          "frequency": 3,
          "timestep": 805
         },
         {
          "bit": 1,
          "duration": 71,
          "frequency": 3,
          "timestep": 805
         },
         {
          "bit": 1,
          "duration": 73,
          "frequency": 4,
          "timestep": 805
         },
         {
          "bit": 1,
          "duration": 74,
          "frequency": 2,
          "timestep": 805
         },
         {
          "bit": 1,
          "duration": 75,
          "frequency": 3,
          "timestep": 805
         },
         {
          "bit": 1,
          "duration": 76,
          "frequency": 1,
          "timestep": 805
         },
         {
          "bit": 1,
          "duration": 77,
          "frequency": 1,
          "timestep": 805
         },
         {
          "bit": 1,
          "duration": 78,
          "frequency": 2,
          "timestep": 805
         },
         {
          "bit": 1,
          "duration": 79,
          "frequency": 3,
          "timestep": 805
         },
         {
          "bit": 1,
          "duration": 80,
          "frequency": 5,
          "timestep": 805
         },
         {
          "bit": 1,
          "duration": 81,
          "frequency": 2,
          "timestep": 805
         },
         {
          "bit": 1,
          "duration": 82,
          "frequency": 3,
          "timestep": 805
         },
         {
          "bit": 1,
          "duration": 85,
          "frequency": 1,
          "timestep": 805
         },
         {
          "bit": 1,
          "duration": 87,
          "frequency": 2,
          "timestep": 805
         },
         {
          "bit": 1,
          "duration": 88,
          "frequency": 2,
          "timestep": 805
         },
         {
          "bit": 1,
          "duration": 91,
          "frequency": 1,
          "timestep": 805
         },
         {
          "bit": 1,
          "duration": 93,
          "frequency": 1,
          "timestep": 805
         },
         {
          "bit": 1,
          "duration": 94,
          "frequency": 2,
          "timestep": 805
         },
         {
          "bit": 1,
          "duration": 95,
          "frequency": 2,
          "timestep": 805
         },
         {
          "bit": 1,
          "duration": 97,
          "frequency": 2,
          "timestep": 805
         },
         {
          "bit": 1,
          "duration": 100,
          "frequency": 1,
          "timestep": 805
         },
         {
          "bit": 1,
          "duration": 103,
          "frequency": 1,
          "timestep": 805
         },
         {
          "bit": 1,
          "duration": 104,
          "frequency": 1,
          "timestep": 805
         },
         {
          "bit": 1,
          "duration": 113,
          "frequency": 2,
          "timestep": 805
         },
         {
          "bit": 1,
          "duration": 117,
          "frequency": 2,
          "timestep": 805
         },
         {
          "bit": 1,
          "duration": 118,
          "frequency": 1,
          "timestep": 805
         },
         {
          "bit": 1,
          "duration": 122,
          "frequency": 1,
          "timestep": 805
         },
         {
          "bit": 1,
          "duration": 127,
          "frequency": 1,
          "timestep": 805
         },
         {
          "bit": 1,
          "duration": 130,
          "frequency": 2,
          "timestep": 805
         },
         {
          "bit": 1,
          "duration": 143,
          "frequency": 1,
          "timestep": 805
         },
         {
          "bit": 1,
          "duration": 1,
          "frequency": 86058,
          "timestep": 905
         },
         {
          "bit": 1,
          "duration": 2,
          "frequency": 22072,
          "timestep": 905
         },
         {
          "bit": 1,
          "duration": 3,
          "frequency": 6892,
          "timestep": 905
         },
         {
          "bit": 1,
          "duration": 4,
          "frequency": 2866,
          "timestep": 905
         },
         {
          "bit": 1,
          "duration": 5,
          "frequency": 1417,
          "timestep": 905
         },
         {
          "bit": 1,
          "duration": 6,
          "frequency": 709,
          "timestep": 905
         },
         {
          "bit": 1,
          "duration": 7,
          "frequency": 458,
          "timestep": 905
         },
         {
          "bit": 1,
          "duration": 8,
          "frequency": 271,
          "timestep": 905
         },
         {
          "bit": 1,
          "duration": 9,
          "frequency": 212,
          "timestep": 905
         },
         {
          "bit": 1,
          "duration": 10,
          "frequency": 184,
          "timestep": 905
         },
         {
          "bit": 1,
          "duration": 11,
          "frequency": 149,
          "timestep": 905
         },
         {
          "bit": 1,
          "duration": 12,
          "frequency": 126,
          "timestep": 905
         },
         {
          "bit": 1,
          "duration": 13,
          "frequency": 142,
          "timestep": 905
         },
         {
          "bit": 1,
          "duration": 14,
          "frequency": 118,
          "timestep": 905
         },
         {
          "bit": 1,
          "duration": 15,
          "frequency": 94,
          "timestep": 905
         },
         {
          "bit": 1,
          "duration": 16,
          "frequency": 89,
          "timestep": 905
         },
         {
          "bit": 1,
          "duration": 17,
          "frequency": 102,
          "timestep": 905
         },
         {
          "bit": 1,
          "duration": 18,
          "frequency": 90,
          "timestep": 905
         },
         {
          "bit": 1,
          "duration": 19,
          "frequency": 89,
          "timestep": 905
         },
         {
          "bit": 1,
          "duration": 20,
          "frequency": 67,
          "timestep": 905
         },
         {
          "bit": 1,
          "duration": 21,
          "frequency": 91,
          "timestep": 905
         },
         {
          "bit": 1,
          "duration": 22,
          "frequency": 58,
          "timestep": 905
         },
         {
          "bit": 1,
          "duration": 23,
          "frequency": 57,
          "timestep": 905
         },
         {
          "bit": 1,
          "duration": 24,
          "frequency": 49,
          "timestep": 905
         },
         {
          "bit": 1,
          "duration": 25,
          "frequency": 41,
          "timestep": 905
         },
         {
          "bit": 1,
          "duration": 26,
          "frequency": 46,
          "timestep": 905
         },
         {
          "bit": 1,
          "duration": 27,
          "frequency": 46,
          "timestep": 905
         },
         {
          "bit": 1,
          "duration": 28,
          "frequency": 45,
          "timestep": 905
         },
         {
          "bit": 1,
          "duration": 29,
          "frequency": 36,
          "timestep": 905
         },
         {
          "bit": 1,
          "duration": 30,
          "frequency": 38,
          "timestep": 905
         },
         {
          "bit": 1,
          "duration": 31,
          "frequency": 35,
          "timestep": 905
         },
         {
          "bit": 1,
          "duration": 32,
          "frequency": 32,
          "timestep": 905
         },
         {
          "bit": 1,
          "duration": 33,
          "frequency": 25,
          "timestep": 905
         },
         {
          "bit": 1,
          "duration": 34,
          "frequency": 27,
          "timestep": 905
         },
         {
          "bit": 1,
          "duration": 35,
          "frequency": 30,
          "timestep": 905
         },
         {
          "bit": 1,
          "duration": 36,
          "frequency": 18,
          "timestep": 905
         },
         {
          "bit": 1,
          "duration": 37,
          "frequency": 20,
          "timestep": 905
         },
         {
          "bit": 1,
          "duration": 38,
          "frequency": 24,
          "timestep": 905
         },
         {
          "bit": 1,
          "duration": 39,
          "frequency": 22,
          "timestep": 905
         },
         {
          "bit": 1,
          "duration": 40,
          "frequency": 16,
          "timestep": 905
         },
         {
          "bit": 1,
          "duration": 41,
          "frequency": 17,
          "timestep": 905
         },
         {
          "bit": 1,
          "duration": 42,
          "frequency": 14,
          "timestep": 905
         },
         {
          "bit": 1,
          "duration": 43,
          "frequency": 14,
          "timestep": 905
         },
         {
          "bit": 1,
          "duration": 44,
          "frequency": 10,
          "timestep": 905
         },
         {
          "bit": 1,
          "duration": 45,
          "frequency": 10,
          "timestep": 905
         },
         {
          "bit": 1,
          "duration": 46,
          "frequency": 14,
          "timestep": 905
         },
         {
          "bit": 1,
          "duration": 47,
          "frequency": 25,
          "timestep": 905
         },
         {
          "bit": 1,
          "duration": 48,
          "frequency": 8,
          "timestep": 905
         },
         {
          "bit": 1,
          "duration": 49,
          "frequency": 8,
          "timestep": 905
         },
         {
          "bit": 1,
          "duration": 50,
          "frequency": 14,
          "timestep": 905
         },
         {
          "bit": 1,
          "duration": 51,
          "frequency": 12,
          "timestep": 905
         },
         {
          "bit": 1,
          "duration": 52,
          "frequency": 4,
          "timestep": 905
         },
         {
          "bit": 1,
          "duration": 53,
          "frequency": 9,
          "timestep": 905
         },
         {
          "bit": 1,
          "duration": 54,
          "frequency": 10,
          "timestep": 905
         },
         {
          "bit": 1,
          "duration": 55,
          "frequency": 8,
          "timestep": 905
         },
         {
          "bit": 1,
          "duration": 56,
          "frequency": 6,
          "timestep": 905
         },
         {
          "bit": 1,
          "duration": 57,
          "frequency": 4,
          "timestep": 905
         },
         {
          "bit": 1,
          "duration": 58,
          "frequency": 5,
          "timestep": 905
         },
         {
          "bit": 1,
          "duration": 59,
          "frequency": 5,
          "timestep": 905
         },
         {
          "bit": 1,
          "duration": 60,
          "frequency": 8,
          "timestep": 905
         },
         {
          "bit": 1,
          "duration": 61,
          "frequency": 4,
          "timestep": 905
         },
         {
          "bit": 1,
          "duration": 62,
          "frequency": 5,
          "timestep": 905
         },
         {
          "bit": 1,
          "duration": 63,
          "frequency": 8,
          "timestep": 905
         },
         {
          "bit": 1,
          "duration": 64,
          "frequency": 6,
          "timestep": 905
         },
         {
          "bit": 1,
          "duration": 65,
          "frequency": 6,
          "timestep": 905
         },
         {
          "bit": 1,
          "duration": 66,
          "frequency": 4,
          "timestep": 905
         },
         {
          "bit": 1,
          "duration": 67,
          "frequency": 3,
          "timestep": 905
         },
         {
          "bit": 1,
          "duration": 68,
          "frequency": 3,
          "timestep": 905
         },
         {
          "bit": 1,
          "duration": 69,
          "frequency": 5,
          "timestep": 905
         },
         {
          "bit": 1,
          "duration": 70,
          "frequency": 7,
          "timestep": 905
         },
         {
          "bit": 1,
          "duration": 71,
          "frequency": 4,
          "timestep": 905
         },
         {
          "bit": 1,
          "duration": 72,
          "frequency": 3,
          "timestep": 905
         },
         {
          "bit": 1,
          "duration": 73,
          "frequency": 6,
          "timestep": 905
         },
         {
          "bit": 1,
          "duration": 74,
          "frequency": 1,
          "timestep": 905
         },
         {
          "bit": 1,
          "duration": 75,
          "frequency": 2,
          "timestep": 905
         },
         {
          "bit": 1,
          "duration": 76,
          "frequency": 2,
          "timestep": 905
         },
         {
          "bit": 1,
          "duration": 77,
          "frequency": 1,
          "timestep": 905
         },
         {
          "bit": 1,
          "duration": 78,
          "frequency": 1,
          "timestep": 905
         },
         {
          "bit": 1,
          "duration": 80,
          "frequency": 1,
          "timestep": 905
         },
         {
          "bit": 1,
          "duration": 81,
          "frequency": 1,
          "timestep": 905
         },
         {
          "bit": 1,
          "duration": 82,
          "frequency": 2,
          "timestep": 905
         },
         {
          "bit": 1,
          "duration": 83,
          "frequency": 1,
          "timestep": 905
         },
         {
          "bit": 1,
          "duration": 85,
          "frequency": 2,
          "timestep": 905
         },
         {
          "bit": 1,
          "duration": 86,
          "frequency": 1,
          "timestep": 905
         },
         {
          "bit": 1,
          "duration": 87,
          "frequency": 2,
          "timestep": 905
         },
         {
          "bit": 1,
          "duration": 88,
          "frequency": 1,
          "timestep": 905
         },
         {
          "bit": 1,
          "duration": 89,
          "frequency": 1,
          "timestep": 905
         },
         {
          "bit": 1,
          "duration": 90,
          "frequency": 2,
          "timestep": 905
         },
         {
          "bit": 1,
          "duration": 92,
          "frequency": 1,
          "timestep": 905
         },
         {
          "bit": 1,
          "duration": 95,
          "frequency": 1,
          "timestep": 905
         },
         {
          "bit": 1,
          "duration": 96,
          "frequency": 1,
          "timestep": 905
         },
         {
          "bit": 1,
          "duration": 98,
          "frequency": 1,
          "timestep": 905
         },
         {
          "bit": 1,
          "duration": 104,
          "frequency": 1,
          "timestep": 905
         },
         {
          "bit": 1,
          "duration": 112,
          "frequency": 1,
          "timestep": 905
         },
         {
          "bit": 1,
          "duration": 115,
          "frequency": 1,
          "timestep": 905
         },
         {
          "bit": 1,
          "duration": 118,
          "frequency": 1,
          "timestep": 905
         },
         {
          "bit": 1,
          "duration": 1,
          "frequency": 93985,
          "timestep": 1005
         },
         {
          "bit": 1,
          "duration": 2,
          "frequency": 51235,
          "timestep": 1005
         },
         {
          "bit": 1,
          "duration": 3,
          "frequency": 7973,
          "timestep": 1005
         },
         {
          "bit": 1,
          "duration": 4,
          "frequency": 2519,
          "timestep": 1005
         },
         {
          "bit": 1,
          "duration": 5,
          "frequency": 1115,
          "timestep": 1005
         },
         {
          "bit": 1,
          "duration": 6,
          "frequency": 515,
          "timestep": 1005
         },
         {
          "bit": 1,
          "duration": 7,
          "frequency": 272,
          "timestep": 1005
         },
         {
          "bit": 1,
          "duration": 8,
          "frequency": 150,
          "timestep": 1005
         },
         {
          "bit": 1,
          "duration": 9,
          "frequency": 108,
          "timestep": 1005
         },
         {
          "bit": 1,
          "duration": 10,
          "frequency": 93,
          "timestep": 1005
         },
         {
          "bit": 1,
          "duration": 11,
          "frequency": 81,
          "timestep": 1005
         },
         {
          "bit": 1,
          "duration": 12,
          "frequency": 70,
          "timestep": 1005
         },
         {
          "bit": 1,
          "duration": 13,
          "frequency": 67,
          "timestep": 1005
         },
         {
          "bit": 1,
          "duration": 14,
          "frequency": 47,
          "timestep": 1005
         },
         {
          "bit": 1,
          "duration": 15,
          "frequency": 52,
          "timestep": 1005
         },
         {
          "bit": 1,
          "duration": 16,
          "frequency": 40,
          "timestep": 1005
         },
         {
          "bit": 1,
          "duration": 17,
          "frequency": 43,
          "timestep": 1005
         },
         {
          "bit": 1,
          "duration": 18,
          "frequency": 30,
          "timestep": 1005
         },
         {
          "bit": 1,
          "duration": 19,
          "frequency": 39,
          "timestep": 1005
         },
         {
          "bit": 1,
          "duration": 20,
          "frequency": 34,
          "timestep": 1005
         },
         {
          "bit": 1,
          "duration": 21,
          "frequency": 24,
          "timestep": 1005
         },
         {
          "bit": 1,
          "duration": 22,
          "frequency": 30,
          "timestep": 1005
         },
         {
          "bit": 1,
          "duration": 23,
          "frequency": 35,
          "timestep": 1005
         },
         {
          "bit": 1,
          "duration": 24,
          "frequency": 21,
          "timestep": 1005
         },
         {
          "bit": 1,
          "duration": 25,
          "frequency": 34,
          "timestep": 1005
         },
         {
          "bit": 1,
          "duration": 26,
          "frequency": 24,
          "timestep": 1005
         },
         {
          "bit": 1,
          "duration": 27,
          "frequency": 24,
          "timestep": 1005
         },
         {
          "bit": 1,
          "duration": 28,
          "frequency": 13,
          "timestep": 1005
         },
         {
          "bit": 1,
          "duration": 29,
          "frequency": 12,
          "timestep": 1005
         },
         {
          "bit": 1,
          "duration": 30,
          "frequency": 12,
          "timestep": 1005
         },
         {
          "bit": 1,
          "duration": 31,
          "frequency": 14,
          "timestep": 1005
         },
         {
          "bit": 1,
          "duration": 32,
          "frequency": 10,
          "timestep": 1005
         },
         {
          "bit": 1,
          "duration": 33,
          "frequency": 15,
          "timestep": 1005
         },
         {
          "bit": 1,
          "duration": 34,
          "frequency": 9,
          "timestep": 1005
         },
         {
          "bit": 1,
          "duration": 35,
          "frequency": 11,
          "timestep": 1005
         },
         {
          "bit": 1,
          "duration": 36,
          "frequency": 8,
          "timestep": 1005
         },
         {
          "bit": 1,
          "duration": 37,
          "frequency": 9,
          "timestep": 1005
         },
         {
          "bit": 1,
          "duration": 38,
          "frequency": 12,
          "timestep": 1005
         },
         {
          "bit": 1,
          "duration": 39,
          "frequency": 5,
          "timestep": 1005
         },
         {
          "bit": 1,
          "duration": 40,
          "frequency": 8,
          "timestep": 1005
         },
         {
          "bit": 1,
          "duration": 41,
          "frequency": 5,
          "timestep": 1005
         },
         {
          "bit": 1,
          "duration": 42,
          "frequency": 7,
          "timestep": 1005
         },
         {
          "bit": 1,
          "duration": 43,
          "frequency": 6,
          "timestep": 1005
         },
         {
          "bit": 1,
          "duration": 44,
          "frequency": 5,
          "timestep": 1005
         },
         {
          "bit": 1,
          "duration": 45,
          "frequency": 6,
          "timestep": 1005
         },
         {
          "bit": 1,
          "duration": 46,
          "frequency": 4,
          "timestep": 1005
         },
         {
          "bit": 1,
          "duration": 47,
          "frequency": 3,
          "timestep": 1005
         },
         {
          "bit": 1,
          "duration": 48,
          "frequency": 3,
          "timestep": 1005
         },
         {
          "bit": 1,
          "duration": 49,
          "frequency": 4,
          "timestep": 1005
         },
         {
          "bit": 1,
          "duration": 50,
          "frequency": 11,
          "timestep": 1005
         },
         {
          "bit": 1,
          "duration": 51,
          "frequency": 2,
          "timestep": 1005
         },
         {
          "bit": 1,
          "duration": 52,
          "frequency": 3,
          "timestep": 1005
         },
         {
          "bit": 1,
          "duration": 53,
          "frequency": 3,
          "timestep": 1005
         },
         {
          "bit": 1,
          "duration": 54,
          "frequency": 4,
          "timestep": 1005
         },
         {
          "bit": 1,
          "duration": 55,
          "frequency": 2,
          "timestep": 1005
         },
         {
          "bit": 1,
          "duration": 56,
          "frequency": 3,
          "timestep": 1005
         },
         {
          "bit": 1,
          "duration": 57,
          "frequency": 3,
          "timestep": 1005
         },
         {
          "bit": 1,
          "duration": 58,
          "frequency": 3,
          "timestep": 1005
         },
         {
          "bit": 1,
          "duration": 59,
          "frequency": 3,
          "timestep": 1005
         },
         {
          "bit": 1,
          "duration": 60,
          "frequency": 2,
          "timestep": 1005
         },
         {
          "bit": 1,
          "duration": 61,
          "frequency": 1,
          "timestep": 1005
         },
         {
          "bit": 1,
          "duration": 62,
          "frequency": 2,
          "timestep": 1005
         },
         {
          "bit": 1,
          "duration": 64,
          "frequency": 1,
          "timestep": 1005
         },
         {
          "bit": 1,
          "duration": 65,
          "frequency": 2,
          "timestep": 1005
         },
         {
          "bit": 1,
          "duration": 66,
          "frequency": 1,
          "timestep": 1005
         },
         {
          "bit": 1,
          "duration": 67,
          "frequency": 3,
          "timestep": 1005
         },
         {
          "bit": 1,
          "duration": 68,
          "frequency": 1,
          "timestep": 1005
         },
         {
          "bit": 1,
          "duration": 69,
          "frequency": 1,
          "timestep": 1005
         },
         {
          "bit": 1,
          "duration": 70,
          "frequency": 1,
          "timestep": 1005
         },
         {
          "bit": 1,
          "duration": 71,
          "frequency": 1,
          "timestep": 1005
         },
         {
          "bit": 1,
          "duration": 73,
          "frequency": 1,
          "timestep": 1005
         },
         {
          "bit": 1,
          "duration": 76,
          "frequency": 1,
          "timestep": 1005
         },
         {
          "bit": 1,
          "duration": 78,
          "frequency": 1,
          "timestep": 1005
         },
         {
          "bit": 1,
          "duration": 79,
          "frequency": 1,
          "timestep": 1005
         },
         {
          "bit": 1,
          "duration": 83,
          "frequency": 2,
          "timestep": 1005
         },
         {
          "bit": 1,
          "duration": 84,
          "frequency": 1,
          "timestep": 1005
         },
         {
          "bit": 1,
          "duration": 98,
          "frequency": 1,
          "timestep": 1005
         },
         {
          "bit": 1,
          "duration": 1,
          "frequency": 73354,
          "timestep": 1105
         },
         {
          "bit": 1,
          "duration": 2,
          "frequency": 31134,
          "timestep": 1105
         },
         {
          "bit": 1,
          "duration": 3,
          "frequency": 8675,
          "timestep": 1105
         },
         {
          "bit": 1,
          "duration": 4,
          "frequency": 3574,
          "timestep": 1105
         },
         {
          "bit": 1,
          "duration": 5,
          "frequency": 1719,
          "timestep": 1105
         },
         {
          "bit": 1,
          "duration": 6,
          "frequency": 883,
          "timestep": 1105
         },
         {
          "bit": 1,
          "duration": 7,
          "frequency": 540,
          "timestep": 1105
         },
         {
          "bit": 1,
          "duration": 8,
          "frequency": 348,
          "timestep": 1105
         },
         {
          "bit": 1,
          "duration": 9,
          "frequency": 228,
          "timestep": 1105
         },
         {
          "bit": 1,
          "duration": 10,
          "frequency": 144,
          "timestep": 1105
         },
         {
          "bit": 1,
          "duration": 11,
          "frequency": 116,
          "timestep": 1105
         },
         {
          "bit": 1,
          "duration": 12,
          "frequency": 111,
          "timestep": 1105
         },
         {
          "bit": 1,
          "duration": 13,
          "frequency": 90,
          "timestep": 1105
         },
         {
          "bit": 1,
          "duration": 14,
          "frequency": 75,
          "timestep": 1105
         },
         {
          "bit": 1,
          "duration": 15,
          "frequency": 87,
          "timestep": 1105
         },
         {
          "bit": 1,
          "duration": 16,
          "frequency": 67,
          "timestep": 1105
         },
         {
          "bit": 1,
          "duration": 17,
          "frequency": 85,
          "timestep": 1105
         },
         {
          "bit": 1,
          "duration": 18,
          "frequency": 59,
          "timestep": 1105
         },
         {
          "bit": 1,
          "duration": 19,
          "frequency": 65,
          "timestep": 1105
         },
         {
          "bit": 1,
          "duration": 20,
          "frequency": 65,
          "timestep": 1105
         },
         {
          "bit": 1,
          "duration": 21,
          "frequency": 51,
          "timestep": 1105
         },
         {
          "bit": 1,
          "duration": 22,
          "frequency": 47,
          "timestep": 1105
         },
         {
          "bit": 1,
          "duration": 23,
          "frequency": 31,
          "timestep": 1105
         },
         {
          "bit": 1,
          "duration": 24,
          "frequency": 39,
          "timestep": 1105
         },
         {
          "bit": 1,
          "duration": 25,
          "frequency": 47,
          "timestep": 1105
         },
         {
          "bit": 1,
          "duration": 26,
          "frequency": 25,
          "timestep": 1105
         },
         {
          "bit": 1,
          "duration": 27,
          "frequency": 31,
          "timestep": 1105
         },
         {
          "bit": 1,
          "duration": 28,
          "frequency": 31,
          "timestep": 1105
         },
         {
          "bit": 1,
          "duration": 29,
          "frequency": 24,
          "timestep": 1105
         },
         {
          "bit": 1,
          "duration": 30,
          "frequency": 23,
          "timestep": 1105
         },
         {
          "bit": 1,
          "duration": 31,
          "frequency": 18,
          "timestep": 1105
         },
         {
          "bit": 1,
          "duration": 32,
          "frequency": 25,
          "timestep": 1105
         },
         {
          "bit": 1,
          "duration": 33,
          "frequency": 19,
          "timestep": 1105
         },
         {
          "bit": 1,
          "duration": 34,
          "frequency": 19,
          "timestep": 1105
         },
         {
          "bit": 1,
          "duration": 35,
          "frequency": 18,
          "timestep": 1105
         },
         {
          "bit": 1,
          "duration": 36,
          "frequency": 7,
          "timestep": 1105
         },
         {
          "bit": 1,
          "duration": 37,
          "frequency": 14,
          "timestep": 1105
         },
         {
          "bit": 1,
          "duration": 38,
          "frequency": 11,
          "timestep": 1105
         },
         {
          "bit": 1,
          "duration": 39,
          "frequency": 13,
          "timestep": 1105
         },
         {
          "bit": 1,
          "duration": 40,
          "frequency": 10,
          "timestep": 1105
         },
         {
          "bit": 1,
          "duration": 41,
          "frequency": 10,
          "timestep": 1105
         },
         {
          "bit": 1,
          "duration": 42,
          "frequency": 4,
          "timestep": 1105
         },
         {
          "bit": 1,
          "duration": 43,
          "frequency": 10,
          "timestep": 1105
         },
         {
          "bit": 1,
          "duration": 44,
          "frequency": 4,
          "timestep": 1105
         },
         {
          "bit": 1,
          "duration": 45,
          "frequency": 6,
          "timestep": 1105
         },
         {
          "bit": 1,
          "duration": 46,
          "frequency": 5,
          "timestep": 1105
         },
         {
          "bit": 1,
          "duration": 47,
          "frequency": 2,
          "timestep": 1105
         },
         {
          "bit": 1,
          "duration": 48,
          "frequency": 7,
          "timestep": 1105
         },
         {
          "bit": 1,
          "duration": 49,
          "frequency": 5,
          "timestep": 1105
         },
         {
          "bit": 1,
          "duration": 50,
          "frequency": 8,
          "timestep": 1105
         },
         {
          "bit": 1,
          "duration": 51,
          "frequency": 5,
          "timestep": 1105
         },
         {
          "bit": 1,
          "duration": 52,
          "frequency": 1,
          "timestep": 1105
         },
         {
          "bit": 1,
          "duration": 53,
          "frequency": 2,
          "timestep": 1105
         },
         {
          "bit": 1,
          "duration": 54,
          "frequency": 1,
          "timestep": 1105
         },
         {
          "bit": 1,
          "duration": 55,
          "frequency": 1,
          "timestep": 1105
         },
         {
          "bit": 1,
          "duration": 56,
          "frequency": 3,
          "timestep": 1105
         },
         {
          "bit": 1,
          "duration": 57,
          "frequency": 3,
          "timestep": 1105
         },
         {
          "bit": 1,
          "duration": 58,
          "frequency": 2,
          "timestep": 1105
         },
         {
          "bit": 1,
          "duration": 59,
          "frequency": 4,
          "timestep": 1105
         },
         {
          "bit": 1,
          "duration": 60,
          "frequency": 3,
          "timestep": 1105
         },
         {
          "bit": 1,
          "duration": 61,
          "frequency": 1,
          "timestep": 1105
         },
         {
          "bit": 1,
          "duration": 62,
          "frequency": 4,
          "timestep": 1105
         },
         {
          "bit": 1,
          "duration": 63,
          "frequency": 3,
          "timestep": 1105
         },
         {
          "bit": 1,
          "duration": 64,
          "frequency": 1,
          "timestep": 1105
         },
         {
          "bit": 1,
          "duration": 66,
          "frequency": 2,
          "timestep": 1105
         },
         {
          "bit": 1,
          "duration": 67,
          "frequency": 1,
          "timestep": 1105
         },
         {
          "bit": 1,
          "duration": 70,
          "frequency": 1,
          "timestep": 1105
         },
         {
          "bit": 1,
          "duration": 71,
          "frequency": 3,
          "timestep": 1105
         },
         {
          "bit": 1,
          "duration": 72,
          "frequency": 1,
          "timestep": 1105
         },
         {
          "bit": 1,
          "duration": 76,
          "frequency": 1,
          "timestep": 1105
         },
         {
          "bit": 1,
          "duration": 78,
          "frequency": 1,
          "timestep": 1105
         },
         {
          "bit": 1,
          "duration": 79,
          "frequency": 3,
          "timestep": 1105
         },
         {
          "bit": 1,
          "duration": 82,
          "frequency": 2,
          "timestep": 1105
         },
         {
          "bit": 1,
          "duration": 88,
          "frequency": 1,
          "timestep": 1105
         },
         {
          "bit": 1,
          "duration": 92,
          "frequency": 1,
          "timestep": 1105
         },
         {
          "bit": 1,
          "duration": 96,
          "frequency": 1,
          "timestep": 1105
         },
         {
          "bit": 1,
          "duration": 97,
          "frequency": 1,
          "timestep": 1105
         },
         {
          "bit": 1,
          "duration": 98,
          "frequency": 1,
          "timestep": 1105
         },
         {
          "bit": 1,
          "duration": 104,
          "frequency": 1,
          "timestep": 1105
         },
         {
          "bit": 1,
          "duration": 110,
          "frequency": 1,
          "timestep": 1105
         },
         {
          "bit": 1,
          "duration": 118,
          "frequency": 1,
          "timestep": 1105
         },
         {
          "bit": 1,
          "duration": 1,
          "frequency": 68207,
          "timestep": 1205
         },
         {
          "bit": 1,
          "duration": 2,
          "frequency": 26674,
          "timestep": 1205
         },
         {
          "bit": 1,
          "duration": 3,
          "frequency": 9815,
          "timestep": 1205
         },
         {
          "bit": 1,
          "duration": 4,
          "frequency": 4583,
          "timestep": 1205
         },
         {
          "bit": 1,
          "duration": 5,
          "frequency": 2239,
          "timestep": 1205
         },
         {
          "bit": 1,
          "duration": 6,
          "frequency": 1192,
          "timestep": 1205
         },
         {
          "bit": 1,
          "duration": 7,
          "frequency": 629,
          "timestep": 1205
         },
         {
          "bit": 1,
          "duration": 8,
          "frequency": 395,
          "timestep": 1205
         },
         {
          "bit": 1,
          "duration": 9,
          "frequency": 240,
          "timestep": 1205
         },
         {
          "bit": 1,
          "duration": 10,
          "frequency": 207,
          "timestep": 1205
         },
         {
          "bit": 1,
          "duration": 11,
          "frequency": 140,
          "timestep": 1205
         },
         {
          "bit": 1,
          "duration": 12,
          "frequency": 126,
          "timestep": 1205
         },
         {
          "bit": 1,
          "duration": 13,
          "frequency": 109,
          "timestep": 1205
         },
         {
          "bit": 1,
          "duration": 14,
          "frequency": 87,
          "timestep": 1205
         },
         {
          "bit": 1,
          "duration": 15,
          "frequency": 95,
          "timestep": 1205
         },
         {
          "bit": 1,
          "duration": 16,
          "frequency": 76,
          "timestep": 1205
         },
         {
          "bit": 1,
          "duration": 17,
          "frequency": 71,
          "timestep": 1205
         },
         {
          "bit": 1,
          "duration": 18,
          "frequency": 65,
          "timestep": 1205
         },
         {
          "bit": 1,
          "duration": 19,
          "frequency": 53,
          "timestep": 1205
         },
         {
          "bit": 1,
          "duration": 20,
          "frequency": 54,
          "timestep": 1205
         },
         {
          "bit": 1,
          "duration": 21,
          "frequency": 38,
          "timestep": 1205
         },
         {
          "bit": 1,
          "duration": 22,
          "frequency": 31,
          "timestep": 1205
         },
         {
          "bit": 1,
          "duration": 23,
          "frequency": 47,
          "timestep": 1205
         },
         {
          "bit": 1,
          "duration": 24,
          "frequency": 32,
          "timestep": 1205
         },
         {
          "bit": 1,
          "duration": 25,
          "frequency": 57,
          "timestep": 1205
         },
         {
          "bit": 1,
          "duration": 26,
          "frequency": 27,
          "timestep": 1205
         },
         {
          "bit": 1,
          "duration": 27,
          "frequency": 30,
          "timestep": 1205
         },
         {
          "bit": 1,
          "duration": 28,
          "frequency": 30,
          "timestep": 1205
         },
         {
          "bit": 1,
          "duration": 29,
          "frequency": 23,
          "timestep": 1205
         },
         {
          "bit": 1,
          "duration": 30,
          "frequency": 21,
          "timestep": 1205
         },
         {
          "bit": 1,
          "duration": 31,
          "frequency": 24,
          "timestep": 1205
         },
         {
          "bit": 1,
          "duration": 32,
          "frequency": 20,
          "timestep": 1205
         },
         {
          "bit": 1,
          "duration": 33,
          "frequency": 18,
          "timestep": 1205
         },
         {
          "bit": 1,
          "duration": 34,
          "frequency": 11,
          "timestep": 1205
         },
         {
          "bit": 1,
          "duration": 35,
          "frequency": 13,
          "timestep": 1205
         },
         {
          "bit": 1,
          "duration": 36,
          "frequency": 8,
          "timestep": 1205
         },
         {
          "bit": 1,
          "duration": 37,
          "frequency": 16,
          "timestep": 1205
         },
         {
          "bit": 1,
          "duration": 38,
          "frequency": 9,
          "timestep": 1205
         },
         {
          "bit": 1,
          "duration": 39,
          "frequency": 12,
          "timestep": 1205
         },
         {
          "bit": 1,
          "duration": 40,
          "frequency": 10,
          "timestep": 1205
         },
         {
          "bit": 1,
          "duration": 41,
          "frequency": 15,
          "timestep": 1205
         },
         {
          "bit": 1,
          "duration": 42,
          "frequency": 4,
          "timestep": 1205
         },
         {
          "bit": 1,
          "duration": 43,
          "frequency": 7,
          "timestep": 1205
         },
         {
          "bit": 1,
          "duration": 44,
          "frequency": 8,
          "timestep": 1205
         },
         {
          "bit": 1,
          "duration": 45,
          "frequency": 4,
          "timestep": 1205
         },
         {
          "bit": 1,
          "duration": 46,
          "frequency": 6,
          "timestep": 1205
         },
         {
          "bit": 1,
          "duration": 47,
          "frequency": 4,
          "timestep": 1205
         },
         {
          "bit": 1,
          "duration": 48,
          "frequency": 3,
          "timestep": 1205
         },
         {
          "bit": 1,
          "duration": 49,
          "frequency": 6,
          "timestep": 1205
         },
         {
          "bit": 1,
          "duration": 50,
          "frequency": 5,
          "timestep": 1205
         },
         {
          "bit": 1,
          "duration": 51,
          "frequency": 5,
          "timestep": 1205
         },
         {
          "bit": 1,
          "duration": 52,
          "frequency": 4,
          "timestep": 1205
         },
         {
          "bit": 1,
          "duration": 53,
          "frequency": 2,
          "timestep": 1205
         },
         {
          "bit": 1,
          "duration": 54,
          "frequency": 7,
          "timestep": 1205
         },
         {
          "bit": 1,
          "duration": 55,
          "frequency": 1,
          "timestep": 1205
         },
         {
          "bit": 1,
          "duration": 56,
          "frequency": 3,
          "timestep": 1205
         },
         {
          "bit": 1,
          "duration": 57,
          "frequency": 3,
          "timestep": 1205
         },
         {
          "bit": 1,
          "duration": 59,
          "frequency": 3,
          "timestep": 1205
         },
         {
          "bit": 1,
          "duration": 60,
          "frequency": 4,
          "timestep": 1205
         },
         {
          "bit": 1,
          "duration": 61,
          "frequency": 2,
          "timestep": 1205
         },
         {
          "bit": 1,
          "duration": 62,
          "frequency": 1,
          "timestep": 1205
         },
         {
          "bit": 1,
          "duration": 64,
          "frequency": 3,
          "timestep": 1205
         },
         {
          "bit": 1,
          "duration": 65,
          "frequency": 1,
          "timestep": 1205
         },
         {
          "bit": 1,
          "duration": 68,
          "frequency": 3,
          "timestep": 1205
         },
         {
          "bit": 1,
          "duration": 70,
          "frequency": 2,
          "timestep": 1205
         },
         {
          "bit": 1,
          "duration": 71,
          "frequency": 1,
          "timestep": 1205
         },
         {
          "bit": 1,
          "duration": 72,
          "frequency": 1,
          "timestep": 1205
         },
         {
          "bit": 1,
          "duration": 73,
          "frequency": 2,
          "timestep": 1205
         },
         {
          "bit": 1,
          "duration": 74,
          "frequency": 1,
          "timestep": 1205
         },
         {
          "bit": 1,
          "duration": 77,
          "frequency": 1,
          "timestep": 1205
         },
         {
          "bit": 1,
          "duration": 78,
          "frequency": 1,
          "timestep": 1205
         },
         {
          "bit": 1,
          "duration": 79,
          "frequency": 2,
          "timestep": 1205
         },
         {
          "bit": 1,
          "duration": 84,
          "frequency": 1,
          "timestep": 1205
         },
         {
          "bit": 1,
          "duration": 111,
          "frequency": 1,
          "timestep": 1205
         },
         {
          "bit": 1,
          "duration": 1,
          "frequency": 78329,
          "timestep": 1305
         },
         {
          "bit": 1,
          "duration": 2,
          "frequency": 27660,
          "timestep": 1305
         },
         {
          "bit": 1,
          "duration": 3,
          "frequency": 7294,
          "timestep": 1305
         },
         {
          "bit": 1,
          "duration": 4,
          "frequency": 3125,
          "timestep": 1305
         },
         {
          "bit": 1,
          "duration": 5,
          "frequency": 1658,
          "timestep": 1305
         },
         {
          "bit": 1,
          "duration": 6,
          "frequency": 902,
          "timestep": 1305
         },
         {
          "bit": 1,
          "duration": 7,
          "frequency": 563,
          "timestep": 1305
         },
         {
          "bit": 1,
          "duration": 8,
          "frequency": 406,
          "timestep": 1305
         },
         {
          "bit": 1,
          "duration": 9,
          "frequency": 312,
          "timestep": 1305
         },
         {
          "bit": 1,
          "duration": 10,
          "frequency": 218,
          "timestep": 1305
         },
         {
          "bit": 1,
          "duration": 11,
          "frequency": 195,
          "timestep": 1305
         },
         {
          "bit": 1,
          "duration": 12,
          "frequency": 163,
          "timestep": 1305
         },
         {
          "bit": 1,
          "duration": 13,
          "frequency": 136,
          "timestep": 1305
         },
         {
          "bit": 1,
          "duration": 14,
          "frequency": 138,
          "timestep": 1305
         },
         {
          "bit": 1,
          "duration": 15,
          "frequency": 103,
          "timestep": 1305
         },
         {
          "bit": 1,
          "duration": 16,
          "frequency": 100,
          "timestep": 1305
         },
         {
          "bit": 1,
          "duration": 17,
          "frequency": 102,
          "timestep": 1305
         },
         {
          "bit": 1,
          "duration": 18,
          "frequency": 103,
          "timestep": 1305
         },
         {
          "bit": 1,
          "duration": 19,
          "frequency": 95,
          "timestep": 1305
         },
         {
          "bit": 1,
          "duration": 20,
          "frequency": 73,
          "timestep": 1305
         },
         {
          "bit": 1,
          "duration": 21,
          "frequency": 62,
          "timestep": 1305
         },
         {
          "bit": 1,
          "duration": 22,
          "frequency": 51,
          "timestep": 1305
         },
         {
          "bit": 1,
          "duration": 23,
          "frequency": 49,
          "timestep": 1305
         },
         {
          "bit": 1,
          "duration": 24,
          "frequency": 59,
          "timestep": 1305
         },
         {
          "bit": 1,
          "duration": 25,
          "frequency": 41,
          "timestep": 1305
         },
         {
          "bit": 1,
          "duration": 26,
          "frequency": 37,
          "timestep": 1305
         },
         {
          "bit": 1,
          "duration": 27,
          "frequency": 45,
          "timestep": 1305
         },
         {
          "bit": 1,
          "duration": 28,
          "frequency": 30,
          "timestep": 1305
         },
         {
          "bit": 1,
          "duration": 29,
          "frequency": 31,
          "timestep": 1305
         },
         {
          "bit": 1,
          "duration": 30,
          "frequency": 36,
          "timestep": 1305
         },
         {
          "bit": 1,
          "duration": 31,
          "frequency": 31,
          "timestep": 1305
         },
         {
          "bit": 1,
          "duration": 32,
          "frequency": 22,
          "timestep": 1305
         },
         {
          "bit": 1,
          "duration": 33,
          "frequency": 23,
          "timestep": 1305
         },
         {
          "bit": 1,
          "duration": 34,
          "frequency": 15,
          "timestep": 1305
         },
         {
          "bit": 1,
          "duration": 35,
          "frequency": 19,
          "timestep": 1305
         },
         {
          "bit": 1,
          "duration": 36,
          "frequency": 19,
          "timestep": 1305
         },
         {
          "bit": 1,
          "duration": 37,
          "frequency": 19,
          "timestep": 1305
         },
         {
          "bit": 1,
          "duration": 38,
          "frequency": 18,
          "timestep": 1305
         },
         {
          "bit": 1,
          "duration": 39,
          "frequency": 13,
          "timestep": 1305
         },
         {
          "bit": 1,
          "duration": 40,
          "frequency": 11,
          "timestep": 1305
         },
         {
          "bit": 1,
          "duration": 41,
          "frequency": 9,
          "timestep": 1305
         },
         {
          "bit": 1,
          "duration": 42,
          "frequency": 10,
          "timestep": 1305
         },
         {
          "bit": 1,
          "duration": 43,
          "frequency": 10,
          "timestep": 1305
         },
         {
          "bit": 1,
          "duration": 44,
          "frequency": 2,
          "timestep": 1305
         },
         {
          "bit": 1,
          "duration": 45,
          "frequency": 7,
          "timestep": 1305
         },
         {
          "bit": 1,
          "duration": 46,
          "frequency": 6,
          "timestep": 1305
         },
         {
          "bit": 1,
          "duration": 47,
          "frequency": 12,
          "timestep": 1305
         },
         {
          "bit": 1,
          "duration": 48,
          "frequency": 9,
          "timestep": 1305
         },
         {
          "bit": 1,
          "duration": 49,
          "frequency": 3,
          "timestep": 1305
         },
         {
          "bit": 1,
          "duration": 50,
          "frequency": 7,
          "timestep": 1305
         },
         {
          "bit": 1,
          "duration": 51,
          "frequency": 2,
          "timestep": 1305
         },
         {
          "bit": 1,
          "duration": 52,
          "frequency": 8,
          "timestep": 1305
         },
         {
          "bit": 1,
          "duration": 53,
          "frequency": 3,
          "timestep": 1305
         },
         {
          "bit": 1,
          "duration": 54,
          "frequency": 5,
          "timestep": 1305
         },
         {
          "bit": 1,
          "duration": 55,
          "frequency": 4,
          "timestep": 1305
         },
         {
          "bit": 1,
          "duration": 56,
          "frequency": 4,
          "timestep": 1305
         },
         {
          "bit": 1,
          "duration": 57,
          "frequency": 4,
          "timestep": 1305
         },
         {
          "bit": 1,
          "duration": 58,
          "frequency": 2,
          "timestep": 1305
         },
         {
          "bit": 1,
          "duration": 59,
          "frequency": 3,
          "timestep": 1305
         },
         {
          "bit": 1,
          "duration": 61,
          "frequency": 3,
          "timestep": 1305
         },
         {
          "bit": 1,
          "duration": 62,
          "frequency": 1,
          "timestep": 1305
         },
         {
          "bit": 1,
          "duration": 64,
          "frequency": 3,
          "timestep": 1305
         },
         {
          "bit": 1,
          "duration": 67,
          "frequency": 1,
          "timestep": 1305
         },
         {
          "bit": 1,
          "duration": 68,
          "frequency": 1,
          "timestep": 1305
         },
         {
          "bit": 1,
          "duration": 73,
          "frequency": 1,
          "timestep": 1305
         },
         {
          "bit": 1,
          "duration": 75,
          "frequency": 2,
          "timestep": 1305
         },
         {
          "bit": 1,
          "duration": 77,
          "frequency": 1,
          "timestep": 1305
         },
         {
          "bit": 1,
          "duration": 78,
          "frequency": 1,
          "timestep": 1305
         },
         {
          "bit": 1,
          "duration": 83,
          "frequency": 1,
          "timestep": 1305
         },
         {
          "bit": 1,
          "duration": 1,
          "frequency": 76560,
          "timestep": 1405
         },
         {
          "bit": 1,
          "duration": 2,
          "frequency": 40502,
          "timestep": 1405
         },
         {
          "bit": 1,
          "duration": 3,
          "frequency": 10253,
          "timestep": 1405
         },
         {
          "bit": 1,
          "duration": 4,
          "frequency": 4022,
          "timestep": 1405
         },
         {
          "bit": 1,
          "duration": 5,
          "frequency": 1962,
          "timestep": 1405
         },
         {
          "bit": 1,
          "duration": 6,
          "frequency": 994,
          "timestep": 1405
         },
         {
          "bit": 1,
          "duration": 7,
          "frequency": 513,
          "timestep": 1405
         },
         {
          "bit": 1,
          "duration": 8,
          "frequency": 321,
          "timestep": 1405
         },
         {
          "bit": 1,
          "duration": 9,
          "frequency": 193,
          "timestep": 1405
         },
         {
          "bit": 1,
          "duration": 10,
          "frequency": 164,
          "timestep": 1405
         },
         {
          "bit": 1,
          "duration": 11,
          "frequency": 112,
          "timestep": 1405
         },
         {
          "bit": 1,
          "duration": 12,
          "frequency": 104,
          "timestep": 1405
         },
         {
          "bit": 1,
          "duration": 13,
          "frequency": 69,
          "timestep": 1405
         },
         {
          "bit": 1,
          "duration": 14,
          "frequency": 85,
          "timestep": 1405
         },
         {
          "bit": 1,
          "duration": 15,
          "frequency": 60,
          "timestep": 1405
         },
         {
          "bit": 1,
          "duration": 16,
          "frequency": 56,
          "timestep": 1405
         },
         {
          "bit": 1,
          "duration": 17,
          "frequency": 59,
          "timestep": 1405
         },
         {
          "bit": 1,
          "duration": 18,
          "frequency": 35,
          "timestep": 1405
         },
         {
          "bit": 1,
          "duration": 19,
          "frequency": 45,
          "timestep": 1405
         },
         {
          "bit": 1,
          "duration": 20,
          "frequency": 31,
          "timestep": 1405
         },
         {
          "bit": 1,
          "duration": 21,
          "frequency": 30,
          "timestep": 1405
         },
         {
          "bit": 1,
          "duration": 22,
          "frequency": 32,
          "timestep": 1405
         },
         {
          "bit": 1,
          "duration": 23,
          "frequency": 38,
          "timestep": 1405
         },
         {
          "bit": 1,
          "duration": 24,
          "frequency": 27,
          "timestep": 1405
         },
         {
          "bit": 1,
          "duration": 25,
          "frequency": 20,
          "timestep": 1405
         },
         {
          "bit": 1,
          "duration": 26,
          "frequency": 17,
          "timestep": 1405
         },
         {
          "bit": 1,
          "duration": 27,
          "frequency": 14,
          "timestep": 1405
         },
         {
          "bit": 1,
          "duration": 28,
          "frequency": 6,
          "timestep": 1405
         },
         {
          "bit": 1,
          "duration": 29,
          "frequency": 18,
          "timestep": 1405
         },
         {
          "bit": 1,
          "duration": 30,
          "frequency": 12,
          "timestep": 1405
         },
         {
          "bit": 1,
          "duration": 31,
          "frequency": 16,
          "timestep": 1405
         },
         {
          "bit": 1,
          "duration": 32,
          "frequency": 9,
          "timestep": 1405
         },
         {
          "bit": 1,
          "duration": 33,
          "frequency": 5,
          "timestep": 1405
         },
         {
          "bit": 1,
          "duration": 34,
          "frequency": 9,
          "timestep": 1405
         },
         {
          "bit": 1,
          "duration": 35,
          "frequency": 10,
          "timestep": 1405
         },
         {
          "bit": 1,
          "duration": 36,
          "frequency": 9,
          "timestep": 1405
         },
         {
          "bit": 1,
          "duration": 37,
          "frequency": 6,
          "timestep": 1405
         },
         {
          "bit": 1,
          "duration": 38,
          "frequency": 7,
          "timestep": 1405
         },
         {
          "bit": 1,
          "duration": 39,
          "frequency": 4,
          "timestep": 1405
         },
         {
          "bit": 1,
          "duration": 40,
          "frequency": 8,
          "timestep": 1405
         },
         {
          "bit": 1,
          "duration": 41,
          "frequency": 4,
          "timestep": 1405
         },
         {
          "bit": 1,
          "duration": 42,
          "frequency": 6,
          "timestep": 1405
         },
         {
          "bit": 1,
          "duration": 43,
          "frequency": 4,
          "timestep": 1405
         },
         {
          "bit": 1,
          "duration": 44,
          "frequency": 5,
          "timestep": 1405
         },
         {
          "bit": 1,
          "duration": 45,
          "frequency": 1,
          "timestep": 1405
         },
         {
          "bit": 1,
          "duration": 46,
          "frequency": 3,
          "timestep": 1405
         },
         {
          "bit": 1,
          "duration": 47,
          "frequency": 2,
          "timestep": 1405
         },
         {
          "bit": 1,
          "duration": 48,
          "frequency": 3,
          "timestep": 1405
         },
         {
          "bit": 1,
          "duration": 49,
          "frequency": 2,
          "timestep": 1405
         },
         {
          "bit": 1,
          "duration": 50,
          "frequency": 2,
          "timestep": 1405
         },
         {
          "bit": 1,
          "duration": 51,
          "frequency": 5,
          "timestep": 1405
         },
         {
          "bit": 1,
          "duration": 52,
          "frequency": 4,
          "timestep": 1405
         },
         {
          "bit": 1,
          "duration": 54,
          "frequency": 2,
          "timestep": 1405
         },
         {
          "bit": 1,
          "duration": 55,
          "frequency": 2,
          "timestep": 1405
         },
         {
          "bit": 1,
          "duration": 57,
          "frequency": 6,
          "timestep": 1405
         },
         {
          "bit": 1,
          "duration": 59,
          "frequency": 1,
          "timestep": 1405
         },
         {
          "bit": 1,
          "duration": 60,
          "frequency": 1,
          "timestep": 1405
         },
         {
          "bit": 1,
          "duration": 61,
          "frequency": 2,
          "timestep": 1405
         },
         {
          "bit": 1,
          "duration": 63,
          "frequency": 1,
          "timestep": 1405
         },
         {
          "bit": 1,
          "duration": 65,
          "frequency": 1,
          "timestep": 1405
         },
         {
          "bit": 1,
          "duration": 67,
          "frequency": 1,
          "timestep": 1405
         },
         {
          "bit": 1,
          "duration": 96,
          "frequency": 1,
          "timestep": 1405
         },
         {
          "bit": 1,
          "duration": 132,
          "frequency": 1,
          "timestep": 1405
         }
        ]
       },
       "hconcat": [
        {
         "data": {
          "name": "data-821ffeebaf68e83b439d11e56ddf0c4e"
         },
         "encoding": {
          "color": {
           "condition": {
            "field": "timestep",
            "legend": null,
            "selection": "selector016",
            "type": "nominal"
           },
           "value": "#96989b"
          },
          "x": {
           "aggregate": "max",
           "field": "duration",
           "scale": {
            "type": "log"
           },
           "title": "max packet duration",
           "type": "quantitative"
          },
          "y": {
           "field": "timestep",
           "type": "nominal"
          }
         },
         "height": 800,
         "mark": "bar",
         "selection": {
          "selector016": {
           "empty": "all",
           "encodings": [
            "y"
           ],
           "on": "click",
           "resolve": "global",
           "toggle": "event.shiftKey",
           "type": "multi"
          }
         },
         "width": 250
        },
        {
         "vconcat": [
          {
           "data": {
            "name": "data-821ffeebaf68e83b439d11e56ddf0c4e"
           },
           "encoding": {
            "color": {
             "field": "timestep",
             "legend": null,
             "type": "nominal"
            },
            "tooltip": [
             {
              "field": "duration",
              "type": "quantitative"
             },
             {
              "field": "frequency",
              "type": "quantitative"
             },
             {
              "field": "timestep",
              "type": "nominal"
             },
             {
              "field": "bit",
              "type": "nominal"
             }
            ],
            "x": {
             "field": "duration",
             "type": "quantitative"
            },
            "y": {
             "field": "frequency",
             "type": "quantitative"
            }
           },
           "height": 375,
           "mark": {
            "opacity": 0.5,
            "type": "area"
           },
           "title": "off time distributions",
           "transform": [
            {
             "filter": {
              "selection": "selector016"
             }
            },
            {
             "filter": "(datum.duration > 25)"
            },
            {
             "filter": "(datum.duration < 200)"
            },
            {
             "filter": "(datum.bit === 0)"
            }
           ],
           "width": 800
          },
          {
           "data": {
            "name": "data-821ffeebaf68e83b439d11e56ddf0c4e"
           },
           "encoding": {
            "color": {
             "field": "timestep",
             "legend": null,
             "type": "nominal"
            },
            "tooltip": [
             {
              "field": "duration",
              "type": "quantitative"
             },
             {
              "field": "frequency",
              "type": "quantitative"
             },
             {
              "field": "timestep",
              "type": "nominal"
             },
             {
              "field": "bit",
              "type": "nominal"
             }
            ],
            "x": {
             "field": "duration",
             "type": "quantitative"
            },
            "y": {
             "field": "frequency",
             "type": "quantitative"
            }
           },
           "height": 375,
           "mark": {
            "opacity": 0.5,
            "type": "area"
           },
           "title": "on time distributions",
           "transform": [
            {
             "filter": {
              "selection": "selector016"
             }
            },
            {
             "filter": "(datum.duration > 25)"
            },
            {
             "filter": "(datum.duration < 200)"
            },
            {
             "filter": "(datum.bit === 1)"
            }
           ],
           "width": 800
          }
         ]
        }
       ]
      },
      "image/png": "[encoded data removed]",
      "text/plain": [
       "<VegaLite 2 object>\n",
       "\n",
       "If you see this message, it means the renderer has not been properly enabled\n",
       "for the frontend that you are using. For more information, see\n",
       "https://altair-viz.github.io/user_guide/troubleshooting.html\n"
      ]
     },
     "metadata": {},
     "output_type": "display_data"
    }
   ],
   "source": [
    "chart_type = chart_type.strip().lower()\n",
    "\n",
    "sel_timestep = alt.selection_multi(encodings=['y'])\n",
    "\n",
    "bar_chart = alt.Chart(\n",
    "    full_sim_df,\n",
    "    height=800,\n",
    "    width=250\n",
    ").mark_bar(\n",
    ").encode(\n",
    "    alt.X(\n",
    "        'max(duration):Q',\n",
    "        title='max packet duration',\n",
    "        scale=alt.Scale(type='log')\n",
    "    ),\n",
    "    alt.Y(\n",
    "        'timestep:N',\n",
    "    ),\n",
    "    color=alt.condition(\n",
    "        sel_timestep,\n",
    "        'timestep:N',\n",
    "        alt.value('#96989b'),\n",
    "        legend=None\n",
    "    )\n",
    ").add_selection(\n",
    "    sel_timestep\n",
    ")        \n",
    "\n",
    "detail_bar_chart = alt.Chart(\n",
    "    full_sim_df,\n",
    "    height=375,\n",
    "    width=800\n",
    ").mark_bar(\n",
    "    opacity=0.5\n",
    ").transform_filter(\n",
    "    sel_timestep\n",
    ").transform_filter(\n",
    "    datum.duration > 25\n",
    ").transform_filter(\n",
    "    datum.duration < 200\n",
    ").encode(\n",
    "    alt.X('duration:Q'),\n",
    "    alt.Y(\n",
    "        'frequency:Q', \n",
    "        #scale=alt.Scale(type='log')\n",
    "    ),\n",
    "    color=alt.Color('timestep:N', legend=None),\n",
    "    tooltip=[\n",
    "        alt.Tooltip('duration:Q'),\n",
    "        alt.Tooltip('frequency:Q'),\n",
    "        alt.Tooltip('timestep:N'),\n",
    "        alt.Tooltip('bit:N'),\n",
    "    ]\n",
    ")\n",
    "\n",
    "detail_area_chart = alt.Chart(\n",
    "    full_sim_df,\n",
    "    height=375,\n",
    "    width=800\n",
    ").mark_area(\n",
    "    opacity=0.5\n",
    ").transform_filter(\n",
    "    sel_timestep\n",
    ").transform_filter(\n",
    "    datum.duration > 25\n",
    ").transform_filter(\n",
    "    datum.duration < 200\n",
    ").encode(\n",
    "    alt.X('duration:Q'),\n",
    "    alt.Y(\n",
    "        'frequency:Q', \n",
    "        #scale=alt.Scale(type='log')\n",
    "    ),\n",
    "    color=alt.Color('timestep:N', legend=None),\n",
    "    tooltip=[\n",
    "        alt.Tooltip('duration:Q'),\n",
    "        alt.Tooltip('frequency:Q'),\n",
    "        alt.Tooltip('timestep:N'),\n",
    "        alt.Tooltip('bit:N'),\n",
    "    ]\n",
    ")\n",
    "\n",
    "if chart_type == 'bar':\n",
    "    detail_chart = detail_bar_chart\n",
    "elif chart_type == 'area':\n",
    "    detail_chart = detail_area_chart\n",
    "else:\n",
    "    print(f'unsupported chart type {chart_type}')\n",
    "\n",
    "stacked_bit_details = alt.vconcat(\n",
    "    detail_chart.transform_filter(datum.bit == 0).properties(title='off time distributions'),\n",
    "    detail_chart.transform_filter(datum.bit == 1).properties(title='on time distributions'),\n",
    ")\n",
    "\n",
    "full = alt.hconcat(\n",
    "    bar_chart,\n",
    "    stacked_bit_details,    \n",
    "    background='#ffffff'\n",
    ")\n",
    "\n",
    "display(full)"
   ]
  },
  {
   "cell_type": "code",
   "execution_count": null,
   "metadata": {},
   "outputs": [],
   "source": []
  },
  {
   "cell_type": "code",
   "execution_count": null,
   "metadata": {},
   "outputs": [],
   "source": []
  },
  {
   "cell_type": "code",
   "execution_count": null,
   "metadata": {},
   "outputs": [],
   "source": []
  }
 ],
 "metadata": {
  "kernelspec": {
   "display_name": "Python 3",
   "language": "python",
   "name": "python3"
  },
  "language_info": {
   "codemirror_mode": {
    "name": "ipython",
    "version": 3
   },
   "file_extension": ".py",
   "mimetype": "text/x-python",
   "name": "python",
   "nbconvert_exporter": "python",
   "pygments_lexer": "ipython3",
   "version": "3.6.7"
  }
 },
 "nbformat": 4,
 "nbformat_minor": 2
}
