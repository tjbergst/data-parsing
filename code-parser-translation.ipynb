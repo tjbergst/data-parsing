{
 "cells": [
  {
   "cell_type": "markdown",
   "metadata": {},
   "source": [
    "# translating matlab code parser"
   ]
  },
  {
   "cell_type": "markdown",
   "metadata": {},
   "source": [
    "## setup"
   ]
  },
  {
   "cell_type": "code",
   "execution_count": 41,
   "metadata": {},
   "outputs": [],
   "source": [
    "import lvm_read\n",
    "from pathlib import Path\n",
    "import numpy as np"
   ]
  },
  {
   "cell_type": "markdown",
   "metadata": {},
   "source": [
    "## params"
   ]
  },
  {
   "cell_type": "code",
   "execution_count": 6,
   "metadata": {},
   "outputs": [],
   "source": [
    "lvm_path = Path(r'data/qim_20kbps_10db_l2_v2.lvm')"
   ]
  },
  {
   "cell_type": "markdown",
   "metadata": {},
   "source": [
    "## data acquisition"
   ]
  },
  {
   "cell_type": "markdown",
   "metadata": {},
   "source": [
    "### new lvm parser dev"
   ]
  },
  {
   "cell_type": "code",
   "execution_count": 67,
   "metadata": {},
   "outputs": [],
   "source": [
    "def parse_lvm_file(input_path, output_path='auto'):\n",
    "    \"\"\"\n",
    "    reads in .lvm file, writes out .csv with column names\n",
    "    containing only data points\n",
    "    \n",
    "    [arguments]\n",
    "    input_path: str or pathlib.Path object (preferred)\n",
    "        input file path\n",
    "    output_path: 'auto' (preferred) or str or pathlib.Path object\n",
    "        if auto:\n",
    "            appends _parsed.csv to end of input file name\n",
    "        else:\n",
    "            use provided path, must end in .csv\n",
    "            \n",
    "    [returns]\n",
    "    None\n",
    "        outputs parsed .csv file    \n",
    "    \"\"\"\n",
    "\n",
    "    with open(lvm_path, 'r') as infile:\n",
    "        # set output path\n",
    "        file_name = infile.name\n",
    "        \n",
    "        if output_path == 'auto':\n",
    "            parsed_lvm_path = Path(f'{file_name}_parsed.csv')\n",
    "        else:\n",
    "            parsed_lvm_path = output_path\n",
    "            \n",
    "            if isinstance(parsed_lvm_path, pathlib.Path):\n",
    "                assert str(parsed_lvm_path).endswith('.csv'), 'output file must end with .csv'\n",
    "            elif isinstance(parsed_lvm_path, str):\n",
    "                assert parsed_lvm_path.endswith('.csv'), 'output file must end with .csv'\n",
    "            else:\n",
    "                print('error, output_path must be str or pathlib.Path object')\n",
    "        \n",
    "        if not parsed_lvm_path.exists():\n",
    "            parsed_lvm_path.touch()\n",
    "        \n",
    "        # find header, store column names\n",
    "        while True:\n",
    "            line = infile.readline()\n",
    "            \n",
    "            if line.strip().endswith('Comment'):\n",
    "                cols = line.split(',')[:-1]\n",
    "                print(f'columns: {cols}')\n",
    "                break        \n",
    "                \n",
    "        # trim file and write out\n",
    "        with open(parsed_lvm_path, 'w') as outfile:\n",
    "            outfile.write(', '.join(cols) + '\\n')\n",
    "            while True:\n",
    "                try:\n",
    "                    outfile.write(next(infile))\n",
    "                except StopIteration:\n",
    "                    break\n",
    "    \n",
    "    print(f'complete, parsed file saved to: {parsed_lvm_path}')"
   ]
  },
  {
   "cell_type": "code",
   "execution_count": 68,
   "metadata": {},
   "outputs": [
    {
     "name": "stdout",
     "output_type": "stream",
     "text": [
      "columns: ['X_Value', 'Voltage']\n",
      "complete, parsed file saved to data\\qim_20kbps_10db_l2_v2.lvm_parsed.csv\n"
     ]
    }
   ],
   "source": [
    "parse_lvm_file(lvm_path, output_path='auto')"
   ]
  },
  {
   "cell_type": "code",
   "execution_count": null,
   "metadata": {},
   "outputs": [],
   "source": []
  },
  {
   "cell_type": "code",
   "execution_count": null,
   "metadata": {},
   "outputs": [],
   "source": []
  },
  {
   "cell_type": "code",
   "execution_count": null,
   "metadata": {},
   "outputs": [],
   "source": []
  },
  {
   "cell_type": "code",
   "execution_count": null,
   "metadata": {},
   "outputs": [],
   "source": []
  },
  {
   "cell_type": "code",
   "execution_count": null,
   "metadata": {},
   "outputs": [],
   "source": []
  },
  {
   "cell_type": "code",
   "execution_count": null,
   "metadata": {},
   "outputs": [],
   "source": []
  }
 ],
 "metadata": {
  "kernelspec": {
   "display_name": "Python 3",
   "language": "python",
   "name": "python3"
  },
  "language_info": {
   "codemirror_mode": {
    "name": "ipython",
    "version": 3
   },
   "file_extension": ".py",
   "mimetype": "text/x-python",
   "name": "python",
   "nbconvert_exporter": "python",
   "pygments_lexer": "ipython3",
   "version": "3.6.7"
  }
 },
 "nbformat": 4,
 "nbformat_minor": 2
}
