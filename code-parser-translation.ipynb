{
 "cells": [
  {
   "cell_type": "markdown",
   "metadata": {},
   "source": [
    "# translating matlab code parser"
   ]
  },
  {
   "cell_type": "markdown",
   "metadata": {},
   "source": [
    "## setup"
   ]
  },
  {
   "cell_type": "code",
   "execution_count": null,
   "metadata": {},
   "outputs": [],
   "source": [
    "from pathlib import Path\n",
    "import numpy as np\n",
    "import time\n",
    "\n",
    "from tqdm import tqdm_notebook, tnrange"
   ]
  },
  {
   "cell_type": "markdown",
   "metadata": {},
   "source": [
    "## params"
   ]
  },
  {
   "cell_type": "code",
   "execution_count": 8,
   "metadata": {},
   "outputs": [],
   "source": [
    "# paths\n",
    "#lvm_path = Path(r'data/qim_20kbps_10db_l2_v2.lvm')\n",
    "lvm_path = Path(r'data/test_packet.txt')\n",
    "\n",
    "# signal specific params\n",
    "spb = 20"
   ]
  },
  {
   "cell_type": "markdown",
   "metadata": {},
   "source": [
    "## class building"
   ]
  },
  {
   "cell_type": "code",
   "execution_count": 125,
   "metadata": {},
   "outputs": [],
   "source": [
    "class DataParserLVM:\n",
    "    def __init__(self, lvm_path, source='txt', header=None, preprocess_mode='static'):\n",
    "        print('initializing..')\n",
    "        \n",
    "        # set input path\n",
    "        if isinstance(lvm_path, Path):\n",
    "            try: \n",
    "                assert lvm_path.exists()\n",
    "                self.lvm_path = lvm_path\n",
    "                print(f'\\tset input lvm path: {self.lvm_path}')\n",
    "            except AssertionError:\n",
    "                print(f'no file found at {lvm_path}')\n",
    "                raise                \n",
    "        else:\n",
    "            print(f'invalid path {lvm_path}, must be pathlib.Path object')\n",
    "            raise TypeError\n",
    "                \n",
    "        # header\n",
    "        if header is None:\n",
    "            self.header = np.array([1 if i % 2 == 0 else 0 for i in range(30)])\n",
    "            print(f'\\tset header: {self.header}')\n",
    "        else:\n",
    "            if isinstance(header, list):\n",
    "                self.header = np.array(header)\n",
    "                print(f'\\tset header: {self.header}')\n",
    "            elif isinstance(header, np.array):\n",
    "                self.header = header\n",
    "                print(f'\\tset header: {self.header}')\n",
    "            else:\n",
    "                print(\n",
    "                    f'invalid header format specified ({type(header)}), ' + \n",
    "                    f'must be np.array or list'\n",
    "                )\n",
    "                raise TypeError\n",
    "        \n",
    "        # source\n",
    "        if source == 'txt':\n",
    "            self.parse_other_file()\n",
    "        elif source == 'lvm':\n",
    "            self.parse_lvm_file()\n",
    "            self.read_csv_data()\n",
    "        else:\n",
    "            print(\n",
    "                f'invalid source {source}, options are ' + \n",
    "                '\\'txt\\' for tab delimited numbers only or ' + \n",
    "                '\\'lvm\\' for lvm file with headers'\n",
    "            )        \n",
    "        \n",
    "        # startup tasks\n",
    "        self.preprocess_data(mode=preprocess_mode)\n",
    "        \n",
    "        \n",
    "    def parse_other_file(self):\n",
    "        print('parsing tab delimited file..')\n",
    "        self.raw_data = np.genfromtxt(\n",
    "            self.lvm_path,\n",
    "            delimiter='\\t',\n",
    "            usecols=(1)\n",
    "        )        \n",
    "        print(f'\\timported data, {self.raw_data.size} rows')\n",
    "        \n",
    "            \n",
    "    def parse_lvm_file(self, output_path='auto'):\n",
    "        \"\"\"\n",
    "        reads in .lvm file, writes out .csv with column names\n",
    "        containing only data points\n",
    "        \n",
    "        [arguments]\n",
    "        input_path: str or pathlib.Path object (preferred)\n",
    "            input file path\n",
    "        output_path: 'auto' (preferred) or str or pathlib.Path object\n",
    "            if auto:\n",
    "                appends _parsed.csv to end of input file name\n",
    "            else:\n",
    "                use provided path, must end in .csv\n",
    "                \n",
    "        [returns]\n",
    "        None\n",
    "            outputs parsed lvm file\n",
    "            sets self.parsed_lvm_path, pathlib.Path object pointing to parsed file\n",
    "        \"\"\"\n",
    "        \n",
    "        print('parsing lvm file..')\n",
    "        with open(self.lvm_path, 'r') as infile:\n",
    "            # set output path\n",
    "            file_name = infile.name\n",
    "            \n",
    "            if output_path == 'auto':\n",
    "                self.parsed_lvm_path = Path(f'{file_name}_parsed.csv')\n",
    "            else:\n",
    "                self.parsed_lvm_path = output_path\n",
    "                \n",
    "                if isinstance(parsed_lvm_path, Path):\n",
    "                    try:\n",
    "                        assert str(parsed_lvm_path).endswith('.csv')\n",
    "                    except AssertionError:\n",
    "                        print('output file must end with .csv')\n",
    "                        raise\n",
    "                elif isinstance(parsed_lvm_path, str):\n",
    "                    try:\n",
    "                        assert parsed_lvm_path.endswith('.csv')\n",
    "                    except AssertionError:\n",
    "                        print('output file must end with .csv')\n",
    "                        raise\n",
    "                else:\n",
    "                    print('error, output_path must be str or pathlib.Path object')\n",
    "                    raise TypeError\n",
    "            \n",
    "            if not self.parsed_lvm_path.exists():\n",
    "                self.parsed_lvm_path.touch()\n",
    "            \n",
    "            # find header, store column names\n",
    "            while True:\n",
    "                line = infile.readline()\n",
    "                \n",
    "                if line.strip().endswith('Comment'):\n",
    "                    cols = line.split(',')[:-1]\n",
    "                    print(f'\\tcolumns: {cols}')\n",
    "                    break        \n",
    "                    \n",
    "            # trim file and write out\n",
    "            with open(self.parsed_lvm_path, 'w') as outfile:\n",
    "                outfile.write(', '.join(cols) + '\\n')\n",
    "                while True:\n",
    "                    try:\n",
    "                        outfile.write(next(infile))\n",
    "                    except StopIteration:\n",
    "                        break\n",
    "        \n",
    "        print(f'\\tcomplete, parsed file saved to: {self.parsed_lvm_path}')\n",
    "        \n",
    "    def read_csv_data(self):\n",
    "        print('importing data from parsed csv..')\n",
    "        self.raw_data = np.genfromtxt(\n",
    "            self.parsed_lvm_path,\n",
    "            delimiter=',',\n",
    "            skip_header=1,\n",
    "            usecols=(1)\n",
    "        )\n",
    "        \n",
    "        print(f'\\timported data, {self.raw_data.size} rows')\n",
    "        \n",
    "        \n",
    "    def preprocess_data(self, mode='static'):\n",
    "        \"\"\"\n",
    "        convert float data into 1's and 0's\n",
    "        \n",
    "        static: use 1/2 * max data point as threshold\n",
    "        dynamic: use min + 1/2(max - min) as threshold\n",
    "        \"\"\"\n",
    "        \n",
    "        if mode == 'static':\n",
    "            th = self.raw_data.max() / 2\n",
    "        elif mode == 'dynamic':\n",
    "            th = self.raw_data.min() + (self.raw_data.max() - self.raw_data.min()) / 2\n",
    "        else:\n",
    "            print(f'invalid mode {mode}, options are \\'static\\' or \\'dynamic\\'')        \n",
    "        \n",
    "        shape_check = self.raw_data[np.where(self.raw_data >= th)].size\n",
    "        \n",
    "        self.raw_data[np.where(self.raw_data >= th)] = 1\n",
    "        self.raw_data[np.where(self.raw_data < th)] = 0\n",
    "        \n",
    "        # set dtype and store\n",
    "        self.data = self.raw_data.astype('int')\n",
    "        \n",
    "        # validate\n",
    "        try:\n",
    "            assert self.data.sum() == shape_check            \n",
    "        except AssertionError:\n",
    "            print(\n",
    "                f'error: sum of 1\\'s ({self.data.sum()}) does not match ' + \n",
    "                f'number of entries >= th ({shape_check})'\n",
    "            )\n",
    "        \n",
    "        \n",
    "    def get_state_length_list(self, data):\n",
    "        '''\n",
    "        takes data list ([1,1,0,1,0,0,...]) and returns numpy array \n",
    "        of duration of consecutive bits ([13,245,2588,19,1056,...])\n",
    "        '''\n",
    "        \n",
    "        return np.diff(\n",
    "            np.where(\n",
    "                np.concatenate(\n",
    "                    ([data[0]],\n",
    "                     data[:-1] != data[1:],\n",
    "                     [0]\n",
    "                    )\n",
    "                )\n",
    "            )[0]\n",
    "        )[::2]\n",
    "    \n",
    "\n",
    "    def discretize_signal(self, spb):\n",
    "        start_time = time.time()\n",
    "        print('discretizing signal..')\n",
    "        \n",
    "        # set params\n",
    "        self.spb = spb\n",
    "        \n",
    "        discretized_data = []\n",
    "        start_bit = self.data[0]\n",
    "        alt_bit = 0 if start_bit == 1 else 1\n",
    "        print(f'\\tstarting bit: {start_bit}, alt bit: {alt_bit}')\n",
    "        \n",
    "        # get state lengths\n",
    "        state_lengths = self.get_state_length_list(self.data)\n",
    "        \n",
    "        for i, state in enumerate(state_lengths):\n",
    "            discretized_state = int(np.round(state / self.spb))\n",
    "            #print(f'iter: {i}, discretized state: {discretized_state}')\n",
    "            \n",
    "            if i % 2 == 0:\n",
    "                discretized_data.append([start_bit for j in range(discretized_state)])\n",
    "            elif i % 2 == 1:\n",
    "                discretized_data.append([alt_bit for j in range(discretized_state)])\n",
    "            else:\n",
    "                print('ya done messed up.')\n",
    "        \n",
    "        self.discretized_array = np.array([\n",
    "            item for sublist \n",
    "                in discretized_data \n",
    "            for item in sublist\n",
    "        ])\n",
    "        \n",
    "        reduction = 100 * (self.discretized_array.size / self.data.size)\n",
    "        print(\n",
    "            f'\\tcomplete, discretized signal: {self.discretized_array.size} entries ' + \n",
    "            f'({reduction:0.2f}% of original)\\n'\n",
    "            f'\\tprocessing time: {time.time() - start_time:0.4f} sec, hot damn.'\n",
    "        )\n",
    "        \n",
    "\n",
    "    def search_sequence_numpy(self, arr, seq):\n",
    "        \"\"\" \n",
    "        find sequence in an array \n",
    "    \n",
    "        Parameters\n",
    "        ----------    \n",
    "        arr    : input 1D array\n",
    "        seq    : input 1D array\n",
    "    \n",
    "        Output\n",
    "        ------    \n",
    "        Output : 1D Array of indices in the input array that satisfy the \n",
    "        matching of input sequence in the input array.\n",
    "        In case of no match, an empty list is returned.\n",
    "        \"\"\"\n",
    "    \n",
    "        # Store sizes of input array and sequence\n",
    "        Na, Nseq = arr.size, seq.size\n",
    "    \n",
    "        # Range of sequence\n",
    "        r_seq = np.arange(Nseq)\n",
    "    \n",
    "        # Create a 2D array of sliding indices across the entire length of input array.\n",
    "        # Match up with the input sequence & get the matching starting indices.\n",
    "        M = (arr[np.arange(Na-Nseq+1)[:,None] + r_seq] == seq).all(1)\n",
    "    \n",
    "        # Get the range of those indices as final output\n",
    "        if M.any() >0:\n",
    "            return np.where(\n",
    "                np.convolve(\n",
    "                    M,\n",
    "                    np.ones((Nseq), dtype=int)\n",
    "                ) > 0\n",
    "            )[0]\n",
    "        else:\n",
    "            return []  \n",
    "        \n",
    "    \n",
    "    def output_discretized_array(self, output_path='auto', output_format='csv'):\n",
    "        # set output path\n",
    "        if output_path == 'auto':\n",
    "            output_path = Path(r'data/discretized_array.csv')            \n",
    "        elif isinstance(output_path, Path):\n",
    "            try:\n",
    "                assert output_path.parent.exists()\n",
    "                assert output_path.name.endswith('.csv')\n",
    "            except AssertionError:\n",
    "                print(\n",
    "                    f'parent path ({output_path.parent}) unavailable or ' + \n",
    "                    f'path does not end with .csv ({output_path.name}), ' + \n",
    "                    f'please choose another path'\n",
    "                )\n",
    "                raise\n",
    "        elif isinstance(output_path, str):\n",
    "            try:\n",
    "                output_path = Path(output_path)\n",
    "                assert output_path.parent.exists()\n",
    "                assert output_path.name.endswith('.csv')\n",
    "            except AssertionError:\n",
    "                print(\n",
    "                    f'parent path ({output_path.parent}) unavailable or ' + \n",
    "                    f'path does not end with .csv ({output_path.name}), ' + \n",
    "                    f'please choose another path'\n",
    "                )\n",
    "                raise\n",
    "        else:\n",
    "            print(\n",
    "                f'you really messed up, you provided {output_path} {type(output_path)}, ' + \n",
    "                f'please provide output_path as str or pathlib.Path object ending with .csv'\n",
    "            )            \n",
    "        print(f'set discretized signal output path: {output_path}')\n",
    "                \n",
    "        # output\n",
    "        if output_format == 'csv':\n",
    "            np.savetxt(\n",
    "                output_path,\n",
    "                self.discretized_array,\n",
    "                delimiter=','\n",
    "            )\n",
    "            print(f'\\tsuccessfully saved file to: {output_path}')\n",
    "        else:\n",
    "            print(f'yeah.. csv is actually the only option.. please try again.')\n",
    "            raise TypeError\n",
    "    \n",
    "    \n",
    "    \n",
    "    def main(self):\n",
    "        self.discretize_signal()\n",
    "        \n",
    "        \n",
    "        "
   ]
  },
  {
   "cell_type": "code",
   "execution_count": 146,
   "metadata": {},
   "outputs": [
    {
     "name": "stdout",
     "output_type": "stream",
     "text": [
      "initializing..\n",
      "\tset input lvm path: data\\test_packet.txt\n",
      "\tset header: [1 0 1 0 1 0 1 0 1 0 1 0 1 0 1 0 1 0 1 0 1 0 1 0 1 0 1 0 1 0]\n",
      "parsing tab delimited file..\n",
      "\timported data, 3500000 rows\n"
     ]
    }
   ],
   "source": [
    "DP = DataParserLVM(\n",
    "    lvm_path, \n",
    "    source='txt',\n",
    "    preprocess_mode='dynamic'\n",
    ")"
   ]
  },
  {
   "cell_type": "code",
   "execution_count": 159,
   "metadata": {},
   "outputs": [
    {
     "name": "stdout",
     "output_type": "stream",
     "text": [
      "discretizing signal..\n",
      "\tstarting bit: 0, alt bit: 1\n",
      "\tcomplete, discretized signal: 129478 entries (3.70% of original)\n",
      "\tprocessing time: 0.4956 sec, hot damn.\n"
     ]
    }
   ],
   "source": [
    "DP.discretize_signal(17)"
   ]
  },
  {
   "cell_type": "code",
   "execution_count": 110,
   "metadata": {},
   "outputs": [
    {
     "data": {
      "text/plain": [
       "array([0, 1, 0, 1, 1, 0, 0, 1, 1, 0, 0, 1, 1, 0, 0, 1, 1, 0, 0, 1, 1, 0,\n",
       "       0, 1, 1, 1, 1, 1, 1, 1, 1, 1, 1, 1, 1, 1, 1, 1, 1, 1, 1, 1, 1, 1,\n",
       "       1, 1, 1, 1, 1, 1])"
      ]
     },
     "execution_count": 110,
     "metadata": {},
     "output_type": "execute_result"
    }
   ],
   "source": [
    "DP.discretized_array[:50]"
   ]
  },
  {
   "cell_type": "code",
   "execution_count": null,
   "metadata": {},
   "outputs": [],
   "source": []
  },
  {
   "cell_type": "code",
   "execution_count": null,
   "metadata": {},
   "outputs": [],
   "source": []
  },
  {
   "cell_type": "code",
   "execution_count": null,
   "metadata": {},
   "outputs": [],
   "source": []
  },
  {
   "cell_type": "code",
   "execution_count": 53,
   "metadata": {},
   "outputs": [
    {
     "name": "stdout",
     "output_type": "stream",
     "text": [
      "set discretized signal output path: data\\discretized_array.csv\n",
      "\tsuccessfully saved file to: data\\discretized_array.csv\n"
     ]
    }
   ],
   "source": [
    "DP.output_discretized_array()"
   ]
  },
  {
   "cell_type": "code",
   "execution_count": null,
   "metadata": {},
   "outputs": [],
   "source": []
  },
  {
   "cell_type": "markdown",
   "metadata": {},
   "source": [
    "## message search"
   ]
  },
  {
   "cell_type": "code",
   "execution_count": 119,
   "metadata": {},
   "outputs": [],
   "source": [
    "sample_rate = 200e3                         # samples / sec\n",
    "sample_spacing = 1 / sample_rate            # sec / sample\n",
    "scaler = 240e-6 / sample_spacing / DP.spb   # num samples"
   ]
  },
  {
   "cell_type": "code",
   "execution_count": 160,
   "metadata": {},
   "outputs": [
    {
     "name": "stdout",
     "output_type": "stream",
     "text": [
      "120\n"
     ]
    },
    {
     "data": {
      "text/plain": [
       "array([1, 0, 1, 0, 1, 0, 1, 0, 1, 0, 1, 0, 1, 0, 1, 0, 1, 0, 1, 0, 1, 1,\n",
       "       0, 0, 1, 1, 0, 0, 1, 1, 0, 0, 1, 1, 0, 0, 1, 1, 0, 0, 1, 1, 0, 0,\n",
       "       1, 1, 0, 0, 1, 1, 0, 0, 1, 1, 0, 0, 1, 1, 0, 0, 1, 0, 1, 0, 1, 0,\n",
       "       1, 0, 1, 0, 1, 0, 1, 0, 1, 0, 1, 0, 1, 0, 1, 1, 0, 0, 1, 1, 0, 0,\n",
       "       1, 1, 0, 0, 1, 1, 0, 0, 1, 1, 0, 0, 1, 1, 0, 0, 1, 1, 0, 0, 1, 1,\n",
       "       0, 0, 1, 1, 0, 0, 1, 1, 0, 0])"
      ]
     },
     "execution_count": 160,
     "metadata": {},
     "output_type": "execute_result"
    }
   ],
   "source": [
    "scaler = 1\n",
    "\n",
    "base = np.array([1 if i % 2 == 0 else 0 for i in range(20)])\n",
    "\n",
    "data_msg = np.concatenate((\n",
    "    np.repeat(base, scaler), \n",
    "    np.repeat(base, 2*scaler), \n",
    "    np.repeat(base, scaler), \n",
    "    np.repeat(base, 2*scaler)\n",
    "))\n",
    "\n",
    "print(data_msg.size)\n",
    "data_msg"
   ]
  },
  {
   "cell_type": "code",
   "execution_count": 161,
   "metadata": {},
   "outputs": [
    {
     "data": {
      "text/plain": [
       "array([1, 0, 1, 0, 1, 0, 1, 0, 1, 0, 1, 0, 1, 0, 1, 0, 1, 0, 1, 0])"
      ]
     },
     "execution_count": 161,
     "metadata": {},
     "output_type": "execute_result"
    }
   ],
   "source": [
    "data_msg[:20]"
   ]
  },
  {
   "cell_type": "code",
   "execution_count": 162,
   "metadata": {},
   "outputs": [
    {
     "data": {
      "text/plain": [
       "[]"
      ]
     },
     "execution_count": 162,
     "metadata": {},
     "output_type": "execute_result"
    }
   ],
   "source": [
    "DP.search_sequence_numpy(\n",
    "    DP.discretized_array,\n",
    "    data_msg\n",
    ")"
   ]
  },
  {
   "cell_type": "code",
   "execution_count": 157,
   "metadata": {},
   "outputs": [
    {
     "data": {
      "application/vnd.jupyter.widget-view+json": {
       "model_id": "1eea4e382aee4479b3f3dc1acab6bb54",
       "version_major": 2,
       "version_minor": 0
      },
      "text/plain": [
       "HBox(children=(IntProgress(value=0, max=49), HTML(value='')))"
      ]
     },
     "metadata": {},
     "output_type": "display_data"
    },
    {
     "name": "stdout",
     "output_type": "stream",
     "text": [
      "\n"
     ]
    }
   ],
   "source": [
    "scaler_dict = {}\n",
    "\n",
    "for scaler in tnrange(1,50,1):\n",
    "    data_msg = np.concatenate((\n",
    "        np.repeat(base, scaler), \n",
    "        np.repeat(base, 2*scaler), \n",
    "        np.repeat(base, scaler), \n",
    "        np.repeat(base, 2*scaler)\n",
    "    ))\n",
    "    \n",
    "    scaler_dict[scaler] = DP.search_sequence_numpy(\n",
    "        DP.discretized_array,\n",
    "        data_msg\n",
    "    )"
   ]
  },
  {
   "cell_type": "code",
   "execution_count": null,
   "metadata": {},
   "outputs": [],
   "source": [
    "scaler_dict"
   ]
  },
  {
   "cell_type": "code",
   "execution_count": 158,
   "metadata": {},
   "outputs": [
    {
     "data": {
      "text/plain": [
       "[(1, 0),\n",
       " (2, 0),\n",
       " (3, 0),\n",
       " (4, 0),\n",
       " (5, 0),\n",
       " (6, 0),\n",
       " (7, 0),\n",
       " (8, 0),\n",
       " (9, 0),\n",
       " (10, 0),\n",
       " (11, 0),\n",
       " (12, 0),\n",
       " (13, 0),\n",
       " (14, 0),\n",
       " (15, 0),\n",
       " (16, 0),\n",
       " (17, 0),\n",
       " (18, 0),\n",
       " (19, 0),\n",
       " (20, 0),\n",
       " (21, 0),\n",
       " (22, 0),\n",
       " (23, 0),\n",
       " (24, 0),\n",
       " (25, 0),\n",
       " (26, 0),\n",
       " (27, 0),\n",
       " (28, 0),\n",
       " (29, 0),\n",
       " (30, 0),\n",
       " (31, 0),\n",
       " (32, 0),\n",
       " (33, 0),\n",
       " (34, 0),\n",
       " (35, 0),\n",
       " (36, 0),\n",
       " (37, 0),\n",
       " (38, 0),\n",
       " (39, 0),\n",
       " (40, 0),\n",
       " (41, 0),\n",
       " (42, 0),\n",
       " (43, 0),\n",
       " (44, 0),\n",
       " (45, 0),\n",
       " (46, 0),\n",
       " (47, 0),\n",
       " (48, 0),\n",
       " (49, 0)]"
      ]
     },
     "execution_count": 158,
     "metadata": {},
     "output_type": "execute_result"
    }
   ],
   "source": [
    "[\n",
    "    (scaler, len(matches))\n",
    "    for scaler, matches in scaler_dict.items()\n",
    "]"
   ]
  },
  {
   "cell_type": "code",
   "execution_count": null,
   "metadata": {},
   "outputs": [],
   "source": []
  },
  {
   "cell_type": "code",
   "execution_count": null,
   "metadata": {},
   "outputs": [],
   "source": []
  },
  {
   "cell_type": "code",
   "execution_count": null,
   "metadata": {},
   "outputs": [],
   "source": []
  },
  {
   "cell_type": "markdown",
   "metadata": {},
   "source": [
    "## visualiziation "
   ]
  },
  {
   "cell_type": "code",
   "execution_count": 111,
   "metadata": {},
   "outputs": [],
   "source": [
    "# seaborn with custom background\n",
    "import matplotlib.pyplot as plt\n",
    "%matplotlib inline\n",
    "import seaborn as sns\n",
    "sns.set(style='darkgrid',rc={'figure.facecolor':'#abb2bf'})"
   ]
  },
  {
   "cell_type": "markdown",
   "metadata": {},
   "source": [
    "### discretized vs real"
   ]
  },
  {
   "cell_type": "code",
   "execution_count": 112,
   "metadata": {},
   "outputs": [],
   "source": [
    "def compare_plots(start, stop):\n",
    "    fig, ((ax1, ax2)) = plt.subplots(2, 1, sharex=False, sharey=True, figsize=(20,12))\n",
    "    \n",
    "    ax1.stem(DP.raw_data[start*DP.spb:stop*DP.spb])\n",
    "    ax2.stem(DP.discretized_array[start:stop])    \n",
    "    "
   ]
  },
  {
   "cell_type": "code",
   "execution_count": 167,
   "metadata": {},
   "outputs": [
    {
     "data": {
      "image/png": "[encoded data removed]",
      "text/plain": [
       "<Figure size 1440x864 with 2 Axes>"
      ]
     },
     "metadata": {},
     "output_type": "display_data"
    }
   ],
   "source": [
    "compare_plots(0, 100)"
   ]
  },
  {
   "cell_type": "code",
   "execution_count": 168,
   "metadata": {},
   "outputs": [
    {
     "data": {
      "image/png": "[encoded data removed]",
      "text/plain": [
       "<Figure size 1440x864 with 2 Axes>"
      ]
     },
     "metadata": {},
     "output_type": "display_data"
    }
   ],
   "source": [
    "compare_plots(150, 200)"
   ]
  },
  {
   "cell_type": "code",
   "execution_count": null,
   "metadata": {},
   "outputs": [],
   "source": []
  },
  {
   "cell_type": "code",
   "execution_count": null,
   "metadata": {},
   "outputs": [],
   "source": []
  },
  {
   "cell_type": "code",
   "execution_count": null,
   "metadata": {},
   "outputs": [],
   "source": []
  },
  {
   "cell_type": "code",
   "execution_count": 63,
   "metadata": {},
   "outputs": [],
   "source": [
    "start = 1000\n",
    "stop = 1100"
   ]
  },
  {
   "cell_type": "code",
   "execution_count": 64,
   "metadata": {},
   "outputs": [
    {
     "data": {
      "text/plain": [
       "<StemContainer object of 3 artists>"
      ]
     },
     "execution_count": 64,
     "metadata": {},
     "output_type": "execute_result"
    },
    {
     "data": {
      "image/png": "[encoded data removed]",
      "text/plain": [
       "<Figure size 1440x432 with 1 Axes>"
      ]
     },
     "metadata": {},
     "output_type": "display_data"
    }
   ],
   "source": [
    "plt.figure(figsize=(25,6))\n",
    "plt.stem(DP.raw_data[start*DP.spb:stop*DP.spb])"
   ]
  },
  {
   "cell_type": "code",
   "execution_count": null,
   "metadata": {},
   "outputs": [],
   "source": []
  },
  {
   "cell_type": "code",
   "execution_count": null,
   "metadata": {},
   "outputs": [],
   "source": [
    "plt.figure(figsize=(20,6))\n",
    "plt.stem(DP.discretized_array[start:stop])"
   ]
  },
  {
   "cell_type": "code",
   "execution_count": null,
   "metadata": {},
   "outputs": [],
   "source": []
  },
  {
   "cell_type": "code",
   "execution_count": null,
   "metadata": {},
   "outputs": [],
   "source": []
  },
  {
   "cell_type": "code",
   "execution_count": null,
   "metadata": {},
   "outputs": [],
   "source": []
  },
  {
   "cell_type": "code",
   "execution_count": null,
   "metadata": {},
   "outputs": [],
   "source": []
  },
  {
   "cell_type": "code",
   "execution_count": null,
   "metadata": {},
   "outputs": [],
   "source": []
  },
  {
   "cell_type": "code",
   "execution_count": null,
   "metadata": {},
   "outputs": [],
   "source": []
  },
  {
   "cell_type": "markdown",
   "metadata": {},
   "source": [
    "### spb brute force attempt"
   ]
  },
  {
   "cell_type": "code",
   "execution_count": 127,
   "metadata": {},
   "outputs": [],
   "source": [
    "from collections import Counter"
   ]
  },
  {
   "cell_type": "code",
   "execution_count": 141,
   "metadata": {},
   "outputs": [
    {
     "name": "stdout",
     "output_type": "stream",
     "text": [
      "spb_list: 49 elements\n"
     ]
    }
   ],
   "source": [
    "spb_list = [i for i in range(1, 50, 1)]\n",
    "print(f'spb_list: {len(spb_list)} elements')"
   ]
  },
  {
   "cell_type": "code",
   "execution_count": 142,
   "metadata": {},
   "outputs": [
    {
     "data": {
      "application/vnd.jupyter.widget-view+json": {
       "model_id": "3caf7124ab174d0aaa9c27ef5f2f3750",
       "version_major": 2,
       "version_minor": 0
      },
      "text/plain": [
       "HBox(children=(IntProgress(value=0, max=49), HTML(value='')))"
      ]
     },
     "metadata": {},
     "output_type": "display_data"
    },
    {
     "name": "stdout",
     "output_type": "stream",
     "text": [
      "discretizing signal..\n",
      "\tstarting bit: 0, alt bit: 1\n",
      "\tcomplete, discretized signal: 1983548 entries (56.67% of original)\n",
      "\tprocessing time: 0.5388 sec, hot damn.\n",
      "discretizing signal..\n",
      "\tstarting bit: 0, alt bit: 1\n",
      "\tcomplete, discretized signal: 1003496 entries (28.67% of original)\n",
      "\tprocessing time: 0.6150 sec, hot damn.\n",
      "discretizing signal..\n",
      "\tstarting bit: 0, alt bit: 1\n",
      "\tcomplete, discretized signal: 649130 entries (18.55% of original)\n",
      "\tprocessing time: 0.3960 sec, hot damn.\n",
      "discretizing signal..\n",
      "\tstarting bit: 0, alt bit: 1\n",
      "\tcomplete, discretized signal: 491827 entries (14.05% of original)\n",
      "\tprocessing time: 0.5395 sec, hot damn.\n",
      "discretizing signal..\n",
      "\tstarting bit: 0, alt bit: 1\n",
      "\tcomplete, discretized signal: 389006 entries (11.11% of original)\n",
      "\tprocessing time: 0.3371 sec, hot damn.\n",
      "discretizing signal..\n",
      "\tstarting bit: 0, alt bit: 1\n",
      "\tcomplete, discretized signal: 354366 entries (10.12% of original)\n",
      "\tprocessing time: 0.5088 sec, hot damn.\n",
      "discretizing signal..\n",
      "\tstarting bit: 0, alt bit: 1\n",
      "\tcomplete, discretized signal: 268302 entries (7.67% of original)\n",
      "\tprocessing time: 0.3350 sec, hot damn.\n",
      "discretizing signal..\n",
      "\tstarting bit: 0, alt bit: 1\n",
      "\tcomplete, discretized signal: 238518 entries (6.81% of original)\n",
      "\tprocessing time: 0.4938 sec, hot damn.\n",
      "discretizing signal..\n",
      "\tstarting bit: 0, alt bit: 1\n",
      "\tcomplete, discretized signal: 207734 entries (5.94% of original)\n",
      "\tprocessing time: 0.3031 sec, hot damn.\n",
      "discretizing signal..\n",
      "\tstarting bit: 0, alt bit: 1\n",
      "\tcomplete, discretized signal: 190813 entries (5.45% of original)\n",
      "\tprocessing time: 0.3160 sec, hot damn.\n",
      "discretizing signal..\n",
      "\tstarting bit: 0, alt bit: 1\n",
      "\tcomplete, discretized signal: 182725 entries (5.22% of original)\n",
      "\tprocessing time: 0.4714 sec, hot damn.\n",
      "discretizing signal..\n",
      "\tstarting bit: 0, alt bit: 1\n",
      "\tcomplete, discretized signal: 177183 entries (5.06% of original)\n",
      "\tprocessing time: 0.2993 sec, hot damn.\n",
      "discretizing signal..\n",
      "\tstarting bit: 0, alt bit: 1\n",
      "\tcomplete, discretized signal: 171731 entries (4.91% of original)\n",
      "\tprocessing time: 0.4720 sec, hot damn.\n",
      "discretizing signal..\n",
      "\tstarting bit: 0, alt bit: 1\n",
      "\tcomplete, discretized signal: 167642 entries (4.79% of original)\n",
      "\tprocessing time: 0.3130 sec, hot damn.\n",
      "discretizing signal..\n",
      "\tstarting bit: 0, alt bit: 1\n",
      "\tcomplete, discretized signal: 143673 entries (4.10% of original)\n",
      "\tprocessing time: 0.4671 sec, hot damn.\n",
      "discretizing signal..\n",
      "\tstarting bit: 0, alt bit: 1\n",
      "\tcomplete, discretized signal: 132294 entries (3.78% of original)\n",
      "\tprocessing time: 0.3075 sec, hot damn.\n",
      "discretizing signal..\n",
      "\tstarting bit: 0, alt bit: 1\n",
      "\tcomplete, discretized signal: 129478 entries (3.70% of original)\n",
      "\tprocessing time: 0.4672 sec, hot damn.\n",
      "discretizing signal..\n",
      "\tstarting bit: 0, alt bit: 1\n",
      "\tcomplete, discretized signal: 126752 entries (3.62% of original)\n",
      "\tprocessing time: 0.3080 sec, hot damn.\n",
      "discretizing signal..\n",
      "\tstarting bit: 0, alt bit: 1\n",
      "\tcomplete, discretized signal: 125389 entries (3.58% of original)\n",
      "\tprocessing time: 0.4742 sec, hot damn.\n",
      "discretizing signal..\n",
      "\tstarting bit: 0, alt bit: 1\n",
      "\tcomplete, discretized signal: 82941 entries (2.37% of original)\n",
      "\tprocessing time: 0.2930 sec, hot damn.\n",
      "discretizing signal..\n",
      "\tstarting bit: 0, alt bit: 1\n",
      "\tcomplete, discretized signal: 81578 entries (2.33% of original)\n",
      "\tprocessing time: 0.4477 sec, hot damn.\n",
      "discretizing signal..\n",
      "\tstarting bit: 0, alt bit: 1\n",
      "\tcomplete, discretized signal: 64061 entries (1.83% of original)\n",
      "\tprocessing time: 0.2830 sec, hot damn.\n",
      "discretizing signal..\n",
      "\tstarting bit: 0, alt bit: 1\n",
      "\tcomplete, discretized signal: 62698 entries (1.79% of original)\n",
      "\tprocessing time: 0.4550 sec, hot damn.\n",
      "discretizing signal..\n",
      "\tstarting bit: 0, alt bit: 1\n",
      "\tcomplete, discretized signal: 61335 entries (1.75% of original)\n",
      "\tprocessing time: 0.2910 sec, hot damn.\n",
      "discretizing signal..\n",
      "\tstarting bit: 0, alt bit: 1\n",
      "\tcomplete, discretized signal: 59972 entries (1.71% of original)\n",
      "\tprocessing time: 0.2739 sec, hot damn.\n",
      "discretizing signal..\n",
      "\tstarting bit: 0, alt bit: 1\n",
      "\tcomplete, discretized signal: 58609 entries (1.67% of original)\n",
      "\tprocessing time: 0.4660 sec, hot damn.\n",
      "discretizing signal..\n",
      "\tstarting bit: 0, alt bit: 1\n",
      "\tcomplete, discretized signal: 57246 entries (1.64% of original)\n",
      "\tprocessing time: 0.2812 sec, hot damn.\n",
      "discretizing signal..\n",
      "\tstarting bit: 0, alt bit: 1\n",
      "\tcomplete, discretized signal: 55883 entries (1.60% of original)\n",
      "\tprocessing time: 0.4580 sec, hot damn.\n",
      "discretizing signal..\n",
      "\tstarting bit: 0, alt bit: 1\n",
      "\tcomplete, discretized signal: 55883 entries (1.60% of original)\n",
      "\tprocessing time: 0.2980 sec, hot damn.\n",
      "discretizing signal..\n",
      "\tstarting bit: 0, alt bit: 1\n",
      "\tcomplete, discretized signal: 54520 entries (1.56% of original)\n",
      "\tprocessing time: 0.4522 sec, hot damn.\n",
      "discretizing signal..\n",
      "\tstarting bit: 0, alt bit: 1\n",
      "\tcomplete, discretized signal: 53157 entries (1.52% of original)\n",
      "\tprocessing time: 0.2612 sec, hot damn.\n",
      "discretizing signal..\n",
      "\tstarting bit: 0, alt bit: 1\n",
      "\tcomplete, discretized signal: 53157 entries (1.52% of original)\n",
      "\tprocessing time: 0.4551 sec, hot damn.\n",
      "discretizing signal..\n",
      "\tstarting bit: 0, alt bit: 1\n",
      "\tcomplete, discretized signal: 51794 entries (1.48% of original)\n",
      "\tprocessing time: 0.2825 sec, hot damn.\n",
      "discretizing signal..\n",
      "\tstarting bit: 0, alt bit: 1\n",
      "\tcomplete, discretized signal: 51794 entries (1.48% of original)\n",
      "\tprocessing time: 0.4542 sec, hot damn.\n",
      "discretizing signal..\n",
      "\tstarting bit: 0, alt bit: 1\n",
      "\tcomplete, discretized signal: 50431 entries (1.44% of original)\n",
      "\tprocessing time: 0.2803 sec, hot damn.\n",
      "discretizing signal..\n",
      "\tstarting bit: 0, alt bit: 1\n",
      "\tcomplete, discretized signal: 50431 entries (1.44% of original)\n",
      "\tprocessing time: 0.4550 sec, hot damn.\n",
      "discretizing signal..\n",
      "\tstarting bit: 0, alt bit: 1\n",
      "\tcomplete, discretized signal: 49068 entries (1.40% of original)\n",
      "\tprocessing time: 0.2619 sec, hot damn.\n",
      "discretizing signal..\n",
      "\tstarting bit: 0, alt bit: 1\n",
      "\tcomplete, discretized signal: 49068 entries (1.40% of original)\n",
      "\tprocessing time: 0.4550 sec, hot damn.\n",
      "discretizing signal..\n",
      "\tstarting bit: 0, alt bit: 1\n",
      "\tcomplete, discretized signal: 47705 entries (1.36% of original)\n",
      "\tprocessing time: 0.2777 sec, hot damn.\n",
      "discretizing signal..\n",
      "\tstarting bit: 0, alt bit: 1\n",
      "\tcomplete, discretized signal: 47705 entries (1.36% of original)\n",
      "\tprocessing time: 0.2860 sec, hot damn.\n",
      "discretizing signal..\n",
      "\tstarting bit: 0, alt bit: 1\n",
      "\tcomplete, discretized signal: 47705 entries (1.36% of original)\n",
      "\tprocessing time: 0.4444 sec, hot damn.\n",
      "discretizing signal..\n",
      "\tstarting bit: 0, alt bit: 1\n",
      "\tcomplete, discretized signal: 46342 entries (1.32% of original)\n",
      "\tprocessing time: 0.2814 sec, hot damn.\n",
      "discretizing signal..\n",
      "\tstarting bit: 0, alt bit: 1\n",
      "\tcomplete, discretized signal: 46342 entries (1.32% of original)\n",
      "\tprocessing time: 0.4583 sec, hot damn.\n",
      "discretizing signal..\n",
      "\tstarting bit: 0, alt bit: 1\n",
      "\tcomplete, discretized signal: 26462 entries (0.76% of original)\n",
      "\tprocessing time: 0.2860 sec, hot damn.\n",
      "discretizing signal..\n",
      "\tstarting bit: 0, alt bit: 1\n",
      "\tcomplete, discretized signal: 25099 entries (0.72% of original)\n",
      "\tprocessing time: 0.4484 sec, hot damn.\n",
      "discretizing signal..\n",
      "\tstarting bit: 0, alt bit: 1\n",
      "\tcomplete, discretized signal: 17719 entries (0.51% of original)\n",
      "\tprocessing time: 0.2822 sec, hot damn.\n",
      "discretizing signal..\n",
      "\tstarting bit: 0, alt bit: 1\n",
      "\tcomplete, discretized signal: 17719 entries (0.51% of original)\n",
      "\tprocessing time: 0.4487 sec, hot damn.\n",
      "discretizing signal..\n",
      "\tstarting bit: 0, alt bit: 1\n",
      "\tcomplete, discretized signal: 16356 entries (0.47% of original)\n",
      "\tprocessing time: 0.2818 sec, hot damn.\n",
      "discretizing signal..\n",
      "\tstarting bit: 0, alt bit: 1\n",
      "\tcomplete, discretized signal: 16356 entries (0.47% of original)\n",
      "\tprocessing time: 0.4348 sec, hot damn.\n",
      "\n"
     ]
    }
   ],
   "source": [
    "result_dict = {}\n",
    "\n",
    "for spb in tqdm_notebook(spb_list):\n",
    "    DP.discretize_signal(spb)    \n",
    "    \n",
    "    result_dict[spb] = DP.search_sequence_numpy(\n",
    "        DP.discretized_array, \n",
    "        DP.header\n",
    "    )"
   ]
  },
  {
   "cell_type": "code",
   "execution_count": 145,
   "metadata": {},
   "outputs": [
    {
     "data": {
      "text/plain": [
       "{1: [],\n",
       " 2: [],\n",
       " 3: [],\n",
       " 4: [],\n",
       " 5: [],\n",
       " 6: [],\n",
       " 7: [],\n",
       " 8: [],\n",
       " 9: [],\n",
       " 10: [],\n",
       " 11: [],\n",
       " 12: [],\n",
       " 13: [],\n",
       " 14: [],\n",
       " 15: [(1, 58190), (40, 945), (1713, 3)],\n",
       " 16: [(1, 81759), (37, 1272), (38, 90)],\n",
       " 17: [(1, 81759), (35, 1362)],\n",
       " 18: [(1, 81759), (33, 1362)],\n",
       " 19: [(1, 81759), (32, 1362)],\n",
       " 20: [(1, 20233), (30, 309), (1890, 2)],\n",
       " 21: [(1, 20233), (29, 309), (1853, 2)],\n",
       " 22: [],\n",
       " 23: [],\n",
       " 24: [],\n",
       " 25: [],\n",
       " 26: [],\n",
       " 27: [],\n",
       " 28: [],\n",
       " 29: [],\n",
       " 30: [],\n",
       " 31: [],\n",
       " 32: [],\n",
       " 33: [],\n",
       " 34: [],\n",
       " 35: [],\n",
       " 36: [],\n",
       " 37: [],\n",
       " 38: [],\n",
       " 39: [],\n",
       " 40: [],\n",
       " 41: [],\n",
       " 42: [],\n",
       " 43: [],\n",
       " 44: [],\n",
       " 45: [],\n",
       " 46: [],\n",
       " 47: [],\n",
       " 48: [],\n",
       " 49: []}"
      ]
     },
     "execution_count": 145,
     "metadata": {},
     "output_type": "execute_result"
    }
   ],
   "source": [
    "frequencies = {\n",
    "    spb: Counter(np.diff(matches)).most_common(3)\n",
    "    for spb, matches in result_dict.items()\n",
    "}\n",
    "\n",
    "frequencies"
   ]
  },
  {
   "cell_type": "code",
   "execution_count": null,
   "metadata": {},
   "outputs": [],
   "source": []
  },
  {
   "cell_type": "code",
   "execution_count": null,
   "metadata": {},
   "outputs": [],
   "source": []
  }
 ],
 "metadata": {
  "kernelspec": {
   "display_name": "Python 3",
   "language": "python",
   "name": "python3"
  },
  "language_info": {
   "codemirror_mode": {
    "name": "ipython",
    "version": 3
   },
   "file_extension": ".py",
   "mimetype": "text/x-python",
   "name": "python",
   "nbconvert_exporter": "python",
   "pygments_lexer": "ipython3",
   "version": "3.6.7"
  }
 },
 "nbformat": 4,
 "nbformat_minor": 2
}
