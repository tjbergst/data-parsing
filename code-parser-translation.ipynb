{
 "cells": [
  {
   "cell_type": "markdown",
   "metadata": {},
   "source": [
    "# translating matlab code parser"
   ]
  },
  {
   "cell_type": "markdown",
   "metadata": {},
   "source": [
    "## setup"
   ]
  },
  {
   "cell_type": "code",
   "execution_count": 55,
   "metadata": {},
   "outputs": [],
   "source": [
    "from pathlib import Path\n",
    "import numpy as np\n",
    "import pandas as pd\n",
    "import time\n",
    "\n",
    "from itertools import groupby\n",
    "from collections import Counter\n",
    "\n",
    "from tqdm import tqdm_notebook, tnrange"
   ]
  },
  {
   "cell_type": "markdown",
   "metadata": {},
   "source": [
    "## params"
   ]
  },
  {
   "cell_type": "code",
   "execution_count": 2,
   "metadata": {},
   "outputs": [],
   "source": [
    "# paths\n",
    "#lvm_path = Path(r'data/qim_20kbps_10db_l2_v2.lvm')\n",
    "lvm_path = Path(r'data/test_packet.txt')\n",
    "\n",
    "# signal specific params\n",
    "spb = 20"
   ]
  },
  {
   "cell_type": "markdown",
   "metadata": {},
   "source": [
    "## class building"
   ]
  },
  {
   "cell_type": "code",
   "execution_count": 59,
   "metadata": {},
   "outputs": [],
   "source": [
    "class DataParserLVM:\n",
    "    def __init__(self, lvm_path, source='txt', header=None, preprocess_mode='static'):\n",
    "        print('initializing..')\n",
    "        \n",
    "        # set input path\n",
    "        if isinstance(lvm_path, Path):\n",
    "            try: \n",
    "                assert lvm_path.exists()\n",
    "                self.lvm_path = lvm_path\n",
    "                print(f'\\tset input lvm path: {self.lvm_path}')\n",
    "            except AssertionError:\n",
    "                print(f'no file found at {lvm_path}')\n",
    "                raise                \n",
    "        else:\n",
    "            print(f'invalid path {lvm_path}, must be pathlib.Path object')\n",
    "            raise TypeError\n",
    "                \n",
    "        # header\n",
    "        if header is None:\n",
    "            self.header = np.array([1 if i % 2 == 0 else 0 for i in range(30)])\n",
    "            print(f'\\tset header: {self.header}')\n",
    "        else:\n",
    "            if isinstance(header, list):\n",
    "                self.header = np.array(header)\n",
    "                print(f'\\tset header: {self.header}')\n",
    "            elif isinstance(header, np.array):\n",
    "                self.header = header\n",
    "                print(f'\\tset header: {self.header}')\n",
    "            else:\n",
    "                print(\n",
    "                    f'invalid header format specified ({type(header)}), ' + \n",
    "                    f'must be np.array or list'\n",
    "                )\n",
    "                raise TypeError\n",
    "        \n",
    "        # source\n",
    "        if source == 'txt':\n",
    "            self.parse_other_file()\n",
    "        elif source == 'lvm':\n",
    "            self.parse_lvm_file()\n",
    "            self.read_csv_data()\n",
    "        else:\n",
    "            print(\n",
    "                f'invalid source {source}, options are ' + \n",
    "                '\\'txt\\' for tab delimited numbers only or ' + \n",
    "                '\\'lvm\\' for lvm file with headers'\n",
    "            )        \n",
    "        \n",
    "        # startup tasks\n",
    "        self.preprocess_data(mode=preprocess_mode)\n",
    "        \n",
    "        \n",
    "    def parse_other_file(self):\n",
    "        print('parsing tab delimited file..')\n",
    "        self.raw_data = np.genfromtxt(\n",
    "            self.lvm_path,\n",
    "            delimiter='\\t',\n",
    "            usecols=(1)\n",
    "        )        \n",
    "        print(f'\\timported data, {self.raw_data.size} rows')\n",
    "        \n",
    "            \n",
    "    def parse_lvm_file(self, output_path='auto'):\n",
    "        \"\"\"\n",
    "        reads in .lvm file, writes out .csv with column names\n",
    "        containing only data points\n",
    "        \n",
    "        [arguments]\n",
    "        input_path: str or pathlib.Path object (preferred)\n",
    "            input file path\n",
    "        output_path: 'auto' (preferred) or str or pathlib.Path object\n",
    "            if auto:\n",
    "                appends _parsed.csv to end of input file name\n",
    "            else:\n",
    "                use provided path, must end in .csv\n",
    "                \n",
    "        [returns]\n",
    "        None\n",
    "            outputs parsed lvm file\n",
    "            sets self.parsed_lvm_path, pathlib.Path object pointing to parsed file\n",
    "        \"\"\"\n",
    "        \n",
    "        print('parsing lvm file..')\n",
    "        with open(self.lvm_path, 'r') as infile:\n",
    "            # set output path\n",
    "            file_name = infile.name\n",
    "            \n",
    "            if output_path == 'auto':\n",
    "                self.parsed_lvm_path = Path(f'{file_name}_parsed.csv')\n",
    "            else:\n",
    "                self.parsed_lvm_path = output_path\n",
    "                \n",
    "                if isinstance(parsed_lvm_path, Path):\n",
    "                    try:\n",
    "                        assert str(parsed_lvm_path).endswith('.csv')\n",
    "                    except AssertionError:\n",
    "                        print('output file must end with .csv')\n",
    "                        raise\n",
    "                elif isinstance(parsed_lvm_path, str):\n",
    "                    try:\n",
    "                        assert parsed_lvm_path.endswith('.csv')\n",
    "                    except AssertionError:\n",
    "                        print('output file must end with .csv')\n",
    "                        raise\n",
    "                else:\n",
    "                    print('error, output_path must be str or pathlib.Path object')\n",
    "                    raise TypeError\n",
    "            \n",
    "            if not self.parsed_lvm_path.exists():\n",
    "                self.parsed_lvm_path.touch()\n",
    "            \n",
    "            # find header, store column names\n",
    "            while True:\n",
    "                line = infile.readline()\n",
    "                \n",
    "                if line.strip().endswith('Comment'):\n",
    "                    cols = line.split(',')[:-1]\n",
    "                    print(f'\\tcolumns: {cols}')\n",
    "                    break        \n",
    "                    \n",
    "            # trim file and write out\n",
    "            with open(self.parsed_lvm_path, 'w') as outfile:\n",
    "                outfile.write(', '.join(cols) + '\\n')\n",
    "                while True:\n",
    "                    try:\n",
    "                        outfile.write(next(infile))\n",
    "                    except StopIteration:\n",
    "                        break\n",
    "        \n",
    "        print(f'\\tcomplete, parsed file saved to: {self.parsed_lvm_path}')\n",
    "        \n",
    "    def read_csv_data(self):\n",
    "        print('importing data from parsed csv..')\n",
    "        self.raw_data = np.genfromtxt(\n",
    "            self.parsed_lvm_path,\n",
    "            delimiter=',',\n",
    "            skip_header=1,\n",
    "            usecols=(1)\n",
    "        )\n",
    "        \n",
    "        print(f'\\timported data, {self.raw_data.size} rows')\n",
    "        \n",
    "        \n",
    "    def preprocess_data(self, mode='static'):\n",
    "        \"\"\"\n",
    "        convert float data into 1's and 0's\n",
    "        \n",
    "        static: use 1/2 * max data point as threshold\n",
    "        dynamic: use min + 1/2(max - min) as threshold\n",
    "        \"\"\"\n",
    "        \n",
    "        if mode == 'static':\n",
    "            th = self.raw_data.max() / 2\n",
    "        elif mode == 'dynamic':\n",
    "            th = self.raw_data.min() + (self.raw_data.max() - self.raw_data.min()) / 2\n",
    "        else:\n",
    "            print(f'invalid mode {mode}, options are \\'static\\' or \\'dynamic\\'')        \n",
    "        \n",
    "        shape_check = self.raw_data[np.where(self.raw_data >= th)].size\n",
    "        \n",
    "        self.raw_data[np.where(self.raw_data >= th)] = 1\n",
    "        self.raw_data[np.where(self.raw_data < th)] = 0\n",
    "        \n",
    "        # set dtype and store\n",
    "        self.data = self.raw_data.astype('int')[7:]\n",
    "        \n",
    "        # validate\n",
    "        try:\n",
    "            assert self.data.sum() == shape_check            \n",
    "        except AssertionError:\n",
    "            print(\n",
    "                f'error: sum of 1\\'s ({self.data.sum()}) does not match ' + \n",
    "                f'number of entries >= th ({shape_check})'\n",
    "            )\n",
    "        \n",
    "        \n",
    "    def get_state_length_list(self, data):\n",
    "        '''\n",
    "        takes data list ([1,1,0,1,0,0,...]) and returns numpy array \n",
    "        of duration of consecutive bits ([13,245,2588,19,1056,...])\n",
    "        '''\n",
    "        \n",
    "        return np.diff(\n",
    "            np.where(\n",
    "                np.concatenate(\n",
    "                    ([data[0]],\n",
    "                     data[:-1] != data[1:],\n",
    "                     [0]\n",
    "                    )\n",
    "                )\n",
    "            )[0]\n",
    "        )[::2]\n",
    "    \n",
    "    def get_correct_state_length_list(self, data):\n",
    "        '''\n",
    "        gets state lengths like above, but correctly..\n",
    "        '''\n",
    "        \n",
    "        groups = groupby(data)\n",
    "        \n",
    "        return [sum(1 for _ in group) for _, group in groups]\n",
    "    \n",
    "\n",
    "    def discretize_signal(self, spb):\n",
    "        start_time = time.time()\n",
    "        print('discretizing signal..')\n",
    "        \n",
    "        # set params\n",
    "        self.spb = spb\n",
    "        \n",
    "        discretized_data = []\n",
    "        start_bit = self.data[0]\n",
    "        alt_bit = 0 if start_bit == 1 else 1\n",
    "        print(f'\\tstarting bit: {start_bit}, alt bit: {alt_bit}')\n",
    "        \n",
    "        # get state lengths\n",
    "        #state_lengths = self.get_state_length_list(self.data)\n",
    "        state_lengths = self.get_correct_state_length_list(self.data)\n",
    "        \n",
    "        for i, state in enumerate(state_lengths):\n",
    "            discretized_state = int(np.round(state / self.spb))\n",
    "            #print(f'iter: {i}, discretized state: {discretized_state}')\n",
    "            \n",
    "            if i % 2 == 0:\n",
    "                discretized_data.append([start_bit for j in range(discretized_state)])\n",
    "            elif i % 2 == 1:\n",
    "                discretized_data.append([alt_bit for j in range(discretized_state)])\n",
    "            else:\n",
    "                print('ya done messed up.')\n",
    "        \n",
    "        self.discretized_array = np.array([\n",
    "            item for sublist \n",
    "                in discretized_data \n",
    "            for item in sublist\n",
    "        ])\n",
    "        \n",
    "        reduction = 100 * (self.discretized_array.size / self.data.size)\n",
    "        print(\n",
    "            f'\\tcomplete, discretized signal: {self.discretized_array.size} entries ' + \n",
    "            f'({reduction:0.2f}% of original)\\n'\n",
    "            f'\\tprocessing time: {time.time() - start_time:0.4f} sec'\n",
    "        )\n",
    "        \n",
    "\n",
    "    def search_sequence_numpy(self, arr, seq):\n",
    "        \"\"\" \n",
    "        find sequence in an array \n",
    "    \n",
    "        Parameters\n",
    "        ----------    \n",
    "        arr    : input 1D array\n",
    "        seq    : input 1D array\n",
    "    \n",
    "        Output\n",
    "        ------    \n",
    "        Output : 1D Array of indices in the input array that satisfy the \n",
    "        matching of input sequence in the input array.\n",
    "        In case of no match, an empty list is returned.\n",
    "        \"\"\"\n",
    "    \n",
    "        # Store sizes of input array and sequence\n",
    "        Na, Nseq = arr.size, seq.size\n",
    "    \n",
    "        # Range of sequence\n",
    "        r_seq = np.arange(Nseq)\n",
    "    \n",
    "        # Create a 2D array of sliding indices across the entire length of input array.\n",
    "        # Match up with the input sequence & get the matching starting indices.\n",
    "        M = (arr[np.arange(Na-Nseq+1)[:, None] + r_seq] == seq).all(1)\n",
    "    \n",
    "        # Get the range of those indices as final output\n",
    "        if M.any() > 0:\n",
    "            return np.where(\n",
    "                np.convolve(\n",
    "                    M,\n",
    "                    np.ones((Nseq), dtype=int)\n",
    "                ) > 0\n",
    "            )[0]\n",
    "        else:\n",
    "            return []\n",
    "        \n",
    "        \n",
    "    def get_signal_stats(self, data):\n",
    "        state_lengths = self.get_correct_state_length_list(data)\n",
    "        \n",
    "        return Counter(state_lengths).most_common()\n",
    "        \n",
    "        \n",
    "    \n",
    "    def output_discretized_array(self, output_path='auto', output_format='csv'):\n",
    "        # set output path\n",
    "        if output_path == 'auto':\n",
    "            output_path = Path(r'data/discretized_array.csv')            \n",
    "        elif isinstance(output_path, Path):\n",
    "            try:\n",
    "                assert output_path.parent.exists()\n",
    "                assert output_path.name.endswith('.csv')\n",
    "            except AssertionError:\n",
    "                print(\n",
    "                    f'parent path ({output_path.parent}) unavailable or ' + \n",
    "                    f'path does not end with .csv ({output_path.name}), ' + \n",
    "                    f'please choose another path'\n",
    "                )\n",
    "                raise\n",
    "        elif isinstance(output_path, str):\n",
    "            try:\n",
    "                output_path = Path(output_path)\n",
    "                assert output_path.parent.exists()\n",
    "                assert output_path.name.endswith('.csv')\n",
    "            except AssertionError:\n",
    "                print(\n",
    "                    f'parent path ({output_path.parent}) unavailable or ' + \n",
    "                    f'path does not end with .csv ({output_path.name}), ' + \n",
    "                    f'please choose another path'\n",
    "                )\n",
    "                raise\n",
    "        else:\n",
    "            print(\n",
    "                f'you really messed up, you provided {output_path} {type(output_path)}, ' + \n",
    "                f'please provide output_path as str or pathlib.Path object ending with .csv'\n",
    "            )            \n",
    "        print(f'set discretized signal output path: {output_path}')\n",
    "                \n",
    "        # output\n",
    "        if output_format == 'csv':\n",
    "            np.savetxt(\n",
    "                output_path,\n",
    "                self.discretized_array,\n",
    "                delimiter=','\n",
    "            )\n",
    "            print(f'\\tsuccessfully saved file to: {output_path}')\n",
    "        else:\n",
    "            print(f'yeah.. csv is actually the only option.. please try again.')\n",
    "            raise TypeError\n",
    "            \n",
    "    \n",
    "    \n",
    "    \n",
    "    def main(self):\n",
    "        self.discretize_signal()\n",
    "        \n",
    "        \n",
    "        "
   ]
  },
  {
   "cell_type": "code",
   "execution_count": 60,
   "metadata": {},
   "outputs": [
    {
     "name": "stdout",
     "output_type": "stream",
     "text": [
      "initializing..\n",
      "\tset input lvm path: data\\test_packet.txt\n",
      "\tset header: [1 0 1 0 1 0 1 0 1 0 1 0 1 0 1 0 1 0 1 0 1 0 1 0 1 0 1 0 1 0]\n",
      "parsing tab delimited file..\n",
      "\timported data, 3500000 rows\n"
     ]
    }
   ],
   "source": [
    "DP = DataParserLVM(\n",
    "    lvm_path, \n",
    "    source='txt',\n",
    "    preprocess_mode='dynamic'\n",
    ")"
   ]
  },
  {
   "cell_type": "code",
   "execution_count": 61,
   "metadata": {},
   "outputs": [
    {
     "name": "stdout",
     "output_type": "stream",
     "text": [
      "discretizing signal..\n",
      "\tstarting bit: 1, alt bit: 0\n",
      "\tcomplete, discretized signal: 291668 entries (8.33% of original)\n",
      "\tprocessing time: 1.6039 sec\n"
     ]
    }
   ],
   "source": [
    "DP.discretize_signal(spb=12)"
   ]
  },
  {
   "cell_type": "code",
   "execution_count": null,
   "metadata": {},
   "outputs": [],
   "source": []
  },
  {
   "cell_type": "code",
   "execution_count": null,
   "metadata": {},
   "outputs": [],
   "source": []
  },
  {
   "cell_type": "code",
   "execution_count": null,
   "metadata": {},
   "outputs": [],
   "source": []
  },
  {
   "cell_type": "markdown",
   "metadata": {},
   "source": [
    "## spb explorating <-- hilarious."
   ]
  },
  {
   "cell_type": "markdown",
   "metadata": {},
   "source": [
    "### frequency comparison"
   ]
  },
  {
   "cell_type": "code",
   "execution_count": 73,
   "metadata": {},
   "outputs": [],
   "source": [
    "def create_dataframe(original, discretized, spb):\n",
    "    return (\n",
    "        pd.concat(\n",
    "            [\n",
    "                (\n",
    "                    pd\n",
    "                    .DataFrame(\n",
    "                        DP.get_signal_stats(original), \n",
    "                        columns=['length','frequency']\n",
    "                    )\n",
    "                    .assign(source='original')\n",
    "                ),\n",
    "                (\n",
    "                    pd\n",
    "                    .DataFrame(\n",
    "                        DP.get_signal_stats(discretized), \n",
    "                        columns=['length','frequency']\n",
    "                    )\n",
    "                    .assign(source='discretized')\n",
    "                )\n",
    "            ]\n",
    "        )\n",
    "        .reset_index(drop=True)\n",
    "        .assign(spb = spb)\n",
    "    )"
   ]
  },
  {
   "cell_type": "code",
   "execution_count": 74,
   "metadata": {},
   "outputs": [
    {
     "name": "stdout",
     "output_type": "stream",
     "text": [
      "discretizing signal..\n",
      "\tstarting bit: 1, alt bit: 0\n",
      "\tcomplete, discretized signal: 702476 entries (20.07% of original)\n",
      "\tprocessing time: 1.8530 sec\n",
      "discretizing signal..\n",
      "\tstarting bit: 1, alt bit: 0\n",
      "\tcomplete, discretized signal: 583337 entries (16.67% of original)\n",
      "\tprocessing time: 1.8550 sec\n",
      "discretizing signal..\n",
      "\tstarting bit: 1, alt bit: 0\n",
      "\tcomplete, discretized signal: 495910 entries (14.17% of original)\n",
      "\tprocessing time: 1.8653 sec\n",
      "discretizing signal..\n",
      "\tstarting bit: 1, alt bit: 0\n",
      "\tcomplete, discretized signal: 437503 entries (12.50% of original)\n",
      "\tprocessing time: 1.7152 sec\n",
      "discretizing signal..\n",
      "\tstarting bit: 1, alt bit: 0\n",
      "\tcomplete, discretized signal: 390623 entries (11.16% of original)\n",
      "\tprocessing time: 1.8048 sec\n",
      "discretizing signal..\n",
      "\tstarting bit: 1, alt bit: 0\n",
      "\tcomplete, discretized signal: 326538 entries (9.33% of original)\n",
      "\tprocessing time: 1.8738 sec\n",
      "discretizing signal..\n",
      "\tstarting bit: 1, alt bit: 0\n",
      "\tcomplete, discretized signal: 297210 entries (8.49% of original)\n",
      "\tprocessing time: 1.6843 sec\n",
      "discretizing signal..\n",
      "\tstarting bit: 1, alt bit: 0\n",
      "\tcomplete, discretized signal: 291668 entries (8.33% of original)\n",
      "\tprocessing time: 1.8218 sec\n"
     ]
    }
   ],
   "source": [
    "spb_list = [i for i in range(5, 13, 1)]\n",
    "df_dict = {}\n",
    "\n",
    "for spb in spb_list:\n",
    "    DP.discretize_signal(spb)\n",
    "    \n",
    "    df_dict[spb] = create_dataframe(DP.data, DP.discretized_array, DP.spb)"
   ]
  },
  {
   "cell_type": "code",
   "execution_count": 85,
   "metadata": {},
   "outputs": [],
   "source": [
    "full_df = (\n",
    "    pd\n",
    "    .concat([df for df in df_dict.values()])\n",
    "    .assign(\n",
    "        length = lambda x: [\n",
    "            leng \n",
    "                if source == 'original'\n",
    "                else leng * spb\n",
    "            for leng, source, spb\n",
    "            in zip(x.length, x.source, x.spb)\n",
    "        ]\n",
    "    )\n",
    ")"
   ]
  },
  {
   "cell_type": "code",
   "execution_count": 86,
   "metadata": {},
   "outputs": [
    {
     "data": {
      "text/html": [
       "<div>\n",
       "<style scoped>\n",
       "    .dataframe tbody tr th:only-of-type {\n",
       "        vertical-align: middle;\n",
       "    }\n",
       "\n",
       "    .dataframe tbody tr th {\n",
       "        vertical-align: top;\n",
       "    }\n",
       "\n",
       "    .dataframe thead th {\n",
       "        text-align: right;\n",
       "    }\n",
       "</style>\n",
       "<table border=\"1\" class=\"dataframe\">\n",
       "  <thead>\n",
       "    <tr style=\"text-align: right;\">\n",
       "      <th></th>\n",
       "      <th>length</th>\n",
       "      <th>frequency</th>\n",
       "      <th>source</th>\n",
       "      <th>spb</th>\n",
       "    </tr>\n",
       "  </thead>\n",
       "  <tbody>\n",
       "    <tr>\n",
       "      <th>0</th>\n",
       "      <td>14</td>\n",
       "      <td>39780</td>\n",
       "      <td>original</td>\n",
       "      <td>5</td>\n",
       "    </tr>\n",
       "    <tr>\n",
       "      <th>1</th>\n",
       "      <td>10</td>\n",
       "      <td>39722</td>\n",
       "      <td>original</td>\n",
       "      <td>5</td>\n",
       "    </tr>\n",
       "    <tr>\n",
       "      <th>2</th>\n",
       "      <td>22</td>\n",
       "      <td>19880</td>\n",
       "      <td>original</td>\n",
       "      <td>5</td>\n",
       "    </tr>\n",
       "    <tr>\n",
       "      <th>3</th>\n",
       "      <td>26</td>\n",
       "      <td>19877</td>\n",
       "      <td>original</td>\n",
       "      <td>5</td>\n",
       "    </tr>\n",
       "    <tr>\n",
       "      <th>4</th>\n",
       "      <td>11</td>\n",
       "      <td>14791</td>\n",
       "      <td>original</td>\n",
       "      <td>5</td>\n",
       "    </tr>\n",
       "  </tbody>\n",
       "</table>\n",
       "</div>"
      ],
      "text/plain": [
       "   length  frequency    source  spb\n",
       "0      14      39780  original    5\n",
       "1      10      39722  original    5\n",
       "2      22      19880  original    5\n",
       "3      26      19877  original    5\n",
       "4      11      14791  original    5"
      ]
     },
     "execution_count": 86,
     "metadata": {},
     "output_type": "execute_result"
    }
   ],
   "source": [
    "full_df.head()"
   ]
  },
  {
   "cell_type": "code",
   "execution_count": null,
   "metadata": {},
   "outputs": [],
   "source": []
  },
  {
   "cell_type": "code",
   "execution_count": null,
   "metadata": {},
   "outputs": [],
   "source": []
  },
  {
   "cell_type": "code",
   "execution_count": null,
   "metadata": {},
   "outputs": [],
   "source": []
  },
  {
   "cell_type": "markdown",
   "metadata": {},
   "source": [
    "### altair"
   ]
  },
  {
   "cell_type": "code",
   "execution_count": 79,
   "metadata": {},
   "outputs": [],
   "source": [
    "import altair as alt\n",
    "from _altair_functions import alt_hist\n",
    "from altair.expr import datum"
   ]
  },
  {
   "cell_type": "code",
   "execution_count": 89,
   "metadata": {},
   "outputs": [
    {
     "data": {
      "application/vnd.vegalite.v2+json": {
       "$schema": "https://vega.github.io/schema/vega-lite/v2.6.0.json",
       "config": {
        "background": "#abb2bf",
        "view": {
         "height": 300,
         "width": 400
        }
       },
       "data": {
        "name": "data-ff4167d1ef9ce2e7727c787127d806d3"
       },
       "datasets": {
        "data-ff4167d1ef9ce2e7727c787127d806d3": [
         {
          "frequency": 39780,
          "length": 14,
          "source": "original",
          "spb": 5
         },
         {
          "frequency": 39722,
          "length": 10,
          "source": "original",
          "spb": 5
         },
         {
          "frequency": 19880,
          "length": 22,
          "source": "original",
          "spb": 5
         },
         {
          "frequency": 19877,
          "length": 26,
          "source": "original",
          "spb": 5
         },
         {
          "frequency": 14791,
          "length": 11,
          "source": "original",
          "spb": 5
         },
         {
          "frequency": 14733,
          "length": 13,
          "source": "original",
          "spb": 5
         },
         {
          "frequency": 7383,
          "length": 25,
          "source": "original",
          "spb": 5
         },
         {
          "frequency": 7380,
          "length": 23,
          "source": "original",
          "spb": 5
         },
         {
          "frequency": 1273,
          "length": 599,
          "source": "original",
          "spb": 5
         },
         {
          "frequency": 1190,
          "length": 49,
          "source": "original",
          "spb": 5
         },
         {
          "frequency": 173,
          "length": 48,
          "source": "original",
          "spb": 5
         },
         {
          "frequency": 90,
          "length": 600,
          "source": "original",
          "spb": 5
         },
         {
          "frequency": 1,
          "length": 5,
          "source": "original",
          "spb": 5
         },
         {
          "frequency": 54513,
          "length": 10,
          "source": "discretized",
          "spb": 5
         },
         {
          "frequency": 54513,
          "length": 15,
          "source": "discretized",
          "spb": 5
         },
         {
          "frequency": 34640,
          "length": 25,
          "source": "discretized",
          "spb": 5
         },
         {
          "frequency": 19880,
          "length": 20,
          "source": "discretized",
          "spb": 5
         },
         {
          "frequency": 1363,
          "length": 600,
          "source": "discretized",
          "spb": 5
         },
         {
          "frequency": 1363,
          "length": 50,
          "source": "discretized",
          "spb": 5
         },
         {
          "frequency": 1,
          "length": 5,
          "source": "discretized",
          "spb": 5
         },
         {
          "frequency": 39780,
          "length": 14,
          "source": "original",
          "spb": 6
         },
         {
          "frequency": 39722,
          "length": 10,
          "source": "original",
          "spb": 6
         },
         {
          "frequency": 19880,
          "length": 22,
          "source": "original",
          "spb": 6
         },
         {
          "frequency": 19877,
          "length": 26,
          "source": "original",
          "spb": 6
         },
         {
          "frequency": 14791,
          "length": 11,
          "source": "original",
          "spb": 6
         },
         {
          "frequency": 14733,
          "length": 13,
          "source": "original",
          "spb": 6
         },
         {
          "frequency": 7383,
          "length": 25,
          "source": "original",
          "spb": 6
         },
         {
          "frequency": 7380,
          "length": 23,
          "source": "original",
          "spb": 6
         },
         {
          "frequency": 1273,
          "length": 599,
          "source": "original",
          "spb": 6
         },
         {
          "frequency": 1190,
          "length": 49,
          "source": "original",
          "spb": 6
         },
         {
          "frequency": 173,
          "length": 48,
          "source": "original",
          "spb": 6
         },
         {
          "frequency": 90,
          "length": 600,
          "source": "original",
          "spb": 6
         },
         {
          "frequency": 1,
          "length": 5,
          "source": "original",
          "spb": 6
         },
         {
          "frequency": 109026,
          "length": 12,
          "source": "discretized",
          "spb": 6
         },
         {
          "frequency": 54520,
          "length": 24,
          "source": "discretized",
          "spb": 6
         },
         {
          "frequency": 1363,
          "length": 600,
          "source": "discretized",
          "spb": 6
         },
         {
          "frequency": 1363,
          "length": 48,
          "source": "discretized",
          "spb": 6
         },
         {
          "frequency": 1,
          "length": 6,
          "source": "discretized",
          "spb": 6
         },
         {
          "frequency": 39780,
          "length": 14,
          "source": "original",
          "spb": 7
         },
         {
          "frequency": 39722,
          "length": 10,
          "source": "original",
          "spb": 7
         },
         {
          "frequency": 19880,
          "length": 22,
          "source": "original",
          "spb": 7
         },
         {
          "frequency": 19877,
          "length": 26,
          "source": "original",
          "spb": 7
         },
         {
          "frequency": 14791,
          "length": 11,
          "source": "original",
          "spb": 7
         },
         {
          "frequency": 14733,
          "length": 13,
          "source": "original",
          "spb": 7
         },
         {
          "frequency": 7383,
          "length": 25,
          "source": "original",
          "spb": 7
         },
         {
          "frequency": 7380,
          "length": 23,
          "source": "original",
          "spb": 7
         },
         {
          "frequency": 1273,
          "length": 599,
          "source": "original",
          "spb": 7
         },
         {
          "frequency": 1190,
          "length": 49,
          "source": "original",
          "spb": 7
         },
         {
          "frequency": 173,
          "length": 48,
          "source": "original",
          "spb": 7
         },
         {
          "frequency": 90,
          "length": 600,
          "source": "original",
          "spb": 7
         },
         {
          "frequency": 1,
          "length": 5,
          "source": "original",
          "spb": 7
         },
         {
          "frequency": 69304,
          "length": 14,
          "source": "discretized",
          "spb": 7
         },
         {
          "frequency": 39723,
          "length": 7,
          "source": "discretized",
          "spb": 7
         },
         {
          "frequency": 27260,
          "length": 21,
          "source": "discretized",
          "spb": 7
         },
         {
          "frequency": 27260,
          "length": 28,
          "source": "discretized",
          "spb": 7
         },
         {
          "frequency": 1363,
          "length": 602,
          "source": "discretized",
          "spb": 7
         },
         {
          "frequency": 1363,
          "length": 49,
          "source": "discretized",
          "spb": 7
         },
         {
          "frequency": 39780,
          "length": 14,
          "source": "original",
          "spb": 8
         },
         {
          "frequency": 39722,
          "length": 10,
          "source": "original",
          "spb": 8
         },
         {
          "frequency": 19880,
          "length": 22,
          "source": "original",
          "spb": 8
         },
         {
          "frequency": 19877,
          "length": 26,
          "source": "original",
          "spb": 8
         },
         {
          "frequency": 14791,
          "length": 11,
          "source": "original",
          "spb": 8
         },
         {
          "frequency": 14733,
          "length": 13,
          "source": "original",
          "spb": 8
         },
         {
          "frequency": 7383,
          "length": 25,
          "source": "original",
          "spb": 8
         },
         {
          "frequency": 7380,
          "length": 23,
          "source": "original",
          "spb": 8
         },
         {
          "frequency": 1273,
          "length": 599,
          "source": "original",
          "spb": 8
         },
         {
          "frequency": 1190,
          "length": 49,
          "source": "original",
          "spb": 8
         },
         {
          "frequency": 173,
          "length": 48,
          "source": "original",
          "spb": 8
         },
         {
          "frequency": 90,
          "length": 600,
          "source": "original",
          "spb": 8
         },
         {
          "frequency": 1,
          "length": 5,
          "source": "original",
          "spb": 8
         },
         {
          "frequency": 54520,
          "length": 24,
          "source": "discretized",
          "spb": 8
         },
         {
          "frequency": 54514,
          "length": 8,
          "source": "discretized",
          "spb": 8
         },
         {
          "frequency": 54513,
          "length": 16,
          "source": "discretized",
          "spb": 8
         },
         {
          "frequency": 1363,
          "length": 600,
          "source": "discretized",
          "spb": 8
         },
         {
          "frequency": 1363,
          "length": 48,
          "source": "discretized",
          "spb": 8
         },
         {
          "frequency": 39780,
          "length": 14,
          "source": "original",
          "spb": 9
         },
         {
          "frequency": 39722,
          "length": 10,
          "source": "original",
          "spb": 9
         },
         {
          "frequency": 19880,
          "length": 22,
          "source": "original",
          "spb": 9
         },
         {
          "frequency": 19877,
          "length": 26,
          "source": "original",
          "spb": 9
         },
         {
          "frequency": 14791,
          "length": 11,
          "source": "original",
          "spb": 9
         },
         {
          "frequency": 14733,
          "length": 13,
          "source": "original",
          "spb": 9
         },
         {
          "frequency": 7383,
          "length": 25,
          "source": "original",
          "spb": 9
         },
         {
          "frequency": 7380,
          "length": 23,
          "source": "original",
          "spb": 9
         },
         {
          "frequency": 1273,
          "length": 599,
          "source": "original",
          "spb": 9
         },
         {
          "frequency": 1190,
          "length": 49,
          "source": "original",
          "spb": 9
         },
         {
          "frequency": 173,
          "length": 48,
          "source": "original",
          "spb": 9
         },
         {
          "frequency": 90,
          "length": 600,
          "source": "original",
          "spb": 9
         },
         {
          "frequency": 1,
          "length": 5,
          "source": "original",
          "spb": 9
         },
         {
          "frequency": 69247,
          "length": 9,
          "source": "discretized",
          "spb": 9
         },
         {
          "frequency": 59660,
          "length": 18,
          "source": "discretized",
          "spb": 9
         },
         {
          "frequency": 34640,
          "length": 27,
          "source": "discretized",
          "spb": 9
         },
         {
          "frequency": 1363,
          "length": 603,
          "source": "discretized",
          "spb": 9
         },
         {
          "frequency": 1363,
          "length": 45,
          "source": "discretized",
          "spb": 9
         },
         {
          "frequency": 39780,
          "length": 14,
          "source": "original",
          "spb": 10
         },
         {
          "frequency": 39722,
          "length": 10,
          "source": "original",
          "spb": 10
         },
         {
          "frequency": 19880,
          "length": 22,
          "source": "original",
          "spb": 10
         },
         {
          "frequency": 19877,
          "length": 26,
          "source": "original",
          "spb": 10
         },
         {
          "frequency": 14791,
          "length": 11,
          "source": "original",
          "spb": 10
         },
         {
          "frequency": 14733,
          "length": 13,
          "source": "original",
          "spb": 10
         },
         {
          "frequency": 7383,
          "length": 25,
          "source": "original",
          "spb": 10
         },
         {
          "frequency": 7380,
          "length": 23,
          "source": "original",
          "spb": 10
         },
         {
          "frequency": 1273,
          "length": 599,
          "source": "original",
          "spb": 10
         },
         {
          "frequency": 1190,
          "length": 49,
          "source": "original",
          "spb": 10
         },
         {
          "frequency": 173,
          "length": 48,
          "source": "original",
          "spb": 10
         },
         {
          "frequency": 90,
          "length": 600,
          "source": "original",
          "spb": 10
         },
         {
          "frequency": 1,
          "length": 5,
          "source": "original",
          "spb": 10
         },
         {
          "frequency": 109026,
          "length": 10,
          "source": "discretized",
          "spb": 10
         },
         {
          "frequency": 34643,
          "length": 20,
          "source": "discretized",
          "spb": 10
         },
         {
          "frequency": 19877,
          "length": 30,
          "source": "discretized",
          "spb": 10
         },
         {
          "frequency": 1363,
          "length": 600,
          "source": "discretized",
          "spb": 10
         },
         {
          "frequency": 1363,
          "length": 50,
          "source": "discretized",
          "spb": 10
         },
         {
          "frequency": 39780,
          "length": 14,
          "source": "original",
          "spb": 11
         },
         {
          "frequency": 39722,
          "length": 10,
          "source": "original",
          "spb": 11
         },
         {
          "frequency": 19880,
          "length": 22,
          "source": "original",
          "spb": 11
         },
         {
          "frequency": 19877,
          "length": 26,
          "source": "original",
          "spb": 11
         },
         {
          "frequency": 14791,
          "length": 11,
          "source": "original",
          "spb": 11
         },
         {
          "frequency": 14733,
          "length": 13,
          "source": "original",
          "spb": 11
         },
         {
          "frequency": 7383,
          "length": 25,
          "source": "original",
          "spb": 11
         },
         {
          "frequency": 7380,
          "length": 23,
          "source": "original",
          "spb": 11
         },
         {
          "frequency": 1273,
          "length": 599,
          "source": "original",
          "spb": 11
         },
         {
          "frequency": 1190,
          "length": 49,
          "source": "original",
          "spb": 11
         },
         {
          "frequency": 173,
          "length": 48,
          "source": "original",
          "spb": 11
         },
         {
          "frequency": 90,
          "length": 600,
          "source": "original",
          "spb": 11
         },
         {
          "frequency": 1,
          "length": 5,
          "source": "original",
          "spb": 11
         },
         {
          "frequency": 109026,
          "length": 11,
          "source": "discretized",
          "spb": 11
         },
         {
          "frequency": 54520,
          "length": 22,
          "source": "discretized",
          "spb": 11
         },
         {
          "frequency": 1363,
          "length": 44,
          "source": "discretized",
          "spb": 11
         },
         {
          "frequency": 1273,
          "length": 594,
          "source": "discretized",
          "spb": 11
         },
         {
          "frequency": 90,
          "length": 605,
          "source": "discretized",
          "spb": 11
         },
         {
          "frequency": 39780,
          "length": 14,
          "source": "original",
          "spb": 12
         },
         {
          "frequency": 39722,
          "length": 10,
          "source": "original",
          "spb": 12
         },
         {
          "frequency": 19880,
          "length": 22,
          "source": "original",
          "spb": 12
         },
         {
          "frequency": 19877,
          "length": 26,
          "source": "original",
          "spb": 12
         },
         {
          "frequency": 14791,
          "length": 11,
          "source": "original",
          "spb": 12
         },
         {
          "frequency": 14733,
          "length": 13,
          "source": "original",
          "spb": 12
         },
         {
          "frequency": 7383,
          "length": 25,
          "source": "original",
          "spb": 12
         },
         {
          "frequency": 7380,
          "length": 23,
          "source": "original",
          "spb": 12
         },
         {
          "frequency": 1273,
          "length": 599,
          "source": "original",
          "spb": 12
         },
         {
          "frequency": 1190,
          "length": 49,
          "source": "original",
          "spb": 12
         },
         {
          "frequency": 173,
          "length": 48,
          "source": "original",
          "spb": 12
         },
         {
          "frequency": 90,
          "length": 600,
          "source": "original",
          "spb": 12
         },
         {
          "frequency": 1,
          "length": 5,
          "source": "original",
          "spb": 12
         },
         {
          "frequency": 109026,
          "length": 12,
          "source": "discretized",
          "spb": 12
         },
         {
          "frequency": 54520,
          "length": 24,
          "source": "discretized",
          "spb": 12
         },
         {
          "frequency": 1363,
          "length": 600,
          "source": "discretized",
          "spb": 12
         },
         {
          "frequency": 1363,
          "length": 48,
          "source": "discretized",
          "spb": 12
         }
        ]
       },
       "encoding": {
        "color": {
         "field": "source",
         "type": "nominal"
        },
        "row": {
         "field": "spb",
         "type": "nominal"
        },
        "x": {
         "field": "length",
         "type": "nominal"
        },
        "y": {
         "field": "frequency",
         "type": "quantitative"
        }
       },
       "mark": {
        "opacity": 0.5,
        "type": "bar"
       }
      },
      "image/png": "[encoded data removed]",
      "text/plain": [
       "<VegaLite 2 object>\n",
       "\n",
       "If you see this message, it means the renderer has not been properly enabled\n",
       "for the frontend that you are using. For more information, see\n",
       "https://altair-viz.github.io/user_guide/troubleshooting.html\n"
      ]
     },
     "execution_count": 89,
     "metadata": {},
     "output_type": "execute_result"
    }
   ],
   "source": [
    "alt.Chart(\n",
    "    full_df\n",
    ").mark_bar(\n",
    "    opacity=0.5\n",
    ").encode(\n",
    "    alt.X('length:N'),\n",
    "    alt.Y('frequency:Q'),\n",
    "    color='source:N',\n",
    "    row='spb:N'\n",
    ").configure(\n",
    "    background='#abb2bf'\n",
    ")"
   ]
  },
  {
   "cell_type": "code",
   "execution_count": null,
   "metadata": {},
   "outputs": [],
   "source": []
  },
  {
   "cell_type": "code",
   "execution_count": null,
   "metadata": {},
   "outputs": [],
   "source": []
  },
  {
   "cell_type": "code",
   "execution_count": null,
   "metadata": {},
   "outputs": [],
   "source": []
  },
  {
   "cell_type": "code",
   "execution_count": null,
   "metadata": {},
   "outputs": [],
   "source": []
  },
  {
   "cell_type": "markdown",
   "metadata": {},
   "source": [
    "### spb iter exploration"
   ]
  },
  {
   "cell_type": "code",
   "execution_count": 46,
   "metadata": {},
   "outputs": [
    {
     "name": "stdout",
     "output_type": "stream",
     "text": [
      "discretizing signal..\n",
      "\tstarting bit: 1, alt bit: 0\n",
      "\tcomplete, discretized signal: 702476 entries (20.07% of original)\n",
      "\tprocessing time: 1.6618 sec, hot damn.\n"
     ]
    },
    {
     "data": {
      "text/plain": [
       "None"
      ]
     },
     "metadata": {},
     "output_type": "display_data"
    },
    {
     "name": "stdout",
     "output_type": "stream",
     "text": [
      "discretizing signal..\n",
      "\tstarting bit: 1, alt bit: 0\n",
      "\tcomplete, discretized signal: 583337 entries (16.67% of original)\n",
      "\tprocessing time: 1.5004 sec, hot damn.\n"
     ]
    },
    {
     "data": {
      "text/plain": [
       "None"
      ]
     },
     "metadata": {},
     "output_type": "display_data"
    },
    {
     "name": "stdout",
     "output_type": "stream",
     "text": [
      "discretizing signal..\n",
      "\tstarting bit: 1, alt bit: 0\n",
      "\tcomplete, discretized signal: 495910 entries (14.17% of original)\n",
      "\tprocessing time: 1.5526 sec, hot damn.\n"
     ]
    },
    {
     "data": {
      "text/plain": [
       "None"
      ]
     },
     "metadata": {},
     "output_type": "display_data"
    },
    {
     "name": "stdout",
     "output_type": "stream",
     "text": [
      "discretizing signal..\n",
      "\tstarting bit: 1, alt bit: 0\n",
      "\tcomplete, discretized signal: 437503 entries (12.50% of original)\n",
      "\tprocessing time: 1.4795 sec, hot damn.\n"
     ]
    },
    {
     "data": {
      "text/plain": [
       "None"
      ]
     },
     "metadata": {},
     "output_type": "display_data"
    },
    {
     "name": "stdout",
     "output_type": "stream",
     "text": [
      "discretizing signal..\n",
      "\tstarting bit: 1, alt bit: 0\n",
      "\tcomplete, discretized signal: 390623 entries (11.16% of original)\n",
      "\tprocessing time: 1.5282 sec, hot damn.\n"
     ]
    },
    {
     "data": {
      "text/plain": [
       "None"
      ]
     },
     "metadata": {},
     "output_type": "display_data"
    },
    {
     "name": "stdout",
     "output_type": "stream",
     "text": [
      "discretizing signal..\n",
      "\tstarting bit: 1, alt bit: 0\n",
      "\tcomplete, discretized signal: 326538 entries (9.33% of original)\n",
      "\tprocessing time: 1.4789 sec, hot damn.\n"
     ]
    },
    {
     "data": {
      "text/plain": [
       "None"
      ]
     },
     "metadata": {},
     "output_type": "display_data"
    },
    {
     "name": "stdout",
     "output_type": "stream",
     "text": [
      "discretizing signal..\n",
      "\tstarting bit: 1, alt bit: 0\n",
      "\tcomplete, discretized signal: 297210 entries (8.49% of original)\n",
      "\tprocessing time: 1.4440 sec, hot damn.\n"
     ]
    },
    {
     "data": {
      "text/plain": [
       "None"
      ]
     },
     "metadata": {},
     "output_type": "display_data"
    },
    {
     "name": "stdout",
     "output_type": "stream",
     "text": [
      "discretizing signal..\n",
      "\tstarting bit: 1, alt bit: 0\n",
      "\tcomplete, discretized signal: 291668 entries (8.33% of original)\n",
      "\tprocessing time: 1.5628 sec, hot damn.\n"
     ]
    },
    {
     "data": {
      "text/plain": [
       "None"
      ]
     },
     "metadata": {},
     "output_type": "display_data"
    },
    {
     "data": {
      "image/png": "[encoded data removed]",
      "text/plain": [
       "<Figure size 1080x432 with 2 Axes>"
      ]
     },
     "metadata": {},
     "output_type": "display_data"
    },
    {
     "data": {
      "image/png": "[encoded data removed]",
      "text/plain": [
       "<Figure size 1080x432 with 2 Axes>"
      ]
     },
     "metadata": {},
     "output_type": "display_data"
    },
    {
     "data": {
      "image/png": "[encoded data removed]",
      "text/plain": [
       "<Figure size 1080x432 with 2 Axes>"
      ]
     },
     "metadata": {},
     "output_type": "display_data"
    },
    {
     "data": {
      "image/png": "[encoded data removed]",
      "text/plain": [
       "<Figure size 1080x432 with 2 Axes>"
      ]
     },
     "metadata": {},
     "output_type": "display_data"
    },
    {
     "data": {
      "image/png": "[encoded data removed]",
      "text/plain": [
       "<Figure size 1080x432 with 2 Axes>"
      ]
     },
     "metadata": {},
     "output_type": "display_data"
    },
    {
     "data": {
      "image/png": "[encoded data removed]",
      "text/plain": [
       "<Figure size 1080x432 with 2 Axes>"
      ]
     },
     "metadata": {},
     "output_type": "display_data"
    },
    {
     "data": {
      "image/png": "[encoded data removed]",
      "text/plain": [
       "<Figure size 1080x432 with 2 Axes>"
      ]
     },
     "metadata": {},
     "output_type": "display_data"
    },
    {
     "data": {
      "image/png": "[encoded data removed]",
      "text/plain": [
       "<Figure size 1080x432 with 2 Axes>"
      ]
     },
     "metadata": {},
     "output_type": "display_data"
    }
   ],
   "source": [
    "spb_list = [i for i in range(5, 13, 1)]\n",
    "\n",
    "for spb in spb_list:\n",
    "    DP.discretize_signal(spb)\n",
    "    display(compare_plots(0, 50, title=f'spb = {spb}'))"
   ]
  },
  {
   "cell_type": "code",
   "execution_count": null,
   "metadata": {},
   "outputs": [],
   "source": []
  },
  {
   "cell_type": "code",
   "execution_count": null,
   "metadata": {},
   "outputs": [],
   "source": []
  },
  {
   "cell_type": "markdown",
   "metadata": {},
   "source": [
    "## message search"
   ]
  },
  {
   "cell_type": "markdown",
   "metadata": {},
   "source": [
    "### search function debug"
   ]
  },
  {
   "cell_type": "code",
   "execution_count": 160,
   "metadata": {},
   "outputs": [],
   "source": [
    "def search_sequence_numpy(arr, seq):\n",
    "    \"\"\" \n",
    "    find sequence in an array \n",
    "    \n",
    "    Parameters\n",
    "    ----------    \n",
    "    arr    : input 1D array\n",
    "    seq    : input 1D array\n",
    "    \n",
    "    Output\n",
    "    ------    \n",
    "    Output : 1D Array of indices in the input array that satisfy the \n",
    "    matching of input sequence in the input array.\n",
    "    In case of no match, an empty list is returned.\n",
    "    \"\"\"\n",
    "    \n",
    "    # Store sizes of input array and sequence\n",
    "    Na, Nseq = arr.size, seq.size\n",
    "    \n",
    "    # Range of sequence\n",
    "    r_seq = np.arange(Nseq)\n",
    "    \n",
    "    # Create a 2D array of sliding indices across the entire length of input array.\n",
    "    # Match up with the input sequence & get the matching starting indices.\n",
    "    M = (arr[np.arange(Na-Nseq+1)[:, None] + r_seq] == seq).all(1)\n",
    "    \n",
    "    return M"
   ]
  },
  {
   "cell_type": "code",
   "execution_count": null,
   "metadata": {},
   "outputs": [],
   "source": [
    "    \n",
    "    # Get the range of those indices as final output\n",
    "    if M.any() > 0:\n",
    "        return np.where(\n",
    "            np.convolve(\n",
    "                M,\n",
    "                np.ones((Nseq), dtype=int)\n",
    "            ) > 0\n",
    "        )[0]\n",
    "    else:\n",
    "        return []"
   ]
  },
  {
   "cell_type": "code",
   "execution_count": 162,
   "metadata": {},
   "outputs": [
    {
     "data": {
      "text/plain": [
       "291509"
      ]
     },
     "execution_count": 162,
     "metadata": {},
     "output_type": "execute_result"
    }
   ],
   "source": [
    "search_sequence_numpy(DP.discretized_array, data_msg).size"
   ]
  },
  {
   "cell_type": "code",
   "execution_count": null,
   "metadata": {},
   "outputs": [],
   "source": []
  },
  {
   "cell_type": "code",
   "execution_count": null,
   "metadata": {},
   "outputs": [],
   "source": []
  },
  {
   "cell_type": "code",
   "execution_count": null,
   "metadata": {},
   "outputs": [],
   "source": []
  },
  {
   "cell_type": "code",
   "execution_count": 118,
   "metadata": {},
   "outputs": [
    {
     "name": "stdout",
     "output_type": "stream",
     "text": [
      "160\n"
     ]
    },
    {
     "data": {
      "text/plain": [
       "array([1, 0, 1, 0, 1, 0, 1, 0, 1, 0, 1, 0, 1, 0, 1, 0, 1, 0, 1, 0, 1, 0,\n",
       "       1, 0, 1, 0, 1, 0, 1, 0, 1, 0, 1, 0, 1, 0, 1, 0, 1, 0, 1, 1, 0, 0,\n",
       "       1, 1, 0, 0, 1, 1, 0, 0, 1, 1, 0, 0, 1, 1, 0, 0, 1, 1, 0, 0, 1, 1,\n",
       "       0, 0, 1, 1, 0, 0, 1, 1, 0, 0, 1, 1, 0, 0, 1, 0, 1, 0, 1, 0, 1, 0,\n",
       "       1, 0, 1, 0, 1, 0, 1, 0, 1, 0, 1, 0, 1, 0, 1, 0, 1, 0, 1, 0, 1, 0,\n",
       "       1, 0, 1, 0, 1, 0, 1, 0, 1, 0, 1, 1, 0, 0, 1, 1, 0, 0, 1, 1, 0, 0,\n",
       "       1, 1, 0, 0, 1, 1, 0, 0, 1, 1, 0, 0, 1, 1, 0, 0, 1, 1, 0, 0, 1, 1,\n",
       "       0, 0, 1, 1, 0, 0])"
      ]
     },
     "execution_count": 118,
     "metadata": {},
     "output_type": "execute_result"
    }
   ],
   "source": [
    "scaler = 1\n",
    "base = np.array([1 if i % 2 == 0 else 0 for i in range(20)])\n",
    "\n",
    "data_msg = np.concatenate((\n",
    "    np.repeat(base, scaler), \n",
    "    np.repeat(base, scaler), \n",
    "    np.repeat(base, 2*scaler), \n",
    "    np.repeat(base, scaler), \n",
    "    np.repeat(base, scaler), \n",
    "    np.repeat(base, 2*scaler)\n",
    "))\n",
    "\n",
    "print(data_msg.size)\n",
    "data_msg"
   ]
  },
  {
   "cell_type": "code",
   "execution_count": null,
   "metadata": {},
   "outputs": [],
   "source": [
    "data_msg[:20]"
   ]
  },
  {
   "cell_type": "code",
   "execution_count": 147,
   "metadata": {},
   "outputs": [],
   "source": [
    "msg_matches = DP.search_sequence_numpy(\n",
    "    DP.discretized_array,\n",
    "    #DP.header\n",
    "    data_msg\n",
    ")"
   ]
  },
  {
   "cell_type": "code",
   "execution_count": 156,
   "metadata": {},
   "outputs": [
    {
     "data": {
      "text/plain": [
       "array([100, 101, 102, 103, 104, 105, 106, 107, 108, 109, 110, 111, 112,\n",
       "       113, 114, 115, 116, 117, 118, 119, 120, 121, 122, 123, 124, 125,\n",
       "       126, 127, 128, 129, 130, 131, 132, 133, 134, 135, 136, 137, 138,\n",
       "       139, 140, 141, 142, 143, 144, 145, 146, 147, 148, 149, 150, 151,\n",
       "       152, 153, 154, 155, 156, 157, 158, 159, 160, 161, 162, 163, 164,\n",
       "       165, 166, 167, 168, 169, 170, 171, 172, 173, 174, 175, 176, 177,\n",
       "       178, 179, 180, 181, 182, 183, 184, 185, 186, 187, 188, 189, 190,\n",
       "       191, 192, 193, 194, 195, 196, 197, 198, 199, 200, 201, 202, 203,\n",
       "       204, 205, 206, 207, 208, 209, 210, 211, 212, 213, 214, 215, 216,\n",
       "       217, 218, 219, 220, 221, 222, 223, 224, 225, 226, 227, 228, 229,\n",
       "       230, 231, 232, 233, 234, 235, 236, 237, 238, 239, 240, 241, 242,\n",
       "       243, 244, 245, 246, 247, 248, 249, 250, 251, 252, 253, 254, 255,\n",
       "       256, 257, 258, 259, 314, 315, 316, 317, 318, 319, 320, 321, 322,\n",
       "       323], dtype=int64)"
      ]
     },
     "execution_count": 156,
     "metadata": {},
     "output_type": "execute_result"
    }
   ],
   "source": [
    "msg_matches[0:170]"
   ]
  },
  {
   "cell_type": "code",
   "execution_count": null,
   "metadata": {},
   "outputs": [],
   "source": [
    "for k, g in groupby(enumerate(msg_matches), lambda ix: ix[0] - ix[1]):\n",
    "    print(list(map(itemgetter(1), g)))"
   ]
  },
  {
   "cell_type": "code",
   "execution_count": 178,
   "metadata": {},
   "outputs": [],
   "source": [
    "match_starting_idxs = [\n",
    "    list(map(itemgetter(1), g))[0]\n",
    "    for k, g in groupby(enumerate(msg_matches), lambda ix: ix[0] - ix[1])\n",
    "]"
   ]
  },
  {
   "cell_type": "code",
   "execution_count": 179,
   "metadata": {},
   "outputs": [
    {
     "data": {
      "text/plain": [
       "1362"
      ]
     },
     "execution_count": 179,
     "metadata": {},
     "output_type": "execute_result"
    }
   ],
   "source": [
    "len(match_starting_idxs)"
   ]
  },
  {
   "cell_type": "code",
   "execution_count": null,
   "metadata": {},
   "outputs": [],
   "source": []
  },
  {
   "cell_type": "code",
   "execution_count": null,
   "metadata": {},
   "outputs": [],
   "source": []
  },
  {
   "cell_type": "code",
   "execution_count": 159,
   "metadata": {},
   "outputs": [
    {
     "data": {
      "text/plain": [
       "array([ 1,  1,  1,  1,  1,  1,  1,  1,  1,  1,  1,  1,  1,  1,  1,  1,  1,\n",
       "        1,  1,  1,  1,  1,  1,  1,  1,  1,  1,  1,  1,  1,  1,  1,  1,  1,\n",
       "        1,  1,  1,  1,  1,  1,  1,  1,  1,  1,  1,  1,  1,  1,  1,  1,  1,\n",
       "        1,  1,  1,  1,  1,  1,  1,  1,  1,  1,  1,  1,  1,  1,  1,  1,  1,\n",
       "        1,  1,  1,  1,  1,  1,  1,  1,  1,  1,  1,  1,  1,  1,  1,  1,  1,\n",
       "        1,  1,  1,  1,  1,  1,  1,  1,  1,  1,  1,  1,  1,  1,  1,  1,  1,\n",
       "        1,  1,  1,  1,  1,  1,  1,  1,  1,  1,  1,  1,  1,  1,  1,  1,  1,\n",
       "        1,  1,  1,  1,  1,  1,  1,  1,  1,  1,  1,  1,  1,  1,  1,  1,  1,\n",
       "        1,  1,  1,  1,  1,  1,  1,  1,  1,  1,  1,  1,  1,  1,  1,  1,  1,\n",
       "        1,  1,  1,  1,  1,  1, 55,  1,  1,  1,  1,  1,  1,  1,  1,  1,  1],\n",
       "      dtype=int64)"
      ]
     },
     "execution_count": 159,
     "metadata": {},
     "output_type": "execute_result"
    }
   ],
   "source": [
    "np.diff(msg_matches)[:170]"
   ]
  },
  {
   "cell_type": "code",
   "execution_count": 155,
   "metadata": {},
   "outputs": [
    {
     "data": {
      "text/plain": [
       "array([   159,    319,    479, ..., 217439, 217599, 217759], dtype=int64)"
      ]
     },
     "execution_count": 155,
     "metadata": {},
     "output_type": "execute_result"
    }
   ],
   "source": [
    "np.where(np.diff(msg_matches) > 1)[0]"
   ]
  },
  {
   "cell_type": "code",
   "execution_count": null,
   "metadata": {},
   "outputs": [],
   "source": []
  },
  {
   "cell_type": "code",
   "execution_count": null,
   "metadata": {},
   "outputs": [],
   "source": []
  },
  {
   "cell_type": "code",
   "execution_count": null,
   "metadata": {},
   "outputs": [],
   "source": []
  },
  {
   "cell_type": "code",
   "execution_count": null,
   "metadata": {},
   "outputs": [],
   "source": []
  },
  {
   "cell_type": "code",
   "execution_count": null,
   "metadata": {},
   "outputs": [],
   "source": []
  },
  {
   "cell_type": "code",
   "execution_count": null,
   "metadata": {},
   "outputs": [],
   "source": []
  },
  {
   "cell_type": "code",
   "execution_count": null,
   "metadata": {},
   "outputs": [],
   "source": []
  },
  {
   "cell_type": "code",
   "execution_count": 126,
   "metadata": {},
   "outputs": [
    {
     "data": {
      "image/png": "[encoded data removed]",
      "text/plain": [
       "<Figure size 1440x432 with 1 Axes>"
      ]
     },
     "metadata": {},
     "output_type": "display_data"
    }
   ],
   "source": [
    "plot_subset(DP.discretized_array, 100, 260)"
   ]
  },
  {
   "cell_type": "code",
   "execution_count": 114,
   "metadata": {},
   "outputs": [
    {
     "data": {
      "image/png": "[encoded data removed]",
      "text/plain": [
       "<Figure size 1440x432 with 1 Axes>"
      ]
     },
     "metadata": {},
     "output_type": "display_data"
    }
   ],
   "source": [
    "plot_subset(DP.discretized_array, 270, 480)"
   ]
  },
  {
   "cell_type": "code",
   "execution_count": null,
   "metadata": {},
   "outputs": [],
   "source": []
  },
  {
   "cell_type": "code",
   "execution_count": null,
   "metadata": {},
   "outputs": [],
   "source": []
  },
  {
   "cell_type": "code",
   "execution_count": null,
   "metadata": {},
   "outputs": [],
   "source": []
  },
  {
   "cell_type": "code",
   "execution_count": null,
   "metadata": {},
   "outputs": [],
   "source": []
  },
  {
   "cell_type": "code",
   "execution_count": null,
   "metadata": {},
   "outputs": [],
   "source": []
  },
  {
   "cell_type": "code",
   "execution_count": null,
   "metadata": {},
   "outputs": [],
   "source": []
  },
  {
   "cell_type": "markdown",
   "metadata": {},
   "source": [
    "## visualization "
   ]
  },
  {
   "cell_type": "code",
   "execution_count": 8,
   "metadata": {},
   "outputs": [],
   "source": [
    "# seaborn with custom background\n",
    "import matplotlib.pyplot as plt\n",
    "%matplotlib inline\n",
    "import seaborn as sns\n",
    "sns.set(style='darkgrid',rc={'figure.facecolor':'#abb2bf'})"
   ]
  },
  {
   "cell_type": "markdown",
   "metadata": {},
   "source": [
    "### util functions"
   ]
  },
  {
   "cell_type": "code",
   "execution_count": 18,
   "metadata": {},
   "outputs": [],
   "source": [
    "def plot_subset(data, start, stop):\n",
    "    plt.figure(figsize=(20, 6))\n",
    "    \n",
    "    plt.stem(data[start:stop])\n",
    "\n",
    "def compare_plots(start, stop, title):\n",
    "    fig, ((ax1, ax2)) = plt.subplots(2, 1, sharex=False, sharey=True, figsize=(15,6))\n",
    "    \n",
    "    ax1.stem(DP.data[start*DP.spb:stop*DP.spb])\n",
    "    ax2.stem(DP.discretized_array[start:stop]) \n",
    "    \n",
    "    ax1.set_title(title)\n",
    "    "
   ]
  },
  {
   "cell_type": "markdown",
   "metadata": {},
   "source": [
    "### plots"
   ]
  },
  {
   "cell_type": "code",
   "execution_count": 17,
   "metadata": {},
   "outputs": [
    {
     "data": {
      "image/png": "[encoded data removed]",
      "text/plain": [
       "<Figure size 1080x432 with 2 Axes>"
      ]
     },
     "metadata": {},
     "output_type": "display_data"
    }
   ],
   "source": [
    "compare_plots(0, 25)"
   ]
  },
  {
   "cell_type": "code",
   "execution_count": null,
   "metadata": {},
   "outputs": [],
   "source": [
    "compare_plots(150, 200)"
   ]
  },
  {
   "cell_type": "code",
   "execution_count": null,
   "metadata": {},
   "outputs": [],
   "source": []
  },
  {
   "cell_type": "code",
   "execution_count": null,
   "metadata": {},
   "outputs": [],
   "source": []
  },
  {
   "cell_type": "code",
   "execution_count": null,
   "metadata": {},
   "outputs": [],
   "source": []
  },
  {
   "cell_type": "code",
   "execution_count": null,
   "metadata": {},
   "outputs": [],
   "source": []
  },
  {
   "cell_type": "code",
   "execution_count": null,
   "metadata": {},
   "outputs": [],
   "source": []
  },
  {
   "cell_type": "code",
   "execution_count": null,
   "metadata": {},
   "outputs": [],
   "source": []
  },
  {
   "cell_type": "code",
   "execution_count": null,
   "metadata": {},
   "outputs": [],
   "source": []
  },
  {
   "cell_type": "code",
   "execution_count": null,
   "metadata": {},
   "outputs": [],
   "source": []
  },
  {
   "cell_type": "code",
   "execution_count": null,
   "metadata": {},
   "outputs": [],
   "source": []
  },
  {
   "cell_type": "code",
   "execution_count": null,
   "metadata": {},
   "outputs": [],
   "source": []
  },
  {
   "cell_type": "code",
   "execution_count": null,
   "metadata": {},
   "outputs": [],
   "source": []
  }
 ],
 "metadata": {
  "kernelspec": {
   "display_name": "Python 3",
   "language": "python",
   "name": "python3"
  },
  "language_info": {
   "codemirror_mode": {
    "name": "ipython",
    "version": 3
   },
   "file_extension": ".py",
   "mimetype": "text/x-python",
   "name": "python",
   "nbconvert_exporter": "python",
   "pygments_lexer": "ipython3",
   "version": "3.6.7"
  }
 },
 "nbformat": 4,
 "nbformat_minor": 2
}
