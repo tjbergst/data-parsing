{
 "cells": [
  {
   "cell_type": "markdown",
   "metadata": {},
   "source": [
    "# translating matlab code parser"
   ]
  },
  {
   "cell_type": "markdown",
   "metadata": {},
   "source": [
    "## setup"
   ]
  },
  {
   "cell_type": "code",
   "execution_count": 41,
   "metadata": {},
   "outputs": [],
   "source": [
    "import lvm_read\n",
    "from pathlib import Path\n",
    "import numpy as np"
   ]
  },
  {
   "cell_type": "markdown",
   "metadata": {},
   "source": [
    "## params"
   ]
  },
  {
   "cell_type": "code",
   "execution_count": 6,
   "metadata": {},
   "outputs": [],
   "source": [
    "lvm_path = Path(r'data/qim_20kbps_10db_l2_v2.lvm')"
   ]
  },
  {
   "cell_type": "markdown",
   "metadata": {},
   "source": [
    "## data acquisition"
   ]
  },
  {
   "cell_type": "markdown",
   "metadata": {},
   "source": [
    "### new lvm parser dev"
   ]
  },
  {
   "cell_type": "code",
   "execution_count": 61,
   "metadata": {},
   "outputs": [
    {
     "name": "stdout",
     "output_type": "stream",
     "text": [
      "columns: ['X_Value', 'Voltage']\n",
      "complete\n"
     ]
    }
   ],
   "source": [
    "with open(lvm_path, 'r') as infile:\n",
    "    # store file name, set parsed file name\n",
    "    file_name = infile.name\n",
    "    parsed_lvm_path = Path(f'{file_name}_parsed.csv')\n",
    "    \n",
    "    if not parsed_lvm_path.exists():\n",
    "        parsed_lvm_path.touch()\n",
    "    \n",
    "    # find header, store column names\n",
    "    while True:\n",
    "        line = infile.readline()\n",
    "        \n",
    "        if line.strip().endswith('Comment'):\n",
    "            cols = line.split(',')[:-1]\n",
    "            print(f'columns: {cols}')\n",
    "            break        \n",
    "            \n",
    "    # trim file and write out\n",
    "    with open(parsed_lvm_path, 'w') as outfile:\n",
    "        outfile.write(', '.join(cols) + '\\n')\n",
    "        while True:\n",
    "            try:\n",
    "                outfile.write(next(infile))\n",
    "            except StopIteration:\n",
    "                break\n",
    "\n",
    "print('complete')"
   ]
  },
  {
   "cell_type": "code",
   "execution_count": null,
   "metadata": {},
   "outputs": [],
   "source": []
  },
  {
   "cell_type": "code",
   "execution_count": null,
   "metadata": {},
   "outputs": [],
   "source": []
  },
  {
   "cell_type": "code",
   "execution_count": null,
   "metadata": {},
   "outputs": [],
   "source": []
  },
  {
   "cell_type": "code",
   "execution_count": null,
   "metadata": {},
   "outputs": [],
   "source": []
  },
  {
   "cell_type": "code",
   "execution_count": null,
   "metadata": {},
   "outputs": [],
   "source": []
  },
  {
   "cell_type": "code",
   "execution_count": null,
   "metadata": {},
   "outputs": [],
   "source": []
  }
 ],
 "metadata": {
  "kernelspec": {
   "display_name": "Python 3",
   "language": "python",
   "name": "python3"
  },
  "language_info": {
   "codemirror_mode": {
    "name": "ipython",
    "version": 3
   },
   "file_extension": ".py",
   "mimetype": "text/x-python",
   "name": "python",
   "nbconvert_exporter": "python",
   "pygments_lexer": "ipython3",
   "version": "3.6.7"
  }
 },
 "nbformat": 4,
 "nbformat_minor": 2
}
