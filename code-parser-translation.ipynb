{
 "cells": [
  {
   "cell_type": "markdown",
   "metadata": {},
   "source": [
    "# translating matlab code parser"
   ]
  },
  {
   "cell_type": "markdown",
   "metadata": {},
   "source": [
    "## setup"
   ]
  },
  {
   "cell_type": "code",
   "execution_count": 25,
   "metadata": {},
   "outputs": [],
   "source": [
    "from pathlib import Path\n",
    "import numpy as np\n",
    "import time\n",
    "\n",
    "from tqdm import tqdm_notebook"
   ]
  },
  {
   "cell_type": "markdown",
   "metadata": {},
   "source": [
    "## params"
   ]
  },
  {
   "cell_type": "code",
   "execution_count": 2,
   "metadata": {},
   "outputs": [
    {
     "name": "stdout",
     "output_type": "stream",
     "text": [
      "header: [0, 1, 0, 1, 0, 1, 0, 1, 0, 1]\n"
     ]
    }
   ],
   "source": [
    "# paths\n",
    "lvm_path = Path(r'data/qim_20kbps_10db_l2_v2.lvm')\n",
    "\n",
    "# signal specific params\n",
    "spb = 20\n",
    "header = [0 if i % 2 == 0 else 1 for i in range(10)]\n",
    "print(f'header: {header}')"
   ]
  },
  {
   "cell_type": "markdown",
   "metadata": {},
   "source": [
    "## class building"
   ]
  },
  {
   "cell_type": "code",
   "execution_count": 101,
   "metadata": {},
   "outputs": [],
   "source": [
    "class DataParserLVM:\n",
    "    def __init__(self, lvm_path, spb, header=None):\n",
    "        print('initializing..')\n",
    "        \n",
    "        # set input path\n",
    "        if isinstance(lvm_path, Path):\n",
    "            try: \n",
    "                assert lvm_path.exists()\n",
    "                self.lvm_path = lvm_path\n",
    "                print(f'\\tset input lvm path: {self.lvm_path}')\n",
    "            except AssertionError:\n",
    "                print(f'no file found at {lvm_path}')\n",
    "                raise                \n",
    "        else:\n",
    "            print(f'invalid path {lvm_path}, must be pathlib.Path object')\n",
    "            raise TypeError\n",
    "        \n",
    "        # samples per bit\n",
    "        try:\n",
    "            assert isinstance(spb, int)\n",
    "            self.spb = spb\n",
    "            print(f'\\tset samples per bit: {self.spb}')\n",
    "        except AssertionError:\n",
    "            try:\n",
    "                self.spb = int(spb)\n",
    "                print(f'\\tset samples per bit: {self.spb}')\n",
    "            except Exception:\n",
    "                print(\n",
    "                    f'unable to convert provided spb ({type(spb)}) to integer, ' + \n",
    "                    f'please provide in integer format'\n",
    "                )\n",
    "                raise\n",
    "                \n",
    "        # header\n",
    "        if header is None:\n",
    "            self.header = np.array([0 if i % 2 == 0 else 1 for i in range(10)])\n",
    "            print(f'\\tset header: {self.header}')\n",
    "        else:\n",
    "            if isinstance(header, list):\n",
    "                self.header = np.array(header)\n",
    "                print(f'\\tset header: {self.header}')\n",
    "            elif isinstance(header, np.array):\n",
    "                self.header = header\n",
    "                print(f'\\tset header: {self.header}')\n",
    "            else:\n",
    "                print(\n",
    "                    f'invalid header format specified ({type(header)}), ' + \n",
    "                    f'must be np.array or list'\n",
    "                )\n",
    "                raise TypeError\n",
    "                \n",
    "        # startup tasks\n",
    "        self.parse_lvm_file()\n",
    "        self.read_csv_data()\n",
    "        self.preprocess_data()\n",
    "        \n",
    "            \n",
    "    def parse_lvm_file(self, output_path='auto'):\n",
    "        \"\"\"\n",
    "        reads in .lvm file, writes out .csv with column names\n",
    "        containing only data points\n",
    "        \n",
    "        [arguments]\n",
    "        input_path: str or pathlib.Path object (preferred)\n",
    "            input file path\n",
    "        output_path: 'auto' (preferred) or str or pathlib.Path object\n",
    "            if auto:\n",
    "                appends _parsed.csv to end of input file name\n",
    "            else:\n",
    "                use provided path, must end in .csv\n",
    "                \n",
    "        [returns]\n",
    "        None\n",
    "            outputs parsed lvm file\n",
    "            sets self.parsed_lvm_path, pathlib.Path object pointing to parsed file\n",
    "        \"\"\"\n",
    "        \n",
    "        print('parsing lvm file..')\n",
    "        with open(self.lvm_path, 'r') as infile:\n",
    "            # set output path\n",
    "            file_name = infile.name\n",
    "            \n",
    "            if output_path == 'auto':\n",
    "                self.parsed_lvm_path = Path(f'{file_name}_parsed.csv')\n",
    "            else:\n",
    "                self.parsed_lvm_path = output_path\n",
    "                \n",
    "                if isinstance(parsed_lvm_path, Path):\n",
    "                    try:\n",
    "                        assert str(parsed_lvm_path).endswith('.csv')\n",
    "                    except AssertionError:\n",
    "                        print('output file must end with .csv')\n",
    "                        raise\n",
    "                elif isinstance(parsed_lvm_path, str):\n",
    "                    try:\n",
    "                        assert parsed_lvm_path.endswith('.csv')\n",
    "                    except AssertionError:\n",
    "                        print('output file must end with .csv')\n",
    "                        raise\n",
    "                else:\n",
    "                    print('error, output_path must be str or pathlib.Path object')\n",
    "                    raise TypeError\n",
    "            \n",
    "            if not self.parsed_lvm_path.exists():\n",
    "                self.parsed_lvm_path.touch()\n",
    "            \n",
    "            # find header, store column names\n",
    "            while True:\n",
    "                line = infile.readline()\n",
    "                \n",
    "                if line.strip().endswith('Comment'):\n",
    "                    cols = line.split(',')[:-1]\n",
    "                    print(f'\\tcolumns: {cols}')\n",
    "                    break        \n",
    "                    \n",
    "            # trim file and write out\n",
    "            with open(self.parsed_lvm_path, 'w') as outfile:\n",
    "                outfile.write(', '.join(cols) + '\\n')\n",
    "                while True:\n",
    "                    try:\n",
    "                        outfile.write(next(infile))\n",
    "                    except StopIteration:\n",
    "                        break\n",
    "        \n",
    "        print(f'\\tcomplete, parsed file saved to: {self.parsed_lvm_path}')\n",
    "        \n",
    "    def read_csv_data(self):\n",
    "        print('importing data from parsed csv..')\n",
    "        self.raw_data = np.genfromtxt(\n",
    "            self.parsed_lvm_path,\n",
    "            delimiter=',',\n",
    "            skip_header=1,\n",
    "            usecols=(1)\n",
    "        )\n",
    "        \n",
    "        print(f'\\timported data, {self.raw_data.size} rows')\n",
    "        \n",
    "        \n",
    "    def preprocess_data(self):\n",
    "        th = max(self.raw_data) / 2\n",
    "        shape_check = self.raw_data[np.where(self.raw_data >= th)].size\n",
    "        \n",
    "        self.raw_data[np.where(self.raw_data >= th)] = 1\n",
    "        self.raw_data[np.where(self.raw_data < th)] = 0\n",
    "        \n",
    "        # set dtype and store\n",
    "        self.data = self.raw_data.astype('int')\n",
    "        \n",
    "        # validate\n",
    "        try:\n",
    "            assert self.data.sum() == shape_check            \n",
    "        except AssertionError:\n",
    "            print(\n",
    "                f'error: sum of 1\\'s ({self.data.sum()}) does not match ' + \n",
    "                f'number of entries >= th ({shape_check})'\n",
    "            )\n",
    "        \n",
    "        \n",
    "    def get_state_length_list(self, data):\n",
    "        '''\n",
    "        takes data list ([1,1,0,1,0,0,...]) and returns numpy array \n",
    "        of duration of consecutive bits ([13,245,2588,19,1056,...])\n",
    "        '''\n",
    "        \n",
    "        return np.diff(\n",
    "            np.where(\n",
    "                np.concatenate(\n",
    "                    ([data[0]],\n",
    "                     data[:-1] != data[1:],\n",
    "                     [0]\n",
    "                    )\n",
    "                )\n",
    "            )[0]\n",
    "        )[::2]\n",
    "    \n",
    "\n",
    "    def discretize_signal(self):\n",
    "        start_time = time.time()\n",
    "        print('discretizing signal..')\n",
    "        \n",
    "        # set params\n",
    "        discretized_data = []\n",
    "        start_bit = self.data[0]\n",
    "        alt_bit = 0 if start_bit == 1 else 1\n",
    "        print(f'\\tstarting bit: {start_bit}, alt bit: {alt_bit}')\n",
    "        \n",
    "        # get state lengths\n",
    "        state_lengths = self.get_state_length_list(self.data)\n",
    "        \n",
    "        for i, state in enumerate(state_lengths):\n",
    "            discretized_state = int(np.round(state / self.spb))\n",
    "            #print(f'iter: {i}, discretized state: {discretized_state}')\n",
    "            \n",
    "            if i % 2 == 0:\n",
    "                discretized_data.append([start_bit for j in range(discretized_state)])\n",
    "            elif i % 2 == 1:\n",
    "                discretized_data.append([alt_bit for j in range(discretized_state)])\n",
    "            else:\n",
    "                print('ya done messed up.')\n",
    "        \n",
    "        self.discretized_array = np.array([\n",
    "            item for sublist \n",
    "                in discretized_data \n",
    "            for item in sublist\n",
    "        ])\n",
    "        \n",
    "        reduction = 100 * (self.discretized_array.size / self.data.size)\n",
    "        print(\n",
    "            f'\\tcomplete, discretized signal: {self.discretized_array.size} entries ' + \n",
    "            f'({reduction:0.2f}% of original)\\n'\n",
    "            f'\\tprocessing time: {time.time() - start_time:0.4f} sec, hot damn.'\n",
    "        )\n",
    "        \n",
    "\n",
    "    def search_sequence_numpy(self, arr, seq):\n",
    "        \"\"\" \n",
    "        find sequence in an array \n",
    "    \n",
    "        Parameters\n",
    "        ----------    \n",
    "        arr    : input 1D array\n",
    "        seq    : input 1D array\n",
    "    \n",
    "        Output\n",
    "        ------    \n",
    "        Output : 1D Array of indices in the input array that satisfy the \n",
    "        matching of input sequence in the input array.\n",
    "        In case of no match, an empty list is returned.\n",
    "        \"\"\"\n",
    "    \n",
    "        # Store sizes of input array and sequence\n",
    "        Na, Nseq = arr.size, seq.size\n",
    "    \n",
    "        # Range of sequence\n",
    "        r_seq = np.arange(Nseq)\n",
    "    \n",
    "        # Create a 2D array of sliding indices across the entire length of input array.\n",
    "        # Match up with the input sequence & get the matching starting indices.\n",
    "        M = (arr[np.arange(Na-Nseq+1)[:,None] + r_seq] == seq).all(1)\n",
    "    \n",
    "        # Get the range of those indices as final output\n",
    "        if M.any() >0:\n",
    "            return np.where(\n",
    "                np.convolve(\n",
    "                    M,\n",
    "                    np.ones((Nseq), dtype=int)\n",
    "                ) > 0\n",
    "            )[0]\n",
    "        else:\n",
    "            return []  \n",
    "        \n",
    "    \n",
    "    def output_discretized_array(self, output_path='auto', output_format='csv'):\n",
    "        # set output path\n",
    "        if output_path == 'auto':\n",
    "            output_path = Path(r'data/discretized_array.csv')            \n",
    "        elif isinstance(output_path, Path):\n",
    "            try:\n",
    "                assert output_path.parent.exists()\n",
    "                assert output_path.name.endswith('.csv')\n",
    "            except AssertionError:\n",
    "                print(\n",
    "                    f'parent path ({output_path.parent}) unavailable or ' + \n",
    "                    f'path does not end with .csv ({output_path.name}), ' + \n",
    "                    f'please choose another path'\n",
    "                )\n",
    "                raise\n",
    "        elif isinstance(output_path, str):\n",
    "            try:\n",
    "                output_path = Path(output_path)\n",
    "                assert output_path.parent.exists()\n",
    "                assert output_path.name.endswith('.csv')\n",
    "            except AssertionError:\n",
    "                print(\n",
    "                    f'parent path ({output_path.parent}) unavailable or ' + \n",
    "                    f'path does not end with .csv ({output_path.name}), ' + \n",
    "                    f'please choose another path'\n",
    "                )\n",
    "                raise\n",
    "        else:\n",
    "            print(\n",
    "                f'you really messed up, you provided {output_path} {type(output_path)}, ' + \n",
    "                f'please provide output_path as str or pathlib.Path object ending with .csv'\n",
    "            )            \n",
    "        print(f'set discretized signal output path: {output_path}')\n",
    "                \n",
    "        # output\n",
    "        if output_format == 'csv':\n",
    "            np.savetxt(\n",
    "                output_path,\n",
    "                self.discretized_array,\n",
    "                delimiter=','\n",
    "            )\n",
    "            print(f'\\tsuccessfully saved file to: {output_path}')\n",
    "        else:\n",
    "            print(f'yeah.. csv is actually the only option.. please try again.')\n",
    "            raise TypeError\n",
    "    \n",
    "    \n",
    "    \n",
    "    def main(self):\n",
    "        self.discretize_signal()\n",
    "        \n",
    "        \n",
    "        "
   ]
  },
  {
   "cell_type": "code",
   "execution_count": 102,
   "metadata": {},
   "outputs": [
    {
     "name": "stdout",
     "output_type": "stream",
     "text": [
      "initializing..\n",
      "\tset input lvm path: data\\qim_20kbps_10db_l2_v2.lvm\n",
      "\tset samples per bit: 92\n",
      "\tset header: [0 1 0 1 0 1 0 1 0 1]\n",
      "parsing lvm file..\n",
      "\tcolumns: ['X_Value', 'Voltage']\n",
      "\tcomplete, parsed file saved to: data\\qim_20kbps_10db_l2_v2.lvm_parsed.csv\n",
      "importing data from parsed csv..\n",
      "\timported data, 4000000 rows\n"
     ]
    }
   ],
   "source": [
    "DP = DataParserLVM(lvm_path, 92)"
   ]
  },
  {
   "cell_type": "code",
   "execution_count": 103,
   "metadata": {},
   "outputs": [
    {
     "name": "stdout",
     "output_type": "stream",
     "text": [
      "discretizing signal..\n",
      "\tstarting bit: 0, alt bit: 1\n",
      "\tcomplete, discretized signal: 16035 entries (0.40% of original)\n",
      "\tprocessing time: 0.2640 sec, hot damn.\n"
     ]
    }
   ],
   "source": [
    "DP.discretize_signal()"
   ]
  },
  {
   "cell_type": "code",
   "execution_count": 104,
   "metadata": {},
   "outputs": [
    {
     "name": "stdout",
     "output_type": "stream",
     "text": [
      "set discretized signal output path: data\\discretized_array.csv\n"
     ]
    }
   ],
   "source": [
    "DP.output_discretized_array()"
   ]
  },
  {
   "cell_type": "code",
   "execution_count": 107,
   "metadata": {},
   "outputs": [
    {
     "data": {
      "text/plain": [
       "array([0, 1, 0, ..., 0, 0, 1])"
      ]
     },
     "execution_count": 107,
     "metadata": {},
     "output_type": "execute_result"
    }
   ],
   "source": [
    "DP.discretized_array"
   ]
  },
  {
   "cell_type": "code",
   "execution_count": null,
   "metadata": {},
   "outputs": [],
   "source": []
  },
  {
   "cell_type": "code",
   "execution_count": null,
   "metadata": {},
   "outputs": [],
   "source": []
  },
  {
   "cell_type": "markdown",
   "metadata": {},
   "source": [
    "## visualiziation "
   ]
  },
  {
   "cell_type": "code",
   "execution_count": 40,
   "metadata": {},
   "outputs": [],
   "source": [
    "# seaborn with custom background\n",
    "import matplotlib.pyplot as plt\n",
    "%matplotlib inline\n",
    "import seaborn as sns\n",
    "sns.set(style='darkgrid',rc={'figure.facecolor':'#abb2bf'})"
   ]
  },
  {
   "cell_type": "markdown",
   "metadata": {},
   "source": [
    "### discretized vs real"
   ]
  },
  {
   "cell_type": "code",
   "execution_count": 90,
   "metadata": {},
   "outputs": [],
   "source": [
    "def compare_plots(start, stop):\n",
    "    fig, ((ax1, ax2)) = plt.subplots(2, 1, sharex=False, sharey=True, figsize=(20,12))\n",
    "    \n",
    "    ax1.stem(DP.raw_data[start*DP.spb:stop*DP.spb])\n",
    "    ax2.stem(DP.discretized_array[start:stop])    \n",
    "    "
   ]
  },
  {
   "cell_type": "code",
   "execution_count": 91,
   "metadata": {},
   "outputs": [
    {
     "data": {
      "image/png": "[encoded data removed]",
      "text/plain": [
       "<Figure size 1440x864 with 2 Axes>"
      ]
     },
     "metadata": {},
     "output_type": "display_data"
    }
   ],
   "source": [
    "compare_plots(0, 50)"
   ]
  },
  {
   "cell_type": "code",
   "execution_count": 79,
   "metadata": {},
   "outputs": [],
   "source": [
    "start = 1000\n",
    "stop = 1060"
   ]
  },
  {
   "cell_type": "code",
   "execution_count": null,
   "metadata": {},
   "outputs": [],
   "source": [
    "plt.figure(figsize=(20,6))\n",
    "plt.stem(DP.raw_data[start*DP.spb:stop*DP.spb])"
   ]
  },
  {
   "cell_type": "code",
   "execution_count": null,
   "metadata": {},
   "outputs": [],
   "source": [
    "plt.figure(figsize=(20,6))\n",
    "plt.stem(DP.discretized_array[start:stop])"
   ]
  },
  {
   "cell_type": "code",
   "execution_count": null,
   "metadata": {},
   "outputs": [],
   "source": []
  },
  {
   "cell_type": "code",
   "execution_count": null,
   "metadata": {},
   "outputs": [],
   "source": []
  },
  {
   "cell_type": "code",
   "execution_count": null,
   "metadata": {},
   "outputs": [],
   "source": []
  },
  {
   "cell_type": "code",
   "execution_count": null,
   "metadata": {},
   "outputs": [],
   "source": []
  },
  {
   "cell_type": "code",
   "execution_count": null,
   "metadata": {},
   "outputs": [],
   "source": []
  },
  {
   "cell_type": "code",
   "execution_count": null,
   "metadata": {},
   "outputs": [],
   "source": []
  },
  {
   "cell_type": "markdown",
   "metadata": {},
   "source": [
    "### spb brute force attempt"
   ]
  },
  {
   "cell_type": "code",
   "execution_count": 11,
   "metadata": {},
   "outputs": [],
   "source": [
    "from collections import Counter"
   ]
  },
  {
   "cell_type": "code",
   "execution_count": 12,
   "metadata": {},
   "outputs": [
    {
     "name": "stdout",
     "output_type": "stream",
     "text": [
      "spb_list: 10 elements\n"
     ]
    }
   ],
   "source": [
    "spb_list = [i for i in range(90, 100, 1)]\n",
    "print(f'spb_list: {len(spb_list)} elements')"
   ]
  },
  {
   "cell_type": "code",
   "execution_count": 21,
   "metadata": {},
   "outputs": [
    {
     "data": {
      "application/vnd.jupyter.widget-view+json": {
       "model_id": "fa9351a3d54547a49e8ddd616848ca39",
       "version_major": 2,
       "version_minor": 0
      },
      "text/plain": [
       "HBox(children=(IntProgress(value=0, max=10), HTML(value='')))"
      ]
     },
     "metadata": {},
     "output_type": "display_data"
    },
    {
     "name": "stdout",
     "output_type": "stream",
     "text": [
      "\n"
     ]
    }
   ],
   "source": [
    "result_dict = {}\n",
    "\n",
    "for spb in tqdm_notebook(spb_list):\n",
    "    discretized_array = discretize_signal(DP.raw_data, spb)    \n",
    "    \n",
    "    result_dict[spb] = search_sequence_numpy(discretized_array, np.array(header))"
   ]
  },
  {
   "cell_type": "code",
   "execution_count": 22,
   "metadata": {},
   "outputs": [
    {
     "data": {
      "text/plain": [
       "[(1, 807), (191, 38), (192, 21)]"
      ]
     },
     "execution_count": 22,
     "metadata": {},
     "output_type": "execute_result"
    }
   ],
   "source": [
    "frequencies = {\n",
    "    spb: Counter(np.diff(matches)).most_common(3)\n",
    "    for spb, matches in result_dict.items()\n",
    "}\n",
    "\n",
    "frequencies[90]"
   ]
  },
  {
   "cell_type": "code",
   "execution_count": 23,
   "metadata": {},
   "outputs": [
    {
     "data": {
      "text/plain": [
       "{90: [(1, 807), (191, 38), (192, 21)],\n",
       " 91: [(1, 807), (191, 38), (192, 21)],\n",
       " 92: [(1, 807), (190, 69), (191, 2)],\n",
       " 93: [(1, 807), (190, 69), (191, 2)],\n",
       " 94: [(1, 798), (189, 37), (188, 18)],\n",
       " 95: [(1, 798), (189, 37), (188, 18)],\n",
       " 96: [(1, 783), (188, 56), (187, 8)],\n",
       " 97: [(1, 783), (188, 56), (187, 8)],\n",
       " 98: [(1, 397), (41, 2), (98, 1)],\n",
       " 99: [(1, 397), (41, 2), (98, 1)]}"
      ]
     },
     "execution_count": 23,
     "metadata": {},
     "output_type": "execute_result"
    }
   ],
   "source": [
    "frequencies"
   ]
  },
  {
   "cell_type": "code",
   "execution_count": null,
   "metadata": {},
   "outputs": [],
   "source": []
  },
  {
   "cell_type": "code",
   "execution_count": null,
   "metadata": {},
   "outputs": [],
   "source": []
  }
 ],
 "metadata": {
  "kernelspec": {
   "display_name": "Python 3",
   "language": "python",
   "name": "python3"
  },
  "language_info": {
   "codemirror_mode": {
    "name": "ipython",
    "version": 3
   },
   "file_extension": ".py",
   "mimetype": "text/x-python",
   "name": "python",
   "nbconvert_exporter": "python",
   "pygments_lexer": "ipython3",
   "version": "3.6.7"
  }
 },
 "nbformat": 4,
 "nbformat_minor": 2
}
