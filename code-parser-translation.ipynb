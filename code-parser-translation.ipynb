{
 "cells": [
  {
   "cell_type": "markdown",
   "metadata": {},
   "source": [
    "# translating matlab code parser"
   ]
  },
  {
   "cell_type": "markdown",
   "metadata": {},
   "source": [
    "## setup"
   ]
  },
  {
   "cell_type": "code",
   "execution_count": 1,
   "metadata": {},
   "outputs": [],
   "source": [
    "from pathlib import Path\n",
    "import numpy as np\n",
    "import pandas as pd\n",
    "import time\n",
    "\n",
    "from itertools import groupby\n",
    "\n",
    "from tqdm import tqdm_notebook, tnrange"
   ]
  },
  {
   "cell_type": "markdown",
   "metadata": {},
   "source": [
    "## params"
   ]
  },
  {
   "cell_type": "code",
   "execution_count": 2,
   "metadata": {},
   "outputs": [],
   "source": [
    "# paths\n",
    "#lvm_path = Path(r'data/qim_20kbps_10db_l2_v2.lvm')\n",
    "lvm_path = Path(r'data/test_packet.txt')\n",
    "\n",
    "# signal specific params\n",
    "spb = 20"
   ]
  },
  {
   "cell_type": "markdown",
   "metadata": {},
   "source": [
    "## class building"
   ]
  },
  {
   "cell_type": "code",
   "execution_count": 38,
   "metadata": {},
   "outputs": [],
   "source": [
    "class DataParserLVM:\n",
    "    def __init__(self, lvm_path, source='txt', header=None, preprocess_mode='static'):\n",
    "        print('initializing..')\n",
    "        \n",
    "        # set input path\n",
    "        if isinstance(lvm_path, Path):\n",
    "            try: \n",
    "                assert lvm_path.exists()\n",
    "                self.lvm_path = lvm_path\n",
    "                print(f'\\tset input lvm path: {self.lvm_path}')\n",
    "            except AssertionError:\n",
    "                print(f'no file found at {lvm_path}')\n",
    "                raise                \n",
    "        else:\n",
    "            print(f'invalid path {lvm_path}, must be pathlib.Path object')\n",
    "            raise TypeError\n",
    "                \n",
    "        # header\n",
    "        if header is None:\n",
    "            self.header = np.array([1 if i % 2 == 0 else 0 for i in range(30)])\n",
    "            print(f'\\tset header: {self.header}')\n",
    "        else:\n",
    "            if isinstance(header, list):\n",
    "                self.header = np.array(header)\n",
    "                print(f'\\tset header: {self.header}')\n",
    "            elif isinstance(header, np.array):\n",
    "                self.header = header\n",
    "                print(f'\\tset header: {self.header}')\n",
    "            else:\n",
    "                print(\n",
    "                    f'invalid header format specified ({type(header)}), ' + \n",
    "                    f'must be np.array or list'\n",
    "                )\n",
    "                raise TypeError\n",
    "        \n",
    "        # source\n",
    "        if source == 'txt':\n",
    "            self.parse_other_file()\n",
    "        elif source == 'lvm':\n",
    "            self.parse_lvm_file()\n",
    "            self.read_csv_data()\n",
    "        else:\n",
    "            print(\n",
    "                f'invalid source {source}, options are ' + \n",
    "                '\\'txt\\' for tab delimited numbers only or ' + \n",
    "                '\\'lvm\\' for lvm file with headers'\n",
    "            )        \n",
    "        \n",
    "        # startup tasks\n",
    "        self.preprocess_data(mode=preprocess_mode)\n",
    "        \n",
    "        \n",
    "    def parse_other_file(self):\n",
    "        print('parsing tab delimited file..')\n",
    "        self.raw_data = np.genfromtxt(\n",
    "            self.lvm_path,\n",
    "            delimiter='\\t',\n",
    "            usecols=(1)\n",
    "        )        \n",
    "        print(f'\\timported data, {self.raw_data.size} rows')\n",
    "        \n",
    "            \n",
    "    def parse_lvm_file(self, output_path='auto'):\n",
    "        \"\"\"\n",
    "        reads in .lvm file, writes out .csv with column names\n",
    "        containing only data points\n",
    "        \n",
    "        [arguments]\n",
    "        input_path: str or pathlib.Path object (preferred)\n",
    "            input file path\n",
    "        output_path: 'auto' (preferred) or str or pathlib.Path object\n",
    "            if auto:\n",
    "                appends _parsed.csv to end of input file name\n",
    "            else:\n",
    "                use provided path, must end in .csv\n",
    "                \n",
    "        [returns]\n",
    "        None\n",
    "            outputs parsed lvm file\n",
    "            sets self.parsed_lvm_path, pathlib.Path object pointing to parsed file\n",
    "        \"\"\"\n",
    "        \n",
    "        print('parsing lvm file..')\n",
    "        with open(self.lvm_path, 'r') as infile:\n",
    "            # set output path\n",
    "            file_name = infile.name\n",
    "            \n",
    "            if output_path == 'auto':\n",
    "                self.parsed_lvm_path = Path(f'{file_name}_parsed.csv')\n",
    "            else:\n",
    "                self.parsed_lvm_path = output_path\n",
    "                \n",
    "                if isinstance(parsed_lvm_path, Path):\n",
    "                    try:\n",
    "                        assert str(parsed_lvm_path).endswith('.csv')\n",
    "                    except AssertionError:\n",
    "                        print('output file must end with .csv')\n",
    "                        raise\n",
    "                elif isinstance(parsed_lvm_path, str):\n",
    "                    try:\n",
    "                        assert parsed_lvm_path.endswith('.csv')\n",
    "                    except AssertionError:\n",
    "                        print('output file must end with .csv')\n",
    "                        raise\n",
    "                else:\n",
    "                    print('error, output_path must be str or pathlib.Path object')\n",
    "                    raise TypeError\n",
    "            \n",
    "            if not self.parsed_lvm_path.exists():\n",
    "                self.parsed_lvm_path.touch()\n",
    "            \n",
    "            # find header, store column names\n",
    "            while True:\n",
    "                line = infile.readline()\n",
    "                \n",
    "                if line.strip().endswith('Comment'):\n",
    "                    cols = line.split(',')[:-1]\n",
    "                    print(f'\\tcolumns: {cols}')\n",
    "                    break        \n",
    "                    \n",
    "            # trim file and write out\n",
    "            with open(self.parsed_lvm_path, 'w') as outfile:\n",
    "                outfile.write(', '.join(cols) + '\\n')\n",
    "                while True:\n",
    "                    try:\n",
    "                        outfile.write(next(infile))\n",
    "                    except StopIteration:\n",
    "                        break\n",
    "        \n",
    "        print(f'\\tcomplete, parsed file saved to: {self.parsed_lvm_path}')\n",
    "        \n",
    "    def read_csv_data(self):\n",
    "        print('importing data from parsed csv..')\n",
    "        self.raw_data = np.genfromtxt(\n",
    "            self.parsed_lvm_path,\n",
    "            delimiter=',',\n",
    "            skip_header=1,\n",
    "            usecols=(1)\n",
    "        )\n",
    "        \n",
    "        print(f'\\timported data, {self.raw_data.size} rows')\n",
    "        \n",
    "        \n",
    "    def preprocess_data(self, mode='static'):\n",
    "        \"\"\"\n",
    "        convert float data into 1's and 0's\n",
    "        \n",
    "        static: use 1/2 * max data point as threshold\n",
    "        dynamic: use min + 1/2(max - min) as threshold\n",
    "        \"\"\"\n",
    "        \n",
    "        if mode == 'static':\n",
    "            th = self.raw_data.max() / 2\n",
    "        elif mode == 'dynamic':\n",
    "            th = self.raw_data.min() + (self.raw_data.max() - self.raw_data.min()) / 2\n",
    "        else:\n",
    "            print(f'invalid mode {mode}, options are \\'static\\' or \\'dynamic\\'')        \n",
    "        \n",
    "        shape_check = self.raw_data[np.where(self.raw_data >= th)].size\n",
    "        \n",
    "        self.raw_data[np.where(self.raw_data >= th)] = 1\n",
    "        self.raw_data[np.where(self.raw_data < th)] = 0\n",
    "        \n",
    "        # set dtype and store\n",
    "        self.data = self.raw_data.astype('int')[7:]\n",
    "        \n",
    "        # validate\n",
    "        try:\n",
    "            assert self.data.sum() == shape_check            \n",
    "        except AssertionError:\n",
    "            print(\n",
    "                f'error: sum of 1\\'s ({self.data.sum()}) does not match ' + \n",
    "                f'number of entries >= th ({shape_check})'\n",
    "            )\n",
    "        \n",
    "        \n",
    "    def get_state_length_list(self, data):\n",
    "        '''\n",
    "        takes data list ([1,1,0,1,0,0,...]) and returns numpy array \n",
    "        of duration of consecutive bits ([13,245,2588,19,1056,...])\n",
    "        '''\n",
    "        \n",
    "        return np.diff(\n",
    "            np.where(\n",
    "                np.concatenate(\n",
    "                    ([data[0]],\n",
    "                     data[:-1] != data[1:],\n",
    "                     [0]\n",
    "                    )\n",
    "                )\n",
    "            )[0]\n",
    "        )[::2]\n",
    "    \n",
    "    def get_correct_state_length_list(self, data):\n",
    "        '''\n",
    "        gets state lengths like above, but correctly..\n",
    "        '''\n",
    "        \n",
    "        groups = groupby(data)\n",
    "        \n",
    "        return [sum(1 for _ in group) for _, group in groups]\n",
    "    \n",
    "\n",
    "    def discretize_signal(self, spb):\n",
    "        start_time = time.time()\n",
    "        print('discretizing signal..')\n",
    "        \n",
    "        # set params\n",
    "        self.spb = spb\n",
    "        \n",
    "        discretized_data = []\n",
    "        start_bit = self.data[0]\n",
    "        alt_bit = 0 if start_bit == 1 else 1\n",
    "        print(f'\\tstarting bit: {start_bit}, alt bit: {alt_bit}')\n",
    "        \n",
    "        # get state lengths\n",
    "        #state_lengths = self.get_state_length_list(self.data)\n",
    "        state_lengths = self.get_correct_state_length_list(self.data)\n",
    "        \n",
    "        for i, state in enumerate(state_lengths):\n",
    "            discretized_state = int(np.round(state / self.spb))\n",
    "            #print(f'iter: {i}, discretized state: {discretized_state}')\n",
    "            \n",
    "            if i % 2 == 0:\n",
    "                discretized_data.append([start_bit for j in range(discretized_state)])\n",
    "            elif i % 2 == 1:\n",
    "                discretized_data.append([alt_bit for j in range(discretized_state)])\n",
    "            else:\n",
    "                print('ya done messed up.')\n",
    "        \n",
    "        self.discretized_array = np.array([\n",
    "            item for sublist \n",
    "                in discretized_data \n",
    "            for item in sublist\n",
    "        ])\n",
    "        \n",
    "        reduction = 100 * (self.discretized_array.size / self.data.size)\n",
    "        print(\n",
    "            f'\\tcomplete, discretized signal: {self.discretized_array.size} entries ' + \n",
    "            f'({reduction:0.2f}% of original)\\n'\n",
    "            f'\\tprocessing time: {time.time() - start_time:0.4f} sec, hot damn.'\n",
    "        )\n",
    "        \n",
    "\n",
    "    def search_sequence_numpy(self, arr, seq):\n",
    "        \"\"\" \n",
    "        find sequence in an array \n",
    "    \n",
    "        Parameters\n",
    "        ----------    \n",
    "        arr    : input 1D array\n",
    "        seq    : input 1D array\n",
    "    \n",
    "        Output\n",
    "        ------    \n",
    "        Output : 1D Array of indices in the input array that satisfy the \n",
    "        matching of input sequence in the input array.\n",
    "        In case of no match, an empty list is returned.\n",
    "        \"\"\"\n",
    "    \n",
    "        # Store sizes of input array and sequence\n",
    "        Na, Nseq = arr.size, seq.size\n",
    "    \n",
    "        # Range of sequence\n",
    "        r_seq = np.arange(Nseq)\n",
    "    \n",
    "        # Create a 2D array of sliding indices across the entire length of input array.\n",
    "        # Match up with the input sequence & get the matching starting indices.\n",
    "        M = (arr[np.arange(Na-Nseq+1)[:,None] + r_seq] == seq).all(1)\n",
    "    \n",
    "        # Get the range of those indices as final output\n",
    "        if M.any() >0:\n",
    "            return np.where(\n",
    "                np.convolve(\n",
    "                    M,\n",
    "                    np.ones((Nseq), dtype=int)\n",
    "                ) > 0\n",
    "            )[0]\n",
    "        else:\n",
    "            return []  \n",
    "        \n",
    "    \n",
    "    def output_discretized_array(self, output_path='auto', output_format='csv'):\n",
    "        # set output path\n",
    "        if output_path == 'auto':\n",
    "            output_path = Path(r'data/discretized_array.csv')            \n",
    "        elif isinstance(output_path, Path):\n",
    "            try:\n",
    "                assert output_path.parent.exists()\n",
    "                assert output_path.name.endswith('.csv')\n",
    "            except AssertionError:\n",
    "                print(\n",
    "                    f'parent path ({output_path.parent}) unavailable or ' + \n",
    "                    f'path does not end with .csv ({output_path.name}), ' + \n",
    "                    f'please choose another path'\n",
    "                )\n",
    "                raise\n",
    "        elif isinstance(output_path, str):\n",
    "            try:\n",
    "                output_path = Path(output_path)\n",
    "                assert output_path.parent.exists()\n",
    "                assert output_path.name.endswith('.csv')\n",
    "            except AssertionError:\n",
    "                print(\n",
    "                    f'parent path ({output_path.parent}) unavailable or ' + \n",
    "                    f'path does not end with .csv ({output_path.name}), ' + \n",
    "                    f'please choose another path'\n",
    "                )\n",
    "                raise\n",
    "        else:\n",
    "            print(\n",
    "                f'you really messed up, you provided {output_path} {type(output_path)}, ' + \n",
    "                f'please provide output_path as str or pathlib.Path object ending with .csv'\n",
    "            )            \n",
    "        print(f'set discretized signal output path: {output_path}')\n",
    "                \n",
    "        # output\n",
    "        if output_format == 'csv':\n",
    "            np.savetxt(\n",
    "                output_path,\n",
    "                self.discretized_array,\n",
    "                delimiter=','\n",
    "            )\n",
    "            print(f'\\tsuccessfully saved file to: {output_path}')\n",
    "        else:\n",
    "            print(f'yeah.. csv is actually the only option.. please try again.')\n",
    "            raise TypeError\n",
    "    \n",
    "    \n",
    "    \n",
    "    def main(self):\n",
    "        self.discretize_signal()\n",
    "        \n",
    "        \n",
    "        "
   ]
  },
  {
   "cell_type": "code",
   "execution_count": 39,
   "metadata": {},
   "outputs": [
    {
     "name": "stdout",
     "output_type": "stream",
     "text": [
      "initializing..\n",
      "\tset input lvm path: data\\test_packet.txt\n",
      "\tset header: [1 0 1 0 1 0 1 0 1 0 1 0 1 0 1 0 1 0 1 0 1 0 1 0 1 0 1 0 1 0]\n",
      "parsing tab delimited file..\n",
      "\timported data, 3500000 rows\n"
     ]
    }
   ],
   "source": [
    "DP = DataParserLVM(\n",
    "    lvm_path, \n",
    "    source='txt',\n",
    "    preprocess_mode='dynamic'\n",
    ")"
   ]
  },
  {
   "cell_type": "code",
   "execution_count": null,
   "metadata": {},
   "outputs": [],
   "source": [
    "DP.discretize_signal(spb=12)"
   ]
  },
  {
   "cell_type": "code",
   "execution_count": null,
   "metadata": {},
   "outputs": [],
   "source": [
    "DP.discretized_array[:50]"
   ]
  },
  {
   "cell_type": "code",
   "execution_count": null,
   "metadata": {},
   "outputs": [],
   "source": []
  },
  {
   "cell_type": "markdown",
   "metadata": {},
   "source": [
    "## spb explorating"
   ]
  },
  {
   "cell_type": "markdown",
   "metadata": {},
   "source": [
    "### minimum and frequencies"
   ]
  },
  {
   "cell_type": "code",
   "execution_count": null,
   "metadata": {},
   "outputs": [],
   "source": [
    "from collections import Counter"
   ]
  },
  {
   "cell_type": "code",
   "execution_count": null,
   "metadata": {},
   "outputs": [],
   "source": [
    "DP.data.size"
   ]
  },
  {
   "cell_type": "code",
   "execution_count": null,
   "metadata": {},
   "outputs": [],
   "source": [
    "state_lengths = DP.get_state_length_list(DP.data)"
   ]
  },
  {
   "cell_type": "code",
   "execution_count": null,
   "metadata": {},
   "outputs": [],
   "source": [
    "state_lengths[:20]"
   ]
  },
  {
   "cell_type": "code",
   "execution_count": null,
   "metadata": {},
   "outputs": [],
   "source": [
    "state_freqs = Counter(state_lengths)"
   ]
  },
  {
   "cell_type": "code",
   "execution_count": null,
   "metadata": {},
   "outputs": [],
   "source": [
    "(pd\n",
    " .DataFrame(\n",
    "     state_freqs.most_common(), \n",
    "     columns=['length','frequency']\n",
    " )\n",
    " .set_index('length')\n",
    " .sort_index()\n",
    " .plot\n",
    " .bar()\n",
    ");"
   ]
  },
  {
   "cell_type": "code",
   "execution_count": null,
   "metadata": {},
   "outputs": [],
   "source": []
  },
  {
   "cell_type": "code",
   "execution_count": null,
   "metadata": {},
   "outputs": [],
   "source": []
  },
  {
   "cell_type": "markdown",
   "metadata": {},
   "source": [
    "### spb iter exploration"
   ]
  },
  {
   "cell_type": "code",
   "execution_count": 45,
   "metadata": {},
   "outputs": [
    {
     "name": "stdout",
     "output_type": "stream",
     "text": [
      "discretizing signal..\n",
      "\tstarting bit: 1, alt bit: 0\n",
      "\tcomplete, discretized signal: 702476 entries (20.07% of original)\n",
      "\tprocessing time: 1.5599 sec, hot damn.\n"
     ]
    },
    {
     "data": {
      "text/plain": [
       "None"
      ]
     },
     "metadata": {},
     "output_type": "display_data"
    },
    {
     "name": "stdout",
     "output_type": "stream",
     "text": [
      "discretizing signal..\n",
      "\tstarting bit: 1, alt bit: 0\n",
      "\tcomplete, discretized signal: 583337 entries (16.67% of original)\n",
      "\tprocessing time: 1.5809 sec, hot damn.\n"
     ]
    },
    {
     "data": {
      "text/plain": [
       "None"
      ]
     },
     "metadata": {},
     "output_type": "display_data"
    },
    {
     "name": "stdout",
     "output_type": "stream",
     "text": [
      "discretizing signal..\n",
      "\tstarting bit: 1, alt bit: 0\n",
      "\tcomplete, discretized signal: 495910 entries (14.17% of original)\n",
      "\tprocessing time: 1.5722 sec, hot damn.\n"
     ]
    },
    {
     "data": {
      "text/plain": [
       "None"
      ]
     },
     "metadata": {},
     "output_type": "display_data"
    },
    {
     "name": "stdout",
     "output_type": "stream",
     "text": [
      "discretizing signal..\n",
      "\tstarting bit: 1, alt bit: 0\n",
      "\tcomplete, discretized signal: 437503 entries (12.50% of original)\n",
      "\tprocessing time: 1.6850 sec, hot damn.\n"
     ]
    },
    {
     "data": {
      "text/plain": [
       "None"
      ]
     },
     "metadata": {},
     "output_type": "display_data"
    },
    {
     "name": "stdout",
     "output_type": "stream",
     "text": [
      "discretizing signal..\n",
      "\tstarting bit: 1, alt bit: 0\n",
      "\tcomplete, discretized signal: 390623 entries (11.16% of original)\n",
      "\tprocessing time: 1.5927 sec, hot damn.\n"
     ]
    },
    {
     "data": {
      "text/plain": [
       "None"
      ]
     },
     "metadata": {},
     "output_type": "display_data"
    },
    {
     "name": "stdout",
     "output_type": "stream",
     "text": [
      "discretizing signal..\n",
      "\tstarting bit: 1, alt bit: 0\n",
      "\tcomplete, discretized signal: 326538 entries (9.33% of original)\n",
      "\tprocessing time: 1.4699 sec, hot damn.\n"
     ]
    },
    {
     "data": {
      "text/plain": [
       "None"
      ]
     },
     "metadata": {},
     "output_type": "display_data"
    },
    {
     "name": "stdout",
     "output_type": "stream",
     "text": [
      "discretizing signal..\n",
      "\tstarting bit: 1, alt bit: 0\n",
      "\tcomplete, discretized signal: 297210 entries (8.49% of original)\n",
      "\tprocessing time: 1.4780 sec, hot damn.\n"
     ]
    },
    {
     "data": {
      "text/plain": [
       "None"
      ]
     },
     "metadata": {},
     "output_type": "display_data"
    },
    {
     "name": "stdout",
     "output_type": "stream",
     "text": [
      "discretizing signal..\n",
      "\tstarting bit: 1, alt bit: 0\n",
      "\tcomplete, discretized signal: 291668 entries (8.33% of original)\n",
      "\tprocessing time: 1.5762 sec, hot damn.\n"
     ]
    },
    {
     "data": {
      "text/plain": [
       "None"
      ]
     },
     "metadata": {},
     "output_type": "display_data"
    },
    {
     "data": {
      "image/png": "[encoded data removed]",
      "text/plain": [
       "<Figure size 1080x432 with 2 Axes>"
      ]
     },
     "metadata": {},
     "output_type": "display_data"
    },
    {
     "data": {
      "image/png": "[encoded data removed]",
      "text/plain": [
       "<Figure size 1080x432 with 2 Axes>"
      ]
     },
     "metadata": {},
     "output_type": "display_data"
    },
    {
     "data": {
      "image/png": "[encoded data removed]",
      "text/plain": [
       "<Figure size 1080x432 with 2 Axes>"
      ]
     },
     "metadata": {},
     "output_type": "display_data"
    },
    {
     "data": {
      "image/png": "[encoded data removed]",
      "text/plain": [
       "<Figure size 1080x432 with 2 Axes>"
      ]
     },
     "metadata": {},
     "output_type": "display_data"
    },
    {
     "data": {
      "image/png": "[encoded data removed]",
      "text/plain": [
       "<Figure size 1080x432 with 2 Axes>"
      ]
     },
     "metadata": {},
     "output_type": "display_data"
    },
    {
     "data": {
      "image/png": "[encoded data removed]",
      "text/plain": [
       "<Figure size 1080x432 with 2 Axes>"
      ]
     },
     "metadata": {},
     "output_type": "display_data"
    },
    {
     "data": {
      "image/png": "[encoded data removed]",
      "text/plain": [
       "<Figure size 1080x432 with 2 Axes>"
      ]
     },
     "metadata": {},
     "output_type": "display_data"
    },
    {
     "data": {
      "image/png": "[encoded data removed]",
      "text/plain": [
       "<Figure size 1080x432 with 2 Axes>"
      ]
     },
     "metadata": {},
     "output_type": "display_data"
    }
   ],
   "source": [
    "spb_list = [i for i in range(5, 13, 1)]\n",
    "\n",
    "for spb in spb_list:\n",
    "    DP.discretize_signal(spb)\n",
    "    display(compare_plots(0, 25, title=f'spb = {spb}'))"
   ]
  },
  {
   "cell_type": "code",
   "execution_count": null,
   "metadata": {},
   "outputs": [],
   "source": []
  },
  {
   "cell_type": "code",
   "execution_count": null,
   "metadata": {},
   "outputs": [],
   "source": []
  },
  {
   "cell_type": "code",
   "execution_count": null,
   "metadata": {},
   "outputs": [],
   "source": []
  },
  {
   "cell_type": "code",
   "execution_count": null,
   "metadata": {},
   "outputs": [],
   "source": []
  },
  {
   "cell_type": "code",
   "execution_count": null,
   "metadata": {},
   "outputs": [],
   "source": []
  },
  {
   "cell_type": "markdown",
   "metadata": {},
   "source": [
    "### viz"
   ]
  },
  {
   "cell_type": "code",
   "execution_count": null,
   "metadata": {},
   "outputs": [],
   "source": [
    "compare_plots(0, 50)"
   ]
  },
  {
   "cell_type": "code",
   "execution_count": null,
   "metadata": {},
   "outputs": [],
   "source": [
    "plot_subset(DP.data, 0, 200)"
   ]
  },
  {
   "cell_type": "code",
   "execution_count": null,
   "metadata": {},
   "outputs": [],
   "source": [
    "plot_subset(DP.discretized_array, 0, 20)"
   ]
  },
  {
   "cell_type": "code",
   "execution_count": null,
   "metadata": {},
   "outputs": [],
   "source": []
  },
  {
   "cell_type": "code",
   "execution_count": null,
   "metadata": {},
   "outputs": [],
   "source": []
  },
  {
   "cell_type": "markdown",
   "metadata": {},
   "source": [
    "### state length debug"
   ]
  },
  {
   "cell_type": "code",
   "execution_count": null,
   "metadata": {},
   "outputs": [],
   "source": []
  },
  {
   "cell_type": "code",
   "execution_count": null,
   "metadata": {},
   "outputs": [],
   "source": [
    "%%time\n",
    "groups = groupby(DP.data)\n",
    "\n",
    "state_lengths = [sum(1 for _ in group) for _, group in groups]"
   ]
  },
  {
   "cell_type": "code",
   "execution_count": null,
   "metadata": {},
   "outputs": [],
   "source": []
  },
  {
   "cell_type": "code",
   "execution_count": 40,
   "metadata": {},
   "outputs": [],
   "source": [
    "def get_correct_state_length_list(data):\n",
    "    groups = groupby(data)\n",
    "    return [sum(1 for _ in group) for _, group in groups]"
   ]
  },
  {
   "cell_type": "code",
   "execution_count": 41,
   "metadata": {},
   "outputs": [],
   "source": [
    "state_lengths = get_correct_state_length_list(DP.data)"
   ]
  },
  {
   "cell_type": "code",
   "execution_count": 42,
   "metadata": {},
   "outputs": [
    {
     "data": {
      "text/plain": [
       "[10, 14, 10, 14, 10, 14, 22, 26, 22, 26]"
      ]
     },
     "execution_count": 42,
     "metadata": {},
     "output_type": "execute_result"
    }
   ],
   "source": [
    "state_lengths[:10]"
   ]
  },
  {
   "cell_type": "code",
   "execution_count": null,
   "metadata": {},
   "outputs": [],
   "source": []
  },
  {
   "cell_type": "code",
   "execution_count": 43,
   "metadata": {},
   "outputs": [],
   "source": [
    "from collections import Counter\n",
    "state_freqs = Counter(state_lengths)"
   ]
  },
  {
   "cell_type": "code",
   "execution_count": 44,
   "metadata": {},
   "outputs": [
    {
     "data": {
      "text/plain": [
       "[(14, 39780),\n",
       " (10, 39722),\n",
       " (22, 19880),\n",
       " (26, 19877),\n",
       " (11, 14791),\n",
       " (13, 14733),\n",
       " (25, 7383),\n",
       " (23, 7380),\n",
       " (599, 1273),\n",
       " (49, 1190),\n",
       " (48, 173),\n",
       " (600, 90),\n",
       " (5, 1)]"
      ]
     },
     "execution_count": 44,
     "metadata": {},
     "output_type": "execute_result"
    }
   ],
   "source": [
    "state_freqs.most_common()"
   ]
  },
  {
   "cell_type": "code",
   "execution_count": null,
   "metadata": {},
   "outputs": [],
   "source": []
  },
  {
   "cell_type": "markdown",
   "metadata": {},
   "source": [
    "## message search"
   ]
  },
  {
   "cell_type": "code",
   "execution_count": null,
   "metadata": {},
   "outputs": [],
   "source": [
    "sample_rate = 200e3                         # samples / sec\n",
    "sample_spacing = 1 / sample_rate            # sec / sample\n",
    "scaler = 240e-6 / sample_spacing / DP.spb   # num samples"
   ]
  },
  {
   "cell_type": "code",
   "execution_count": null,
   "metadata": {},
   "outputs": [],
   "source": [
    "scaler = 1\n",
    "\n",
    "base = np.array([1 if i % 2 == 0 else 0 for i in range(20)])\n",
    "\n",
    "data_msg = np.concatenate((\n",
    "    np.repeat(base, scaler), \n",
    "    np.repeat(base, 2*scaler), \n",
    "    np.repeat(base, scaler), \n",
    "    np.repeat(base, 2*scaler)\n",
    "))\n",
    "\n",
    "print(data_msg.size)\n",
    "data_msg"
   ]
  },
  {
   "cell_type": "code",
   "execution_count": null,
   "metadata": {},
   "outputs": [],
   "source": [
    "data_msg[:20]"
   ]
  },
  {
   "cell_type": "code",
   "execution_count": null,
   "metadata": {},
   "outputs": [],
   "source": [
    "DP.search_sequence_numpy(\n",
    "    DP.discretized_array,\n",
    "    data_msg\n",
    ")"
   ]
  },
  {
   "cell_type": "code",
   "execution_count": null,
   "metadata": {},
   "outputs": [],
   "source": [
    "scaler_dict = {}\n",
    "\n",
    "for scaler in tnrange(1,50,1):\n",
    "    data_msg = np.concatenate((\n",
    "        np.repeat(base, scaler), \n",
    "        np.repeat(base, 2*scaler), \n",
    "        np.repeat(base, scaler), \n",
    "        np.repeat(base, 2*scaler)\n",
    "    ))\n",
    "    \n",
    "    scaler_dict[scaler] = DP.search_sequence_numpy(\n",
    "        DP.discretized_array,\n",
    "        data_msg\n",
    "    )"
   ]
  },
  {
   "cell_type": "code",
   "execution_count": null,
   "metadata": {},
   "outputs": [],
   "source": [
    "scaler_dict"
   ]
  },
  {
   "cell_type": "code",
   "execution_count": null,
   "metadata": {},
   "outputs": [],
   "source": [
    "[\n",
    "    (scaler, len(matches))\n",
    "    for scaler, matches in scaler_dict.items()\n",
    "]"
   ]
  },
  {
   "cell_type": "code",
   "execution_count": null,
   "metadata": {},
   "outputs": [],
   "source": []
  },
  {
   "cell_type": "code",
   "execution_count": null,
   "metadata": {},
   "outputs": [],
   "source": []
  },
  {
   "cell_type": "code",
   "execution_count": null,
   "metadata": {},
   "outputs": [],
   "source": []
  },
  {
   "cell_type": "markdown",
   "metadata": {},
   "source": [
    "## visualiziation "
   ]
  },
  {
   "cell_type": "code",
   "execution_count": 8,
   "metadata": {},
   "outputs": [],
   "source": [
    "# seaborn with custom background\n",
    "import matplotlib.pyplot as plt\n",
    "%matplotlib inline\n",
    "import seaborn as sns\n",
    "sns.set(style='darkgrid',rc={'figure.facecolor':'#abb2bf'})"
   ]
  },
  {
   "cell_type": "markdown",
   "metadata": {},
   "source": [
    "### plot subset"
   ]
  },
  {
   "cell_type": "code",
   "execution_count": 6,
   "metadata": {},
   "outputs": [],
   "source": [
    "def plot_subset(data, start, stop):\n",
    "    plt.figure(figsize=(20, 6))\n",
    "    \n",
    "    plt.stem(data[start:stop])"
   ]
  },
  {
   "cell_type": "markdown",
   "metadata": {},
   "source": [
    "### discretized vs real"
   ]
  },
  {
   "cell_type": "code",
   "execution_count": 18,
   "metadata": {},
   "outputs": [],
   "source": [
    "def compare_plots(start, stop, title):\n",
    "    fig, ((ax1, ax2)) = plt.subplots(2, 1, sharex=False, sharey=True, figsize=(15,6))\n",
    "    \n",
    "    ax1.stem(DP.data[start*DP.spb:stop*DP.spb])\n",
    "    ax2.stem(DP.discretized_array[start:stop]) \n",
    "    \n",
    "    ax1.set_title(title)\n",
    "    "
   ]
  },
  {
   "cell_type": "code",
   "execution_count": 17,
   "metadata": {},
   "outputs": [
    {
     "data": {
      "image/png": "[encoded data removed]",
      "text/plain": [
       "<Figure size 1080x432 with 2 Axes>"
      ]
     },
     "metadata": {},
     "output_type": "display_data"
    }
   ],
   "source": [
    "compare_plots(0, 25)"
   ]
  },
  {
   "cell_type": "code",
   "execution_count": null,
   "metadata": {},
   "outputs": [],
   "source": [
    "compare_plots(150, 200)"
   ]
  },
  {
   "cell_type": "code",
   "execution_count": null,
   "metadata": {},
   "outputs": [],
   "source": []
  },
  {
   "cell_type": "code",
   "execution_count": null,
   "metadata": {},
   "outputs": [],
   "source": []
  },
  {
   "cell_type": "code",
   "execution_count": null,
   "metadata": {},
   "outputs": [],
   "source": []
  },
  {
   "cell_type": "code",
   "execution_count": null,
   "metadata": {},
   "outputs": [],
   "source": [
    "start = 1000\n",
    "stop = 1100"
   ]
  },
  {
   "cell_type": "code",
   "execution_count": null,
   "metadata": {},
   "outputs": [],
   "source": [
    "plt.figure(figsize=(25,6))\n",
    "plt.stem(DP.raw_data[start*DP.spb:stop*DP.spb])"
   ]
  },
  {
   "cell_type": "code",
   "execution_count": null,
   "metadata": {},
   "outputs": [],
   "source": []
  },
  {
   "cell_type": "code",
   "execution_count": null,
   "metadata": {},
   "outputs": [],
   "source": [
    "plt.figure(figsize=(20,6))\n",
    "plt.stem(DP.discretized_array[start:stop])"
   ]
  },
  {
   "cell_type": "code",
   "execution_count": null,
   "metadata": {},
   "outputs": [],
   "source": []
  },
  {
   "cell_type": "code",
   "execution_count": null,
   "metadata": {},
   "outputs": [],
   "source": []
  },
  {
   "cell_type": "code",
   "execution_count": null,
   "metadata": {},
   "outputs": [],
   "source": []
  },
  {
   "cell_type": "code",
   "execution_count": null,
   "metadata": {},
   "outputs": [],
   "source": []
  },
  {
   "cell_type": "code",
   "execution_count": null,
   "metadata": {},
   "outputs": [],
   "source": []
  },
  {
   "cell_type": "code",
   "execution_count": null,
   "metadata": {},
   "outputs": [],
   "source": []
  },
  {
   "cell_type": "markdown",
   "metadata": {},
   "source": [
    "### spb brute force attempt"
   ]
  },
  {
   "cell_type": "code",
   "execution_count": null,
   "metadata": {},
   "outputs": [],
   "source": [
    "from collections import Counter"
   ]
  },
  {
   "cell_type": "code",
   "execution_count": null,
   "metadata": {},
   "outputs": [],
   "source": [
    "spb_list = [i for i in range(1, 50, 1)]\n",
    "print(f'spb_list: {len(spb_list)} elements')"
   ]
  },
  {
   "cell_type": "code",
   "execution_count": null,
   "metadata": {},
   "outputs": [],
   "source": [
    "result_dict = {}\n",
    "\n",
    "for spb in tqdm_notebook(spb_list):\n",
    "    DP.discretize_signal(spb)    \n",
    "    \n",
    "    result_dict[spb] = DP.search_sequence_numpy(\n",
    "        DP.discretized_array, \n",
    "        DP.header\n",
    "    )"
   ]
  },
  {
   "cell_type": "code",
   "execution_count": null,
   "metadata": {},
   "outputs": [],
   "source": [
    "frequencies = {\n",
    "    spb: Counter(np.diff(matches)).most_common(3)\n",
    "    for spb, matches in result_dict.items()\n",
    "}\n",
    "\n",
    "frequencies"
   ]
  },
  {
   "cell_type": "code",
   "execution_count": null,
   "metadata": {},
   "outputs": [],
   "source": []
  },
  {
   "cell_type": "code",
   "execution_count": null,
   "metadata": {},
   "outputs": [],
   "source": []
  }
 ],
 "metadata": {
  "kernelspec": {
   "display_name": "Python 3",
   "language": "python",
   "name": "python3"
  },
  "language_info": {
   "codemirror_mode": {
    "name": "ipython",
    "version": 3
   },
   "file_extension": ".py",
   "mimetype": "text/x-python",
   "name": "python",
   "nbconvert_exporter": "python",
   "pygments_lexer": "ipython3",
   "version": "3.6.7"
  }
 },
 "nbformat": 4,
 "nbformat_minor": 2
}
