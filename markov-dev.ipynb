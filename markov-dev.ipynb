{
 "cells": [
  {
   "cell_type": "markdown",
   "metadata": {},
   "source": [
    "# zerina project"
   ]
  },
  {
   "cell_type": "markdown",
   "metadata": {},
   "source": [
    "## setup"
   ]
  },
  {
   "cell_type": "code",
   "execution_count": 4,
   "metadata": {},
   "outputs": [],
   "source": [
    "import pandas as pd\n",
    "import numpy as np\n",
    "import scipy\n",
    "from tqdm import tqdm_notebook, tnrange\n",
    "\n",
    "from sklearn.pipeline import make_pipeline\n",
    "from sklearn.model_selection import train_test_split\n",
    "\n",
    "from sklearn.preprocessing import StandardScaler\n",
    "from sklearn.preprocessing import MinMaxScaler\n",
    "\n",
    "from keras.models import Sequential\n",
    "from keras.layers import Dense\n",
    "from keras.layers import LSTM"
   ]
  },
  {
   "cell_type": "code",
   "execution_count": null,
   "metadata": {},
   "outputs": [],
   "source": []
  },
  {
   "cell_type": "markdown",
   "metadata": {},
   "source": [
    "## data processing"
   ]
  },
  {
   "cell_type": "markdown",
   "metadata": {},
   "source": [
    "### transition matrices"
   ]
  },
  {
   "cell_type": "code",
   "execution_count": 231,
   "metadata": {},
   "outputs": [
    {
     "data": {
      "text/html": [
       "<div>\n",
       "<style scoped>\n",
       "    .dataframe tbody tr th:only-of-type {\n",
       "        vertical-align: middle;\n",
       "    }\n",
       "\n",
       "    .dataframe tbody tr th {\n",
       "        vertical-align: top;\n",
       "    }\n",
       "\n",
       "    .dataframe thead th {\n",
       "        text-align: right;\n",
       "    }\n",
       "</style>\n",
       "<table border=\"1\" class=\"dataframe\">\n",
       "  <thead>\n",
       "    <tr style=\"text-align: right;\">\n",
       "      <th></th>\n",
       "      <th>OnOn</th>\n",
       "      <th>OnOff</th>\n",
       "      <th>OffOff</th>\n",
       "      <th>OffOn</th>\n",
       "      <th>timestep</th>\n",
       "    </tr>\n",
       "  </thead>\n",
       "  <tbody>\n",
       "    <tr>\n",
       "      <th>0</th>\n",
       "      <td>0.99546</td>\n",
       "      <td>0.004543</td>\n",
       "      <td>0.002411</td>\n",
       "      <td>0.99759</td>\n",
       "      <td>1</td>\n",
       "    </tr>\n",
       "    <tr>\n",
       "      <th>1</th>\n",
       "      <td>0.95586</td>\n",
       "      <td>0.044138</td>\n",
       "      <td>0.025682</td>\n",
       "      <td>0.97432</td>\n",
       "      <td>11</td>\n",
       "    </tr>\n",
       "    <tr>\n",
       "      <th>2</th>\n",
       "      <td>0.93161</td>\n",
       "      <td>0.068395</td>\n",
       "      <td>0.043521</td>\n",
       "      <td>0.95648</td>\n",
       "      <td>21</td>\n",
       "    </tr>\n",
       "    <tr>\n",
       "      <th>3</th>\n",
       "      <td>0.90886</td>\n",
       "      <td>0.091141</td>\n",
       "      <td>0.062781</td>\n",
       "      <td>0.93722</td>\n",
       "      <td>31</td>\n",
       "    </tr>\n",
       "    <tr>\n",
       "      <th>4</th>\n",
       "      <td>0.91697</td>\n",
       "      <td>0.083027</td>\n",
       "      <td>0.059557</td>\n",
       "      <td>0.94044</td>\n",
       "      <td>41</td>\n",
       "    </tr>\n",
       "  </tbody>\n",
       "</table>\n",
       "</div>"
      ],
      "text/plain": [
       "      OnOn     OnOff    OffOff    OffOn  timestep\n",
       "0  0.99546  0.004543  0.002411  0.99759         1\n",
       "1  0.95586  0.044138  0.025682  0.97432        11\n",
       "2  0.93161  0.068395  0.043521  0.95648        21\n",
       "3  0.90886  0.091141  0.062781  0.93722        31\n",
       "4  0.91697  0.083027  0.059557  0.94044        41"
      ]
     },
     "execution_count": 231,
     "metadata": {},
     "output_type": "execute_result"
    }
   ],
   "source": [
    "tmat_file = 'data/wifi_t_matrices.csv'\n",
    "\n",
    "tmat_df = (\n",
    "    pd\n",
    "    .read_csv(\n",
    "        tmat_file, \n",
    "        names=['OnOn','OnOff','OffOn','OffOff','timestep']\n",
    "    )\n",
    "    #.eval('OffOff = 1 - OffOff')\n",
    "    #.eval('OffOn = 1 - OffOn')\n",
    "    [['OnOn', 'OnOff', 'OffOff', 'OffOn', 'timestep']]\n",
    ")\n",
    "\n",
    "tmat_df.head()"
   ]
  },
  {
   "cell_type": "markdown",
   "metadata": {},
   "source": [
    "### read csv and preprocess"
   ]
  },
  {
   "cell_type": "code",
   "execution_count": 236,
   "metadata": {},
   "outputs": [
    {
     "data": {
      "text/html": [
       "<div>\n",
       "<style scoped>\n",
       "    .dataframe tbody tr th:only-of-type {\n",
       "        vertical-align: middle;\n",
       "    }\n",
       "\n",
       "    .dataframe tbody tr th {\n",
       "        vertical-align: top;\n",
       "    }\n",
       "\n",
       "    .dataframe thead th {\n",
       "        text-align: right;\n",
       "    }\n",
       "</style>\n",
       "<table border=\"1\" class=\"dataframe\">\n",
       "  <thead>\n",
       "    <tr style=\"text-align: right;\">\n",
       "      <th></th>\n",
       "      <th>time</th>\n",
       "      <th>length</th>\n",
       "      <th>rate</th>\n",
       "      <th>on_time</th>\n",
       "      <th>end_time</th>\n",
       "      <th>off_time</th>\n",
       "    </tr>\n",
       "  </thead>\n",
       "  <tbody>\n",
       "    <tr>\n",
       "      <th>0</th>\n",
       "      <td>0.0</td>\n",
       "      <td>1352</td>\n",
       "      <td>6000000.0</td>\n",
       "      <td>225.0</td>\n",
       "      <td>225.0</td>\n",
       "      <td>0.0</td>\n",
       "    </tr>\n",
       "    <tr>\n",
       "      <th>1</th>\n",
       "      <td>36341.0</td>\n",
       "      <td>312</td>\n",
       "      <td>24000000.0</td>\n",
       "      <td>13.0</td>\n",
       "      <td>36354.0</td>\n",
       "      <td>36116.0</td>\n",
       "    </tr>\n",
       "    <tr>\n",
       "      <th>2</th>\n",
       "      <td>39469.0</td>\n",
       "      <td>312</td>\n",
       "      <td>24000000.0</td>\n",
       "      <td>13.0</td>\n",
       "      <td>39482.0</td>\n",
       "      <td>3115.0</td>\n",
       "    </tr>\n",
       "    <tr>\n",
       "      <th>3</th>\n",
       "      <td>49356.0</td>\n",
       "      <td>2288</td>\n",
       "      <td>1000000.0</td>\n",
       "      <td>2288.0</td>\n",
       "      <td>51644.0</td>\n",
       "      <td>9874.0</td>\n",
       "    </tr>\n",
       "    <tr>\n",
       "      <th>4</th>\n",
       "      <td>50556.0</td>\n",
       "      <td>1008</td>\n",
       "      <td>1000000.0</td>\n",
       "      <td>1008.0</td>\n",
       "      <td>51564.0</td>\n",
       "      <td>0.0</td>\n",
       "    </tr>\n",
       "    <tr>\n",
       "      <th>5</th>\n",
       "      <td>64737.0</td>\n",
       "      <td>6584</td>\n",
       "      <td>6000000.0</td>\n",
       "      <td>1097.0</td>\n",
       "      <td>65834.0</td>\n",
       "      <td>13173.0</td>\n",
       "    </tr>\n",
       "    <tr>\n",
       "      <th>6</th>\n",
       "      <td>82497.0</td>\n",
       "      <td>312</td>\n",
       "      <td>24000000.0</td>\n",
       "      <td>13.0</td>\n",
       "      <td>82510.0</td>\n",
       "      <td>16663.0</td>\n",
       "    </tr>\n",
       "    <tr>\n",
       "      <th>7</th>\n",
       "      <td>85683.0</td>\n",
       "      <td>312</td>\n",
       "      <td>24000000.0</td>\n",
       "      <td>13.0</td>\n",
       "      <td>85696.0</td>\n",
       "      <td>3173.0</td>\n",
       "    </tr>\n",
       "    <tr>\n",
       "      <th>8</th>\n",
       "      <td>101354.0</td>\n",
       "      <td>312</td>\n",
       "      <td>6000000.0</td>\n",
       "      <td>52.0</td>\n",
       "      <td>101406.0</td>\n",
       "      <td>15658.0</td>\n",
       "    </tr>\n",
       "    <tr>\n",
       "      <th>9</th>\n",
       "      <td>103643.0</td>\n",
       "      <td>456</td>\n",
       "      <td>12000000.0</td>\n",
       "      <td>38.0</td>\n",
       "      <td>103681.0</td>\n",
       "      <td>2237.0</td>\n",
       "    </tr>\n",
       "  </tbody>\n",
       "</table>\n",
       "</div>"
      ],
      "text/plain": [
       "       time  length        rate  on_time  end_time  off_time\n",
       "0       0.0    1352   6000000.0    225.0     225.0       0.0\n",
       "1   36341.0     312  24000000.0     13.0   36354.0   36116.0\n",
       "2   39469.0     312  24000000.0     13.0   39482.0    3115.0\n",
       "3   49356.0    2288   1000000.0   2288.0   51644.0    9874.0\n",
       "4   50556.0    1008   1000000.0   1008.0   51564.0       0.0\n",
       "5   64737.0    6584   6000000.0   1097.0   65834.0   13173.0\n",
       "6   82497.0     312  24000000.0     13.0   82510.0   16663.0\n",
       "7   85683.0     312  24000000.0     13.0   85696.0    3173.0\n",
       "8  101354.0     312   6000000.0     52.0  101406.0   15658.0\n",
       "9  103643.0     456  12000000.0     38.0  103681.0    2237.0"
      ]
     },
     "execution_count": 236,
     "metadata": {},
     "output_type": "execute_result"
    }
   ],
   "source": [
    "tar_file = r'data/wifitrafficstats2.csv'\n",
    "#tar_file = r'data/wifitrafficstats3.csv'\n",
    "#tar_file = r'data/wifitrafficstats4.csv'\n",
    "#tar_file = r'data/wifitrafficstats5.csv'\n",
    "#tar_file = r'data/wifitrafficstats6.csv'\n",
    "\n",
    "df = (\n",
    "    pd\n",
    "    .read_csv(tar_file)\n",
    "    .rename({ \n",
    "        'Time':'time', \n",
    "        'Length':'length', \n",
    "        'TX Rate':'rate'\n",
    "    }, axis=1)\n",
    "    .eval('time = time * 1e6')\n",
    "    .eval('rate = rate * 1e6')\n",
    "    .eval('length = length * 8')\n",
    "    .eval('on_time = 1e6 * length / rate')\n",
    "    .eval('end_time = time + on_time')\n",
    "    .assign(\n",
    "        shift_time = lambda x: x.end_time.shift(1),\n",
    "        off_time = lambda x: [\n",
    "            (time - shift_time) \n",
    "                if (time - shift_time) > 0 else 0 \n",
    "            for time, shift_time in (zip(x.time, x.shift_time))\n",
    "    ])\n",
    "    .drop(['No.','Delta Time','shift_time'], axis=1)\n",
    "    .round(0)\n",
    ")\n",
    "\n",
    "\n",
    "\n",
    "df.head(10)"
   ]
  },
  {
   "cell_type": "markdown",
   "metadata": {},
   "source": [
    "### generate data list of `1`'s and `0`'s"
   ]
  },
  {
   "cell_type": "code",
   "execution_count": 237,
   "metadata": {},
   "outputs": [],
   "source": [
    "def generate_data_list(df):\n",
    "    '''\n",
    "    takes dataframe with 'on_time' and 'off_time' time stamp columns \n",
    "    and returns a numpy array of 1's (on_time) and 0's (off_time)\n",
    "    '''\n",
    "    \n",
    "    data_list = []\n",
    "\n",
    "    for row in tqdm_notebook(df[['on_time','off_time']].iloc[1:].itertuples(), total=df.shape[0]-1):\n",
    "        data_list.extend([1 for i in range(int(row.on_time))])\n",
    "        data_list.extend([0 for i in range(int(row.off_time))])\n",
    "    \n",
    "    return np.array(data_list, copy=True)"
   ]
  },
  {
   "cell_type": "code",
   "execution_count": null,
   "metadata": {},
   "outputs": [],
   "source": []
  },
  {
   "cell_type": "markdown",
   "metadata": {},
   "source": [
    "## compute statistics "
   ]
  },
  {
   "cell_type": "markdown",
   "metadata": {},
   "source": [
    "### fast get all state lengths"
   ]
  },
  {
   "cell_type": "code",
   "execution_count": 13,
   "metadata": {},
   "outputs": [],
   "source": [
    "def get_state_length_list(data):\n",
    "    '''\n",
    "    takes data list ([1,1,0,1,0,0,...]) and returns numpy array \n",
    "    of duration of consecutive bits ([13,245,2588,19,1056,...])\n",
    "    '''\n",
    "    \n",
    "    data = np.array(data)    \n",
    "    \n",
    "    return np.diff(\n",
    "        np.where(\n",
    "            np.concatenate(\n",
    "                ([data[0]],\n",
    "                 data[:-1] != data[1:],\n",
    "                 [0]\n",
    "                )\n",
    "            )\n",
    "        )[0]\n",
    "    )[::2]"
   ]
  },
  {
   "cell_type": "code",
   "execution_count": null,
   "metadata": {},
   "outputs": [],
   "source": []
  },
  {
   "cell_type": "markdown",
   "metadata": {},
   "source": [
    "## data simulator"
   ]
  },
  {
   "cell_type": "code",
   "execution_count": 39,
   "metadata": {},
   "outputs": [],
   "source": [
    "from itertools import cycle"
   ]
  },
  {
   "cell_type": "code",
   "execution_count": null,
   "metadata": {},
   "outputs": [],
   "source": [
    "tmat_df.head(10)"
   ]
  },
  {
   "cell_type": "markdown",
   "metadata": {},
   "source": [
    "### setup"
   ]
  },
  {
   "cell_type": "code",
   "execution_count": 109,
   "metadata": {},
   "outputs": [],
   "source": [
    "state_cycler = cycle(transition_matrix)\n",
    "    \n",
    "cycle_dict = {\n",
    "    (1,1,1): 0,\n",
    "    (1,1,0): 1,\n",
    "    (1,0,1): 2,\n",
    "    (1,0,0): 1,\n",
    "    (0,1,1): 1,\n",
    "    (0,1,0): 2,\n",
    "    (0,0,1): 1,\n",
    "    (0,0,0): 0,\n",
    "}\n",
    "\n",
    "global p\n",
    "p = 1\n",
    "\n",
    "def cycle_states():\n",
    "    return next(state_cycler)\n",
    "\n",
    "def generate_bit(n):\n",
    "    global p\n",
    "    \n",
    "    if n == 0:\n",
    "        print(p)\n",
    "        return np.random.binomial(1, p)\n",
    "        \n",
    "    else:\n",
    "        for i in range(n):\n",
    "            p = cycle_states()\n",
    "        \n",
    "        print(p)\n",
    "        return np.random.binomial(1, p)"
   ]
  },
  {
   "cell_type": "code",
   "execution_count": 137,
   "metadata": {},
   "outputs": [
    {
     "name": "stdout",
     "output_type": "stream",
     "text": [
      "0.99546\n"
     ]
    },
    {
     "data": {
      "text/plain": [
       "1"
      ]
     },
     "execution_count": 137,
     "metadata": {},
     "output_type": "execute_result"
    }
   ],
   "source": [
    "generate_bit(0)"
   ]
  },
  {
   "cell_type": "code",
   "execution_count": 127,
   "metadata": {},
   "outputs": [
    {
     "data": {
      "text/plain": [
       "array([0.99546  , 0.0045434, 0.0024107, 0.99759  ])"
      ]
     },
     "execution_count": 127,
     "metadata": {},
     "output_type": "execute_result"
    }
   ],
   "source": [
    "transition_matrix"
   ]
  },
  {
   "cell_type": "code",
   "execution_count": null,
   "metadata": {},
   "outputs": [],
   "source": []
  },
  {
   "cell_type": "code",
   "execution_count": 304,
   "metadata": {},
   "outputs": [],
   "source": [
    "def generate_sim_data(n_samples, m_trials, transition_matrix):\n",
    "    '''\n",
    "    takes a transition matrix and generates a simulated signal\n",
    "    of size <length>\n",
    "    '''\n",
    "        \n",
    "    cycle_dict = {\n",
    "        (1,1,1): 0,\n",
    "        (1,1,0): 1,\n",
    "        (1,0,1): 2,\n",
    "        (1,0,0): 1,\n",
    "        (0,1,1): 1,\n",
    "        (0,1,0): 2,\n",
    "        (0,0,1): 1,\n",
    "        (0,0,0): 0,\n",
    "    }\n",
    "    \n",
    "    global p\n",
    "    p = 0.5\n",
    "    sim_matrix = np.zeros((m_trials, n_samples))\n",
    "    \n",
    "    state_cycler = cycle(transition_matrix)\n",
    "    \n",
    "    def cycle_states():\n",
    "        return next(state_cycler)\n",
    "    \n",
    "    def generate_bit(n):\n",
    "        global p\n",
    "        \n",
    "        if n == 0:\n",
    "            return np.random.binomial(1, p)\n",
    "            \n",
    "        else:\n",
    "            for i in range(n):\n",
    "                p = cycle_states()\n",
    "\n",
    "            return np.random.binomial(1, p)\n",
    "        \n",
    "    for i in tnrange(m_trials, leave=False):\n",
    "        sim_data = [1,1,1]\n",
    "        p = 0.5\n",
    "        \n",
    "        for _ in range(n_samples + 1):        \n",
    "            new_bit = generate_bit(cycle_dict[tuple(sim_data[-3:])])        \n",
    "            sim_data.append(new_bit)\n",
    "            \n",
    "        sim_matrix[i,:] = np.array(sim_data[4:])\n",
    "    \n",
    "    return sim_matrix\n",
    "    "
   ]
  },
  {
   "cell_type": "markdown",
   "metadata": {},
   "source": [
    "### execution"
   ]
  },
  {
   "cell_type": "code",
   "execution_count": 269,
   "metadata": {},
   "outputs": [
    {
     "name": "stdout",
     "output_type": "stream",
     "text": [
      "transition probabilities: [0.91189  0.088106 0.11047  0.88953 ]\n"
     ]
    }
   ],
   "source": [
    "sample_size = int(10e6)\n",
    "trial_size = 10\n",
    "transition_matrix = tmat_df.iloc[15,:4].values\n",
    "print(f'transition probabilities: {transition_matrix}')"
   ]
  },
  {
   "cell_type": "code",
   "execution_count": 270,
   "metadata": {},
   "outputs": [
    {
     "data": {
      "application/vnd.jupyter.widget-view+json": {
       "model_id": "c4a83864db534df689bdebba7b81bb57",
       "version_major": 2,
       "version_minor": 0
      },
      "text/plain": [
       "HBox(children=(IntProgress(value=0), HTML(value='')))"
      ]
     },
     "metadata": {},
     "output_type": "display_data"
    },
    {
     "name": "stdout",
     "output_type": "stream",
     "text": [
      "CPU times: user 26.6 s, sys: 491 ms, total: 27.1 s\n",
      "Wall time: 26.9 s\n"
     ]
    }
   ],
   "source": [
    "%time sim_matrix = generate_sim_data(sample_size, trial_size, transition_matrix)"
   ]
  },
  {
   "cell_type": "code",
   "execution_count": null,
   "metadata": {},
   "outputs": [],
   "source": []
  },
  {
   "cell_type": "markdown",
   "metadata": {},
   "source": [
    "## main loop"
   ]
  },
  {
   "cell_type": "code",
   "execution_count": null,
   "metadata": {},
   "outputs": [
    {
     "data": {
      "application/vnd.jupyter.widget-view+json": {
       "model_id": "e8bde1dcbea24191b87cc343e941bc00",
       "version_major": 2,
       "version_minor": 0
      },
      "text/plain": [
       "HBox(children=(IntProgress(value=0), HTML(value='')))"
      ]
     },
     "metadata": {},
     "output_type": "display_data"
    },
    {
     "data": {
      "application/vnd.jupyter.widget-view+json": {
       "model_id": "b827c5ed36c24b8fa4078bcdedae01d1",
       "version_major": 2,
       "version_minor": 0
      },
      "text/plain": [
       "HBox(children=(IntProgress(value=0, max=10), HTML(value='')))"
      ]
     },
     "metadata": {},
     "output_type": "display_data"
    }
   ],
   "source": [
    "%%time\n",
    "\n",
    "master_dictionary = {}\n",
    "sample_size = int(10e6)\n",
    "trial_size = 10\n",
    "\n",
    "for row in tqdm_notebook(tmat_df.itertuples(), total=tmat_df.shape[0]):\n",
    "    transition_matrix = [row.OnOn, row.OnOff, row.OffOff, row.OffOn]\n",
    "    sim_matrix = generate_sim_data(sample_size, trial_size, transition_matrix)    \n",
    "    \n",
    "    master_dictionary[row.timestep] = compute_stats(sim_matrix)"
   ]
  },
  {
   "cell_type": "code",
   "execution_count": null,
   "metadata": {},
   "outputs": [],
   "source": []
  },
  {
   "cell_type": "code",
   "execution_count": null,
   "metadata": {},
   "outputs": [],
   "source": []
  },
  {
   "cell_type": "code",
   "execution_count": null,
   "metadata": {},
   "outputs": [],
   "source": []
  },
  {
   "cell_type": "markdown",
   "metadata": {},
   "source": [
    "### stats"
   ]
  },
  {
   "cell_type": "code",
   "execution_count": 257,
   "metadata": {},
   "outputs": [],
   "source": [
    "from collections import Counter"
   ]
  },
  {
   "cell_type": "code",
   "execution_count": 286,
   "metadata": {},
   "outputs": [],
   "source": [
    "def compute_stats(sim_matrix):\n",
    "    sample_size = sim_matrix.shape[0]\n",
    "    stats = sim_matrix.sum(axis=1)\n",
    "                    \n",
    "    state_lengths = [\n",
    "        item for sublist in\n",
    "        [\n",
    "            list(get_state_length_list(sim_matrix[i,:]))\n",
    "            for i in range(sim_matrix.shape[0])\n",
    "        ]\n",
    "        for item in sublist\n",
    "    ]\n",
    "    \n",
    "    return {\n",
    "        'mean':np.mean(stats) / sample_size,\n",
    "        'std':np.std(stats) / sample_size,\n",
    "        'state_lengths':state_lengths\n",
    "    }    "
   ]
  },
  {
   "cell_type": "code",
   "execution_count": 288,
   "metadata": {},
   "outputs": [],
   "source": [
    "compute_stats(sim_matrix)"
   ]
  },
  {
   "cell_type": "code",
   "execution_count": 282,
   "metadata": {},
   "outputs": [
    {
     "name": "stdout",
     "output_type": "stream",
     "text": [
      "normalized mean: 0.5128\n",
      "standard deviation: 0.0219\n",
      "unique state lengths:\n",
      "[1, 2, 3, 4, 5, 6, 7, 8, 9, 10, 11, 12, 13, 14, 15, 16, 17, 18, 19, 20, 21, 22, 23, 24, 25, 26, 27, 28, 29, 30, 31, 32, 33, 34, 35, 36, 37, 38, 39, 40, 41, 42, 43, 44, 45, 46, 47, 48, 49, 50, 51, 52, 53, 54, 55, 56, 57, 58, 59, 60, 61, 62, 63, 64, 65, 66, 67, 68, 69, 70, 71, 72, 73, 74, 75, 76, 77, 78, 79, 80, 81, 82, 83, 84, 85, 86, 87, 88, 89, 90, 91, 92, 93, 94, 95, 96, 97, 98, 99, 100, 101, 103, 105, 107, 110, 112, 115, 116, 122, 124, 128]\n",
      "\n",
      "state length frequency:\n",
      "dict_items([(1, 1544700), (2, 513080), (3, 63660), (4, 20857), (5, 15120), (6, 13649), (7, 12184), (8, 10790), (9, 9976), (10, 9099), (11, 8127), (12, 7399), (13, 6706), (14, 5958), (15, 5374), (16, 4958), (17, 4456), (18, 3991), (19, 3654), (20, 3341), (21, 2955), (22, 2746), (23, 2416), (24, 2326), (25, 1979), (26, 1781), (27, 1692), (28, 1539), (29, 1300), (30, 1113), (31, 1164), (32, 1042), (33, 923), (34, 846), (35, 728), (36, 647), (37, 590), (38, 565), (39, 519), (40, 458), (41, 420), (42, 382), (43, 354), (44, 275), (45, 288), (46, 290), (47, 232), (48, 230), (49, 195), (50, 155), (51, 165), (52, 149), (53, 138), (54, 118), (55, 114), (56, 104), (57, 95), (58, 77), (59, 54), (60, 58), (61, 50), (62, 53), (63, 53), (64, 52), (65, 38), (66, 43), (67, 21), (68, 32), (69, 24), (70, 14), (71, 27), (72, 25), (73, 16), (74, 16), (75, 14), (76, 12), (77, 16), (78, 21), (79, 10), (80, 14), (81, 10), (82, 4), (83, 8), (84, 4), (85, 4), (86, 4), (87, 6), (88, 9), (89, 6), (90, 5), (91, 4), (92, 1), (93, 2), (94, 6), (95, 3), (96, 3), (97, 5), (98, 4), (99, 2), (100, 2), (101, 1), (103, 2), (105, 1), (107, 2), (110, 1), (112, 1), (115, 1), (116, 1), (122, 1), (124, 1), (128, 1)])\n"
     ]
    }
   ],
   "source": [
    "#stats = sim_matrix[0,:].sum()\n",
    "stats = sim_matrix.sum(axis=1)\n",
    "\n",
    "print(f'normalized mean: {np.mean(stats) / sample_size:0.4f}')\n",
    "print(f'standard deviation: {np.std(stats / sample_size):0.4f}')\n",
    "\n",
    "state_lengths = [\n",
    "    item for sublist in\n",
    "    [\n",
    "        list(get_state_length_list(sim_matrix[i,:]))\n",
    "        for i in range(sim_matrix.shape[0])\n",
    "    ]\n",
    "    for item in sublist\n",
    "]\n",
    "print(f'unique state lengths:\\n{list(set(state_lengths))}')\n",
    "\n",
    "sl_counts = Counter(sorted(state_lengths))\n",
    "print(f'\\nstate length frequency:\\n{sl_counts.items()}')"
   ]
  },
  {
   "cell_type": "code",
   "execution_count": null,
   "metadata": {},
   "outputs": [],
   "source": []
  },
  {
   "cell_type": "code",
   "execution_count": null,
   "metadata": {},
   "outputs": [],
   "source": []
  },
  {
   "cell_type": "code",
   "execution_count": null,
   "metadata": {},
   "outputs": [],
   "source": []
  },
  {
   "cell_type": "code",
   "execution_count": null,
   "metadata": {},
   "outputs": [],
   "source": []
  },
  {
   "cell_type": "code",
   "execution_count": null,
   "metadata": {},
   "outputs": [],
   "source": []
  },
  {
   "cell_type": "code",
   "execution_count": null,
   "metadata": {},
   "outputs": [],
   "source": []
  },
  {
   "cell_type": "code",
   "execution_count": null,
   "metadata": {},
   "outputs": [],
   "source": []
  },
  {
   "cell_type": "code",
   "execution_count": null,
   "metadata": {},
   "outputs": [],
   "source": []
  },
  {
   "cell_type": "code",
   "execution_count": null,
   "metadata": {},
   "outputs": [],
   "source": []
  },
  {
   "cell_type": "markdown",
   "metadata": {},
   "source": [
    "## real data ref"
   ]
  },
  {
   "cell_type": "code",
   "execution_count": 238,
   "metadata": {},
   "outputs": [
    {
     "data": {
      "application/vnd.jupyter.widget-view+json": {
       "model_id": "cd714183731e4c5da6c16fc48dde5d58",
       "version_major": 2,
       "version_minor": 0
      },
      "text/plain": [
       "HBox(children=(IntProgress(value=0, max=5310), HTML(value='')))"
      ]
     },
     "metadata": {},
     "output_type": "display_data"
    }
   ],
   "source": [
    "data_list = generate_data_list(df)"
   ]
  },
  {
   "cell_type": "code",
   "execution_count": 242,
   "metadata": {},
   "outputs": [
    {
     "name": "stdout",
     "output_type": "stream",
     "text": [
      "unique state lengths:\n",
      "[3584, 3073, 1027, 4, 5, 7, 8, 9, 10, 11, 12, 13, 14, 15, 16, 17, 18, 19, 20, 21, 22, 23, 1046, 25, 26, 27, 28, 29, 30, 31, 32, 33, 34, 35, 36, 3104, 38, 39, 40, 1063, 42, 3113, 2600, 45, 46, 3625, 2608, 47, 1067, 48, 52, 53, 51, 1591, 563, 2105, 57, 59, 60, 1084, 63, 64, 2112, 65, 67, 70, 583, 71, 1097, 2118, 76, 1101, 78, 77, 82, 86, 87, 1110, 1113, 1114, 91, 90, 602, 1035, 1112, 101, 104, 4200, 106, 108, 621, 110, 1135, 624, 1648, 111, 1145, 24, 123, 1149, 128, 3200, 133, 1160, 649, 537, 1680, 148, 149, 2065, 151, 152, 3224, 156, 158, 6816, 164, 1700, 2216, 3240, 3760, 5297, 178, 2232, 2241, 195, 2245, 752, 41, 1233, 209, 1237, 2776, 219, 44, 736, 225, 2080, 229, 1768, 238, 2288, 240, 242, 3824, 753, 245, 246, 1271, 2296, 244, 2305, 3329, 259, 2309, 263, 2824, 783, 277, 2326, 2328, 2334, 1822, 2848, 2336, 289, 295, 808, 1833, 1322, 2348, 303, 1840, 304, 819, 2871, 312, 2872, 1848, 3385, 316, 2879, 1856, 2372, 325, 327, 1864, 329, 330, 3400, 4425, 342, 856, 4952, 347, 350, 867, 869, 360, 361, 364, 1902, 3952, 2421, 2937, 379, 380, 895, 3456, 1409, 388, 392, 906, 909, 2961, 1952, 2467, 424, 1960, 2473, 1448, 440, 3520, 450, 453, 454, 1992, 456, 459, 977, 468, 2521, 987, 478, 2016, 2029, 496, 1008, 1012, 1021]\n",
      "\n",
      "state length frequency:\n",
      "dict_items([(4, 56), (5, 29), (7, 5), (8, 7), (9, 94), (10, 33), (11, 9), (12, 8), (13, 754), (14, 10), (15, 396), (16, 30), (17, 77), (18, 123), (19, 473), (20, 5), (21, 6), (22, 9), (23, 4), (24, 2), (25, 3), (26, 23), (27, 3), (28, 17), (29, 1), (30, 9), (31, 8), (32, 15), (33, 5), (34, 16), (35, 5), (36, 1), (38, 103), (39, 5), (40, 8), (41, 1), (42, 4), (44, 1), (45, 2), (46, 2), (47, 1), (48, 1), (51, 4), (52, 185), (53, 1), (57, 3), (59, 2), (60, 10), (63, 3), (64, 4), (65, 3), (67, 8), (70, 2), (71, 22), (76, 133), (77, 1), (78, 2), (82, 95), (86, 1), (87, 1), (90, 2), (91, 6), (101, 1), (104, 2), (106, 3), (108, 1), (110, 2), (111, 2), (123, 2), (128, 1), (133, 1), (148, 1), (149, 1), (151, 2), (152, 2), (156, 1), (158, 1), (164, 10), (178, 4), (195, 1), (209, 1), (219, 1), (225, 278), (229, 4), (238, 1), (240, 2), (242, 2), (244, 1), (245, 1), (246, 3), (259, 1), (263, 4), (277, 3), (289, 1), (295, 1), (303, 2), (304, 2), (312, 32), (316, 5), (325, 1), (327, 1), (329, 4), (330, 1), (342, 5), (347, 2), (350, 3), (360, 1), (361, 1), (364, 3), (379, 1), (380, 3), (388, 1), (392, 1), (424, 45), (440, 20), (450, 1), (453, 1), (454, 1), (456, 3), (459, 1), (468, 1), (478, 1), (496, 1), (537, 8), (563, 1), (583, 257), (602, 1), (621, 3), (624, 2), (649, 1), (736, 4), (752, 1), (753, 1), (783, 1), (808, 5), (819, 1), (856, 3), (867, 1), (869, 1), (895, 3), (906, 1), (909, 3), (977, 1), (987, 1), (1008, 16), (1012, 3), (1021, 2), (1027, 1), (1035, 1), (1046, 5), (1063, 1), (1067, 1), (1084, 2), (1097, 527), (1101, 1), (1110, 1), (1112, 1), (1113, 1), (1114, 1), (1135, 4), (1145, 1), (1149, 2), (1160, 2), (1233, 7), (1237, 1), (1271, 1), (1322, 11), (1409, 9), (1448, 1), (1591, 2), (1648, 7), (1680, 3), (1700, 1), (1768, 1), (1822, 1), (1833, 1), (1840, 3), (1848, 1), (1856, 1), (1864, 7), (1902, 1), (1952, 1), (1960, 3), (1992, 6), (2016, 34), (2029, 1), (2065, 1), (2080, 1), (2105, 22), (2112, 1), (2118, 1), (2216, 2), (2232, 1), (2241, 1), (2245, 1), (2288, 195), (2296, 166), (2305, 1), (2309, 1), (2326, 1), (2328, 1), (2334, 3), (2336, 3), (2348, 1), (2372, 3), (2421, 1), (2467, 1), (2473, 1), (2521, 2), (2600, 4), (2608, 5), (2776, 5), (2824, 1), (2848, 5), (2871, 1), (2872, 3), (2879, 1), (2937, 1), (2961, 2), (3073, 1), (3104, 1), (3113, 2), (3200, 1), (3224, 1), (3240, 4), (3329, 1), (3385, 1), (3400, 8), (3456, 2), (3520, 1), (3584, 1), (3625, 1), (3760, 1), (3824, 1), (3952, 1), (4200, 15), (4425, 2), (4952, 1), (5297, 2), (6816, 1)])\n"
     ]
    }
   ],
   "source": [
    "state_lengths = get_state_length_list(data_list)\n",
    "print(f'unique state lengths:\\n{list(set(state_lengths))}')\n",
    "\n",
    "sl_counts = Counter(sorted(state_lengths))\n",
    "print(f'\\nstate length frequency:\\n{sl_counts.items()}')"
   ]
  },
  {
   "cell_type": "code",
   "execution_count": null,
   "metadata": {},
   "outputs": [],
   "source": []
  },
  {
   "cell_type": "code",
   "execution_count": null,
   "metadata": {},
   "outputs": [],
   "source": []
  },
  {
   "cell_type": "code",
   "execution_count": null,
   "metadata": {},
   "outputs": [],
   "source": []
  },
  {
   "cell_type": "code",
   "execution_count": null,
   "metadata": {},
   "outputs": [],
   "source": []
  }
 ],
 "metadata": {
  "kernelspec": {
   "display_name": "Python 3",
   "language": "python",
   "name": "python3"
  },
  "language_info": {
   "codemirror_mode": {
    "name": "ipython",
    "version": 3
   },
   "file_extension": ".py",
   "mimetype": "text/x-python",
   "name": "python",
   "nbconvert_exporter": "python",
   "pygments_lexer": "ipython3",
   "version": "3.6.5"
  },
  "toc-autonumbering": false
 },
 "nbformat": 4,
 "nbformat_minor": 2
}
