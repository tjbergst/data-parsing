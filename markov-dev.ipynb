{
 "cells": [
  {
   "cell_type": "markdown",
   "metadata": {},
   "source": [
    "# zerina project"
   ]
  },
  {
   "cell_type": "markdown",
   "metadata": {},
   "source": [
    "## setup"
   ]
  },
  {
   "cell_type": "code",
   "execution_count": 4,
   "metadata": {},
   "outputs": [],
   "source": [
    "import pandas as pd\n",
    "import numpy as np\n",
    "import scipy\n",
    "from tqdm import tqdm_notebook\n",
    "\n",
    "from sklearn.pipeline import make_pipeline\n",
    "from sklearn.model_selection import train_test_split\n",
    "\n",
    "from sklearn.preprocessing import StandardScaler\n",
    "from sklearn.preprocessing import MinMaxScaler\n",
    "\n",
    "from keras.models import Sequential\n",
    "from keras.layers import Dense\n",
    "from keras.layers import LSTM"
   ]
  },
  {
   "cell_type": "code",
   "execution_count": null,
   "metadata": {},
   "outputs": [],
   "source": []
  },
  {
   "cell_type": "markdown",
   "metadata": {},
   "source": [
    "## data processing"
   ]
  },
  {
   "cell_type": "markdown",
   "metadata": {},
   "source": [
    "### read csv and preprocess"
   ]
  },
  {
   "cell_type": "code",
   "execution_count": 7,
   "metadata": {},
   "outputs": [
    {
     "data": {
      "text/html": [
       "<div>\n",
       "<style scoped>\n",
       "    .dataframe tbody tr th:only-of-type {\n",
       "        vertical-align: middle;\n",
       "    }\n",
       "\n",
       "    .dataframe tbody tr th {\n",
       "        vertical-align: top;\n",
       "    }\n",
       "\n",
       "    .dataframe thead th {\n",
       "        text-align: right;\n",
       "    }\n",
       "</style>\n",
       "<table border=\"1\" class=\"dataframe\">\n",
       "  <thead>\n",
       "    <tr style=\"text-align: right;\">\n",
       "      <th></th>\n",
       "      <th>time</th>\n",
       "      <th>length</th>\n",
       "      <th>rate</th>\n",
       "      <th>on_time</th>\n",
       "      <th>end_time</th>\n",
       "      <th>off_time</th>\n",
       "    </tr>\n",
       "  </thead>\n",
       "  <tbody>\n",
       "    <tr>\n",
       "      <th>0</th>\n",
       "      <td>0.0</td>\n",
       "      <td>1352</td>\n",
       "      <td>6000000.0</td>\n",
       "      <td>225.0</td>\n",
       "      <td>225.0</td>\n",
       "      <td>0.0</td>\n",
       "    </tr>\n",
       "    <tr>\n",
       "      <th>1</th>\n",
       "      <td>36341.0</td>\n",
       "      <td>312</td>\n",
       "      <td>24000000.0</td>\n",
       "      <td>13.0</td>\n",
       "      <td>36354.0</td>\n",
       "      <td>36116.0</td>\n",
       "    </tr>\n",
       "    <tr>\n",
       "      <th>2</th>\n",
       "      <td>39469.0</td>\n",
       "      <td>312</td>\n",
       "      <td>24000000.0</td>\n",
       "      <td>13.0</td>\n",
       "      <td>39482.0</td>\n",
       "      <td>3115.0</td>\n",
       "    </tr>\n",
       "    <tr>\n",
       "      <th>3</th>\n",
       "      <td>49356.0</td>\n",
       "      <td>2288</td>\n",
       "      <td>1000000.0</td>\n",
       "      <td>2288.0</td>\n",
       "      <td>51644.0</td>\n",
       "      <td>9874.0</td>\n",
       "    </tr>\n",
       "    <tr>\n",
       "      <th>4</th>\n",
       "      <td>50556.0</td>\n",
       "      <td>1008</td>\n",
       "      <td>1000000.0</td>\n",
       "      <td>1008.0</td>\n",
       "      <td>51564.0</td>\n",
       "      <td>0.0</td>\n",
       "    </tr>\n",
       "    <tr>\n",
       "      <th>5</th>\n",
       "      <td>64737.0</td>\n",
       "      <td>6584</td>\n",
       "      <td>6000000.0</td>\n",
       "      <td>1097.0</td>\n",
       "      <td>65834.0</td>\n",
       "      <td>13173.0</td>\n",
       "    </tr>\n",
       "    <tr>\n",
       "      <th>6</th>\n",
       "      <td>82497.0</td>\n",
       "      <td>312</td>\n",
       "      <td>24000000.0</td>\n",
       "      <td>13.0</td>\n",
       "      <td>82510.0</td>\n",
       "      <td>16663.0</td>\n",
       "    </tr>\n",
       "    <tr>\n",
       "      <th>7</th>\n",
       "      <td>85683.0</td>\n",
       "      <td>312</td>\n",
       "      <td>24000000.0</td>\n",
       "      <td>13.0</td>\n",
       "      <td>85696.0</td>\n",
       "      <td>3173.0</td>\n",
       "    </tr>\n",
       "    <tr>\n",
       "      <th>8</th>\n",
       "      <td>101354.0</td>\n",
       "      <td>312</td>\n",
       "      <td>6000000.0</td>\n",
       "      <td>52.0</td>\n",
       "      <td>101406.0</td>\n",
       "      <td>15658.0</td>\n",
       "    </tr>\n",
       "    <tr>\n",
       "      <th>9</th>\n",
       "      <td>103643.0</td>\n",
       "      <td>456</td>\n",
       "      <td>12000000.0</td>\n",
       "      <td>38.0</td>\n",
       "      <td>103681.0</td>\n",
       "      <td>2237.0</td>\n",
       "    </tr>\n",
       "  </tbody>\n",
       "</table>\n",
       "</div>"
      ],
      "text/plain": [
       "       time  length        rate  on_time  end_time  off_time\n",
       "0       0.0    1352   6000000.0    225.0     225.0       0.0\n",
       "1   36341.0     312  24000000.0     13.0   36354.0   36116.0\n",
       "2   39469.0     312  24000000.0     13.0   39482.0    3115.0\n",
       "3   49356.0    2288   1000000.0   2288.0   51644.0    9874.0\n",
       "4   50556.0    1008   1000000.0   1008.0   51564.0       0.0\n",
       "5   64737.0    6584   6000000.0   1097.0   65834.0   13173.0\n",
       "6   82497.0     312  24000000.0     13.0   82510.0   16663.0\n",
       "7   85683.0     312  24000000.0     13.0   85696.0    3173.0\n",
       "8  101354.0     312   6000000.0     52.0  101406.0   15658.0\n",
       "9  103643.0     456  12000000.0     38.0  103681.0    2237.0"
      ]
     },
     "execution_count": 7,
     "metadata": {},
     "output_type": "execute_result"
    }
   ],
   "source": [
    "tar_file = r'data/wifitrafficstats2.csv'\n",
    "#tar_file = r'data/wifitrafficstats3.csv'\n",
    "#tar_file = r'data/wifitrafficstats4.csv'\n",
    "#tar_file = r'data/wifitrafficstats5.csv'\n",
    "#tar_file = r'data/wifitrafficstats6.csv'\n",
    "\n",
    "df = (\n",
    "    pd\n",
    "    .read_csv(tar_file)\n",
    "    .rename({ \n",
    "        'Time':'time', \n",
    "        'Length':'length', \n",
    "        'TX Rate':'rate'\n",
    "    }, axis=1)\n",
    "    .eval('time = time * 1e6')\n",
    "    .eval('rate = rate * 1e6')\n",
    "    .eval('length = length * 8')\n",
    "    .eval('on_time = 1e6 * length / rate')\n",
    "    .eval('end_time = time + on_time')\n",
    "    .assign(\n",
    "        shift_time = lambda x: x.end_time.shift(1),\n",
    "        off_time = lambda x: [\n",
    "            (time - shift_time) \n",
    "                if (time - shift_time) > 0 else 0 \n",
    "            for time, shift_time in (zip(x.time, x.shift_time))\n",
    "    ])\n",
    "    .drop(['No.','Delta Time','shift_time'], axis=1)\n",
    "    .round(0)\n",
    ")\n",
    "\n",
    "\n",
    "\n",
    "df.head(10)"
   ]
  },
  {
   "cell_type": "markdown",
   "metadata": {},
   "source": [
    "### generate data list of `1`'s and `0`'s"
   ]
  },
  {
   "cell_type": "code",
   "execution_count": 49,
   "metadata": {},
   "outputs": [],
   "source": [
    "def generate_data_list(df):\n",
    "    '''\n",
    "    takes dataframe with 'on_time' and 'off_time' time stamp columns \n",
    "    and returns a numpy array of 1's (on_time) and 0's (off_time)\n",
    "    '''\n",
    "    \n",
    "    data_list = []\n",
    "\n",
    "    for row in tqdm_notebook(df[['on_time','off_time']].iloc[1:].itertuples(), total=df.shape[0]-1):\n",
    "        data_list.extend([1 for i in range(int(row.on_time))])\n",
    "        data_list.extend([0 for i in range(int(row.off_time))])\n",
    "    \n",
    "    return np.array(data_list, copy=True)    "
   ]
  },
  {
   "cell_type": "code",
   "execution_count": 50,
   "metadata": {},
   "outputs": [
    {
     "data": {
      "application/vnd.jupyter.widget-view+json": {
       "model_id": "89a983ee5a3b47aab7233596c4ef590f",
       "version_major": 2,
       "version_minor": 0
      },
      "text/plain": [
       "HBox(children=(IntProgress(value=0, max=5310), HTML(value='')))"
      ]
     },
     "metadata": {},
     "output_type": "display_data"
    },
    {
     "name": "stdout",
     "output_type": "stream",
     "text": [
      "\n"
     ]
    },
    {
     "data": {
      "text/plain": [
       "True"
      ]
     },
     "execution_count": 50,
     "metadata": {},
     "output_type": "execute_result"
    }
   ],
   "source": [
    "np.allclose(generate_data_list(df), data)"
   ]
  },
  {
   "cell_type": "code",
   "execution_count": null,
   "metadata": {},
   "outputs": [],
   "source": []
  },
  {
   "cell_type": "markdown",
   "metadata": {},
   "source": [
    "## compute statistics "
   ]
  },
  {
   "cell_type": "markdown",
   "metadata": {},
   "source": [
    "### fast get all state lengths"
   ]
  },
  {
   "cell_type": "code",
   "execution_count": 47,
   "metadata": {},
   "outputs": [],
   "source": [
    "def get_state_length_list(data):\n",
    "    '''\n",
    "    takes data list ([1,1,0,1,0,0,...]) and returns numpy array \n",
    "    of duration of consecutive bits ([13,245,2588,19,1056,...])\n",
    "    '''\n",
    "    data = np.array(data)    \n",
    "    return np.diff(\n",
    "        np.where(\n",
    "            np.concatenate(\n",
    "                ([data[0]],\n",
    "                 data[:-1] != data[1:],\n",
    "                 [0]\n",
    "                )\n",
    "            )\n",
    "        )[0]\n",
    "    )[::2]"
   ]
  },
  {
   "cell_type": "code",
   "execution_count": 48,
   "metadata": {},
   "outputs": [
    {
     "data": {
      "text/plain": [
       "True"
      ]
     },
     "execution_count": 48,
     "metadata": {},
     "output_type": "execute_result"
    }
   ],
   "source": [
    "np.allclose(get_state_length_list(data), state_lengths)"
   ]
  },
  {
   "cell_type": "code",
   "execution_count": null,
   "metadata": {},
   "outputs": [],
   "source": []
  },
  {
   "cell_type": "code",
   "execution_count": null,
   "metadata": {},
   "outputs": [],
   "source": []
  },
  {
   "cell_type": "code",
   "execution_count": null,
   "metadata": {},
   "outputs": [],
   "source": []
  },
  {
   "cell_type": "code",
   "execution_count": null,
   "metadata": {},
   "outputs": [],
   "source": []
  },
  {
   "cell_type": "code",
   "execution_count": null,
   "metadata": {},
   "outputs": [],
   "source": []
  },
  {
   "cell_type": "code",
   "execution_count": null,
   "metadata": {},
   "outputs": [],
   "source": []
  },
  {
   "cell_type": "code",
   "execution_count": null,
   "metadata": {},
   "outputs": [],
   "source": []
  },
  {
   "cell_type": "code",
   "execution_count": null,
   "metadata": {},
   "outputs": [],
   "source": []
  },
  {
   "cell_type": "code",
   "execution_count": null,
   "metadata": {},
   "outputs": [],
   "source": []
  }
 ],
 "metadata": {
  "kernelspec": {
   "display_name": "Python 3",
   "language": "python",
   "name": "python3"
  },
  "language_info": {
   "codemirror_mode": {
    "name": "ipython",
    "version": 3
   },
   "file_extension": ".py",
   "mimetype": "text/x-python",
   "name": "python",
   "nbconvert_exporter": "python",
   "pygments_lexer": "ipython3",
   "version": "3.6.5"
  }
 },
 "nbformat": 4,
 "nbformat_minor": 2
}
