{
 "cells": [
  {
   "cell_type": "markdown",
   "metadata": {},
   "source": [
    "# zerina project"
   ]
  },
  {
   "cell_type": "markdown",
   "metadata": {},
   "source": [
    "## setup"
   ]
  },
  {
   "cell_type": "code",
   "execution_count": 2,
   "metadata": {},
   "outputs": [],
   "source": [
    "import pandas as pd\n",
    "import numpy as np\n",
    "import scipy\n",
    "from tqdm import tqdm_notebook, tnrange, trange, tqdm\n",
    "from itertools import cycle\n",
    "from collections import Counter\n",
    "\n",
    "from sklearn.pipeline import make_pipeline\n",
    "from sklearn.model_selection import train_test_split\n",
    "\n",
    "from sklearn.preprocessing import StandardScaler\n",
    "from sklearn.preprocessing import MinMaxScaler\n",
    "\n",
    "from keras.models import Sequential\n",
    "from keras.layers import Dense\n",
    "from keras.layers import LSTM"
   ]
  },
  {
   "cell_type": "code",
   "execution_count": null,
   "metadata": {},
   "outputs": [],
   "source": []
  },
  {
   "cell_type": "markdown",
   "metadata": {},
   "source": [
    "## data processing"
   ]
  },
  {
   "cell_type": "markdown",
   "metadata": {},
   "source": [
    "### transition matrices"
   ]
  },
  {
   "cell_type": "code",
   "execution_count": null,
   "metadata": {},
   "outputs": [],
   "source": [
    "tmat_file = 'data/wifi_t_matrices.csv'\n",
    "\n",
    "tmat_df = (\n",
    "    pd\n",
    "    .read_csv(\n",
    "        tmat_file, \n",
    "        names=['OnOn','OnOff','OffOn','OffOff','timestep']\n",
    "    )\n",
    "    #.eval('OffOff = 1 - OffOff')\n",
    "    #.eval('OffOn = 1 - OffOn')\n",
    "    [['OnOn', 'OnOff', 'OffOff', 'OffOn', 'timestep']]\n",
    ")\n",
    "\n",
    "tmat_df.head()"
   ]
  },
  {
   "cell_type": "markdown",
   "metadata": {},
   "source": [
    "### read csv and preprocess"
   ]
  },
  {
   "cell_type": "code",
   "execution_count": null,
   "metadata": {},
   "outputs": [],
   "source": [
    "tar_file = r'data/wifitrafficstats2.csv'\n",
    "#tar_file = r'data/wifitrafficstats3.csv'\n",
    "#tar_file = r'data/wifitrafficstats4.csv'\n",
    "#tar_file = r'data/wifitrafficstats5.csv'\n",
    "#tar_file = r'data/wifitrafficstats6.csv'\n",
    "\n",
    "df = (\n",
    "    pd\n",
    "    .read_csv(tar_file)\n",
    "    .rename({ \n",
    "        'Time':'time', \n",
    "        'Length':'length', \n",
    "        'TX Rate':'rate'\n",
    "    }, axis=1)\n",
    "    .eval('time = time * 1e6')\n",
    "    .eval('rate = rate * 1e6')\n",
    "    .eval('length = length * 8')\n",
    "    .eval('on_time = 1e6 * length / rate')\n",
    "    .eval('end_time = time + on_time')\n",
    "    .assign(\n",
    "        shift_time = lambda x: x.end_time.shift(1),\n",
    "        off_time = lambda x: [\n",
    "            (time - shift_time) \n",
    "                if (time - shift_time) > 0 else 0 \n",
    "            for time, shift_time in (zip(x.time, x.shift_time))\n",
    "    ])\n",
    "    .drop(['No.','Delta Time','shift_time'], axis=1)\n",
    "    .round(0)\n",
    ")\n",
    "\n",
    "\n",
    "\n",
    "df.head(10)"
   ]
  },
  {
   "cell_type": "markdown",
   "metadata": {},
   "source": [
    "## functions"
   ]
  },
  {
   "cell_type": "markdown",
   "metadata": {},
   "source": [
    "### generate data list of `1`'s and `0`'s"
   ]
  },
  {
   "cell_type": "code",
   "execution_count": null,
   "metadata": {},
   "outputs": [],
   "source": [
    "def generate_data_list(df):\n",
    "    '''\n",
    "    takes dataframe with 'on_time' and 'off_time' time stamp columns \n",
    "    and returns a numpy array of 1's (on_time) and 0's (off_time)\n",
    "    '''\n",
    "    \n",
    "    data_list = []\n",
    "\n",
    "    for row in tqdm_notebook(df[['on_time','off_time']].iloc[1:].itertuples(), total=df.shape[0]-1):\n",
    "        data_list.extend([1 for i in range(int(row.on_time))])\n",
    "        data_list.extend([0 for i in range(int(row.off_time))])\n",
    "    \n",
    "    return np.array(data_list, copy=True)"
   ]
  },
  {
   "cell_type": "markdown",
   "metadata": {},
   "source": [
    "### fast get all state lengths"
   ]
  },
  {
   "cell_type": "code",
   "execution_count": null,
   "metadata": {},
   "outputs": [],
   "source": [
    "def get_state_length_list(data):\n",
    "    '''\n",
    "    takes data list ([1,1,0,1,0,0,...]) and returns numpy array \n",
    "    of duration of consecutive bits ([13,245,2588,19,1056,...])\n",
    "    '''\n",
    "    \n",
    "    data = np.array(data)    \n",
    "    \n",
    "    return np.diff(\n",
    "        np.where(\n",
    "            np.concatenate(\n",
    "                ([data[0]],\n",
    "                 data[:-1] != data[1:],\n",
    "                 [0]\n",
    "                )\n",
    "            )\n",
    "        )[0]\n",
    "    )[::2]"
   ]
  },
  {
   "cell_type": "markdown",
   "metadata": {},
   "source": [
    "### compute stats"
   ]
  },
  {
   "cell_type": "code",
   "execution_count": null,
   "metadata": {},
   "outputs": [],
   "source": [
    "def compute_stats(sim_matrix):\n",
    "    sample_size = sim_matrix.shape[0]\n",
    "    stats = sim_matrix.sum(axis=1)\n",
    "                    \n",
    "    state_lengths = [\n",
    "        item for sublist in\n",
    "        [\n",
    "            list(get_state_length_list(sim_matrix[i,:]))\n",
    "            for i in range(sim_matrix.shape[0])\n",
    "        ]\n",
    "        for item in sublist\n",
    "    ]\n",
    "    \n",
    "    return {\n",
    "        'mean':np.mean(stats) / sample_size,\n",
    "        'std':np.std(stats) / sample_size,\n",
    "        'state_lengths':state_lengths\n",
    "    }    "
   ]
  },
  {
   "cell_type": "markdown",
   "metadata": {},
   "source": [
    "## data simulator"
   ]
  },
  {
   "cell_type": "markdown",
   "metadata": {},
   "source": [
    "### setup"
   ]
  },
  {
   "cell_type": "code",
   "execution_count": null,
   "metadata": {},
   "outputs": [],
   "source": [
    "def generate_sim_data(n_samples, m_trials, transition_matrix):\n",
    "    '''\n",
    "    takes a transition matrix and generates a simulated signal\n",
    "    of size <length>\n",
    "    '''\n",
    "        \n",
    "    cycle_dict = {\n",
    "        (1,1,1): 0,\n",
    "        (1,1,0): 1,\n",
    "        (1,0,1): 2,\n",
    "        (1,0,0): 1,\n",
    "        (0,1,1): 1,\n",
    "        (0,1,0): 2,\n",
    "        (0,0,1): 1,\n",
    "        (0,0,0): 0,\n",
    "    }\n",
    "    \n",
    "    global p\n",
    "    p = 0.5\n",
    "    sim_matrix = np.zeros((m_trials, n_samples))\n",
    "    \n",
    "    state_cycler = cycle(transition_matrix)\n",
    "    \n",
    "    def cycle_states():\n",
    "        return next(state_cycler)\n",
    "    \n",
    "    def generate_bit(n):\n",
    "        global p\n",
    "        \n",
    "        if n == 0:\n",
    "            return np.random.binomial(1, p)\n",
    "            \n",
    "        else:\n",
    "            for i in range(n):\n",
    "                p = cycle_states()\n",
    "\n",
    "            return np.random.binomial(1, p)\n",
    "        \n",
    "    for i in trange(m_trials, leave=False):\n",
    "        sim_data = [1,1,1]\n",
    "        p = 0.5\n",
    "        \n",
    "        for _ in range(n_samples + 1):        \n",
    "            new_bit = generate_bit(cycle_dict[tuple(sim_data[-3:])])        \n",
    "            sim_data.append(new_bit)\n",
    "            \n",
    "        sim_matrix[i,:] = np.array(sim_data[4:])\n",
    "    \n",
    "    return sim_matrix\n",
    "    "
   ]
  },
  {
   "cell_type": "markdown",
   "metadata": {},
   "source": [
    "### single execution"
   ]
  },
  {
   "cell_type": "raw",
   "metadata": {},
   "source": [
    "sample_size = int(10e6)\n",
    "trial_size = 10\n",
    "transition_matrix = tmat_df.iloc[15,:4].values\n",
    "print(f'transition probabilities: {transition_matrix}')"
   ]
  },
  {
   "cell_type": "raw",
   "metadata": {},
   "source": [
    "%time sim_matrix = generate_sim_data(sample_size, trial_size, transition_matrix)"
   ]
  },
  {
   "cell_type": "code",
   "execution_count": null,
   "metadata": {},
   "outputs": [],
   "source": []
  },
  {
   "cell_type": "markdown",
   "metadata": {},
   "source": [
    "### main loop"
   ]
  },
  {
   "cell_type": "code",
   "execution_count": null,
   "metadata": {},
   "outputs": [],
   "source": [
    "%%time\n",
    "\n",
    "master_dictionary = {}\n",
    "sample_size = int(10e6)\n",
    "trial_size = 10\n",
    "\n",
    "for row in tqdm(tmat_df.itertuples(), total=tmat_df.shape[0]):\n",
    "    transition_matrix = [row.OnOn, row.OnOff, row.OffOff, row.OffOn]\n",
    "    sim_matrix = generate_sim_data(sample_size, trial_size, transition_matrix)    \n",
    "    \n",
    "    master_dictionary[row.timestep] = compute_stats(sim_matrix)"
   ]
  },
  {
   "cell_type": "code",
   "execution_count": null,
   "metadata": {},
   "outputs": [],
   "source": [
    "%store master_dictionary"
   ]
  },
  {
   "cell_type": "code",
   "execution_count": null,
   "metadata": {},
   "outputs": [],
   "source": []
  },
  {
   "cell_type": "markdown",
   "metadata": {},
   "source": [
    "#### alternate save"
   ]
  },
  {
   "cell_type": "code",
   "execution_count": null,
   "metadata": {},
   "outputs": [],
   "source": [
    "import json\n",
    "path = 'data/all_t_matrix_results.json'\n",
    "\n",
    "try:\n",
    "    with open(path, 'w') as file:\n",
    "        json.dump(master_dictionary, file)\n",
    "    print(f'successfully saved file to:\\n{path}')\n",
    "except Exception:\n",
    "    print('uh oh, something went wrong')"
   ]
  },
  {
   "cell_type": "code",
   "execution_count": null,
   "metadata": {},
   "outputs": [],
   "source": []
  },
  {
   "cell_type": "code",
   "execution_count": null,
   "metadata": {},
   "outputs": [],
   "source": []
  },
  {
   "cell_type": "code",
   "execution_count": null,
   "metadata": {},
   "outputs": [],
   "source": []
  },
  {
   "cell_type": "code",
   "execution_count": null,
   "metadata": {},
   "outputs": [],
   "source": []
  },
  {
   "cell_type": "code",
   "execution_count": null,
   "metadata": {},
   "outputs": [],
   "source": []
  },
  {
   "cell_type": "code",
   "execution_count": null,
   "metadata": {},
   "outputs": [],
   "source": []
  },
  {
   "cell_type": "code",
   "execution_count": null,
   "metadata": {},
   "outputs": [],
   "source": []
  },
  {
   "cell_type": "code",
   "execution_count": null,
   "metadata": {},
   "outputs": [],
   "source": []
  },
  {
   "cell_type": "code",
   "execution_count": null,
   "metadata": {},
   "outputs": [],
   "source": []
  },
  {
   "cell_type": "code",
   "execution_count": null,
   "metadata": {},
   "outputs": [],
   "source": []
  },
  {
   "cell_type": "code",
   "execution_count": null,
   "metadata": {},
   "outputs": [],
   "source": []
  },
  {
   "cell_type": "markdown",
   "metadata": {},
   "source": [
    "## real data ref"
   ]
  },
  {
   "cell_type": "raw",
   "metadata": {},
   "source": [
    "data_list = generate_data_list(df)"
   ]
  },
  {
   "cell_type": "raw",
   "metadata": {},
   "source": [
    "state_lengths = get_state_length_list(data_list)\n",
    "print(f'unique state lengths:\\n{list(set(state_lengths))}')\n",
    "\n",
    "sl_counts = Counter(sorted(state_lengths))\n",
    "print(f'\\nstate length frequency:\\n{sl_counts.items()}')"
   ]
  },
  {
   "cell_type": "code",
   "execution_count": null,
   "metadata": {},
   "outputs": [],
   "source": []
  },
  {
   "cell_type": "code",
   "execution_count": null,
   "metadata": {},
   "outputs": [],
   "source": []
  },
  {
   "cell_type": "code",
   "execution_count": null,
   "metadata": {},
   "outputs": [],
   "source": []
  },
  {
   "cell_type": "code",
   "execution_count": null,
   "metadata": {},
   "outputs": [],
   "source": []
  }
 ],
 "metadata": {
  "kernelspec": {
   "display_name": "Python 3",
   "language": "python",
   "name": "python3"
  },
  "language_info": {
   "codemirror_mode": {
    "name": "ipython",
    "version": 3
   },
   "file_extension": ".py",
   "mimetype": "text/x-python",
   "name": "python",
   "nbconvert_exporter": "python",
   "pygments_lexer": "ipython3",
   "version": "3.6.7"
  },
  "toc-autonumbering": false
 },
 "nbformat": 4,
 "nbformat_minor": 2
}
