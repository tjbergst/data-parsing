{
 "cells": [
  {
   "cell_type": "markdown",
   "metadata": {},
   "source": [
    "# zerina project"
   ]
  },
  {
   "cell_type": "markdown",
   "metadata": {},
   "source": [
    "## setup"
   ]
  },
  {
   "cell_type": "code",
   "execution_count": 1,
   "metadata": {},
   "outputs": [
    {
     "name": "stderr",
     "output_type": "stream",
     "text": [
      "Using TensorFlow backend.\n"
     ]
    }
   ],
   "source": [
    "import pandas as pd\n",
    "import numpy as np\n",
    "import scipy\n",
    "from tqdm import tqdm_notebook, tnrange, trange, tqdm\n",
    "from itertools import cycle\n",
    "from collections import Counter\n",
    "\n",
    "from sklearn.pipeline import make_pipeline\n",
    "from sklearn.model_selection import train_test_split\n",
    "\n",
    "from sklearn.preprocessing import StandardScaler\n",
    "from sklearn.preprocessing import MinMaxScaler\n",
    "\n",
    "from keras.models import Sequential\n",
    "from keras.layers import Dense\n",
    "from keras.layers import LSTM"
   ]
  },
  {
   "cell_type": "code",
   "execution_count": null,
   "metadata": {},
   "outputs": [],
   "source": []
  },
  {
   "cell_type": "markdown",
   "metadata": {},
   "source": [
    "## data processing"
   ]
  },
  {
   "cell_type": "markdown",
   "metadata": {},
   "source": [
    "### transition matrices"
   ]
  },
  {
   "cell_type": "code",
   "execution_count": 27,
   "metadata": {},
   "outputs": [
    {
     "data": {
      "text/html": [
       "<div>\n",
       "<style scoped>\n",
       "    .dataframe tbody tr th:only-of-type {\n",
       "        vertical-align: middle;\n",
       "    }\n",
       "\n",
       "    .dataframe tbody tr th {\n",
       "        vertical-align: top;\n",
       "    }\n",
       "\n",
       "    .dataframe thead th {\n",
       "        text-align: right;\n",
       "    }\n",
       "</style>\n",
       "<table border=\"1\" class=\"dataframe\">\n",
       "  <thead>\n",
       "    <tr style=\"text-align: right;\">\n",
       "      <th></th>\n",
       "      <th>OnOn</th>\n",
       "      <th>OnOff</th>\n",
       "      <th>OffOff</th>\n",
       "      <th>OffOn</th>\n",
       "      <th>timestep</th>\n",
       "    </tr>\n",
       "  </thead>\n",
       "  <tbody>\n",
       "    <tr>\n",
       "      <th>0</th>\n",
       "      <td>0.99013</td>\n",
       "      <td>0.009865</td>\n",
       "      <td>0.000629</td>\n",
       "      <td>0.99937</td>\n",
       "      <td>5</td>\n",
       "    </tr>\n",
       "    <tr>\n",
       "      <th>1</th>\n",
       "      <td>0.88387</td>\n",
       "      <td>0.116130</td>\n",
       "      <td>0.008920</td>\n",
       "      <td>0.99108</td>\n",
       "      <td>105</td>\n",
       "    </tr>\n",
       "    <tr>\n",
       "      <th>2</th>\n",
       "      <td>0.79683</td>\n",
       "      <td>0.203170</td>\n",
       "      <td>0.016747</td>\n",
       "      <td>0.98325</td>\n",
       "      <td>205</td>\n",
       "    </tr>\n",
       "    <tr>\n",
       "      <th>3</th>\n",
       "      <td>0.75017</td>\n",
       "      <td>0.249830</td>\n",
       "      <td>0.024196</td>\n",
       "      <td>0.97580</td>\n",
       "      <td>305</td>\n",
       "    </tr>\n",
       "    <tr>\n",
       "      <th>4</th>\n",
       "      <td>0.71139</td>\n",
       "      <td>0.288610</td>\n",
       "      <td>0.030688</td>\n",
       "      <td>0.96931</td>\n",
       "      <td>405</td>\n",
       "    </tr>\n",
       "  </tbody>\n",
       "</table>\n",
       "</div>"
      ],
      "text/plain": [
       "      OnOn     OnOff    OffOff    OffOn  timestep\n",
       "0  0.99013  0.009865  0.000629  0.99937         5\n",
       "1  0.88387  0.116130  0.008920  0.99108       105\n",
       "2  0.79683  0.203170  0.016747  0.98325       205\n",
       "3  0.75017  0.249830  0.024196  0.97580       305\n",
       "4  0.71139  0.288610  0.030688  0.96931       405"
      ]
     },
     "execution_count": 27,
     "metadata": {},
     "output_type": "execute_result"
    }
   ],
   "source": [
    "#tmat_file = 'data/wifi_t_matrices.csv'\n",
    "tmat_file = 'data/wifi_t_matrices2.csv'\n",
    "\n",
    "tmat_df = (\n",
    "    pd\n",
    "    .read_csv(\n",
    "        tmat_file, \n",
    "        names=['OnOn','OnOff','OffOn','OffOff','timestep']\n",
    "    )\n",
    "    #.eval('OffOff = 1 - OffOff')\n",
    "    #.eval('OffOn = 1 - OffOn')\n",
    "    [['OnOn', 'OnOff', 'OffOff', 'OffOn', 'timestep']]\n",
    ")\n",
    "\n",
    "tmat_df.head()"
   ]
  },
  {
   "cell_type": "markdown",
   "metadata": {},
   "source": [
    "### read csv and preprocess"
   ]
  },
  {
   "cell_type": "code",
   "execution_count": 3,
   "metadata": {},
   "outputs": [
    {
     "data": {
      "text/html": [
       "<div>\n",
       "<style scoped>\n",
       "    .dataframe tbody tr th:only-of-type {\n",
       "        vertical-align: middle;\n",
       "    }\n",
       "\n",
       "    .dataframe tbody tr th {\n",
       "        vertical-align: top;\n",
       "    }\n",
       "\n",
       "    .dataframe thead th {\n",
       "        text-align: right;\n",
       "    }\n",
       "</style>\n",
       "<table border=\"1\" class=\"dataframe\">\n",
       "  <thead>\n",
       "    <tr style=\"text-align: right;\">\n",
       "      <th></th>\n",
       "      <th>time</th>\n",
       "      <th>length</th>\n",
       "      <th>rate</th>\n",
       "      <th>on_time</th>\n",
       "      <th>end_time</th>\n",
       "      <th>off_time</th>\n",
       "    </tr>\n",
       "  </thead>\n",
       "  <tbody>\n",
       "    <tr>\n",
       "      <th>0</th>\n",
       "      <td>0.0</td>\n",
       "      <td>1352</td>\n",
       "      <td>6000000.0</td>\n",
       "      <td>225.0</td>\n",
       "      <td>225.0</td>\n",
       "      <td>0.0</td>\n",
       "    </tr>\n",
       "    <tr>\n",
       "      <th>1</th>\n",
       "      <td>36341.0</td>\n",
       "      <td>312</td>\n",
       "      <td>24000000.0</td>\n",
       "      <td>13.0</td>\n",
       "      <td>36354.0</td>\n",
       "      <td>36116.0</td>\n",
       "    </tr>\n",
       "    <tr>\n",
       "      <th>2</th>\n",
       "      <td>39469.0</td>\n",
       "      <td>312</td>\n",
       "      <td>24000000.0</td>\n",
       "      <td>13.0</td>\n",
       "      <td>39482.0</td>\n",
       "      <td>3115.0</td>\n",
       "    </tr>\n",
       "    <tr>\n",
       "      <th>3</th>\n",
       "      <td>49356.0</td>\n",
       "      <td>2288</td>\n",
       "      <td>1000000.0</td>\n",
       "      <td>2288.0</td>\n",
       "      <td>51644.0</td>\n",
       "      <td>9874.0</td>\n",
       "    </tr>\n",
       "    <tr>\n",
       "      <th>4</th>\n",
       "      <td>50556.0</td>\n",
       "      <td>1008</td>\n",
       "      <td>1000000.0</td>\n",
       "      <td>1008.0</td>\n",
       "      <td>51564.0</td>\n",
       "      <td>0.0</td>\n",
       "    </tr>\n",
       "    <tr>\n",
       "      <th>5</th>\n",
       "      <td>64737.0</td>\n",
       "      <td>6584</td>\n",
       "      <td>6000000.0</td>\n",
       "      <td>1097.0</td>\n",
       "      <td>65834.0</td>\n",
       "      <td>13173.0</td>\n",
       "    </tr>\n",
       "    <tr>\n",
       "      <th>6</th>\n",
       "      <td>82497.0</td>\n",
       "      <td>312</td>\n",
       "      <td>24000000.0</td>\n",
       "      <td>13.0</td>\n",
       "      <td>82510.0</td>\n",
       "      <td>16663.0</td>\n",
       "    </tr>\n",
       "    <tr>\n",
       "      <th>7</th>\n",
       "      <td>85683.0</td>\n",
       "      <td>312</td>\n",
       "      <td>24000000.0</td>\n",
       "      <td>13.0</td>\n",
       "      <td>85696.0</td>\n",
       "      <td>3173.0</td>\n",
       "    </tr>\n",
       "    <tr>\n",
       "      <th>8</th>\n",
       "      <td>101354.0</td>\n",
       "      <td>312</td>\n",
       "      <td>6000000.0</td>\n",
       "      <td>52.0</td>\n",
       "      <td>101406.0</td>\n",
       "      <td>15658.0</td>\n",
       "    </tr>\n",
       "    <tr>\n",
       "      <th>9</th>\n",
       "      <td>103643.0</td>\n",
       "      <td>456</td>\n",
       "      <td>12000000.0</td>\n",
       "      <td>38.0</td>\n",
       "      <td>103681.0</td>\n",
       "      <td>2237.0</td>\n",
       "    </tr>\n",
       "  </tbody>\n",
       "</table>\n",
       "</div>"
      ],
      "text/plain": [
       "       time  length        rate  on_time  end_time  off_time\n",
       "0       0.0    1352   6000000.0    225.0     225.0       0.0\n",
       "1   36341.0     312  24000000.0     13.0   36354.0   36116.0\n",
       "2   39469.0     312  24000000.0     13.0   39482.0    3115.0\n",
       "3   49356.0    2288   1000000.0   2288.0   51644.0    9874.0\n",
       "4   50556.0    1008   1000000.0   1008.0   51564.0       0.0\n",
       "5   64737.0    6584   6000000.0   1097.0   65834.0   13173.0\n",
       "6   82497.0     312  24000000.0     13.0   82510.0   16663.0\n",
       "7   85683.0     312  24000000.0     13.0   85696.0    3173.0\n",
       "8  101354.0     312   6000000.0     52.0  101406.0   15658.0\n",
       "9  103643.0     456  12000000.0     38.0  103681.0    2237.0"
      ]
     },
     "execution_count": 3,
     "metadata": {},
     "output_type": "execute_result"
    }
   ],
   "source": [
    "tar_file = r'data/wifitrafficstats2.csv'\n",
    "#tar_file = r'data/wifitrafficstats3.csv'\n",
    "#tar_file = r'data/wifitrafficstats4.csv'\n",
    "#tar_file = r'data/wifitrafficstats5.csv'\n",
    "#tar_file = r'data/wifitrafficstats6.csv'\n",
    "\n",
    "df = (\n",
    "    pd\n",
    "    .read_csv(tar_file)\n",
    "    .rename({ \n",
    "        'Time':'time', \n",
    "        'Length':'length', \n",
    "        'TX Rate':'rate'\n",
    "    }, axis=1)\n",
    "    .eval('time = time * 1e6')\n",
    "    .eval('rate = rate * 1e6')\n",
    "    .eval('length = length * 8')\n",
    "    .eval('on_time = 1e6 * length / rate')\n",
    "    .eval('end_time = time + on_time')\n",
    "    .assign(\n",
    "        shift_time = lambda x: x.end_time.shift(1),\n",
    "        off_time = lambda x: [\n",
    "            (time - shift_time) \n",
    "                if (time - shift_time) > 0 else 0 \n",
    "            for time, shift_time in (zip(x.time, x.shift_time))\n",
    "    ])\n",
    "    .drop(['No.','Delta Time','shift_time'], axis=1)\n",
    "    .round(0)\n",
    ")\n",
    "\n",
    "\n",
    "\n",
    "df.head(10)"
   ]
  },
  {
   "cell_type": "markdown",
   "metadata": {},
   "source": [
    "## functions"
   ]
  },
  {
   "cell_type": "markdown",
   "metadata": {},
   "source": [
    "### generate data list of `1`'s and `0`'s"
   ]
  },
  {
   "cell_type": "code",
   "execution_count": 28,
   "metadata": {},
   "outputs": [],
   "source": [
    "def generate_data_list(df):\n",
    "    '''\n",
    "    takes dataframe with 'on_time' and 'off_time' time stamp columns \n",
    "    and returns a numpy array of 1's (on_time) and 0's (off_time)\n",
    "    '''\n",
    "    \n",
    "    data_list = []\n",
    "\n",
    "    for row in tqdm_notebook(df[['on_time','off_time']].iloc[1:].itertuples(), total=df.shape[0]-1):\n",
    "        data_list.extend([1 for i in range(int(row.on_time))])\n",
    "        data_list.extend([0 for i in range(int(row.off_time))])\n",
    "    \n",
    "    return np.array(data_list, copy=True)"
   ]
  },
  {
   "cell_type": "markdown",
   "metadata": {},
   "source": [
    "### fast get all state lengths"
   ]
  },
  {
   "cell_type": "code",
   "execution_count": 29,
   "metadata": {},
   "outputs": [],
   "source": [
    "def get_state_length_list(data):\n",
    "    '''\n",
    "    takes data list ([1,1,0,1,0,0,...]) and returns numpy array \n",
    "    of duration of consecutive bits ([13,245,2588,19,1056,...])\n",
    "    '''\n",
    "    \n",
    "    data = np.array(data)    \n",
    "    \n",
    "    return np.diff(\n",
    "        np.where(\n",
    "            np.concatenate(\n",
    "                ([data[0]],\n",
    "                 data[:-1] != data[1:],\n",
    "                 [0]\n",
    "                )\n",
    "            )\n",
    "        )[0]\n",
    "    )[::2]"
   ]
  },
  {
   "cell_type": "markdown",
   "metadata": {},
   "source": [
    "### compute stats"
   ]
  },
  {
   "cell_type": "code",
   "execution_count": 30,
   "metadata": {},
   "outputs": [],
   "source": [
    "def compute_stats(sim_matrix):\n",
    "    sample_size = sim_matrix.shape[1]\n",
    "    stats = sim_matrix.sum(axis=1)\n",
    "                    \n",
    "    state_lengths = [\n",
    "        item for sublist in\n",
    "        [\n",
    "            list(get_state_length_list(sim_matrix[i,:]))\n",
    "            for i in range(sim_matrix.shape[0])\n",
    "        ]\n",
    "        for item in sublist\n",
    "    ]\n",
    "    \n",
    "    return {\n",
    "        'mean': np.mean(stats) / sample_size,\n",
    "        'std': np.std(stats) / sample_size,\n",
    "        'state_lengths': Counter(state_lengths).most_common()\n",
    "    }"
   ]
  },
  {
   "cell_type": "markdown",
   "metadata": {},
   "source": [
    "## data simulator"
   ]
  },
  {
   "cell_type": "markdown",
   "metadata": {},
   "source": [
    "### setup"
   ]
  },
  {
   "cell_type": "code",
   "execution_count": 31,
   "metadata": {},
   "outputs": [],
   "source": [
    "def generate_sim_data(n_samples, m_trials, transition_matrix):\n",
    "    '''\n",
    "    takes a transition matrix and generates a simulated signal\n",
    "    of size <length>\n",
    "    '''\n",
    "        \n",
    "    cycle_dict = {\n",
    "        (1,1,1): 0,\n",
    "        (1,1,0): 1,\n",
    "        (1,0,1): 2,\n",
    "        (1,0,0): 1,\n",
    "        (0,1,1): 1,\n",
    "        (0,1,0): 2,\n",
    "        (0,0,1): 1,\n",
    "        (0,0,0): 0,\n",
    "    }\n",
    "    \n",
    "    global p\n",
    "    p = 0.5\n",
    "    sim_matrix = np.zeros((m_trials, n_samples))\n",
    "    \n",
    "    state_cycler = cycle(transition_matrix)\n",
    "    \n",
    "    def cycle_states():\n",
    "        return next(state_cycler)\n",
    "    \n",
    "    def generate_bit(n):\n",
    "        global p\n",
    "        \n",
    "        if n == 0:\n",
    "            return np.random.binomial(1, p)\n",
    "            \n",
    "        else:\n",
    "            for i in range(n):\n",
    "                p = cycle_states()\n",
    "\n",
    "            return np.random.binomial(1, p)\n",
    "        \n",
    "    for i in tnrange(m_trials, leave=False):\n",
    "        sim_data = [1,1,1]\n",
    "        p = 0.5\n",
    "        \n",
    "        for _ in range(n_samples + 1):        \n",
    "            new_bit = generate_bit(cycle_dict[tuple(sim_data[-3:])])        \n",
    "            sim_data.append(new_bit)\n",
    "            \n",
    "        sim_matrix[i,:] = np.array(sim_data[4:])\n",
    "    \n",
    "    return sim_matrix\n",
    "    "
   ]
  },
  {
   "cell_type": "markdown",
   "metadata": {},
   "source": [
    "### single execution"
   ]
  },
  {
   "cell_type": "raw",
   "metadata": {},
   "source": [
    "sample_size = int(10e6)\n",
    "trial_size = 10\n",
    "transition_matrix = tmat_df.iloc[15,:4].values\n",
    "print(f'transition probabilities: {transition_matrix}')"
   ]
  },
  {
   "cell_type": "raw",
   "metadata": {},
   "source": [
    "%time sim_matrix = generate_sim_data(sample_size, trial_size, transition_matrix)"
   ]
  },
  {
   "cell_type": "code",
   "execution_count": null,
   "metadata": {},
   "outputs": [],
   "source": []
  },
  {
   "cell_type": "markdown",
   "metadata": {},
   "source": [
    "### main loop"
   ]
  },
  {
   "cell_type": "code",
   "execution_count": 32,
   "metadata": {},
   "outputs": [],
   "source": [
    "import time"
   ]
  },
  {
   "cell_type": "code",
   "execution_count": 33,
   "metadata": {},
   "outputs": [
    {
     "data": {
      "application/vnd.jupyter.widget-view+json": {
       "model_id": "f583987ca9f04c54962e85c356e64068",
       "version_major": 2,
       "version_minor": 0
      },
      "text/plain": [
       "HBox(children=(IntProgress(value=0, max=15), HTML(value='')))"
      ]
     },
     "metadata": {},
     "output_type": "display_data"
    },
    {
     "data": {
      "application/vnd.jupyter.widget-view+json": {
       "model_id": "",
       "version_major": 2,
       "version_minor": 0
      },
      "text/plain": [
       "HBox(children=(IntProgress(value=0, max=10), HTML(value='')))"
      ]
     },
     "metadata": {},
     "output_type": "display_data"
    },
    {
     "data": {
      "application/vnd.jupyter.widget-view+json": {
       "model_id": "",
       "version_major": 2,
       "version_minor": 0
      },
      "text/plain": [
       "HBox(children=(IntProgress(value=0, max=10), HTML(value='')))"
      ]
     },
     "metadata": {},
     "output_type": "display_data"
    },
    {
     "data": {
      "application/vnd.jupyter.widget-view+json": {
       "model_id": "",
       "version_major": 2,
       "version_minor": 0
      },
      "text/plain": [
       "HBox(children=(IntProgress(value=0, max=10), HTML(value='')))"
      ]
     },
     "metadata": {},
     "output_type": "display_data"
    },
    {
     "data": {
      "application/vnd.jupyter.widget-view+json": {
       "model_id": "",
       "version_major": 2,
       "version_minor": 0
      },
      "text/plain": [
       "HBox(children=(IntProgress(value=0, max=10), HTML(value='')))"
      ]
     },
     "metadata": {},
     "output_type": "display_data"
    },
    {
     "data": {
      "application/vnd.jupyter.widget-view+json": {
       "model_id": "",
       "version_major": 2,
       "version_minor": 0
      },
      "text/plain": [
       "HBox(children=(IntProgress(value=0, max=10), HTML(value='')))"
      ]
     },
     "metadata": {},
     "output_type": "display_data"
    },
    {
     "data": {
      "application/vnd.jupyter.widget-view+json": {
       "model_id": "",
       "version_major": 2,
       "version_minor": 0
      },
      "text/plain": [
       "HBox(children=(IntProgress(value=0, max=10), HTML(value='')))"
      ]
     },
     "metadata": {},
     "output_type": "display_data"
    },
    {
     "data": {
      "application/vnd.jupyter.widget-view+json": {
       "model_id": "",
       "version_major": 2,
       "version_minor": 0
      },
      "text/plain": [
       "HBox(children=(IntProgress(value=0, max=10), HTML(value='')))"
      ]
     },
     "metadata": {},
     "output_type": "display_data"
    },
    {
     "data": {
      "application/vnd.jupyter.widget-view+json": {
       "model_id": "",
       "version_major": 2,
       "version_minor": 0
      },
      "text/plain": [
       "HBox(children=(IntProgress(value=0, max=10), HTML(value='')))"
      ]
     },
     "metadata": {},
     "output_type": "display_data"
    },
    {
     "data": {
      "application/vnd.jupyter.widget-view+json": {
       "model_id": "",
       "version_major": 2,
       "version_minor": 0
      },
      "text/plain": [
       "HBox(children=(IntProgress(value=0, max=10), HTML(value='')))"
      ]
     },
     "metadata": {},
     "output_type": "display_data"
    },
    {
     "data": {
      "application/vnd.jupyter.widget-view+json": {
       "model_id": "",
       "version_major": 2,
       "version_minor": 0
      },
      "text/plain": [
       "HBox(children=(IntProgress(value=0, max=10), HTML(value='')))"
      ]
     },
     "metadata": {},
     "output_type": "display_data"
    },
    {
     "data": {
      "application/vnd.jupyter.widget-view+json": {
       "model_id": "",
       "version_major": 2,
       "version_minor": 0
      },
      "text/plain": [
       "HBox(children=(IntProgress(value=0, max=10), HTML(value='')))"
      ]
     },
     "metadata": {},
     "output_type": "display_data"
    },
    {
     "data": {
      "application/vnd.jupyter.widget-view+json": {
       "model_id": "",
       "version_major": 2,
       "version_minor": 0
      },
      "text/plain": [
       "HBox(children=(IntProgress(value=0, max=10), HTML(value='')))"
      ]
     },
     "metadata": {},
     "output_type": "display_data"
    },
    {
     "data": {
      "application/vnd.jupyter.widget-view+json": {
       "model_id": "",
       "version_major": 2,
       "version_minor": 0
      },
      "text/plain": [
       "HBox(children=(IntProgress(value=0, max=10), HTML(value='')))"
      ]
     },
     "metadata": {},
     "output_type": "display_data"
    },
    {
     "data": {
      "application/vnd.jupyter.widget-view+json": {
       "model_id": "",
       "version_major": 2,
       "version_minor": 0
      },
      "text/plain": [
       "HBox(children=(IntProgress(value=0, max=10), HTML(value='')))"
      ]
     },
     "metadata": {},
     "output_type": "display_data"
    },
    {
     "data": {
      "application/vnd.jupyter.widget-view+json": {
       "model_id": "",
       "version_major": 2,
       "version_minor": 0
      },
      "text/plain": [
       "HBox(children=(IntProgress(value=0, max=10), HTML(value='')))"
      ]
     },
     "metadata": {},
     "output_type": "display_data"
    },
    {
     "name": "stdout",
     "output_type": "stream",
     "text": [
      "\n",
      "total elapsed time: 0.08 minutes\n"
     ]
    }
   ],
   "source": [
    "start_time = time.time()\n",
    "\n",
    "master_dictionary = {\n",
    "    row.timestep: {}\n",
    "    for row in tmat_df.itertuples()\n",
    "}\n",
    "sim_matrix_list = []\n",
    "\n",
    "sample_size = int(1e4)\n",
    "trial_size = 10\n",
    "\n",
    "for row in tqdm_notebook(tmat_df.itertuples(), total=tmat_df.shape[0]):\n",
    "    transition_matrix = [row.OnOn, row.OnOff, row.OffOff, row.OffOn]\n",
    "    sim_matrix = generate_sim_data(sample_size, trial_size, transition_matrix)    \n",
    "    \n",
    "    sim_matrix_list.append(sim_matrix)\n",
    "    master_dictionary[row.timestep] = compute_stats(sim_matrix)\n",
    "    \n",
    "print(f'total elapsed time: {(time.time() - start_time)/60:0.2f} minutes')"
   ]
  },
  {
   "cell_type": "code",
   "execution_count": null,
   "metadata": {},
   "outputs": [],
   "source": []
  },
  {
   "cell_type": "code",
   "execution_count": null,
   "metadata": {},
   "outputs": [],
   "source": []
  },
  {
   "cell_type": "markdown",
   "metadata": {},
   "source": [
    "### post-run stats"
   ]
  },
  {
   "cell_type": "code",
   "execution_count": 101,
   "metadata": {},
   "outputs": [],
   "source": [
    "df_dict = {\n",
    "    tstep: (\n",
    "        pd.DataFrame(\n",
    "            stats['state_lengths'], \n",
    "            columns=['duration','frequency']\n",
    "        )\n",
    "        .sort_values('duration')\n",
    "        .reset_index(drop=True)\n",
    "        .assign(timestep = tstep)\n",
    "    )\n",
    "    for tstep, stats in master_dictionary.items()\n",
    "}\n",
    "\n",
    "full_df = pd.concat([df for df in df_dict.values()])\n",
    "assert sum(df.shape[0] for df in df_dict.values()) == full_df.shape[0], 'missing rows'\n",
    "\n",
    "stats_list = [\n",
    "    {\n",
    "        'timestep': timestep,\n",
    "        'mean': stats['mean'],\n",
    "        'std': stats['std']\n",
    "    }\n",
    "    for timestep, stats in master_dictionary.items()\n",
    "]\n",
    "\n",
    "stats_df = pd.DataFrame(stats_list)[['timestep','mean','std']]"
   ]
  },
  {
   "cell_type": "code",
   "execution_count": null,
   "metadata": {},
   "outputs": [],
   "source": []
  },
  {
   "cell_type": "markdown",
   "metadata": {},
   "source": [
    "### dev"
   ]
  },
  {
   "cell_type": "code",
   "execution_count": 103,
   "metadata": {},
   "outputs": [
    {
     "data": {
      "text/html": [
       "<div>\n",
       "<style scoped>\n",
       "    .dataframe tbody tr th:only-of-type {\n",
       "        vertical-align: middle;\n",
       "    }\n",
       "\n",
       "    .dataframe tbody tr th {\n",
       "        vertical-align: top;\n",
       "    }\n",
       "\n",
       "    .dataframe thead th {\n",
       "        text-align: right;\n",
       "    }\n",
       "</style>\n",
       "<table border=\"1\" class=\"dataframe\">\n",
       "  <thead>\n",
       "    <tr style=\"text-align: right;\">\n",
       "      <th></th>\n",
       "      <th>duration</th>\n",
       "      <th>frequency</th>\n",
       "      <th>timestep</th>\n",
       "    </tr>\n",
       "  </thead>\n",
       "  <tbody>\n",
       "    <tr>\n",
       "      <th>0</th>\n",
       "      <td>1</td>\n",
       "      <td>21192</td>\n",
       "      <td>5</td>\n",
       "    </tr>\n",
       "    <tr>\n",
       "      <th>1</th>\n",
       "      <td>2</td>\n",
       "      <td>7504</td>\n",
       "      <td>5</td>\n",
       "    </tr>\n",
       "    <tr>\n",
       "      <th>2</th>\n",
       "      <td>3</td>\n",
       "      <td>86</td>\n",
       "      <td>5</td>\n",
       "    </tr>\n",
       "    <tr>\n",
       "      <th>3</th>\n",
       "      <td>20</td>\n",
       "      <td>1</td>\n",
       "      <td>5</td>\n",
       "    </tr>\n",
       "    <tr>\n",
       "      <th>4</th>\n",
       "      <td>28</td>\n",
       "      <td>1</td>\n",
       "      <td>5</td>\n",
       "    </tr>\n",
       "  </tbody>\n",
       "</table>\n",
       "</div>"
      ],
      "text/plain": [
       "   duration  frequency  timestep\n",
       "0         1      21192         5\n",
       "1         2       7504         5\n",
       "2         3         86         5\n",
       "3        20          1         5\n",
       "4        28          1         5"
      ]
     },
     "execution_count": 103,
     "metadata": {},
     "output_type": "execute_result"
    }
   ],
   "source": [
    "full_df.head()"
   ]
  },
  {
   "cell_type": "code",
   "execution_count": 114,
   "metadata": {},
   "outputs": [
    {
     "data": {
      "image/png": "[encoded data removed]",
      "text/plain": [
       "<Figure size 432x288 with 1 Axes>"
      ]
     },
     "metadata": {},
     "output_type": "display_data"
    }
   ],
   "source": [
    "(full_df\n",
    " .loc[lambda x: x.duration > 10]\n",
    " .groupby('timestep')\n",
    " .frequency\n",
    " .plot\n",
    " .hist(subplots=True, legend=True)\n",
    ");"
   ]
  },
  {
   "cell_type": "code",
   "execution_count": null,
   "metadata": {},
   "outputs": [],
   "source": []
  },
  {
   "cell_type": "code",
   "execution_count": null,
   "metadata": {},
   "outputs": [],
   "source": []
  },
  {
   "cell_type": "code",
   "execution_count": null,
   "metadata": {},
   "outputs": [],
   "source": []
  },
  {
   "cell_type": "markdown",
   "metadata": {},
   "source": [
    "## visualization"
   ]
  },
  {
   "cell_type": "code",
   "execution_count": 117,
   "metadata": {},
   "outputs": [],
   "source": [
    "import altair as alt\n",
    "from altair.expr import datum\n",
    "\n",
    "import matplotlib.pyplot as plt\n",
    "%matplotlib inline\n",
    "import seaborn as sns\n",
    "sns.set(style='darkgrid',rc={'figure.facecolor':'#ABB2BF'})"
   ]
  },
  {
   "cell_type": "markdown",
   "metadata": {},
   "source": [
    "### state lengths vs timestep"
   ]
  },
  {
   "cell_type": "code",
   "execution_count": 160,
   "metadata": {},
   "outputs": [
    {
     "data": {
      "application/vnd.vegalite.v2+json": {
       "$schema": "https://vega.github.io/schema/vega-lite/v2.6.0.json",
       "background": "#abb2bf",
       "config": {
        "view": {
         "height": 300,
         "width": 400
        }
       },
       "datasets": {
        "data-7d81a1dfbbb4b6691b6e91bdee4cd2b0": [
         {
          "duration": 1,
          "frequency": 21192,
          "timestep": 5
         },
         {
          "duration": 2,
          "frequency": 7504,
          "timestep": 5
         },
         {
          "duration": 3,
          "frequency": 86,
          "timestep": 5
         },
         {
          "duration": 20,
          "frequency": 1,
          "timestep": 5
         },
         {
          "duration": 28,
          "frequency": 1,
          "timestep": 5
         },
         {
          "duration": 44,
          "frequency": 1,
          "timestep": 5
         },
         {
          "duration": 59,
          "frequency": 1,
          "timestep": 5
         },
         {
          "duration": 65,
          "frequency": 1,
          "timestep": 5
         },
         {
          "duration": 71,
          "frequency": 1,
          "timestep": 5
         },
         {
          "duration": 79,
          "frequency": 1,
          "timestep": 5
         },
         {
          "duration": 116,
          "frequency": 1,
          "timestep": 5
         },
         {
          "duration": 132,
          "frequency": 1,
          "timestep": 5
         },
         {
          "duration": 138,
          "frequency": 1,
          "timestep": 5
         },
         {
          "duration": 140,
          "frequency": 1,
          "timestep": 5
         },
         {
          "duration": 226,
          "frequency": 1,
          "timestep": 5
         },
         {
          "duration": 250,
          "frequency": 1,
          "timestep": 5
         },
         {
          "duration": 272,
          "frequency": 1,
          "timestep": 5
         },
         {
          "duration": 458,
          "frequency": 1,
          "timestep": 5
         },
         {
          "duration": 502,
          "frequency": 1,
          "timestep": 5
         },
         {
          "duration": 807,
          "frequency": 1,
          "timestep": 5
         },
         {
          "duration": 1,
          "frequency": 21901,
          "timestep": 105
         },
         {
          "duration": 2,
          "frequency": 1702,
          "timestep": 105
         },
         {
          "duration": 3,
          "frequency": 37,
          "timestep": 105
         },
         {
          "duration": 4,
          "frequency": 26,
          "timestep": 105
         },
         {
          "duration": 5,
          "frequency": 17,
          "timestep": 105
         },
         {
          "duration": 6,
          "frequency": 25,
          "timestep": 105
         },
         {
          "duration": 7,
          "frequency": 16,
          "timestep": 105
         },
         {
          "duration": 8,
          "frequency": 17,
          "timestep": 105
         },
         {
          "duration": 9,
          "frequency": 8,
          "timestep": 105
         },
         {
          "duration": 10,
          "frequency": 9,
          "timestep": 105
         },
         {
          "duration": 11,
          "frequency": 12,
          "timestep": 105
         },
         {
          "duration": 12,
          "frequency": 11,
          "timestep": 105
         },
         {
          "duration": 13,
          "frequency": 11,
          "timestep": 105
         },
         {
          "duration": 14,
          "frequency": 9,
          "timestep": 105
         },
         {
          "duration": 15,
          "frequency": 5,
          "timestep": 105
         },
         {
          "duration": 16,
          "frequency": 5,
          "timestep": 105
         },
         {
          "duration": 17,
          "frequency": 6,
          "timestep": 105
         },
         {
          "duration": 18,
          "frequency": 7,
          "timestep": 105
         },
         {
          "duration": 19,
          "frequency": 2,
          "timestep": 105
         },
         {
          "duration": 20,
          "frequency": 4,
          "timestep": 105
         },
         {
          "duration": 21,
          "frequency": 2,
          "timestep": 105
         },
         {
          "duration": 22,
          "frequency": 6,
          "timestep": 105
         },
         {
          "duration": 23,
          "frequency": 3,
          "timestep": 105
         },
         {
          "duration": 24,
          "frequency": 1,
          "timestep": 105
         },
         {
          "duration": 25,
          "frequency": 4,
          "timestep": 105
         },
         {
          "duration": 26,
          "frequency": 1,
          "timestep": 105
         },
         {
          "duration": 27,
          "frequency": 3,
          "timestep": 105
         },
         {
          "duration": 28,
          "frequency": 3,
          "timestep": 105
         },
         {
          "duration": 29,
          "frequency": 3,
          "timestep": 105
         },
         {
          "duration": 30,
          "frequency": 1,
          "timestep": 105
         },
         {
          "duration": 32,
          "frequency": 1,
          "timestep": 105
         },
         {
          "duration": 34,
          "frequency": 1,
          "timestep": 105
         },
         {
          "duration": 35,
          "frequency": 1,
          "timestep": 105
         },
         {
          "duration": 39,
          "frequency": 1,
          "timestep": 105
         },
         {
          "duration": 40,
          "frequency": 1,
          "timestep": 105
         },
         {
          "duration": 41,
          "frequency": 2,
          "timestep": 105
         },
         {
          "duration": 42,
          "frequency": 1,
          "timestep": 105
         },
         {
          "duration": 43,
          "frequency": 1,
          "timestep": 105
         },
         {
          "duration": 44,
          "frequency": 1,
          "timestep": 105
         },
         {
          "duration": 46,
          "frequency": 3,
          "timestep": 105
         },
         {
          "duration": 49,
          "frequency": 1,
          "timestep": 105
         },
         {
          "duration": 50,
          "frequency": 2,
          "timestep": 105
         },
         {
          "duration": 51,
          "frequency": 1,
          "timestep": 105
         },
         {
          "duration": 53,
          "frequency": 1,
          "timestep": 105
         },
         {
          "duration": 56,
          "frequency": 1,
          "timestep": 105
         },
         {
          "duration": 57,
          "frequency": 3,
          "timestep": 105
         },
         {
          "duration": 58,
          "frequency": 1,
          "timestep": 105
         },
         {
          "duration": 61,
          "frequency": 1,
          "timestep": 105
         },
         {
          "duration": 66,
          "frequency": 2,
          "timestep": 105
         },
         {
          "duration": 70,
          "frequency": 2,
          "timestep": 105
         },
         {
          "duration": 72,
          "frequency": 1,
          "timestep": 105
         },
         {
          "duration": 80,
          "frequency": 1,
          "timestep": 105
         },
         {
          "duration": 81,
          "frequency": 1,
          "timestep": 105
         },
         {
          "duration": 89,
          "frequency": 1,
          "timestep": 105
         },
         {
          "duration": 91,
          "frequency": 1,
          "timestep": 105
         },
         {
          "duration": 98,
          "frequency": 1,
          "timestep": 105
         },
         {
          "duration": 101,
          "frequency": 1,
          "timestep": 105
         },
         {
          "duration": 106,
          "frequency": 1,
          "timestep": 105
         },
         {
          "duration": 107,
          "frequency": 1,
          "timestep": 105
         },
         {
          "duration": 111,
          "frequency": 1,
          "timestep": 105
         },
         {
          "duration": 112,
          "frequency": 1,
          "timestep": 105
         },
         {
          "duration": 113,
          "frequency": 1,
          "timestep": 105
         },
         {
          "duration": 114,
          "frequency": 1,
          "timestep": 105
         },
         {
          "duration": 116,
          "frequency": 1,
          "timestep": 105
         },
         {
          "duration": 117,
          "frequency": 1,
          "timestep": 105
         },
         {
          "duration": 118,
          "frequency": 1,
          "timestep": 105
         },
         {
          "duration": 119,
          "frequency": 1,
          "timestep": 105
         },
         {
          "duration": 120,
          "frequency": 1,
          "timestep": 105
         },
         {
          "duration": 126,
          "frequency": 1,
          "timestep": 105
         },
         {
          "duration": 138,
          "frequency": 1,
          "timestep": 105
         },
         {
          "duration": 141,
          "frequency": 1,
          "timestep": 105
         },
         {
          "duration": 147,
          "frequency": 1,
          "timestep": 105
         },
         {
          "duration": 159,
          "frequency": 1,
          "timestep": 105
         },
         {
          "duration": 177,
          "frequency": 2,
          "timestep": 105
         },
         {
          "duration": 190,
          "frequency": 1,
          "timestep": 105
         },
         {
          "duration": 195,
          "frequency": 2,
          "timestep": 105
         },
         {
          "duration": 197,
          "frequency": 1,
          "timestep": 105
         },
         {
          "duration": 203,
          "frequency": 1,
          "timestep": 105
         },
         {
          "duration": 204,
          "frequency": 1,
          "timestep": 105
         },
         {
          "duration": 211,
          "frequency": 1,
          "timestep": 105
         },
         {
          "duration": 217,
          "frequency": 1,
          "timestep": 105
         },
         {
          "duration": 245,
          "frequency": 1,
          "timestep": 105
         },
         {
          "duration": 251,
          "frequency": 1,
          "timestep": 105
         },
         {
          "duration": 276,
          "frequency": 1,
          "timestep": 105
         },
         {
          "duration": 332,
          "frequency": 1,
          "timestep": 105
         },
         {
          "duration": 342,
          "frequency": 1,
          "timestep": 105
         },
         {
          "duration": 352,
          "frequency": 1,
          "timestep": 105
         },
         {
          "duration": 373,
          "frequency": 1,
          "timestep": 105
         },
         {
          "duration": 388,
          "frequency": 1,
          "timestep": 105
         },
         {
          "duration": 471,
          "frequency": 1,
          "timestep": 105
         },
         {
          "duration": 561,
          "frequency": 1,
          "timestep": 105
         },
         {
          "duration": 565,
          "frequency": 1,
          "timestep": 105
         },
         {
          "duration": 671,
          "frequency": 1,
          "timestep": 105
         },
         {
          "duration": 1,
          "frequency": 19890,
          "timestep": 205
         },
         {
          "duration": 2,
          "frequency": 6914,
          "timestep": 205
         },
         {
          "duration": 3,
          "frequency": 729,
          "timestep": 205
         },
         {
          "duration": 4,
          "frequency": 193,
          "timestep": 205
         },
         {
          "duration": 5,
          "frequency": 66,
          "timestep": 205
         },
         {
          "duration": 6,
          "frequency": 40,
          "timestep": 205
         },
         {
          "duration": 7,
          "frequency": 25,
          "timestep": 205
         },
         {
          "duration": 8,
          "frequency": 16,
          "timestep": 205
         },
         {
          "duration": 9,
          "frequency": 19,
          "timestep": 205
         },
         {
          "duration": 10,
          "frequency": 16,
          "timestep": 205
         },
         {
          "duration": 11,
          "frequency": 8,
          "timestep": 205
         },
         {
          "duration": 12,
          "frequency": 10,
          "timestep": 205
         },
         {
          "duration": 13,
          "frequency": 5,
          "timestep": 205
         },
         {
          "duration": 14,
          "frequency": 2,
          "timestep": 205
         },
         {
          "duration": 15,
          "frequency": 4,
          "timestep": 205
         },
         {
          "duration": 16,
          "frequency": 4,
          "timestep": 205
         },
         {
          "duration": 17,
          "frequency": 5,
          "timestep": 205
         },
         {
          "duration": 18,
          "frequency": 4,
          "timestep": 205
         },
         {
          "duration": 19,
          "frequency": 6,
          "timestep": 205
         },
         {
          "duration": 20,
          "frequency": 5,
          "timestep": 205
         },
         {
          "duration": 21,
          "frequency": 3,
          "timestep": 205
         },
         {
          "duration": 22,
          "frequency": 1,
          "timestep": 205
         },
         {
          "duration": 23,
          "frequency": 4,
          "timestep": 205
         },
         {
          "duration": 24,
          "frequency": 1,
          "timestep": 205
         },
         {
          "duration": 25,
          "frequency": 1,
          "timestep": 205
         },
         {
          "duration": 31,
          "frequency": 1,
          "timestep": 205
         },
         {
          "duration": 32,
          "frequency": 2,
          "timestep": 205
         },
         {
          "duration": 33,
          "frequency": 1,
          "timestep": 205
         },
         {
          "duration": 34,
          "frequency": 1,
          "timestep": 205
         },
         {
          "duration": 35,
          "frequency": 1,
          "timestep": 205
         },
         {
          "duration": 36,
          "frequency": 1,
          "timestep": 205
         },
         {
          "duration": 39,
          "frequency": 1,
          "timestep": 205
         },
         {
          "duration": 40,
          "frequency": 2,
          "timestep": 205
         },
         {
          "duration": 41,
          "frequency": 1,
          "timestep": 205
         },
         {
          "duration": 42,
          "frequency": 1,
          "timestep": 205
         },
         {
          "duration": 43,
          "frequency": 1,
          "timestep": 205
         },
         {
          "duration": 44,
          "frequency": 1,
          "timestep": 205
         },
         {
          "duration": 48,
          "frequency": 1,
          "timestep": 205
         },
         {
          "duration": 49,
          "frequency": 1,
          "timestep": 205
         },
         {
          "duration": 55,
          "frequency": 1,
          "timestep": 205
         },
         {
          "duration": 56,
          "frequency": 2,
          "timestep": 205
         },
         {
          "duration": 57,
          "frequency": 1,
          "timestep": 205
         },
         {
          "duration": 58,
          "frequency": 2,
          "timestep": 205
         },
         {
          "duration": 59,
          "frequency": 1,
          "timestep": 205
         },
         {
          "duration": 60,
          "frequency": 2,
          "timestep": 205
         },
         {
          "duration": 66,
          "frequency": 1,
          "timestep": 205
         },
         {
          "duration": 70,
          "frequency": 2,
          "timestep": 205
         },
         {
          "duration": 71,
          "frequency": 2,
          "timestep": 205
         },
         {
          "duration": 74,
          "frequency": 2,
          "timestep": 205
         },
         {
          "duration": 79,
          "frequency": 1,
          "timestep": 205
         },
         {
          "duration": 80,
          "frequency": 1,
          "timestep": 205
         },
         {
          "duration": 84,
          "frequency": 1,
          "timestep": 205
         },
         {
          "duration": 86,
          "frequency": 1,
          "timestep": 205
         },
         {
          "duration": 87,
          "frequency": 1,
          "timestep": 205
         },
         {
          "duration": 89,
          "frequency": 1,
          "timestep": 205
         },
         {
          "duration": 93,
          "frequency": 1,
          "timestep": 205
         },
         {
          "duration": 95,
          "frequency": 1,
          "timestep": 205
         },
         {
          "duration": 96,
          "frequency": 1,
          "timestep": 205
         },
         {
          "duration": 98,
          "frequency": 1,
          "timestep": 205
         },
         {
          "duration": 104,
          "frequency": 1,
          "timestep": 205
         },
         {
          "duration": 113,
          "frequency": 1,
          "timestep": 205
         },
         {
          "duration": 114,
          "frequency": 1,
          "timestep": 205
         },
         {
          "duration": 127,
          "frequency": 1,
          "timestep": 205
         },
         {
          "duration": 157,
          "frequency": 1,
          "timestep": 205
         },
         {
          "duration": 167,
          "frequency": 1,
          "timestep": 205
         },
         {
          "duration": 168,
          "frequency": 1,
          "timestep": 205
         },
         {
          "duration": 172,
          "frequency": 1,
          "timestep": 205
         },
         {
          "duration": 216,
          "frequency": 1,
          "timestep": 205
         },
         {
          "duration": 220,
          "frequency": 1,
          "timestep": 205
         },
         {
          "duration": 228,
          "frequency": 1,
          "timestep": 205
         },
         {
          "duration": 233,
          "frequency": 1,
          "timestep": 205
         },
         {
          "duration": 244,
          "frequency": 1,
          "timestep": 205
         },
         {
          "duration": 264,
          "frequency": 1,
          "timestep": 205
         },
         {
          "duration": 291,
          "frequency": 1,
          "timestep": 205
         },
         {
          "duration": 346,
          "frequency": 1,
          "timestep": 205
         },
         {
          "duration": 1,
          "frequency": 15427,
          "timestep": 305
         },
         {
          "duration": 2,
          "frequency": 6479,
          "timestep": 305
         },
         {
          "duration": 3,
          "frequency": 1193,
          "timestep": 305
         },
         {
          "duration": 4,
          "frequency": 325,
          "timestep": 305
         },
         {
          "duration": 5,
          "frequency": 139,
          "timestep": 305
         },
         {
          "duration": 6,
          "frequency": 68,
          "timestep": 305
         },
         {
          "duration": 7,
          "frequency": 28,
          "timestep": 305
         },
         {
          "duration": 8,
          "frequency": 23,
          "timestep": 305
         },
         {
          "duration": 9,
          "frequency": 23,
          "timestep": 305
         },
         {
          "duration": 10,
          "frequency": 16,
          "timestep": 305
         },
         {
          "duration": 11,
          "frequency": 14,
          "timestep": 305
         },
         {
          "duration": 12,
          "frequency": 9,
          "timestep": 305
         },
         {
          "duration": 13,
          "frequency": 7,
          "timestep": 305
         },
         {
          "duration": 14,
          "frequency": 7,
          "timestep": 305
         },
         {
          "duration": 15,
          "frequency": 4,
          "timestep": 305
         },
         {
          "duration": 16,
          "frequency": 6,
          "timestep": 305
         },
         {
          "duration": 17,
          "frequency": 5,
          "timestep": 305
         },
         {
          "duration": 18,
          "frequency": 5,
          "timestep": 305
         },
         {
          "duration": 19,
          "frequency": 3,
          "timestep": 305
         },
         {
          "duration": 20,
          "frequency": 4,
          "timestep": 305
         },
         {
          "duration": 21,
          "frequency": 4,
          "timestep": 305
         },
         {
          "duration": 22,
          "frequency": 3,
          "timestep": 305
         },
         {
          "duration": 23,
          "frequency": 4,
          "timestep": 305
         },
         {
          "duration": 24,
          "frequency": 3,
          "timestep": 305
         },
         {
          "duration": 25,
          "frequency": 3,
          "timestep": 305
         },
         {
          "duration": 27,
          "frequency": 3,
          "timestep": 305
         },
         {
          "duration": 28,
          "frequency": 4,
          "timestep": 305
         },
         {
          "duration": 29,
          "frequency": 3,
          "timestep": 305
         },
         {
          "duration": 30,
          "frequency": 2,
          "timestep": 305
         },
         {
          "duration": 31,
          "frequency": 5,
          "timestep": 305
         },
         {
          "duration": 32,
          "frequency": 4,
          "timestep": 305
         },
         {
          "duration": 33,
          "frequency": 2,
          "timestep": 305
         },
         {
          "duration": 34,
          "frequency": 2,
          "timestep": 305
         },
         {
          "duration": 35,
          "frequency": 5,
          "timestep": 305
         },
         {
          "duration": 37,
          "frequency": 2,
          "timestep": 305
         },
         {
          "duration": 40,
          "frequency": 2,
          "timestep": 305
         },
         {
          "duration": 41,
          "frequency": 1,
          "timestep": 305
         },
         {
          "duration": 42,
          "frequency": 1,
          "timestep": 305
         },
         {
          "duration": 43,
          "frequency": 2,
          "timestep": 305
         },
         {
          "duration": 44,
          "frequency": 2,
          "timestep": 305
         },
         {
          "duration": 47,
          "frequency": 2,
          "timestep": 305
         },
         {
          "duration": 48,
          "frequency": 1,
          "timestep": 305
         },
         {
          "duration": 50,
          "frequency": 1,
          "timestep": 305
         },
         {
          "duration": 51,
          "frequency": 4,
          "timestep": 305
         },
         {
          "duration": 52,
          "frequency": 2,
          "timestep": 305
         },
         {
          "duration": 53,
          "frequency": 1,
          "timestep": 305
         },
         {
          "duration": 54,
          "frequency": 3,
          "timestep": 305
         },
         {
          "duration": 56,
          "frequency": 1,
          "timestep": 305
         },
         {
          "duration": 58,
          "frequency": 1,
          "timestep": 305
         },
         {
          "duration": 59,
          "frequency": 1,
          "timestep": 305
         },
         {
          "duration": 60,
          "frequency": 2,
          "timestep": 305
         },
         {
          "duration": 61,
          "frequency": 2,
          "timestep": 305
         },
         {
          "duration": 62,
          "frequency": 3,
          "timestep": 305
         },
         {
          "duration": 63,
          "frequency": 2,
          "timestep": 305
         },
         {
          "duration": 65,
          "frequency": 1,
          "timestep": 305
         },
         {
          "duration": 67,
          "frequency": 2,
          "timestep": 305
         },
         {
          "duration": 68,
          "frequency": 1,
          "timestep": 305
         },
         {
          "duration": 71,
          "frequency": 3,
          "timestep": 305
         },
         {
          "duration": 72,
          "frequency": 1,
          "timestep": 305
         },
         {
          "duration": 74,
          "frequency": 1,
          "timestep": 305
         },
         {
          "duration": 75,
          "frequency": 2,
          "timestep": 305
         },
         {
          "duration": 76,
          "frequency": 4,
          "timestep": 305
         },
         {
          "duration": 77,
          "frequency": 1,
          "timestep": 305
         },
         {
          "duration": 79,
          "frequency": 2,
          "timestep": 305
         },
         {
          "duration": 80,
          "frequency": 2,
          "timestep": 305
         },
         {
          "duration": 83,
          "frequency": 2,
          "timestep": 305
         },
         {
          "duration": 84,
          "frequency": 1,
          "timestep": 305
         },
         {
          "duration": 88,
          "frequency": 1,
          "timestep": 305
         },
         {
          "duration": 92,
          "frequency": 1,
          "timestep": 305
         },
         {
          "duration": 93,
          "frequency": 1,
          "timestep": 305
         },
         {
          "duration": 94,
          "frequency": 1,
          "timestep": 305
         },
         {
          "duration": 95,
          "frequency": 1,
          "timestep": 305
         },
         {
          "duration": 96,
          "frequency": 1,
          "timestep": 305
         },
         {
          "duration": 98,
          "frequency": 1,
          "timestep": 305
         },
         {
          "duration": 99,
          "frequency": 1,
          "timestep": 305
         },
         {
          "duration": 104,
          "frequency": 1,
          "timestep": 305
         },
         {
          "duration": 107,
          "frequency": 2,
          "timestep": 305
         },
         {
          "duration": 111,
          "frequency": 1,
          "timestep": 305
         },
         {
          "duration": 135,
          "frequency": 1,
          "timestep": 305
         },
         {
          "duration": 141,
          "frequency": 1,
          "timestep": 305
         },
         {
          "duration": 151,
          "frequency": 2,
          "timestep": 305
         },
         {
          "duration": 152,
          "frequency": 1,
          "timestep": 305
         },
         {
          "duration": 158,
          "frequency": 1,
          "timestep": 305
         },
         {
          "duration": 170,
          "frequency": 1,
          "timestep": 305
         },
         {
          "duration": 173,
          "frequency": 1,
          "timestep": 305
         },
         {
          "duration": 283,
          "frequency": 1,
          "timestep": 305
         },
         {
          "duration": 295,
          "frequency": 1,
          "timestep": 305
         },
         {
          "duration": 1,
          "frequency": 12872,
          "timestep": 405
         },
         {
          "duration": 2,
          "frequency": 6595,
          "timestep": 405
         },
         {
          "duration": 3,
          "frequency": 1402,
          "timestep": 405
         },
         {
          "duration": 4,
          "frequency": 447,
          "timestep": 405
         },
         {
          "duration": 5,
          "frequency": 193,
          "timestep": 405
         },
         {
          "duration": 6,
          "frequency": 81,
          "timestep": 405
         },
         {
          "duration": 7,
          "frequency": 59,
          "timestep": 405
         },
         {
          "duration": 8,
          "frequency": 42,
          "timestep": 405
         },
         {
          "duration": 9,
          "frequency": 38,
          "timestep": 405
         },
         {
          "duration": 10,
          "frequency": 20,
          "timestep": 405
         },
         {
          "duration": 11,
          "frequency": 24,
          "timestep": 405
         },
         {
          "duration": 12,
          "frequency": 13,
          "timestep": 405
         },
         {
          "duration": 13,
          "frequency": 7,
          "timestep": 405
         },
         {
          "duration": 14,
          "frequency": 11,
          "timestep": 405
         },
         {
          "duration": 15,
          "frequency": 9,
          "timestep": 405
         },
         {
          "duration": 16,
          "frequency": 4,
          "timestep": 405
         },
         {
          "duration": 17,
          "frequency": 3,
          "timestep": 405
         },
         {
          "duration": 18,
          "frequency": 4,
          "timestep": 405
         },
         {
          "duration": 19,
          "frequency": 5,
          "timestep": 405
         },
         {
          "duration": 20,
          "frequency": 3,
          "timestep": 405
         },
         {
          "duration": 21,
          "frequency": 4,
          "timestep": 405
         },
         {
          "duration": 22,
          "frequency": 4,
          "timestep": 405
         },
         {
          "duration": 23,
          "frequency": 2,
          "timestep": 405
         },
         {
          "duration": 24,
          "frequency": 3,
          "timestep": 405
         },
         {
          "duration": 25,
          "frequency": 7,
          "timestep": 405
         },
         {
          "duration": 26,
          "frequency": 1,
          "timestep": 405
         },
         {
          "duration": 27,
          "frequency": 1,
          "timestep": 405
         },
         {
          "duration": 28,
          "frequency": 2,
          "timestep": 405
         },
         {
          "duration": 30,
          "frequency": 2,
          "timestep": 405
         },
         {
          "duration": 31,
          "frequency": 4,
          "timestep": 405
         },
         {
          "duration": 32,
          "frequency": 2,
          "timestep": 405
         },
         {
          "duration": 33,
          "frequency": 2,
          "timestep": 405
         },
         {
          "duration": 34,
          "frequency": 2,
          "timestep": 405
         },
         {
          "duration": 35,
          "frequency": 1,
          "timestep": 405
         },
         {
          "duration": 37,
          "frequency": 3,
          "timestep": 405
         },
         {
          "duration": 38,
          "frequency": 2,
          "timestep": 405
         },
         {
          "duration": 39,
          "frequency": 2,
          "timestep": 405
         },
         {
          "duration": 41,
          "frequency": 3,
          "timestep": 405
         },
         {
          "duration": 42,
          "frequency": 2,
          "timestep": 405
         },
         {
          "duration": 43,
          "frequency": 2,
          "timestep": 405
         },
         {
          "duration": 45,
          "frequency": 1,
          "timestep": 405
         },
         {
          "duration": 46,
          "frequency": 1,
          "timestep": 405
         },
         {
          "duration": 47,
          "frequency": 1,
          "timestep": 405
         },
         {
          "duration": 48,
          "frequency": 1,
          "timestep": 405
         },
         {
          "duration": 49,
          "frequency": 3,
          "timestep": 405
         },
         {
          "duration": 50,
          "frequency": 1,
          "timestep": 405
         },
         {
          "duration": 53,
          "frequency": 1,
          "timestep": 405
         },
         {
          "duration": 54,
          "frequency": 1,
          "timestep": 405
         },
         {
          "duration": 55,
          "frequency": 1,
          "timestep": 405
         },
         {
          "duration": 57,
          "frequency": 1,
          "timestep": 405
         },
         {
          "duration": 58,
          "frequency": 2,
          "timestep": 405
         },
         {
          "duration": 59,
          "frequency": 3,
          "timestep": 405
         },
         {
          "duration": 62,
          "frequency": 1,
          "timestep": 405
         },
         {
          "duration": 63,
          "frequency": 1,
          "timestep": 405
         },
         {
          "duration": 64,
          "frequency": 1,
          "timestep": 405
         },
         {
          "duration": 65,
          "frequency": 1,
          "timestep": 405
         },
         {
          "duration": 66,
          "frequency": 1,
          "timestep": 405
         },
         {
          "duration": 67,
          "frequency": 1,
          "timestep": 405
         },
         {
          "duration": 68,
          "frequency": 2,
          "timestep": 405
         },
         {
          "duration": 69,
          "frequency": 2,
          "timestep": 405
         },
         {
          "duration": 70,
          "frequency": 1,
          "timestep": 405
         },
         {
          "duration": 73,
          "frequency": 1,
          "timestep": 405
         },
         {
          "duration": 77,
          "frequency": 1,
          "timestep": 405
         },
         {
          "duration": 79,
          "frequency": 2,
          "timestep": 405
         },
         {
          "duration": 80,
          "frequency": 1,
          "timestep": 405
         },
         {
          "duration": 81,
          "frequency": 1,
          "timestep": 405
         },
         {
          "duration": 82,
          "frequency": 1,
          "timestep": 405
         },
         {
          "duration": 89,
          "frequency": 1,
          "timestep": 405
         },
         {
          "duration": 94,
          "frequency": 1,
          "timestep": 405
         },
         {
          "duration": 96,
          "frequency": 1,
          "timestep": 405
         },
         {
          "duration": 104,
          "frequency": 2,
          "timestep": 405
         },
         {
          "duration": 108,
          "frequency": 1,
          "timestep": 405
         },
         {
          "duration": 115,
          "frequency": 1,
          "timestep": 405
         },
         {
          "duration": 123,
          "frequency": 1,
          "timestep": 405
         },
         {
          "duration": 163,
          "frequency": 1,
          "timestep": 405
         },
         {
          "duration": 197,
          "frequency": 1,
          "timestep": 405
         },
         {
          "duration": 1,
          "frequency": 14940,
          "timestep": 505
         },
         {
          "duration": 2,
          "frequency": 8096,
          "timestep": 505
         },
         {
          "duration": 3,
          "frequency": 2328,
          "timestep": 505
         },
         {
          "duration": 4,
          "frequency": 729,
          "timestep": 505
         },
         {
          "duration": 5,
          "frequency": 235,
          "timestep": 505
         },
         {
          "duration": 6,
          "frequency": 88,
          "timestep": 505
         },
         {
          "duration": 7,
          "frequency": 34,
          "timestep": 505
         },
         {
          "duration": 8,
          "frequency": 18,
          "timestep": 505
         },
         {
          "duration": 9,
          "frequency": 8,
          "timestep": 505
         },
         {
          "duration": 10,
          "frequency": 7,
          "timestep": 505
         },
         {
          "duration": 11,
          "frequency": 7,
          "timestep": 505
         },
         {
          "duration": 12,
          "frequency": 7,
          "timestep": 505
         },
         {
          "duration": 13,
          "frequency": 8,
          "timestep": 505
         },
         {
          "duration": 14,
          "frequency": 7,
          "timestep": 505
         },
         {
          "duration": 15,
          "frequency": 7,
          "timestep": 505
         },
         {
          "duration": 16,
          "frequency": 4,
          "timestep": 505
         },
         {
          "duration": 17,
          "frequency": 4,
          "timestep": 505
         },
         {
          "duration": 18,
          "frequency": 5,
          "timestep": 505
         },
         {
          "duration": 19,
          "frequency": 4,
          "timestep": 505
         },
         {
          "duration": 20,
          "frequency": 9,
          "timestep": 505
         },
         {
          "duration": 21,
          "frequency": 2,
          "timestep": 505
         },
         {
          "duration": 22,
          "frequency": 6,
          "timestep": 505
         },
         {
          "duration": 23,
          "frequency": 4,
          "timestep": 505
         },
         {
          "duration": 24,
          "frequency": 6,
          "timestep": 505
         },
         {
          "duration": 25,
          "frequency": 3,
          "timestep": 505
         },
         {
          "duration": 26,
          "frequency": 5,
          "timestep": 505
         },
         {
          "duration": 27,
          "frequency": 3,
          "timestep": 505
         },
         {
          "duration": 28,
          "frequency": 6,
          "timestep": 505
         },
         {
          "duration": 29,
          "frequency": 5,
          "timestep": 505
         },
         {
          "duration": 31,
          "frequency": 2,
          "timestep": 505
         },
         {
          "duration": 32,
          "frequency": 4,
          "timestep": 505
         },
         {
          "duration": 33,
          "frequency": 4,
          "timestep": 505
         },
         {
          "duration": 34,
          "frequency": 5,
          "timestep": 505
         },
         {
          "duration": 35,
          "frequency": 6,
          "timestep": 505
         },
         {
          "duration": 36,
          "frequency": 2,
          "timestep": 505
         },
         {
          "duration": 37,
          "frequency": 6,
          "timestep": 505
         },
         {
          "duration": 38,
          "frequency": 4,
          "timestep": 505
         },
         {
          "duration": 39,
          "frequency": 4,
          "timestep": 505
         },
         {
          "duration": 40,
          "frequency": 5,
          "timestep": 505
         },
         {
          "duration": 41,
          "frequency": 2,
          "timestep": 505
         },
         {
          "duration": 42,
          "frequency": 1,
          "timestep": 505
         },
         {
          "duration": 43,
          "frequency": 4,
          "timestep": 505
         },
         {
          "duration": 44,
          "frequency": 1,
          "timestep": 505
         },
         {
          "duration": 45,
          "frequency": 2,
          "timestep": 505
         },
         {
          "duration": 46,
          "frequency": 2,
          "timestep": 505
         },
         {
          "duration": 47,
          "frequency": 3,
          "timestep": 505
         },
         {
          "duration": 48,
          "frequency": 4,
          "timestep": 505
         },
         {
          "duration": 51,
          "frequency": 1,
          "timestep": 505
         },
         {
          "duration": 52,
          "frequency": 5,
          "timestep": 505
         },
         {
          "duration": 53,
          "frequency": 1,
          "timestep": 505
         },
         {
          "duration": 54,
          "frequency": 1,
          "timestep": 505
         },
         {
          "duration": 55,
          "frequency": 1,
          "timestep": 505
         },
         {
          "duration": 58,
          "frequency": 2,
          "timestep": 505
         },
         {
          "duration": 60,
          "frequency": 2,
          "timestep": 505
         },
         {
          "duration": 63,
          "frequency": 2,
          "timestep": 505
         },
         {
          "duration": 64,
          "frequency": 1,
          "timestep": 505
         },
         {
          "duration": 66,
          "frequency": 3,
          "timestep": 505
         },
         {
          "duration": 67,
          "frequency": 1,
          "timestep": 505
         },
         {
          "duration": 69,
          "frequency": 2,
          "timestep": 505
         },
         {
          "duration": 70,
          "frequency": 1,
          "timestep": 505
         },
         {
          "duration": 73,
          "frequency": 5,
          "timestep": 505
         },
         {
          "duration": 78,
          "frequency": 1,
          "timestep": 505
         },
         {
          "duration": 79,
          "frequency": 2,
          "timestep": 505
         },
         {
          "duration": 82,
          "frequency": 1,
          "timestep": 505
         },
         {
          "duration": 85,
          "frequency": 1,
          "timestep": 505
         },
         {
          "duration": 86,
          "frequency": 1,
          "timestep": 505
         },
         {
          "duration": 90,
          "frequency": 2,
          "timestep": 505
         },
         {
          "duration": 95,
          "frequency": 1,
          "timestep": 505
         },
         {
          "duration": 97,
          "frequency": 1,
          "timestep": 505
         },
         {
          "duration": 229,
          "frequency": 1,
          "timestep": 505
         },
         {
          "duration": 1,
          "frequency": 19390,
          "timestep": 605
         },
         {
          "duration": 2,
          "frequency": 5057,
          "timestep": 605
         },
         {
          "duration": 3,
          "frequency": 991,
          "timestep": 605
         },
         {
          "duration": 4,
          "frequency": 357,
          "timestep": 605
         },
         {
          "duration": 5,
          "frequency": 168,
          "timestep": 605
         },
         {
          "duration": 6,
          "frequency": 74,
          "timestep": 605
         },
         {
          "duration": 7,
          "frequency": 41,
          "timestep": 605
         },
         {
          "duration": 8,
          "frequency": 32,
          "timestep": 605
         },
         {
          "duration": 9,
          "frequency": 29,
          "timestep": 605
         },
         {
          "duration": 10,
          "frequency": 25,
          "timestep": 605
         },
         {
          "duration": 11,
          "frequency": 15,
          "timestep": 605
         },
         {
          "duration": 12,
          "frequency": 21,
          "timestep": 605
         },
         {
          "duration": 13,
          "frequency": 14,
          "timestep": 605
         },
         {
          "duration": 14,
          "frequency": 15,
          "timestep": 605
         },
         {
          "duration": 15,
          "frequency": 14,
          "timestep": 605
         },
         {
          "duration": 16,
          "frequency": 11,
          "timestep": 605
         },
         {
          "duration": 17,
          "frequency": 12,
          "timestep": 605
         },
         {
          "duration": 18,
          "frequency": 14,
          "timestep": 605
         },
         {
          "duration": 19,
          "frequency": 14,
          "timestep": 605
         },
         {
          "duration": 20,
          "frequency": 11,
          "timestep": 605
         },
         {
          "duration": 21,
          "frequency": 10,
          "timestep": 605
         },
         {
          "duration": 22,
          "frequency": 14,
          "timestep": 605
         },
         {
          "duration": 23,
          "frequency": 4,
          "timestep": 605
         },
         {
          "duration": 24,
          "frequency": 8,
          "timestep": 605
         },
         {
          "duration": 25,
          "frequency": 9,
          "timestep": 605
         },
         {
          "duration": 26,
          "frequency": 7,
          "timestep": 605
         },
         {
          "duration": 27,
          "frequency": 6,
          "timestep": 605
         },
         {
          "duration": 28,
          "frequency": 3,
          "timestep": 605
         },
         {
          "duration": 29,
          "frequency": 8,
          "timestep": 605
         },
         {
          "duration": 30,
          "frequency": 5,
          "timestep": 605
         },
         {
          "duration": 31,
          "frequency": 7,
          "timestep": 605
         },
         {
          "duration": 32,
          "frequency": 3,
          "timestep": 605
         },
         {
          "duration": 33,
          "frequency": 7,
          "timestep": 605
         },
         {
          "duration": 34,
          "frequency": 5,
          "timestep": 605
         },
         {
          "duration": 35,
          "frequency": 6,
          "timestep": 605
         },
         {
          "duration": 36,
          "frequency": 6,
          "timestep": 605
         },
         {
          "duration": 37,
          "frequency": 8,
          "timestep": 605
         },
         {
          "duration": 38,
          "frequency": 3,
          "timestep": 605
         },
         {
          "duration": 39,
          "frequency": 4,
          "timestep": 605
         },
         {
          "duration": 40,
          "frequency": 2,
          "timestep": 605
         },
         {
          "duration": 41,
          "frequency": 7,
          "timestep": 605
         },
         {
          "duration": 42,
          "frequency": 3,
          "timestep": 605
         },
         {
          "duration": 44,
          "frequency": 3,
          "timestep": 605
         },
         {
          "duration": 45,
          "frequency": 4,
          "timestep": 605
         },
         {
          "duration": 46,
          "frequency": 2,
          "timestep": 605
         },
         {
          "duration": 47,
          "frequency": 3,
          "timestep": 605
         },
         {
          "duration": 48,
          "frequency": 8,
          "timestep": 605
         },
         {
          "duration": 49,
          "frequency": 2,
          "timestep": 605
         },
         {
          "duration": 50,
          "frequency": 4,
          "timestep": 605
         },
         {
          "duration": 51,
          "frequency": 3,
          "timestep": 605
         },
         {
          "duration": 52,
          "frequency": 1,
          "timestep": 605
         },
         {
          "duration": 53,
          "frequency": 4,
          "timestep": 605
         },
         {
          "duration": 54,
          "frequency": 2,
          "timestep": 605
         },
         {
          "duration": 55,
          "frequency": 1,
          "timestep": 605
         },
         {
          "duration": 56,
          "frequency": 2,
          "timestep": 605
         },
         {
          "duration": 57,
          "frequency": 1,
          "timestep": 605
         },
         {
          "duration": 58,
          "frequency": 4,
          "timestep": 605
         },
         {
          "duration": 59,
          "frequency": 2,
          "timestep": 605
         },
         {
          "duration": 61,
          "frequency": 2,
          "timestep": 605
         },
         {
          "duration": 62,
          "frequency": 2,
          "timestep": 605
         },
         {
          "duration": 63,
          "frequency": 2,
          "timestep": 605
         },
         {
          "duration": 66,
          "frequency": 1,
          "timestep": 605
         },
         {
          "duration": 67,
          "frequency": 1,
          "timestep": 605
         },
         {
          "duration": 68,
          "frequency": 2,
          "timestep": 605
         },
         {
          "duration": 69,
          "frequency": 1,
          "timestep": 605
         },
         {
          "duration": 71,
          "frequency": 1,
          "timestep": 605
         },
         {
          "duration": 72,
          "frequency": 1,
          "timestep": 605
         },
         {
          "duration": 74,
          "frequency": 1,
          "timestep": 605
         },
         {
          "duration": 77,
          "frequency": 2,
          "timestep": 605
         },
         {
          "duration": 78,
          "frequency": 2,
          "timestep": 605
         },
         {
          "duration": 80,
          "frequency": 1,
          "timestep": 605
         },
         {
          "duration": 84,
          "frequency": 1,
          "timestep": 605
         },
         {
          "duration": 85,
          "frequency": 3,
          "timestep": 605
         },
         {
          "duration": 87,
          "frequency": 2,
          "timestep": 605
         },
         {
          "duration": 89,
          "frequency": 1,
          "timestep": 605
         },
         {
          "duration": 91,
          "frequency": 2,
          "timestep": 605
         },
         {
          "duration": 94,
          "frequency": 1,
          "timestep": 605
         },
         {
          "duration": 95,
          "frequency": 2,
          "timestep": 605
         },
         {
          "duration": 111,
          "frequency": 1,
          "timestep": 605
         },
         {
          "duration": 115,
          "frequency": 1,
          "timestep": 605
         },
         {
          "duration": 120,
          "frequency": 1,
          "timestep": 605
         },
         {
          "duration": 126,
          "frequency": 1,
          "timestep": 605
         },
         {
          "duration": 153,
          "frequency": 1,
          "timestep": 605
         },
         {
          "duration": 159,
          "frequency": 1,
          "timestep": 605
         },
         {
          "duration": 164,
          "frequency": 1,
          "timestep": 605
         },
         {
          "duration": 1,
          "frequency": 15223,
          "timestep": 705
         },
         {
          "duration": 2,
          "frequency": 7611,
          "timestep": 705
         },
         {
          "duration": 3,
          "frequency": 1567,
          "timestep": 705
         },
         {
          "duration": 4,
          "frequency": 637,
          "timestep": 705
         },
         {
          "duration": 5,
          "frequency": 286,
          "timestep": 705
         },
         {
          "duration": 6,
          "frequency": 118,
          "timestep": 705
         },
         {
          "duration": 7,
          "frequency": 76,
          "timestep": 705
         },
         {
          "duration": 8,
          "frequency": 45,
          "timestep": 705
         },
         {
          "duration": 9,
          "frequency": 32,
          "timestep": 705
         },
         {
          "duration": 10,
          "frequency": 15,
          "timestep": 705
         },
         {
          "duration": 11,
          "frequency": 13,
          "timestep": 705
         },
         {
          "duration": 12,
          "frequency": 17,
          "timestep": 705
         },
         {
          "duration": 13,
          "frequency": 9,
          "timestep": 705
         },
         {
          "duration": 14,
          "frequency": 12,
          "timestep": 705
         },
         {
          "duration": 15,
          "frequency": 6,
          "timestep": 705
         },
         {
          "duration": 16,
          "frequency": 8,
          "timestep": 705
         },
         {
          "duration": 17,
          "frequency": 3,
          "timestep": 705
         },
         {
          "duration": 18,
          "frequency": 5,
          "timestep": 705
         },
         {
          "duration": 19,
          "frequency": 5,
          "timestep": 705
         },
         {
          "duration": 20,
          "frequency": 7,
          "timestep": 705
         },
         {
          "duration": 21,
          "frequency": 2,
          "timestep": 705
         },
         {
          "duration": 22,
          "frequency": 4,
          "timestep": 705
         },
         {
          "duration": 23,
          "frequency": 6,
          "timestep": 705
         },
         {
          "duration": 24,
          "frequency": 3,
          "timestep": 705
         },
         {
          "duration": 25,
          "frequency": 6,
          "timestep": 705
         },
         {
          "duration": 26,
          "frequency": 7,
          "timestep": 705
         },
         {
          "duration": 27,
          "frequency": 3,
          "timestep": 705
         },
         {
          "duration": 28,
          "frequency": 2,
          "timestep": 705
         },
         {
          "duration": 29,
          "frequency": 6,
          "timestep": 705
         },
         {
          "duration": 30,
          "frequency": 4,
          "timestep": 705
         },
         {
          "duration": 31,
          "frequency": 1,
          "timestep": 705
         },
         {
          "duration": 32,
          "frequency": 3,
          "timestep": 705
         },
         {
          "duration": 33,
          "frequency": 1,
          "timestep": 705
         },
         {
          "duration": 35,
          "frequency": 2,
          "timestep": 705
         },
         {
          "duration": 36,
          "frequency": 3,
          "timestep": 705
         },
         {
          "duration": 37,
          "frequency": 4,
          "timestep": 705
         },
         {
          "duration": 38,
          "frequency": 2,
          "timestep": 705
         },
         {
          "duration": 39,
          "frequency": 3,
          "timestep": 705
         },
         {
          "duration": 40,
          "frequency": 2,
          "timestep": 705
         },
         {
          "duration": 41,
          "frequency": 1,
          "timestep": 705
         },
         {
          "duration": 42,
          "frequency": 1,
          "timestep": 705
         },
         {
          "duration": 43,
          "frequency": 2,
          "timestep": 705
         },
         {
          "duration": 44,
          "frequency": 2,
          "timestep": 705
         },
         {
          "duration": 46,
          "frequency": 3,
          "timestep": 705
         },
         {
          "duration": 47,
          "frequency": 1,
          "timestep": 705
         },
         {
          "duration": 48,
          "frequency": 1,
          "timestep": 705
         },
         {
          "duration": 51,
          "frequency": 3,
          "timestep": 705
         },
         {
          "duration": 52,
          "frequency": 1,
          "timestep": 705
         },
         {
          "duration": 53,
          "frequency": 1,
          "timestep": 705
         },
         {
          "duration": 54,
          "frequency": 1,
          "timestep": 705
         },
         {
          "duration": 55,
          "frequency": 2,
          "timestep": 705
         },
         {
          "duration": 56,
          "frequency": 1,
          "timestep": 705
         },
         {
          "duration": 59,
          "frequency": 1,
          "timestep": 705
         },
         {
          "duration": 60,
          "frequency": 1,
          "timestep": 705
         },
         {
          "duration": 61,
          "frequency": 1,
          "timestep": 705
         },
         {
          "duration": 62,
          "frequency": 1,
          "timestep": 705
         },
         {
          "duration": 63,
          "frequency": 1,
          "timestep": 705
         },
         {
          "duration": 64,
          "frequency": 1,
          "timestep": 705
         },
         {
          "duration": 67,
          "frequency": 1,
          "timestep": 705
         },
         {
          "duration": 72,
          "frequency": 1,
          "timestep": 705
         },
         {
          "duration": 88,
          "frequency": 1,
          "timestep": 705
         },
         {
          "duration": 101,
          "frequency": 1,
          "timestep": 705
         },
         {
          "duration": 1,
          "frequency": 16161,
          "timestep": 805
         },
         {
          "duration": 2,
          "frequency": 7010,
          "timestep": 805
         },
         {
          "duration": 3,
          "frequency": 1286,
          "timestep": 805
         },
         {
          "duration": 4,
          "frequency": 539,
          "timestep": 805
         },
         {
          "duration": 5,
          "frequency": 228,
          "timestep": 805
         },
         {
          "duration": 6,
          "frequency": 141,
          "timestep": 805
         },
         {
          "duration": 7,
          "frequency": 68,
          "timestep": 805
         },
         {
          "duration": 8,
          "frequency": 52,
          "timestep": 805
         },
         {
          "duration": 9,
          "frequency": 27,
          "timestep": 805
         },
         {
          "duration": 10,
          "frequency": 20,
          "timestep": 805
         },
         {
          "duration": 11,
          "frequency": 18,
          "timestep": 805
         },
         {
          "duration": 12,
          "frequency": 17,
          "timestep": 805
         },
         {
          "duration": 13,
          "frequency": 11,
          "timestep": 805
         },
         {
          "duration": 14,
          "frequency": 13,
          "timestep": 805
         },
         {
          "duration": 15,
          "frequency": 11,
          "timestep": 805
         },
         {
          "duration": 16,
          "frequency": 9,
          "timestep": 805
         },
         {
          "duration": 17,
          "frequency": 9,
          "timestep": 805
         },
         {
          "duration": 18,
          "frequency": 12,
          "timestep": 805
         },
         {
          "duration": 19,
          "frequency": 17,
          "timestep": 805
         },
         {
          "duration": 20,
          "frequency": 11,
          "timestep": 805
         },
         {
          "duration": 21,
          "frequency": 9,
          "timestep": 805
         },
         {
          "duration": 22,
          "frequency": 13,
          "timestep": 805
         },
         {
          "duration": 23,
          "frequency": 15,
          "timestep": 805
         },
         {
          "duration": 24,
          "frequency": 4,
          "timestep": 805
         },
         {
          "duration": 25,
          "frequency": 4,
          "timestep": 805
         },
         {
          "duration": 26,
          "frequency": 11,
          "timestep": 805
         },
         {
          "duration": 27,
          "frequency": 2,
          "timestep": 805
         },
         {
          "duration": 28,
          "frequency": 4,
          "timestep": 805
         },
         {
          "duration": 29,
          "frequency": 3,
          "timestep": 805
         },
         {
          "duration": 30,
          "frequency": 4,
          "timestep": 805
         },
         {
          "duration": 31,
          "frequency": 3,
          "timestep": 805
         },
         {
          "duration": 32,
          "frequency": 2,
          "timestep": 805
         },
         {
          "duration": 33,
          "frequency": 4,
          "timestep": 805
         },
         {
          "duration": 34,
          "frequency": 4,
          "timestep": 805
         },
         {
          "duration": 35,
          "frequency": 2,
          "timestep": 805
         },
         {
          "duration": 36,
          "frequency": 2,
          "timestep": 805
         },
         {
          "duration": 37,
          "frequency": 3,
          "timestep": 805
         },
         {
          "duration": 38,
          "frequency": 2,
          "timestep": 805
         },
         {
          "duration": 39,
          "frequency": 4,
          "timestep": 805
         },
         {
          "duration": 41,
          "frequency": 6,
          "timestep": 805
         },
         {
          "duration": 42,
          "frequency": 2,
          "timestep": 805
         },
         {
          "duration": 43,
          "frequency": 1,
          "timestep": 805
         },
         {
          "duration": 45,
          "frequency": 2,
          "timestep": 805
         },
         {
          "duration": 46,
          "frequency": 2,
          "timestep": 805
         },
         {
          "duration": 47,
          "frequency": 2,
          "timestep": 805
         },
         {
          "duration": 48,
          "frequency": 2,
          "timestep": 805
         },
         {
          "duration": 49,
          "frequency": 6,
          "timestep": 805
         },
         {
          "duration": 51,
          "frequency": 1,
          "timestep": 805
         },
         {
          "duration": 52,
          "frequency": 1,
          "timestep": 805
         },
         {
          "duration": 53,
          "frequency": 2,
          "timestep": 805
         },
         {
          "duration": 54,
          "frequency": 3,
          "timestep": 805
         },
         {
          "duration": 55,
          "frequency": 1,
          "timestep": 805
         },
         {
          "duration": 58,
          "frequency": 1,
          "timestep": 805
         },
         {
          "duration": 60,
          "frequency": 1,
          "timestep": 805
         },
         {
          "duration": 63,
          "frequency": 1,
          "timestep": 805
         },
         {
          "duration": 65,
          "frequency": 2,
          "timestep": 805
         },
         {
          "duration": 67,
          "frequency": 2,
          "timestep": 805
         },
         {
          "duration": 68,
          "frequency": 1,
          "timestep": 805
         },
         {
          "duration": 76,
          "frequency": 1,
          "timestep": 805
         },
         {
          "duration": 80,
          "frequency": 1,
          "timestep": 805
         },
         {
          "duration": 81,
          "frequency": 1,
          "timestep": 805
         },
         {
          "duration": 84,
          "frequency": 1,
          "timestep": 805
         },
         {
          "duration": 85,
          "frequency": 1,
          "timestep": 805
         },
         {
          "duration": 110,
          "frequency": 1,
          "timestep": 805
         },
         {
          "duration": 1,
          "frequency": 19797,
          "timestep": 905
         },
         {
          "duration": 2,
          "frequency": 5763,
          "timestep": 905
         },
         {
          "duration": 3,
          "frequency": 866,
          "timestep": 905
         },
         {
          "duration": 4,
          "frequency": 298,
          "timestep": 905
         },
         {
          "duration": 5,
          "frequency": 135,
          "timestep": 905
         },
         {
          "duration": 6,
          "frequency": 110,
          "timestep": 905
         },
         {
          "duration": 7,
          "frequency": 58,
          "timestep": 905
         },
         {
          "duration": 8,
          "frequency": 51,
          "timestep": 905
         },
         {
          "duration": 9,
          "frequency": 41,
          "timestep": 905
         },
         {
          "duration": 10,
          "frequency": 27,
          "timestep": 905
         },
         {
          "duration": 11,
          "frequency": 35,
          "timestep": 905
         },
         {
          "duration": 12,
          "frequency": 24,
          "timestep": 905
         },
         {
          "duration": 13,
          "frequency": 24,
          "timestep": 905
         },
         {
          "duration": 14,
          "frequency": 25,
          "timestep": 905
         },
         {
          "duration": 15,
          "frequency": 21,
          "timestep": 905
         },
         {
          "duration": 16,
          "frequency": 27,
          "timestep": 905
         },
         {
          "duration": 17,
          "frequency": 18,
          "timestep": 905
         },
         {
          "duration": 18,
          "frequency": 12,
          "timestep": 905
         },
         {
          "duration": 19,
          "frequency": 21,
          "timestep": 905
         },
         {
          "duration": 20,
          "frequency": 21,
          "timestep": 905
         },
         {
          "duration": 21,
          "frequency": 17,
          "timestep": 905
         },
         {
          "duration": 22,
          "frequency": 14,
          "timestep": 905
         },
         {
          "duration": 23,
          "frequency": 11,
          "timestep": 905
         },
         {
          "duration": 24,
          "frequency": 13,
          "timestep": 905
         },
         {
          "duration": 25,
          "frequency": 9,
          "timestep": 905
         },
         {
          "duration": 26,
          "frequency": 7,
          "timestep": 905
         },
         {
          "duration": 27,
          "frequency": 8,
          "timestep": 905
         },
         {
          "duration": 28,
          "frequency": 8,
          "timestep": 905
         },
         {
          "duration": 29,
          "frequency": 8,
          "timestep": 905
         },
         {
          "duration": 30,
          "frequency": 5,
          "timestep": 905
         },
         {
          "duration": 31,
          "frequency": 8,
          "timestep": 905
         },
         {
          "duration": 32,
          "frequency": 6,
          "timestep": 905
         },
         {
          "duration": 33,
          "frequency": 3,
          "timestep": 905
         },
         {
          "duration": 34,
          "frequency": 4,
          "timestep": 905
         },
         {
          "duration": 35,
          "frequency": 3,
          "timestep": 905
         },
         {
          "duration": 36,
          "frequency": 5,
          "timestep": 905
         },
         {
          "duration": 37,
          "frequency": 5,
          "timestep": 905
         },
         {
          "duration": 38,
          "frequency": 6,
          "timestep": 905
         },
         {
          "duration": 39,
          "frequency": 4,
          "timestep": 905
         },
         {
          "duration": 40,
          "frequency": 7,
          "timestep": 905
         },
         {
          "duration": 41,
          "frequency": 4,
          "timestep": 905
         },
         {
          "duration": 42,
          "frequency": 2,
          "timestep": 905
         },
         {
          "duration": 43,
          "frequency": 5,
          "timestep": 905
         },
         {
          "duration": 44,
          "frequency": 5,
          "timestep": 905
         },
         {
          "duration": 45,
          "frequency": 1,
          "timestep": 905
         },
         {
          "duration": 46,
          "frequency": 3,
          "timestep": 905
         },
         {
          "duration": 47,
          "frequency": 3,
          "timestep": 905
         },
         {
          "duration": 48,
          "frequency": 2,
          "timestep": 905
         },
         {
          "duration": 49,
          "frequency": 2,
          "timestep": 905
         },
         {
          "duration": 50,
          "frequency": 3,
          "timestep": 905
         },
         {
          "duration": 51,
          "frequency": 1,
          "timestep": 905
         },
         {
          "duration": 52,
          "frequency": 2,
          "timestep": 905
         },
         {
          "duration": 53,
          "frequency": 3,
          "timestep": 905
         },
         {
          "duration": 55,
          "frequency": 2,
          "timestep": 905
         },
         {
          "duration": 56,
          "frequency": 2,
          "timestep": 905
         },
         {
          "duration": 58,
          "frequency": 3,
          "timestep": 905
         },
         {
          "duration": 59,
          "frequency": 4,
          "timestep": 905
         },
         {
          "duration": 61,
          "frequency": 1,
          "timestep": 905
         },
         {
          "duration": 62,
          "frequency": 1,
          "timestep": 905
         },
         {
          "duration": 63,
          "frequency": 3,
          "timestep": 905
         },
         {
          "duration": 65,
          "frequency": 1,
          "timestep": 905
         },
         {
          "duration": 67,
          "frequency": 2,
          "timestep": 905
         },
         {
          "duration": 68,
          "frequency": 1,
          "timestep": 905
         },
         {
          "duration": 69,
          "frequency": 1,
          "timestep": 905
         },
         {
          "duration": 70,
          "frequency": 1,
          "timestep": 905
         },
         {
          "duration": 75,
          "frequency": 2,
          "timestep": 905
         },
         {
          "duration": 76,
          "frequency": 1,
          "timestep": 905
         },
         {
          "duration": 78,
          "frequency": 2,
          "timestep": 905
         },
         {
          "duration": 83,
          "frequency": 1,
          "timestep": 905
         },
         {
          "duration": 84,
          "frequency": 1,
          "timestep": 905
         },
         {
          "duration": 86,
          "frequency": 1,
          "timestep": 905
         },
         {
          "duration": 112,
          "frequency": 1,
          "timestep": 905
         },
         {
          "duration": 115,
          "frequency": 1,
          "timestep": 905
         },
         {
          "duration": 1,
          "frequency": 16779,
          "timestep": 1005
         },
         {
          "duration": 2,
          "frequency": 7506,
          "timestep": 1005
         },
         {
          "duration": 3,
          "frequency": 1576,
          "timestep": 1005
         },
         {
          "duration": 4,
          "frequency": 608,
          "timestep": 1005
         },
         {
          "duration": 5,
          "frequency": 291,
          "timestep": 1005
         },
         {
          "duration": 6,
          "frequency": 160,
          "timestep": 1005
         },
         {
          "duration": 7,
          "frequency": 77,
          "timestep": 1005
         },
         {
          "duration": 8,
          "frequency": 49,
          "timestep": 1005
         },
         {
          "duration": 9,
          "frequency": 36,
          "timestep": 1005
         },
         {
          "duration": 10,
          "frequency": 33,
          "timestep": 1005
         },
         {
          "duration": 11,
          "frequency": 22,
          "timestep": 1005
         },
         {
          "duration": 12,
          "frequency": 24,
          "timestep": 1005
         },
         {
          "duration": 13,
          "frequency": 15,
          "timestep": 1005
         },
         {
          "duration": 14,
          "frequency": 24,
          "timestep": 1005
         },
         {
          "duration": 15,
          "frequency": 20,
          "timestep": 1005
         },
         {
          "duration": 16,
          "frequency": 13,
          "timestep": 1005
         },
         {
          "duration": 17,
          "frequency": 11,
          "timestep": 1005
         },
         {
          "duration": 18,
          "frequency": 12,
          "timestep": 1005
         },
         {
          "duration": 19,
          "frequency": 11,
          "timestep": 1005
         },
         {
          "duration": 20,
          "frequency": 9,
          "timestep": 1005
         },
         {
          "duration": 21,
          "frequency": 10,
          "timestep": 1005
         },
         {
          "duration": 22,
          "frequency": 10,
          "timestep": 1005
         },
         {
          "duration": 23,
          "frequency": 11,
          "timestep": 1005
         },
         {
          "duration": 24,
          "frequency": 4,
          "timestep": 1005
         },
         {
          "duration": 25,
          "frequency": 6,
          "timestep": 1005
         },
         {
          "duration": 26,
          "frequency": 5,
          "timestep": 1005
         },
         {
          "duration": 27,
          "frequency": 2,
          "timestep": 1005
         },
         {
          "duration": 28,
          "frequency": 3,
          "timestep": 1005
         },
         {
          "duration": 29,
          "frequency": 5,
          "timestep": 1005
         },
         {
          "duration": 30,
          "frequency": 7,
          "timestep": 1005
         },
         {
          "duration": 32,
          "frequency": 2,
          "timestep": 1005
         },
         {
          "duration": 33,
          "frequency": 1,
          "timestep": 1005
         },
         {
          "duration": 34,
          "frequency": 4,
          "timestep": 1005
         },
         {
          "duration": 35,
          "frequency": 6,
          "timestep": 1005
         },
         {
          "duration": 36,
          "frequency": 3,
          "timestep": 1005
         },
         {
          "duration": 37,
          "frequency": 1,
          "timestep": 1005
         },
         {
          "duration": 38,
          "frequency": 2,
          "timestep": 1005
         },
         {
          "duration": 39,
          "frequency": 3,
          "timestep": 1005
         },
         {
          "duration": 40,
          "frequency": 3,
          "timestep": 1005
         },
         {
          "duration": 41,
          "frequency": 1,
          "timestep": 1005
         },
         {
          "duration": 42,
          "frequency": 2,
          "timestep": 1005
         },
         {
          "duration": 43,
          "frequency": 1,
          "timestep": 1005
         },
         {
          "duration": 44,
          "frequency": 3,
          "timestep": 1005
         },
         {
          "duration": 45,
          "frequency": 4,
          "timestep": 1005
         },
         {
          "duration": 46,
          "frequency": 1,
          "timestep": 1005
         },
         {
          "duration": 47,
          "frequency": 1,
          "timestep": 1005
         },
         {
          "duration": 50,
          "frequency": 1,
          "timestep": 1005
         },
         {
          "duration": 51,
          "frequency": 2,
          "timestep": 1005
         },
         {
          "duration": 52,
          "frequency": 1,
          "timestep": 1005
         },
         {
          "duration": 53,
          "frequency": 1,
          "timestep": 1005
         },
         {
          "duration": 54,
          "frequency": 4,
          "timestep": 1005
         },
         {
          "duration": 55,
          "frequency": 1,
          "timestep": 1005
         },
         {
          "duration": 56,
          "frequency": 3,
          "timestep": 1005
         },
         {
          "duration": 58,
          "frequency": 1,
          "timestep": 1005
         },
         {
          "duration": 59,
          "frequency": 1,
          "timestep": 1005
         },
         {
          "duration": 61,
          "frequency": 2,
          "timestep": 1005
         },
         {
          "duration": 62,
          "frequency": 1,
          "timestep": 1005
         },
         {
          "duration": 64,
          "frequency": 2,
          "timestep": 1005
         },
         {
          "duration": 76,
          "frequency": 1,
          "timestep": 1005
         },
         {
          "duration": 77,
          "frequency": 1,
          "timestep": 1005
         },
         {
          "duration": 1,
          "frequency": 18065,
          "timestep": 1105
         },
         {
          "duration": 2,
          "frequency": 7051,
          "timestep": 1105
         },
         {
          "duration": 3,
          "frequency": 924,
          "timestep": 1105
         },
         {
          "duration": 4,
          "frequency": 322,
          "timestep": 1105
         },
         {
          "duration": 5,
          "frequency": 163,
          "timestep": 1105
         },
         {
          "duration": 6,
          "frequency": 117,
          "timestep": 1105
         },
         {
          "duration": 7,
          "frequency": 88,
          "timestep": 1105
         },
         {
          "duration": 8,
          "frequency": 84,
          "timestep": 1105
         },
         {
          "duration": 9,
          "frequency": 35,
          "timestep": 1105
         },
         {
          "duration": 10,
          "frequency": 48,
          "timestep": 1105
         },
         {
          "duration": 11,
          "frequency": 30,
          "timestep": 1105
         },
         {
          "duration": 12,
          "frequency": 39,
          "timestep": 1105
         },
         {
          "duration": 13,
          "frequency": 23,
          "timestep": 1105
         },
         {
          "duration": 14,
          "frequency": 29,
          "timestep": 1105
         },
         {
          "duration": 15,
          "frequency": 25,
          "timestep": 1105
         },
         {
          "duration": 16,
          "frequency": 19,
          "timestep": 1105
         },
         {
          "duration": 17,
          "frequency": 19,
          "timestep": 1105
         },
         {
          "duration": 18,
          "frequency": 19,
          "timestep": 1105
         },
         {
          "duration": 19,
          "frequency": 12,
          "timestep": 1105
         },
         {
          "duration": 20,
          "frequency": 11,
          "timestep": 1105
         },
         {
          "duration": 21,
          "frequency": 13,
          "timestep": 1105
         },
         {
          "duration": 22,
          "frequency": 13,
          "timestep": 1105
         },
         {
          "duration": 23,
          "frequency": 9,
          "timestep": 1105
         },
         {
          "duration": 24,
          "frequency": 7,
          "timestep": 1105
         },
         {
          "duration": 25,
          "frequency": 6,
          "timestep": 1105
         },
         {
          "duration": 26,
          "frequency": 9,
          "timestep": 1105
         },
         {
          "duration": 27,
          "frequency": 8,
          "timestep": 1105
         },
         {
          "duration": 28,
          "frequency": 5,
          "timestep": 1105
         },
         {
          "duration": 29,
          "frequency": 2,
          "timestep": 1105
         },
         {
          "duration": 30,
          "frequency": 7,
          "timestep": 1105
         },
         {
          "duration": 31,
          "frequency": 10,
          "timestep": 1105
         },
         {
          "duration": 33,
          "frequency": 2,
          "timestep": 1105
         },
         {
          "duration": 34,
          "frequency": 3,
          "timestep": 1105
         },
         {
          "duration": 35,
          "frequency": 2,
          "timestep": 1105
         },
         {
          "duration": 36,
          "frequency": 3,
          "timestep": 1105
         },
         {
          "duration": 37,
          "frequency": 4,
          "timestep": 1105
         },
         {
          "duration": 38,
          "frequency": 5,
          "timestep": 1105
         },
         {
          "duration": 39,
          "frequency": 2,
          "timestep": 1105
         },
         {
          "duration": 40,
          "frequency": 3,
          "timestep": 1105
         },
         {
          "duration": 41,
          "frequency": 1,
          "timestep": 1105
         },
         {
          "duration": 42,
          "frequency": 6,
          "timestep": 1105
         },
         {
          "duration": 43,
          "frequency": 3,
          "timestep": 1105
         },
         {
          "duration": 44,
          "frequency": 1,
          "timestep": 1105
         },
         {
          "duration": 45,
          "frequency": 1,
          "timestep": 1105
         },
         {
          "duration": 46,
          "frequency": 1,
          "timestep": 1105
         },
         {
          "duration": 48,
          "frequency": 1,
          "timestep": 1105
         },
         {
          "duration": 49,
          "frequency": 2,
          "timestep": 1105
         },
         {
          "duration": 50,
          "frequency": 2,
          "timestep": 1105
         },
         {
          "duration": 51,
          "frequency": 2,
          "timestep": 1105
         },
         {
          "duration": 52,
          "frequency": 1,
          "timestep": 1105
         },
         {
          "duration": 54,
          "frequency": 1,
          "timestep": 1105
         },
         {
          "duration": 56,
          "frequency": 2,
          "timestep": 1105
         },
         {
          "duration": 62,
          "frequency": 1,
          "timestep": 1105
         },
         {
          "duration": 63,
          "frequency": 1,
          "timestep": 1105
         },
         {
          "duration": 64,
          "frequency": 1,
          "timestep": 1105
         },
         {
          "duration": 93,
          "frequency": 1,
          "timestep": 1105
         },
         {
          "duration": 99,
          "frequency": 1,
          "timestep": 1105
         },
         {
          "duration": 1,
          "frequency": 12439,
          "timestep": 1205
         },
         {
          "duration": 2,
          "frequency": 6556,
          "timestep": 1205
         },
         {
          "duration": 3,
          "frequency": 1968,
          "timestep": 1205
         },
         {
          "duration": 4,
          "frequency": 848,
          "timestep": 1205
         },
         {
          "duration": 5,
          "frequency": 440,
          "timestep": 1205
         },
         {
          "duration": 6,
          "frequency": 258,
          "timestep": 1205
         },
         {
          "duration": 7,
          "frequency": 113,
          "timestep": 1205
         },
         {
          "duration": 8,
          "frequency": 81,
          "timestep": 1205
         },
         {
          "duration": 9,
          "frequency": 32,
          "timestep": 1205
         },
         {
          "duration": 10,
          "frequency": 28,
          "timestep": 1205
         },
         {
          "duration": 11,
          "frequency": 21,
          "timestep": 1205
         },
         {
          "duration": 12,
          "frequency": 16,
          "timestep": 1205
         },
         {
          "duration": 13,
          "frequency": 12,
          "timestep": 1205
         },
         {
          "duration": 14,
          "frequency": 7,
          "timestep": 1205
         },
         {
          "duration": 15,
          "frequency": 11,
          "timestep": 1205
         },
         {
          "duration": 16,
          "frequency": 11,
          "timestep": 1205
         },
         {
          "duration": 17,
          "frequency": 7,
          "timestep": 1205
         },
         {
          "duration": 18,
          "frequency": 10,
          "timestep": 1205
         },
         {
          "duration": 19,
          "frequency": 14,
          "timestep": 1205
         },
         {
          "duration": 20,
          "frequency": 5,
          "timestep": 1205
         },
         {
          "duration": 21,
          "frequency": 8,
          "timestep": 1205
         },
         {
          "duration": 22,
          "frequency": 7,
          "timestep": 1205
         },
         {
          "duration": 23,
          "frequency": 7,
          "timestep": 1205
         },
         {
          "duration": 24,
          "frequency": 4,
          "timestep": 1205
         },
         {
          "duration": 25,
          "frequency": 3,
          "timestep": 1205
         },
         {
          "duration": 26,
          "frequency": 4,
          "timestep": 1205
         },
         {
          "duration": 27,
          "frequency": 2,
          "timestep": 1205
         },
         {
          "duration": 28,
          "frequency": 3,
          "timestep": 1205
         },
         {
          "duration": 29,
          "frequency": 2,
          "timestep": 1205
         },
         {
          "duration": 30,
          "frequency": 2,
          "timestep": 1205
         },
         {
          "duration": 31,
          "frequency": 6,
          "timestep": 1205
         },
         {
          "duration": 32,
          "frequency": 4,
          "timestep": 1205
         },
         {
          "duration": 33,
          "frequency": 5,
          "timestep": 1205
         },
         {
          "duration": 34,
          "frequency": 1,
          "timestep": 1205
         },
         {
          "duration": 35,
          "frequency": 2,
          "timestep": 1205
         },
         {
          "duration": 36,
          "frequency": 3,
          "timestep": 1205
         },
         {
          "duration": 38,
          "frequency": 1,
          "timestep": 1205
         },
         {
          "duration": 39,
          "frequency": 1,
          "timestep": 1205
         },
         {
          "duration": 40,
          "frequency": 2,
          "timestep": 1205
         },
         {
          "duration": 42,
          "frequency": 2,
          "timestep": 1205
         },
         {
          "duration": 43,
          "frequency": 2,
          "timestep": 1205
         },
         {
          "duration": 44,
          "frequency": 2,
          "timestep": 1205
         },
         {
          "duration": 45,
          "frequency": 3,
          "timestep": 1205
         },
         {
          "duration": 46,
          "frequency": 2,
          "timestep": 1205
         },
         {
          "duration": 48,
          "frequency": 1,
          "timestep": 1205
         },
         {
          "duration": 49,
          "frequency": 1,
          "timestep": 1205
         },
         {
          "duration": 52,
          "frequency": 1,
          "timestep": 1205
         },
         {
          "duration": 59,
          "frequency": 1,
          "timestep": 1205
         },
         {
          "duration": 65,
          "frequency": 1,
          "timestep": 1205
         },
         {
          "duration": 78,
          "frequency": 1,
          "timestep": 1205
         },
         {
          "duration": 1,
          "frequency": 13459,
          "timestep": 1305
         },
         {
          "duration": 2,
          "frequency": 5902,
          "timestep": 1305
         },
         {
          "duration": 3,
          "frequency": 1637,
          "timestep": 1305
         },
         {
          "duration": 4,
          "frequency": 748,
          "timestep": 1305
         },
         {
          "duration": 5,
          "frequency": 403,
          "timestep": 1305
         },
         {
          "duration": 6,
          "frequency": 225,
          "timestep": 1305
         },
         {
          "duration": 7,
          "frequency": 113,
          "timestep": 1305
         },
         {
          "duration": 8,
          "frequency": 72,
          "timestep": 1305
         },
         {
          "duration": 9,
          "frequency": 49,
          "timestep": 1305
         },
         {
          "duration": 10,
          "frequency": 46,
          "timestep": 1305
         },
         {
          "duration": 11,
          "frequency": 28,
          "timestep": 1305
         },
         {
          "duration": 12,
          "frequency": 29,
          "timestep": 1305
         },
         {
          "duration": 13,
          "frequency": 18,
          "timestep": 1305
         },
         {
          "duration": 14,
          "frequency": 27,
          "timestep": 1305
         },
         {
          "duration": 15,
          "frequency": 13,
          "timestep": 1305
         },
         {
          "duration": 16,
          "frequency": 17,
          "timestep": 1305
         },
         {
          "duration": 17,
          "frequency": 11,
          "timestep": 1305
         },
         {
          "duration": 18,
          "frequency": 15,
          "timestep": 1305
         },
         {
          "duration": 19,
          "frequency": 9,
          "timestep": 1305
         },
         {
          "duration": 20,
          "frequency": 16,
          "timestep": 1305
         },
         {
          "duration": 21,
          "frequency": 10,
          "timestep": 1305
         },
         {
          "duration": 22,
          "frequency": 3,
          "timestep": 1305
         },
         {
          "duration": 23,
          "frequency": 11,
          "timestep": 1305
         },
         {
          "duration": 24,
          "frequency": 9,
          "timestep": 1305
         },
         {
          "duration": 25,
          "frequency": 8,
          "timestep": 1305
         },
         {
          "duration": 26,
          "frequency": 4,
          "timestep": 1305
         },
         {
          "duration": 27,
          "frequency": 10,
          "timestep": 1305
         },
         {
          "duration": 28,
          "frequency": 2,
          "timestep": 1305
         },
         {
          "duration": 29,
          "frequency": 4,
          "timestep": 1305
         },
         {
          "duration": 30,
          "frequency": 5,
          "timestep": 1305
         },
         {
          "duration": 31,
          "frequency": 8,
          "timestep": 1305
         },
         {
          "duration": 32,
          "frequency": 2,
          "timestep": 1305
         },
         {
          "duration": 33,
          "frequency": 5,
          "timestep": 1305
         },
         {
          "duration": 34,
          "frequency": 3,
          "timestep": 1305
         },
         {
          "duration": 35,
          "frequency": 5,
          "timestep": 1305
         },
         {
          "duration": 36,
          "frequency": 3,
          "timestep": 1305
         },
         {
          "duration": 37,
          "frequency": 4,
          "timestep": 1305
         },
         {
          "duration": 38,
          "frequency": 4,
          "timestep": 1305
         },
         {
          "duration": 39,
          "frequency": 3,
          "timestep": 1305
         },
         {
          "duration": 40,
          "frequency": 3,
          "timestep": 1305
         },
         {
          "duration": 41,
          "frequency": 4,
          "timestep": 1305
         },
         {
          "duration": 42,
          "frequency": 1,
          "timestep": 1305
         },
         {
          "duration": 43,
          "frequency": 3,
          "timestep": 1305
         },
         {
          "duration": 44,
          "frequency": 1,
          "timestep": 1305
         },
         {
          "duration": 45,
          "frequency": 1,
          "timestep": 1305
         },
         {
          "duration": 47,
          "frequency": 1,
          "timestep": 1305
         },
         {
          "duration": 49,
          "frequency": 1,
          "timestep": 1305
         },
         {
          "duration": 51,
          "frequency": 1,
          "timestep": 1305
         },
         {
          "duration": 54,
          "frequency": 1,
          "timestep": 1305
         },
         {
          "duration": 56,
          "frequency": 1,
          "timestep": 1305
         },
         {
          "duration": 61,
          "frequency": 1,
          "timestep": 1305
         },
         {
          "duration": 1,
          "frequency": 16465,
          "timestep": 1405
         },
         {
          "duration": 2,
          "frequency": 5897,
          "timestep": 1405
         },
         {
          "duration": 3,
          "frequency": 1572,
          "timestep": 1405
         },
         {
          "duration": 4,
          "frequency": 715,
          "timestep": 1405
         },
         {
          "duration": 5,
          "frequency": 373,
          "timestep": 1405
         },
         {
          "duration": 6,
          "frequency": 166,
          "timestep": 1405
         },
         {
          "duration": 7,
          "frequency": 119,
          "timestep": 1405
         },
         {
          "duration": 8,
          "frequency": 59,
          "timestep": 1405
         },
         {
          "duration": 9,
          "frequency": 68,
          "timestep": 1405
         },
         {
          "duration": 10,
          "frequency": 51,
          "timestep": 1405
         },
         {
          "duration": 11,
          "frequency": 52,
          "timestep": 1405
         },
         {
          "duration": 12,
          "frequency": 46,
          "timestep": 1405
         },
         {
          "duration": 13,
          "frequency": 30,
          "timestep": 1405
         },
         {
          "duration": 14,
          "frequency": 22,
          "timestep": 1405
         },
         {
          "duration": 15,
          "frequency": 15,
          "timestep": 1405
         },
         {
          "duration": 16,
          "frequency": 25,
          "timestep": 1405
         },
         {
          "duration": 17,
          "frequency": 18,
          "timestep": 1405
         },
         {
          "duration": 18,
          "frequency": 15,
          "timestep": 1405
         },
         {
          "duration": 19,
          "frequency": 19,
          "timestep": 1405
         },
         {
          "duration": 20,
          "frequency": 19,
          "timestep": 1405
         },
         {
          "duration": 21,
          "frequency": 10,
          "timestep": 1405
         },
         {
          "duration": 22,
          "frequency": 13,
          "timestep": 1405
         },
         {
          "duration": 23,
          "frequency": 13,
          "timestep": 1405
         },
         {
          "duration": 24,
          "frequency": 21,
          "timestep": 1405
         },
         {
          "duration": 25,
          "frequency": 8,
          "timestep": 1405
         },
         {
          "duration": 26,
          "frequency": 11,
          "timestep": 1405
         },
         {
          "duration": 27,
          "frequency": 2,
          "timestep": 1405
         },
         {
          "duration": 28,
          "frequency": 8,
          "timestep": 1405
         },
         {
          "duration": 29,
          "frequency": 5,
          "timestep": 1405
         },
         {
          "duration": 30,
          "frequency": 6,
          "timestep": 1405
         },
         {
          "duration": 31,
          "frequency": 6,
          "timestep": 1405
         },
         {
          "duration": 32,
          "frequency": 3,
          "timestep": 1405
         },
         {
          "duration": 33,
          "frequency": 6,
          "timestep": 1405
         },
         {
          "duration": 34,
          "frequency": 3,
          "timestep": 1405
         },
         {
          "duration": 35,
          "frequency": 2,
          "timestep": 1405
         },
         {
          "duration": 36,
          "frequency": 6,
          "timestep": 1405
         },
         {
          "duration": 37,
          "frequency": 2,
          "timestep": 1405
         },
         {
          "duration": 38,
          "frequency": 4,
          "timestep": 1405
         },
         {
          "duration": 39,
          "frequency": 4,
          "timestep": 1405
         },
         {
          "duration": 40,
          "frequency": 2,
          "timestep": 1405
         },
         {
          "duration": 41,
          "frequency": 2,
          "timestep": 1405
         },
         {
          "duration": 42,
          "frequency": 1,
          "timestep": 1405
         },
         {
          "duration": 43,
          "frequency": 1,
          "timestep": 1405
         },
         {
          "duration": 44,
          "frequency": 2,
          "timestep": 1405
         },
         {
          "duration": 45,
          "frequency": 6,
          "timestep": 1405
         },
         {
          "duration": 46,
          "frequency": 1,
          "timestep": 1405
         },
         {
          "duration": 48,
          "frequency": 1,
          "timestep": 1405
         },
         {
          "duration": 50,
          "frequency": 1,
          "timestep": 1405
         },
         {
          "duration": 51,
          "frequency": 1,
          "timestep": 1405
         },
         {
          "duration": 52,
          "frequency": 2,
          "timestep": 1405
         },
         {
          "duration": 54,
          "frequency": 1,
          "timestep": 1405
         },
         {
          "duration": 61,
          "frequency": 1,
          "timestep": 1405
         },
         {
          "duration": 63,
          "frequency": 1,
          "timestep": 1405
         },
         {
          "duration": 79,
          "frequency": 2,
          "timestep": 1405
         }
        ]
       },
       "hconcat": [
        {
         "data": {
          "name": "data-7d81a1dfbbb4b6691b6e91bdee4cd2b0"
         },
         "encoding": {
          "color": {
           "condition": {
            "field": "timestep",
            "legend": null,
            "selection": "selector017",
            "type": "nominal"
           },
           "value": "#96989b"
          },
          "x": {
           "aggregate": "max",
           "field": "duration",
           "title": "max packet duration",
           "type": "quantitative"
          },
          "y": {
           "field": "timestep",
           "type": "nominal"
          }
         },
         "height": 500,
         "mark": "bar",
         "selection": {
          "selector017": {
           "empty": "all",
           "encodings": [
            "y"
           ],
           "on": "click",
           "resolve": "global",
           "toggle": "event.shiftKey",
           "type": "multi"
          }
         },
         "width": 250
        },
        {
         "data": {
          "name": "data-7d81a1dfbbb4b6691b6e91bdee4cd2b0"
         },
         "encoding": {
          "color": {
           "field": "timestep",
           "legend": null,
           "type": "nominal"
          },
          "x": {
           "field": "duration",
           "type": "quantitative"
          },
          "y": {
           "field": "frequency",
           "type": "quantitative"
          }
         },
         "height": 500,
         "mark": {
          "opacity": 0.5,
          "type": "bar"
         },
         "transform": [
          {
           "filter": {
            "selection": "selector017"
           }
          },
          {
           "filter": "(datum.duration > 25)"
          },
          {
           "filter": "(datum.duration < 200)"
          }
         ],
         "width": 800
        }
       ]
      },
      "image/png": "[encoded data removed]",
      "text/plain": [
       "<VegaLite 2 object>\n",
       "\n",
       "If you see this message, it means the renderer has not been properly enabled\n",
       "for the frontend that you are using. For more information, see\n",
       "https://altair-viz.github.io/user_guide/troubleshooting.html\n"
      ]
     },
     "execution_count": 160,
     "metadata": {},
     "output_type": "execute_result"
    }
   ],
   "source": [
    "sel_timestep = alt.selection_multi(encodings=['y'])\n",
    "\n",
    "bar_chart = alt.Chart(\n",
    "    full_df,\n",
    "    height=500,\n",
    "    width=250\n",
    ").mark_bar(\n",
    ").encode(\n",
    "    alt.X(\n",
    "        'max(duration):Q',\n",
    "        title='max packet duration'\n",
    "    ),\n",
    "    alt.Y(\n",
    "        'timestep:N',\n",
    "    ),\n",
    "    color=alt.condition(\n",
    "        sel_timestep,\n",
    "        'timestep:N',\n",
    "        alt.value('#96989b'),\n",
    "        legend=None\n",
    "    )\n",
    ").add_selection(\n",
    "    sel_timestep\n",
    ")\n",
    "#.configure(background='#abb2bf')\n",
    "\n",
    "\n",
    "\n",
    "detail_chart = alt.Chart(\n",
    "    full_df,\n",
    "    height=500,\n",
    "    width=800\n",
    ").mark_bar(\n",
    "    opacity=0.5\n",
    ").transform_filter(\n",
    "    sel_timestep\n",
    ").transform_filter(\n",
    "    datum.duration > 25\n",
    ").transform_filter(\n",
    "    datum.duration < 200\n",
    ").encode(\n",
    "    alt.X('duration:Q'),\n",
    "    alt.Y(\n",
    "        'frequency:Q', \n",
    "        #scale=alt.Scale(type='log')\n",
    "    ),\n",
    "    color=alt.Color('timestep:N', legend=None)\n",
    ")\n",
    "#.configure(background='#abb2bf')\n",
    "\n",
    "\n",
    "alt.hconcat(\n",
    "    bar_chart,\n",
    "    detail_chart,\n",
    "    background='#abb2bf'\n",
    ")"
   ]
  },
  {
   "cell_type": "code",
   "execution_count": null,
   "metadata": {},
   "outputs": [],
   "source": []
  },
  {
   "cell_type": "code",
   "execution_count": null,
   "metadata": {},
   "outputs": [],
   "source": []
  },
  {
   "cell_type": "code",
   "execution_count": null,
   "metadata": {},
   "outputs": [],
   "source": []
  },
  {
   "cell_type": "code",
   "execution_count": null,
   "metadata": {},
   "outputs": [],
   "source": []
  },
  {
   "cell_type": "code",
   "execution_count": null,
   "metadata": {},
   "outputs": [],
   "source": []
  },
  {
   "cell_type": "markdown",
   "metadata": {},
   "source": [
    "### mean, std vs timestep"
   ]
  },
  {
   "cell_type": "code",
   "execution_count": 102,
   "metadata": {},
   "outputs": [
    {
     "data": {
      "application/vnd.vegalite.v2+json": {
       "$schema": "https://vega.github.io/schema/vega-lite/v2.6.0.json",
       "background": "#abb2bf",
       "config": {
        "view": {
         "height": 300,
         "width": 400
        }
       },
       "datasets": {
        "data-8616d3771818128cdef2ab5585a04d35": [
         {
          "mean": 0.3993,
          "std": 0.14760903088903468,
          "timestep": 5
         },
         {
          "mean": 0.38649,
          "std": 0.20077170841530434,
          "timestep": 105
         },
         {
          "mean": 0.44593,
          "std": 0.1692238638608633,
          "timestep": 205
         },
         {
          "mean": 0.43933999999999995,
          "std": 0.16049654326495633,
          "timestep": 305
         },
         {
          "mean": 0.40871999999999997,
          "std": 0.1711745413313557,
          "timestep": 405
         },
         {
          "mean": 0.50403,
          "std": 0.0199685277374172,
          "timestep": 505
         },
         {
          "mean": 0.48143,
          "std": 0.09629103852384187,
          "timestep": 605
         },
         {
          "mean": 0.45919,
          "std": 0.12911991674408715,
          "timestep": 705
         },
         {
          "mean": 0.46579,
          "std": 0.12046742671776467,
          "timestep": 805
         },
         {
          "mean": 0.49506000000000006,
          "std": 0.08479300914580164,
          "timestep": 905
         },
         {
          "mean": 0.49623,
          "std": 0.08387339327820234,
          "timestep": 1005
         },
         {
          "mean": 0.47771,
          "std": 0.10587369314423674,
          "timestep": 1105
         },
         {
          "mean": 0.44988999999999996,
          "std": 0.10850309166102133,
          "timestep": 1205
         },
         {
          "mean": 0.45269,
          "std": 0.10259281115165916,
          "timestep": 1305
         },
         {
          "mean": 0.49775,
          "std": 0.0649161497625976,
          "timestep": 1405
         }
        ]
       },
       "layer": [
        {
         "data": {
          "name": "data-8616d3771818128cdef2ab5585a04d35"
         },
         "encoding": {
          "tooltip": [
           {
            "field": "timestep",
            "type": "quantitative"
           },
           {
            "field": "mean",
            "type": "quantitative"
           },
           {
            "field": "std",
            "format": "0.2f",
            "type": "quantitative"
           }
          ],
          "x": {
           "field": "timestep",
           "type": "quantitative"
          },
          "y": {
           "field": "mean",
           "type": "quantitative"
          }
         },
         "mark": "line",
         "selection": {
          "selector004": {
           "bind": "scales",
           "encodings": [
            "x",
            "y"
           ],
           "mark": {
            "fill": "#333",
            "fillOpacity": 0.125,
            "stroke": "white"
           },
           "on": "[mousedown, window:mouseup] > window:mousemove!",
           "resolve": "global",
           "translate": "[mousedown, window:mouseup] > window:mousemove!",
           "type": "interval",
           "zoom": "wheel!"
          }
         }
        },
        {
         "data": {
          "name": "data-8616d3771818128cdef2ab5585a04d35"
         },
         "encoding": {
          "tooltip": [
           {
            "field": "timestep",
            "type": "quantitative"
           },
           {
            "field": "mean",
            "type": "quantitative"
           },
           {
            "field": "std",
            "format": "0.2f",
            "type": "quantitative"
           }
          ],
          "x": {
           "field": "timestep",
           "type": "quantitative"
          },
          "y": {
           "field": "std",
           "type": "quantitative"
          }
         },
         "mark": "line"
        }
       ]
      },
      "image/png": "[encoded data removed]",
      "text/plain": [
       "<VegaLite 2 object>\n",
       "\n",
       "If you see this message, it means the renderer has not been properly enabled\n",
       "for the frontend that you are using. For more information, see\n",
       "https://altair-viz.github.io/user_guide/troubleshooting.html\n"
      ]
     },
     "execution_count": 102,
     "metadata": {},
     "output_type": "execute_result"
    }
   ],
   "source": [
    "base = alt.Chart(\n",
    "    stats_df\n",
    ").mark_line(\n",
    ").encode(\n",
    "    alt.X('timestep:Q'),\n",
    "    tooltip = [\n",
    "        alt.Tooltip('timestep:Q'),\n",
    "        alt.Tooltip('mean:Q'),\n",
    "        alt.Tooltip('std:Q', format='0.2f')\n",
    "    ]\n",
    ")\n",
    "\n",
    "alt.layer(\n",
    "    base.encode(alt.Y('mean:Q')),\n",
    "    base.encode(alt.Y('std:Q')),\n",
    "    background='#abb2bf'\n",
    ").interactive()"
   ]
  },
  {
   "cell_type": "code",
   "execution_count": null,
   "metadata": {},
   "outputs": [],
   "source": []
  },
  {
   "cell_type": "code",
   "execution_count": null,
   "metadata": {},
   "outputs": [],
   "source": []
  },
  {
   "cell_type": "code",
   "execution_count": null,
   "metadata": {},
   "outputs": [],
   "source": []
  },
  {
   "cell_type": "code",
   "execution_count": null,
   "metadata": {},
   "outputs": [],
   "source": []
  },
  {
   "cell_type": "code",
   "execution_count": null,
   "metadata": {},
   "outputs": [],
   "source": []
  },
  {
   "cell_type": "code",
   "execution_count": null,
   "metadata": {},
   "outputs": [],
   "source": []
  },
  {
   "cell_type": "markdown",
   "metadata": {},
   "source": [
    "## output"
   ]
  },
  {
   "cell_type": "markdown",
   "metadata": {},
   "source": [
    "#### write stats out"
   ]
  },
  {
   "cell_type": "code",
   "execution_count": null,
   "metadata": {},
   "outputs": [],
   "source": [
    "stats_list = [\n",
    "    {\n",
    "        'timestep': timestep,\n",
    "        'mean': stats['mean'],\n",
    "        'std': stats['std']\n",
    "    }\n",
    "    for timestep, stats in master_dictionary.items()\n",
    "]\n",
    "\n",
    "pd.DataFrame(stats_list)[['timestep','mean','std']].to_csv('data/t_matrix_stats.csv', index=False)"
   ]
  },
  {
   "cell_type": "markdown",
   "metadata": {},
   "source": [
    "#### write state lengths out"
   ]
  },
  {
   "cell_type": "code",
   "execution_count": null,
   "metadata": {},
   "outputs": [],
   "source": [
    "max_len = max(set(len(stats['state_lengths']) for i, (_, stats) in enumerate(master_dictionary.items())))\n",
    "\n",
    "state_length_matrix = np.zeros((tmat_df.shape[0], max_len))\n",
    "\n",
    "for i, (_, stats) in enumerate(master_dictionary.items()):\n",
    "    state_length_matrix[i,:(len(stats['state_lengths']))] = stats['state_lengths']"
   ]
  },
  {
   "cell_type": "code",
   "execution_count": null,
   "metadata": {},
   "outputs": [],
   "source": [
    "np.savetxt('data/all_state_lengths.csv', state_length_matrix, delimiter=',')"
   ]
  },
  {
   "cell_type": "code",
   "execution_count": null,
   "metadata": {},
   "outputs": [],
   "source": []
  },
  {
   "cell_type": "markdown",
   "metadata": {},
   "source": [
    "#### alternate save"
   ]
  },
  {
   "cell_type": "code",
   "execution_count": null,
   "metadata": {},
   "outputs": [],
   "source": [
    "import json\n",
    "path = 'data/all_t_matrix_results.json'\n",
    "\n",
    "try:\n",
    "    with open(path, 'w') as file:\n",
    "        json.dump(master_dictionary, file)\n",
    "    print(f'successfully saved file to:\\n{path}')\n",
    "except Exception as e:\n",
    "    print(f'uh oh, something went wrong\\n{e}')"
   ]
  },
  {
   "cell_type": "code",
   "execution_count": null,
   "metadata": {},
   "outputs": [],
   "source": []
  },
  {
   "cell_type": "code",
   "execution_count": null,
   "metadata": {},
   "outputs": [],
   "source": []
  },
  {
   "cell_type": "code",
   "execution_count": null,
   "metadata": {},
   "outputs": [],
   "source": []
  },
  {
   "cell_type": "code",
   "execution_count": null,
   "metadata": {},
   "outputs": [],
   "source": []
  },
  {
   "cell_type": "code",
   "execution_count": null,
   "metadata": {},
   "outputs": [],
   "source": []
  },
  {
   "cell_type": "code",
   "execution_count": null,
   "metadata": {},
   "outputs": [],
   "source": []
  },
  {
   "cell_type": "code",
   "execution_count": null,
   "metadata": {},
   "outputs": [],
   "source": []
  },
  {
   "cell_type": "code",
   "execution_count": null,
   "metadata": {},
   "outputs": [],
   "source": []
  },
  {
   "cell_type": "code",
   "execution_count": null,
   "metadata": {},
   "outputs": [],
   "source": []
  },
  {
   "cell_type": "code",
   "execution_count": null,
   "metadata": {},
   "outputs": [],
   "source": []
  },
  {
   "cell_type": "code",
   "execution_count": null,
   "metadata": {},
   "outputs": [],
   "source": []
  },
  {
   "cell_type": "markdown",
   "metadata": {},
   "source": [
    "## real data ref"
   ]
  },
  {
   "cell_type": "raw",
   "metadata": {},
   "source": [
    "data_list = generate_data_list(df)"
   ]
  },
  {
   "cell_type": "raw",
   "metadata": {},
   "source": [
    "state_lengths = get_state_length_list(data_list)\n",
    "print(f'unique state lengths:\\n{list(set(state_lengths))}')\n",
    "\n",
    "sl_counts = Counter(sorted(state_lengths))\n",
    "print(f'\\nstate length frequency:\\n{sl_counts.items()}')"
   ]
  },
  {
   "cell_type": "code",
   "execution_count": null,
   "metadata": {},
   "outputs": [],
   "source": []
  },
  {
   "cell_type": "code",
   "execution_count": null,
   "metadata": {},
   "outputs": [],
   "source": []
  },
  {
   "cell_type": "code",
   "execution_count": null,
   "metadata": {},
   "outputs": [],
   "source": []
  },
  {
   "cell_type": "code",
   "execution_count": null,
   "metadata": {},
   "outputs": [],
   "source": []
  }
 ],
 "metadata": {
  "kernelspec": {
   "display_name": "Python 3",
   "language": "python",
   "name": "python3"
  },
  "language_info": {
   "codemirror_mode": {
    "name": "ipython",
    "version": 3
   },
   "file_extension": ".py",
   "mimetype": "text/x-python",
   "name": "python",
   "nbconvert_exporter": "python",
   "pygments_lexer": "ipython3",
   "version": "3.6.7"
  },
  "toc-autonumbering": false
 },
 "nbformat": 4,
 "nbformat_minor": 2
}
