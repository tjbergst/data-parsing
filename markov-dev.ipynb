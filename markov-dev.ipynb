{
 "cells": [
  {
   "cell_type": "markdown",
   "metadata": {},
   "source": [
    "# zerina project"
   ]
  },
  {
   "cell_type": "markdown",
   "metadata": {},
   "source": [
    "## setup"
   ]
  },
  {
   "cell_type": "code",
   "execution_count": 4,
   "metadata": {},
   "outputs": [],
   "source": [
    "import pandas as pd\n",
    "import numpy as np\n",
    "import scipy\n",
    "from tqdm import tqdm_notebook, tnrange\n",
    "\n",
    "from sklearn.pipeline import make_pipeline\n",
    "from sklearn.model_selection import train_test_split\n",
    "\n",
    "from sklearn.preprocessing import StandardScaler\n",
    "from sklearn.preprocessing import MinMaxScaler\n",
    "\n",
    "from keras.models import Sequential\n",
    "from keras.layers import Dense\n",
    "from keras.layers import LSTM"
   ]
  },
  {
   "cell_type": "code",
   "execution_count": null,
   "metadata": {},
   "outputs": [],
   "source": []
  },
  {
   "cell_type": "markdown",
   "metadata": {},
   "source": [
    "## data processing"
   ]
  },
  {
   "cell_type": "markdown",
   "metadata": {},
   "source": [
    "### transition matrices"
   ]
  },
  {
   "cell_type": "code",
   "execution_count": 107,
   "metadata": {},
   "outputs": [
    {
     "data": {
      "text/html": [
       "<div>\n",
       "<style scoped>\n",
       "    .dataframe tbody tr th:only-of-type {\n",
       "        vertical-align: middle;\n",
       "    }\n",
       "\n",
       "    .dataframe tbody tr th {\n",
       "        vertical-align: top;\n",
       "    }\n",
       "\n",
       "    .dataframe thead th {\n",
       "        text-align: right;\n",
       "    }\n",
       "</style>\n",
       "<table border=\"1\" class=\"dataframe\">\n",
       "  <thead>\n",
       "    <tr style=\"text-align: right;\">\n",
       "      <th></th>\n",
       "      <th>OnOn</th>\n",
       "      <th>OnOff</th>\n",
       "      <th>OffOff</th>\n",
       "      <th>OffOn</th>\n",
       "      <th>timestep</th>\n",
       "    </tr>\n",
       "  </thead>\n",
       "  <tbody>\n",
       "    <tr>\n",
       "      <th>0</th>\n",
       "      <td>0.99546</td>\n",
       "      <td>0.004543</td>\n",
       "      <td>0.002411</td>\n",
       "      <td>0.99759</td>\n",
       "      <td>1</td>\n",
       "    </tr>\n",
       "    <tr>\n",
       "      <th>1</th>\n",
       "      <td>0.95586</td>\n",
       "      <td>0.044138</td>\n",
       "      <td>0.025682</td>\n",
       "      <td>0.97432</td>\n",
       "      <td>11</td>\n",
       "    </tr>\n",
       "    <tr>\n",
       "      <th>2</th>\n",
       "      <td>0.93161</td>\n",
       "      <td>0.068395</td>\n",
       "      <td>0.043521</td>\n",
       "      <td>0.95648</td>\n",
       "      <td>21</td>\n",
       "    </tr>\n",
       "    <tr>\n",
       "      <th>3</th>\n",
       "      <td>0.90886</td>\n",
       "      <td>0.091141</td>\n",
       "      <td>0.062781</td>\n",
       "      <td>0.93722</td>\n",
       "      <td>31</td>\n",
       "    </tr>\n",
       "    <tr>\n",
       "      <th>4</th>\n",
       "      <td>0.91697</td>\n",
       "      <td>0.083027</td>\n",
       "      <td>0.059557</td>\n",
       "      <td>0.94044</td>\n",
       "      <td>41</td>\n",
       "    </tr>\n",
       "  </tbody>\n",
       "</table>\n",
       "</div>"
      ],
      "text/plain": [
       "      OnOn     OnOff    OffOff    OffOn  timestep\n",
       "0  0.99546  0.004543  0.002411  0.99759         1\n",
       "1  0.95586  0.044138  0.025682  0.97432        11\n",
       "2  0.93161  0.068395  0.043521  0.95648        21\n",
       "3  0.90886  0.091141  0.062781  0.93722        31\n",
       "4  0.91697  0.083027  0.059557  0.94044        41"
      ]
     },
     "execution_count": 107,
     "metadata": {},
     "output_type": "execute_result"
    }
   ],
   "source": [
    "tmat_file = 'data/wifi_t_matrices.csv'\n",
    "\n",
    "tmat_df = (\n",
    "    pd\n",
    "    .read_csv(\n",
    "        tmat_file, \n",
    "        names=['OnOn','OnOff','OffOn','OffOff','timestep']\n",
    "    )\n",
    "    [['OnOn', 'OnOff', 'OffOff', 'OffOn', 'timestep']]\n",
    ")\n",
    "\n",
    "tmat_df.head()"
   ]
  },
  {
   "cell_type": "markdown",
   "metadata": {},
   "source": [
    "### read csv and preprocess"
   ]
  },
  {
   "cell_type": "code",
   "execution_count": 3,
   "metadata": {},
   "outputs": [
    {
     "data": {
      "text/html": [
       "<div>\n",
       "<style scoped>\n",
       "    .dataframe tbody tr th:only-of-type {\n",
       "        vertical-align: middle;\n",
       "    }\n",
       "\n",
       "    .dataframe tbody tr th {\n",
       "        vertical-align: top;\n",
       "    }\n",
       "\n",
       "    .dataframe thead th {\n",
       "        text-align: right;\n",
       "    }\n",
       "</style>\n",
       "<table border=\"1\" class=\"dataframe\">\n",
       "  <thead>\n",
       "    <tr style=\"text-align: right;\">\n",
       "      <th></th>\n",
       "      <th>time</th>\n",
       "      <th>length</th>\n",
       "      <th>rate</th>\n",
       "      <th>on_time</th>\n",
       "      <th>end_time</th>\n",
       "      <th>off_time</th>\n",
       "    </tr>\n",
       "  </thead>\n",
       "  <tbody>\n",
       "    <tr>\n",
       "      <th>0</th>\n",
       "      <td>0.0</td>\n",
       "      <td>1352</td>\n",
       "      <td>6000000.0</td>\n",
       "      <td>225.0</td>\n",
       "      <td>225.0</td>\n",
       "      <td>0.0</td>\n",
       "    </tr>\n",
       "    <tr>\n",
       "      <th>1</th>\n",
       "      <td>36341.0</td>\n",
       "      <td>312</td>\n",
       "      <td>24000000.0</td>\n",
       "      <td>13.0</td>\n",
       "      <td>36354.0</td>\n",
       "      <td>36116.0</td>\n",
       "    </tr>\n",
       "    <tr>\n",
       "      <th>2</th>\n",
       "      <td>39469.0</td>\n",
       "      <td>312</td>\n",
       "      <td>24000000.0</td>\n",
       "      <td>13.0</td>\n",
       "      <td>39482.0</td>\n",
       "      <td>3115.0</td>\n",
       "    </tr>\n",
       "    <tr>\n",
       "      <th>3</th>\n",
       "      <td>49356.0</td>\n",
       "      <td>2288</td>\n",
       "      <td>1000000.0</td>\n",
       "      <td>2288.0</td>\n",
       "      <td>51644.0</td>\n",
       "      <td>9874.0</td>\n",
       "    </tr>\n",
       "    <tr>\n",
       "      <th>4</th>\n",
       "      <td>50556.0</td>\n",
       "      <td>1008</td>\n",
       "      <td>1000000.0</td>\n",
       "      <td>1008.0</td>\n",
       "      <td>51564.0</td>\n",
       "      <td>0.0</td>\n",
       "    </tr>\n",
       "    <tr>\n",
       "      <th>5</th>\n",
       "      <td>64737.0</td>\n",
       "      <td>6584</td>\n",
       "      <td>6000000.0</td>\n",
       "      <td>1097.0</td>\n",
       "      <td>65834.0</td>\n",
       "      <td>13173.0</td>\n",
       "    </tr>\n",
       "    <tr>\n",
       "      <th>6</th>\n",
       "      <td>82497.0</td>\n",
       "      <td>312</td>\n",
       "      <td>24000000.0</td>\n",
       "      <td>13.0</td>\n",
       "      <td>82510.0</td>\n",
       "      <td>16663.0</td>\n",
       "    </tr>\n",
       "    <tr>\n",
       "      <th>7</th>\n",
       "      <td>85683.0</td>\n",
       "      <td>312</td>\n",
       "      <td>24000000.0</td>\n",
       "      <td>13.0</td>\n",
       "      <td>85696.0</td>\n",
       "      <td>3173.0</td>\n",
       "    </tr>\n",
       "    <tr>\n",
       "      <th>8</th>\n",
       "      <td>101354.0</td>\n",
       "      <td>312</td>\n",
       "      <td>6000000.0</td>\n",
       "      <td>52.0</td>\n",
       "      <td>101406.0</td>\n",
       "      <td>15658.0</td>\n",
       "    </tr>\n",
       "    <tr>\n",
       "      <th>9</th>\n",
       "      <td>103643.0</td>\n",
       "      <td>456</td>\n",
       "      <td>12000000.0</td>\n",
       "      <td>38.0</td>\n",
       "      <td>103681.0</td>\n",
       "      <td>2237.0</td>\n",
       "    </tr>\n",
       "  </tbody>\n",
       "</table>\n",
       "</div>"
      ],
      "text/plain": [
       "       time  length        rate  on_time  end_time  off_time\n",
       "0       0.0    1352   6000000.0    225.0     225.0       0.0\n",
       "1   36341.0     312  24000000.0     13.0   36354.0   36116.0\n",
       "2   39469.0     312  24000000.0     13.0   39482.0    3115.0\n",
       "3   49356.0    2288   1000000.0   2288.0   51644.0    9874.0\n",
       "4   50556.0    1008   1000000.0   1008.0   51564.0       0.0\n",
       "5   64737.0    6584   6000000.0   1097.0   65834.0   13173.0\n",
       "6   82497.0     312  24000000.0     13.0   82510.0   16663.0\n",
       "7   85683.0     312  24000000.0     13.0   85696.0    3173.0\n",
       "8  101354.0     312   6000000.0     52.0  101406.0   15658.0\n",
       "9  103643.0     456  12000000.0     38.0  103681.0    2237.0"
      ]
     },
     "execution_count": 3,
     "metadata": {},
     "output_type": "execute_result"
    }
   ],
   "source": [
    "tar_file = r'data/wifitrafficstats2.csv'\n",
    "#tar_file = r'data/wifitrafficstats3.csv'\n",
    "#tar_file = r'data/wifitrafficstats4.csv'\n",
    "#tar_file = r'data/wifitrafficstats5.csv'\n",
    "#tar_file = r'data/wifitrafficstats6.csv'\n",
    "\n",
    "df = (\n",
    "    pd\n",
    "    .read_csv(tar_file)\n",
    "    .rename({ \n",
    "        'Time':'time', \n",
    "        'Length':'length', \n",
    "        'TX Rate':'rate'\n",
    "    }, axis=1)\n",
    "    .eval('time = time * 1e6')\n",
    "    .eval('rate = rate * 1e6')\n",
    "    .eval('length = length * 8')\n",
    "    .eval('on_time = 1e6 * length / rate')\n",
    "    .eval('end_time = time + on_time')\n",
    "    .assign(\n",
    "        shift_time = lambda x: x.end_time.shift(1),\n",
    "        off_time = lambda x: [\n",
    "            (time - shift_time) \n",
    "                if (time - shift_time) > 0 else 0 \n",
    "            for time, shift_time in (zip(x.time, x.shift_time))\n",
    "    ])\n",
    "    .drop(['No.','Delta Time','shift_time'], axis=1)\n",
    "    .round(0)\n",
    ")\n",
    "\n",
    "\n",
    "\n",
    "df.head(10)"
   ]
  },
  {
   "cell_type": "markdown",
   "metadata": {},
   "source": [
    "### generate data list of `1`'s and `0`'s"
   ]
  },
  {
   "cell_type": "code",
   "execution_count": 5,
   "metadata": {},
   "outputs": [],
   "source": [
    "def generate_data_list(df):\n",
    "    '''\n",
    "    takes dataframe with 'on_time' and 'off_time' time stamp columns \n",
    "    and returns a numpy array of 1's (on_time) and 0's (off_time)\n",
    "    '''\n",
    "    \n",
    "    data_list = []\n",
    "\n",
    "    for row in tqdm_notebook(df[['on_time','off_time']].iloc[1:].itertuples(), total=df.shape[0]-1):\n",
    "        data_list.extend([1 for i in range(int(row.on_time))])\n",
    "        data_list.extend([0 for i in range(int(row.off_time))])\n",
    "    \n",
    "    return np.array(data_list, copy=True)"
   ]
  },
  {
   "cell_type": "code",
   "execution_count": null,
   "metadata": {},
   "outputs": [],
   "source": []
  },
  {
   "cell_type": "markdown",
   "metadata": {},
   "source": [
    "## compute statistics "
   ]
  },
  {
   "cell_type": "markdown",
   "metadata": {},
   "source": [
    "### fast get all state lengths"
   ]
  },
  {
   "cell_type": "code",
   "execution_count": 13,
   "metadata": {},
   "outputs": [],
   "source": [
    "def get_state_length_list(data):\n",
    "    '''\n",
    "    takes data list ([1,1,0,1,0,0,...]) and returns numpy array \n",
    "    of duration of consecutive bits ([13,245,2588,19,1056,...])\n",
    "    '''\n",
    "    \n",
    "    data = np.array(data)    \n",
    "    \n",
    "    return np.diff(\n",
    "        np.where(\n",
    "            np.concatenate(\n",
    "                ([data[0]],\n",
    "                 data[:-1] != data[1:],\n",
    "                 [0]\n",
    "                )\n",
    "            )\n",
    "        )[0]\n",
    "    )[::2]"
   ]
  },
  {
   "cell_type": "code",
   "execution_count": null,
   "metadata": {},
   "outputs": [],
   "source": []
  },
  {
   "cell_type": "markdown",
   "metadata": {},
   "source": [
    "## data simulator"
   ]
  },
  {
   "cell_type": "code",
   "execution_count": 39,
   "metadata": {},
   "outputs": [],
   "source": [
    "from itertools import cycle"
   ]
  },
  {
   "cell_type": "code",
   "execution_count": null,
   "metadata": {},
   "outputs": [],
   "source": [
    "tmat_df.head(10)"
   ]
  },
  {
   "cell_type": "markdown",
   "metadata": {},
   "source": [
    "### setup"
   ]
  },
  {
   "cell_type": "code",
   "execution_count": 109,
   "metadata": {},
   "outputs": [],
   "source": [
    "state_cycler = cycle(transition_matrix)\n",
    "    \n",
    "cycle_dict = {\n",
    "    (1,1,1): 0,\n",
    "    (1,1,0): 1,\n",
    "    (1,0,1): 2,\n",
    "    (1,0,0): 1,\n",
    "    (0,1,1): 1,\n",
    "    (0,1,0): 2,\n",
    "    (0,0,1): 1,\n",
    "    (0,0,0): 0,\n",
    "}\n",
    "\n",
    "global p\n",
    "p = 1\n",
    "\n",
    "def cycle_states():\n",
    "    return next(state_cycler)\n",
    "\n",
    "def generate_bit(n):\n",
    "    global p\n",
    "    \n",
    "    if n == 0:\n",
    "        print(p)\n",
    "        return np.random.binomial(1, p)\n",
    "        \n",
    "    else:\n",
    "        for i in range(n):\n",
    "            p = cycle_states()\n",
    "        \n",
    "        print(p)\n",
    "        return np.random.binomial(1, p)"
   ]
  },
  {
   "cell_type": "code",
   "execution_count": 137,
   "metadata": {},
   "outputs": [
    {
     "name": "stdout",
     "output_type": "stream",
     "text": [
      "0.99546\n"
     ]
    },
    {
     "data": {
      "text/plain": [
       "1"
      ]
     },
     "execution_count": 137,
     "metadata": {},
     "output_type": "execute_result"
    }
   ],
   "source": [
    "generate_bit(0)"
   ]
  },
  {
   "cell_type": "code",
   "execution_count": 127,
   "metadata": {},
   "outputs": [
    {
     "data": {
      "text/plain": [
       "array([0.99546  , 0.0045434, 0.0024107, 0.99759  ])"
      ]
     },
     "execution_count": 127,
     "metadata": {},
     "output_type": "execute_result"
    }
   ],
   "source": [
    "transition_matrix"
   ]
  },
  {
   "cell_type": "code",
   "execution_count": null,
   "metadata": {},
   "outputs": [],
   "source": []
  },
  {
   "cell_type": "code",
   "execution_count": 140,
   "metadata": {},
   "outputs": [],
   "source": [
    "def generate_sim_data(n_samples, transition_matrix):\n",
    "    '''\n",
    "    takes a transition matrix and generates a simulated signal\n",
    "    of size <length>\n",
    "    '''\n",
    "    \n",
    "    state_cycler = cycle(transition_matrix)\n",
    "    \n",
    "    cycle_dict = {\n",
    "        (1,1,1): 0,\n",
    "        (1,1,0): 1,\n",
    "        (1,0,1): 2,\n",
    "        (1,0,0): 1,\n",
    "        (0,1,1): 1,\n",
    "        (0,1,0): 2,\n",
    "        (0,0,1): 1,\n",
    "        (0,0,0): 0,\n",
    "    }\n",
    "    \n",
    "    global p\n",
    "    p = 1\n",
    "    sim_data = [1,1,1]  \n",
    "    \n",
    "    def cycle_states():\n",
    "        return next(state_cycler)\n",
    "    \n",
    "    def generate_bit(n):\n",
    "        global p\n",
    "        \n",
    "        if n == 0:\n",
    "            print(p)\n",
    "            return np.random.binomial(1, p)\n",
    "            \n",
    "        else:\n",
    "            for i in range(n):\n",
    "                p = cycle_states()\n",
    "            \n",
    "            print(p)\n",
    "            return np.random.binomial(1, p)\n",
    "        \n",
    "    for i in range(n_samples+3):        \n",
    "        new_bit = generate_bit(cycle_dict[sim_data[-3:]])        \n",
    "        sim_data.append(new_bit)        \n",
    "        \n",
    "    return np.array(sim_data[3:])\n",
    "    "
   ]
  },
  {
   "cell_type": "code",
   "execution_count": 108,
   "metadata": {},
   "outputs": [],
   "source": [
    "transition_matrix = tmat_df.iloc[0,:4].values"
   ]
  },
  {
   "cell_type": "code",
   "execution_count": null,
   "metadata": {},
   "outputs": [],
   "source": []
  },
  {
   "cell_type": "code",
   "execution_count": null,
   "metadata": {},
   "outputs": [],
   "source": []
  },
  {
   "cell_type": "code",
   "execution_count": null,
   "metadata": {},
   "outputs": [],
   "source": []
  },
  {
   "cell_type": "code",
   "execution_count": null,
   "metadata": {},
   "outputs": [],
   "source": []
  },
  {
   "cell_type": "markdown",
   "metadata": {},
   "source": [
    "### execution"
   ]
  },
  {
   "cell_type": "code",
   "execution_count": 7,
   "metadata": {},
   "outputs": [
    {
     "data": {
      "text/plain": [
       "(100, 100000)"
      ]
     },
     "execution_count": 7,
     "metadata": {},
     "output_type": "execute_result"
    }
   ],
   "source": [
    "trials = 100\n",
    "length = 100000\n",
    "\n",
    "sim_matrix = np.zeros((trials, length))\n",
    "sim_matrix.shape"
   ]
  },
  {
   "cell_type": "code",
   "execution_count": 8,
   "metadata": {},
   "outputs": [
    {
     "data": {
      "application/vnd.jupyter.widget-view+json": {
       "model_id": "420fb6c278544461bed2db66cc22be3e",
       "version_major": 2,
       "version_minor": 0
      },
      "text/plain": [
       "HBox(children=(IntProgress(value=0), HTML(value='')))"
      ]
     },
     "metadata": {},
     "output_type": "display_data"
    },
    {
     "name": "stdout",
     "output_type": "stream",
     "text": [
      "\n"
     ]
    }
   ],
   "source": [
    "for i in tnrange(trials):\n",
    "    sim_matrix[i,:] = generate_sim_data(length, tmat_df)"
   ]
  },
  {
   "cell_type": "code",
   "execution_count": null,
   "metadata": {},
   "outputs": [],
   "source": []
  },
  {
   "cell_type": "code",
   "execution_count": null,
   "metadata": {},
   "outputs": [],
   "source": []
  },
  {
   "cell_type": "markdown",
   "metadata": {},
   "source": [
    "### stats"
   ]
  },
  {
   "cell_type": "code",
   "execution_count": 24,
   "metadata": {},
   "outputs": [],
   "source": [
    "from collections import Counter"
   ]
  },
  {
   "cell_type": "code",
   "execution_count": 23,
   "metadata": {},
   "outputs": [
    {
     "name": "stdout",
     "output_type": "stream",
     "text": [
      "normalized mean: 0.4997\n",
      "standard deviation: 596.6634\n"
     ]
    }
   ],
   "source": [
    "stats = sim_matrix.sum(axis=1)\n",
    "\n",
    "print(f'normalized mean: {np.mean(stats) / length:0.4f}')\n",
    "print(f'standard deviation: {np.std(stats):0.4f}')"
   ]
  },
  {
   "cell_type": "code",
   "execution_count": 35,
   "metadata": {},
   "outputs": [
    {
     "name": "stdout",
     "output_type": "stream",
     "text": [
      "unique state lengths:\n",
      "[1, 2, 3, 4, 5, 6, 7, 8, 9, 10, 11, 12, 13, 14, 15, 16, 17, 18, 19, 20, 21, 22, 23, 24, 25, 26, 27, 28, 29, 30, 31, 32, 33, 34, 35, 36, 37, 38, 39, 40, 41, 42, 43, 44, 45, 46, 47, 48, 49, 50, 51, 52, 53, 56, 57, 58, 59, 61, 63, 64, 65, 67, 68, 72, 73]\n",
      "\n",
      "state length frequency:\n",
      "dict_items([(1, 23318), (2, 163), (3, 161), (4, 136), (5, 121), (6, 113), (7, 106), (8, 86), (9, 86), (10, 74), (11, 86), (12, 61), (13, 50), (14, 60), (15, 47), (16, 42), (17, 39), (18, 48), (19, 40), (20, 34), (21, 25), (22, 29), (23, 30), (24, 26), (25, 31), (26, 21), (27, 28), (28, 18), (29, 9), (30, 18), (31, 11), (32, 12), (33, 14), (34, 11), (35, 11), (36, 13), (37, 9), (38, 4), (39, 12), (40, 8), (41, 4), (42, 7), (43, 13), (44, 4), (45, 4), (46, 5), (47, 3), (48, 4), (49, 4), (50, 2), (51, 2), (52, 2), (53, 1), (56, 1), (57, 2), (58, 2), (59, 1), (61, 2), (63, 1), (64, 1), (65, 1), (67, 1), (68, 1), (72, 1), (73, 1)])\n"
     ]
    }
   ],
   "source": [
    "state_lengths = get_state_length_list(sim_matrix[0,:])\n",
    "print(f'unique state lengths:\\n{list(set(state_lengths))}')\n",
    "\n",
    "sl_counts = Counter(sorted(state_lengths))\n",
    "print(f'\\nstate length frequency:\\n{sl_counts.items()}')"
   ]
  },
  {
   "cell_type": "code",
   "execution_count": null,
   "metadata": {},
   "outputs": [],
   "source": []
  },
  {
   "cell_type": "code",
   "execution_count": null,
   "metadata": {},
   "outputs": [],
   "source": []
  },
  {
   "cell_type": "code",
   "execution_count": null,
   "metadata": {},
   "outputs": [],
   "source": []
  },
  {
   "cell_type": "code",
   "execution_count": null,
   "metadata": {},
   "outputs": [],
   "source": []
  },
  {
   "cell_type": "code",
   "execution_count": null,
   "metadata": {},
   "outputs": [],
   "source": []
  }
 ],
 "metadata": {
  "kernelspec": {
   "display_name": "Python 3",
   "language": "python",
   "name": "python3"
  },
  "language_info": {
   "codemirror_mode": {
    "name": "ipython",
    "version": 3
   },
   "file_extension": ".py",
   "mimetype": "text/x-python",
   "name": "python",
   "nbconvert_exporter": "python",
   "pygments_lexer": "ipython3",
   "version": "3.6.5"
  },
  "toc-autonumbering": false
 },
 "nbformat": 4,
 "nbformat_minor": 2
}
